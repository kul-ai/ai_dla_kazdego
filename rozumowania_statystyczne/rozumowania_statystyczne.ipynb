{
 "cells": [
  {
   "cell_type": "markdown",
   "metadata": {
    "id": "uc_w0r9MYcJr"
   },
   "source": [
    "# Rachunek prawdopodobieństwa i rozumowania statystyczne"
   ]
  },
  {
   "cell_type": "markdown",
   "metadata": {
    "id": "W_w3UGRLYt-O"
   },
   "source": [
    "## Wstęp"
   ]
  },
  {
   "cell_type": "markdown",
   "metadata": {
    "id": "SryrsukfY2BH"
   },
   "source": [
    "### Plan\n",
    "\n",
    "Generator liczb losowych\n",
    "\n",
    "jhfj\n",
    "\n",
    "\n",
    "jhfjh\n",
    "\n",
    "\n",
    "hgdhg\n",
    "\n"
   ]
  },
  {
   "cell_type": "markdown",
   "metadata": {},
   "source": [
    "<img src=\"../pliki_wlasne/trojkat-dane-informacja.png\" width=\"400\"/>\n"
   ]
  },
  {
   "cell_type": "code",
   "execution_count": 4,
   "metadata": {
    "colab": {
     "base_uri": "https://localhost:8080/"
    },
    "id": "IxGPOC9CXrOh",
    "outputId": "b6742972-f4b4-4d32-ed06-b188f46dea38"
   },
   "outputs": [
    {
     "name": "stdout",
     "output_type": "stream",
     "text": [
      " [1]  0.560 -0.161  0.193 -0.245 -0.620 -0.634  0.400  0.789  0.835 -0.071\n"
     ]
    }
   ],
   "source": [
    "print(rnorm(10),2)"
   ]
  },
  {
   "cell_type": "code",
   "execution_count": null,
   "metadata": {},
   "outputs": [],
   "source": []
  },
  {
   "cell_type": "code",
   "execution_count": null,
   "metadata": {},
   "outputs": [],
   "source": []
  }
 ],
 "metadata": {
  "colab": {
   "authorship_tag": "ABX9TyP/oQDonAKoD62IWDkyeH2y",
   "provenance": []
  },
  "kernelspec": {
   "display_name": "R",
   "language": "R",
   "name": "ir"
  },
  "language_info": {
   "codemirror_mode": "r",
   "file_extension": ".r",
   "mimetype": "text/x-r-source",
   "name": "R",
   "pygments_lexer": "r",
   "version": "4.1.3"
  }
 },
 "nbformat": 4,
 "nbformat_minor": 1
}
