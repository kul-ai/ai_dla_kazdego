{
 "cells": [
  {
   "cell_type": "markdown",
   "id": "8ef07410",
   "metadata": {},
   "source": [
    "# Wprowadzenie do uczenia głębokiego"
   ]
  },
  {
   "cell_type": "markdown",
   "id": "869a885a",
   "metadata": {},
   "source": [
    "## Uczenie maszynowe płytkie i głębokie"
   ]
  },
  {
   "cell_type": "markdown",
   "id": "1bcaea27",
   "metadata": {},
   "source": [
    "### Uczenie maszynowe\n",
    "\n",
    "Sztuczna inteligencja to narzędzia i algorytmy, które automatyzują procesy myślowe wykonywane przez ludzi. \n",
    "\n",
    "Uczenie maszynowe...\n",
    "\n",
    "<img src=\"../pliki_yEd/ai_ml_dl.png\" style=\"height:300px;\">"
   ]
  },
  {
   "cell_type": "markdown",
   "id": "768d6bcf",
   "metadata": {},
   "source": [
    "### Płytkie uczenie maszynowe\n",
    "\n",
    "- modele probabilistyczne\n",
    "    - naiwny klasyfikator bayesowski\n",
    "    - regresja logistyczna\n",
    "    \n",
    "- metody jądrowe\n",
    "    - metoda vektorów nośnych (SVM)\n",
    "\n",
    "- drzewa decyzyjne\n",
    "    - drzewa losowe\n",
    "    - gradient boosting\n",
    "\n",
    "... [Introduction to Shallow Machine Learning](https://www.linkedin.com/pulse/introduction-shallow-machine-learning-ayman-mahmoud/)"
   ]
  },
  {
   "cell_type": "markdown",
   "id": "9e628d5b",
   "metadata": {},
   "source": [
    "### Głębokie uczenie maszynowe\n",
    "\n",
    "Głębokie ucznie maszynowe opiera się na sztucznych sieciach neuronowych (ang. *Artificial Neural Network*). Dziś w zasadzie zamiennie używa się terminów głęboka sieć neuronowa i sieć neuronowa. Podstawowym elementem sieci neuronowej jest sztuczny neuron, którego zadaniem jest znalezienie odpowiedniej funkcji odwzorowującej wejście $X$ na wyjście $y$.\n",
    "\n",
    "<img src=\"../pliki_yEd/neuron.png\" height=100px/>\n",
    "\n"
   ]
  },
  {
   "cell_type": "markdown",
   "id": "a90b686e",
   "metadata": {},
   "source": [
    "<continue/>\n",
    "\n",
    "Sieć neuronowa to połączenie takich prostych neuronów:\n",
    "\n",
    "<img src=\"../pliki_yEd/siec_neuronowa.png\" wight=\"500\" />"
   ]
  },
  {
   "cell_type": "markdown",
   "id": "caf1682e",
   "metadata": {},
   "source": [
    "<continue/>\n",
    "\n",
    "Można widzieć sieć neuronową jako \"black box\", której celem jest odwzorowanie wejścia $X$ na wyjęcie $y$.\n",
    "\n",
    "<img src=\"../pliki_yEd/siec_neuronowa2.png\" width=\"700\" />"
   ]
  },
  {
   "cell_type": "markdown",
   "id": "ca749120",
   "metadata": {},
   "source": [
    "<span t=\"c\"></span>\n",
    "\n",
    "$X$ może być dowolnym wektorem cech postaci numerycznej. Podobnie $y$, również musi być postaci liczbowej, np. $1$ będzie symbolizować popyt, a $0$ brak popytu.\n",
    "\n",
    "- sieci gęste\n",
    "- sieci rekurencyjne\n",
    "- sieci konwulacyjne\n",
    "\n",
    "Zbiory treniongowy i testowy..."
   ]
  },
  {
   "cell_type": "markdown",
   "id": "250fa96f",
   "metadata": {},
   "source": [
    "## Powody szerokich zastosowań uczenia głębokiego od drugiej dekady XXI"
   ]
  },
  {
   "cell_type": "markdown",
   "id": "07a7766d",
   "metadata": {},
   "source": [
    "### Dane"
   ]
  },
  {
   "cell_type": "markdown",
   "id": "c28caf7f",
   "metadata": {},
   "source": [
    "### Sprzęt"
   ]
  },
  {
   "cell_type": "markdown",
   "id": "a8fb0c02",
   "metadata": {},
   "source": [
    "### Algorytmy i efekt skali\n",
    "\n",
    "Okazało się, że metody płytkiego uczenia maszynowego nie dają istotnie lepszych rezulatów wraz ze wzrostem ilości danych uczących. Głębokie uczenie maszynowe prawie zawsze daje lepsze rezultaty wraz ze wzrostem ilości danych uczących."
   ]
  },
  {
   "cell_type": "markdown",
   "id": "594540d1",
   "metadata": {},
   "source": [
    "### Ogromne inwestycje gigantów IT"
   ]
  },
  {
   "cell_type": "markdown",
   "id": "2f876a8f",
   "metadata": {},
   "source": [
    "### Otwarte narzędzia"
   ]
  },
  {
   "cell_type": "markdown",
   "id": "6674aa80",
   "metadata": {},
   "source": [
    "## <span t=\"slide_title\">Bibliografia</span>\n",
    "- <span t=\"l1\">Francois Chollet, Deep Learning with Python (first and second editions)</span>\n",
    "- [<span t=\"l1\">DeepLearning.ai</span>](DeepLearning.ai)\n",
    "- [<span t=\"l1\">https://www.linkedin.com/pulse/introduction-shallow-machine-learning-ayman-mahmoud/</span>](https://www.linkedin.com/pulse/introduction-shallow-machine-learning-ayman-mahmoud/)"
   ]
  },
  {
   "cell_type": "code",
   "execution_count": null,
   "id": "34f6a1bd",
   "metadata": {},
   "outputs": [],
   "source": []
  }
 ],
 "metadata": {
  "kernelspec": {
   "display_name": "Python 3",
   "language": "python",
   "name": "python3"
  },
  "language_info": {
   "codemirror_mode": {
    "name": "ipython",
    "version": 3
   },
   "file_extension": ".py",
   "mimetype": "text/x-python",
   "name": "python",
   "nbconvert_exporter": "python",
   "pygments_lexer": "ipython3",
   "version": "3.8.8"
  }
 },
 "nbformat": 4,
 "nbformat_minor": 5
}
