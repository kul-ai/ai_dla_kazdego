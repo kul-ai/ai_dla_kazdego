{
 "cells": [
  {
   "cell_type": "markdown",
   "id": "5720a41d",
   "metadata": {},
   "source": [
    "# Sieć semantyczna"
   ]
  },
  {
   "cell_type": "markdown",
   "id": "cad4d463",
   "metadata": {},
   "source": [
    "## Wprowadzenie"
   ]
  },
  {
   "cell_type": "markdown",
   "id": "40802c67",
   "metadata": {},
   "source": [
    "### Struktura wykładu\n",
    "- Co to jest sieć semantyczna?\n",
    "- RDF - pierwszy stopień przed-ontologicznej inicjacji\n",
    "- Linked Data\n",
    "- RDF Schema, czyli zaczynamy tworzyć ontologię!\n",
    "- SHACL\n",
    "- OWL\n",
    "- SKOS\n",
    "- SPARQL\n",
    "- FAIR"
   ]
  },
  {
   "cell_type": "markdown",
   "id": "b991cb89",
   "metadata": {},
   "source": [
    "### "
   ]
  },
  {
   "cell_type": "markdown",
   "id": "4f97c432",
   "metadata": {},
   "source": [
    "## Krótka historia sieci semantycznej"
   ]
  },
  {
   "cell_type": "markdown",
   "id": "1f4ec5fd",
   "metadata": {},
   "source": [
    "### Sieć semantyczna\n",
    "\n",
    "<span t=\"q\">Nazwa \"sieć semantyczna\" (ang. *Semantic Web*) łączy w sobie odniesienie do *sieci*, w sensie ogólnoświatowej sieci komputerowej (ang. *World Wide Web*), oraz semantyki, czyli nauki o znaczeniu języka i tym do czego wyrażenia języka się odnoszą.</span>\n"
   ]
  },
  {
   "cell_type": "markdown",
   "id": "f2cc0d05",
   "metadata": {},
   "source": [
    "### As We May Think\n",
    "\n",
    "<span t=\"l1\">Przynajmniej od lat 40 XX wieku mówi się o problemie zarządzania olbrzymimi zbiorami dokumentów. Z tego samego okresu pochodzą też pierwsze pomysły na tworzenie powięzań pomiędzy dokumentami, z których najbardziej znanym jest esej Vannevar Bush zatytułowany *As We May Think*</span>  (zob. Bush 1945) \n",
    "\n",
    "<img src=\"../pliki_z_internetu/Vannevar_Bush_portrait.jpg\" width=\"400\" />\n",
    "\n"
   ]
  },
  {
   "cell_type": "markdown",
   "id": "5fc2d769",
   "metadata": {},
   "source": [
    "### Narodziny \"linków\"\n",
    "\n",
    "<span t=\"l1\">Dwie dekaty później, w połowie lat 60 XX w., Ted Nelson, przeniósł wizję Busha na grunt komputerów. Nelsonowi zawdzięczamy terminy \"hipermedia\" i \"hipertext\", oraz użycie słowa \"link\" w znaczeniu, w jakim używamy go do dziś</span> (zob. Nelson 1965). \n",
    "\n",
    "<img src=\"../pliki_z_internetu/Ted_Nelson_cropped.jpg\" width=\"400\" />"
   ]
  },
  {
   "cell_type": "markdown",
   "id": "a8ee482e",
   "metadata": {},
   "source": [
    "### The Mother of All Demos\n",
    "\n",
    "<span t=\"l1\">W drugiej połowie lat 60 XX w., Douglas Engelbart, wspierany przez Jeffa Rulifsona, dokonał pierwszej implementacji wizji Busha-Nelsona.</span>\n",
    "\n",
    "<img src=\"../pliki_z_internetu/Engelbart-68-demo_0-2-640x426.jpg\" width=\"400\" />"
   ]
  },
  {
   "cell_type": "markdown",
   "id": "9b31ab3e",
   "metadata": {},
   "source": [
    "<span t=\"l1\">Nieco ponad 100-minutowa prezentacja Engelbarta z 1968 r. (podczas której \"przedstawiono niemal wszystkie podstawowe sposoby interakcji z nowoczesnym komputerem osobistym: okna, hipertekst, grafiki, wydajną nawigację i wprowadzanie komend, wideokonferencję, mysz komputerową, procesor tekstu, linkowanie dynamiczne, mechanizm kontroli wersji oraz mechanizm współdzielenia ekranu w edytorze tekstu\", WIKI) przeszła do historii jako *The Mother of All Demos*.</span>\n",
    "\n",
    "<span t=\"l1\">https://www.youtube.com/watch?v=yJDv-zdhzMY</span>\n",
    "\n"
   ]
  },
  {
   "cell_type": "markdown",
   "id": "60972517",
   "metadata": {},
   "source": [
    "### TCP/IP\n",
    "\n",
    "<span t=\"l1\">Lata 70 XX w. to powstanie teoretycznego, \"warstwowego\" modelu TCP/IP (ang. *Transmission Control Protocol/Internet Protocol*)</span>, który stał się podstawą dzisiejszego internetu. <span t=\"l1\">W tym kontekście warto wspomnieć amerykańską organizację DARPA oraz pracującego dla niej Vindona Gray Cerfa, uważanego za ojca internetu.</span>\n",
    "\n",
    "<img src=\"../pliki_z_internetu/VintonGrayCerf.jpeg\" width=\"400\" />"
   ]
  },
  {
   "cell_type": "markdown",
   "id": "5ea2d9d9",
   "metadata": {},
   "source": [
    "### WWW, URL, HTTP oraz HTML\n",
    "\n",
    "<span t=\"l1\">W końcówce lat 80 XX w. Tim Beners-Lee zaproponował projekt o nazwie *World Wide Web* (w skrócie WWW), który w swojej istocie miał być siecią dokumentów połączonych hiperłączami (\"linkami\").</span> <span t=\"l1\">Była to wprost realizacja idei hiperteksu Busha-Nelsona.</span>\n",
    "\n",
    "<img src=\"../pliki_z_internetu/Sir_Tim_Berners-Lee.jpg\" width=\"400\" />\n",
    "\n"
   ]
  },
  {
   "cell_type": "markdown",
   "id": "ea573f71",
   "metadata": {},
   "source": [
    "<span t=\"l1\">W pierwszej połowie lat 90 XX w., Tim Beners-Lee zaproponował specyfikacje URL, HTTP oraz HTML. </span> \n",
    "\n",
    "<span t=\"l1\">W 1994 r. Beners-Lee stanął na czele organizacji W3C, które do dziś zajmuje się standaryzacją przestrzeni WWW.</span>\n",
    "\n",
    "<img src=\"../pliki_z_internetu/220px-W3C®_Icon.svg.png\" width=\"200\" />\n"
   ]
  },
  {
   "cell_type": "markdown",
   "id": "3920086f",
   "metadata": {},
   "source": [
    "###  Architektura WWW\n",
    "\n",
    "> <span t=\"q\">The World Wide Web (WWW, or simply Web) is an information space in which the items of interest, referred to as resources, are identified by global identifiers called Uniform Resource Identifiers (URI). https://www.w3.org/TR/webarch/</span>\n",
    "\n",
    "<img src=\"../pliki_z_internetu/uri-res-rep.png\" width=\"500\" />"
   ]
  },
  {
   "cell_type": "markdown",
   "id": "75208be0",
   "metadata": {},
   "source": [
    "### Trzy ważne aspekty WWW\n",
    "\n",
    "1. <span t=\"l1\">URI, używane do identyfikacji zasobów w sieci www</span>\n",
    "    - <span t=\"l2\">Np. https://ai.kul.pl/wykladowcy-i-praktycy-ai-kul/</span>\n",
    "2. <span t=\"l1\">Protokoły komunikacji (klient - serwer), np. https</span>\n",
    "    - <span t=\"l2\">Wklejając do okna adresu swojej przeglądarki adres URI https://ai.kul.pl/wykladowcy-i-praktycy-ai-kul/ (+ ENTER), mówisz jej, że chcesz, aby pobrała ona informacje dostępna dla tego zasobu. </span>\n",
    "    - <span t=\"l2\">Przeglądarka wysyła żądanie HTTP GET (będącego częścią protokołu HTTP) do serwera pod adresem https://ai.kul.pl przez port TCP/IP 80, a serwer odsyła wiadomość zawierającą to, co określi jako reprezentację zasobu.</span>\n",
    "    \n",
    "3. <span t=\"l1\">Języki/formaty reprezentacji informacji</span>\n",
    "\n",
    "    - <span t=\"l2\">Metadane określają format w jakim chcemy pobrać informację. Np. `Content-type: application/xhtml+xml`</span> wskazuje, że pobrane dane powinny być przetwarzane/prezentowane zgodnie ze specyfikacją XHTML. Przeglądarka została zaprogramowana w taki sposób, aby odpowienio wyświetlić taką treść. To co zobaczymy w oknie przeglądarki nazywamy powszechnie *stroną internetową*.\n",
    "    - <span t=\"l2\">Dane to właściwa treść pobranej informacji, np. w formacie XHTML.</span>"
   ]
  },
  {
   "cell_type": "markdown",
   "id": "9801f020",
   "metadata": {},
   "source": [
    "### Od sieci dokumentów do sieci semantycznej\n",
    "\n",
    "<span t=\"l1\">W latach 1999-2001 Tim Berners-Lee wypracował wicję sieci semantycznej (zob. Berners-Lee 2001). Miała ona być kolejnym krokiem w rozwoju WWW.</span>\n",
    "\n",
    "<span t=\"l1\">Sieć internetowa - jako zbiór dokumentów (hipertekstów) połączonych hiperłączami/hiperlinkami (linkami) - miała zostać zastąpiona siecią danych zapisanych w sposób umożliwiający łatwe ich przetwarzanie przez maszyny.</span>\n",
    "\n",
    "<span t=\"l1\">Sieć semantyczna (aka sieć danych) miała opierać się na tej samej infrastrukturze co sieć dokumentów.</span>\n",
    "\n",
    "<span t=\"l1\">Tim Berners-Lee, The next Web of open, linked data: https://youtu.be/OM6XIICm_qo</span>"
   ]
  },
  {
   "cell_type": "markdown",
   "id": "b4cb6faa",
   "metadata": {},
   "source": [
    "<span t=\"l1\">Linki typu URL (ang. *Uniform Resource Locator*), czyli ujednolicony format adresowanie, np. https://ai.kul.pl/wykladowcy-i-praktycy-ai-kul/, służące do tej pory do określania lokalizacji zasobów w sieci internetowej, głównie stron www, miały w sieci semantycznej identyfikować dowolne zasoby (ludzi, miasta, fikcyjne postacie filmowe, etc.) oraz \"semantyczne\" relacje pomiędzy nimi.</span>\n",
    "\n",
    "<img src=\"../pliki_z_internetu/SemanticWeb.jpg\" width=\"900\" />"
   ]
  },
  {
   "cell_type": "markdown",
   "id": "b744252b",
   "metadata": {},
   "source": [
    "## Identyfikacja w sieci, czyli URI, URL, IRI"
   ]
  },
  {
   "cell_type": "markdown",
   "id": "fd1d173b",
   "metadata": {},
   "source": [
    "### URI\n",
    "\n",
    "URI, od *Uniform Resource Identifier*, (tłum. Ujednolicony Identyfikator Zasobów) jest standardem umożliwiającym identyfikację zasobów w sieci www. \n",
    "\n",
    "Zdefiniowany zosał przez Tima Berners-Lee jego współpracowników w dokumencie RFC 2396 (zob. bibliografia)."
   ]
  },
  {
   "cell_type": "markdown",
   "id": "f6797761",
   "metadata": {},
   "source": [
    "### Podstawowa składnia URI\n",
    "    \n",
    "    URI = scheme \":\" [\"//\" authority] path [\"?\" query] [\"#\" fragment]\n",
    "\n",
    "\n",
    "Przykłady URI\n",
    "\n",
    "<img src=\"../pliki_z_internetu/uri_przyklady.png\" width=\"600\" />"
   ]
  },
  {
   "cell_type": "markdown",
   "id": "59534533",
   "metadata": {},
   "source": [
    "### URL\n",
    "\n",
    "Rodzajem URI jest URL *Uniform Resource Locator*. \n",
    "\n",
    "Zdefiniowany przez Tim Berners-Lee w 1994 w specyfikacji RFC 1738.\n",
    "\n",
    "\n",
    "    URI = scheme \":\" [\"//\" authority] path [\"?\" query] [\"#\" fragment]\n",
    "\n",
    "    authority = [userinfo \"@\"] host [\":\" port]"
   ]
  },
  {
   "cell_type": "markdown",
   "id": "8ad72ef0",
   "metadata": {},
   "source": [
    "### Przykład URL\n",
    "\n",
    "    http://jan.kowalski@www.example.com:8080/demo/example/?tag=pl&order=newest#top \n",
    "    \\__/   \\__________/ \\_____________/ \\__/\\___________/ \\__________________/ \\_/\n",
    "     |          |              |         |        |                 |           |\n",
    "     |       userinfo        host       port   ścieżka           ścieżka     fragment\n",
    "    protokół                                  do zasobu        wyszukiwania"
   ]
  },
  {
   "cell_type": "markdown",
   "id": "e29d551c",
   "metadata": {},
   "source": []
  },
  {
   "cell_type": "markdown",
   "id": "2f32eb6b",
   "metadata": {},
   "source": []
  },
  {
   "cell_type": "markdown",
   "id": "4934487f",
   "metadata": {},
   "source": [
    "### IRI \n",
    "\n",
    "IRI (ang. Internationalized Resource Identifier) standard internetowy uwzględniający internacjonalizację opisany w dokumencie RFC 3987 w 2005 roku przez Internet Engineering Task Force (IETF).\n",
    "\n",
    "Identyfikatory URI są ograniczone do podzbioru zestawu znaków US-ASCII. Znaki spoza tego zestawu muszą być specjalnie kodowane (tzw. kodowanie procentowe) za pomocą trójki znaków, gdzie pierwszym z nich jest `%`, np. znak `:` będzie miał kod `%3A`. \n",
    "\n",
    "Identyfikatory IRI mogą zawierać większość znaków z zestawu znaków (Unicode/ISO 10646), w tym znaki polskie, chińskie, japońskie, koreańskie i cyrylicę.\n",
    "\n",
    "|   **identyfikator**    | **URI** | **IRI** |\n",
    "|:----------------------:|:-------:|:-------:|\n",
    "| http://pawełgarbacz.pl |   nie   |   tak   |\n",
    "| http://pawelgarbacz.pl |   tak   |   tak   |"
   ]
  },
  {
   "cell_type": "markdown",
   "id": "09c41b8e",
   "metadata": {},
   "source": [
    "## RDF czyli system opisu zasobów"
   ]
  },
  {
   "cell_type": "markdown",
   "id": "65e7b5c0",
   "metadata": {
    "id": "65e7b5c0"
   },
   "source": [
    "### O RDF\n",
    "\n",
    "<img src=\"https://upload.wikimedia.org/wikipedia/commons/f/f3/Rdf_logo.svg\"\n",
    "     alt=\"RDF logo\" align=\"right\" width=\"100\" height=\"100\"/>\n",
    "     \n",
    "RDF to skrót angielskiej nazyw *Resource Description Framework*, czyli system opisu zasobów. RDF jest jednym ze standardów [W3C](https://www.w3.org/RDF/) przeznaczonym do zapisu informacji/wiedzy w sposób przetwarzalny komputerowo.  \n",
    "Pierwsza wersja standardu RDF została wydana przez W3C w 1997 roku (nota bene, razem z pierwszą specyfikacją języka XML). Standard RDF jest jednym z filarów semantycznego internetu (ang. *Semantic Web*).\n"
   ]
  },
  {
   "cell_type": "markdown",
   "id": "Wj05B8gD3jQ0",
   "metadata": {
    "id": "Wj05B8gD3jQ0"
   },
   "source": [
    "### Trójki\n",
    "\n",
    "Podstawowym założeniem, a nawet ograniczeniem, standardu RDF jest sposób zapisu informacji. Mianowicie, każde stwierdzenie musi składać się z trzech elementów: podmiotu, orzeczenia i dopełnienia, np. \n",
    "- `Ala` (podmiot) `ma` (orzeczenie) `kota` (dopełnienie).\n",
    "- `Jan` (podmiot) `mieszka w` (orzeczenie) `Chełmie` (dopełnienie).\n",
    "\n",
    "Stwierdzenia RDF będą więc zawsze takie postaci:\n",
    "\n",
    "- `(podmiot, orzeczenie, dopełnienie)`\n",
    "\n",
    "Orzeczenie nazywane jest często predykatem i jest relacją łączącą podmiot z dopełnieniem. Dopełnienie może być obiektem lub wartością (literałem):\n",
    "\n",
    "<img src='https://github.com/trypuz/ai_dla_kazdego/blob/main/pliki_yEd/trojki.png?raw=1'>\n",
    "\n",
    "W RDF mówi się, że wszystko jest zasobem (ang. *resource*). Ja jestem zasobem, Twoje życie jest zasobem, dokument tekstowy na dysku jest zasoben, etc. Wszystko. Zasoby do których odnosimy się w trójkach RDF nie muszą być faktycznie ,,czymś'' zapisanym na dysku komputera. URI zasobów nie muszą wskazywać plików – mogą reprezentować dowolne obiekty/byty obecne w świecie rzeczywistym. Również to co utworzymy za pomocą języka RDF jest zasobem!\n",
    "\n",
    "Graf RDF = zbiór trójek RDF\n",
    "\n",
    "```\n",
    " (podmiot_0, predykat_0, obiekt_0),\n",
    " (podmiot_1, predykat_1, obiect_1),\n",
    " ...\n",
    " (podmiot_N, predykat_N, obiekt_N)\n",
    "```"
   ]
  },
  {
   "cell_type": "markdown",
   "id": "cgqFNPh93m1n",
   "metadata": {
    "id": "cgqFNPh93m1n"
   },
   "source": [
    "### Identyfikatory URI\n",
    "\n",
    "Aby móc skonstruować trójkę, która mówi coś o jakimś zasobie, zasób ten musi mieć swój indetyfikator. Dokładnie rzecz ujmując, identyfikator ten mus być adresem URI. URI to skrót od *Uniform Resource Identifier* (ujednolicony identyfikator zasobu). Najczęściej URI jest URL (skrót od *Uniform Resource Locator*), czyli wygląda jak adres strony www: `https://domenta/ścieżka_do_zasobu`. Możesz też usłyszeć, że identyfikatorami zasobów RDF są typu IRI (skrót od ang. *Internationalized Resource Identifier*). IRI to takie URI, w którym mogą pojawić się znaki spoza alfabetu angielskiego, np. znaki specyficzne dla języka polskiego.  \n",
    "\n",
    "W RDF, jeśli chcemy powiedzieć, że Jan lubi Anię lub chcemy wyrazić fakt, że Jan ma 186cm wzrostu, to musimy najpierw stworzyć identyfiaktory dla Jana, Ani oraz predykatów lubi i ma wzrost.\n",
    "\n",
    "<img src='https://github.com/trypuz/ai_dla_kazdego/blob/main/pliki_yEd/trojki_przyklad.png?raw=1'>\n",
    "\n",
    "Pierwszym krokiem tworzenia grafu RDF dla pewnej dziedziny jest przydzielenie pewnego wydzielonego adresu (np. `http://ai.kul.pl/vocab`) jako bazy słownika nazw zasobów.\n",
    "Odnośnik URI zasobu składa się z bazy, po którym następuje znak „/” lub „#” - my będziemy preferować pierwszą opcję - a następnie identyfikator danego fragmentu (np. `http://ai.kul.pl/Jan`). Pamiętaj, że w identyfikatorach URI rozróżniane są małe i duże litery!\n",
    "\n",
    "Identyfikatory URI dla zasobów z powyższego przykładu mogłyby wyglądać ta:\n",
    "\n",
    "- `http://ai.kul.pl/vocab/Jan`\n",
    "- `http://ai.kul.pl/vocab/Ania`\n",
    "- `http://ai.kul.pl/vocab/lubi`\n",
    "- `http://ai.kul.pl/vocab/ma_wzrost`\n",
    "\n",
    "\n",
    "<img src='https://github.com/trypuz/ai_dla_kazdego/blob/main/pliki_yEd/trojki_przyklad_uri.png?raw=1'>\n",
    "\n",
    "URI zasobów RDF nie są też przewidziane do bezpośredniego wykorzystania jak hierłącza (tj. linki na stronach www).\n",
    "\n",
    "Znaczenie danego URI zależy od właściciela domeny (jego pożądane interpretacja jest umowna)."
   ]
  },
  {
   "cell_type": "markdown",
   "id": "h-IBtfUu3qsW",
   "metadata": {
    "id": "h-IBtfUu3qsW"
   },
   "source": [
    "### Węzły anonimowe\n",
    "\n",
    "podmiot i obiekt"
   ]
  },
  {
   "cell_type": "markdown",
   "id": "0133b4ba",
   "metadata": {
    "id": "0133b4ba"
   },
   "source": [
    "## Serializacje"
   ]
  },
  {
   "cell_type": "markdown",
   "id": "VLDC4yyfIJci",
   "metadata": {
    "id": "VLDC4yyfIJci"
   },
   "source": [
    "Graf RDF jest strukturą abstrakcyjną, składa się z wierzchołków i krawędzi. Połączenie dwóch wierzchołków grafu tworzy trójkę. I jak powiedzieliśmy wcześniej, graf RDF można traktować jako zbriór trójek. Jeśli chcemy zapisać taki graf w pliku na dysku, to musimy dokładnie zdefiniować sposób reprezentacji trójek. Ściśle zdefiniowany sposób zapisu grafu RDF do pliku nazywamy jego serializacją. \n",
    "\n",
    "<img src='https://github.com/trypuz/ai_dla_kazdego/blob/main/pliki_yEd/serializacja.png?raw=1'>"
   ]
  },
  {
   "cell_type": "markdown",
   "id": "Soov3jRBH6Ju",
   "metadata": {
    "id": "Soov3jRBH6Ju"
   },
   "source": [
    " RDF/XML, N3, NTriples, N-Quads, Turtle, TriX, RDFa, Microdata i JSON-LD"
   ]
  },
  {
   "cell_type": "markdown",
   "id": "C2gNaYMhOaTb",
   "metadata": {
    "id": "C2gNaYMhOaTb"
   },
   "source": [
    "### Turtle\n",
    "https://www.w3.org/TR/2014/REC-turtle-20140225/\n",
    "\n",
    "\n",
    "`<http://ai.kul.pl/vocab/Jan> <http://ai.kul.pl/vocab/lubi> <http://ai.kul.pl/vocab/Ania> .`\n",
    "\n",
    "`@prefix`\n",
    "\n",
    "`http://www.w3.org/1999/02/22-rdf-syntax-ns#`\n",
    "\n",
    "`@base`\n",
    "\n",
    "`rdf:type` `a`\n",
    "\n",
    "`rdf:Property`a\n",
    "\n"
   ]
  },
  {
   "cell_type": "markdown",
   "id": "e648e096",
   "metadata": {},
   "source": [
    "O tym, co najważniejsze\n",
    "\n",
    "> \\- Dla kupców - rzekł poważnie rządca Fierabras - nie ma złych dróg,\n",
    "> przynajmniej dla takich, co serio swój traktują proceder. U nich,\n",
    "> \\[…\\], taka jest zasada: skoro cel przyświeca, sposób musi się\n",
    "> znaleźć.\n",
    ">\n",
    "> \\- Zaiste - powiedział wolno \\[…\\] - zasada to celna i godna\n",
    "> naśladowania. W każdej sytuacji.\n",
    ">\n",
    "> \\- Bez ochyby. Ale tak po prawdzie, to niektórzy z handlarzy tkwią to\n",
    "> od jesieni, wyjechać nie mogąc. Ale duchem nie padają, mówią, pry, co\n",
    "> tam, za to wiesną pierwsi będziemy, nim konkurencja się zjawi. U nich\n",
    "> to się nazywa: dumać pozytywnie.\n",
    ">\n",
    "> \\- I tej zasadzie - kiwnął głową \\[…\\] - trudno coś zarzucić. Jedna\n",
    "> rzecz mnie jeszcze ciekawi, panie rządco. Dlaczego ci kupcy siedzą tu,\n",
    "> na odludziu, a nie w Beauclair? Księżna nie kwapi się, by udzielać im\n",
    "> gościny? Może gardzi kupcami?\n",
    ">\n",
    "> \\- Beauclair, powiadają, to nic jeno uczty, bale, hulanki, pijatyki i\n",
    "> miłostki. Człek, powiadają, jeno gnuśnieje, durnieje i czas traci,\n",
    "> miast myśleć o handlu. A myśleć trza o tym, co naprawdę ważne. O celu,\n",
    "> po przyświeca. Nieustannie. Nie rozpraszając myśli na jakieś tam\n",
    "> faramuszki. Wtedy, i tylko wtedy, cel zamierzony się osiąga.\n",
    "\n"
   ]
  },
  {
   "cell_type": "markdown",
   "id": "475ac5fb",
   "metadata": {},
   "source": [
    "## RDF\n",
    "\n",
    "Sieć Semantyczna\n",
    "\n",
    "![Rysunek z ](../pliki_z_internetu/SemanticWeb.jpg)\n",
    "\n",
    "Graf RDF – przykład\n",
    "\n",
    "![https://www.w3.org/TR/rdf11-primer/](../pliki_z_internetu/example-graph.jpg)\n",
    "\n",
    "Co to jest RDF?\n",
    "\n",
    "> Resource Description Framework (RDF) jest środowiskiem (*framework*)\n",
    "> dla wyrażania informacji o zasobach (*resource*). Zasobem może być\n",
    "> wszystko, np. dokumenty, ludzie, przedmioty fizyczne i pojęcia\n",
    "> abstrakcyjne.  \n",
    "> RDF jest przeznaczony dla aplikacji \\[programów komputerowych\\], które\n",
    "> przetwarzają informacje w Internecie \\[…\\]. RDF jest wspólnym\n",
    "> środowiskiem, w który można wyrażać informacje w taki sposób, że jej\n",
    "> wymiana \\[pomiędzy różnymi systemami komputerowymi\\] nie prowadzi do\n",
    "> utraty jej znaczenia (sensu).\n",
    "\n",
    "-   <https://www.w3.org/TR/rdf-primer/>\n",
    "\n",
    "-   <https://www.w3.org/TR/rdf-syntax-grammar/>\n",
    "\n",
    "-   <https://www.w3.org/TR/rdf-mt/>\n",
    "\n",
    "Podstawowe pojęcia RDF\n",
    "\n",
    "1.  trójka RDF\n",
    "\n",
    "2.  zasób\n",
    "\n",
    "3.  własność (relacja)\n",
    "\n",
    "4.  nazwa kwalifikowana\n",
    "\n",
    "5.  literał\n",
    "\n",
    "6.  pusty węzeł (*blank node*)\n",
    "\n",
    "7.  słowniki RDF\n",
    "\n",
    "Trójki RDF – przykład\n",
    "\n",
    "![image](../pliki_z_internetu/rdftripleex.jpg)\n",
    "\n",
    "Trójki RDF – przykład (2)\n",
    "\n",
    "![image](../pliki_z_internetu/rdftripleex2.jpg)\n",
    "\n",
    "Trójki RDF – przykład (3)\n",
    "\n",
    "![image](../pliki_z_internetu/RdfGraph.jpg)\n",
    "\n",
    "Nazwy kwalifikowane – przykład\n",
    "\n",
    "-   nazwa niekwalifikowana:\n",
    "\n",
    "    -   <http://dbpedia.org/resource/Garbacz>\n",
    "\n",
    "    -   <http://dbpedia.org/resource/Lublin>\n",
    "\n",
    "    -   <http://dbpedia.org/resource/Prince>\n",
    "\n",
    "-   nazwa kwalifikowana:\n",
    "\n",
    "    -   dbr:Garbacz\n",
    "\n",
    "    -   dbr:Lublin\n",
    "\n",
    "    -   dbr:Prince\n",
    "\n",
    "    -   @prefix dbr: http://dbpedia.org/resource/\n",
    "\n",
    "Nazwy kwalifikowane\n",
    "\n",
    "    QName ::= PrefixedName| UnprefixedName\n",
    "    PrefixedName    ::= Prefix ':' LocalPart\n",
    "    UnprefixedName ::= LocalPart\n",
    "    Prefix ::=  NCName\n",
    "    LocalPart    ::= NCName\n",
    "\n",
    "Nazwy type NCName\n",
    "\n",
    "    NCName ::=  Name - (Char* ':' Char*)    \n",
    "\n",
    "    Name ::= NameStartChar (NameChar)*\n",
    "\n",
    "    NameChar ::= NameStartChar | \"-\" | \".\" | [0-9] | \n",
    "    #xB7 | [#x0300-#x036F] | [#x203F-#x2040]\n",
    "\n",
    "    NameStartChar   ::= [A-Z] | \"_\" | [a-z] | [#xC0-#xD6] | \n",
    "    [#xD8-#xF6] | [#xF8-#x2FF] | [#x370-#x37D] | \n",
    "    [#x37F-#x1FFF] | [#x200C-#x200D] | [#x2070-#x218F] | \n",
    "    #x2C00-#x2FEF] | [#x3001-#xD7FF] | [#xF900-#xFDCF] | \n",
    "    [#xFDF0-#xFFFD] | [#x10000-#xEFFFF]\n",
    "\n",
    "Literały\n",
    "\n",
    "-   *Literał* jest wartością (która nie jest zasobem): tekstem\n",
    "    (*string*), liczbą lub datą.\n",
    "\n",
    "-   Każdy literał należy do dokładnie jednego typu danych (*datatype*),\n",
    "    np.:\n",
    "\n",
    "    -   liczba całkowita\n",
    "        (<https://www.w3.org/TR/xmlschema11-2/#integer>)\n",
    "\n",
    "    -   wartość boole’owska\n",
    "        (<https://www.w3.org/TR/xmlschema11-2/#boolean>)\n",
    "\n",
    "    -   tekst (<https://www.w3.org/TR/xmlschema11-2/#string>)\n",
    "\n",
    "    -   …\n",
    "\n",
    "-   Literał składa się z 2 (lub 3) części:\n",
    "\n",
    "    1.  formy leksykalnej\n",
    "\n",
    "    2.  (IRI dla) typu danych\n",
    "\n",
    "    3.  jeżeli typ danych jest równy\n",
    "        <http://www.w3.org/1999/02/22-rdf-syntax-ns#langString>,\n",
    "        znacznika języka.\n",
    "\n",
    "Serializacje grafów RDF – XML\n",
    "\n",
    "![image](../pliki_z_internetu/rdftripleex.jpg)\n",
    "\n",
    "$<$rdf:Description rdf:about=\"http://dbpedia.org/resource/Garbacz\"$>$  \n",
    "$<$dbo:isPartOf\n",
    "rdf:resource=\"http://dbpedia.org/resource/Ostrowiec_County\" /$>$  \n",
    "$<$/rdf:Description$>$  \n",
    "\n",
    "Serializacje grafów RDF – JSON\n",
    "\n",
    "![image](../pliki_z_internetu/rdftripleex.jpg)\n",
    "\n",
    "$\\{$  \n",
    "\"http://en.wikipedia.org/wiki/Garbacz\" :  \n",
    "\"http://dbpedia.org/ontology/isPartOf\" :  \n",
    "$[$ $\\{$ \"type\" : \"uri\", \"value\" :\n",
    "\"http://dbpedia.org/resource/Ostrowiec_County\" $\\}$ $]$  \n",
    "$\\}$\n",
    "\n",
    "Serializacje grafów RDF – N-Triples\n",
    "\n",
    "![image](../pliki_z_internetu/rdftripleex.jpg)\n",
    "\n",
    "$<$http://dbpedia.org/resource/Garbacz$>$  \n",
    "$<$http://dbpedia.org/ontology/isPartOf$>$  \n",
    "$<$http://dbpedia.org/resource/Ostrowiec_County$>$ .\n",
    "\n",
    "Serializacje grafów RDF – Turtle\n",
    "\n",
    "![image](../pliki_z_internetu/rdftripleex.jpg)\n",
    "\n",
    "@ prefix dbr: $<$http://dbpedia.org/resource/$>$ .  \n",
    "@ prefix dbo: $<$http://dbpedia.org/ontology/$>$ .  \n",
    "dbr:Garbacz dbo:isPartOf dbr:Ostrowiec_County .  \n",
    "\n",
    "Seralizacja literałów – Turtle\n",
    "\n",
    "![image](../pliki_z_internetu/rdftripleex3.jpg)\n",
    "\n",
    "@prefix dbr: $<$http://dbpedia.org/resource/$>$ .  \n",
    "@prefix dbp: $<$http://dbpedia.org/property/$>$ .  \n",
    "dbr:Garbacz dbp:name \"Garbacz\"@en .  \n",
    "\n",
    "Seralizacja literałów – Turtle (2)\n",
    "\n",
    "![image](../pliki_z_internetu/rdftripleex2.jpg)\n",
    "\n",
    "@prefix dbr: $<$http://dbpedia.org/resource/$>$ .  \n",
    "@prefix dbo: $<$http://dbpedia.org/ontology/$>$ .  \n",
    "@prefix geo: $<$http://www.w3.org/2003/01/geo/wgs84_pos#$>$ .  \n",
    "@prefix virtrdf: $<$http://www.openlinksw.com/schemas/virtrdf#$>$ .  \n",
    "dbr:Garbacz geo:geometry \"POINT(21.228332519531\n",
    "50.874443054199)\"^^virtrdf:Geometry .  \n",
    "\n"
   ]
  },
  {
   "cell_type": "markdown",
   "id": "6b438ecd",
   "metadata": {},
   "source": [
    "## RDFS\n",
    "\n",
    "RDFS jako słownik RDF\n",
    "\n",
    "RDFS jako słownik RDF – przestrzenie nazw\n",
    "\n",
    "1.  rdf – <http://www.w3.org/1999/02/22-rdf-syntax-ns>\n",
    "\n",
    "2.  rdfs – <https://www.w3.org/2000/01/rdf-schema>\n",
    "\n",
    "Podstawowe pojęcia RDFS\n",
    "\n",
    "1.  klasy i pojęcia pokrewne\n",
    "\n",
    "2.  własności i pojęcia pokrewne\n",
    "\n",
    "Klasy w RDFS\n",
    "\n",
    "1.  rdfs:Class\n",
    "\n",
    "2.  rdf:type\n",
    "\n",
    "3.  IRI rdf:type rdfs:Class\n",
    "\n",
    "4.  IRI#1 rdf:type IRI#2\n",
    "\n",
    "5.  przykłady:\n",
    "\n",
    "    -   dbo:Place rdf:type rdfs: Class\n",
    "\n",
    "    -   dbr:Garbacz rdf:type dbo:Place\n",
    "\n",
    "Relacje pomiędzy klasami w RDFS\n",
    "\n",
    "1.  rdfs:subClassOf\n",
    "\n",
    "2.  IRI#1 rdfs:subClassOf IRI#2\n",
    "\n",
    "3.  przykłady:\n",
    "\n",
    "    -   dbo:Place rdf:subClassOf rdfs:Location\n",
    "\n",
    "    -   dbo:Park rdf:subClassOf rdfs:Place\n",
    "\n",
    "Relacje pomiędzy klasami w RDFS – funkcje semantyczne\n",
    "\n",
    "1.  przechodność rdfs:subClassOf\n",
    "\n",
    "2.  związek z rdf:type\n",
    "\n",
    "Przechodność rdfs:subClassOf\n",
    "\n",
    "1.  IRI#1 rdfs:subClassOf IRI#2\n",
    "\n",
    "2.  IRI#2 rdfs:subClassOf IRI#3\n",
    "\n",
    "3.  IRI#1 rdfs:subClassOf IRI#3\n",
    "\n",
    "    -   dbo:Place rdf:subClassOf rdfs:Location\n",
    "\n",
    "    -   dbo:Park rdf:subClassOf rdfs:Place\n",
    "\n",
    "    -   dbo:Park rdfs:subClassOf rdfs:Location\n",
    "\n",
    "Rdf:type w kontekście rdfs:subClassOf\n",
    "\n",
    "1.  IRI#1 rdf:type IRI#2\n",
    "\n",
    "2.  IRI#2 rdfs:subClassOf IRI#3\n",
    "\n",
    "3.  IRI#1 rdf:type IRI#3\n",
    "\n",
    "    -   dbr:Garbacz rdf:type dbo:Place\n",
    "\n",
    "    -   dbo:Place rdf:subClassOf rdfs:Location\n",
    "\n",
    "    -   dbr:Garbacz rdf:type dbo:Location\n",
    "\n",
    "Własności/relacje w RDFS\n",
    "\n",
    "1.  rdf:Property\n",
    "\n",
    "2.  IRI rdf:type rdf:Property\n",
    "\n",
    "3.  przykłady:\n",
    "\n",
    "    -   dbo:isPartOf rdf:type rdf:Property\n",
    "\n",
    "Relacje pomiędzy własnościami w RDFS\n",
    "\n",
    "1.  rdfs:subPropertyOf\n",
    "\n",
    "2.  IRI#1 rdfs:subPropertyOf IRI#2\n",
    "\n",
    "3.  przykłady:\n",
    "\n",
    "    -   dbo:isPartOfWineRegion rdf:subPropertyOf rdfs:isPartOf\n",
    "\n",
    "Dziedzina i przeciwdziedzina własności/relacji w RDFS\n",
    "\n",
    "1.  rdfs:domain\n",
    "\n",
    "2.  rdfs:range\n",
    "\n",
    "3.  IRI#1 rdfs:domain IRI#2\n",
    "\n",
    "4.  IRI#1 rdfs:range IRI#2\n",
    "\n",
    "5.  przykłady:\n",
    "\n",
    "    -   dbo:isPartOfWineRegion rdf:domain dbo:WineRegion\n",
    "\n",
    "    -   dbo:isPartOfWineRegion rdf:range dbo:WineRegion\n",
    "\n",
    "Dziedzina i przeciwdziedzina własności/relacji w RDFS – funkcje\n",
    "semantyczne\n",
    "\n",
    "1.  IRI#1 rdfs:domain IRI#2\n",
    "\n",
    "2.  IRI#3 IRI#1 IRI#4\n",
    "\n",
    "3.  IRI#3 rdf:type IRI#2\n",
    "\n",
    "4.  przykłady:\n",
    "\n",
    "    -   dbo:hubAirport rdf:domain dbo:Airline\n",
    "\n",
    "    -   dbr: LOT$\\_$Polish$\\_$Airlines dbo:hubAirport dbr:Garbacz\n",
    "\n",
    "    -   dbr: LOT$\\_$Polish$\\_$Airlines rdf:type dbo:airline\n",
    "\n",
    "Przeciwdziedzina własności/relacji w RDFS – funkcje semantyczne\n",
    "\n",
    "1.  IRI#1 rdfs:range IRI#2\n",
    "\n",
    "2.  IRI#3 IRI#1 IRI#4\n",
    "\n",
    "3.  IRI#4 rdf:type IRI#2\n",
    "\n",
    "4.  przykłady:\n",
    "\n",
    "    -   dbo:hubAirport rdf:range dbo:Airport\n",
    "\n",
    "    -   dbr: LOT$\\_$Polish$\\_$Airlines dbo:hubAirport dbr:Garbacz\n",
    "\n",
    "    -   dbr:Garbacz rdf:type dbo:Airport\n",
    "\n",
    "Użyteczne relacje RDFS\n",
    "\n",
    "1.  rdfs:label\n",
    "\n",
    "2.  rdfs:comment\n",
    "\n",
    "3.  rdfs:seeAlso\n",
    "\n",
    "4.  rdfs:isDefinedBy\n",
    "\n",
    "5.  rdfs:value\n",
    "\n",
    "Pominięte elementy RDFS\n",
    "\n",
    "1.  zasobniki RDFS\n",
    "\n",
    "2.  kolekcje RDFS\n",
    "\n",
    "3.  (pod-)słownik reifikacyjny"
   ]
  },
  {
   "cell_type": "markdown",
   "id": "e6b31023",
   "metadata": {},
   "source": [
    "### Ranking zasobów danych – perspektywa LOD\n",
    "\n",
    "<img src=\"../pliki_z_internetu/LODMug.jpg\" width=\"400\" />\n",
    "\n"
   ]
  },
  {
   "cell_type": "markdown",
   "id": "717cb240",
   "metadata": {},
   "source": [
    "### Ranking zasobów danych – perspektywa LOD (2)\n",
    "\n",
    "1.  Zasób danych jest dostępny poprzez Internet.\n",
    "\n",
    "2.  Zasób danych jest ustrukturyzowany w formacie “zrozumiałym” dla\n",
    "    komputera.\n",
    "\n",
    "3.  Zasób danych jest ustrukturyzowany w publicznie dostępnym formacie\n",
    "    “zrozumiałym” dla komputera.\n",
    "\n",
    "4.  Zasób danych jest opublikowany zgodnie ze standardami *World Wide\n",
    "    Web Consortium* (<https://www.w3.org/>)\n",
    "\n",
    "5.  Zasób danych spełnia wszystkie poprzednie warunki i zawiera\n",
    "    odniesienia (*links*) do innych zasobów danych."
   ]
  },
  {
   "cell_type": "markdown",
   "id": "bd553729",
   "metadata": {},
   "source": [
    "### Reguły LOD Przy tworzeniu zasobu danych\n",
    "\n",
    "1.  do nazywania (rzeczy) używaj nazw typu URI!\n",
    "\n",
    "2.  używaj URI ze schematu http(s)!\n",
    "\n",
    "3.  używaj URI w standardzie W3C!\n",
    "\n",
    "4.  używaj odniesień do innych URI!"
   ]
  },
  {
   "cell_type": "markdown",
   "id": "d818c8ee",
   "metadata": {},
   "source": [
    "## SKOS"
   ]
  },
  {
   "cell_type": "markdown",
   "id": "5aade562",
   "metadata": {},
   "source": [
    "## Dublin Core"
   ]
  },
  {
   "cell_type": "markdown",
   "id": "92b4ee25",
   "metadata": {},
   "source": [
    "## schema.org"
   ]
  },
  {
   "cell_type": "markdown",
   "id": "eb23c839",
   "metadata": {},
   "source": [
    "## SHACL"
   ]
  },
  {
   "cell_type": "markdown",
   "id": "041ef83a",
   "metadata": {},
   "source": [
    "## FAIR"
   ]
  },
  {
   "cell_type": "markdown",
   "id": "cba6746f",
   "metadata": {},
   "source": [
    "## <span t=\"slide_title\">Bibliografia</span>\n",
    "- <span t=\"l1\">Dean Allemang, Fabien Gandon, James A. Hendler, *Semantic Web for the working ontologist,  Effective modeling for Linked Data, RDFS, and OWL*, ACM 2020</span>\n",
    "- <span t=\"l1\">Vannevar Bush, As We May Think. Atlantic Monthly 176 (1945), 101–108. DOI: [<span t=\"l1\">https://dl.acm.org/doi/10.1145/227181.227186</span>](https://dl.acm.org/doi/10.1145/227181.227186).</span>\n",
    "- <span t=\"l1\">I. Jacobs and N. Walsh. Dec. 2004. Architecture of the World Wide Web, Volume One. W3C Recommendation, W3C. [<span t=\"l1\">http://www.w3.org/TR/2004/REC-webarch-20041215/</span>](http://www.w3.org/TR/2004/REC-webarch-20041215/).</span>\n",
    "- [<span t=\"l1\">Jacobs i N. Walsh. 15 December 2004. Architecture of the World Wide Web, Volume One. W3C Recommendation</span>](https://www.w3.org/TR/webarch/)\n",
    "- <span t=\"l1\">Berners-Lee Tim, Hendler James, Lassila Ora, The Semantic Web, Scientific American, 2001, Vol. 284, no. 5. s. 34–43.</span>\n",
    "- [<span t=\"l1\">Berners-Lee T., Fielding R., Masinter L., Uniform Resource Identifiers (URI): Generic Syntax, RFC 2396, IETF, sierpień 1998, DOI: 10.17487/RFC2396.</span>](https://www.rfc-editor.org/rfc/rfc2396)\n",
    "\n"
   ]
  },
  {
   "cell_type": "code",
   "execution_count": null,
   "id": "cf8daea8",
   "metadata": {},
   "outputs": [],
   "source": []
  }
 ],
 "metadata": {
  "kernelspec": {
   "display_name": "Python 3",
   "language": "python",
   "name": "python3"
  },
  "language_info": {
   "codemirror_mode": {
    "name": "ipython",
    "version": 3
   },
   "file_extension": ".py",
   "mimetype": "text/x-python",
   "name": "python",
   "nbconvert_exporter": "python",
   "pygments_lexer": "ipython3",
   "version": "3.8.8"
  }
 },
 "nbformat": 4,
 "nbformat_minor": 5
}
