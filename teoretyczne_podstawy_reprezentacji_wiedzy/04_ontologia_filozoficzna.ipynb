{
 "cells": [
  {
   "cell_type": "markdown",
   "id": "3080af69",
   "metadata": {},
   "source": [
    "# Ontologia filozoficzna\n",
    "\n"
   ]
  },
  {
   "cell_type": "markdown",
   "id": "be98bda5",
   "metadata": {},
   "source": [
    "## Ontologia po raz pierwszy"
   ]
  },
  {
   "cell_type": "markdown",
   "id": "74ab62cf",
   "metadata": {},
   "source": [
    "### Ogdoas Scholastica\n",
    "\n",
    "Strona tytułowa *Ogdoas Scholastica* Jakoba Lorharda (pobrana z\n",
    "<a href=\"www.ontology.co\" class=\"uri\">www.ontology.co</a>)\n",
    "\n",
    "<img src=\"../pliki_z_internetu/lorhard.jpg\" width=\"800\"/>"
   ]
  },
  {
   "cell_type": "markdown",
   "id": "bab5c280",
   "metadata": {},
   "source": [
    "### Pierwsza definicja ontologii\n",
    "\n",
    "\n",
    "    \n",
    "> <div t=\"q\">[Ontologia jest] nauką o tym, co poznawalne jako poznawalne, o ile tylko jest poznawalne przez człowieka za pomocą przyrodzonego światła rozumu bez jakiegokolwiek pojęcia materii […]. </div>   "
   ]
  },
  {
   "cell_type": "markdown",
   "id": "0e09e502",
   "metadata": {},
   "source": [
    "> <div t=\"q\">Jest taka wiedza, która rozważa byt jako byt oraz to, co przysługuje mu w sposób istotny (Arystoteles, *Metafizyka* 1003a 20) $\\tau \\alpha  \\mu \\eta \\tau \\alpha   \\tau \\alpha  \\phi \\upsilon  \\sigma \\iota \\kappa \\alpha$ </div>  \n",
    "\n"
   ]
  },
  {
   "cell_type": "markdown",
   "id": "b5bcd6b2",
   "metadata": {},
   "source": [
    "### Lorharda klasyfikacja bytów \n",
    "\n",
    "$$\\label{equ:lorhard}\n",
    "\\text{[byt]} \\left\\{\n",
    "\\begin{array}{ll}\n",
    "\\text{uniwersalny} & \\left\\{\\begin{array}{ll} \\text{ogólny} \\left\\{\\begin{array}{ll} \\text{nicość} & \\\\ \\text{coś} & \\\\ \\end{array} \\right. \\\\ & \\\\ \\text{wspólne własności} & \\\\ \\end{array} \\right. \\\\\n",
    "\\text{konkretny} & \\left\\{\\begin{array}{ll} \\text{substancje\\index{substancja}} & \\\\ \\text{przypadłości} & \\\\ \\end{array} \\right. \\\\\n",
    "\\end{array} \\right.$$"
   ]
  },
  {
   "cell_type": "markdown",
   "id": "2d1ee722",
   "metadata": {},
   "source": [
    "<continue/>\n",
    "\n",
    "<img src=\"../pliki_z_internetu/lorhardTax.jpg\" width=\"800\"/>\n",
    "\n"
   ]
  },
  {
   "cell_type": "markdown",
   "id": "ee5f8a8e",
   "metadata": {},
   "source": [
    "## Gottfried W. Leibniz"
   ]
  },
  {
   "cell_type": "markdown",
   "id": "3263577b",
   "metadata": {},
   "source": [
    "### Gottfried W. Leibniz (1646-1716)\n",
    "\n",
    "<img src=\"../pliki_z_internetu/Leibniz.jpg\" width=\"400\"/>"
   ]
  },
  {
   "cell_type": "markdown",
   "id": "c10a3af6",
   "metadata": {},
   "source": [
    "### G. W. Leibniza koncepcja substancji\n",
    "\n",
    "\n",
    "    \n",
    "> <span t=\"q\"> […] \n",
    "a) substancja jest bytem mającym wewnętrzną tendencję działania, rozwoju, jest stałym centrum zmian  \n",
    "b) substancja jest podmiotem, czyli bytem, który nie tkwi w czymś innym, lecz jest podłożem wielu różnych cech i czynnikiem ich spójności \n",
    "c) substancja jest bytem zupełnym, scharakteryzowanym w każdym aspekcie \n",
    "d) substancja jest prawdziwą jednością, tj. bytem prostym, niezłożonym.</span>"
   ]
  },
  {
   "cell_type": "markdown",
   "id": "ca8c098e",
   "metadata": {},
   "source": [
    "<continue/>\n",
    "\n",
    "-   \"monady nie mają okien\"\n",
    "\n",
    "-   harmonia przedustawna\n",
    "\n",
    "-   zasadnie nieodróżnialności Leibniza: dwie substancje posiadają różne\n",
    "    własności\n",
    "\n",
    "    $x = y$  \n",
    "    wtedy i tylko wtedy gdy  \n",
    "    każda własność $x$ jest własnością $y$ i *vice versa*."
   ]
  },
  {
   "cell_type": "markdown",
   "id": "fe5b4668",
   "metadata": {},
   "source": [
    "### Zasad racji dostatecznej\n",
    "\n",
    "Wszystko ma swoją przyczynę."
   ]
  },
  {
   "cell_type": "markdown",
   "id": "f61a8ed6",
   "metadata": {},
   "source": [
    "### Idea *characteristica universalis*\n",
    "\n",
    "1.  Identyfikujemy pojęcia pierwotne, tj. takie, które, z jednej strony,\n",
    "    posłużą nam do zdefiniowania pozostałych pojęć, a które, z drugiej\n",
    "    strony, same nie są już dalej definiowalne.\n",
    "\n",
    "2.  Identyfikujemy prawidłowości (reguły), które łączą pojęcia pierwotne\n",
    "    ze sobą w taki sposób, że powstają pojęcia złożone.\n",
    "\n",
    "3.  Zastępujemy pojęcia pierwotne symbolami liczb (pierwszych).\n",
    "\n",
    "4.  Zastępujemy prawidłowości gramatyczne operacjami matematycznymi.\n",
    "\n",
    "5.  (Aby odkryć lub udowodnić jakąś prawdę) *liczymy*."
   ]
  },
  {
   "cell_type": "markdown",
   "id": "cf066416",
   "metadata": {},
   "source": [
    "## Christian Wolff "
   ]
  },
  {
   "cell_type": "markdown",
   "id": "f0aa9358",
   "metadata": {},
   "source": [
    "### Christian Wolff (1679-1754)\n",
    "\n",
    "<img src=\"../pliki_z_internetu/Wolff.jpg\" width=\"400\"/>\n"
   ]
  },
  {
   "cell_type": "markdown",
   "id": "80aa2a6d",
   "metadata": {},
   "source": [
    "### Koncepcja bytu Ch. Wolffa\n",
    "\n",
    "-   Bytem jest to, co *może* istnieć, czyli to, czego istota istota nie\n",
    "    jest sprzeczna.\n",
    "\n",
    "-   ogólne własności bytu (*affectiones*):\n",
    "\n",
    "    1.  istota\n",
    "\n",
    "    2.  egzystencja\n",
    "\n",
    "    3.  atrybut\n",
    "\n",
    "    4.  sposób (*modus*)\n",
    "\n",
    "    5.  konieczność\n",
    "\n",
    "    6.  przygodność\n",
    "\n",
    "    7.  miejsce\n",
    "\n",
    "    8.  czas\n",
    "\n",
    "    9.  doskonałość\n",
    "\n",
    "    10. porządek\n",
    "\n",
    "    11. prostota\n",
    "\n",
    "    12. złożenie\n",
    "\n",
    "    13. inne własności\n",
    "\n"
   ]
  },
  {
   "cell_type": "markdown",
   "id": "8c096a5f",
   "metadata": {},
   "source": [
    "### Fazy rozwoju ontologii filozoficznej\n",
    "\n",
    "1.  ontologia naturalna (*naturalis*)\n",
    "\n",
    "2.  ontologia sztuczna (*artificialis*)\n"
   ]
  },
  {
   "cell_type": "markdown",
   "id": "a8d6840c",
   "metadata": {},
   "source": [
    "## Bernard Bolzano"
   ]
  },
  {
   "cell_type": "markdown",
   "id": "a5ebdcad",
   "metadata": {},
   "source": [
    "### Bernard Bolzano (1781-1848)\n",
    "\n",
    "<img src=\"../pliki_z_internetu/Bolzano.jpg\" width=\"400\"/>\n",
    "\n",
    "\n",
    "\n",
    "\n",
    "\n"
   ]
  },
  {
   "cell_type": "markdown",
   "id": "1da98041",
   "metadata": {},
   "source": [
    "### Taksonomia bytów B. Bolzany\n",
    "\n",
    "1.  byty rzeczywiste\n",
    "\n",
    "    1.  substancje\n",
    "\n",
    "    2.  przypadłości\n",
    "\n",
    "2.  byty nierzeczywiste\n",
    "\n",
    "    1.  przedstawienia same w sobie\n",
    "\n",
    "    2.  sądy same w sobie"
   ]
  },
  {
   "cell_type": "markdown",
   "id": "f46cda75",
   "metadata": {},
   "source": [
    "### Koncepcja bytów nierzeczywistych B. Bolzano\n",
    "\n",
    "<img src=\"../pliki_z_internetu/BolzanoIdee.jpg\" width=\"400\"/>\n"
   ]
  },
  {
   "cell_type": "markdown",
   "id": "42c29d02",
   "metadata": {},
   "source": [
    "## Edmund Husserl "
   ]
  },
  {
   "cell_type": "markdown",
   "id": "15e2f815",
   "metadata": {},
   "source": [
    "### Edmund Husserl (1859-1938)\n",
    "\n",
    "<img src=\"../pliki_z_internetu/Husserl.jpg\" width=\"300\"/>"
   ]
  },
  {
   "cell_type": "markdown",
   "id": "b00e36d3",
   "metadata": {},
   "source": [
    "### Podział ontologii E. Husserla\n",
    "\n",
    "1.  ontologia materialna\n",
    "\n",
    "    1.  natura\n",
    "\n",
    "    2.  świadomość\n",
    "\n",
    "    3.  kultura (*Geist*)\n",
    "\n",
    "2.  ontologia formalna"
   ]
  },
  {
   "cell_type": "markdown",
   "id": "4b2f907c",
   "metadata": {},
   "source": [
    "### Fundamentalne kategorie ontologii formalnej\n",
    "\n",
    "1.  przedmioty indywidualne\n",
    "\n",
    "2.  gatunki, własności i relacje\n",
    "\n",
    "3.  relacja zależności, np.\n",
    "\n",
    "    -   zależność pomiędzy jednym a drugim biegunem magnesu\n",
    "\n",
    "    -   zależność pomiędzy przedmiotem (niższego rzędu) a nadbudowaną\n",
    "        nad nim całością (wyższego rzędu), np. pomiędzy poszczególnymi\n",
    "        słowami zdania a samym zdaniem\n",
    "\n",
    "    -   zależność pomiędzy pytaniem a udzieloną odpowiedzią.\n",
    "\n",
    "4.  stany rzeczy\n",
    "\n",
    "5.  relacja części-całość\n",
    "\n",
    "6.  …"
   ]
  },
  {
   "cell_type": "markdown",
   "id": "ce08deb3",
   "metadata": {},
   "source": [
    "## Roman Ingarden"
   ]
  },
  {
   "cell_type": "markdown",
   "id": "010b93c1",
   "metadata": {
    "id": "010b93c1"
   },
   "source": [
    "### Roman Ingarden (1893-1970)\n",
    "\n",
    "<img src=\"../pliki_z_internetu/Ingarden.jpg\" width=\"300\"/>\n"
   ]
  },
  {
   "cell_type": "markdown",
   "id": "df03d860",
   "metadata": {},
   "source": [
    "### Ingardenowska definicja ontologii\n",
    "\n",
    "\n",
    "\n",
    "> <span t=\"q\">Ontologia […] to nauka aprioryczna (tzn. epistemologicznie niezależna od spostrzeżenia zewnętrznego czy wewnętrznego, oparta na doświadczeniu ejdetycznym), która w intuitywnej (intelektualnej) analizie zawartości idei odkrywa i ustala czyste możliwości i związki konieczne pomiędzy czystymi jakościami idealnymi. (Stępień, 1999, s. 269)\n",
    "</span>\n",
    "\n",
    "> <span t=\"q\">Metafizyka jest […] nauką o stanach koniecznościowych zachodzących w obrębie tego, co faktycznie istniejące, nauką o istocie tego, co faktycznie istnieje. (Stępień, 1999, s. 271)\n",
    "</span>\n",
    "\n"
   ]
  },
  {
   "cell_type": "markdown",
   "id": "2515dee8",
   "metadata": {},
   "source": [
    "### Działy ontologii w/g R. Ingardena\n",
    "\n",
    "1.  ontologia egzystencjalna\n",
    "\n",
    "2.  ontologia formalna\n",
    "\n",
    "3.  ontologia materialna"
   ]
  },
  {
   "cell_type": "markdown",
   "id": "46e6b7aa",
   "metadata": {},
   "source": [
    "### Aspekty bytu\n",
    "\n",
    "> <span t=\"q\">Każdy przedmiot (coś w ogóle) może być rozważany [...] pod trzema różnymi właściwymi mu względami: (1) co do swego istnienia i sposobu istnienia, (2) co do swej formy [struktury], (3) co do swego materialnego [jakościowego] uposażenia. Ingarden, 1987, s. 68\n",
    "</span>"
   ]
  },
  {
   "cell_type": "markdown",
   "id": "6c780ae3",
   "metadata": {},
   "source": [
    "### Aspekty egzystencjalny\n",
    "\n",
    "    \n",
    "> <span t=\"q\">W sprawach egzystencjalnych należy rozróżnić dwa zasadniczo odmienne pytania: (a) czy pewien przedmiot x w jakimkolwiek sensie we właściwy mu sposób faktycznie istnieje [a więc przedmiot może faktycznie nie istnieć] i (b) jakiego rodzaju jest sposób istnienia przedmiotu x, wyznaczony przez jego istotę. Ingarden, 1987, s. 69</span>"
   ]
  },
  {
   "cell_type": "markdown",
   "id": "8319a678",
   "metadata": {},
   "source": [
    "### Sposoby istnienia – definicja\n",
    "    \n",
    "> <span t=\"q\">Najpierw ustalmy myślowo własności […] pewnej nie istniejącej lampy i przeciwstawmy ją lampie dokładnie takiej samej co do wszystkich jej własności […], ale już istniejącej. […] co musi się niejako ,,dołączyć” do owej nie istniejącej lampy, żeby istniała, co odróżnia ją od lampy istniejącej? […] Otóż ogół tego, co ją w ten sposób od nie istniejącej ,,lampy” różni, nazywam jej sposobem istnienia. Ingarden, 1987, s. 86-87</span>"
   ]
  },
  {
   "cell_type": "markdown",
   "id": "85a89ca9",
   "metadata": {},
   "source": [
    "### Podstawowe sposoby istnienia\n",
    "\n",
    "1.  istnienie absolutne\n",
    "\n",
    "2.  istnienie idealne\n",
    "\n",
    "3.  istnienie realne\n",
    "\n",
    "4.  istnienie intencjonalne"
   ]
  },
  {
   "cell_type": "markdown",
   "id": "7d18d76b",
   "metadata": {},
   "source": [
    "### Momenty istnienia\n",
    "\n",
    "1.  samoistność – niesamoistność\n",
    "\n",
    "2.  pierwotność – pochodność\n",
    "\n",
    "3.  samodzielność – niesamodzielność\n",
    "\n",
    "4.  niezależność – zależność"
   ]
  },
  {
   "cell_type": "markdown",
   "id": "f04f8ba3",
   "metadata": {},
   "source": [
    "### Samoistność vs niesamoistność\n",
    "    \n",
    "> <span t=\"q\">Coś istnieje samoistnie (jest bytowo autonomiczne), jeżeli ma samo w sobie swój fundament bytowy. Ma zaś w sobie taki fundament, jeżeli samo w sobie jest immanetnie określone. Coś natomiast istnieje niesamoistnie (jest bytowo heteronomiczne), jeżeli swój bytowy fundament ma nie w sobie samym, ale w czymś innym. Ingarden, 1987, s. 84</span>    "
   ]
  },
  {
   "cell_type": "markdown",
   "id": "207b18b8",
   "metadata": {},
   "source": [
    "### Pierwotność – pochodność\n",
    "    \n",
    "> <span t=\"q\">Przedmiot jest bytowo pierwotny, jeżeli z istoty swej nie może być wytworzony przez żaden inny przedmiot. […] Przedmiot jest natomiast bytowo pochodny, jeżeli w swej istocie jest taki, że istnieć może tylko z wytworzenia przez inny przedmiot. Ingarden, 1987, s. 92</span> "
   ]
  },
  {
   "cell_type": "markdown",
   "id": "a8f7ac4a",
   "metadata": {},
   "source": [
    "### Samodzielność – niesamodzielność\n",
    "    \n",
    "> <span t=\"q\">Przedmiot istnieje samodzielnie, jeżeli nie wymaga z istoty swej istnienia żadnego innego przedmiotu, z którym musiałby współistnieć w obrębie jednej i tej samej całości. […] Natomiast coś jest bytowo niesamodzielne, jeżeli istnienie jego jest z jego istoty koniecznym współistnieniem w obrębie jednej całości z czymś innym […]. Ingarden, 1987, s. 116\n",
    "</span>    "
   ]
  },
  {
   "cell_type": "markdown",
   "id": "cf950fc5",
   "metadata": {},
   "source": [
    "### Niezależność – zależność\n",
    "    \n",
    "> <span t=\"q\">Jest […] możliwe, że pewien przedmiot jest bytowo samodzielny, a pomimo to z istoty swej wymaga dla swego istnienia jakiegoś innego przedmiotu bytowo samodzielnego. Mówimy wtedy o nim, że jest od niego bytowo zależny. […] Gdy natomiast pewien bytowo samodzielny przedmiot nie wymaga z istoty swej dla swego istnienia żadnego bytowo samodzielnego, a tym samym żadnego w ogóle innego przedmiotu, wówczas jest w sensie absolutnym bytowo niezależny. Ingarden, 1987, s. 122</span>    "
   ]
  },
  {
   "cell_type": "code",
   "execution_count": null,
   "id": "bf663ce6",
   "metadata": {},
   "outputs": [],
   "source": []
  }
 ],
 "metadata": {
  "kernelspec": {
   "display_name": "Python 3",
   "language": "python",
   "name": "python3"
  },
  "language_info": {
   "codemirror_mode": {
    "name": "ipython",
    "version": 3
   },
   "file_extension": ".py",
   "mimetype": "text/x-python",
   "name": "python",
   "nbconvert_exporter": "python",
   "pygments_lexer": "ipython3",
   "version": "3.8.8"
  }
 },
 "nbformat": 4,
 "nbformat_minor": 5
}
