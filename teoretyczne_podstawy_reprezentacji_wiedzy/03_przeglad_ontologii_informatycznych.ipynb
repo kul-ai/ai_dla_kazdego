{
 "cells": [
  {
   "cell_type": "markdown",
   "id": "90a63dea",
   "metadata": {},
   "source": [
    "# Przegląd ontologii"
   ]
  },
  {
   "cell_type": "markdown",
   "id": "7600a1b2",
   "metadata": {},
   "source": [
    "## Cyc\n",
    "\n",
    "\n",
    "\n",
    "\n"
   ]
  },
  {
   "cell_type": "markdown",
   "id": "493bf4fc",
   "metadata": {},
   "source": [
    "### Wiedza w ontologii Cyc\n",
    "\n",
    "-   baza wiedzy zdroworozsądkowej (*common-sense knowledge*)\n",
    "\n",
    "    -   teoria aksjomatyczna\n",
    "\n",
    "    -   język logiki drugiego rzędu (oparty na notacji języka LISP)\n",
    "\n",
    "    -   prawie 500 000 terminów/słów\n",
    "\n",
    "    -   około 15 000 relacji\n",
    "\n",
    "    -   ponad 7 000 000 aksjomatów\n",
    "\n",
    "-   “silnik” wnioskujący\n",
    "\n",
    "-   moduł przetwarzania języka etnicznego"
   ]
  },
  {
   "cell_type": "markdown",
   "id": "de3cdcdb",
   "metadata": {},
   "source": [
    "### Cyc jako produkt\n",
    "\n",
    "-   D. Lenat, R. Guha i in.\n",
    "\n",
    "-   Cycorp - <a href=\"www.cyc.com\" class=\"uri\">www.cyc.com</a>\n",
    "\n",
    "-   zastosowania\n",
    "\n",
    "    1.  informatyka medyczna\n",
    "\n",
    "    2.  analiza finansowa\n",
    "\n",
    "    3.  bezpieczeństwo systemów komputerowych\n",
    "\n",
    "    4.  …\n",
    "\n",
    "-   wersje Cyc:\n",
    "\n",
    "    -   OpenCyc\n",
    "\n",
    "    -   ResearchCyc\n",
    "\n",
    "    -   EnterpriseCyc"
   ]
  },
  {
   "cell_type": "markdown",
   "id": "0ae9c64c",
   "metadata": {},
   "source": [
    "### Struktura bazy wiedzy Cyc\n",
    "\n",
    "-   dwie relacje teoriomnogościowe\n",
    "\n",
    "    1.  isa - $\\in$\n",
    "\n",
    "        -   `#isa #Lublin #City`\n",
    "\n",
    "    2.  genls - $\\subset$\n",
    "\n",
    "        -   `#genls #City #GeographicalRegion`\n",
    "\n",
    "-   mikroteorie\n",
    "\n",
    "    -   reprezentacja kontekstu\n",
    "\n",
    "    -   przynajmniej jedna mikroteoria dla każdego stwierdzenia\n",
    "\n",
    "    -   relacja bardziej-mniej ogólna\n",
    "\n",
    "    -   mikroteorie mogą być sprzeczne!"
   ]
  },
  {
   "cell_type": "markdown",
   "id": "74047287",
   "metadata": {},
   "source": [
    "### Rzut oka na strukturę Cyc\n",
    "\n",
    "<img src=\"../pliki_z_internetu/kbase.png\" width=\"600\"/>\n",
    "\n",
    "\n"
   ]
  },
  {
   "cell_type": "markdown",
   "id": "7d9f5566",
   "metadata": {},
   "source": [
    "### “Góra” mikroteorii BaseKB\n",
    "\n",
    "Kategorie ontologiczne Cyc\n",
    "<img src=\"../pliki_z_internetu/Cyc.jpg\" width=\"500\"/>\n"
   ]
  },
  {
   "cell_type": "markdown",
   "id": "92dfe0a5",
   "metadata": {},
   "source": [
    "### Co OpenCyc wie o Lublinie?\n",
    "\n",
    "Co to jest Lublin?\n",
    "<img src=\"../pliki_z_internetu/Lublin.jpg\" width=\"500\"/>\n"
   ]
  },
  {
   "cell_type": "markdown",
   "id": "c809ad46",
   "metadata": {},
   "source": [
    "### http://umbel.org/\n",
    "\n",
    "[Otwórz graf wiedzy UMBEL](run:umbel.pdf)"
   ]
  },
  {
   "cell_type": "markdown",
   "id": "596a9deb",
   "metadata": {},
   "source": [
    "## DOLCE\n",
    "\n",
    "\n",
    "\n",
    "\n",
    "\n"
   ]
  },
  {
   "cell_type": "markdown",
   "id": "d3f468be",
   "metadata": {},
   "source": [
    "### DOLCE – ontologia kognitywna\n",
    "\n",
    "-   *Descriptive Ontology for Linguistic and Cognitive Engineering*\n",
    "\n",
    "-   Laboratory for Applied Ontology (LOA) –\n",
    "    <http://www.loa.istc.cnr.it/old/DOLCE.html>\n",
    "\n",
    "-   metodologia OntoClean\n",
    "\n",
    "-   wersja “oficjalna”\n",
    "\n",
    "    -   węższy rachunek predykatów z identycznością, rozszerzony o język\n",
    "        logiki modalnej\n",
    "\n",
    "    -   ok. 80 aksjomatów i kilkaset definicji pomocniczych\n",
    "\n",
    "-   wersja OWL"
   ]
  },
  {
   "cell_type": "markdown",
   "id": "de3de57f",
   "metadata": {},
   "source": [
    "-   kategorie specyficzne dla zdroworozsądkowego sposobu postrzegania\n",
    "    otaczającej nas rzeczywistości, które znalazły swoje\n",
    "    odzwierciedlenie w postaci słów i wyrażeń języka potocznego\n",
    "\n",
    "-   inspirowana kognitywistyką, m. in. teorią przestrzeni pojęciowych P.\n",
    "    Gardenforsa, oraz badaniami lingwistycznymi, m. in. klasyfikacją\n",
    "    czasowników Z. Vendlera\n",
    "\n",
    "-   ponad czterdzieści kategorii (klas przedmiotów) oraz ponad sto\n",
    "    relacji"
   ]
  },
  {
   "cell_type": "markdown",
   "id": "7f7ec2c5",
   "metadata": {},
   "source": [
    "### DOLCE – *helicopter view*\n",
    "\n",
    "Taksonomia DOLCE\n",
    "<img src=\"../pliki_z_internetu/dolce.png\" width=\"500\"/>"
   ]
  },
  {
   "cell_type": "markdown",
   "id": "07b1d0b8",
   "metadata": {},
   "source": [
    "### Filozoficzne założenia DOLCE\n",
    "\n",
    "-   Zachodzi różnica ontologiczna pomiędzy bytami uniwersalnymi i\n",
    "    konkretnymi.\n",
    "\n",
    "-   DOLCE jest ontologią bytów konkretnych (kategoria PT), które są\n",
    "    klasyfikowane za pomocą kategorii uniwersalnych, z których zbudowana\n",
    "    jest ta ontologia.\n",
    "\n",
    "-   Zachodzi ontologiczna różnica pomiędzy bytami abstrakcyjnymi, tj.\n",
    "    istniejącymi poza czasem i przestrzenią, należącymi do kategorii AB,\n",
    "    a bytami konkretnymi, istniejącymi przynajmniej w czasie.\n",
    "\n",
    "-   Zachodzi ontologiczna różnica pomiędzy bytami *trwającymi* w czasie\n",
    "    i obecnymi ,,w całości” w każdej chwili swojego istnienia,\n",
    "    należącymi do kategorii ED, a bytami *zmieniającymi się* w czasie,\n",
    "    posiadającymi w różnych chwilach swojego istnienia osobne fazy\n",
    "    (części czasowe), należącymi do kategorii PD.\n",
    "\n"
   ]
  },
  {
   "cell_type": "markdown",
   "id": "c5088da9",
   "metadata": {},
   "source": [
    "\n",
    "-   Zachodzi ontologiczna różnica pomiędzy własnościami konkretnymi,\n",
    "    które można obserwować lub mierzyć, należącymi do kategorii Q, a\n",
    "    abstrakcyjnymi ,,wartościami” tych własności (*quale*) należącymi do\n",
    "    kategorii regionów R, która jest podkategorią kategorii AB.\n",
    "\n",
    "-   Dwa lub więcej różnych przedmiotów materialnych może zajmować tę\n",
    "    samą przestrzeń w tym samym, czasie.\n",
    "\n",
    "-   Istnieją byty przeszłe, teraźniejsze i przyszłe (eternalizm)."
   ]
  },
  {
   "cell_type": "markdown",
   "id": "e6e5abe4",
   "metadata": {},
   "source": [
    "### Najważniejsze relacje w DOLCE\n",
    "\n",
    "-   partycypacja (*participation*) – jest to relacja trójargumentowa,\n",
    "    której pierwszym argumentem mogą być elementy klasy ED, drugim\n",
    "    argumentem elementy klasy PD, zaś trzecim czas.\n",
    "\n",
    "-   konstytucja (*constitution*) – jest to relacja trójargumentowa,\n",
    "    której pierwszym argumentem mogą być elementy klasy ED lub PD,\n",
    "    drugim argumentem elementy klasy ED lub PD, zaś trzecim czas.\n",
    "\n",
    "-   bycie częścią (*parthood*) – jest to relacja dwuargumentowa, której\n",
    "    argumentami mogą być elementy klasy AB lub PD.\n",
    "\n"
   ]
  },
  {
   "cell_type": "markdown",
   "id": "3e954983",
   "metadata": {},
   "source": [
    "\n",
    "-   czasowe bycie częścią (*temporary parthood*) – jest to relacja\n",
    "    trójargumentowa, której pierwszym argumentem mogą być elementy klasy\n",
    "    ED, drugim argumentem elementy klasy PD, zaś trzecim czas\n",
    "\n",
    "-   bycie własnością (*quality*) – jest to relacja dwuargumentowa,\n",
    "    której pierwszym argumentem mogą być elementy klasy Q, zaś drugim\n",
    "    elementy klasy Q, ED lub PD)\n",
    "\n",
    "-   bycie wartością własności (*quale*) – jest to relacja\n",
    "    dwuargumentowa, której pierwszym argumentem mogą być tzw. regiony\n",
    "    czasowe (*temporal region*) z kategorii TR, zaś drugim jakości\n",
    "    czasowe z kategorii Temporal Quality)"
   ]
  },
  {
   "cell_type": "markdown",
   "id": "6e4c1512",
   "metadata": {},
   "source": [
    "### Inspiracje lingwistyczne – klasyfikacja PD\n",
    "\n",
    "1.  zdarzenia (*events* – EV): klasa $A$ jest klasą zdarzeń, gdy $A$\n",
    "    jest podporządkowana PD i mereologiczna suma pewnych dwóch elementów\n",
    "    $A$ *nie* należy do $A$.\n",
    "\n",
    "2.  statywy (*stative* – STV): klasa $A$ jest klasą statywów, gdy $A$\n",
    "    jest podporządkowana PD i mereologiczna suma dowolnych dwóch\n",
    "    elementów $A$ należy do $A$."
   ]
  },
  {
   "cell_type": "markdown",
   "id": "beea6ff3",
   "metadata": {},
   "source": [
    "1.  zdarzenia: wykład, bieg, *Big Bang*, rozszczepienie jądra atomu.\n",
    "\n",
    "2.  statywy: siedzenie, podtrzymywanie, fotosynteza."
   ]
  },
  {
   "cell_type": "markdown",
   "id": "8ec598da",
   "metadata": {},
   "source": [
    "1.  zdarzenia\n",
    "\n",
    "    -   osiągnięcia (*achievements* – ACH): klasa $A$ jest klasą\n",
    "        osiągnięć, gdy $A$ jest podporządkowana EV i żaden element klasy\n",
    "        $A$ nie ma części.\n",
    "\n",
    "    -   realizacje (*accomplishments* – ACC): klasa $A$ jest klasą\n",
    "        realizacji, gdy $A$ jest podporządkowana EV i każdy element\n",
    "        klasy $A$ ma części.\n",
    "\n",
    "2.  statywy:\n",
    "\n",
    "    -   stany (*states* – ST): klasa $A$ jest klasą stanów, gdy $A$ jest\n",
    "        podporządkowana STV i każda część każdego elementu klasy $A$\n",
    "        należy do $A$.\n",
    "\n",
    "    -   procesy (*processes* – PRO): klasa $A$ jest klasą procesów, gdy\n",
    "        $A$ jest podporządkowana STV i pewne części każdego elementu\n",
    "        klasy $A$ *nie* należą do $A$."
   ]
  },
  {
   "cell_type": "markdown",
   "id": "436c3205",
   "metadata": {},
   "source": [
    "\n",
    "1.  zdarzenia\n",
    "\n",
    "    -   osiągnięcia: *Big Bang*, rozszczepienie jądra atomu.\n",
    "\n",
    "    -   realizacje: wykład, bieg.\n",
    "\n",
    "2.  statywy:\n",
    "\n",
    "    -   stany: siedzenie, podtrzymywanie.\n",
    "\n",
    "    -   procesy: fotosynteza."
   ]
  },
  {
   "cell_type": "markdown",
   "id": "77b86907",
   "metadata": {},
   "source": [
    "## BFO\n",
    "\n",
    "\n"
   ]
  },
  {
   "cell_type": "markdown",
   "id": "1f9512ba",
   "metadata": {},
   "source": [
    "### BFO – ontologia realizmu filozoficznego\n",
    "\n",
    "-   **B**asic **F**ormal **O**ntology\n",
    "\n",
    "-   ontologia stosowana inspirowana filozofią Arystotelesa\n",
    "\n",
    "-   *Institut für Formale Ontologie und Medizinische\n",
    "    Informationswissenschaft* – <http://ifomis.uni-saarland.de/bfo/>\n",
    "\n",
    "-   zastosowania: biologia i nauki medyczne\n",
    "\n",
    "-   metodologia OBO Foundry\n",
    "\n",
    "-   formalna wielopostaciowość:\n",
    "\n",
    "    -   wersje 1.0, 1.1, 2.0\n",
    "\n",
    "    -   język OWL, Isabelle, CLIF"
   ]
  },
  {
   "cell_type": "markdown",
   "id": "1782deba",
   "metadata": {},
   "source": [
    "### Kategorie BFO\n",
    "\n",
    "-   kategorie typu SNAP – przedmioty trwającymi w czasie – najbardziej\n",
    "    ogólną kategorią jest Continuant.\n",
    "\n",
    "-   kategorie typu SPAN – procesy lub zdarzenia – najbardziej ogólną\n",
    "    kategorią jest Occurent.\n",
    "\n",
    "Kategorie BFO vs kategorie DOLCE\n",
    "\n",
    "<div t=\"t\">\n",
    "    \n",
    "|          **BFO**           | **DOLCE** |\n",
    "|:--------------------------:|:---------:|\n",
    "|         Continuant         |    ED     |\n",
    "|          Occurent          |    PD     |\n",
    "|             \\-             |    AB     |\n",
    "|          quality           |     Q     |\n",
    "| (podkategoria Continuant ) |           |\n",
    "\n",
    "</div>"
   ]
  },
  {
   "cell_type": "markdown",
   "id": "9ca90680",
   "metadata": {},
   "source": [
    "### Filozoficzne założenia BFO\n",
    "\n",
    "-   realizm – rzeczywistość istnieje niezależnie od poznających ją ludzi\n",
    "    i ich schematów pojęciowych\n",
    "\n",
    "-   perspektywizm – istnieje wiele adekwatnych opisów (tej samej)\n",
    "    rzeczywistości (chociaż nie każdy opis jest tak samo wartościowy,\n",
    "    jak pozostałe)\n",
    "\n",
    "-   fallibilizm – teorie naukowe zmieniają się w czasie, odpowiednio do\n",
    "    nowych odkryć\n",
    "\n",
    "-   adekwatyzm – przedmioty w dziedzinie reprezentowanej przez ontologię\n",
    "    nie powinny być redukowane do innych przedmiotów"
   ]
  },
  {
   "cell_type": "markdown",
   "id": "a643f524",
   "metadata": {},
   "source": [
    "### BFO – klasyfikacja Continuant\n",
    "\n",
    "<img src=\"../pliki_z_internetu/BFO_Continuants.jpg\" width=\"600\"/>"
   ]
  },
  {
   "cell_type": "markdown",
   "id": "faf96323",
   "metadata": {},
   "source": [
    "### BFO – klasyfikacja Occurent\n",
    "\n",
    "<img src=\"../pliki_z_internetu/BFO_Occurents.jpg\" width=\"600\"/>"
   ]
  },
  {
   "cell_type": "markdown",
   "id": "a65d39e9",
   "metadata": {},
   "source": [
    "### Bioportal\n",
    "\n",
    "http://bioportal.bioontology.org"
   ]
  },
  {
   "cell_type": "markdown",
   "id": "d4808ac5",
   "metadata": {},
   "source": [
    "### Zastosowania BFO\n",
    "\n",
    "1.  ACGT Master Ontology\n",
    "\n",
    "2.  Adverse Event Ontology\n",
    "\n",
    "3.  AFO Foundational Ontology\n",
    "\n",
    "4.  Biomedical Ethics Ontology\n",
    "\n",
    "5.  Biomedical Grid Terminology\n",
    "\n",
    "6.  BioTop\n",
    "\n",
    "7.  BIRNLex\n",
    "\n",
    "8.  Blood Ontology\n",
    "\n",
    "9.  Body Fluids Ontology\n",
    "\n",
    "10. Cell Cycle Ontology\n",
    "\n",
    "11. Cell Line Ontology (CLO)\n",
    "\n",
    "12. Cell Ontology\n",
    "\n",
    "13. Chemical Entities of Biological Interest\n",
    "\n",
    "14. CHRONIOUS Ontology Suite\n",
    "\n",
    "15. Clusters of Orthologous Groups Analysis Ontology\n",
    "\n",
    "16. Cognitive Paradigm Ontology\n",
    "\n",
    "17. Common Anatomy Reference Ontology\n",
    "\n",
    "18. Conceptual Model Ontology\n",
    "\n",
    "19. Coriell Cell Line Ontology\n",
    "\n",
    "20. CPR ontology\n",
    "\n",
    "21. Drug Interaction Ontology\n",
    "\n",
    "22. Dynamic Earth Sciences Ontologies\n",
    "\n",
    "23. Emotion Ontology\n",
    "\n",
    "24. Environment Ontology\n",
    "\n",
    "25. EuPathDB\n",
    "\n",
    "26. Evolution Ontology\n",
    "\n",
    "27. Experimental Factor Ontology\n",
    "\n",
    "28. FlyBase\n",
    "\n",
    "29. Foundational Model of Anatomy\n",
    "\n",
    "30. Gastrointestinal Endoscopy Ontology\n",
    "\n",
    "31. **Gene Ontology**\n",
    "\n",
    "32. Infectious Disease Ontology\n",
    "\n",
    "33. **Information Artifact Ontology**\n",
    "\n",
    "34. Interdisciplinary Prostate Ontology\n",
    "\n",
    "35. Lipid Ontology\n",
    "\n",
    "36. Mental Disease Ontology\n",
    "\n",
    "37. Middle Layer Ontology for Clinical Care\n",
    "\n",
    "38. Nanoparticle Ontology\n",
    "\n",
    "39. Neuroscience Information Framework Standard Ontology\n",
    "\n",
    "40. Ontology of Clinical Research\n",
    "\n",
    "41. Ontology of Data Mining Investigations\n",
    "\n",
    "42. Ontology for Biomedical Investigations\n",
    "\n",
    "43. Ontology for General Medical Science\n",
    "\n",
    "44. Ontology for Newborn Screening and Translational Research\n",
    "\n",
    "45. Ontology of Biomedical Reality for the pathology domain of spine\n",
    "    (scoliosis domain)\n",
    "\n",
    "46. Parasite Experiment Ontology\n",
    "\n",
    "47. Petrochemical Ontology\n",
    "\n",
    "48. Phenotypic Quality Ontology\n",
    "\n",
    "49. Proteomics data and process provenance ontology\n",
    "\n",
    "50. Protein Ontology\n",
    "\n",
    "51. RNA Ontology\n",
    "\n",
    "52. Saliva Ontology\n",
    "\n",
    "53. Senselab Ontology\n",
    "\n",
    "54. Sequence Ontology\n",
    "\n",
    "55. Sleep Domain Ontology\n",
    "\n",
    "56. Subcellular Anatomy Ontology\n",
    "\n",
    "57. Translaftional Medicine Ontology\n",
    "\n",
    "58. Vaccine Ontology\n",
    "\n",
    "59. yOWL\n",
    "\n",
    "60. Zebrafish Anatomical Ontology"
   ]
  },
  {
   "cell_type": "markdown",
   "id": "fd7f460f",
   "metadata": {},
   "source": [
    "## CIDOC CRM\n",
    "\n"
   ]
  },
  {
   "cell_type": "markdown",
   "id": "6a5ebaa6",
   "metadata": {},
   "source": [
    "### Ontologia CIDOC CRM\n",
    "\n",
    "-   *International Committee for Documentation of the International\n",
    "    Council of Museums*\n",
    "\n",
    "-   model danych dla systemów reprezentujących informacje o dziedzictwie\n",
    "    kulturowym\n",
    "\n",
    "-   <a href=\"www.cidoc-crm.org\" class=\"uri\">www.cidoc-crm.org</a>\n",
    "\n",
    "-   ok. 100 kategorii oraz 150 relacji"
   ]
  },
  {
   "cell_type": "markdown",
   "id": "fafb38b4",
   "metadata": {},
   "source": [
    "### Ontologia CIDOC CRM – zastosowania\n",
    "\n",
    "-   wyznaczenie standardu dobrych praktyk w modelowaniu pojęciowym\n",
    "    (*conceptual modelling*) systemów informatycznych\n",
    "\n",
    "-   definicja wspólnego języka, w którym specjaliści z dziedziny\n",
    "    dziedzictwa kulturowego (np. muzealnicy, archiwiści, bibliotekarze,\n",
    "    itd.) mogliby się porozumiewać z informatykami budującymi systemy\n",
    "    komputerowe dla tej dziedziny\n",
    "\n",
    "-   kodyfikacja języka służącego do automatycznej wymiany danych,\n",
    "    migracji danych, integracji danych i negocjacji wymiany danych\n",
    "    pomiędzy różnymi systemami komputerowymi\n",
    "\n",
    "-   ustanowienie platformy, w obrębie której różne systemy informatyczne\n",
    "    mogłyby pozyskiwać wzajemnie od siebie informacje za pomocą zapytań"
   ]
  },
  {
   "cell_type": "markdown",
   "id": "b488e036",
   "metadata": {},
   "source": [
    "### Ontologia CIDOC CRM – specyfika\n",
    "\n",
    "-   podstawowa (kanoniczna) ontologia jest zapisana w języku etnicznym\n",
    "\n",
    "-   liczba relacji przekracza liczbę kategorii: kategoria powinna być\n",
    "    dziedziną lub przeciwdziedziną jakiejś relacji\n",
    "\n",
    "-   CIDRO CRM umożliwia reprezentację sprzecznych przekonań\n",
    "\n",
    "-   awersja do zupełnych i rozłącznych podziałów logicznych\n",
    "\n",
    "-   CIDOC CRM wspiera tzw. wielokrotną kategoryzację (*multiple\n",
    "    inheritance*): jeden przedmiot może być instancją dwóch kategorii, z\n",
    "    których żadna nie jest podporządkowana drugiej"
   ]
  },
  {
   "cell_type": "markdown",
   "id": "0a03118b",
   "metadata": {},
   "source": [
    "### Grupy kategorii CIDOC CRM\n",
    "\n",
    "<img src=\"../pliki_z_internetu/CIDOC.png\" width=\"600\"/>\n",
    "\n"
   ]
  },
  {
   "cell_type": "markdown",
   "id": "23ee09b2",
   "metadata": {},
   "source": [
    "### Wybrane kategorie CIDOC CRM\n",
    "\n",
    "-   określenia (*appelations*):\n",
    "\n",
    "    -   $\\mathsf{E45 ~Address}$\n",
    "\n",
    "    -   $\\mathsf{E50 ~Data}$\n",
    "\n",
    "    -   $\\mathsf{E35 ~Title}$\n",
    "\n",
    "-   uczestnicy:\n",
    "\n",
    "    -   $\\mathsf{E21 ~Person}$\n",
    "\n",
    "    -   $\\mathsf{E40~ Legal ~Body}$\n",
    "\n",
    "-   procesy/zdarzenia:\n",
    "\n",
    "    -   $\\mathsf{E80 ~Part ~Removal}$\n",
    "\n",
    "    -   $\\mathsf{E65 ~Creation}$\n",
    "\n",
    "    -   $\\mathsf{E69 ~Death}$\n",
    "\n",
    "-   pojęcia:\n",
    "\n",
    "    -   $\\mathsf{E31 ~Design ~or~ Procedure}$\n",
    "\n",
    "    -   $\\mathsf{E30 ~Right}$"
   ]
  },
  {
   "cell_type": "markdown",
   "id": "93d02ba2",
   "metadata": {},
   "source": [
    "-   przedmioty materialne:\n",
    "\n",
    "    -   $\\mathsf{E78 ~Collection}$\n",
    "\n",
    "    -   $\\mathsf{E84~ Information ~Carrier}$\n",
    "\n",
    "-   miejsca – ta grupa zawiera tylko jedną kategorię:\n",
    "    $\\mathsf{E53 ~Place}$\n",
    "\n",
    "-   interwały czasowe – ta grupa zawiera tylko jedną kategorię:\n",
    "    $\\mathsf{E52 ~Time-Span}$\n",
    "\n",
    "-   typy – ta grupa obejmuje wszystkie kategorie ontologii\n",
    "    $\\mathsf{CIDOC ~CRM}$ (jako swe instancje) oraz wszystkie klasy\n",
    "    każdego modelu danych, który wykorzystuje tę ontologię"
   ]
  },
  {
   "cell_type": "markdown",
   "id": "be39ee49",
   "metadata": {},
   "source": [
    "### Co to jest ontologia formalna?\n",
    "\n",
    "1.  formalna vs nieformalna\n",
    "2.  formalna vs lokalna\n",
    "3.  formalna vs materialna\n",
    "4.  formalna vs “kawiarniana”"
   ]
  },
  {
   "cell_type": "markdown",
   "id": "f07d76e4",
   "metadata": {},
   "source": [
    "### CIDOC CRM jako “ontologia formalna”\n",
    "\n",
    "-   lista kategorii tej ontologii (włączając w to relacje) oraz ich nazw\n",
    "    jest ustalona i niezmienna w obrębie każdej wersji tej ontologii\n",
    "-   opis każdej kategorii ma tę samą strukturę – podobnie rzecz się ma z\n",
    "    opisami relacji\n",
    "-   kategorie tej ontologii są uporządkowane za pomocą relacji\n",
    "    subsumpcji, która gwarantuje dziedziczenie własności przez podrzędne\n",
    "    klasy"
   ]
  },
  {
   "cell_type": "markdown",
   "id": "f7e058f1",
   "metadata": {},
   "source": [
    "### Źródła wiedzy wykorzystane przy konstrukcji $\\mathsf{CIDOC  CRM}$\n",
    "\n",
    "1.  ontologia $\\mathsf{Dublin  Core}$\n",
    "\n",
    "2.  model danych zdefiniowany przez *Art Museum Image Consortium*\n",
    "\n",
    "3.  standard Encoded Archival Description\n",
    "\n",
    "4.  standard SPECTRUM sformułowany przez *Museum Documentation\n",
    "    Association*\n",
    "\n",
    "5.  słownik Natural History Museum (London) John Clayton Herbarium Data\n",
    "    Dictionary\n",
    "\n",
    "6.  logiczny schemat bazy danych GENREG będącej własnością\n",
    "    *Nationalmuseet*\n",
    "\n",
    "7.  model Functional Requirements for Bibliographic Records uzgodniony\n",
    "    przez *International Federation of Library Associations and\n",
    "    Institutions*\n",
    "\n",
    "8.  standard OpenGIS (*Open Geospatial Consortium*)\n",
    "\n",
    "9.  standard sformułowany przez *Association of American Museums\n",
    "    Nazi-era Provenance*\n",
    "\n",
    "10. standard opisu treści multimedialnych MPEG7\n",
    "\n",
    "11. schemat metadanych Cultural Materials Initiative wypracowany w\n",
    "    ramach *Research Libraries Group*\n",
    "\n",
    "12. protokół Z39.50\n",
    "\n",
    "13. standard Object ID wypracowany przez *Council for the Prevention of\n",
    "    Art Theft*\n",
    "\n",
    "14. standard International Core Data Standard for Archaeological and\n",
    "    Architectural Heritage ustalony przez CIDOC\n",
    "\n",
    "15. indeks Core Data Index to Historic Buildings and Monuments of the\n",
    "    Architectural Heritage\n",
    "\n",
    "16. standard CIDOC Normes Documentaires (Archeologie)\n",
    "\n",
    "17. standardy: English Heritage MIDAS - A Manual and Data Standard for\n",
    "    Monument Inventories oraz SMR 97 będące własnością *English\n",
    "    Heritage*\n",
    "\n",
    "18. schemat POLEMON Data Dictionary zbudowany w ministerstwie kultury\n",
    "    Republiki Greckiej"
   ]
  },
  {
   "cell_type": "markdown",
   "id": "471c8bcb",
   "metadata": {},
   "source": [
    "### Zastosowania CIDOC CRM\n",
    "\n",
    "1.  część schematu danych XML o nazwie LIDO (*Lightweight Information\n",
    "    Describing Objects*)\n",
    "\n",
    "2.  schemat logiczny bazy danych *Arachne* (*Deutsches Archäologische\n",
    "    Institut* oraz  \n",
    "    *Archäologisches Institut der Universität zu Köln*)\n",
    "\n",
    "3.  podstawa integracji baz danych w systemie CLAROS (Classical Art\n",
    "    Research Online Services)\n",
    "\n",
    "4.  rama pojęciowa dla portalu *The Museum of New Zealand Te Papa\n",
    "    Tongarewa*\n",
    "\n",
    "5.  szkielet wyszukiwania w systemie STAR (*Semantic Technologies for\n",
    "    Archaeological Resources*)\n",
    "\n",
    "6.  część trzech definicji DTD (*Document Type Definition*)\n",
    "    skonstruowanych przez *Germanische Nationalmuseum Nuremberg*\n",
    "\n",
    "7.  schemat danych w aplikacji *Bletchley Park Text*\n",
    "\n",
    "8.  część schematu danych w projekcie *LOGOMAR*\n",
    "\n",
    "9.  podstawa dokumentacji projektowej dla baz danych w *Valtion\n",
    "    Taidemuseo*\n",
    "\n",
    "10. schemat danych o artefaktach muzealnych w systemie audialnej\n",
    "    reprezentacji danych o nazwie ec(h)o\n",
    "\n",
    "11. część schematu danych w produktach grupy AFNOR"
   ]
  },
  {
   "cell_type": "markdown",
   "id": "35a6aac5",
   "metadata": {},
   "source": [
    "## ISO 15926\n",
    "\n",
    "\n"
   ]
  },
  {
   "cell_type": "markdown",
   "id": "1c26c363",
   "metadata": {},
   "source": [
    "### ISO 15926 – skomercjalizowana ontologia przemysłowa\n",
    "\n",
    "-   co to jest ISO?\n",
    "\n",
    "-   ISO 15926 stanowi część standardu ISO 15926, którego zadaniem jest\n",
    "    integracja danych o procesach przemysłowych z uwzględnieniem\n",
    "    urządzeń produkujących ropę i gaz, czyli danych o:\n",
    "\n",
    "    -   zakładach produkcyjnych i procesach w nich zachodzących\n",
    "\n",
    "    -   własnościach i komponentach tych zakładów,\n",
    "\n",
    "    -   własnościach i strukturach tych komponentów.\n",
    "\n",
    "-   początkowo ontologia rozwijana przez konsorcjum *European Process\n",
    "    Industries STEP Technical Liaison Executive*, obecnie *POSC Caesar\n",
    "    Association*\n",
    "\n",
    "-   wersje (językowe):\n",
    "\n",
    "    -   język EXPRESS : komputerowy język (*computer-interpretable*) do\n",
    "        reprezentowania oraz wymiany informacji o produktach w czasie\n",
    "        tzw. cyklu życia (*life cycle*)\n",
    "\n",
    "    -   wersja OWL tej ontologii\n",
    "\n",
    "-   pełna dokumentacja techniczna dla ISO 15926 nie jest dostępna w\n",
    "    domenie publicznej\n",
    "\n",
    "-   <http://15926.org>"
   ]
  },
  {
   "cell_type": "markdown",
   "id": "1b5190b6",
   "metadata": {},
   "source": [
    "### Struktura pojęciowa ISO 15926\n",
    "\n"
   ]
  },
  {
   "cell_type": "markdown",
   "id": "ff0d8a58",
   "metadata": {},
   "source": [
    "### Filozoficzne inspiracje ISO 15926\n",
    "\n",
    "1.  perdurantyzm\n",
    "\n",
    "2.  oraz związane z nim ekstensjonalne kryterium identyczności:\n",
    "    $$\\begin{aligned}\n",
    "    &x=y \\equiv \\nonumber \\\\\n",
    "    &\\forall z (z\\text{ jest częścią } x \\equiv z\\text{ jest częścią } y) \\nonumber \\\\\\end{aligned}$$\n",
    "\n",
    "3.  nie-ufundowana teoria mnogości"
   ]
  },
  {
   "cell_type": "markdown",
   "id": "ab74b9cd",
   "metadata": {},
   "source": [
    "### Perdurantyzm"
   ]
  },
  {
   "cell_type": "markdown",
   "id": "ac8c7724",
   "metadata": {},
   "source": [
    "### Perdurantyzm i mereologia\n",
    "\n",
    "1.  Młodość Jana (tzn. Jan jako młodzieniec) jest częścią Jana.\n",
    "\n",
    "2.  Głowa Jana, pojęta jako proces rozpościerający się przez całe życie\n",
    "    Jana, ale ograniczony tylko do fragmentu ciała Jana, jest częścią\n",
    "    Jana.\n",
    "\n",
    "3.  Głowa młodego Jana jest częścią:\n",
    "\n",
    "    -   młodości Jana\n",
    "\n",
    "    -   głowy Jana\n",
    "\n",
    "    -   oraz oczywiście samego Jana."
   ]
  },
  {
   "cell_type": "markdown",
   "id": "b2df4398",
   "metadata": {},
   "source": [
    "### Nieufundowana teoria mnogości\n",
    "\n",
    "-   aksjomatyczna teoria mnogości – co to jest?\n",
    "\n",
    "-   teoria zbiorów, która *nie* zakłada tzw. aksjomatu ufundowania:\n",
    "    $$\\forall X \\neq \\emptyset ~\\exists y \\in X ~y \\cap X = \\emptyset$$\n",
    "\n",
    "-   brak tego aksjomatu umożliwia tworzenie zbiorów ,,bez fundamentu”,\n",
    "    np. $\\dots \\in x_{n} \\in \\dots \\in x_{2} \\in x_{1}$.\n",
    "\n",
    "-   W ISO 15926 mamy np. aksjomat $\\mathsf{Class} \\in \\mathsf{Class}$,\n",
    "    który dotyczy kategorii $\\mathsf{Class}$."
   ]
  },
  {
   "cell_type": "markdown",
   "id": "1226fad6",
   "metadata": {},
   "source": [
    "### Zastosowania ISO 15926\n",
    "\n",
    "-   system informatyczny *Downstream Data Management* funkcjonujący\n",
    "    przez pewien czas w firmie Shell UK\n",
    "\n",
    "-   projekty FIATECH:\n",
    "\n",
    "    1.  projekt EDRC\n",
    "\n",
    "    2.  ADI\n",
    "\n",
    "-   projetyk konsorcjum *Oljeindustriens Landsforening*:\n",
    "\n",
    "    1.  Integrated Operations in the High North\n",
    "\n",
    "    2.  Environment Web\n",
    "\n",
    "    3.  Daily Drilling Report\n",
    "\n",
    "    4.  Daily Production Report"
   ]
  },
  {
   "cell_type": "markdown",
   "id": "a4dd722a",
   "metadata": {},
   "source": [
    "## WordNet\n"
   ]
  },
  {
   "cell_type": "markdown",
   "id": "9e4d9709",
   "metadata": {},
   "source": [
    "### Tezaurus WordNet jako ontologia lingwistyczna\n",
    "\n",
    "-   WordNet opisuje zależności leksykalne i semantyczne, pomiędzy\n",
    "    słowami określonego języka naturalnego (pierwotnie: języka\n",
    "    angielskiego): rzeczowniki, czasowniki, przymiotniki i przysłówki są\n",
    "    pogrupowane w zbiory synonimów (*synsets*), w taki sposób, że każdy\n",
    "    taki zbiór reprezentuje jedno pojęcie.\n",
    "\n",
    "-   sieć, której węzłami są zbiory synonimów połączone między sobą\n",
    "    relacjami leksykalnymi (relacje morfologiczne) i semantycznymi (np.\n",
    "    hiponimia, jednoznaczność, przeciwieństwo, przynależność)\n",
    "\n",
    "-   powstanie: psycholingwistyczne teorie ludzkiej pamięci powstałe w\n",
    "    latach osiemdziesiątych XX w.\n",
    "\n",
    "-   uniwersytet w Princeton: Christiane Fellbaum, George A. Miller, i\n",
    "    in.\n",
    "\n",
    "-   podobne inicjatywy dla innych języków etnicznych:\n",
    "\n",
    "    -   EuroWordNet: <http://www.illc.uva.nl/EuroWordNet>\n",
    "\n",
    "    -   Słowosieć: <http://plwordnet.pwr.wroc.pl/wordnet/>"
   ]
  },
  {
   "cell_type": "markdown",
   "id": "938dce70",
   "metadata": {},
   "source": [
    "### Synsety w WordNecie\n",
    "\n",
    "-   Każdy termin (słowo, fraza, itp.) występujący w WordNet przynależy\n",
    "    do jednego lub więcej zbiorów synonimów.\n",
    "\n",
    "-   Każdy synset wyraża pojęcie, czy innymi słowy, jest odpowiednikiem\n",
    "    znaczenia swoich elementów.\n",
    "\n",
    "-   Gdy termin należy do zbioru synonimów *A*, posiada inne znaczenie\n",
    "    niż wtedy, gdy należy do zbioru synonimów *B*. O przynależności\n",
    "    pewnego terminu do danego zbioru synonimów decyduje sposób jego\n",
    "    rozumienia i używania przez większość kompetentnych użytkowników\n",
    "    danego języka."
   ]
  },
  {
   "cell_type": "markdown",
   "id": "e8bffd6e",
   "metadata": {},
   "source": [
    "### Synsety w WordNecie – przykład\n",
    "\n",
    "-   $\\{$*president*, *chairman*, *chairwoman*, *chair*,\n",
    "    *chairperson*$\\}$"
   ]
  },
  {
   "cell_type": "markdown",
   "id": "d55d3c52",
   "metadata": {},
   "source": [
    "### WordNet – statystyka\n",
    "\n",
    "<div t=\"t\">\n",
    "    \n",
    "| **Części mowy** | **Jednostki leksykalne (wyrazy)** | **Synsety** |\n",
    "|:---------------:|:---------------------------------:|:-----------:|\n",
    "|   Rzeczowniki   |              117798               |    82115    |\n",
    "|   Czasowniki    |               11529               |    13767    |\n",
    "|  Przymiotniki   |               21479               |    18156    |\n",
    "|   Przysłówki    |               4481                |    3621     |\n",
    "\n",
    "</div>"
   ]
  },
  {
   "cell_type": "markdown",
   "id": "b8aa3b77",
   "metadata": {},
   "source": [
    "### Struktura zbioru rzeczowników synsetów\n",
    "\n",
    "1.  WordNet ma strukturę drzewa określoną przez relację subsumpcji:\n",
    "\n",
    "    1.  Zbiór synonimów *X* jest *hiponimem* zbioru synonimów *Y* jeżeli\n",
    "        każdy *X* jest *Y*.\n",
    "\n",
    "    2.  Zbiór synonimów *X* jest *hiperonimem* zbioru synonimów *Y*\n",
    "        jeżeli każdy *Y* jest *X*\n",
    "\n",
    "2.  Korzeniem drzewa jest synset entity: *that which is perceived or\n",
    "    known or inferred to have its own distinct existence (living or\n",
    "    nonliving)*."
   ]
  },
  {
   "cell_type": "markdown",
   "id": "ed33f3b5",
   "metadata": {},
   "source": [
    "### Struktura zbioru rzeczowników synsetów – meornimia\n",
    "\n",
    "-   pomiędzy niektórymi zbiorami synonimów zachodzi relacja meornimii\n",
    "\n",
    "-   typy meronimii:\n",
    "\n",
    "    1.  relacja pomiędzy **częścią a całością** (np. zbiór synonimów\n",
    "        ,,noga (stołowa)” (*leg*) jest częścią zbioru synonimów ,,stół”\n",
    "        (*table*),\n",
    "\n",
    "    2.  relacja pomiędzy **elementem a grupą**, do której ten element\n",
    "        należy (np. zbiór synonimów ,,drzewo” (*tree*) jest elementem\n",
    "        zbioru synonimów ,,las” (*forest*),\n",
    "\n",
    "    3.  relacja pomiędzy **materią a rzeczą**, która jest zbudowana z\n",
    "        tej materii (np. zbiór synonimów ,,aluminium” jest w tej relacji\n",
    "        do zbioru synonimów ,,folia aluminiowa” (*aluminium foil*)."
   ]
  },
  {
   "cell_type": "markdown",
   "id": "b818f069",
   "metadata": {},
   "source": [
    "### Zbiór czasowników synsetów – przykłady\n",
    "\n",
    "-   $\\{$*travel*, *go*, *move*, *locomote*$\\}$,\n",
    "\n",
    "-   $\\{$*move*, *displace*$\\}$,\n",
    "\n",
    "-   $\\{$*go*, *proceed*, *move*$\\}$,\n",
    "\n",
    "-   $\\{$*motivate*, *actuate*, *propel*, *move*, *prompt*, *incite*$\\}$."
   ]
  },
  {
   "cell_type": "markdown",
   "id": "90391204",
   "metadata": {},
   "source": [
    "### Struktura zbioru czasowników synsetów\n",
    "\n",
    "<img src=\"../pliki_z_internetu/wordnet-impl-lek.png\" width=\"600\"/>\n"
   ]
  },
  {
   "cell_type": "markdown",
   "id": "c1ac30ab",
   "metadata": {},
   "source": [
    "### Grupy synsetów czasowników\n",
    "\n",
    "1.  czasowniki odnoszące się do funkcji ciała oraz higieny (np. pocić\n",
    "    się, chrapać, ubierać się),\n",
    "\n",
    "2.  czasowniki wyrażające zmianę (np. zmieniać, modyfikować, cofać,\n",
    "    dostosowywać się),\n",
    "\n",
    "3.  czasowniki odnoszące się do komunikacji wymiany informacji (np.\n",
    "    dziękować, zamawiać, seplenić),\n",
    "\n",
    "4.  czasowniki związane z rywalizacją (np. atakować, zbroić),\n",
    "\n",
    "5.  czasowniki związane z konsumpcją (np. jeść, pić),\n",
    "\n",
    "6.  czasowniki kontaktu fizycznego (np. wiązać, pocierać, dotykać),\n",
    "\n",
    "7.  czasowniki wyrażające procesy i stany kognitywne (np. uczyć się,\n",
    "    sądzić, dedukować),\n",
    "\n",
    "8.  czasowniki wyrażające procesy wytwarzania (np. tworzyć, wynajdować,\n",
    "    piec),\n",
    "\n",
    "9.  czasowniki wyrażające ruch (np. ruszać się, potrząsać),\n",
    "\n",
    "10. czasowniki odnoszące się do emocji i stanów psychicznych (np. bać\n",
    "    się, tęsknić, kochać),\n",
    "\n",
    "11. czasowniki wyrażające niezmienne stany (np. być, mieć),\n",
    "\n",
    "12. czasowniki wyrażające procesy percepcji (np. oglądać, rozglądać się,\n",
    "    wąchać),\n",
    "\n",
    "13. czasowniki odnoszące się do posiadania (np. mieć, posiadać,\n",
    "    odbierać),\n",
    "\n",
    "14. czasowniki odnoszące się do działań społecznych (np. oskarżać,\n",
    "    składać pozew),\n",
    "\n",
    "15. czasowniki opisujące pogodę (np. śnieżyć, mżyć)."
   ]
  },
  {
   "cell_type": "markdown",
   "id": "b70f0c28",
   "metadata": {},
   "source": [
    "### Struktura zbioru czasowników synsetów\n",
    "\n",
    "<img src=\"../pliki_z_internetu/wordnet-przymiotniki.png\" width=\"600\"/>\n"
   ]
  },
  {
   "cell_type": "markdown",
   "id": "45e4b24d",
   "metadata": {},
   "source": [
    "### Typy przymiotników synsetów\n",
    "\n",
    "-   Przymiotniki opisowe (*ascriptive adjectives*), które denotują\n",
    "    własności przedmiotów, np. *heavy* i *high*. Są one pogrupowane\n",
    "    przez relacje **przeciwieństwa** – oznaczanej w dokumentacji\n",
    "    WordNetu przez ,,!$\\to$” oraz **podobieństwa** – oznaczanej przez\n",
    "    ,,&$\\to$”. Na przykład: *moist* &$\\to$ *wet* !$\\to$ *dry*\n",
    "\n",
    "-   Przymiotniki nie-opisowe (*nonascriptive adjectives*, *pertainyms*),\n",
    "    które nie denotują własności, lecz denotują treści przedstawień\n",
    "    mentalnych. Np. w ontologii WordNetu przymiotnik *green* nie\n",
    "    denotuje cechy przedmiotów zielonych, lecz to, co myślą, ci którzy\n",
    "    posługują się tym przymiotnikiem."
   ]
  },
  {
   "cell_type": "markdown",
   "id": "90d4e318",
   "metadata": {},
   "source": [
    "### Zastosowania WordNetu\n",
    "\n",
    "-   ujednoznacznianie znaczeń wyrażeń\n",
    "\n",
    "-   klasyfikacja dokumentów\n",
    "\n",
    "-   wyszukiwania informacji w tekście\n",
    "\n",
    "-   wyszukiwanie informacji w Internecie"
   ]
  },
  {
   "cell_type": "markdown",
   "id": "5eb78e20",
   "metadata": {
    "id": "5eb78e20"
   },
   "source": [
    "## DBpedia\n"
   ]
  },
  {
   "cell_type": "markdown",
   "id": "d4141a66",
   "metadata": {},
   "source": [
    "### DBpedia – ontologia Wikipedii\n",
    "\n",
    "-   <http://wiki.dbpedia.org/>\n",
    "\n",
    "-   dwa komponenty:\n",
    "\n",
    "    1.  <http://dbpedia.org/ontology/>\n",
    "\n",
    "        -   ok. 700 kategorii\n",
    "\n",
    "        -   ok. 3000 relacji\n",
    "\n",
    "    2.  <http://dbpedia.org/resource/>\n",
    "\n",
    "        -   ok. 4M indywiduów (zasobów), m. in., ok. 1.5M osób, 700k\n",
    "            miejsc, 500 dzieł (*works*)"
   ]
  },
  {
   "cell_type": "markdown",
   "id": "ec2dc10f",
   "metadata": {},
   "source": [
    "### Ontologia DBpedii\n",
    "\n",
    "> <span t=\"q\">Ontologia DBpedii jest płytką, inter-dyscyplinarną ontologią, która została ręcznie stworzona na podstawie najbardziej typowych infoboksów z Wikipedii. Ontologia obecnie objemuje 685 kategeorii, które tworzą hierarchię subsumpcyjną i są opisane za pomocą 2 795 relacji. […] Od czasu wersji 3.7 ontologia jest acyklicznym skierowanym grafem, nie drzewem. Kategorie mogą mieć liczne nadkategorie, co jest istotne dla odwzorowań do schema.org.</span>\n",
    "\n",
    "http://wiki.dbpedia.org/services-resources/ontology (dostęp 15 I 2018 r.)"
   ]
  },
  {
   "cell_type": "markdown",
   "id": "59162633",
   "metadata": {},
   "source": [
    "### Ontologia DBpedii – z bliska"
   ]
  },
  {
   "cell_type": "code",
   "execution_count": null,
   "id": "8d375ad8",
   "metadata": {},
   "outputs": [],
   "source": []
  }
 ],
 "metadata": {
  "kernelspec": {
   "display_name": "Python 3",
   "language": "python",
   "name": "python3"
  },
  "language_info": {
   "codemirror_mode": {
    "name": "ipython",
    "version": 3
   },
   "file_extension": ".py",
   "mimetype": "text/x-python",
   "name": "python",
   "nbconvert_exporter": "python",
   "pygments_lexer": "ipython3",
   "version": "3.8.8"
  }
 },
 "nbformat": 4,
 "nbformat_minor": 5
}
