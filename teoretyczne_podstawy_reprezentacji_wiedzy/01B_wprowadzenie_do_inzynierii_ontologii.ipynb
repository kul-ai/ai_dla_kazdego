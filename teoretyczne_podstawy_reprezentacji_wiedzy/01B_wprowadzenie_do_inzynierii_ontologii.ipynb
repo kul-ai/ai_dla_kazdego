{
 "cells": [
  {
   "cell_type": "markdown",
   "id": "556485df-3a80-40b9-859f-4ccde68f71c8",
   "metadata": {
    "tags": []
   },
   "source": [
    "# Wprowadzenie do inżynierii ontologii"
   ]
  },
  {
   "cell_type": "markdown",
   "id": "ea168aa1",
   "metadata": {},
   "source": [
    "## Zoomerskie sposoby reprezentacji wiedzy"
   ]
  },
  {
   "cell_type": "markdown",
   "id": "0e1198ea",
   "metadata": {},
   "source": [
    "### Definicja ontologii (w sensie inżynierii ontologii)\n",
    "\n",
    "> <span t=\"q\">Ontologia jest formalną, jawną specyfikacją współdzielonej konceptualizacji.</span>"
   ]
  },
  {
   "cell_type": "markdown",
   "id": "6b295154",
   "metadata": {},
   "source": [
    "### Potrzeba analizy ontologicznej - przykład pierwszy\n",
    "\n",
    "\n",
    "\n"
   ]
  },
  {
   "cell_type": "markdown",
   "id": "29290fb3",
   "metadata": {},
   "source": [
    "Tabela Resources z DB United Airlines\n",
    "\n",
    "<div t=\"t\">\n",
    "\n",
    "| **ACFT** | **Type** |\n",
    "|:--------:|:--------:|\n",
    "| N7213US  |   B747   |\n",
    "| N3821US  |   B777   |\n",
    "| N4452US  |   A320   |\n",
    "|    …     |    …     |\n",
    "</div>\n"
   ]
  },
  {
   "cell_type": "markdown",
   "id": "14796b7b",
   "metadata": {},
   "source": [
    "Tabela *Production* z *DB Boeing Corporation*\n",
    "\n",
    "<div t=\"t\">\n",
    "    \n",
    "| **Model** | **Facility** |\n",
    "|:---------:|:------------:|\n",
    "|    717    |    Renton    |\n",
    "|    747    |   Everett    |\n",
    "|    777    |   Everett    |\n",
    "|     …     |      …       |\n",
    "\n",
    "</div>"
   ]
  },
  {
   "cell_type": "markdown",
   "id": "220d6242",
   "metadata": {},
   "source": [
    "Tabela *777* z *DB US Airways*\n",
    "\n",
    "<div t=\"t\">\n",
    "    \n",
    "| **Tail** | **PurchaseDate** |\n",
    "|:--------:|:----------------:|\n",
    "| N4213US  |    1998.02.12    |\n",
    "| N3801US  |    1999.04.12    |\n",
    "| N7252US  |    2004.05.02    |\n",
    "|    …     |        …         |\n",
    "</div>"
   ]
  },
  {
   "cell_type": "markdown",
   "id": "3e41530a",
   "metadata": {},
   "source": [
    "\n",
    "\n",
    "<img src=\"../pliki_z_internetu/DB1.jpg\" width=\"300\"/>\n",
    "\n"
   ]
  },
  {
   "cell_type": "markdown",
   "id": "d765cb0f",
   "metadata": {},
   "source": [
    "<img src=\"../pliki_z_internetu/DB2.jpg\" width=\"300\"/>"
   ]
  },
  {
   "cell_type": "markdown",
   "id": "80bd327f",
   "metadata": {},
   "source": [
    "<img src=\"../pliki_z_internetu/DB3.jpg\" width=\"300\"/>"
   ]
  },
  {
   "cell_type": "markdown",
   "id": "ab07edca",
   "metadata": {},
   "source": [
    "### Potrzeba analizy ontologicznej - przykład drugi\n",
    "\n",
    "1.  projekt J-TADIS\n",
    "\n",
    "    1.  integracja różnych systemów zarządzania i kontroli obrony\n",
    "        powietrznej (*Air Defence Control and Command legacy systems*)\n",
    "\n",
    "    2.  usługodawca: Ministerstwo Obrony Zjednoczonego Królestwa\n",
    "\n",
    "    3.  usługobiorca: Qinetiq\n",
    "        (<a href=\"www.qinetiq.co.uk\" class=\"uri\">www.qinetiq.co.uk</a>)\n",
    "\n",
    "2.  wiadomości ACO (*Air Command Order*)\n",
    "\n",
    "    1.  …\n",
    "\n",
    "    2.  ACM - *Air Control Means*\n",
    "\n",
    "    3.  …"
   ]
  },
  {
   "cell_type": "markdown",
   "id": "c2a0e109",
   "metadata": {},
   "source": [
    "Architektura systemu JTADIS\n",
    "\n",
    "<img src=\"../pliki_z_internetu/JTADIS.jpg\" width=\"500\"/>\n"
   ]
  },
  {
   "cell_type": "markdown",
   "id": "5a19b0b1",
   "metadata": {},
   "source": [
    "Idea modułu SIE\n",
    "\n",
    "<img src=\"../pliki_z_internetu/SIE.jpg\" width=\"500\"/>\n"
   ]
  },
  {
   "cell_type": "markdown",
   "id": "ddbe8170",
   "metadata": {},
   "source": [
    "Struktura ACM typu CIRCLE\n",
    "<img src=\"../pliki_z_internetu/ACM.jpg\" width=\"500\"/>\n"
   ]
  },
  {
   "cell_type": "markdown",
   "id": "8b1a5a14",
   "metadata": {},
   "source": [
    "...\n",
    "\n",
    "ACMID/ACM:ROZ/NAME:ROZ1/CIRCLE/LATS:240115N0555342E/15.0KM//\n",
    "EFFLEVEL/FLFL:FL150-FL350//  \n",
    "..."
   ]
  },
  {
   "cell_type": "markdown",
   "id": "cf14bb8c",
   "metadata": {},
   "source": [
    "ACM “ROZ1”\n",
    "<img src=\"../pliki_z_internetu/ACM_Ex.jpg\" width=\"500\"/>\n",
    "\n"
   ]
  },
  {
   "cell_type": "markdown",
   "id": "38ebf6ed",
   "metadata": {},
   "source": [
    "Interpretacja ontologiczna ROZ1\n",
    "\n",
    "<img src=\"../pliki_z_internetu/ACM_Int_1.jpg\" width=\"500\"/>\n",
    "\n",
    "\n"
   ]
  },
  {
   "cell_type": "markdown",
   "id": "bff0787f",
   "metadata": {},
   "source": [
    "Interpretacja ontologiczna ROZ1\n",
    "\n",
    "<img src=\"../pliki_z_internetu/ACM_Int_2.jpg\" width=\"500\"/>\n",
    "\n",
    "\n"
   ]
  },
  {
   "cell_type": "markdown",
   "id": "05a019bd",
   "metadata": {
    "id": "05a019bd"
   },
   "source": [
    "Interpretacja ontologiczna ROZ1\n",
    "\n",
    "<img src=\"../pliki_z_internetu/ACM_Int_3.jpg\" width=\"500\"/>\n"
   ]
  },
  {
   "cell_type": "markdown",
   "id": "994f7260-5c0e-432e-ac62-91af81c2ea81",
   "metadata": {},
   "source": [
    "### Terminologia – bliższa\n",
    "\n",
    "-   *engineering ontology*\n",
    "\n",
    "-   *ontological engineering*\n",
    "\n",
    "-   *applied ontology*"
   ]
  },
  {
   "cell_type": "markdown",
   "id": "2334a332",
   "metadata": {},
   "source": [
    "### Terminologia – dalsza\n",
    "Zestawienie skonstruowane w trakcie *Ontology Summit 2007*\n",
    "\n",
    "\n",
    "\n",
    "|                       |                          |\n",
    "|:---------------------:|:------------------------:|\n",
    "|       Tag cloud       |         Ontology         |\n",
    "| Controlled vocabulary |       Microformats       |\n",
    "|       Thesauri        |     Data dictionary      |\n",
    "| Collaborative tagging |           OPML           |\n",
    "|     Folk taxonomy     |           XOXO           |\n",
    "|       Directory       |           OWL            |\n",
    "|      Subject Map      |      Subject Trees       |\n",
    "|     Semantic Web      | Information Architecture |\n",
    "|      Cladistics       |   Data Reference Model   |\n",
    "|   Markup languages    |        Phylogeny         |\n",
    "|  Social bookmarking   |        Topic Maps        |\n",
    "|         Tags          |       Concept Maps       |\n",
    "|        Tagging        |         Synsets          |\n",
    "|       Taxonomy        |         Glossary         |\n",
    "|      Folksonomy       |         Metadata         |\n",
    "|    Classification     |          Facets          |\n",
    "|    Categorization     |        Structure         |\n",
    "|          RDF          |       Dublin Core        |\n",
    "|       Metadata        |         Typology         |\n",
    "|      Systematics      |         WordNet          |\n",
    "\n"
   ]
  },
  {
   "cell_type": "markdown",
   "id": "bd954e6b",
   "metadata": {},
   "source": [
    "### Ontologia po raz pierwszy\n",
    "Pierwsze użycie słowa ”ontologia”\n",
    "<img src=\"../pliki_z_internetu/lorhard.jpg\" width=\"400\"/>"
   ]
  },
  {
   "cell_type": "markdown",
   "id": "feacd169",
   "metadata": {},
   "source": [
    "### Ontologia po raz drugi \n",
    "Taksonomia ontologii Umbel\n",
    "<img src=\"../pliki_z_internetu/umbel.png\" width=\"800\"/>"
   ]
  },
  {
   "cell_type": "markdown",
   "id": "3c101003",
   "metadata": {},
   "source": [
    "### Dwa źródła inżynierii ontologii\n",
    "\n",
    "1.  ontologiczne\n",
    "\n",
    "    -   koncepcja ontologii W. van O. Quine’a\n",
    "\n",
    "    -   koncepcja ontologii J. McCarthy’ego\n",
    "\n",
    "2.  logiczne\n",
    "\n"
   ]
  },
  {
   "cell_type": "markdown",
   "id": "9a7a4806",
   "metadata": {},
   "source": [
    "### Koncepcja ontologii J. McCarthy’ego\n",
    "\n",
    "-   problem\n",
    "\n",
    "    > Trzy misjonarze i trzej kanibale mają przeprawić się przez rzekę.\n",
    "    > Do dyspozycji jest łódź wiosłowa z dwoma miejscami. Jeżeli liczba\n",
    "    > kanibali kiedykolwiek przekroczy liczbę misjonarzy na którymś\n",
    "    > brzegu rzeki, misjonarze zostaną zjedzeni. Jak przeprawić się\n",
    "    > przez rzekę?\n",
    "\n",
    "-   <http://www.gry.jeja.pl/2443,kanibale-i-misjonarze.html>\n",
    "\n",
    "-   problem a golem?"
   ]
  },
  {
   "cell_type": "markdown",
   "id": "895cd6bd",
   "metadata": {},
   "source": [
    "\n",
    "### Koncepcja ontologii J. McCarthy’ego (2) – reguła ograniczenia\n",
    "\n",
    "-   reguła ograniczenia (*circumscription rule*) :\n",
    "\n",
    "    -   Jeżeli z założeń zadania wynika, że jakieś przedmioty istnieją,\n",
    "        to przyjmij, że *tylko* te przedmioty istnieją.\n",
    "\n",
    "    -   Jeżeli z założeń zadania wynika, że jakieś przedmioty posiadają\n",
    "        pewną cechę, to przyjmij, że *tylko* te przedmioty posiadają tę\n",
    "        cechę."
   ]
  },
  {
   "cell_type": "markdown",
   "id": "aa6a8feb",
   "metadata": {},
   "source": [
    "### Koncepcja ontologii J. McCarthy’ego (2) – reprezentacja wiedzy\n",
    "\n",
    "-   Jeżeli chcemy użyć komputera do rozwiązywania, to musimy zapisać w\n",
    "    nim założenia tych zadań:\n",
    "\n",
    "    > Stosowanie ograniczeń wymaga, aby wiedza zdroworozsądkowa była\n",
    "    > wyrażona w taki sposób, który głosi, że łódź może przepłynąć rzekę\n",
    "    > o ile nic nie uniemożliwia jej użycia. W szczególności, wygląda na\n",
    "    > to, że musimy wprowadzić do naszej *ontologii* (\\[listy\\] rzeczy,\n",
    "    > które istnieją) kategorię, która zawiera *łódź \\[jest\\] popsuta*,\n",
    "    > lub kategorię, która zawiera *coś, co może uniemożliwić jej \\[tj.\n",
    "    > łodzi\\] użycie*."
   ]
  },
  {
   "cell_type": "markdown",
   "id": "e20937bc",
   "metadata": {},
   "source": [
    "### Koncepcja ontologii W. van O. Quine’a\n",
    "\n",
    "> Problem ontologii zdumiewa swoją prostotą. Można go sformułować w\n",
    "> dwóch słowach: ,,Co istnieje?”. Co więcej, odpowiedzieć nań można\n",
    "> jednym słowem – ,,Wszystko” – i każdy uzna tę odpowiedź za prawdziwą.\n",
    "> Jest to jednak tylko stwierdzenie, że istnieje to, co istnieje.\n",
    "> Pozostaje więc pole dla różnicy zdań co do poszczególnych przypadków;\n",
    "> dlatego właśnie zagadnienie to jest żywe od wielu stuleci. ()\n",
    "\n",
    "-   zadanie ontologii = sporządzenie listy istniejących\n",
    "    przedmiotów/bytów\n",
    "\n",
    "-   metoda ontologii:\n",
    "\n",
    "    1.  Znajdź teorię lub teorie, które opisują świat w racjonalny i\n",
    "        efektywny sposób, w szczególności dostarczają wydajnych narzędzi\n",
    "        porozumiewania się i przewidywania przyszłości!\n",
    "\n",
    "    2.  Zapisz wyselekcjonowaną teorię (teorie) w w języku logiki!\n",
    "\n",
    "    3.  Zbiór bytów jest zakresem kwantyfikacji zmiennych w\n",
    "        wyselekcjonowanej teorii!"
   ]
  },
  {
   "cell_type": "markdown",
   "id": "e8b7c827",
   "metadata": {},
   "source": [
    "### Logiczne źródło inżynierii ontologii – manifest tzw. fizyki naiwnej\n",
    "\n",
    "-   dwa manifesty: oraz\n",
    "\n",
    "-   Zapiszmy duży fragment wiedzy potocznej (*common-sense knowledge*) o\n",
    "    “codziennym” świecie: kolorach, kształtach, przestrzeni, ruchu,\n",
    "    czasie, itp. w języku logiki!\n",
    "\n",
    "-   warunki:\n",
    "\n",
    "    1.  szeroka $${\\textrm{terminy}} \\sim 10 000 \\div 100 000$$\n",
    "\n",
    "    2.  gęsta: $$\\frac{\\textrm{twierdzenia}} {\\textrm{terminy}} \\gg 1$$\n",
    "\n",
    "    3.  formalna"
   ]
  },
  {
   "cell_type": "markdown",
   "id": "29135131",
   "metadata": {},
   "source": [
    "### Logiczne źródło inżynierii ontologii – manifest tzw. fizyki naiwnej (2)\n",
    "\n",
    "-   przedmiot:\n",
    "\n",
    "    -   świat widziany przez “przeciętnego” człowieka\n",
    "\n",
    "-   źródła wiedzy:\n",
    "\n",
    "    -   intuicja\n",
    "\n",
    "    -   introspekcja\n",
    "\n",
    "    -   ankiety, wywiady, itp.\n",
    "\n",
    "-   podział dziedziny na klastry, np.:\n",
    "\n",
    "    1.  jakość, ilość, pomiar\n",
    "\n",
    "    2.  zmiana, czas, historia\n",
    "\n",
    "    3.  …"
   ]
  },
  {
   "cell_type": "markdown",
   "id": "d2d643b8",
   "metadata": {},
   "source": [
    "## Inżynieria ontologii – skok na bungee\n",
    "\n"
   ]
  },
  {
   "cell_type": "markdown",
   "id": "38868cd1",
   "metadata": {},
   "source": [
    "### Ontologia wczoraj …\n",
    "\n",
    "-   *Jest taka wiedza, która rozważa byt jako byt oraz to, co\n",
    "    przysługuje mu w sposób istotny* (Arysototeles, *Metafizyka* 1003a\n",
    "    20)\n",
    "\n",
    "-   $\\tau \\alpha  \\mu \\eta \\tau \\alpha   \\tau \\alpha  \\phi \\upsilon  \\sigma \\iota \\kappa \\alpha$\n",
    "\n",
    "-   J. Lorhard *Ogdoas Scholastica, continens Diagraphen Typicam artium:\n",
    "    Grammatices (Latinae, Graecae), Logices, Rhetorices, Astronomices,\n",
    "    Ethices, Physices, Metaphysices, seu Ontologiae*\n",
    "\n",
    "-   (nic) o wszystkim:\n",
    "\n",
    "    -   Nic nie może jenocześnie być jakieś i nie być jakieś.\n",
    "\n",
    "    -   Każdy byt ma swoją przyczynę.\n",
    "\n",
    "    -   W rzeczywistości nie istnieją przedmioty ogólne.\n",
    "\n",
    "    -   …\n",
    "\n",
    "-   ontologie formalne:\n",
    "\n",
    "    -   ontologia S. Leśniewskiego\n",
    "\n",
    "    -   system H. Scholza\n",
    "\n",
    "    -   metafizyka obliczeniowa E. Zalty"
   ]
  },
  {
   "cell_type": "markdown",
   "id": "79b69280",
   "metadata": {},
   "source": [
    "### …i ontologia dziś\n",
    "\n",
    "-   inżynieria ontologiczna/ontologii –dziedzina nauki/inżynierii\n",
    "\n",
    "    -   informatyka\n",
    "\n",
    "    -   sztuczna inteligencja\n",
    "\n",
    "    -   reprezentacja wiedzy\n",
    "\n",
    "-   ontologie inżynieryjne - artefakty wyprodukowane i opisywane w\n",
    "    inżynierii ontologii\n",
    "\n",
    "    -   <http://swoogle.umbc.edu>\n",
    "\n",
    "    -   $>$<!-- -->10 000 ontologii (w 2007 roku)!\n",
    "\n",
    "        -   $>$<!-- -->100 000 unikalnych dokumentów semantycznych w\n",
    "            języku RDF(S)"
   ]
  },
  {
   "cell_type": "markdown",
   "id": "d28da55f",
   "metadata": {},
   "source": [
    "### Wymiar instytucjonalny\n",
    "\n",
    "1.  *International Association for Ontology and its Applications*\n",
    "    (<a href=\"www.iaoa.org\" class=\"uri\">www.iaoa.org</a>)\n",
    "2.  *Institute for Formal Ontology and Medical Information Science*\n",
    "    (<a href=\"ifomis.org\" class=\"uri\">ifomis.org</a>)\n",
    "3.  *Knowledge Media Institute*\n",
    "    (<a href=\"www.kmi.open.ac.uk\" class=\"uri\">www.kmi.open.ac.uk</a>)\n",
    "4.  *National Center For Biomedical Ontology*\n",
    "    (<a href=\"www.bioontology.org\" class=\"uri\">www.bioontology.org</a>)\n",
    "5.  *Information Systems Laboratory*\n",
    "    (<a href=\"www.ics.forth.gr\" class=\"uri\">www.ics.forth.gr</a>)\n",
    "6.  …\n",
    "\n"
   ]
  },
  {
   "cell_type": "markdown",
   "id": "9181ed98",
   "metadata": {},
   "source": [
    "###  Publikatory\n",
    "\n",
    "1.  *Applied Ontology*\n",
    "\n",
    "2.  *Data and Knowledge Engineering*\n",
    "\n",
    "3.  *International Journal of Human and Computer Studies*\n",
    "\n",
    "4.  konferencje:\n",
    "\n",
    "    1.  *Formal Ontology in Information Systems*\n",
    "\n",
    "    2.  *Formal Ontologies Meet Industry*\n",
    "\n",
    "    3.  *Knowledge Representation and Reasoning*\n",
    "\n",
    "    4.  …"
   ]
  },
  {
   "cell_type": "markdown",
   "id": "e52ba6cc",
   "metadata": {},
   "source": [
    "### Ontologiczny sektor IT\n",
    "\n",
    "-   Apple SIRI\n",
    "-   BeInformed\n",
    "-   Cambridge Semantics\n",
    "-   Connotate\n",
    "-   Department of Homeland Security\n",
    "-   EDM Council\n",
    "-   Franz \\| AMDOCS\n",
    "-   IBM Dr. Watson Project\n",
    "-   Innovative Query\n",
    "-   Mayo Clinic\n",
    "-   Recognos Financial\n",
    "-   Revelytix\n",
    "-   Sallie Mae\n",
    "-   Sandpiper\n",
    "-   Semantic Arts\n",
    "-   Top Quadrant\n",
    "-   Trigent Software\n",
    "-   Visual Knowledge\n",
    "-   zAgile\n",
    "\n"
   ]
  },
  {
   "cell_type": "markdown",
   "id": "6d64a4a4",
   "metadata": {},
   "source": [
    "### Ontologiczny sektor IT w Polsce\n",
    "\n",
    "-   MakoLab <https://makolab.com>\n",
    "-   Cognitum <http://www.cognitum.eu>\n",
    "-   Rodan Systems"
   ]
  },
  {
   "cell_type": "markdown",
   "id": "a5b9d44f",
   "metadata": {},
   "source": [
    "### Ontologia stosowana mówi wielu językami\n",
    "\n",
    "-   KIF\n",
    "-   Ontolingua\n",
    "-   Express\n",
    "-   DAML+OIL\n",
    "-   RDF i RDF(S)\n",
    "-   OWL - obecnie OWL 2.0\n",
    "-   Common Logic\n",
    "-   język naturalny"
   ]
  },
  {
   "cell_type": "markdown",
   "id": "fff57626",
   "metadata": {},
   "source": [
    "### Edytory “graficzne” do tworzenia i walidacji ontologii\n",
    "\n",
    "-   Altova SemanticWorks\n",
    "-   FluentEditor\n",
    "-   HOZO\n",
    "-   Protege\n",
    "-   TopBraid\n",
    "    \n",
    "\n",
    "\n",
    " "
   ]
  },
  {
   "cell_type": "markdown",
   "id": "fd313003",
   "metadata": {},
   "source": [
    "###  Środowiska programistyczne\n",
    "\n",
    "-   JENA\n",
    "    (<a href=\"jena.sourceforge.net\" class=\"uri\">jena.sourceforge.net</a>)\n",
    "-   OwlDotNetApi\n",
    "-   SETH"
   ]
  },
  {
   "cell_type": "markdown",
   "id": "e936caf4",
   "metadata": {},
   "source": [
    "### Automatyczne rozumowanie w ontologii\n",
    "\n",
    "-   rozmaite wtyczki (*plugin*) do Protege   "
   ]
  },
  {
   "cell_type": "markdown",
   "id": "73daf1ef",
   "metadata": {},
   "source": [
    "### 10 000+ ontologii inżynieryjnych w 40 słowach\n",
    "\n",
    "\n",
    "|                       |                          |\n",
    "|:---------------------:|:------------------------:|\n",
    "|       Tag cloud       |         Ontology         |\n",
    "| Controlled vocabulary |       Microformats       |\n",
    "|       Thesauri        |     Data dictionary      |\n",
    "| Collaborative tagging |           OPML           |\n",
    "|     Folk taxonomy     |           XOXO           |\n",
    "|       Directory       |           OWL            |\n",
    "|      Subject Map      |      Subject Trees       |\n",
    "|     Semantic Web      | Information Architecture |\n",
    "|      Cladistics       |   Data Reference Model   |\n",
    "|   Markup languages    |        Phylogeny         |\n",
    "|  Social bookmarking   |        Topic Maps        |\n",
    "|         Tags          |       Concept Maps       |\n",
    "|        Tagging        |         Synsets          |\n",
    "|       Taxonomy        |         Glossary         |\n",
    "|      Folksonomy       |         Metadata         |\n",
    "|    Classification     |          Facets          |\n",
    "|    Categorization     |        Structure         |\n",
    "|          RDF          |       Dublin Core        |\n",
    "|       Metadata        |         Typology         |\n",
    "|      Systematics      |         WordNet          |\n",
    "\n",
    "Zestawienie skonstruowane w trakcie *Ontology Summit 2007*"
   ]
  },
  {
   "cell_type": "markdown",
   "id": "7daa1c06",
   "metadata": {},
   "source": [
    "### Sieć Semantyczna a ontologia inżynieryjna\n",
    "\n",
    "> <span t=\"q\">Sieć Semantyczna nie jest osobną siecią, lecz rozszerzeniem obecnej, wvktórym informacja posiada dobrze zdefiniowane znaczenie, co zwiększavmożliwości komputerów i ludzi do współpracy. […] maszyny będą lepiej przetwarzać i ,,rozumieć” te dane, które obecnie tylko wyświetlają. […] Aby Sieć Semantyczna mogła funkcjonować, komputery muszą mieć dostęp do ustrukturyzowanych zasobów danych oraz zbiorów reguł wnioskowania, których będą mogły użyć do procesów automatycznego wnioskowania. (Berners-Lee et al., 2001, s. 25-26)</span>"
   ]
  },
  {
   "cell_type": "markdown",
   "id": "db4025ec",
   "metadata": {},
   "source": [
    "Rysunek z Cardoso, 2007\n",
    "\n",
    "<img src=\"../pliki_z_internetu/SemanticWeb.jpg\" width=\"700\"/>"
   ]
  },
  {
   "cell_type": "markdown",
   "id": "0fdb30ec",
   "metadata": {},
   "source": [
    "### Spektrum ontologii inżynieryjnych\n",
    "\n",
    "Diagram L. Obrsta z Mitre Corporation z www.mkbergman.com\n",
    "\n",
    "<img src=\"../pliki_z_internetu/SS.jpg\" width=\"500\"/>\n",
    "\n"
   ]
  },
  {
   "cell_type": "markdown",
   "id": "61e4accb-cbc6-4b7e-a006-127b51049199",
   "metadata": {
    "id": "61e4accb-cbc6-4b7e-a006-127b51049199"
   },
   "source": [
    "### Typologia ontologii inżynieryjnych\n",
    "\n",
    "1.  ontologie terminologiczne:\n",
    "\n",
    "    1.  kontrolowane słowniki\n",
    "\n",
    "    2.  glosariusze\n",
    "\n",
    "    3.  systemy klasyfikacji\n",
    "\n",
    "    4.  tezaurusy\n",
    "\n",
    "2.  ontologie informacyjne:\n",
    "\n",
    "    1.  luźne struktury subsumpcyjne oraz\n",
    "\n",
    "    2.  zwykłe i wzbogacone taksonomie\n",
    "\n",
    "3.  ontologie modelowania wiedzy:\n",
    "\n",
    "    1.  ontologie oparte na tzw. ,,ramkach”\n",
    "\n",
    "    2.  ontologie umożliwiające definiowanie relacji\n",
    "\n",
    "    3.  ontologie umożliwiające definiowanie relacji między kategoriami\n",
    "        oraz własności relacji\n",
    "\n",
    "    4.  ontologie jako (pełne) teorie aksjomatyczne\n",
    "\n"
   ]
  },
  {
   "cell_type": "markdown",
   "id": "e8abe046",
   "metadata": {},
   "source": [
    "### Ontologia wczoraj a ontologia dziś\n",
    "\n",
    "|      **Filozofia**       |          **Informatyka**          |\n",
    "|:------------------------:|:---------------------------------:|\n",
    "|     języki etniczne      |          języki formalne          |\n",
    "|          teorie          |      artefakty epistemiczne       |\n",
    "|    wiedza dla wiedzy     | komponent systemu informatycznego |\n",
    "| pluralizm metodologiczny |     pluralizm metodologiczny      |\n",
    "| najczęściej: o wszystkim |       czasami: o wszystkim        |\n",
    "| najczęściej: jeden autor |    najczęściej: wielu autorów     |\n",
    "| im dziwniej, tym weselej |        prostota, głupcze!         |\n",
    "\n",
    "\n"
   ]
  },
  {
   "cell_type": "markdown",
   "id": "4c816d53",
   "metadata": {
    "id": "4c816d53"
   },
   "source": [
    "## <span t=\"slide_title\">Bibliografia</span>\n",
    "\n",
    "-   <span t=\"l1\">J. Sowa, *Knowledge Representation: Logical, Philosophical, and\n",
    "    Computational Foundations*, Brooks Cole Publishing Co., Pacific\n",
    "    Grove, CA, 2000</span>\n",
    "\n",
    "-   <span t=\"l1\">R. Brachman, H. Levesque, *Knowledge Representation and Reasoning*,\n",
    "    Morgan Kaufmann 2004</span>\n",
    "\n",
    "-   <span t=\"l1\">F. van Harmelen i in., *Handbook of Knowledge Representation*,\n",
    "    Elsevier, Amsterdam 2008</span>\n",
    "\n",
    "-   <span t=\"l1\">Krzysztof Goczyła, *Ontologie w systemach informatycznych*, EXIT\n",
    "    2011</span>\n",
    "\n",
    "-  <span t=\"l1\"> R. Fagin i in., *Reasoning about Knowledge*, MIT Press 1995.</span>\n",
    "\n",
    "- <span t=\"l1\">Berners-Lee, T., Hendler, J., and Lassila, O. (2001). The Semantic Web. Scientific American, 284(5):24–30.</span>\n",
    "\n",
    "- <span t=\"l1\">Cardoso, J. (2007). The syntactic and the semantic web. In Semantic Web Services: Theory, Tools, and Applications. IGI Global.</span>\n",
    "\n",
    "- <span t=\"l1\">Codd, E. F. (1990). The relational model for database management: version 2. Addison-Wesley Longman Publishing Co., Inc., Boston, MA, USA.</span>\n",
    "\n",
    "- <span t=\"l1\">Feigenbaum, E. A. (2003). Some challenges and grand challenges for computational intelligence. J. ACM, 50:32–40.</span>\n",
    "\n",
    "- <span t=\"l1\">Group, O. M. (2011). Omg unified modeling languagetm (omg uml) - infrastructure. Technical report, Object Management Group.</span>\n",
    "- <span t=\"l1\">Hayes, P. J. (1979). The Naive Physics Manifesto. In Michie, D., editor, Expert Systems in the Micro-electronic Age, pages 242–270. Edinburg University Press.</span>\n",
    "- <span t=\"l1\">Hayes, P. J. (1985). The Second Naive Physics Manifesto. In Hobbes, J. R. and Moore, R. C., editors, Formal theories of the commonsense world, pages 1–36. Ablex Publishing Corporation.</span>\n",
    "\n",
    "- <span t=\"l1\">Hilbert, M. and López, P. (2011). The world’s technological capacity to store, communicate, and compute information. Science, 332:60–65.</span>\n",
    "\n",
    "- <span t=\"l1\">Ingarden, R. (1987). Spór o istnienie świata, volume I. PWN.</span>\n",
    "\n",
    "- <span t=\"l1\">Landauer, T. K. (1986). How much do people remember? Some estimates of the quantity of learned information in long-term memory. Cognitive Science, 10(4):477 – 493.</span>\n",
    "\n",
    "- <span t=\"l1\">Lenat, D. and Guha, R. V. (1990). Building Large Knowledge Based Systems. Addison Wesley.</span>\n",
    "\n",
    "- <span t=\"l1\">McCarthy, J. (1980). Circumscription - a form of Non-Monotonic Reasoning. Artificial Intelligence, 13(1-2):27–39.</span>\n",
    "\n",
    "- <span t=\"l1\">Partridge, C., Lambert, M., Loneragan, M., Mitchell, A., and Garbacz, P. (2011). A novel ontological approach to semantic interoperability between legacy air defence command and control systems. International Journal of Intelligent Defence Support Systems, 4(3):232–262.</span>\n",
    "\n",
    "- <span t=\"l1\">Reiter, R. (1984). Towards a Logical Reconstruction of Relational Database Theory. In Brodi, M., Mylopoulos, J., and Schmidt, J. W., editors, On Conceptual Modelling, pages 191–238. Springer Verlag.</span>\n",
    "\n",
    "- <span t=\"l1\">Searle, J. (1980). Minds, brains and programs. Behavioral and Brain Sciences, 3:417–457.</span>\n",
    "\n",
    "- <span t=\"l1\">Sowa, J. F. (2000). Knowledge Representation: Logical, Philosophical, and Computational Foundations. Brooks/Cole.</span>\n",
    "\n",
    "- <span t=\"l1\">Stępień, A. B. (1999). Studia i szkice filozoficzne, volume I. Redakcja Wydawnictw KUL, Lublin.</span>\n",
    "\n",
    "- <span t=\"l1\">Studer, R., Benjamins, V. R., and Fensel, D. (1998). Knowledge engineering: Principles and methods. Data Knowl. Eng., 25(1-2):161–197.</span>\n",
    "\n",
    "- <span t=\"l1\">Turing, A. M. (1950). Computing machinery and intelligence. Mind, 59:433–460.</span>\n",
    "\n",
    "- <span t=\"l1\">van Orman Quine, W. (1969). Z punktu widzenia logiki. Eseje logiczno-filozoficzne, chapter O tym, co istnieje, pages 9–34. PWN, Warszawa.</span>"
   ]
  },
  {
   "cell_type": "code",
   "execution_count": null,
   "id": "b84ae2e7",
   "metadata": {},
   "outputs": [],
   "source": []
  }
 ],
 "metadata": {
  "colab": {
   "name": "inzynieria_ontologii.ipynb",
   "provenance": [],
   "toc_visible": true
  },
  "kernelspec": {
   "display_name": "Python 3",
   "language": "python",
   "name": "python3"
  },
  "language_info": {
   "codemirror_mode": {
    "name": "ipython",
    "version": 3
   },
   "file_extension": ".py",
   "mimetype": "text/x-python",
   "name": "python",
   "nbconvert_exporter": "python",
   "pygments_lexer": "ipython3",
   "version": "3.8.8"
  }
 },
 "nbformat": 4,
 "nbformat_minor": 5
}
