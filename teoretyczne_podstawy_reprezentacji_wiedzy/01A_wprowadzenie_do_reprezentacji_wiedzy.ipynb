{
 "cells": [
  {
   "cell_type": "markdown",
   "id": "556485df-3a80-40b9-859f-4ccde68f71c8",
   "metadata": {
    "tags": []
   },
   "source": [
    "# Wprowadzenie do reprezentacji wiedzy"
   ]
  },
  {
   "cell_type": "markdown",
   "id": "196c22d1-9ae1-401b-abb5-95d07557ecd1",
   "metadata": {
    "tags": []
   },
   "source": [
    "## Wprowadzenie do wprowadzenia"
   ]
  },
  {
   "cell_type": "markdown",
   "id": "ddf13892-a022-4ab2-9f5d-8a2af1869ef2",
   "metadata": {
    "tags": []
   },
   "source": [
    "### Motto kursu\n",
    "\n",
    "> <span t=\"q\">Smoka pokonać trudno, ale starać się trzeba. </span>\n",
    "> <span t=\"q\">(B. Chmielowski, *Nowe Ateny*, 1745–1746)</span>"
   ]
  },
  {
   "cell_type": "markdown",
   "id": "999ba2af-7b93-4e47-be74-e19e3709f85d",
   "metadata": {
    "id": "ce7ac9ee",
    "tags": []
   },
   "source": [
    "### Struktura wykładu\n",
    "\n",
    "- <span t=\"l1\">I have a dream ...</span>\n",
    "- <span t=\"l1\">Sztuczna wiedza w czasach boomersów</span>\n",
    "- <span t=\"l1\">Wiedza a typy danych</span>\n",
    "- <span t=\"l1\">Zoomerski sposób reprezentacji wiedzy</span>\n",
    "- <span t=\"l1\">Inżynieria ontologii – skok na bungee</span>"
   ]
  },
  {
   "cell_type": "markdown",
   "id": "9534b13b-9353-4aa9-ac19-38e3e43a7f37",
   "metadata": {},
   "source": [
    "## I have a dream ..."
   ]
  },
  {
   "cell_type": "markdown",
   "id": "fdb2dc4f-86bb-43ba-be95-2a84ebb05c99",
   "metadata": {},
   "source": [
    "### Marzenie o wiedzy maszyn\n",
    "<span t=\"l1\">Chcemy nauczyć komputery tego, co wiemy, tzn. przenieść wiedzę z głów ludzi do pamięci komputerów, tak aby były one w stanie rozumieć świat, a przynajmniej posługiwać się tą wiedzą w sposób podobny do nas.</span>\n",
    "\n",
    "<span t=\"l1\">Ponieważ komputery są maszynami Turinga, a ściślej realizują zadania, które może zrealizować jakaś maszyna Turinga, zadanie to jest trudne, a być może nawet niemożliwe.</span>\n",
    "\n",
    "<span t=\"l1\">Niektóre fundamentalne trudności to:</span>\n",
    "1. <span t=\"l2\">rozumienia języka etnicznego (polskiego, angielskiego, itp.)</span>\n",
    "1. <span t=\"l2\">wnioskowanie</span>\n",
    "1. <span t=\"l2\">komunikacja z ludźmi i innymi komputerami</span>"
   ]
  },
  {
   "cell_type": "markdown",
   "id": "1c2ae591-8cf5-4621-8ac0-5c274f416305",
   "metadata": {},
   "source": [
    "### Problem: jak zapisać **wiedzę** w komputerze, aby...\n",
    "\n",
    "1.  <span t=\"l1\">maszyna umiała *generować* nową wiedzę z wiedzy powierzonej</span>\n",
    "\n",
    "    -   <span t=\"l2\">rozumować/wnioskować</span>\n",
    "\n",
    "    -   <span t=\"l2\">rozwiązywać problemy</span>\n",
    "\n",
    "    -   <span t=\"l2\">…</span>\n",
    "\n",
    "2.  <span t=\"l1\">ludzie *rozumieli* (nową i powierzoną) wiedzę</span>\n",
    "\n",
    "3.  <span t=\"l1\">maszyna umiała *dzielić się* wiedzą z innymi maszynami</span>"
   ]
  },
  {
   "cell_type": "markdown",
   "id": "ed64af50-5436-4197-a022-db55bbc43cf8",
   "metadata": {
    "id": "2f8560a2",
    "tags": []
   },
   "source": [
    "### Problemy semantyczne reprezentacji wiedzy\n",
    "Z punktu widzenia reprezentacji wiedzy trudności z wiedzą maszyn sprowadzają się do problemu ze zrozumieniem znaczenia wypowiedzi, w których wyrażamy naszą wiedzę, oraz z wykorzystaniem tego rozumienia w procesach myślenia.\n",
    "\n",
    "1.  <span t=\"l1\">problemy ze **znaczeniem** (**sensem**)</span> - my wiemy, że zdania 1-4 mają to samo znaczenie, a zdanie 5 ma inne: jak nauczyć tego komputer?\n",
    "\n",
    "    1. <span t=\"l2\"> Warszawa jest stolicą Polski.</span>\n",
    "\n",
    "    2.  <span t=\"l2\">Warszawa jest stolicą Polski.</span>\n",
    "\n",
    "    3.  <span t=\"l2\">Stolicą Polski jest Warszawa.</span>\n",
    "\n",
    "    4.  <span t=\"l2\">Warszawa jest siedzibą rządu Polski.</span>\n",
    "\n",
    "    5.  <span t=\"l2\">sdfe@@!!¿¡,. ssssssą ¿?¿?¿?.</span>\n",
    "\n",
    "2.  <span t=\"l1\">problemy z **wnioskowaniem**</span> - my potrafimy z pierwszego zdania wywnioskować drugie: jak nauczyć tego komputer?\n",
    "\n",
    "    -   <span t=\"l2\">Warszawa jest stolicą Polski.</span>\n",
    "\n",
    "    -   <span t=\"l2\">Warszawa jest miastem.</span>\n",
    "\n"
   ]
  },
  {
   "cell_type": "markdown",
   "id": "b6c5ab0d-df8c-47a9-ad9a-2fe6e393698a",
   "metadata": {
    "tags": []
   },
   "source": [
    "### Jak komputer zapisuje informacje?\n",
    "Jeżeli zapiszemy jakąś myśl w postaci tekstu w komputerze, to nasz zapis zostanie przekształcony na ciąg liczb.\n",
    "Komputer jest w stanie 'zrozumieć' tę myśl tylko w ten sposób, że jest w stanie przeprowadzić na tym ciągu jakąś standardową operację matematyczną, np. porównać ze ze sobą dwie liczby. To jednak jest zdecydowanie zbyt mało jeżeli chcielibyśmy, aby komputer rozumiał tę naszą myśl nawet w jakimś minimalnym zakresie, np. był w stanie porównać tę myśl z poglądem jakiejś innej osoby."
   ]
  },
  {
   "cell_type": "markdown",
   "id": "9dde97a2-9241-4b11-bbe5-f5dc6e8e00bb",
   "metadata": {
    "tags": []
   },
   "source": [
    "<span t=\"l1\">Załóżmy, że wiemy, że Warszawa jest stolicą Polski.</span>\n",
    "<span t=\"l1\">Po zapisaniu w komputerze to zdanie staje się ciągiem liczb:</span>\n",
    "\n",
    "<span t=\"l1\">Warszawa jest stolicą Polski.</span>\n",
    "\n",
    "<span t=\"l1\">01010111 01100001 01110010 01110011 01111010 01100001 01110111\n",
    "01100001 00100000 01101010 01100101 01110011 01110100 00100000 01110011\n",
    "01110100 01101111 01101100 01101001 01100011 11000100 10000101 00100000\n",
    "01010000 01101111 01101100 01110011 01101011 01101001 00101110</span>"
   ]
  },
  {
   "cell_type": "markdown",
   "id": "94a546a6-4721-4633-905e-e288d14bd37f",
   "metadata": {
    "tags": []
   },
   "source": [
    "Jednak jeżeli teraz pomiędzy dwa słowa w tym zdaniu wstawimy nie jedną, lecz dwie spacje, komputer zapisze inny ciąg liczb:\n",
    "<span t=\"l1\">Warszawa jest  stolicą Polski.</span>\n",
    "\n",
    "<span t=\"l1\">01010111 01100001 01110010 01110011 01111010 01100001 01110111\n",
    "01100001 00100000 01101010 01100101 01110011 01110100 00100000 00100000\n",
    "01110011 01110100 01101111 01101100 01101001 01100011 11000100 10000101\n",
    "00100000 01010000 01101111 01101100 01110011 01101011 01101001 00101110</span>"
   ]
  },
  {
   "cell_type": "markdown",
   "id": "3a0f1884-b7ac-4c09-beed-57c7a48472da",
   "metadata": {
    "tags": []
   },
   "source": [
    "Podobnie będzie dla tego zdania:\n",
    "<span t=\"l1\">Stolicą Polski jest Warszawa.</span>\n",
    "\n",
    "<span t=\"l1\">01010011 01110100 01101111 01101100 01101001 01100011 11000100\n",
    "10000101 00100000 01010000 01101111 01101100 01110011 01101011 01101001\n",
    "00100000 01101010 01100101 01110011 01110100 00100000 01010111 01100001\n",
    "01110010 01110011 01111010 01100001 01110111 01100001 00101110</span>"
   ]
  },
  {
   "cell_type": "markdown",
   "id": "c2a6c422-2a1f-46c8-963c-d3d0c988a682",
   "metadata": {
    "tags": []
   },
   "source": [
    "Podobnie będzie dla tego zdania:\n",
    "<span t=\"l1\">Warszawa jest siedzibą rządu Polski.</span>\n",
    "\n",
    "<span t=\"l1\">01010111 01100001 01110010 01110011 01111010 01100001 01110111\n",
    "01100001 00100000 01101010 01100101 01110011 01110100 00100000 01110011\n",
    "01101001 01100101 01100100 01111010 01101001 01100010 11000100 10000101\n",
    "00100000 01110010 01111010 11000100 10000101 01100100 01110101 00100000\n",
    "01010000 01101111 01101100 01110011 01101011 01101001 00101110</span>"
   ]
  },
  {
   "cell_type": "markdown",
   "id": "87465258-8a2b-4904-a50b-226718965ef4",
   "metadata": {
    "tags": []
   },
   "source": [
    "<span t=\"l1\">\\*\\*\\*\\*\\*\\*\\*\\*\\*\\*\\*\\*\\*\\*\\*\\*\\*\\*\\*</span>\n",
    "\n",
    "<span t=\"l1\">00111111 00101010 00101010 00101010 00101010 00101010 00101010\n",
    "00101010 00101010 00101010 00101010 00101010 00101010 00101010 00101010\n",
    "00101010 00101010 00101010 00101010 00101010 00111111</span>\n"
   ]
  },
  {
   "cell_type": "markdown",
   "id": "ec0c076a-5b1c-4890-8e1c-5840308f0614",
   "metadata": {},
   "source": [
    "### Co to jest reprezentacja wiedzy?\n",
    "\n",
    "<span t=\"l1\">**Definicja**</span>\n",
    "\n",
    "<span t=\"l1\"> *Reprezentacja wiedzy jest multidyscyplinarną dziedziną, która stosuje\n",
    "> teorie i metody z trzech obszarów:*</span>\n",
    ">\n",
    "> <span t=\"l2\">1.  *logiki \\[która\\] określa formalną strukturę \\[reprezentacji\n",
    ">     wiedzy\\] i reguły wnioskowania*</span>\n",
    ">\n",
    "> <span t=\"l2\">2.  *ontologii \\[która\\] definiuje rodzaje rzeczy, które istnieją w\n",
    ">     dziedzinie zastosowania \\[reprezentacji wiedzy\\]*</span>\n",
    ">\n",
    "> <span t=\"l2\">3.  *informatyki (computation) \\[która\\] wspiera aplikacje\n",
    ">     odróżniające reprezentację wiedzy od czystej filozofii*</span>\n",
    ">\n",
    "<span t=\"l1\"> [Sowa, 2000, s. XI-XII]</span>"
   ]
  },
  {
   "cell_type": "markdown",
   "id": "7752156c-5262-492c-b06e-ee7f58e15a4e",
   "metadata": {},
   "source": [
    "### Reprezentacja?\n",
    "\n",
    "<img src=\"../pliki_z_internetu/typy-0.png\" width=\"400\"/>"
   ]
  },
  {
   "cell_type": "markdown",
   "id": "13864e3f-fd0d-4f8d-8e1c-f314088bb028",
   "metadata": {},
   "source": [
    "<continue/>\n",
    "<img src=\"../pliki_z_internetu/typy.png\" width=\"400\"/>"
   ]
  },
  {
   "cell_type": "markdown",
   "id": "3d648b0e-fb82-4d1d-aeeb-f08e54c79fab",
   "metadata": {},
   "source": [
    "<continue/>\n",
    "<img src=\"../pliki_z_internetu/typ.png\" width=\"400\"/>"
   ]
  },
  {
   "cell_type": "markdown",
   "id": "601c9e75-6cdc-4ffc-8c6c-6e184a6f1469",
   "metadata": {},
   "source": [
    "<continue/>\n",
    "Problem nośnika reprezentacji wiedzy\n",
    "\n",
    "<img src=\"../pliki_z_internetu/carrier.png\" width=\"400\"/>"
   ]
  },
  {
   "cell_type": "markdown",
   "id": "5b0ea4d8",
   "metadata": {},
   "source": [
    "### Reprezentacja wiedzy a sztuczna inteligencja\n",
    "Reprezentacja wiedzy (_Knowledge Representation_) jest częścią badań nad sztuczną inteligencją, a ściślej częścią tzw. dobrej starej sztucznej inteligencji (_Good Old-Fashioned Artificial Intelligence_). Najbardziej aktywnie rozwijanym paradygmatem badań w reprezentacji wiedzy jest inżynieria ontologii (_ontological engineering_).\n",
    "\n",
    "<img src=\"../pliki_z_internetu/OE.jpg\" width=\"400\"/>"
   ]
  },
  {
   "cell_type": "markdown",
   "id": "c8cadb74-d853-4309-acf9-732803ee55b0",
   "metadata": {},
   "source": [
    "## Sztuczna wiedza w czasach boomersów\n",
    "\n"
   ]
  },
  {
   "cell_type": "markdown",
   "id": "96d26c16-ec73-4d8f-8cb6-6894ef9b4516",
   "metadata": {},
   "source": [
    "### Wiedza w tekście\n",
    "\n",
    "Najprostszym sposobem reprezentacji wiedzy jest zapisanie jej w postaci tekstu.\n",
    "\n",
    "<span t=\"l1\">Ten tekst/napis jest reprezentowany w komputerze.</span>\n",
    "\n",
    "Oczywiście rozwiązanie to jest narażone na dwa wcześniej wymienione trudności:\n",
    "\n",
    "<span t=\"l1\">1. problemy ze znaczeniem</span>\n",
    "\n",
    "<span t=\"l1\">2. problemy z wnioskowaniem</span>"
   ]
  },
  {
   "cell_type": "markdown",
   "id": "350a0f73-4431-4c2d-bcb7-6b2e783c7e69",
   "metadata": {},
   "source": [
    "### Problem wieży Babel\n",
    "\n",
    "Dodatkowo zapisując wiedzę jako tekst musimy jakoś poradzić sobie z konieczności zapisania różnych języków za pomocą liczb, czyli z problemem wieży Babel.\n",
    "\n",
    "Możemy oczywiście wymyślić jakiś sposób kodowania, np. literze 'a' przyporządkować liczbę 97, literze 'b' liczbę 98, itd. Biorąc pod uwagę fakt istnienia 10000 (rząd wielkości)  języków i wielość systemów pisma, jest to zdania nietrywialne.\n",
    "\n",
    "Jednym z rozwiązań jest standard *Unicode*:\n",
    "\n",
    "<span t=\"l1\">- <a href=\"www.unicode.com\" class=\"uri\">www.unicode.com</a></span>\n",
    "<span t=\"l1\">-   ponad 1 000 000 (abstrakcyjnych) znaków</span>\n",
    "<span t=\"l1\">-   ponad 90 systemów pisma (np. alfabetyczne, piktograficzne, ideograficzne, itd.)</span>"
   ]
  },
  {
   "cell_type": "markdown",
   "id": "c2d355f7-87ac-400f-84a4-458725e1035b",
   "metadata": {
    "tags": []
   },
   "source": [
    "# Wprowadzenie do reprezentacji wiedzy"
   ]
  },
  {
   "cell_type": "markdown",
   "id": "a3aa17f5-9d68-4168-9a5d-ffd1eae23a5c",
   "metadata": {},
   "source": [
    "### Rozwiązania problemu semantycznego\n",
    "Ponieważ reprezentacja wiedzy powstała kilkadziesiąt lat temu, istnieje wiele sposobów rozwiązania problemów semantycznych. Rozwiązania te można uporządkować na wiele sposobów, m. in. biorąc pod uwagę stopień ich złożoności.\n",
    "\n",
    "<span t=\"l1\">1.  wersja mini - semantyka w metadanych</span>\n",
    "\n",
    "<span t=\"l1\">2.  …</span>\n",
    "\n",
    "<span t=\"l1\">n.  wersja maxi - semantyka w logice</span>\n",
    "<span t=\"l2\">-   ontologia stosowana"
   ]
  },
  {
   "cell_type": "markdown",
   "id": "d470834c-532d-4185-9520-d3336eb185e2",
   "metadata": {},
   "source": [
    "### Wiedza odziana w metadane\n",
    "\n",
    "-   dane o danych\n",
    "\n",
    "-   metadane dla reprezentacji wiedzy (nie-potocznej):\n",
    "\n",
    "    1.  MARC standard\n",
    "\n",
    "-   XML jako alfabet metadanych=znaczników\n",
    "\n",
    "    -   *e**x**tensible **m**arkup **l**anguage*\n",
    "\n",
    "    -   język znaczników (*tags*) = metajęzyk\n",
    "\n",
    "    -   schemat XML definiuje układ znaczników\n",
    "\n",
    "-   przykład  \n",
    "```\n",
    "    <capital_cities\\_data>  \n",
    "    <item>  \n",
    "    <city>**Warszawa**</city>  \n",
    "    <country>**Polska**</country>  \n",
    "    </item>  \n",
    "    </geographic\\_data>  \n",
    "```"
   ]
  },
  {
   "cell_type": "markdown",
   "id": "c3c24eda-97ff-4fce-94cd-178f6ac71a06",
   "metadata": {},
   "source": [
    "### Wiedza w metadanych - <a href=\"schema.org\" class=\"uri\">schema.org</a>\n",
    "\n",
    "-   drzewo znaczników HTML (*HTML tags*), które są/będą wykorzystywane\n",
    "    przez Google, Yahoo! oraz Bing do wyszukiwania informacji\n",
    "\n",
    "-   część standardu HTML5\n",
    "\n",
    "-   typ mikrodanych\n",
    "\n",
    "<a href=\"schema.org\" class=\"uri\">schema.org</a> (2)\n",
    "\n",
    "Restauracja “MAGIA”  \n",
    "20-114 Lublin  \n",
    "ul. Rybna 1 / Grodzka 2  \n",
    "**RESTAURACJA: kontakt, rezerwacje:** tel. +48 (81) 5323041\n",
    "\n",
    "HTML\n",
    "```\n",
    "<p align=”center”> Restauracja &quot;MAGIA&quot; </p> <br>\n",
    "20-114 Lublin<br>\n",
    "ul. Rybna 1 / Grodzka 2 <br>\n",
    "<p align=”center”> <br>\n",
    "<b> &nbsp;&nbsp;&nbsp;RESTAURACJA: kontakt, rezerwacje </b> <br>\n",
    "tel. +48 (81) 532304 </p> \n",
    "```\n",
    "\n",
    "schema.org\n",
    "```\n",
    "<p align=”center”>\n",
    "<div itemscope itemtype=”http://schema.org/Restaurant”>\n",
    "<span itemprop=”name”>Restauracja &quot;MAGIA&quot; </span> </p> <br>\n",
    "<div itemprop=”address” itemscope itemtype=”http://schema.org/PostalAddress”> <br> <span itemprop=”postalCode”> 20-114 Lublin</span> <br>\n",
    "<span itemprop=”streetAddress”>ul. Rybna 1 / Grodzka 2</span>\n",
    "</div>\n",
    "<p align=”center”> <br>\n",
    "<b> &nbsp;&nbsp;&nbsp;RESTAURACJA: kontakt, rezerwacje </b> <br>\n",
    "<span itemprop=”telephone”>+48 (81) 532304</span>\n",
    "</p> </div>\n",
    "```"
   ]
  },
  {
   "cell_type": "markdown",
   "id": "2b18d79f-dfa2-426b-b920-ab365c4546b0",
   "metadata": {},
   "source": [
    "\n",
    "### Jak reprezentuje wiedzę *A.L.I.C.E.*?\n",
    "\n",
    "-   *Artificial Linguistic Internet Computer Entity* -\n",
    "    <a href=\"www.alicebot.org\" class=\"uri\">www.alicebot.org</a>\n",
    "\n",
    "-   trzykrotny zwycięzca brązowego medalu nagrody Loebnera\n",
    "\n",
    "-   metadane dla pytań i odpowiedzi w języku AIML"
   ]
  },
  {
   "cell_type": "markdown",
   "id": "789f98d4-368c-4de2-8f3a-18ccbed4bbcd",
   "metadata": {},
   "source": [
    "\n",
    "### Jak reprezentuje wiedzę *A.L.I.C.E.*? (2)\n",
    "\n",
    "```\n",
    "<category><pattern>HOW FAR IS ALPHA CENTAURI</pattern><template>Four light\n",
    "years.</template></category>\n",
    "\n",
    "<category><pattern>HOW MANY LITERS CUP</pattern><template>236.6\n",
    "milliliters</template></category>\n",
    "\n",
    "<category><pattern>WHERE IS BANGLADESH</pattern><template> <set name=”it”> <set name=”topic”> BANGLADESH </set> </set> is part of the Indian subcontinent, on the eastern side.</template></category>\n",
    "```\n",
    "\n",
    "-   wiedza skompresowana:\n",
    "\n",
    "```\n",
    "<category><pattern>IS GOD REAL</pattern><template><srai>DOES GOD EXIST</srai></template></category>\n",
    "\n",
    "<category><pattern>DOES GOD EXIST</pattern><template> <srai>DO YOU BELIEVE IN GOD</srai> </template></category>\n",
    "\n",
    "<category><pattern>DO YOU BELIEVE IN GOD</pattern><template>Of course I believe in God, <get name=”name”/>.</template></category>\n",
    "```"
   ]
  },
  {
   "cell_type": "markdown",
   "id": "9ca1bd12-9647-45d6-bce5-891a7dd4b3b7",
   "metadata": {},
   "source": [
    "### Wiedza w bazie danych\n",
    "\n",
    "\n",
    "\n"
   ]
  },
  {
   "cell_type": "markdown",
   "id": "bf2a942d-ee9b-4a36-84a3-fcc206431d55",
   "metadata": {},
   "source": [
    "### Wiedza w relacyjnej bazie danych\n",
    "\n",
    "<img src=\"../pliki_z_internetu/DB1.png\" width=\"600\"/>"
   ]
  },
  {
   "cell_type": "markdown",
   "id": "0ec5334c-0636-429d-b36f-17317400c0c5",
   "metadata": {},
   "source": [
    "<continue/>\n",
    "\n",
    "<img src=\"../pliki_z_internetu/DB2.png\" width=\"600\"/>"
   ]
  },
  {
   "cell_type": "markdown",
   "id": "eafa5bd6-72c4-4216-91e5-2e6cc7865c1f",
   "metadata": {},
   "source": [
    "### Relacyjny model danych\n",
    "  \n",
    "\n",
    "-   tabelka jako relacja\n",
    "\n",
    "-   wiersz tabelki/rekord jako $n$-tka uporządkowana\n",
    "\n",
    "-   baza danych jako struktura relacyjna\n",
    "\n",
    "-   relacje w logice\n",
    "\n",
    "    1.  kolejność argumentów jest istotna\n",
    "\n",
    "    2.  argumenty relacji nie muszą mieć nazw/identyfikatorów\n",
    "\n",
    "-   relacje w relacyjnym modelu danych\n",
    "\n",
    "    1.  kolejność argumentów nie jest/nie musi być istotna\n",
    "\n",
    "    2.  argumenty relacji muszą mieć nazwy/identyfikatory\n",
    "\n",
    "- baza danych jako język pierwszego rzędu ($\\mathbb{WRP}$)"
   ]
  },
  {
   "cell_type": "markdown",
   "id": "451f6c5e-0a8f-48a7-9eaf-5f90cf9643a4",
   "metadata": {},
   "source": [
    "### Wiedza na rysunkach (JDD)\n",
    "\n"
   ]
  },
  {
   "cell_type": "markdown",
   "id": "33cf7a83-b4bd-435a-a438-d4fcff32f67d",
   "metadata": {},
   "source": [
    "\n",
    "### UML - język reprezentacji wiedzy w *inżynierii oprogramowania*\n",
    "\n",
    "Defincja UML\n",
    "\n",
    "> Zunifikowany język modelowania (UML) jest graficznym językiem do\n",
    "> wizualizacji, specyfikacji, tworzenia i dokumentowania wytworów\n",
    "> systemu wykorzystującego oprogramowanie (*the artifacts of a\n",
    "> software-intensive system*). UML oferuje standardowy sposób pisania\n",
    "> projektu systemu, włączając w to zarówno aspekt pojęciowy obejmujący\n",
    "> procesy biznesowe i funkcje systemu jak i aspekt konkretny, np.\n",
    "> komendy języka programowania, schematy baz danych i komponenty systemu\n",
    "> nadające się do wielokrotnego użytku.\n",
    "\n",
    "(za: specyfikacją UML przygotowaną przez konsorcjum OMG\n",
    "<http://www.uml.org>)"
   ]
  },
  {
   "cell_type": "markdown",
   "id": "200ec7ef-78ec-47f2-b5d2-c84a85c85c52",
   "metadata": {},
   "source": [
    "### Typy diagramów UML\n",
    "\n",
    "1.  diagramy strukturalne\n",
    "\n",
    "    -   diagramy klas\n",
    "\n",
    "    -   diagramy komponentów\n",
    "\n",
    "    -   diagramy implementacji\n",
    "\n",
    "2.  diagramy dynamiczne\n",
    "\n",
    "    -   diagramy przypadków użycia\n",
    "\n",
    "    -   diagramy stanów\n",
    "\n",
    "    -   diagramy aktywności\n",
    "\n",
    "3.  diagramy interakcji\n",
    "\n",
    "    -   diagramy komunikacji\n",
    "\n",
    "    -   diagramy sekwencji\n",
    "\n",
    "    -   diagramy czasowe"
   ]
  },
  {
   "cell_type": "markdown",
   "id": "dcb783ef-1076-4963-865d-49086a9d94c3",
   "metadata": {},
   "source": [
    "### Przykłady diagramów klas\n",
    "\n",
    "<img src=\"../pliki_z_internetu/tabelka.jpg\" width=\"400\"/>\n"
   ]
  },
  {
   "cell_type": "markdown",
   "id": "29b85e01-8626-492c-a60e-340c1be9cd5e",
   "metadata": {},
   "source": [
    "<continue/>\n",
    "\n",
    "<img src=\"../pliki_z_internetu/subsumpcja.jpg\" width=\"400\"/>"
   ]
  },
  {
   "cell_type": "markdown",
   "id": "20298f1c-b9ce-4d5e-9156-09be60f69936",
   "metadata": {},
   "source": [
    "<continue/>\n",
    "\n",
    "<img src=\"../pliki_z_internetu/egzemplifikacja.jpg\" width=\"150\"/>"
   ]
  },
  {
   "cell_type": "markdown",
   "id": "af039fe6-7276-46b2-8231-4474001e9099",
   "metadata": {},
   "source": [
    "<continue/>\n",
    "\n",
    "<img src=\"../pliki_z_internetu/relacje.jpg\" width=\"500\"/>"
   ]
  },
  {
   "cell_type": "markdown",
   "id": "b97b3743-a4f0-411a-9ec5-259d99726928",
   "metadata": {},
   "source": [
    "<continue/>\n",
    "<img src=\"../pliki_z_internetu/mereologia.jpg\" width=\"400\"/>"
   ]
  },
  {
   "cell_type": "markdown",
   "id": "611dd4ca-661f-4e3b-aa7d-6394725b5ee5",
   "metadata": {
    "id": "e0628ec2"
   },
   "source": [
    "### Serializacja diagramów UML \n",
    "\n",
    "<img src=\"../pliki_z_internetu/xmi.jpg\" width=\"900\"/>"
   ]
  },
  {
   "cell_type": "markdown",
   "id": "e0cee208-76a7-4529-bf9c-a46a6f0eb5da",
   "metadata": {},
   "source": [
    "<continue/>\n",
    "\n",
    "### UML jako meta-UML\n",
    "\n",
    "<img src=\"../pliki_z_internetu/metaUML.jpg\" width=\"900\"/>"
   ]
  },
  {
   "cell_type": "markdown",
   "id": "f554a1be-c8da-4ad0-bcd2-4b655c22be6e",
   "metadata": {},
   "source": [
    "## Wiedza a typy danych\n",
    "\n"
   ]
  },
  {
   "cell_type": "markdown",
   "id": "ad8b4e1a-604c-4ba4-85e5-d452f15b0cdd",
   "metadata": {},
   "source": [
    "### Podział zasobów danych ze względu na typ modelu danych\n",
    "\n",
    "1.  zasoby danych bez struktury (*unstructured*)\n",
    "\n",
    "2.  zasoby danych z niejawną strukturą (*semistructured*)\n",
    "\n",
    "3.  strukturalne zasoby danych (*structured*)\n",
    "\n",
    "    1.  zasoby hierarchiczne\n",
    "\n",
    "    2.  zasoby relacyjne\n",
    "\n",
    "    3.  zasoby obiektowe\n",
    "\n",
    "    4.  zasoby sieciowe/grafowe (*graph-like*)"
   ]
  },
  {
   "cell_type": "markdown",
   "id": "eb3eb62a-8edd-4ee9-9a0f-cfdddec7bc01",
   "metadata": {},
   "source": [
    "### Hierarchiczne zasoby danych\n",
    "\n",
    "<img src=\"../pliki_z_internetu/folders.jpg\" width=\"400\" />"
   ]
  },
  {
   "cell_type": "markdown",
   "id": "a6b6399b-e827-4a04-a044-4c6c93dbe44f",
   "metadata": {},
   "source": [
    "<img src=\"../pliki_z_internetu/XmlExample.jpg\" width=\"400\" />"
   ]
  },
  {
   "cell_type": "markdown",
   "id": "cc2bb1f1-ba16-403d-be59-e7f1f8dcf6c6",
   "metadata": {},
   "source": [
    "### Relacyjne zasoby danych\n",
    "\n",
    "<img src=\"../pliki_z_internetu/DB1.png\" width=\"400\" />"
   ]
  },
  {
   "cell_type": "markdown",
   "id": "8d874410-1a5e-47b9-8bf1-526fc2255cb0",
   "metadata": {},
   "source": [
    "### Obiektowe zasoby danych"
   ]
  },
  {
   "cell_type": "markdown",
   "id": "8c06b719-064a-4c91-904d-f5ce2a6a88cd",
   "metadata": {},
   "source": [
    "### Grafowe zasoby danych"
   ]
  },
  {
   "cell_type": "markdown",
   "id": "ea168aa1",
   "metadata": {
    "tags": []
   },
   "source": [
    "## Zoomerskie sposoby reprezentacji wiedzy"
   ]
  },
  {
   "cell_type": "markdown",
   "id": "e817d54a-e505-40d1-9126-5be09b793e4d",
   "metadata": {
    "tags": []
   },
   "source": [
    "### Wiedza w logice\n",
    "Zakładamy, że maszyna rozumie pewną informację, jeżeli potrafi wyprowadzić z tej wiedzy nową wiedzę - zarówno w dotychczasowych, jak i w nowych sytuacjach.\n",
    "Proces uczenia maszyny w reprezentacji wiedzy składa się z:\n",
    "\n",
    "<span t=\"l1\">1. tłumaczenia zdań z języka etnicznego na język logiki, który jest zrozumiały dla maszyny.</a></span>\n",
    "\n",
    "<span t=\"l1\">2. automatycznego rozumowania w języku z pkt. 1</a></span>"
   ]
  },
  {
   "cell_type": "markdown",
   "id": "5a10f5de-79cf-4bcf-a5ba-3d57023a06c5",
   "metadata": {
    "tags": []
   },
   "source": [
    "### Wiedza w logice - parsowanie\n",
    "Proces tłumaczenia zdań z języka etnicznego na język logiki, który jest zrozumiały dla maszyny, nazywamy _parsowaniem_.\n",
    "\n",
    "Język jest _zrozumiały dla maszyny_, jeżeli jest rozstrzygalny, tzn. jeżeli istnieje maszyna Turinga, która o każdym wyrażeniu jest w stanie w skończonej liczbie kroków stwierdzić, czy jest ono poprawnie zbudowane czy nie.\n",
    "\n",
    "Obecnie problem automatycznego tłumaczenia zdań z języka etnicznego na język logiki jest otwarty, ale ostatnio pojawiły się pewne interesujące metody, które być może pozwolą na taką automatyzację."
   ]
  },
  {
   "cell_type": "markdown",
   "id": "0a58de74-f507-4bfe-a63d-af3357e533c2",
   "metadata": {
    "tags": []
   },
   "source": [
    "### Parsowanie przy użyciu GPT-3"
   ]
  },
  {
   "cell_type": "markdown",
   "id": "2b525965-f112-4f27-af0a-7929ca2ab14e",
   "metadata": {
    "tags": []
   },
   "source": [
    "### Automatyczne rozumowanie\n",
    "Na proces automatycznego rozumowania składają się 2 elementy:\n",
    "<span t=\"l1\">1. sprawdzanie poprawności składniowej</a></span>\n",
    "<span t=\"l1\">1. rozumowanie</a></span>"
   ]
  },
  {
   "cell_type": "markdown",
   "id": "7ad0a49d-8181-4bd0-a7c0-970230096a12",
   "metadata": {
    "tags": []
   },
   "source": [
    "### Notacja BNF"
   ]
  },
  {
   "cell_type": "markdown",
   "id": "247fe59b-4314-4039-b68b-471c0e50b35d",
   "metadata": {
    "tags": []
   },
   "source": [
    "### Notacja EBNF"
   ]
  },
  {
   "cell_type": "code",
   "execution_count": 1,
   "id": "1b832516-c48b-4ec6-9b51-29b22650d810",
   "metadata": {},
   "outputs": [
    {
     "name": "stdout",
     "output_type": "stream",
     "text": [
      "\u001b[31mERROR: Could not find a version that satisfies the requirement ebnf\u001b[0m\n",
      "\u001b[31mERROR: No matching distribution found for ebnf\u001b[0m\n"
     ]
    }
   ],
   "source": [
    "!pip install ebnf"
   ]
  },
  {
   "cell_type": "code",
   "execution_count": 2,
   "id": "367626ae-e9d1-4db0-b365-a27658835412",
   "metadata": {},
   "outputs": [],
   "source": [
    "# import ebnf\n",
    "# from ebnf import grammar, parse\n",
    "\n",
    "# grammar(\n",
    "#     '''\n",
    "#     sent ::= atom_1 | (left_bracket sent sep ('&' | '|' | '->' | '<->') sep sent right_bracket) | ('~' | 'as') sent | 'all'  var  left_bracket sent right_bracket | 'exists' var  left_bracket sent right_bracket;\n",
    "#     atom_1 ::= predicate_1 left_bracket (var|const) right_bracket;\n",
    "#     const ::= 'a' counter*;\n",
    "#     var ::= 'x' counter*;\n",
    "#     predicate_1 ::= 'A' counter*;\n",
    "#     predicate_n ::= 'P' counter*;\n",
    "#     counter ::= non_zero_digit+ digit*;\n",
    "#     digit ::='0' | non_zero_digit;\n",
    "#     non_zero_digit ::= ('1'|'2'|'3'|'4'|'5'|'7'|'8'|'9');\n",
    "#     sep ::= ' '+;\n",
    "#     left_bracket ::= '(';\n",
    "#     right_bracket ::= ')';\n",
    "#     ''')\n",
    "# print(parse('P(x,y)'))"
   ]
  },
  {
   "cell_type": "markdown",
   "id": "a99617c4-d948-4869-ae99-01f443c9ff01",
   "metadata": {
    "tags": []
   },
   "source": [
    "### Automatyzacja metody zerojedynkowej"
   ]
  },
  {
   "cell_type": "code",
   "execution_count": 3,
   "id": "5509a3c1-f4c5-4597-acf5-42c9dd3264b2",
   "metadata": {},
   "outputs": [],
   "source": [
    "class Sentence:\n",
    "    def __init__(self, arguments: list):\n",
    "        self.arguments = arguments\n",
    "        self.value = None\n",
    "        \n",
    "    def get_value(self) -> int:\n",
    "        return self.value\n",
    "    \n",
    "    def collect_all_variables(self) -> set:\n",
    "        all_variables = set()\n",
    "        for argument in self.arguments:\n",
    "            all_variables = all_variables.union(argument.collect_all_variables())\n",
    "        return all_variables\n",
    "    \n",
    "    def __gt__(self, other):\n",
    "        self.value.__gt__(other.value)"
   ]
  },
  {
   "cell_type": "code",
   "execution_count": 4,
   "id": "62c6e36d-d44b-46b5-9f96-955fbc2376a8",
   "metadata": {},
   "outputs": [],
   "source": [
    "class Conjunction(Sentence):\n",
    "    def __init__(self, arguments: list):\n",
    "        Sentence.__init__(self, arguments)\n",
    "        \n",
    "    def get_value(self) -> int:\n",
    "        self.value = min([argument.get_value() for argument in self.arguments])\n",
    "        return self.value"
   ]
  },
  {
   "cell_type": "code",
   "execution_count": 5,
   "id": "f39f5163-07e1-480e-a80d-6cee4a2962a7",
   "metadata": {},
   "outputs": [],
   "source": [
    "class Disjunction(Sentence):\n",
    "    def __init__(self, arguments: list):\n",
    "        Sentence.__init__(self, arguments)\n",
    "\n",
    "    def get_value(self) -> int:\n",
    "        self.value = max([argument.get_value() for argument in self.arguments])\n",
    "        return self.value"
   ]
  },
  {
   "cell_type": "code",
   "execution_count": 6,
   "id": "678c5bde-f471-4da4-891d-b638a7879405",
   "metadata": {},
   "outputs": [],
   "source": [
    "class Implication(Sentence):\n",
    "    def __init__(self, arguments: list):\n",
    "        Sentence.__init__(self, arguments)\n",
    "\n",
    "    def get_value(self):\n",
    "        if self.arguments[0].get_value() == 1 and self.arguments[1].get_value() == 0:\n",
    "            self.value = 0\n",
    "        else:\n",
    "            self.value = 1\n",
    "        return self.value"
   ]
  },
  {
   "cell_type": "code",
   "execution_count": 7,
   "id": "374a7b3f-41f9-4d1a-b98d-6e478e442da9",
   "metadata": {},
   "outputs": [],
   "source": [
    "class Negation(Sentence):\n",
    "    def __init__(self, arguments: list):\n",
    "        Sentence.__init__(self, arguments)\n",
    "        \n",
    "    def get_value(self) -> int:\n",
    "        self.value = 1 - self.arguments[0]\n",
    "        return self.value"
   ]
  },
  {
   "cell_type": "code",
   "execution_count": 8,
   "id": "75264e47-de98-46f2-81b6-f6f5a60d7f45",
   "metadata": {},
   "outputs": [],
   "source": [
    "class Variable(Sentence):\n",
    "    registry = dict()\n",
    "    \n",
    "    def __init__(self, arguments):\n",
    "        Sentence.__init__(self, arguments)\n",
    "        self.registry[arguments[0]] = self\n",
    "        \n",
    "    def collect_all_variables(self) -> set:\n",
    "        all_variables = set()\n",
    "        all_variables.add(self)\n",
    "        return all_variables\n",
    "\n",
    "    def get_value(self) -> int:\n",
    "        return self.value\n",
    "    \n",
    "    def set_value(self, value: int):\n",
    "        self.value = value\n",
    "    \n",
    "    def __eq__(self, other):\n",
    "        return self.arguments[0] == other.arguments[0]"
   ]
  },
  {
   "cell_type": "code",
   "execution_count": 16,
   "id": "ea30d9d7-f33d-426c-9bcf-d4d10869fc16",
   "metadata": {},
   "outputs": [],
   "source": [
    "class Equivalence(Sentence):\n",
    "    # DYI\n",
    "    pass"
   ]
  },
  {
   "cell_type": "code",
   "execution_count": 21,
   "id": "dd69008e-51c6-48a7-ae29-86898168f87d",
   "metadata": {
    "tags": []
   },
   "outputs": [],
   "source": [
    "import logging\n",
    "import re\n",
    "\n",
    "import ply.lex as lex\n",
    "import ply.yacc as yacc\n",
    "\n",
    "global parser\n",
    "\n",
    "\n",
    "tokens = [\n",
    "    \"LPAREN\",\n",
    "    \"RPAREN\",\n",
    "    \"VARIABLE\"\n",
    "]\n",
    "\n",
    "reserved = {\n",
    "    '~': 'NOT',\n",
    "    '&': 'AND',\n",
    "    '|': 'OR',\n",
    "    '<->': 'IFF',\n",
    "    '->': 'IF'\n",
    "}\n",
    "\n",
    "tokens += reserved.values()\n",
    "\n",
    "# precedence = [['left', 'IFF'],\n",
    "#               ['left', 'IF']]\n",
    "\n",
    "t_ignore = ' \\t\\r\\n\\f\\v'\n",
    "\n",
    "literals = ['(', ')']\n",
    "\n",
    "\n",
    "def t_LPAREN(t):\n",
    "    r'\\('\n",
    "    t.type = 'LPAREN'\n",
    "    return t\n",
    "\n",
    "\n",
    "def t_RPAREN(t):\n",
    "    r'\\)'\n",
    "    t.type = 'RPAREN'\n",
    "    return t\n",
    "\n",
    "\n",
    "def t_VARIABLE(t):\n",
    "    r'[pqr]'\n",
    "    t.type = 'VARIABLE'\n",
    "    return t\n",
    "\n",
    "\n",
    "def t_OR(t):\n",
    "    r'\\|'\n",
    "    t.type = 'OR'\n",
    "    return t\n",
    "\n",
    "\n",
    "def t_AND(t):\n",
    "    r'&'\n",
    "    t.type = 'AND'\n",
    "    return t\n",
    "\n",
    "def t_IF(t):\n",
    "    '->'\n",
    "    t.type = 'IF'\n",
    "    return t\n",
    "\n",
    "def t_IFF(t):\n",
    "    r'<->'\n",
    "    t.type = 'IFF'\n",
    "    return t\n",
    "\n",
    "\n",
    "def t_NOT(t):\n",
    "    r'not'\n",
    "    t.type = 'NOT'\n",
    "    return t\n",
    "\n",
    "\n",
    "def t_error(t):\n",
    "    print(\"Unknown character \\\"{}\\\"\".format(t.value[0]))\n",
    "    t.lexer.skip(1)\n",
    "\n",
    "\n",
    "def p_theory(p):\n",
    "    \"\"\"\n",
    "    theory : statement\n",
    "    \"\"\"\n",
    "    p[0] = p[1]\n",
    "\n",
    "\n",
    "def p_statement(p):\n",
    "    \"\"\"\n",
    "    statement : negation\n",
    "          | conjunction\n",
    "          | disjunction\n",
    "          | implication\n",
    "          | biconditional\n",
    "          | variable\n",
    "    \"\"\"\n",
    "    p[0] = p[1]\n",
    "\n",
    "\n",
    "def p_negation(p):\n",
    "    \"\"\"\n",
    "    negation : LPAREN NOT statement RPAREN\n",
    "    \"\"\"\n",
    "    p[0] = Negation(p[3])\n",
    "\n",
    "\n",
    "def p_conjunction(p):\n",
    "    \"\"\"\n",
    "    conjunction : LPAREN statement AND statement RPAREN\n",
    "    \"\"\"\n",
    "    p[0] = Conjunction([p[2], p[4]])\n",
    "\n",
    "\n",
    "def p_disjunction(p):\n",
    "    \"\"\"\n",
    "    disjunction : LPAREN statement OR statement RPAREN\n",
    "    \"\"\"\n",
    "    p[0] = Disjunction([p[2], p[4]])\n",
    "\n",
    "\n",
    "def p_implication(p):\n",
    "    \"\"\"\n",
    "    implication : LPAREN statement IF statement RPAREN\n",
    "    \"\"\"\n",
    "    p[0] = Implication([p[2], p[4]])\n",
    "\n",
    "\n",
    "def p_biconditional(p):\n",
    "    \"\"\"\n",
    "    biconditional : LPAREN statement IFF statement RPAREN\n",
    "    \"\"\"\n",
    "    p[0] = Equivalence([p[2], p[4]])\n",
    "\n",
    "\n",
    "def p_variable(p):\n",
    "    \"\"\"\n",
    "    variable : VARIABLE\n",
    "    \"\"\"\n",
    "    if p[1] in Variable.registry:\n",
    "        p[0] = Variable.registry[p[1]]\n",
    "    else:\n",
    "        p[0] = Variable([p[1]])\n",
    "\n",
    "\n",
    "def parse_text(logical_text: str) -> set:\n",
    "    \"\"\"\n",
    "    Accepts a text with logical formulae.\n",
    "    \"\"\"\n",
    "    \n",
    "    lex.lex(reflags=re.UNICODE)\n",
    "    parser = yacc.yacc()\n",
    "    parsed_sentences = yacc.parse(logical_text)\n",
    "    \n",
    "    if not isinstance(parsed_sentences, set):\n",
    "        parsed_sentence = parsed_sentences\n",
    "        parsed_sentences = set()\n",
    "        parsed_sentences.add(parsed_sentence)\n",
    "    \n",
    "    return parsed_sentences"
   ]
  },
  {
   "cell_type": "code",
   "execution_count": null,
   "id": "090a8b9f-405f-4bef-85cf-3aa1e3cac05c",
   "metadata": {},
   "outputs": [],
   "source": [
    "parset_text('(p -> p)')"
   ]
  },
  {
   "cell_type": "markdown",
   "id": "4c816d53",
   "metadata": {
    "id": "4c816d53",
    "tags": []
   },
   "source": [
    "## <span t=\"slide_title\">Bibliografia</span>\n",
    "\n",
    "-   <span t=\"l1\">J. Sowa, *Knowledge Representation: Logical, Philosophical, and\n",
    "    Computational Foundations*, Brooks Cole Publishing Co., Pacific\n",
    "    Grove, CA, 2000</span>\n",
    "\n",
    "-   <span t=\"l1\">R. Brachman, H. Levesque, *Knowledge Representation and Reasoning*,\n",
    "    Morgan Kaufmann 2004</span>\n",
    "\n",
    "-   <span t=\"l1\">F. van Harmelen i in., *Handbook of Knowledge Representation*,\n",
    "    Elsevier, Amsterdam 2008</span>\n",
    "\n",
    "-   <span t=\"l1\">Krzysztof Goczyła, *Ontologie w systemach informatycznych*, EXIT\n",
    "    2011</span>\n",
    "\n",
    "-  <span t=\"l1\"> R. Fagin i in., *Reasoning about Knowledge*, MIT Press 1995.</span>\n",
    "\n",
    "- <span t=\"l1\">Berners-Lee, T., Hendler, J., and Lassila, O. (2001). The Semantic Web. Scientific American, 284(5):24–30.</span>\n",
    "\n",
    "- <span t=\"l1\">Cardoso, J. (2007). The syntactic and the semantic web. In Semantic Web Services: Theory, Tools, and Applications. IGI Global.</span>\n",
    "\n",
    "- <span t=\"l1\">Codd, E. F. (1990). The relational model for database management: version 2. Addison-Wesley Longman Publishing Co., Inc., Boston, MA, USA.</span>\n",
    "\n",
    "- <span t=\"l1\">Feigenbaum, E. A. (2003). Some challenges and grand challenges for computational intelligence. J. ACM, 50:32–40.</span>\n",
    "\n",
    "- <span t=\"l1\">Group, O. M. (2011). Omg unified modeling languagetm (omg uml) - infrastructure. Technical report, Object Management Group.</span>\n",
    "- <span t=\"l1\">Hayes, P. J. (1979). The Naive Physics Manifesto. In Michie, D., editor, Expert Systems in the Micro-electronic Age, pages 242–270. Edinburg University Press.</span>\n",
    "- <span t=\"l1\">Hayes, P. J. (1985). The Second Naive Physics Manifesto. In Hobbes, J. R. and Moore, R. C., editors, Formal theories of the commonsense world, pages 1–36. Ablex Publishing Corporation.</span>\n",
    "\n",
    "- <span t=\"l1\">Hilbert, M. and López, P. (2011). The world’s technological capacity to store, communicate, and compute information. Science, 332:60–65.</span>\n",
    "\n",
    "- <span t=\"l1\">Ingarden, R. (1987). Spór o istnienie świata, volume I. PWN.</span>\n",
    "\n",
    "- <span t=\"l1\">Landauer, T. K. (1986). How much do people remember? Some estimates of the quantity of learned information in long-term memory. Cognitive Science, 10(4):477 – 493.</span>\n",
    "\n",
    "- <span t=\"l1\">Lenat, D. and Guha, R. V. (1990). Building Large Knowledge Based Systems. Addison Wesley.</span>\n",
    "\n",
    "- <span t=\"l1\">McCarthy, J. (1980). Circumscription - a form of Non-Monotonic Reasoning. Artificial Intelligence, 13(1-2):27–39.</span>\n",
    "\n",
    "- <span t=\"l1\">Partridge, C., Lambert, M., Loneragan, M., Mitchell, A., and Garbacz, P. (2011). A novel ontological approach to semantic interoperability between legacy air defence command and control systems. International Journal of Intelligent Defence Support Systems, 4(3):232–262.</span>\n",
    "\n",
    "- <span t=\"l1\">Reiter, R. (1984). Towards a Logical Reconstruction of Relational Database Theory. In Brodi, M., Mylopoulos, J., and Schmidt, J. W., editors, On Conceptual Modelling, pages 191–238. Springer Verlag.</span>\n",
    "\n",
    "- <span t=\"l1\">Searle, J. (1980). Minds, brains and programs. Behavioral and Brain Sciences, 3:417–457.</span>\n",
    "\n",
    "- <span t=\"l1\">Sowa, J. F. (2000). Knowledge Representation: Logical, Philosophical, and Computational Foundations. Brooks/Cole.</span>\n",
    "\n",
    "- <span t=\"l1\">Stępień, A. B. (1999). Studia i szkice filozoficzne, volume I. Redakcja Wydawnictw KUL, Lublin.</span>\n",
    "\n",
    "- <span t=\"l1\">Studer, R., Benjamins, V. R., and Fensel, D. (1998). Knowledge engineering: Principles and methods. Data Knowl. Eng., 25(1-2):161–197.</span>\n",
    "\n",
    "- <span t=\"l1\">Turing, A. M. (1950). Computing machinery and intelligence. Mind, 59:433–460.</span>\n",
    "\n",
    "- <span t=\"l1\">van Orman Quine, W. (1969). Z punktu widzenia logiki. Eseje logiczno-filozoficzne, chapter O tym, co istnieje, pages 9–34. PWN, Warszawa.</span>"
   ]
  }
 ],
 "metadata": {
  "colab": {
   "name": "inzynieria_ontologii.ipynb",
   "provenance": [],
   "toc_visible": true
  },
  "kernelspec": {
   "display_name": "Python 3",
   "language": "python",
   "name": "python3"
  },
  "language_info": {
   "codemirror_mode": {
    "name": "ipython",
    "version": 3
   },
   "file_extension": ".py",
   "mimetype": "text/x-python",
   "name": "python",
   "nbconvert_exporter": "python",
   "pygments_lexer": "ipython3",
   "version": "3.8.8"
  }
 },
 "nbformat": 4,
 "nbformat_minor": 5
}
