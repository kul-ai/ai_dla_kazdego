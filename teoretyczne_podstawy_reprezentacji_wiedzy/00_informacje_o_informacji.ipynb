{
 "cells": [
  {
   "cell_type": "markdown",
   "id": "a2214094",
   "metadata": {},
   "source": [
    "# Informacja"
   ]
  },
  {
   "cell_type": "markdown",
   "id": "b6168be8",
   "metadata": {},
   "source": [
    "## Problem szukania informacji"
   ]
  },
  {
   "cell_type": "markdown",
   "id": "d34d9f1c",
   "metadata": {},
   "source": [
    "### Problem nadmiaru\n",
    "\n",
    "1.  <span t=\"l1\">w roku 2007 wyprodukowaliśmy 295 exabajtów ($\\approx 10^{18}$\n",
    "    bajtów) skompresowanych danych</span>\n",
    "\n",
    "    -   <span t=\"l2\">ok. 60 płyt CD-ROM / osobę</span>\n",
    "\n",
    "    -   <span t=\"l2\">ok. 10 płyt DVD / osobę</span>\n",
    "\n",
    "    -   <span t=\"l2\">ok. 1 twardy dysk (1TB) / 100 osób</span>\n",
    "\n",
    "2.  <span t=\"l1\">wzrost o:</span>\n",
    "\n",
    "    -  <span t=\"l2\">6100 $\\%$ w stosunku do 1986 r.</span>\n",
    "    \n",
    "    -  <span t=\"l2\">500 $\\%$ w stosunku do 2000 r.</span>\n",
    "\n",
    "3.  <span t=\"l1\">podział na kategorie nośników:</span>\n",
    "\n",
    "    -   <span t=\"l2\">twarde dyski $52\\%$</span>\n",
    "\n",
    "    -   <span t=\"l2\">dyski optyczne $28\\%$</span>\n",
    "\n",
    "    -   <span t=\"l2\">taśma magnetyczna (zapis cyfrowy) $11\\%$</span>\n",
    "\n",
    "    -   <span t=\"l2\">papier $0.007\\%$</span>\n",
    "\n",
    "4.  <span t=\"l1\">przeciętny człowiek jest w stanie zapamiętać w sposób trwały w ciągu\n",
    "    całego swego życia ok. $200$ megabajtów danych (1 megabajt\n",
    "    $\\approx 10^{6}$ bajtów).</span>"
   ]
  },
  {
   "cell_type": "markdown",
   "id": "04fcc1ef",
   "metadata": {},
   "source": [
    "### Jak ludzie szukają informacji?\n",
    "\n",
    "1.  <span t=\"l1\">Co to jest heksakosjoiheksekontaheksafobia?</span>\n",
    "\n",
    "2.  <span t=\"l1\">Jacy filozofowie urodzili się w Lublinie?</span>\n",
    "\n",
    "3.  <span t=\"l1\">W którym filmie brało udział najwięcej aktorów?</span>\n",
    "\n",
    "4.  <span t=\"l1\">Jakie filmy zostały nominowane zarazem do Oscara i BAFTA?</span>"
   ]
  },
  {
   "cell_type": "markdown",
   "id": "6fafbd50",
   "metadata": {},
   "source": [
    "### Jak szukać informacji filozoficznej w Internecie?\n",
    "\n",
    "1.  <span t=\"l1\">www.wikipedia.com</span>\n",
    "\n",
    "2.  <span t=\"l1\">*Stanford Encyclopedia of Philosophy* http://www.science.uva.nl/~seop</span>\n",
    "\n",
    "3.  <span t=\"l1\">*Powszechna Encyklopedia Filozoficzna* <http://www.ptta.pl/pef/></span>\n",
    "\n",
    "4.  <span t=\"l1\">wortal <a href=\"www.filozofia.pl\">www.filozofia.pl</a></span>\n",
    "\n",
    "5.  <span t=\"l1\"><a href=\"http://academicon.pl/\">http://academicon.pl</a></span>"
   ]
  },
  {
   "cell_type": "markdown",
   "id": "394c493c",
   "metadata": {},
   "source": [
    "### Jak szukać informacji bibliograficznej?\n",
    "\n",
    "1.  <span t=\"l1\">bazy danych dostępne w domenie publicznej</span>\n",
    "\n",
    "    -   <span t=\"l2\">dla nauk wszelkich: http://scholar.google.com</span>\n",
    "\n",
    "    -    <span t=\"l2\">dla filozofii: *PhilPapers* (http://philpapers.org/)</span>\n",
    "\n",
    "    -    <span t=\"l2\">dla informatyki:\n",
    "\n",
    "        -   *The DBLP Computer Science Bibliography*\n",
    "            (http://www.dblp.org/search), \n",
    "\n",
    "        -   *Digitial Library of ACM* (http://dl.acm.org/)</span>\n",
    "\n",
    "    -    <span t=\"l2\">dla biologii i medycyny: *PubMed*\n",
    "        (http://www.ncbi.nlm.nih.gov/pubmed/)</span>\n",
    "\n",
    "2.  <span t=\"l1\">komercyjne bazy danych (zob. zakładka Zasoby wiedzy na e-KUL)</span>\n",
    "\n",
    "    -   uniwersalne\n",
    "\n",
    "        -    <span t=\"l2\">JSTOR (głównie humanistyka)</span>\n",
    "\n",
    "        -    <span t=\"l2\">EBSCO (głównie nauki społeczne)</span>\n",
    "\n",
    "        -    <span t=\"l2\">ScienceDirect (głównie informatyka i inżynieria)</span>\n",
    "\n",
    "        -    <span t=\"l2\">Scopus (nauki wszelkie) - cytowania</span>\n",
    "\n",
    "        -    <span t=\"l2\">Web of Knowledge - <http://apps.webofknowledge.com> (nauki\n",
    "            wszelkie) - cytowania</span>\n",
    "\n",
    "    -   lokalne\n",
    "\n",
    "        -    <span t=\"l2\">Springer - <a href=\"www.springerlink.com/journals\"\n",
    "            class=\"uri\">www.springerlink.com/journals</a></span>"
   ]
  },
  {
   "cell_type": "markdown",
   "id": "5563d461",
   "metadata": {},
   "source": [
    "### Jak szukać informacji bibliograficznej - praktyka\n",
    "\n",
    "1.  <span t=\"l1\">Znajdź publikacje z dziedziny informatyki poświęcone ontologii!</span>\n",
    "\n",
    "2.  <span t=\"l1\">Znajdź publikacje z 2011 r. poświęcone grafenowi!</span>\n",
    "\n",
    "3.  <span t=\"l1\">Znajdź publikacje, które cytują *In Defense of the Selfish Gene*\n",
    "    Richarda Dawkinsa!</span>\n",
    "\n",
    "4.  <span t=\"l1\">Znajdź filozoficzne publikacje, które dotyczą ewolucji, lecz których\n",
    "    nie napisał Richard Dawkins!</span>\n",
    "\n",
    "5.  <span t=\"l1\">Znajdź recenzje publikacji dotyczących Boga z dziedziny filozofii!</span>\n",
    "\n",
    "6.  <span t=\"l1\">Znajdź najczęściej cytowany artykuł filozoficzny!</span>\n",
    "\n",
    "7.  <span t=\"l1\">Jakie artykuły napisał Tadeusz Szubka?</span>\n",
    "\n",
    "8.  <span t=\"l1\">W którym roku Tadeusz Szubka opublikował najwięcej artykułów?</span>\n",
    "\n",
    "9.  <span t=\"l1\">Ile opublikowano polskich artykułów filozoficznych!</span>\n",
    "\n",
    "10. <span t=\"l1\">W jakiej dziedzinie opublikowano najwięcej artykułów?</span>"
   ]
  },
  {
   "cell_type": "markdown",
   "id": "8014f376",
   "metadata": {},
   "source": [
    "## Podstawowe pojęcia z teorii wyszukiwania informacji"
   ]
  },
  {
   "cell_type": "markdown",
   "id": "04438202",
   "metadata": {},
   "source": [
    "### Podstawowe miary jakości wyszukiwania\n",
    "\n",
    "1.  <span t=\"l1\">poprawność (*precision*)</span>\n",
    "\n",
    "2.  <span t=\"l1\">pełność (*recall*)</span>\n",
    "\n",
    "3.  <span t=\"l1\">F-miara (*F-measure*)</span>\n",
    "\n"
   ]
  },
  {
   "cell_type": "markdown",
   "id": "9a199480",
   "metadata": {},
   "source": [
    "1.  <span t=\"l1\">$tp$ (*true positive*) – znalazł i powinien znaleźć</span>\n",
    "\n",
    "2.  <span t=\"l1\">$tn$ (*true negative*) – nie znalazł i nie powinien znaleźć</span>\n",
    "\n",
    "3.  <span t=\"l1\">$fp$ (*false positive*) – znalazł i nie powinien znaleźć</span>\n",
    "\n",
    "4.  <span t=\"l1\">$fn$ (*false negative*) – nie znalazł i powinien znaleźć</span>\n"
   ]
  },
  {
   "cell_type": "markdown",
   "id": "3ba13cd4",
   "metadata": {},
   "source": [
    "### Tablica pomyłek\n",
    "\n",
    "<span t=\"t\">\n",
    "    \n",
    "| Klasa przewidywana →<br>Klasa aktualna ↓ \t| Pozytywna \t| Negatywna \t|\n",
    "|:----------------------------------------:\t|:---------:\t|:---------:\t|\n",
    "|                 Pozytywna                \t|     TP    \t|     FN    \t|\n",
    "|                 Negatywna                \t|     FP    \t|     TN    \t|\n",
    "</span>\n",
    "\n",
    "- Prawdziwe pozytywy (True positives, TP): są to próbki, dla których przewidzieliśmy 1 jako wynik, a prawdziwa wartość również wynosi 1; czyli poprawnie przewidzieliśmy wynik pozytywny.\n",
    "- Fałszywe pozytywy (False positives, FP): są to próbki, dla których przewidzieliśmy 1 jako wynik, ale prawdziwa wartość wynosi 0; czyli błędnie przewidzieliśmy, że wynik jest pozytywny (np. test będnie wykazał, że ktoś jest chory na COVID-19). Jest to również znane jako **błąd typu I**.\n",
    "- Fałszywe negatywy (False negatives, FN): są to próbki, dla których przewidzieliśmy 0 jako wynik, ale prawdziwa wartość wynosi 1; czyli błędnie przewidzieliśmy, że wynik jest negatywny (np. test błędnie wykazał, że ktoś jest zdrowy i NIE ma COVID-19). Jest to również znane jako **błąd typu II**.\n",
    "- Prawdziwe negatywy (True negatives, TN): są to próbki, dla których przewidzieliśmy 0 jako wynik, a prawdziwa wartość również wynosi 0; czyli poprawnie przewidzieliśmy wynik negatywny.\n",
    "\n",
    "W zależności od problemu może być konieczne zoptymalizowanie naszego algorytmu, aby zmniejszyć liczbę fałszywie dodatnich lub fałszywie ujemnych. Na przykład w systemie identyfikacji biometrycznej bardzo ważne jest unikanie fałszywych alarmów, ponieważ niewłaściwe osoby mogą uzyskać dostęp do wrażliwych informacji. Zobaczmy, jak stworzyć macierz pomyłki."
   ]
  },
  {
   "cell_type": "markdown",
   "id": "9bf05d2c",
   "metadata": {},
   "source": [
    "<span t=\"l1\">Zadajemy serwisowi https://www.wolframalpha.com pytanie:</span> \n",
    "    <span t=\"l2\">znajdź rodziców Osamy bin Ladena.</span>  \n",
    "\n",
    "<span t=\"l1\">W odpowiedzi dostajemy zbiór</span>\n",
    "\n",
    "<span t=\"l2\">$A = \\{\\text{Mohammed bin Awad bin Laden}, \\text{Hamida al-Attas}, \\text{Muhammad al-Attas}\\}$.</span>\n",
    "\n",
    "1.  <span t=\"l2\">$tp = \\{\\text{Mohammed bin Awad bin Laden}, \\text{Hamida al-Attas}\\}$</span>\n",
    "\n",
    "2.  <span t=\"l2\">$tn = \\{\\text{Paweł Garbacz}, \\dots \\}$</span>\n",
    "\n",
    "3.  <span t=\"l2\">$fp= \\{\\text{Muhammad al-Attas}\\}$</span>\n",
    "\n",
    "4.  <span t=\"l2\">$fn = \\emptyset$</span>"
   ]
  },
  {
   "cell_type": "markdown",
   "id": "6fedded9",
   "metadata": {},
   "source": [
    "<span t=\"l1\">Zasób danych zawiera $n$ przedmiotów $D = \\{d_1, d_2, \\dots, d_n \\}$. </span> \n",
    "\n",
    "<span t=\"l1\">Zadajemy **pytanie**: Znajdź wszystkie przedmioty $d$, które spełniają warunek: $\\phi(d)$!</span>\n",
    "\n",
    "<span t=\"l1\">Na przykład:</span>\n",
    "\n",
    "<span t=\"l2\">Znajdź wszystkie przedmioty $d$, które spełniają warunek $\\phi$:$d$ jest rodzicem Osamy bin Ladena.</span>\n",
    "\n",
    "<span t=\"l1\">W **odpowiedzi** dostajemy zbiór $A = \\{d_{i_1}, d_{i_2}, \\dots, d_{i_j} , \\dots, d_{i_k} \\} \\subseteq D$  ($i_j$: $1 \\leq i_j \\leq n$).</span>\n",
    "\n",
    "1.  <span t=\"l2\">$tp = A \\cap \\{d_i : \\phi(d_i) \\}$</span>\n",
    "\n",
    "2.  <span t=\"l2\">$tn = \\overline{A} \\cap \\{d_i : \\neg \\phi(d_i) \\}$</span>\n",
    "\n",
    "3.  <span t=\"l2\">$fp= A \\cap \\{d_i : \\neg \\phi(d_i) \\}$</span>\n",
    "\n",
    "4.  <span t=\"l2\">$fn = \\overline{A} \\cap \\{d_i : \\phi(d_i) \\}$</span>"
   ]
  },
  {
   "cell_type": "markdown",
   "id": "a2fe0165",
   "metadata": {},
   "source": [
    "### Poprawność \n",
    "\n",
    "<span t=\"l1\">$precision = \\frac{|tp|}{|tp \\bigcup fp|}$</span>"
   ]
  },
  {
   "cell_type": "markdown",
   "id": "18fdb758",
   "metadata": {},
   "source": [
    "### Pełność (czułość)\n",
    "\n",
    "<span t=\"l1\">$recall = \\frac{|tp|}{|tp \\bigcup fn|}$</span>"
   ]
  },
  {
   "cell_type": "markdown",
   "id": "4a71283a",
   "metadata": {},
   "source": [
    "### F-miara\n",
    "<span t=\"l1\">$f_{measure} = 2 \\times \\frac{precision \\times recall}{precision + recall}$</span>"
   ]
  },
  {
   "cell_type": "markdown",
   "id": "4afaba38",
   "metadata": {},
   "source": [
    "### Przykład\n",
    "Mamy 10 zdjęć. 7 kotów, 3 psy.\n",
    "- P = 7\n",
    "- N = 3\n",
    "\n",
    "- TP = 3,   FP = 1\n",
    "- FN = 4,   TN = 5\n",
    "\n",
    "* **accuracy (dokładność)** = (TP + TN) / (P + N) = 3 + 5 / 10 = 0.8\n",
    "    - TP + TN to wszystkie przypadki (pozytwyne i negatywne) poprawnie sklasyfikowane\n",
    "    - P + N to wszystkie przypadki\n",
    "* **precision (precyzja)** = TP / (TP + FP) = 3 / 4 = 0.75\n",
    "    - TP to wszystkie przypadki pozytywne poprawnie sklasyfikowane\n",
    "    - TP + FP to wszystkie przypadki sklasyfikowane jako pozytywne, tj. wszystkie przypadki poprawnie i błędnie sklasyfikowane jako pozytywne\n",
    "* **recall (czułość)** = TP / (TP + FN) = TP / P = 3/7 = 0.42\n",
    "    - TP to wszystkie przypadki pozytywne poprawnie sklasyfikowane\n",
    "    - TP + FN to to samo co P, czyli wszystkie przypadki pozytywne\n",
    "    "
   ]
  },
  {
   "cell_type": "markdown",
   "id": "ec38c582",
   "metadata": {},
   "source": [
    "### Podstawowe miary jakości wyszukiwania\n",
    "<span t=\"l1\">Zadajemy serwisowi https://www.wolframalpha.com pytanie:</span> \n",
    "<span t=\"l2\">znajdź rodziców Osamy bin Ladena.</span>  \n",
    "\n",
    "<span t=\"l1\">W odpowiedzi dostajemy zbiór</span> \n",
    "<span t=\"l2\">$A = \\{\\text{Mohammed bin Awad bin Laden}, \\text{Hamida al-Attas}, \\text{Muhammad al-Attas}\\}$.</span> \n",
    "\n",
    "- <span t=\"l2\">$precision = \\frac{2}{3}$</span>\n",
    "- <span t=\"l2\">$recall = \\frac{2}{2} = 1$</span>\n",
    "- <span t=\"l2\">$f-measure = 2 \\times \\frac{\\frac{2}{3} \\times 1}{\\frac{2}{3} + 1} = \\frac{4}{5}$</span>\n",
    "\n"
   ]
  },
  {
   "cell_type": "markdown",
   "id": "423cdf50",
   "metadata": {},
   "source": [
    "## Koncepcje informacji"
   ]
  },
  {
   "cell_type": "markdown",
   "id": "addfc72a",
   "metadata": {},
   "source": [
    "### Informacja jako miara falsyfikowalności (K. Popper)\n",
    "\n",
    "1.  falsyfikacjonizm\n",
    "\n",
    "2.  Ilość informacji empirycznej (teorii naukowej) zwiększa się wraz ze\n",
    "    stopniem jej falsyfikowalności.\n",
    "\n",
    "3.  dwa rodzaje prawdopodobieństwa:\n",
    "\n",
    "    1.  logiczne\n",
    "\n",
    "    2.  numeryczne\n",
    "\n",
    "4.  falsyfikowalność $\\approx$ logiczne prawdopodobieństwo"
   ]
  },
  {
   "cell_type": "markdown",
   "id": "2c33cae6",
   "metadata": {},
   "source": [
    "### Informacja jako miara niepewności\n",
    "\n",
    "-   Ile informacji zyskujemy grając w “pomidora”?\n",
    "\n",
    "-   Ile informacji zyskujemy, dowiadując się, że w rzucie monetą\n",
    "    wyrzucono orła?\n",
    "\n",
    "-   Ile informacji zyskujemy dowiadując się, że na kostce wyrzucono 6?\n",
    "\n",
    "-   Miara informacji jest wielkością niepewności/deficytu poznawczego\n",
    "    usuniętego w wyniku otrzymania komunikatu (C. Shannon)."
   ]
  },
  {
   "cell_type": "markdown",
   "id": "2cafe23f",
   "metadata": {},
   "source": [
    "**Definicja 3**. *Niech $x$ będzie zdarzeniem (komunikacyjnym), którego\n",
    "prawdopodobieństwo wynosi $p$. Wówczas miara informacji przenoszona\n",
    "przez to zdarzenie wynosi $$h = -\\log_2 p.$$*"
   ]
  },
  {
   "cell_type": "markdown",
   "id": "92f31563",
   "metadata": {},
   "source": [
    "<span t=\"t\">\n",
    "\n",
    "|                     **Zdarzenie**                     | **Prawdopodobieństwo** | **Informacja** |\n",
    "|:-----------------------------------------------------:|:----------------------:|:--------------:|\n",
    "|                  wynik rzutu monetą                   |     $\\frac{1}{2}$      |       1        |\n",
    "|        zwycięstwo A. Dudy w II. turze wyborów         |     $\\frac{1}{2}$      |      $1$       |\n",
    "|                  wynik rzutu kostką                   |     $\\frac{1}{6}$      | $\\approx 2.59$ |\n",
    "| zwycięstwo G. Johnsona w wyborach prezydenckich w USA |         $0.06$         | $\\approx 4.06$ |\n",
    "|             wynik wyborów parlamentarnych             |          ???           |      ???       |\n",
    "\n",
    "</span>\n"
   ]
  },
  {
   "cell_type": "markdown",
   "id": "28425c6e",
   "metadata": {},
   "source": [
    "**Definicja 4**. *Niech $\\{x_i\\}$ ($0 \\leq i \\leq n$), będzie skończonym\n",
    "zbiorem zdarzeń komunikacyjnych, takich że prawdopodobieństwo zdarzenia\n",
    "$x_i$ wynosi $p_i$. Wówczas miara informacji przenoszona przez ten zbiór\n",
    "zdarzeń wynosi $$H = -\\sum_{i=1}^n p_i \\log_2 p_i.$$*\n",
    "\n",
    "Założenia:\n",
    "\n",
    "1.  Zbiór $\\{x_i\\}$ jest dyskretny.\n",
    "\n",
    "2.  Zdarzenia z $\\{x_i\\}$ są niezależne.\n",
    "\n",
    "3.  Zbiór $\\{x_i\\}$ jest ergodyczny."
   ]
  },
  {
   "cell_type": "markdown",
   "id": "a3ad723d",
   "metadata": {},
   "source": [
    "### Jakościowa teoria informacji M. Mazura (Mazur, 1970)\n",
    "\n",
    "**Definicja 5**. *Informacja jest to transformacja jednego komunikatu asocjacji informacyjnej w drugi komunikat tej asocjacji.*\n",
    "\n"
   ]
  },
  {
   "cell_type": "markdown",
   "id": "baee7b8c",
   "metadata": {},
   "source": [
    "**Definicja 6**. *Tor sterowniczy jest to system, za pomocą którego\n",
    "jeden system oddziałuje na inny system.*\n",
    "\n",
    "**Definicja 7**. *Komunikat jest to stan fizyczny (elementu) toru\n",
    "sterowniczego.*\n",
    "\n",
    "**Definicja 8**. *Zbiór poprzeczny komunikatów jest to zbiór komunikatów\n",
    "w pewnym miejscu toru sterowniczego.*"
   ]
  },
  {
   "cell_type": "markdown",
   "id": "0415a31b",
   "metadata": {},
   "source": [
    "**Definicja 9**. *Asocjacja komunikatów jest to nieuporządkowana para\n",
    "komunikatów.*\n",
    "\n",
    "**Definicja 10**. *Transformacja (asocjacji komunikatów) jest to proces\n",
    "zmiany jednego komunikatu (asocjacji) w drugi komunikat (tej\n",
    "asocjacji).*\n",
    "\n",
    "**Definicja 11**. *Asocjacja informacyjna jest to asocjacja komunikatów\n",
    "z poprzecznego zbioru komunikatów.*\n",
    "\n",
    "Jakościowa teoria informacji M. Mazura (4)\n",
    "\n"
   ]
  },
  {
   "cell_type": "markdown",
   "id": "07c62f94",
   "metadata": {},
   "source": [
    "**Definicja 12**. *Informacja jest to transformacja jednego komunikatu\n",
    "asocjacji informacyjnej w drugi komunikat tej asocjacji.*"
   ]
  },
  {
   "cell_type": "markdown",
   "id": "00007869",
   "metadata": {},
   "source": [
    "### Informacja semantyczna\n",
    "\n",
    "*General Definition of Information* (L. Floridi)\n",
    "\n",
    "**Definicja 13**. *$x$ jest informacją, gdy:*\n",
    "\n",
    "1.  *$x$ jest złożone z danych*\n",
    "\n",
    "2.  *dane te są poprawnie zbudowane*\n",
    "\n",
    "3.  *dane te są sensowne*"
   ]
  },
  {
   "cell_type": "markdown",
   "id": "e97cf1e7",
   "metadata": {},
   "source": [
    "<img src=\"../pliki_z_internetu/Sign.jpg\" width=\"200\"/>\n",
    "\n"
   ]
  },
  {
   "cell_type": "markdown",
   "id": "974cef8d",
   "metadata": {},
   "source": [
    "-   *Dana* jest to różnica pomiędzy dwoma bytami w pewnym kontekście.\n",
    "\n",
    "    > In fact, what we mean by information […] is a difference which makes a difference.\n",
    "\n",
    "-   rodzaje danych\n",
    "    -   rzeczy\n",
    "    -   percepcje\n",
    "    -   symbole"
   ]
  },
  {
   "cell_type": "markdown",
   "id": "e9b766e3",
   "metadata": {},
   "source": [
    "-   tezy o neutralności\n",
    "\n",
    "    1.  Dana jest relacją (pomiędzy czymkolwiek a czymkolwiek).\n",
    "\n",
    "    2.  Istnieją różne typy danych (i różne typy informacji).\n",
    "\n",
    "    3.  Nie ma informacji bez danych.\n",
    "\n",
    "    4.  Informacja semantyczna ma znaczenie niezależnie od istnienia jej\n",
    "        odbiorców.\n",
    "\n"
   ]
  },
  {
   "cell_type": "markdown",
   "id": "8f1e5a81",
   "metadata": {},
   "source": [
    "-   rodzaje danych:\n",
    "\n",
    "    1.  pierwotne, np. rekordy w bazie danych;\n",
    "\n",
    "    2.  dane wtórne = brak danych pierwotnych, np. odpowiedź *Found 0\n",
    "        records* na zapytanie do bazy danych;\n",
    "\n",
    "    3.  metadane = dane o danych, np. specyfikacja formatu pliku ’.pdf’;\n",
    "\n",
    "    4.  dane operacyjne = dane o działaniu systemu przechowującego dane\n",
    "        pierwotne;\n",
    "\n",
    "    5.  dane pochodne = dane pochodzące z danych pierwotnych, np.\n",
    "        identyfikacja osoby po IP komputera, który najczęściej używa.\n",
    "\n",
    "\n",
    "\n"
   ]
  },
  {
   "cell_type": "markdown",
   "id": "e3456dc0",
   "metadata": {},
   "source": [
    "<img src=\"../pliki_z_internetu/SemInfTypes.jpg\" width=\"500\" />"
   ]
  },
  {
   "cell_type": "markdown",
   "id": "75f17e04",
   "metadata": {},
   "source": [
    "### Informacja jako miara złożoności (opisu)\n",
    "\n",
    "1.  Informacja zawarta w (binarnym) łańcuchu $s$ jest długością\n",
    "    najkrótszego programu, który wytwarza $s$ w uniwersalnej maszynie\n",
    "    Turinga. (R. Solomonoff, A. Kołmogorow, G. Chaitin)\n",
    "\n",
    "2.  Bardziej ogólnie, informacja zawarta w łańcuchu $s$ jest długością\n",
    "    najkrótszego opisu tego łańcucha (w pewnym ustalonym języku)."
   ]
  },
  {
   "cell_type": "markdown",
   "id": "e53062bd",
   "metadata": {},
   "source": [
    "## <span t=\"slide_title\">Bibliografia</span>\n",
    "\n",
    "- <span t=\"l1\">Bateson, G. (1973). Steps to an Ecology of Mind. Frogmore.</span>\n",
    "- <span t=\"l1\">Cardoso, J. (2007). The syntactic and the semantic web. In Semantic Web Services: Theory, Tools, and Applications. IGI Global.</span>\n",
    "- <span t=\"l1\">Codd, E. F. (1990). The relational model for database management: version 2. Addison-Wesley Longman Publishing Co., Inc., Boston, MA, USA.</span>\n",
    "- <span t=\"l1\">Hilbert, M. and López, P. (2011). The world’s technological capacity to store, communicate, and compute information. Science, 332:60–65.</span>\n",
    "- <span t=\"l1\">Landauer, T. K. (1986). How much do people remember? Some estimates of the quantity of learned information in long-term memory. Cognitive Science, 10(4):477 – 493.</span>\n",
    "- <span t=\"l1\">Mazur, M. (1970). Jakościowa teoria informacji. WNT.</span>\n",
    "- <span t=\"l1\">Sowa, J. F. (2000). Knowledge Representation: Logical, Philosophical, and Computational Foundations. Brooks/Cole.</span>"
   ]
  },
  {
   "cell_type": "code",
   "execution_count": null,
   "id": "60a9e53e",
   "metadata": {},
   "outputs": [],
   "source": []
  }
 ],
 "metadata": {
  "kernelspec": {
   "display_name": "Python 3",
   "language": "python",
   "name": "python3"
  },
  "language_info": {
   "codemirror_mode": {
    "name": "ipython",
    "version": 3
   },
   "file_extension": ".py",
   "mimetype": "text/x-python",
   "name": "python",
   "nbconvert_exporter": "python",
   "pygments_lexer": "ipython3",
   "version": "3.8.8"
  }
 },
 "nbformat": 4,
 "nbformat_minor": 5
}
