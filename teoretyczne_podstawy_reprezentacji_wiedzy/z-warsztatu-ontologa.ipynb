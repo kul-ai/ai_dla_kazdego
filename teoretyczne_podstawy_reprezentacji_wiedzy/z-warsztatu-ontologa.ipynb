{
 "cells": [
  {
   "cell_type": "markdown",
   "id": "82f422fd",
   "metadata": {},
   "source": [
    "# Z warsztatu ontologa"
   ]
  },
  {
   "cell_type": "markdown",
   "id": "_g8EDH5f4pcj",
   "metadata": {
    "id": "_g8EDH5f4pcj"
   },
   "source": [
    "### Kiedy watro sięgnąć po ontologię?\n",
    "\n",
    "Ontologia jest precyzyjnym opisem sposobu myślenia pewnej grupy ludzi na temat pewnego fragmentu rzeczywistości.\n",
    "\n",
    "Ontologia okazuje się być niezbędna wszędzie tam:\n",
    "- gdzie istnieje podejrzenie wieloznaczności i mętności nazw używanych w standardowej komunikacji w pewnej grupie;\n",
    "- gdzie istnieje potrzeba formułowania i przekazywania wiedzy w sposób precyzyjny\n",
    "- gdzie używa się komputera do przechowywania i wyszukiwania wiedzy;\n",
    "- gdzie istnieje wola dzielenia się wiedzą oraz wymiany wiedzy w Internecie."
   ]
  },
  {
   "cell_type": "markdown",
   "id": "3599ba7a",
   "metadata": {},
   "source": [
    "### Kilka podstawowych rozróżnień i zasad ontologicznych"
   ]
  },
  {
   "cell_type": "markdown",
   "id": "fWPhWX05475j",
   "metadata": {
    "id": "fWPhWX05475j"
   },
   "source": [
    "### Nazwy własne a nazwy generalne\n",
    "\n",
    "- <span t=\"l1\">*Nazwy własne* nazywają tylko indywidua (np. Egipt, Robert Trypuz). </span>\n",
    "- <span t=\"l1\">*Nazwy generalne* mogą oznaczać wiele przedmiotów (np. krowa, państwo, rostbef). Tym też nazwom odpowiadają kategorie/klasy/pojęcia w ontologii. Nazwy generalne oznaczają przedmioty ze względu na posiadane przez nie cechy.</span>"
   ]
  },
  {
   "cell_type": "markdown",
   "id": "f7908ee1",
   "metadata": {},
   "source": [
    "### Klasy i relacje\n",
    "\n",
    "O klasach można myśleć jako o zbiorach przedmiotów (posiadających pewne cechy). Od tych odróżniamy relacje, czy związki/zależności pomiędzy przedmiotami należącymi  do klas.\n",
    "\n"
   ]
  },
  {
   "cell_type": "markdown",
   "id": "bdb2ac36",
   "metadata": {},
   "source": [
    "### Subsumpcja, instancjacja i część\n",
    "Subsumpcja (bycie podklasą) jest relacją pomiędzy dwiema klasami. Powiemy, że klasa przedmiotów A (np. klasa przedmiotów podpadających po nazwę „krowa”) jest podklasą przedmiotów B (np. klasy przedmiotów podpadających po nazwę „zwierzę”) wtedy i tylko wtedy, gdy każdy przedmiot klasy A jest przedmiotem klasy B (tj. gdy każdy przedmiot, który można nazwać zgodnie z prawdą „krowa” można również nazwać zgodnie z prawdą „zwierzę”).\n",
    "\n",
    "Instancjacja (przynależność do klasy) jest relacją pomiędzy przedmiotem i klasą. Powiemy, że przedmiot A (np. zwierze o numerze PL 00 50303 1251) przynależy do klasy B (np. klasy przedmiotów podpadających po nazwę „krowa”) wtedy i tylko wtedy, gdy A posiada cechy jakie przysługują wszystkim przedmiotom tej klasy (tj. zwierze o numerze PL 00 50303 1251 jest a. dorosłą, b. samicą c. bydła domowego).\n",
    "\n",
    "Relacje bycia częścią jest relacją pomiędzy dwoma przedmiotami. Powiemy, że przedmiot A (np. Egipt) jest częścią przedmiotu B (np. Afryka) jeżeli B jest pewną całością, której A jest fragmentem.\n",
    "\n"
   ]
  },
  {
   "cell_type": "markdown",
   "id": "b2403dab",
   "metadata": {},
   "source": [
    "### Dziedziczenie cech\n",
    "\n",
    "Powiedzieliśmy wcześniej, że tworzymy klasy (pojęcia) z przedmiotów wskazując na cechy tych przedmiotów. Jeśli klasa A jest podklasą klasy przedmiotów B, to wszystkie cechy jakie przysługują przedmiotom klasy A muszą przysługiwać również przedmiotom klasy B. Np. mówiąc, że człowiek jest ssakiem (tj. klasa ludzi jest podklasą klasy ssaków) mamy na myśli, że wszystkie cechy jakie przysługują ssakom (np. stałocieplność) przysługują również ludziom.\n",
    "\n"
   ]
  },
  {
   "cell_type": "markdown",
   "id": "4685fdbc",
   "metadata": {},
   "source": [
    "### Partycypacja\n",
    "\n",
    "Partycypacja (uczestnictwo) jest relacją pomiędzy bytami trwającymi w czasie a bytami „rozciągłymi” w czasie. Np. krowa partycypuje w opasie, człowiek partycypuje w warsztatach ontologicznych.\n",
    "\n",
    "\n"
   ]
  },
  {
   "cell_type": "markdown",
   "id": "9b8ac46c",
   "metadata": {},
   "source": [
    "### Ma własność, ma wartość\n",
    "\n",
    "Byty trwające w czasie są zawsze jakieś, tj, mają pewne własności. Jedne cechy tych bytów przysługują im przez cały okres ich życia (np. w przypadku człowieka taką cechą będzie rozumność) a inne są czasowo nabywane i tracone (np. w przypadku człowieka taką cechą może być posiadanie ogromnej fortuny). Niektóre cechy (znane jako cechy ilościowe) mogą też zmieniać swoją „intensywność” (np. masa ciała). Wartość cechy jest zwykle zaczerpnięta z jakiejś miary/przestrzeni metrycznej. Wartość tej samej cechy można wyrazić w różnych miarach.\n",
    "\n"
   ]
  },
  {
   "cell_type": "markdown",
   "id": "ffa06fa7",
   "metadata": {},
   "source": [
    "### Zależność\n",
    "\n",
    "Zależność jest relacją pomiędzy bytami trwającymi w czasie lub cechami. Najogólniej można powiedzieć, że A i B zależą od siebie, gdy współwystępują.\n",
    "\n"
   ]
  },
  {
   "cell_type": "markdown",
   "id": "12a58fe2",
   "metadata": {},
   "source": [
    "### Funkcja (rola) i pełnienie funkcji (roli)\n",
    "\n",
    "Cechy relacyjne (funkcje) to takie, których istnienie warunkowane jest przez jakąś relację. Np. pojęcia „ojciec (genetyczny)” i „pasza” są kształtowane przez relacje „poczęcia” czy „bycia pożywieniem jakiegoś zwierzęcia hodowlanego”. "
   ]
  },
  {
   "cell_type": "code",
   "execution_count": null,
   "id": "a1bbe5a3",
   "metadata": {},
   "outputs": [],
   "source": []
  }
 ],
 "metadata": {
  "kernelspec": {
   "display_name": "Python 3",
   "language": "python",
   "name": "python3"
  },
  "language_info": {
   "codemirror_mode": {
    "name": "ipython",
    "version": 3
   },
   "file_extension": ".py",
   "mimetype": "text/x-python",
   "name": "python",
   "nbconvert_exporter": "python",
   "pygments_lexer": "ipython3",
   "version": "3.8.8"
  }
 },
 "nbformat": 4,
 "nbformat_minor": 5
}
