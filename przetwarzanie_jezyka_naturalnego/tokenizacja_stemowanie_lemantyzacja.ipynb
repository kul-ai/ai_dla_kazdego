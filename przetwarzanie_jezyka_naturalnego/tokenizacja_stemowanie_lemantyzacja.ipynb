{
 "cells": [
  {
   "cell_type": "markdown",
   "id": "4ed47a35",
   "metadata": {},
   "source": [
    "# Tokenizacja, stemowanie, lematyzacja"
   ]
  },
  {
   "cell_type": "markdown",
   "id": "09c2bce8",
   "metadata": {},
   "source": [
    "## Wybór tekstu roboczego"
   ]
  },
  {
   "cell_type": "markdown",
   "id": "3465a55f",
   "metadata": {},
   "source": [
    "### Steve Jobs 2005\n",
    "\n",
    "Tekstem nad którym będziemy pracować będzie <span t=\"l1\">tekst przemówienia wygłoszonego w dniu 12 czerwca 2005 r. w Uniwersytecie Stanforda przez Steve'a Jobsa, dyrektora generalnego Apple i Pixar Animation Studios</span>.\n",
    "\n",
    "Nagranie przemówienia dostępne jest pod adresem <span t=\"l1\">https://youtu.be/UF8uR6Z6KLc</span>.\n",
    "\n",
    "<img src=\"../pliki_z_internetu/steve_jobs_2005.jpeg\" width=\"400\"/>\n",
    "\n"
   ]
  },
  {
   "cell_type": "markdown",
   "id": "11befca3",
   "metadata": {},
   "source": [
    "<span t=\"l1\">Przemówienie składa się z trzech historii:</span>\n",
    "- <span t=\"l2\">connecting the dots</span>\n",
    "- <span t=\"l2\">love and loss</span>\n",
    "- <span t=\"l2\">death</span>"
   ]
  },
  {
   "cell_type": "code",
   "execution_count": 82,
   "id": "443c9e24",
   "metadata": {},
   "outputs": [
    {
     "name": "stdout",
     "output_type": "stream",
     "text": [
      "I am honored to be with you today at your commencement from one of the finest universities in the world. I never graduated from college. Truth be told, this is the closest I’ve ever gotten to a college graduation. Today I want to tell you three stories from my life. That’s it. No big deal. Just three stories.\n",
      "\n",
      "The first story is about connecting the dots.\n",
      "\n",
      "I dropped out of Reed College after the first 6 months, but then stayed around as a drop-in for another 18 months or so before I really quit. So why did I drop out?\n",
      "\n",
      "It started before I was born. My biological mother was a young, unwed college graduate student, and she decided to put me up for adoption. She felt very strongly that I should be adopted by college graduates, so everything was all set for me to be adopted at birth by a lawyer and his wife. Except that when I popped out they decided at the last minute that they really wanted a girl. So my parents, who were on a waiting list, got a call in the middle of the night asking: “We have an unexpected baby boy; do you want him?” They said: “Of course.” My biological mother later found out that my mother had never graduated from college and that my father had never graduated from high school. She refused to sign the final adoption papers. She only relented a few months later when my parents promised that I would someday go to college.\n",
      "\n",
      "And 17 years later I did go to college. But I naively chose a college that was almost as expensive as Stanford, and all of my working-class parents’ savings were being spent on my college tuition. After six months, I couldn’t see the value in it. I had no idea what I wanted to do with my life and no idea how college was going to help me figure it out. And here I was spending all of the money my parents had saved their entire life. So I decided to drop out and trust that it would all work out OK. It was pretty scary at the time, but looking back it was one of the best decisions I ever made. The minute I dropped out I could stop taking the required classes that didn’t interest me, and begin dropping in on the ones that looked interesting.\n",
      "\n",
      "It wasn’t all romantic. I didn’t have a dorm room, so I slept on the floor in friends’ rooms, I returned Coke bottles for the 5¢ deposits to buy food with, and I would walk the 7 miles across town every Sunday night to get one good meal a week at the Hare Krishna temple. I loved it. And much of what I stumbled into by following my curiosity and intuition turned out to be priceless later on. Let me give you one example:\n",
      "\n",
      "Reed College at that time offered perhaps the best calligraphy instruction in the country. Throughout the campus every poster, every label on every drawer, was beautifully hand calligraphed. Because I had dropped out and didn’t have to take the normal classes, I decided to take a calligraphy class to learn how to do this. I learned about serif and sans serif typefaces, about varying the amount of space between different letter combinations, about what makes great typography great. It was beautiful, historical, artistically subtle in a way that science can’t capture, and I found it fascinating.\n",
      "\n",
      "None of this had even a hope of any practical application in my life. But 10 years later, when we were designing the first Macintosh computer, it all came back to me. And we designed it all into the Mac. It was the first computer with beautiful typography. If I had never dropped in on that single course in college, the Mac would have never had multiple typefaces or proportionally spaced fonts. And since Windows just copied the Mac, it’s likely that no personal computer would have them. If I had never dropped out, I would have never dropped in on this calligraphy class, and personal computers might not have the wonderful typography that they do. Of course it was impossible to connect the dots looking forward when I was in college. But it was very, very clear looking backward 10 years later.\n",
      "\n",
      "Again, you can’t connect the dots looking forward; you can only connect them looking backward. So you have to trust that the dots will somehow connect in your future. You have to trust in something — your gut, destiny, life, karma, whatever. This approach has never let me down, and it has made all the difference in my life.\n",
      "\n",
      "My second story is about love and loss.\n",
      "\n",
      "I was lucky — I found what I loved to do early in life. Woz and I started Apple in my parents’ garage when I was 20. We worked hard, and in 10 years Apple had grown from just the two of us in a garage into a $2 billion company with over 4,000 employees. We had just released our finest creation — the Macintosh — a year earlier, and I had just turned 30. And then I got fired. How can you get fired from a company you started? Well, as Apple grew we hired someone who I thought was very talented to run the company with me, and for the first year or so things went well. But then our visions of the future began to diverge and eventually we had a falling out. When we did, our Board of Directors sided with him. So at 30 I was out. And very publicly out. What had been the focus of my entire adult life was gone, and it was devastating.\n",
      "\n",
      "I really didn’t know what to do for a few months. I felt that I had let the previous generation of entrepreneurs down — that I had dropped the baton as it was being passed to me. I met with David Packard and Bob Noyce and tried to apologize for screwing up so badly. I was a very public failure, and I even thought about running away from the valley. But something slowly began to dawn on me — I still loved what I did. The turn of events at Apple had not changed that one bit. I had been rejected, but I was still in love. And so I decided to start over.\n",
      "\n",
      "I didn’t see it then, but it turned out that getting fired from Apple was the best thing that could have ever happened to me. The heaviness of being successful was replaced by the lightness of being a beginner again, less sure about everything. It freed me to enter one of the most creative periods of my life.\n",
      "\n",
      "During the next five years, I started a company named NeXT, another company named Pixar, and fell in love with an amazing woman who would become my wife. Pixar went on to create the world’s first computer animated feature film, Toy Story, and is now the most successful animation studio in the world. In a remarkable turn of events, Apple bought NeXT, I returned to Apple, and the technology we developed at NeXT is at the heart of Apple’s current renaissance. And Laurene and I have a wonderful family together.\n",
      "\n",
      "I’m pretty sure none of this would have happened if I hadn’t been fired from Apple. It was awful tasting medicine, but I guess the patient needed it. Sometimes life hits you in the head with a brick. Don’t lose faith. I’m convinced that the only thing that kept me going was that I loved what I did. You’ve got to find what you love. And that is as true for your work as it is for your lovers. Your work is going to fill a large part of your life, and the only way to be truly satisfied is to do what you believe is great work. And the only way to do great work is to love what you do. If you haven’t found it yet, keep looking. Don’t settle. As with all matters of the heart, you’ll know when you find it. And, like any great relationship, it just gets better and better as the years roll on. So keep looking until you find it. Don’t settle.\n",
      "\n",
      "My third story is about death.\n",
      "\n",
      "When I was 17, I read a quote that went something like: “If you live each day as if it was your last, someday you’ll most certainly be right.” It made an impression on me, and since then, for the past 33 years, I have looked in the mirror every morning and asked myself: “If today were the last day of my life, would I want to do what I am about to do today?” And whenever the answer has been “No” for too many days in a row, I know I need to change something.\n",
      "\n",
      "Remembering that I’ll be dead soon is the most important tool I’ve ever encountered to help me make the big choices in life. Because almost everything — all external expectations, all pride, all fear of embarrassment or failure — these things just fall away in the face of death, leaving only what is truly important. Remembering that you are going to die is the best way I know to avoid the trap of thinking you have something to lose. You are already naked. There is no reason not to follow your heart.\n",
      "\n",
      "About a year ago I was diagnosed with cancer. I had a scan at 7:30 in the morning, and it clearly showed a tumor on my pancreas. I didn’t even know what a pancreas was. The doctors told me this was almost certainly a type of cancer that is incurable, and that I should expect to live no longer than three to six months. My doctor advised me to go home and get my affairs in order, which is doctor’s code for prepare to die. It means to try to tell your kids everything you thought you’d have the next 10 years to tell them in just a few months. It means to make sure everything is buttoned up so that it will be as easy as possible for your family. It means to say your goodbyes.\n",
      "\n",
      "I lived with that diagnosis all day. Later that evening I had a biopsy, where they stuck an endoscope down my throat, through my stomach and into my intestines, put a needle into my pancreas and got a few cells from the tumor. I was sedated, but my wife, who was there, told me that when they viewed the cells under a microscope the doctors started crying because it turned out to be a very rare form of pancreatic cancer that is curable with surgery. I had the surgery and I’m fine now.\n",
      "\n",
      "This was the closest I’ve been to facing death, and I hope it’s the closest I get for a few more decades. Having lived through it, I can now say this to you with a bit more certainty than when death was a useful but purely intellectual concept:\n",
      "\n",
      "No one wants to die. Even people who want to go to heaven don’t want to die to get there. And yet death is the destination we all share. No one has ever escaped it. And that is as it should be, because Death is very likely the single best invention of Life. It is Life’s change agent. It clears out the old to make way for the new. Right now the new is you, but someday not too long from now, you will gradually become the old and be cleared away. Sorry to be so dramatic, but it is quite true.\n",
      "\n",
      "Your time is limited, so don’t waste it living someone else’s life. Don’t be trapped by dogma — which is living with the results of other people’s thinking. Don’t let the noise of others’ opinions drown out your own inner voice. And most important, have the courage to follow your heart and intuition. They somehow already know what you truly want to become. Everything else is secondary.\n",
      "\n",
      "When I was young, there was an amazing publication called The Whole Earth Catalog, which was one of the bibles of my generation. It was created by a fellow named Stewart Brand not far from here in Menlo Park, and he brought it to life with his poetic touch. This was in the late 1960s, before personal computers and desktop publishing, so it was all made with typewriters, scissors and Polaroid cameras. It was sort of like Google in paperback form, 35 years before Google came along: It was idealistic, and overflowing with neat tools and great notions.\n",
      "\n",
      "Stewart and his team put out several issues of The Whole Earth Catalog, and then when it had run its course, they put out a final issue. It was the mid-1970s, and I was your age. On the back cover of their final issue was a photograph of an early morning country road, the kind you might find yourself hitchhiking on if you were so adventurous. Beneath it were the words: “Stay Hungry. Stay Foolish.” It was their farewell message as they signed off. Stay Hungry. Stay Foolish. And I have always wished that for myself. And now, as you graduate to begin anew, I wish that for you.\n",
      "\n",
      "Stay Hungry. Stay Foolish.\n",
      "\n",
      "Thank you all very much.\n"
     ]
    }
   ],
   "source": [
    "# Wczytujemy tekst z pliku steve-jobs-2005.txt.\n",
    "\n",
    "with open('steve-jobs-2005.txt','r') as f:\n",
    "    text_full = f.read()\n",
    "    \n",
    "print(text_full)"
   ]
  },
  {
   "cell_type": "markdown",
   "id": "9c3cb919",
   "metadata": {},
   "source": [
    "## Tokenizacja"
   ]
  },
  {
   "cell_type": "markdown",
   "id": "5f26b0a9",
   "metadata": {},
   "source": [
    "### Tokenizacja tekstu\n",
    "\n",
    "<span t=\"l1\">Tokenizacja tekstu to sposób jego podziału, czyli segmentacji, na mniejsze kawałki oraz wynik tego podziału.</span>\n",
    "\n",
    "<span t=\"l1\">Tekst możemy podzielić na: </span>\n",
    "- <span t=\"l2\">akapity</span>\n",
    "- <span t=\"l2\">zdania</span>\n",
    "- <span t=\"l2\">frazy</span>  \n",
    "- <span t=\"l2\">tokeny (słowa), czy</span>\n",
    "- <span t=\"l2\">fragmenty o dowolnej (choć ściśle zdefiniowanej) długości</span>\n",
    "   "
   ]
  },
  {
   "cell_type": "markdown",
   "id": "01b98f8c",
   "metadata": {},
   "source": [
    "### Podejście naiwne\n",
    "\n",
    "Tokenizacja na \n",
    "- zdania - użyj metody `split('.')`\n",
    "- słowa - użyj metody `split(' ')`\n",
    "- kawałki tekstu okreśłonej długości - użyj metody `split(' ')` i licz słowa"
   ]
  },
  {
   "cell_type": "markdown",
   "id": "55cc6652",
   "metadata": {},
   "source": [
    "Dzielenie danych tekstowych na porcje\n",
    "\n",
    "W celu dalszej analizy dane tekstowe zwykle trzeba podzielić na części. Ten proces jest nazywany fragmentacją. Jest to często używane w analizie tekstu. Warunki używane do podzielenia tekstu na fragmenty mogą się różnić w zależności od problemu. To nie to samo, co tokenizacja, w której również dzielimy tekst na części. Podczas dzielenia na fragmenty nie stosujemy się do żadnych ograniczeń, a fragmenty wyjściowe muszą mieć znaczenie.\n",
    "Kiedy mamy do czynienia z dużymi dokumentami tekstowymi, ważne staje się podzielenie tekstu na fragmenty, aby wydobyć znaczące informacje. W tej sekcji zobaczymy, jak podzielić tekst wejściowy na kilka części."
   ]
  },
  {
   "cell_type": "code",
   "execution_count": 42,
   "id": "abcac7ec",
   "metadata": {},
   "outputs": [
    {
     "name": "stdout",
     "output_type": "stream",
     "text": [
      "1. I am honored to be with you today at your commencement from one of the finest universities in the world.\n",
      "\n",
      "2. I never graduated from college.\n",
      "\n",
      "3. Truth be told, this is the closest I’ve ever gotten to a college graduation.\n",
      "\n",
      "4. Today I want to tell you three stories from my life.\n",
      "\n",
      "5. That’s it.\n",
      "\n",
      "6. No big deal.\n",
      "\n",
      "7. Just three stories.\n",
      "\n",
      "8. The first story is about connecting the dots.\n",
      "\n",
      "9. I dropped out of Reed College after the first 6 months, but then stayed around as a drop-in for another 18 months or so before I really quit.\n",
      "\n",
      "10. So why did I drop out?\n",
      "\n",
      "It started before I was born.\n",
      "\n",
      "11. My biological mother was a young, unwed college graduate student, and she decided to put me up for adoption.\n",
      "\n",
      "12. She felt very strongly that I should be adopted by college graduates, so everything was all set for me to be adopted at birth by a lawyer and his wife.\n",
      "\n",
      "13. Except that when I popped out they decided at the last minute that they really wanted a girl.\n",
      "\n",
      "14. So my parents, who were on a waiting list, got a call in the middle of the night asking: “We have an unexpected baby boy; do you want him?” They said: “Of course.\n",
      "\n",
      "15. ” My biological mother later found out that my mother had never graduated from college and that my father had never graduated from high school.\n",
      "\n"
     ]
    }
   ],
   "source": [
    "text_splitted_dot = text_full.split('.')\n",
    "\n",
    "for index, sentence in enumerate(text_splitted_dot):\n",
    "    print(f'{index+1}. {sentence.strip()}.\\n')\n",
    "    if index == 14: break"
   ]
  },
  {
   "cell_type": "code",
   "execution_count": 67,
   "id": "d4784fce",
   "metadata": {},
   "outputs": [
    {
     "name": "stdout",
     "output_type": "stream",
     "text": [
      "1. I am honored to be with you today at your commencement from one of the finest universities in the world\n",
      "\n",
      "2. I never graduated from college\n",
      "\n",
      "3. Truth be told, this is the closest I’ve ever gotten to a college graduation\n",
      "\n",
      "4. Today I want to tell you three stories from my life\n",
      "\n",
      "5. That’s it\n",
      "\n",
      "6. No big deal\n",
      "\n",
      "7. Just three stories\n",
      "\n",
      "8. The first story is about connecting the dots\n",
      "\n",
      "9. I dropped out of Reed College after the first 6 months, but then stayed around as a drop-in for another 18 months or so before I really quit\n",
      "\n",
      "10. So why did I drop out\n",
      "\n",
      "11. It started before I was born\n",
      "\n",
      "12. My biological mother was a young, unwed college graduate student, and she decided to put me up for adoption\n",
      "\n",
      "13. She felt very strongly that I should be adopted by college graduates, so everything was all set for me to be adopted at birth by a lawyer and his wife\n",
      "\n",
      "14. Except that when I popped out they decided at the last minute that they really wanted a girl\n",
      "\n",
      "15. So my parents, who were on a waiting list, got a call in the middle of the night asking: “We have an unexpected baby boy; do you want him\n",
      "\n",
      "16. ” They said: “Of course\n",
      "\n",
      "17. ” My biological mother later found out that my mother had never graduated from college and that my father had never graduated from high school\n",
      "\n",
      "18. She refused to sign the final adoption papers\n",
      "\n",
      "19. She only relented a few months later when my parents promised that I would someday go to college\n",
      "\n",
      "20. And 17 years later I did go to college\n",
      "\n",
      "21. But I naively chose a college that was almost as expensive as Stanford, and all of my working-class parents’ savings were being spent on my college tuition\n",
      "\n",
      "22. After six months, I couldn’t see the value in it\n",
      "\n",
      "23. I had no idea what I wanted to do with my life and no idea how college was going to help me figure it out\n",
      "\n",
      "24. And here I was spending all of the money my parents had saved their entire life\n",
      "\n",
      "25. So I decided to drop out and trust that it would all work out OK\n",
      "\n",
      "26. It was pretty scary at the time, but looking back it was one of the best decisions I ever made\n",
      "\n",
      "27. The minute I dropped out I could stop taking the required classes that didn’t interest me, and begin dropping in on the ones that looked interesting\n",
      "\n",
      "28. It wasn’t all romantic\n",
      "\n",
      "29. I didn’t have a dorm room, so I slept on the floor in friends’ rooms, I returned Coke bottles for the 5¢ deposits to buy food with, and I would walk the 7 miles across town every Sunday night to get one good meal a week at the Hare Krishna temple\n",
      "\n",
      "30. I loved it\n",
      "\n",
      "31. And much of what I stumbled into by following my curiosity and intuition turned out to be priceless later on\n",
      "\n",
      "32. Let me give you one example:\n",
      "\n",
      "Reed College at that time offered perhaps the best calligraphy instruction in the country\n",
      "\n",
      "33. Throughout the campus every poster, every label on every drawer, was beautifully hand calligraphed\n",
      "\n",
      "34. Because I had dropped out and didn’t have to take the normal classes, I decided to take a calligraphy class to learn how to do this\n",
      "\n",
      "35. I learned about serif and sans serif typefaces, about varying the amount of space between different letter combinations, about what makes great typography great\n",
      "\n",
      "36. It was beautiful, historical, artistically subtle in a way that science can’t capture, and I found it fascinating\n",
      "\n",
      "37. None of this had even a hope of any practical application in my life\n",
      "\n",
      "38. But 10 years later, when we were designing the first Macintosh computer, it all came back to me\n",
      "\n",
      "39. And we designed it all into the Mac\n",
      "\n",
      "40. It was the first computer with beautiful typography\n",
      "\n",
      "41. If I had never dropped in on that single course in college, the Mac would have never had multiple typefaces or proportionally spaced fonts\n",
      "\n",
      "42. And since Windows just copied the Mac, it’s likely that no personal computer would have them\n",
      "\n",
      "43. If I had never dropped out, I would have never dropped in on this calligraphy class, and personal computers might not have the wonderful typography that they do\n",
      "\n",
      "44. Of course it was impossible to connect the dots looking forward when I was in college\n",
      "\n",
      "45. But it was very, very clear looking backward 10 years later\n",
      "\n",
      "46. Again, you can’t connect the dots looking forward; you can only connect them looking backward\n",
      "\n",
      "47. So you have to trust that the dots will somehow connect in your future\n",
      "\n",
      "48. You have to trust in something — your gut, destiny, life, karma, whatever\n",
      "\n",
      "49. This approach has never let me down, and it has made all the difference in my life\n",
      "\n",
      "50. My second story is about love and loss\n",
      "\n",
      "51. I was lucky — I found what I loved to do early in life\n",
      "\n",
      "52. Woz and I started Apple in my parents’ garage when I was 20\n",
      "\n",
      "53. We worked hard, and in 10 years Apple had grown from just the two of us in a garage into a $2 billion company with over 4,000 employees\n",
      "\n",
      "54. We had just released our finest creation — the Macintosh — a year earlier, and I had just turned 30\n",
      "\n",
      "55. And then I got fired\n",
      "\n",
      "56. How can you get fired from a company you started\n",
      "\n",
      "57. Well, as Apple grew we hired someone who I thought was very talented to run the company with me, and for the first year or so things went well\n",
      "\n",
      "58. But then our visions of the future began to diverge and eventually we had a falling out\n",
      "\n",
      "59. When we did, our Board of Directors sided with him\n",
      "\n",
      "60. So at 30 I was out\n",
      "\n",
      "61. And very publicly out\n",
      "\n",
      "62. What had been the focus of my entire adult life was gone, and it was devastating\n",
      "\n",
      "63. I really didn’t know what to do for a few months\n",
      "\n",
      "64. I felt that I had let the previous generation of entrepreneurs down — that I had dropped the baton as it was being passed to me\n",
      "\n",
      "65. I met with David Packard and Bob Noyce and tried to apologize for screwing up so badly\n",
      "\n",
      "66. I was a very public failure, and I even thought about running away from the valley\n",
      "\n",
      "67. But something slowly began to dawn on me — I still loved what I did\n",
      "\n",
      "68. The turn of events at Apple had not changed that one bit\n",
      "\n",
      "69. I had been rejected, but I was still in love\n",
      "\n",
      "70. And so I decided to start over\n",
      "\n",
      "71. I didn’t see it then, but it turned out that getting fired from Apple was the best thing that could have ever happened to me\n",
      "\n",
      "72. The heaviness of being successful was replaced by the lightness of being a beginner again, less sure about everything\n",
      "\n",
      "73. It freed me to enter one of the most creative periods of my life\n",
      "\n",
      "74. During the next five years, I started a company named NeXT, another company named Pixar, and fell in love with an amazing woman who would become my wife\n",
      "\n",
      "75. Pixar went on to create the world’s first computer animated feature film, Toy Story, and is now the most successful animation studio in the world\n",
      "\n",
      "76. In a remarkable turn of events, Apple bought NeXT, I returned to Apple, and the technology we developed at NeXT is at the heart of Apple’s current renaissance\n",
      "\n",
      "77. And Laurene and I have a wonderful family together\n",
      "\n",
      "78. I’m pretty sure none of this would have happened if I hadn’t been fired from Apple\n",
      "\n",
      "79. It was awful tasting medicine, but I guess the patient needed it\n",
      "\n",
      "80. Sometimes life hits you in the head with a brick\n",
      "\n",
      "81. Don’t lose faith\n",
      "\n",
      "82. I’m convinced that the only thing that kept me going was that I loved what I did\n",
      "\n",
      "83. You’ve got to find what you love\n",
      "\n",
      "84. And that is as true for your work as it is for your lovers\n",
      "\n",
      "85. Your work is going to fill a large part of your life, and the only way to be truly satisfied is to do what you believe is great work\n",
      "\n",
      "86. And the only way to do great work is to love what you do\n",
      "\n",
      "87. If you haven’t found it yet, keep looking\n",
      "\n",
      "88. Don’t settle\n",
      "\n",
      "89. As with all matters of the heart, you’ll know when you find it\n",
      "\n",
      "90. And, like any great relationship, it just gets better and better as the years roll on\n",
      "\n",
      "91. So keep looking until you find it\n",
      "\n",
      "92. Don’t settle\n",
      "\n",
      "93. My third story is about death\n",
      "\n",
      "94. When I was 17, I read a quote that went something like: “If you live each day as if it was your last, someday you’ll most certainly be right\n",
      "\n",
      "95. ” It made an impression on me, and since then, for the past 33 years, I have looked in the mirror every morning and asked myself: “If today were the last day of my life, would I want to do what I am about to do today\n",
      "\n",
      "96. ” And whenever the answer has been “No” for too many days in a row, I know I need to change something\n",
      "\n",
      "97. Remembering that I’ll be dead soon is the most important tool I’ve ever encountered to help me make the big choices in life\n",
      "\n",
      "98. Because almost everything — all external expectations, all pride, all fear of embarrassment or failure — these things just fall away in the face of death, leaving only what is truly important\n",
      "\n",
      "99. Remembering that you are going to die is the best way I know to avoid the trap of thinking you have something to lose\n",
      "\n",
      "100. You are already naked\n",
      "\n",
      "101. There is no reason not to follow your heart\n",
      "\n",
      "102. About a year ago I was diagnosed with cancer\n",
      "\n",
      "103. I had a scan at 7:30 in the morning, and it clearly showed a tumor on my pancreas\n",
      "\n",
      "104. I didn’t even know what a pancreas was\n",
      "\n",
      "105. The doctors told me this was almost certainly a type of cancer that is incurable, and that I should expect to live no longer than three to six months\n",
      "\n",
      "106. My doctor advised me to go home and get my affairs in order, which is doctor’s code for prepare to die\n",
      "\n",
      "107. It means to try to tell your kids everything you thought you’d have the next 10 years to tell them in just a few months\n",
      "\n",
      "108. It means to make sure everything is buttoned up so that it will be as easy as possible for your family\n",
      "\n",
      "109. It means to say your goodbyes\n",
      "\n",
      "110. I lived with that diagnosis all day\n",
      "\n",
      "111. Later that evening I had a biopsy, where they stuck an endoscope down my throat, through my stomach and into my intestines, put a needle into my pancreas and got a few cells from the tumor\n",
      "\n",
      "112. I was sedated, but my wife, who was there, told me that when they viewed the cells under a microscope the doctors started crying because it turned out to be a very rare form of pancreatic cancer that is curable with surgery\n",
      "\n",
      "113. I had the surgery and I’m fine now\n",
      "\n",
      "114. This was the closest I’ve been to facing death, and I hope it’s the closest I get for a few more decades\n",
      "\n",
      "115. Having lived through it, I can now say this to you with a bit more certainty than when death was a useful but purely intellectual concept:\n",
      "\n",
      "No one wants to die\n",
      "\n",
      "116. Even people who want to go to heaven don’t want to die to get there\n",
      "\n",
      "117. And yet death is the destination we all share\n",
      "\n",
      "118. No one has ever escaped it\n",
      "\n",
      "119. And that is as it should be, because Death is very likely the single best invention of Life\n",
      "\n",
      "120. It is Life’s change agent\n",
      "\n",
      "121. It clears out the old to make way for the new\n",
      "\n",
      "122. Right now the new is you, but someday not too long from now, you will gradually become the old and be cleared away\n",
      "\n",
      "123. Sorry to be so dramatic, but it is quite true\n",
      "\n",
      "124. Your time is limited, so don’t waste it living someone else’s life\n",
      "\n",
      "125. Don’t be trapped by dogma — which is living with the results of other people’s thinking\n",
      "\n",
      "126. Don’t let the noise of others’ opinions drown out your own inner voice\n",
      "\n",
      "127. And most important, have the courage to follow your heart and intuition\n",
      "\n",
      "128. They somehow already know what you truly want to become\n",
      "\n",
      "129. Everything else is secondary\n",
      "\n",
      "130. When I was young, there was an amazing publication called The Whole Earth Catalog, which was one of the bibles of my generation\n",
      "\n",
      "131. It was created by a fellow named Stewart Brand not far from here in Menlo Park, and he brought it to life with his poetic touch\n",
      "\n",
      "132. This was in the late 1960s, before personal computers and desktop publishing, so it was all made with typewriters, scissors and Polaroid cameras\n",
      "\n",
      "133. It was sort of like Google in paperback form, 35 years before Google came along: It was idealistic, and overflowing with neat tools and great notions\n",
      "\n",
      "134. Stewart and his team put out several issues of The Whole Earth Catalog, and then when it had run its course, they put out a final issue\n",
      "\n",
      "135. It was the mid-1970s, and I was your age\n",
      "\n",
      "136. On the back cover of their final issue was a photograph of an early morning country road, the kind you might find yourself hitchhiking on if you were so adventurous\n",
      "\n",
      "137. Beneath it were the words: “Stay Hungry\n",
      "\n",
      "138. Stay Foolish\n",
      "\n",
      "139. ” It was their farewell message as they signed off\n",
      "\n",
      "140. Stay Hungry\n",
      "\n",
      "141. Stay Foolish\n",
      "\n",
      "142. And I have always wished that for myself\n",
      "\n",
      "143. And now, as you graduate to begin anew, I wish that for you\n",
      "\n",
      "144. Stay Hungry\n",
      "\n",
      "145. Stay Foolish\n",
      "\n",
      "146. Thank you all very much\n",
      "\n"
     ]
    }
   ],
   "source": [
    "import re\n",
    "\n",
    "eos_split = re.split(r'[.?!]+', text_full) \n",
    "for index, sentence in enumerate(eos_split[:-1]):\n",
    "  print(f'{index+1}. {sentence.strip()}\\n')"
   ]
  },
  {
   "cell_type": "code",
   "execution_count": 43,
   "id": "0d2a62db",
   "metadata": {},
   "outputs": [
    {
     "name": "stdout",
     "output_type": "stream",
     "text": [
      "1. I\n",
      "2. am\n",
      "3. honored\n",
      "4. to\n",
      "5. be\n",
      "6. with\n",
      "7. you\n",
      "8. today\n",
      "9. at\n",
      "10. your\n",
      "11. commencement\n",
      "12. from\n",
      "13. one\n",
      "14. of\n",
      "15. the\n",
      "16. finest\n",
      "17. universities\n",
      "18. in\n",
      "19. the\n",
      "20. world.\n"
     ]
    }
   ],
   "source": [
    "text_splitted_space = text_full.split(' ')\n",
    "\n",
    "for index, word in enumerate(text_splitted_space):\n",
    "    print(f'{index+1}. {word.strip()}')\n",
    "    if index == 19: break"
   ]
  },
  {
   "cell_type": "code",
   "execution_count": 72,
   "id": "20cd5534",
   "metadata": {},
   "outputs": [
    {
     "name": "stdout",
     "output_type": "stream",
     "text": [
      "1. I am honored to be with you today at your commencement from one of the finest universities in the world. I never graduated from college. Truth be told, this is the closest I’ve ever gotten to a college graduation. Today I want to tell you three stories from my life. That’s it. No big deal. Just three stories.\n",
      "2. The first story is about connecting the dots.\n",
      "3. I dropped out of Reed College after the first 6 months, but then stayed around as a drop-in for another 18 months or so before I really quit. So why did I drop out?\n",
      "4. It started before I was born. My biological mother was a young, unwed college graduate student, and she decided to put me up for adoption. She felt very strongly that I should be adopted by college graduates, so everything was all set for me to be adopted at birth by a lawyer and his wife. Except that when I popped out they decided at the last minute that they really wanted a girl. So my parents, who were on a waiting list, got a call in the middle of the night asking: “We have an unexpected baby boy; do you want him?” They said: “Of course.” My biological mother later found out that my mother had never graduated from college and that my father had never graduated from high school. She refused to sign the final adoption papers. She only relented a few months later when my parents promised that I would someday go to college.\n",
      "5. And 17 years later I did go to college. But I naively chose a college that was almost as expensive as Stanford, and all of my working-class parents’ savings were being spent on my college tuition. After six months, I couldn’t see the value in it. I had no idea what I wanted to do with my life and no idea how college was going to help me figure it out. And here I was spending all of the money my parents had saved their entire life. So I decided to drop out and trust that it would all work out OK. It was pretty scary at the time, but looking back it was one of the best decisions I ever made. The minute I dropped out I could stop taking the required classes that didn’t interest me, and begin dropping in on the ones that looked interesting.\n",
      "6. It wasn’t all romantic. I didn’t have a dorm room, so I slept on the floor in friends’ rooms, I returned Coke bottles for the 5¢ deposits to buy food with, and I would walk the 7 miles across town every Sunday night to get one good meal a week at the Hare Krishna temple. I loved it. And much of what I stumbled into by following my curiosity and intuition turned out to be priceless later on. Let me give you one example:\n",
      "7. Reed College at that time offered perhaps the best calligraphy instruction in the country. Throughout the campus every poster, every label on every drawer, was beautifully hand calligraphed. Because I had dropped out and didn’t have to take the normal classes, I decided to take a calligraphy class to learn how to do this. I learned about serif and sans serif typefaces, about varying the amount of space between different letter combinations, about what makes great typography great. It was beautiful, historical, artistically subtle in a way that science can’t capture, and I found it fascinating.\n",
      "8. None of this had even a hope of any practical application in my life. But 10 years later, when we were designing the first Macintosh computer, it all came back to me. And we designed it all into the Mac. It was the first computer with beautiful typography. If I had never dropped in on that single course in college, the Mac would have never had multiple typefaces or proportionally spaced fonts. And since Windows just copied the Mac, it’s likely that no personal computer would have them. If I had never dropped out, I would have never dropped in on this calligraphy class, and personal computers might not have the wonderful typography that they do. Of course it was impossible to connect the dots looking forward when I was in college. But it was very, very clear looking backward 10 years later.\n",
      "9. Again, you can’t connect the dots looking forward; you can only connect them looking backward. So you have to trust that the dots will somehow connect in your future. You have to trust in something — your gut, destiny, life, karma, whatever. This approach has never let me down, and it has made all the difference in my life.\n",
      "10. My second story is about love and loss.\n",
      "11. I was lucky — I found what I loved to do early in life. Woz and I started Apple in my parents’ garage when I was 20. We worked hard, and in 10 years Apple had grown from just the two of us in a garage into a $2 billion company with over 4,000 employees. We had just released our finest creation — the Macintosh — a year earlier, and I had just turned 30. And then I got fired. How can you get fired from a company you started? Well, as Apple grew we hired someone who I thought was very talented to run the company with me, and for the first year or so things went well. But then our visions of the future began to diverge and eventually we had a falling out. When we did, our Board of Directors sided with him. So at 30 I was out. And very publicly out. What had been the focus of my entire adult life was gone, and it was devastating.\n",
      "12. I really didn’t know what to do for a few months. I felt that I had let the previous generation of entrepreneurs down — that I had dropped the baton as it was being passed to me. I met with David Packard and Bob Noyce and tried to apologize for screwing up so badly. I was a very public failure, and I even thought about running away from the valley. But something slowly began to dawn on me — I still loved what I did. The turn of events at Apple had not changed that one bit. I had been rejected, but I was still in love. And so I decided to start over.\n",
      "13. I didn’t see it then, but it turned out that getting fired from Apple was the best thing that could have ever happened to me. The heaviness of being successful was replaced by the lightness of being a beginner again, less sure about everything. It freed me to enter one of the most creative periods of my life.\n",
      "14. During the next five years, I started a company named NeXT, another company named Pixar, and fell in love with an amazing woman who would become my wife. Pixar went on to create the world’s first computer animated feature film, Toy Story, and is now the most successful animation studio in the world. In a remarkable turn of events, Apple bought NeXT, I returned to Apple, and the technology we developed at NeXT is at the heart of Apple’s current renaissance. And Laurene and I have a wonderful family together.\n",
      "15. I’m pretty sure none of this would have happened if I hadn’t been fired from Apple. It was awful tasting medicine, but I guess the patient needed it. Sometimes life hits you in the head with a brick. Don’t lose faith. I’m convinced that the only thing that kept me going was that I loved what I did. You’ve got to find what you love. And that is as true for your work as it is for your lovers. Your work is going to fill a large part of your life, and the only way to be truly satisfied is to do what you believe is great work. And the only way to do great work is to love what you do. If you haven’t found it yet, keep looking. Don’t settle. As with all matters of the heart, you’ll know when you find it. And, like any great relationship, it just gets better and better as the years roll on. So keep looking until you find it. Don’t settle.\n",
      "16. My third story is about death.\n",
      "17. When I was 17, I read a quote that went something like: “If you live each day as if it was your last, someday you’ll most certainly be right.” It made an impression on me, and since then, for the past 33 years, I have looked in the mirror every morning and asked myself: “If today were the last day of my life, would I want to do what I am about to do today?” And whenever the answer has been “No” for too many days in a row, I know I need to change something.\n",
      "18. Remembering that I’ll be dead soon is the most important tool I’ve ever encountered to help me make the big choices in life. Because almost everything — all external expectations, all pride, all fear of embarrassment or failure — these things just fall away in the face of death, leaving only what is truly important. Remembering that you are going to die is the best way I know to avoid the trap of thinking you have something to lose. You are already naked. There is no reason not to follow your heart.\n",
      "19. About a year ago I was diagnosed with cancer. I had a scan at 7:30 in the morning, and it clearly showed a tumor on my pancreas. I didn’t even know what a pancreas was. The doctors told me this was almost certainly a type of cancer that is incurable, and that I should expect to live no longer than three to six months. My doctor advised me to go home and get my affairs in order, which is doctor’s code for prepare to die. It means to try to tell your kids everything you thought you’d have the next 10 years to tell them in just a few months. It means to make sure everything is buttoned up so that it will be as easy as possible for your family. It means to say your goodbyes.\n",
      "20. I lived with that diagnosis all day. Later that evening I had a biopsy, where they stuck an endoscope down my throat, through my stomach and into my intestines, put a needle into my pancreas and got a few cells from the tumor. I was sedated, but my wife, who was there, told me that when they viewed the cells under a microscope the doctors started crying because it turned out to be a very rare form of pancreatic cancer that is curable with surgery. I had the surgery and I’m fine now.\n",
      "21. This was the closest I’ve been to facing death, and I hope it’s the closest I get for a few more decades. Having lived through it, I can now say this to you with a bit more certainty than when death was a useful but purely intellectual concept:\n",
      "22. No one wants to die. Even people who want to go to heaven don’t want to die to get there. And yet death is the destination we all share. No one has ever escaped it. And that is as it should be, because Death is very likely the single best invention of Life. It is Life’s change agent. It clears out the old to make way for the new. Right now the new is you, but someday not too long from now, you will gradually become the old and be cleared away. Sorry to be so dramatic, but it is quite true.\n",
      "23. Your time is limited, so don’t waste it living someone else’s life. Don’t be trapped by dogma — which is living with the results of other people’s thinking. Don’t let the noise of others’ opinions drown out your own inner voice. And most important, have the courage to follow your heart and intuition. They somehow already know what you truly want to become. Everything else is secondary.\n",
      "24. When I was young, there was an amazing publication called The Whole Earth Catalog, which was one of the bibles of my generation. It was created by a fellow named Stewart Brand not far from here in Menlo Park, and he brought it to life with his poetic touch. This was in the late 1960s, before personal computers and desktop publishing, so it was all made with typewriters, scissors and Polaroid cameras. It was sort of like Google in paperback form, 35 years before Google came along: It was idealistic, and overflowing with neat tools and great notions.\n",
      "25. Stewart and his team put out several issues of The Whole Earth Catalog, and then when it had run its course, they put out a final issue. It was the mid-1970s, and I was your age. On the back cover of their final issue was a photograph of an early morning country road, the kind you might find yourself hitchhiking on if you were so adventurous. Beneath it were the words: “Stay Hungry. Stay Foolish.” It was their farewell message as they signed off. Stay Hungry. Stay Foolish. And I have always wished that for myself. And now, as you graduate to begin anew, I wish that for you.\n",
      "26. Stay Hungry. Stay Foolish.\n",
      "27. Thank you all very much.\n"
     ]
    }
   ],
   "source": [
    "new_line_split = text_full.split('\\n')\n",
    "\n",
    "for index, paragraph in enumerate(list(filter(None, new_line_split))):\n",
    "    if paragraph:\n",
    "        print(f'{index+1}. {paragraph}')"
   ]
  },
  {
   "cell_type": "code",
   "execution_count": 73,
   "id": "f058f224",
   "metadata": {},
   "outputs": [
    {
     "name": "stdout",
     "output_type": "stream",
     "text": [
      "Przemówienie ma średnio 2 zdań/paragraf.\n"
     ]
    }
   ],
   "source": [
    "print(f'Przemówienie ma średnio {len(text_splitted_dot[:-1]) // len(new_line_split)} zdań/paragraf.')"
   ]
  },
  {
   "cell_type": "code",
   "execution_count": 74,
   "id": "1891c381",
   "metadata": {},
   "outputs": [
    {
     "name": "stdout",
     "output_type": "stream",
     "text": [
      "Przemówienie ma średnio 2 zdań/paragraf.\n"
     ]
    }
   ],
   "source": [
    "print(f'Przemówienie ma średnio {len(eos_split[:-1]) // len(new_line_split)} zdań/paragraf.')"
   ]
  },
  {
   "cell_type": "code",
   "execution_count": 51,
   "id": "766456af",
   "metadata": {
    "scrolled": false
   },
   "outputs": [
    {
     "name": "stdout",
     "output_type": "stream",
     "text": [
      "\n",
      "Liczba fragmentów tekstu = 22 \n",
      "\n",
      "Fragment numer 1: I am honored to be with you today at your commencement from one of the finest universities in the world. I never graduated from college. Truth be told, this is the closest I’ve ever gotten to a college graduation. Today I want to tell you three stories from my life. That’s it. No big deal. Just three stories.\n",
      "\n",
      "The first story is about connecting the dots.\n",
      "\n",
      "I dropped out of Reed College after the first 6 months, but then stayed around as a drop-in for another 18 months or so before I really quit. So why did I drop out?\n",
      "\n",
      "It started before \n",
      "\n",
      "Fragment numer 2: I was born. My biological mother was a young, unwed college graduate student, and she decided to put me up for adoption. She felt very strongly that I should be adopted by college graduates, so everything was all set for me to be adopted at birth by a lawyer and his wife. Except that when I popped out they decided at the last minute that they really wanted a girl. So my parents, who were on a waiting list, got a call in the middle of the night asking: “We have an unexpected baby boy; do you want him?” They \n",
      "\n",
      "Fragment numer 3: said: “Of course.” My biological mother later found out that my mother had never graduated from college and that my father had never graduated from high school. She refused to sign the final adoption papers. She only relented a few months later when my parents promised that I would someday go to college.\n",
      "\n",
      "And 17 years later I did go to college. But I naively chose a college that was almost as expensive as Stanford, and all of my working-class parents’ savings were being spent on my college tuition. After six months, I couldn’t see the value in it. I had \n",
      "\n",
      "Fragment numer 4: no idea what I wanted to do with my life and no idea how college was going to help me figure it out. And here I was spending all of the money my parents had saved their entire life. So I decided to drop out and trust that it would all work out OK. It was pretty scary at the time, but looking back it was one of the best decisions I ever made. The minute I dropped out I could stop taking the required classes that didn’t interest me, and begin dropping in on the ones that looked interesting.\n",
      "\n",
      "It \n",
      "\n",
      "Fragment numer 5: wasn’t all romantic. I didn’t have a dorm room, so I slept on the floor in friends’ rooms, I returned Coke bottles for the 5¢ deposits to buy food with, and I would walk the 7 miles across town every Sunday night to get one good meal a week at the Hare Krishna temple. I loved it. And much of what I stumbled into by following my curiosity and intuition turned out to be priceless later on. Let me give you one example:\n",
      "\n",
      "Reed College at that time offered perhaps the best calligraphy instruction in the country. Throughout the campus every \n",
      "\n",
      "Fragment numer 6: poster, every label on every drawer, was beautifully hand calligraphed. Because I had dropped out and didn’t have to take the normal classes, I decided to take a calligraphy class to learn how to do this. I learned about serif and sans serif typefaces, about varying the amount of space between different letter combinations, about what makes great typography great. It was beautiful, historical, artistically subtle in a way that science can’t capture, and I found it fascinating.\n",
      "\n",
      "None of this had even a hope of any practical application in my life. But 10 years later, when we were designing the \n",
      "\n",
      "Fragment numer 7: first Macintosh computer, it all came back to me. And we designed it all into the Mac. It was the first computer with beautiful typography. If I had never dropped in on that single course in college, the Mac would have never had multiple typefaces or proportionally spaced fonts. And since Windows just copied the Mac, it’s likely that no personal computer would have them. If I had never dropped out, I would have never dropped in on this calligraphy class, and personal computers might not have the wonderful typography that they do. Of course it was impossible to connect \n",
      "\n",
      "Fragment numer 8: the dots looking forward when I was in college. But it was very, very clear looking backward 10 years later.\n",
      "\n",
      "Again, you can’t connect the dots looking forward; you can only connect them looking backward. So you have to trust that the dots will somehow connect in your future. You have to trust in something — your gut, destiny, life, karma, whatever. This approach has never let me down, and it has made all the difference in my life.\n",
      "\n",
      "My second story is about love and loss.\n",
      "\n",
      "I was lucky — I found what I loved to do early in life. Woz and \n",
      "\n",
      "Fragment numer 9: I started Apple in my parents’ garage when I was 20. We worked hard, and in 10 years Apple had grown from just the two of us in a garage into a $2 billion company with over 4,000 employees. We had just released our finest creation — the Macintosh — a year earlier, and I had just turned 30. And then I got fired. How can you get fired from a company you started? Well, as Apple grew we hired someone who I thought was very talented to run the company with me, and for the first year or so \n",
      "\n",
      "Fragment numer 10: things went well. But then our visions of the future began to diverge and eventually we had a falling out. When we did, our Board of Directors sided with him. So at 30 I was out. And very publicly out. What had been the focus of my entire adult life was gone, and it was devastating.\n",
      "\n",
      "I really didn’t know what to do for a few months. I felt that I had let the previous generation of entrepreneurs down — that I had dropped the baton as it was being passed to me. I met with David Packard and Bob Noyce \n",
      "\n",
      "Fragment numer 11: and tried to apologize for screwing up so badly. I was a very public failure, and I even thought about running away from the valley. But something slowly began to dawn on me — I still loved what I did. The turn of events at Apple had not changed that one bit. I had been rejected, but I was still in love. And so I decided to start over.\n",
      "\n",
      "I didn’t see it then, but it turned out that getting fired from Apple was the best thing that could have ever happened to me. The heaviness of being successful was replaced \n",
      "\n",
      "Fragment numer 12: by the lightness of being a beginner again, less sure about everything. It freed me to enter one of the most creative periods of my life.\n",
      "\n",
      "During the next five years, I started a company named NeXT, another company named Pixar, and fell in love with an amazing woman who would become my wife. Pixar went on to create the world’s first computer animated feature film, Toy Story, and is now the most successful animation studio in the world. In a remarkable turn of events, Apple bought NeXT, I returned to Apple, and the technology we developed at NeXT is at \n",
      "\n",
      "Fragment numer 13: the heart of Apple’s current renaissance. And Laurene and I have a wonderful family together.\n",
      "\n",
      "I’m pretty sure none of this would have happened if I hadn’t been fired from Apple. It was awful tasting medicine, but I guess the patient needed it. Sometimes life hits you in the head with a brick. Don’t lose faith. I’m convinced that the only thing that kept me going was that I loved what I did. You’ve got to find what you love. And that is as true for your work as it is for your lovers. Your work is going to fill a \n",
      "\n",
      "Fragment numer 14: large part of your life, and the only way to be truly satisfied is to do what you believe is great work. And the only way to do great work is to love what you do. If you haven’t found it yet, keep looking. Don’t settle. As with all matters of the heart, you’ll know when you find it. And, like any great relationship, it just gets better and better as the years roll on. So keep looking until you find it. Don’t settle.\n",
      "\n",
      "My third story is about death.\n",
      "\n",
      "When I was 17, I read a quote that went something like: \n",
      "\n",
      "Fragment numer 15: “If you live each day as if it was your last, someday you’ll most certainly be right.” It made an impression on me, and since then, for the past 33 years, I have looked in the mirror every morning and asked myself: “If today were the last day of my life, would I want to do what I am about to do today?” And whenever the answer has been “No” for too many days in a row, I know I need to change something.\n",
      "\n",
      "Remembering that I’ll be dead soon is the most important tool I’ve ever encountered to help me \n",
      "\n",
      "Fragment numer 16: make the big choices in life. Because almost everything — all external expectations, all pride, all fear of embarrassment or failure — these things just fall away in the face of death, leaving only what is truly important. Remembering that you are going to die is the best way I know to avoid the trap of thinking you have something to lose. You are already naked. There is no reason not to follow your heart.\n",
      "\n",
      "About a year ago I was diagnosed with cancer. I had a scan at 7:30 in the morning, and it clearly showed a tumor on my \n",
      "\n",
      "Fragment numer 17: pancreas. I didn’t even know what a pancreas was. The doctors told me this was almost certainly a type of cancer that is incurable, and that I should expect to live no longer than three to six months. My doctor advised me to go home and get my affairs in order, which is doctor’s code for prepare to die. It means to try to tell your kids everything you thought you’d have the next 10 years to tell them in just a few months. It means to make sure everything is buttoned up so that it will be as easy \n",
      "\n",
      "Fragment numer 18: as possible for your family. It means to say your goodbyes.\n",
      "\n",
      "I lived with that diagnosis all day. Later that evening I had a biopsy, where they stuck an endoscope down my throat, through my stomach and into my intestines, put a needle into my pancreas and got a few cells from the tumor. I was sedated, but my wife, who was there, told me that when they viewed the cells under a microscope the doctors started crying because it turned out to be a very rare form of pancreatic cancer that is curable with surgery. I had the surgery and \n",
      "\n",
      "Fragment numer 19: I’m fine now.\n",
      "\n",
      "This was the closest I’ve been to facing death, and I hope it’s the closest I get for a few more decades. Having lived through it, I can now say this to you with a bit more certainty than when death was a useful but purely intellectual concept:\n",
      "\n",
      "No one wants to die. Even people who want to go to heaven don’t want to die to get there. And yet death is the destination we all share. No one has ever escaped it. And that is as it should be, because Death is very likely the single best invention \n",
      "\n",
      "Fragment numer 20: of Life. It is Life’s change agent. It clears out the old to make way for the new. Right now the new is you, but someday not too long from now, you will gradually become the old and be cleared away. Sorry to be so dramatic, but it is quite true.\n",
      "\n",
      "Your time is limited, so don’t waste it living someone else’s life. Don’t be trapped by dogma — which is living with the results of other people’s thinking. Don’t let the noise of others’ opinions drown out your own inner voice. And most important, have the courage to follow your \n",
      "\n",
      "Fragment numer 21: heart and intuition. They somehow already know what you truly want to become. Everything else is secondary.\n",
      "\n",
      "When I was young, there was an amazing publication called The Whole Earth Catalog, which was one of the bibles of my generation. It was created by a fellow named Stewart Brand not far from here in Menlo Park, and he brought it to life with his poetic touch. This was in the late 1960s, before personal computers and desktop publishing, so it was all made with typewriters, scissors and Polaroid cameras. It was sort of like Google in paperback form, 35 years before \n",
      "\n",
      "Fragment numer 22: Google came along: It was idealistic, and overflowing with neat tools and great notions.\n",
      "\n",
      "Stewart and his team put out several issues of The Whole Earth Catalog, and then when it had run its course, they put out a final issue. It was the mid-1970s, and I was your age. On the back cover of their final issue was a photograph of an early morning country road, the kind you might find yourself hitchhiking on if you were so adventurous. Beneath it were the words: “Stay Hungry. Stay Foolish.” It was their farewell message as they signed off. Stay Hungry. Stay \n",
      "\n"
     ]
    }
   ],
   "source": [
    "def chunker(text, n):\n",
    "    input_words = text.split(' ')\n",
    "    \n",
    "    chunks = []\n",
    "    current_chunk = []\n",
    "    count = 0\n",
    "    for word in input_words:\n",
    "        current_chunk.append(word)\n",
    "        count +## Dzielenie danych tekstowych na porcje\n",
    "\n",
    "W celu dalszej analizy dane tekstowe zwykle trzeba podzielić na części. Ten proces jest nazywany fragmentacją. Jest to często używane w analizie tekstu. Warunki używane do podzielenia tekstu na fragmenty mogą się różnić w zależności od problemu. To nie to samo, co tokenizacja, w której również dzielimy tekst na części. Podczas dzielenia na fragmenty nie stosujemy się do żadnych ograniczeń, a fragmenty wyjściowe muszą mieć znaczenie.\n",
    "Kiedy mamy do czynienia z dużymi dokumentami tekstowymi, ważne staje się podzielenie tekstu na fragmenty, aby wydobyć znaczące informacje. W tej sekcji zobaczymy, jak podzielić tekst wejściowy na kilka części.= 1\n",
    "        if count == n:\n",
    "            chunks.append(' '.join(current_chunk))\n",
    "            count, current_chunk = 0, []\n",
    "\n",
    "    return chunks\n",
    "\n",
    "# Define the number of words in each chunk\n",
    "chunk_size = 100\n",
    "\n",
    "chunks = chunker(text_full, chunk_size)\n",
    "print('\\nLiczba fragmentów tekstu =', len(chunks), '\\n')\n",
    "for i, chunk in enumerate(chunks):\n",
    "    print(f'Fragment numer {i+1}: {chunk} \\n')"
   ]
  },
  {
   "cell_type": "markdown",
   "id": "d33dd305",
   "metadata": {},
   "source": [
    "### ..."
   ]
  },
  {
   "cell_type": "code",
   "execution_count": 78,
   "id": "670bd9a7",
   "metadata": {},
   "outputs": [
    {
     "name": "stdout",
     "output_type": "stream",
     "text": [
      "1. I\n",
      "2. am\n",
      "3. honored\n",
      "4. to\n",
      "5. be\n",
      "6. with\n",
      "7. you\n",
      "8. today\n",
      "9. at\n",
      "10. your\n",
      "11. commencement\n",
      "12. from\n",
      "13. one\n",
      "14. of\n",
      "15. the\n",
      "16. finest\n",
      "17. universities\n",
      "18. in\n",
      "19. the\n",
      "20. world.\n",
      "21. I\n",
      "22. never\n",
      "23. graduated\n",
      "24. from\n",
      "25. college.\n",
      "26. Truth\n",
      "27. be\n",
      "28. told,\n",
      "29. this\n",
      "30. is\n"
     ]
    }
   ],
   "source": [
    "text_full = re.sub('I’ve', 'I have', text_full)\n",
    "text_full = re.sub('I’m', 'I am', text_full)\n",
    "text_full = re.sub('That’s', 'That is', text_full)\n",
    "\n",
    "space_split = text_full.split()\n",
    "for index, word in enumerate(space_split[:]):\n",
    "    print(f'{index+1}. {word}')\n",
    "    if index == 29: break"
   ]
  },
  {
   "cell_type": "code",
   "execution_count": 80,
   "id": "6de49ab4",
   "metadata": {},
   "outputs": [
    {
     "name": "stdout",
     "output_type": "stream",
     "text": [
      "1. I\n",
      "2. am\n",
      "3. honored\n",
      "4. to\n",
      "5. be\n",
      "6. with\n",
      "7. you\n",
      "8. today\n",
      "9. at\n",
      "10. your\n",
      "11. commencement\n",
      "12. from\n",
      "13. one\n",
      "14. of\n",
      "15. the\n",
      "16. finest\n",
      "17. universities\n",
      "18. in\n",
      "19. the\n",
      "20. world\n",
      "21. I\n",
      "22. never\n",
      "23. graduated\n",
      "24. from\n",
      "25. college\n",
      "26. Truth\n",
      "27. be\n",
      "28. told\n",
      "29. this\n",
      "30. is\n"
     ]
    }
   ],
   "source": [
    "word_split = re.split(r'[.?!\\s\\-\\,“”\\n;:]+', text_full)\n",
    "for index, word in enumerate(word_split[:200]):\n",
    "    print(f'{index+1}. {word}')\n",
    "    if index == 29: break"
   ]
  },
  {
   "cell_type": "code",
   "execution_count": 81,
   "id": "4cadfd7d",
   "metadata": {},
   "outputs": [
    {
     "name": "stdout",
     "output_type": "stream",
     "text": [
      "Przemówienie ma średnio 15 słów/zdanie.\n",
      "Przemówienie ma średnio 43 słów/paragraf.\n"
     ]
    }
   ],
   "source": [
    "print(f'Przemówienie ma średnio {len(word_split) // len(eos_split[:-1])} słów/zdanie.')\n",
    "print(f'Przemówienie ma średnio {len(word_split) // len(new_line_split[:-1])} słów/paragraf.')"
   ]
  },
  {
   "cell_type": "markdown",
   "id": "3a151dbf",
   "metadata": {},
   "source": [
    "### NLTK"
   ]
  },
  {
   "cell_type": "code",
   "execution_count": 21,
   "id": "74a33cab",
   "metadata": {},
   "outputs": [
    {
     "name": "stdout",
     "output_type": "stream",
     "text": [
      "Requirement already satisfied: nltk in /Users/roberttrypuz/miniforge3/envs/python38-demo-v1/lib/python3.8/site-packages (3.6.2)\n",
      "Requirement already satisfied: joblib in /Users/roberttrypuz/miniforge3/envs/python38-demo-v1/lib/python3.8/site-packages (from nltk) (1.0.1)\n",
      "Requirement already satisfied: click in /Users/roberttrypuz/miniforge3/envs/python38-demo-v1/lib/python3.8/site-packages (from nltk) (8.0.1)\n",
      "Requirement already satisfied: regex in /Users/roberttrypuz/miniforge3/envs/python38-demo-v1/lib/python3.8/site-packages (from nltk) (2021.4.4)\n",
      "Requirement already satisfied: tqdm in /Users/roberttrypuz/miniforge3/envs/python38-demo-v1/lib/python3.8/site-packages (from nltk) (4.61.0)\n"
     ]
    }
   ],
   "source": [
    "!pip install nltk"
   ]
  },
  {
   "cell_type": "code",
   "execution_count": 22,
   "id": "cd0e6024",
   "metadata": {},
   "outputs": [],
   "source": [
    "import nltk"
   ]
  },
  {
   "cell_type": "markdown",
   "id": "b23ff037",
   "metadata": {},
   "source": [
    "### Tokanizacja za pomocą NLTK\n",
    "\n",
    "Funkcje:\n",
    "- `sent_tokenize`\n",
    "- `word_tokenize`"
   ]
  },
  {
   "cell_type": "code",
   "execution_count": 44,
   "id": "168b1270",
   "metadata": {},
   "outputs": [],
   "source": [
    "from nltk.tokenize import sent_tokenize, word_tokenize"
   ]
  },
  {
   "cell_type": "code",
   "execution_count": 45,
   "id": "7d8e4ff4",
   "metadata": {},
   "outputs": [
    {
     "name": "stdout",
     "output_type": "stream",
     "text": [
      "1. I am honored to be with you today at your commencement from one of the finest universities in the world.\n",
      "\n",
      "2. I never graduated from college.\n",
      "\n",
      "3. Truth be told, this is the closest I’ve ever gotten to a college graduation.\n",
      "\n",
      "4. Today I want to tell you three stories from my life.\n",
      "\n",
      "5. That’s it.\n",
      "\n",
      "6. No big deal.\n",
      "\n",
      "7. Just three stories.\n",
      "\n",
      "8. The first story is about connecting the dots.\n",
      "\n",
      "9. I dropped out of Reed College after the first 6 months, but then stayed around as a drop-in for another 18 months or so before I really quit.\n",
      "\n",
      "10. So why did I drop out?\n",
      "\n",
      "11. It started before I was born.\n",
      "\n",
      "12. My biological mother was a young, unwed college graduate student, and she decided to put me up for adoption.\n",
      "\n",
      "13. She felt very strongly that I should be adopted by college graduates, so everything was all set for me to be adopted at birth by a lawyer and his wife.\n",
      "\n",
      "14. Except that when I popped out they decided at the last minute that they really wanted a girl.\n",
      "\n",
      "15. So my parents, who were on a waiting list, got a call in the middle of the night asking: “We have an unexpected baby boy; do you want him?” They said: “Of course.” My biological mother later found out that my mother had never graduated from college and that my father had never graduated from high school.\n",
      "\n"
     ]
    }
   ],
   "source": [
    "sentences_tokenized = sent_tokenize(text_full)\n",
    "\n",
    "for index, s in enumerate(sentences_tokenized):\n",
    "    print(f'{index+1}. {s}\\n')\n",
    "    if index == 14: break"
   ]
  },
  {
   "cell_type": "code",
   "execution_count": 46,
   "id": "8778aedb",
   "metadata": {},
   "outputs": [
    {
     "name": "stdout",
     "output_type": "stream",
     "text": [
      "\n",
      " text_splitted_space |  words_tokenized \n",
      " ======================================\n",
      "               I               I\n",
      "              am              am\n",
      "         honored         honored\n",
      "              to              to\n",
      "              be              be\n",
      "            with            with\n",
      "             you             you\n",
      "           today           today\n",
      "              at              at\n",
      "            your            your\n",
      "    commencement    commencement\n",
      "            from            from\n",
      "             one             one\n",
      "              of              of\n",
      "             the             the\n",
      "          finest          finest\n",
      "    universities    universities\n",
      "              in              in\n",
      "             the             the\n",
      "          world.           world\n",
      "               I               .\n",
      "           never               I\n",
      "       graduated           never\n",
      "            from       graduated\n",
      "        college.            from\n",
      "           Truth         college\n",
      "              be               .\n",
      "           told,           Truth\n",
      "            this              be\n",
      "              is            told\n",
      "             the               ,\n",
      "         closest            this\n",
      "            I’ve              is\n",
      "            ever             the\n",
      "          gotten         closest\n",
      "              to               I\n",
      "               a               ’\n",
      "         college              ve\n",
      "     graduation.            ever\n",
      "           Today          gotten\n"
     ]
    }
   ],
   "source": [
    "words_tokenized = word_tokenize(text_full)\n",
    "    \n",
    "names = ['text_splitted_space'+' | ', 'words_tokenized']\n",
    "formatted_text = '{:>16}' * (len(names))\n",
    "print('\\n', formatted_text.format(*names),'\\n', '='*38)\n",
    "\n",
    "for index in range(40):\n",
    "    output = [text_splitted_space[index], words_tokenized[index]]\n",
    "    print(formatted_text.format(*output))"
   ]
  },
  {
   "cell_type": "markdown",
   "id": "c772edec",
   "metadata": {},
   "source": [
    "Klasa/metoda:\n",
    "- `WordPunctTokenizer`"
   ]
  },
  {
   "cell_type": "code",
   "execution_count": 47,
   "id": "dafd1867",
   "metadata": {},
   "outputs": [],
   "source": [
    "from nltk.tokenize import WordPunctTokenizer"
   ]
  },
  {
   "cell_type": "code",
   "execution_count": 52,
   "id": "747df531",
   "metadata": {},
   "outputs": [
    {
     "name": "stdout",
     "output_type": "stream",
     "text": [
      "\n",
      " text_splitted_space | words_tokenized | words_punkt_tokenized \n",
      " =============================================================\n",
      "                 I                 I                 I\n",
      "                am                am                am\n",
      "           honored           honored           honored\n",
      "                to                to                to\n",
      "                be                be                be\n",
      "              with              with              with\n",
      "               you               you               you\n",
      "             today             today             today\n",
      "                at                at                at\n",
      "              your              your              your\n",
      "      commencement      commencement      commencement\n",
      "              from              from              from\n",
      "               one               one               one\n",
      "                of                of                of\n",
      "               the               the               the\n",
      "            finest            finest            finest\n",
      "      universities      universities      universities\n",
      "                in                in                in\n",
      "               the               the               the\n",
      "            world.             world             world\n",
      "                 I                 .                 .\n",
      "             never                 I                 I\n",
      "         graduated             never             never\n",
      "              from         graduated         graduated\n",
      "          college.              from              from\n"
     ]
    }
   ],
   "source": [
    "word_punkt_tokenizer = WordPunctTokenizer()\n",
    "\n",
    "words_punkt_tokenized = word_punkt_tokenizer.tokenize(text_full)\n",
    "\n",
    "names = ['text_splitted_space'+' | ', 'words_tokenized'+' | ', 'words_punkt_tokenized']\n",
    "formatted_text = '{:>18}' * (len(names))\n",
    "print('\\n', formatted_text.format(*names),'\\n', '='*61)\n",
    "\n",
    "for index in range(25):\n",
    "    output = [text_splitted_space[index], words_tokenized[index],words_punkt_tokenized[index]]\n",
    "    print(formatted_text.format(*output))"
   ]
  },
  {
   "cell_type": "markdown",
   "id": "dd0b0185",
   "metadata": {},
   "source": [
    "## Konwersja słów do ich form podstawowych\n",
    "\n",
    "Praca z tekstem ma wiele odmian. Musimy radzić sobie z różnymi formami tego samego słowa i umożliwić komputerowi zrozumienie, że te różne słowa mają tę samą formę podstawową. Na przykład słowo śpiewać może występować w wielu formach, takich jak śpiew, piosenkarz, śpiew, piosenkarz i tak dalej. Właśnie widzieliśmy zestaw słów o podobnym znaczeniu. Ludzie mogą łatwo zidentyfikować te podstawowe formy i wyprowadzić kontekst.\n",
    "\n",
    "Kiedy analizujemy tekst, warto wyodrębnić te podstawowe formy. Umożliwi nam to uzyskanie przydatnych statystyk do analizy wprowadzonego tekstu. Stemming jest jednym ze sposobów osiągnięcia tego. Celem stemmera jest zredukowanie słów w ich różnych formach do wspólnej formy podstawowej. Jest to w zasadzie proces heurystyczny, który odcina końce słów, aby wyodrębnić ich podstawowe formy. Zobaczmy, jak to zrobić za pomocą NLTK."
   ]
  },
  {
   "cell_type": "code",
   "execution_count": 54,
   "id": "f75a1d04",
   "metadata": {},
   "outputs": [],
   "source": [
    "from nltk.stem.porter import PorterStemmer\n",
    "from nltk.stem.lancaster import LancasterStemmer\n",
    "from nltk.stem.snowball import SnowballStemmer"
   ]
  },
  {
   "cell_type": "code",
   "execution_count": 57,
   "id": "8e06621b",
   "metadata": {},
   "outputs": [
    {
     "name": "stdout",
     "output_type": "stream",
     "text": [
      "\n",
      "       INPUT WORD          PORTER       LANCASTER        SNOWBALL \n",
      " ======================================================================\n",
      "               I               i               i               i\n",
      "              am              am              am              am\n",
      "         honored           honor             hon           honor\n",
      "              to              to              to              to\n",
      "              be              be              be              be\n",
      "            with            with            with            with\n",
      "             you             you             you             you\n",
      "           today           today           today           today\n",
      "              at              at              at              at\n",
      "            your            your              yo            your\n",
      "    commencement         commenc             com         commenc\n",
      "            from            from            from            from\n",
      "             one             one              on             one\n",
      "              of              of              of              of\n",
      "             the             the             the             the\n",
      "          finest          finest          finest          finest\n",
      "    universities         univers         univers         univers\n",
      "              in              in              in              in\n",
      "             the             the             the             the\n",
      "           world           world           world           world\n",
      "               .               .               .               .\n",
      "               I               i               i               i\n",
      "           never           never             nev           never\n",
      "       graduated         graduat           gradu         graduat\n",
      "            from            from            from            from\n",
      "         college          colleg          colleg          colleg\n",
      "               .               .               .               .\n",
      "           Truth           truth             tru           truth\n",
      "              be              be              be              be\n"
     ]
    }
   ],
   "source": [
    "# Create various stemmer objects\n",
    "porter = PorterStemmer()\n",
    "lancaster = LancasterStemmer()\n",
    "snowball = SnowballStemmer('english')\n",
    "\n",
    "# Create a list of stemmer names for display\n",
    "names = ['PORTER', 'LANCASTER', 'SNOWBALL']\n",
    "formatted_text = '{:>16}' * (len(names) + 1)\n",
    "print('\\n', formatted_text.format('INPUT WORD', *names),'\\n', '='*70)\n",
    "\n",
    "# Stem each word and display the output\n",
    "for word in words_tokenized[:29]:\n",
    "    output = [word, porter.stem(word), lancaster.stem(word), snowball.stem(word)]\n",
    "    print(formatted_text.format(*output))"
   ]
  },
  {
   "cell_type": "markdown",
   "id": "4f14fcd0",
   "metadata": {},
   "source": [
    "Porozmawiajmy trochę o trzech algorytmach rdzenia, które są tutaj używane. W zasadzie wszyscy starają się osiągnąć ten sam cel. Różnica między nimi polega na poziomie ścisłości, który jest używany do uzyskania formy podstawowej.\n",
    "\n",
    "Stemmer Porter  jest najmniej rygorystyczna, a Lancaster najsurowsza. Jeśli uważnie przyjrzysz się wynikom, zauważysz różnice. Stemmery zachowują się inaczej, jeśli chodzi o słowa takie jak possibly lub provision. Wyjścia stemplowane, które są uzyskiwane z lancastera Lancaster są nieco zaciemnione, ponieważ bardzo redukują słowa. Jednocześnie algorytm jest naprawdę szybki. Dobrą zasadą jest użycie łodygi Snowball, ponieważ jest to dobry kompromis między szybkością a ścisłością."
   ]
  },
  {
   "cell_type": "markdown",
   "id": "62460660",
   "metadata": {},
   "source": [
    "## Konwersja słów do ich form podstawowych za pomocą lematyzacji\n",
    "\n",
    "Lematyzacja to kolejny sposób na zredukowanie słów do ich podstawowych form. W poprzedniej sekcji widzieliśmy, że formy podstawowe, które uzyskano z tych macierzystych, nie miały sensu. Na przykład wszyscy trzej hodowcy powiedzieli, że podstawową formą calves jest calv, co nie jest prawdziwym słowem. Lematyzacja wymaga bardziej uporządkowanego podejścia do rozwiązania tego problemu.\n",
    "W procesie lematyzacji wykorzystuje się słownictwo i analizę morfologiczną słów. Formy podstawowe uzyskuje poprzez usunięcie końcówek fleksyjnych, takich jak ing czy ed. Ta podstawowa forma dowolnego słowa jest znana jako lemat. Jeśli lemmatyzujesz słowo calves, powinieneś otrzymać calf jako wynik. Należy zauważyć, że wynik zależy od tego, czy słowo jest czasownikiem, czy rzeczownikiem. Przyjrzyjmy się, jak to zrobić za pomocą NLTK."
   ]
  },
  {
   "cell_type": "code",
   "execution_count": 60,
   "id": "5c22d025",
   "metadata": {},
   "outputs": [
    {
     "name": "stdout",
     "output_type": "stream",
     "text": [
      "\n",
      "           INPUT WORD    snowball stemmer     lemmatizer noun     lemmatizer verb \n",
      " ========================================================================================\n",
      "                   I                   i                   I                   I\n",
      "                  am                  am                  am                  be\n",
      "             honored               honor             honored               honor\n",
      "                  to                  to                  to                  to\n",
      "                  be                  be                  be                  be\n",
      "                with                with                with                with\n",
      "                 you                 you                 you                 you\n",
      "               today               today               today               today\n",
      "                  at                  at                  at                  at\n",
      "                your                your                your                your\n",
      "        commencement             commenc        commencement        commencement\n",
      "                from                from                from                from\n",
      "                 one                 one                 one                 one\n",
      "                  of                  of                  of                  of\n",
      "                 the                 the                 the                 the\n",
      "              finest              finest              finest              finest\n",
      "        universities             univers          university        universities\n",
      "                  in                  in                  in                  in\n",
      "                 the                 the                 the                 the\n",
      "               world               world               world               world\n",
      "                   .                   .                   .                   .\n",
      "                   I                   i                   I                   I\n",
      "               never               never               never               never\n",
      "           graduated             graduat           graduated            graduate\n",
      "                from                from                from                from\n",
      "             college              colleg             college             college\n",
      "                   .                   .                   .                   .\n",
      "               Truth               truth               Truth               Truth\n",
      "                  be                  be                  be                  be\n"
     ]
    }
   ],
   "source": [
    "from nltk.stem import WordNetLemmatizer\n",
    "\n",
    "lemmatizer = WordNetLemmatizer()\n",
    "\n",
    "names = ['snowball stemmer', 'lemmatizer noun', 'lemmatizer verb']\n",
    "formatted_text = '{:>20}' * (len(names) + 1)\n",
    "print('\\n', formatted_text.format('INPUT WORD', *names),'\\n', '='*88)\n",
    "\n",
    "for index, word in enumerate(words_tokenized):\n",
    "    output = [word, \n",
    "              snowball.stem(word), \n",
    "              lemmatizer.lemmatize(word), \n",
    "              lemmatizer.lemmatize(word, pos='v')]\n",
    "    print(formatted_text.format(*output))\n",
    "    if index == 28: break"
   ]
  },
  {
   "cell_type": "markdown",
   "id": "0afa57e9",
   "metadata": {},
   "source": [
    "## POS i lematyzacja"
   ]
  },
  {
   "cell_type": "markdown",
   "id": "8b0ca937",
   "metadata": {},
   "source": [
    "### POS"
   ]
  },
  {
   "cell_type": "code",
   "execution_count": 63,
   "id": "ba1f3540",
   "metadata": {},
   "outputs": [
    {
     "name": "stderr",
     "output_type": "stream",
     "text": [
      "[nltk_data] Downloading package averaged_perceptron_tagger to\n",
      "[nltk_data]     /Users/roberttrypuz/nltk_data...\n",
      "[nltk_data]   Unzipping taggers/averaged_perceptron_tagger.zip.\n"
     ]
    },
    {
     "data": {
      "text/plain": [
       "True"
      ]
     },
     "execution_count": 63,
     "metadata": {},
     "output_type": "execute_result"
    }
   ],
   "source": [
    "nltk.download('averaged_perceptron_tagger')"
   ]
  },
  {
   "cell_type": "code",
   "execution_count": 64,
   "id": "6fe4b667",
   "metadata": {},
   "outputs": [
    {
     "name": "stdout",
     "output_type": "stream",
     "text": [
      "[('I', 'PRP'), ('am', 'VBP'), ('honored', 'VBN'), ('to', 'TO'), ('be', 'VB'), ('with', 'IN'), ('you', 'PRP'), ('today', 'NN'), ('at', 'IN'), ('your', 'PRP$'), ('commencement', 'NN'), ('from', 'IN'), ('one', 'CD'), ('of', 'IN'), ('the', 'DT'), ('finest', 'JJS'), ('universities', 'NNS'), ('in', 'IN'), ('the', 'DT'), ('world', 'NN'), ('.', '.')]\n"
     ]
    }
   ],
   "source": [
    "sentences = sent_tokenize(text_full)\n",
    "\n",
    "def posTagging(sentences_list):\n",
    "    sentences = []\n",
    "    for sentence in sentences_list:\n",
    "        pos = nltk.pos_tag(word_tokenize(sentence))\n",
    "        sentences.append(pos)\n",
    "    return sentences\n",
    "\n",
    "sentences_pos_tagged = posTagging(sentences)\n",
    "print(sentences_pos_tagged[0])"
   ]
  },
  {
   "cell_type": "code",
   "execution_count": 65,
   "id": "4a7617f4",
   "metadata": {},
   "outputs": [
    {
     "name": "stdout",
     "output_type": "stream",
     "text": [
      "['I', 'be', 'honor', 'to', 'be', 'with', 'you', 'today', 'at', 'your', 'commencement', 'from', 'one', 'of', 'the', 'fine', 'university', 'in', 'the', 'world', '.']\n"
     ]
    }
   ],
   "source": [
    "from nltk.corpus import wordnet\n",
    "from nltk.stem import WordNetLemmatizer\n",
    "\n",
    "def getWordnetPos(word):\n",
    "    \"\"\"Map POS tag to first character lemmatize() accepts\"\"\"\n",
    "    tag = nltk.pos_tag([word])[0][1][0].upper()\n",
    "    tag_dict = {\"J\": wordnet.ADJ,\n",
    "                \"N\": wordnet.NOUN,\n",
    "                \"V\": wordnet.VERB,\n",
    "                \"R\": wordnet.ADV}    \n",
    "    return tag_dict.get(tag, wordnet.NOUN)\n",
    "\n",
    "def lemamatizePosSensitive(sentences_list):\n",
    "    lemmatizer = WordNetLemmatizer()\n",
    "    sentences = []\n",
    "    for sentence in sentences_list:\n",
    "        sentences.append([lemmatizer.lemmatize(word, getWordnetPos(word)) for word in nltk.word_tokenize(sentence)])\n",
    "    return sentences\n",
    "\n",
    "print(lemamatizePosSensitive(sentences)[0])"
   ]
  },
  {
   "cell_type": "markdown",
   "id": "486dbcdb",
   "metadata": {},
   "source": [
    "## <span t=\"slide_title\">Bibliografia</span>\n",
    "- <span t=\"l1\">Prateek Joshi, Artificial Intelligence with Python, Packt Publishing, 2017. </span>\n",
    "- <span t=\"l1\">Hobson Lane, Cole Howard, Hannes Max Hapke, Przetwarzanie języka naturalnego w akcji, PWN, 2021. </span>"
   ]
  },
  {
   "cell_type": "code",
   "execution_count": null,
   "id": "eace8490",
   "metadata": {},
   "outputs": [],
   "source": []
  }
 ],
 "metadata": {
  "kernelspec": {
   "display_name": "Python 3",
   "language": "python",
   "name": "python3"
  },
  "language_info": {
   "codemirror_mode": {
    "name": "ipython",
    "version": 3
   },
   "file_extension": ".py",
   "mimetype": "text/x-python",
   "name": "python",
   "nbconvert_exporter": "python",
   "pygments_lexer": "ipython3",
   "version": "3.8.13"
  }
 },
 "nbformat": 4,
 "nbformat_minor": 5
}
