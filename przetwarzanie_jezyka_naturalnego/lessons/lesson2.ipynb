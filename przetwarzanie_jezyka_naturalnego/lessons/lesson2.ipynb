{
 "cells": [
  {
   "cell_type": "markdown",
   "metadata": {},
   "source": [
    "# 1. Initiate necessary elements from previous classes"
   ]
  },
  {
   "cell_type": "code",
   "execution_count": 2,
   "metadata": {},
   "outputs": [],
   "source": [
    "import nltk\n",
    "from nltk.tokenize import sent_tokenize, word_tokenize\n",
    "# Reading from a file    \n",
    "with open('steve-jobs-2005.txt','r') as f:\n",
    "    text = f.read()\n",
    "    \n",
    "sentences = sent_tokenize(text)"
   ]
  },
  {
   "cell_type": "markdown",
   "metadata": {},
   "source": [
    "# 2. POS"
   ]
  },
  {
   "cell_type": "code",
   "execution_count": 3,
   "metadata": {},
   "outputs": [
    {
     "name": "stdout",
     "output_type": "stream",
     "text": [
      "[('I', 'PRP'), ('am', 'VBP'), ('honored', 'VBN'), ('to', 'TO'), ('be', 'VB'), ('with', 'IN'), ('you', 'PRP'), ('today', 'NN'), ('at', 'IN'), ('your', 'PRP$'), ('commencement', 'NN'), ('from', 'IN'), ('one', 'CD'), ('of', 'IN'), ('the', 'DT'), ('finest', 'JJS'), ('universities', 'NNS'), ('in', 'IN'), ('the', 'DT'), ('world', 'NN'), ('.', '.')]\n"
     ]
    }
   ],
   "source": [
    "sentences = sent_tokenize(text)\n",
    "\n",
    "def posTagging(sentences_list):\n",
    "    sentences = []\n",
    "    for sentence in sentences_list:\n",
    "        pos = nltk.pos_tag(word_tokenize(sentence))\n",
    "        sentences.append(pos)\n",
    "    return sentences\n",
    "\n",
    "sentences_pos_tagged = posTagging(sentences)\n",
    "print(sentences_pos_tagged[0])"
   ]
  },
  {
   "cell_type": "markdown",
   "metadata": {},
   "source": [
    "## 2.1 Wordnet Lemmatizer with appropriate POS tag"
   ]
  },
  {
   "cell_type": "code",
   "execution_count": 4,
   "metadata": {},
   "outputs": [
    {
     "name": "stdout",
     "output_type": "stream",
     "text": [
      "['I', 'be', 'honor', 'to', 'be', 'with', 'you', 'today', 'at', 'your', 'commencement', 'from', 'one', 'of', 'the', 'fine', 'university', 'in', 'the', 'world', '.']\n"
     ]
    }
   ],
   "source": [
    "from nltk.corpus import wordnet\n",
    "from nltk.stem import WordNetLemmatizer\n",
    "\n",
    "def getWordnetPos(word):\n",
    "    \"\"\"Map POS tag to first character lemmatize() accepts\"\"\"\n",
    "    tag = nltk.pos_tag([word])[0][1][0].upper()\n",
    "    tag_dict = {\"J\": wordnet.ADJ,\n",
    "                \"N\": wordnet.NOUN,\n",
    "                \"V\": wordnet.VERB,\n",
    "                \"R\": wordnet.ADV}    \n",
    "    return tag_dict.get(tag, wordnet.NOUN)\n",
    "\n",
    "def lemamatizePosSensitive(sentences_list):\n",
    "    lemmatizer = WordNetLemmatizer()\n",
    "    sentences = []\n",
    "    for sentence in sentences_list:\n",
    "        sentences.append([lemmatizer.lemmatize(word, getWordnetPos(word)) for word in nltk.word_tokenize(sentence)])\n",
    "    return sentences\n",
    "\n",
    "print(lemamatizePosSensitive(sentences)[0])"
   ]
  },
  {
   "cell_type": "markdown",
   "metadata": {},
   "source": [
    "## 2.2 Named Entities "
   ]
  },
  {
   "cell_type": "code",
   "execution_count": 5,
   "metadata": {},
   "outputs": [
    {
     "name": "stdout",
     "output_type": "stream",
     "text": [
      "(ORGANIZATION Reed/NNP College/NNP)\n",
      "(ORGANIZATION Mac/NNP)\n"
     ]
    }
   ],
   "source": [
    "def regognizeNamedEntities(sentences_list_with_pos_tags):\n",
    "    sentences = []\n",
    "    for sentence in sentences_list_with_pos_tags:\n",
    "        ne = nltk.ne_chunk(sentence)\n",
    "        sentences.append(ne)\n",
    "    return sentences\n",
    "\n",
    "sentences_ne_tagged = regognizeNamedEntities(sentences_pos_tagged)\n",
    "\n",
    "print(sentences_ne_tagged[8][4])\n",
    "namedEnt = sentences_ne_tagged[8]\n",
    "namedEnt.draw()\n",
    "\n",
    "print(sentences_ne_tagged[36][7])"
   ]
  },
  {
   "cell_type": "code",
   "execution_count": null,
   "metadata": {},
   "outputs": [],
   "source": []
  }
 ],
 "metadata": {
  "kernelspec": {
   "display_name": "Python 3",
   "language": "python",
   "name": "python3"
  },
  "language_info": {
   "codemirror_mode": {
    "name": "ipython",
    "version": 3
   },
   "file_extension": ".py",
   "mimetype": "text/x-python",
   "name": "python",
   "nbconvert_exporter": "python",
   "pygments_lexer": "ipython3",
   "version": "3.8.8"
  }
 },
 "nbformat": 4,
 "nbformat_minor": 4
}
