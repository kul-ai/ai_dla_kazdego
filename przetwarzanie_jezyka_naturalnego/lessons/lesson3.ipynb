{
 "cells": [
  {
   "cell_type": "markdown",
   "metadata": {},
   "source": [
    "#  Word embedding\n",
    "\n",
    "[Zellig Harris’ “distributional hypothesis”](https://aclweb.org/aclwiki/Distributional_Hypothesis)\n",
    "\n",
    "- CountVectorizer (One-Hot Encoding)\n",
    "- TfidfVectorizer\n",
    "- HashingVectorizer"
   ]
  },
  {
   "cell_type": "markdown",
   "metadata": {},
   "source": [
    "# 1. Import libraries and read text\n",
    "\n",
    "3 stories of Steve Jobs\n",
    "\n",
    "Our text is a list consisting of 3 stories."
   ]
  },
  {
   "cell_type": "code",
   "execution_count": 1,
   "metadata": {},
   "outputs": [],
   "source": [
    "import nltk\n",
    "import numpy as np\n",
    "from nltk.tokenize import sent_tokenize, word_tokenize\n",
    "\n",
    "story1 = '''The first story is about connecting the dots.\n",
    "\n",
    "I dropped out of Reed College after the first 6 months, but then stayed around as a drop-in for another 18 months or so before I really quit. So why did I drop out?\n",
    "\n",
    "It started before I was born. My biological mother was a young, unwed college graduate student, and she decided to put me up for adoption. She felt very strongly that I should be adopted by college graduates, so everything was all set for me to be adopted at birth by a lawyer and his wife. Except that when I popped out they decided at the last minute that they really wanted a girl. So my parents, who were on a waiting list, got a call in the middle of the night asking: “We have an unexpected baby boy; do you want him?” They said: “Of course.” My biological mother later found out that my mother had never graduated from college and that my father had never graduated from high school. She refused to sign the final adoption papers. She only relented a few months later when my parents promised that I would someday go to college.\n",
    "\n",
    "And 17 years later I did go to college. But I naively chose a college that was almost as expensive as Stanford, and all of my working-class parents’ savings were being spent on my college tuition. After six months, I couldn’t see the value in it. I had no idea what I wanted to do with my life and no idea how college was going to help me figure it out. And here I was spending all of the money my parents had saved their entire life. So I decided to drop out and trust that it would all work out OK. It was pretty scary at the time, but looking back it was one of the best decisions I ever made. The minute I dropped out I could stop taking the required classes that didn’t interest me, and begin dropping in on the ones that looked interesting.\n",
    "\n",
    "It wasn’t all romantic. I didn’t have a dorm room, so I slept on the floor in friends’ rooms, I returned Coke bottles for the 5¢ deposits to buy food with, and I would walk the 7 miles across town every Sunday night to get one good meal a week at the Hare Krishna temple. I loved it. And much of what I stumbled into by following my curiosity and intuition turned out to be priceless later on. Let me give you one example:\n",
    "\n",
    "Reed College at that time offered perhaps the best calligraphy instruction in the country. Throughout the campus every poster, every label on every drawer, was beautifully hand calligraphed. Because I had dropped out and didn’t have to take the normal classes, I decided to take a calligraphy class to learn how to do this. I learned about serif and sans serif typefaces, about varying the amount of space between different letter combinations, about what makes great typography great. It was beautiful, historical, artistically subtle in a way that science can’t capture, and I found it fascinating.\n",
    "\n",
    "None of this had even a hope of any practical application in my life. But 10 years later, when we were designing the first Macintosh computer, it all came back to me. And we designed it all into the Mac. It was the first computer with beautiful typography. If I had never dropped in on that single course in college, the Mac would have never had multiple typefaces or proportionally spaced fonts. And since Windows just copied the Mac, it’s likely that no personal computer would have them. If I had never dropped out, I would have never dropped in on this calligraphy class, and personal computers might not have the wonderful typography that they do. Of course it was impossible to connect the dots looking forward when I was in college. But it was very, very clear looking backward 10 years later.\n",
    "\n",
    "Again, you can’t connect the dots looking forward; you can only connect them looking backward. So you have to trust that the dots will somehow connect in your future. You have to trust in something — your gut, destiny, life, karma, whatever. This approach has never let me down, and it has made all the difference in my life.'''\n",
    "\n",
    "\n",
    "story2 = '''My second story is about love and loss.\n",
    "\n",
    "I was lucky — I found what I loved to do early in life. Woz and I started Apple in my parents’ garage when I was 20. We worked hard, and in 10 years Apple had grown from just the two of us in a garage into a $2 billion company with over 4,000 employees. We had just released our finest creation — the Macintosh — a year earlier, and I had just turned 30. And then I got fired. How can you get fired from a company you started? Well, as Apple grew we hired someone who I thought was very talented to run the company with me, and for the first year or so things went well. But then our visions of the future began to diverge and eventually we had a falling out. When we did, our Board of Directors sided with him. So at 30 I was out. And very publicly out. What had been the focus of my entire adult life was gone, and it was devastating.\n",
    "\n",
    "I really didn’t know what to do for a few months. I felt that I had let the previous generation of entrepreneurs down — that I had dropped the baton as it was being passed to me. I met with David Packard and Bob Noyce and tried to apologize for screwing up so badly. I was a very public failure, and I even thought about running away from the valley. But something slowly began to dawn on me — I still loved what I did. The turn of events at Apple had not changed that one bit. I had been rejected, but I was still in love. And so I decided to start over.\n",
    "\n",
    "I didn’t see it then, but it turned out that getting fired from Apple was the best thing that could have ever happened to me. The heaviness of being successful was replaced by the lightness of being a beginner again, less sure about everything. It freed me to enter one of the most creative periods of my life.\n",
    "\n",
    "During the next five years, I started a company named NeXT, another company named Pixar, and fell in love with an amazing woman who would become my wife. Pixar went on to create the world’s first computer animated feature film, Toy Story, and is now the most successful animation studio in the world. In a remarkable turn of events, Apple bought NeXT, I returned to Apple, and the technology we developed at NeXT is at the heart of Apple’s current renaissance. And Laurene and I have a wonderful family together.\n",
    "\n",
    "I’m pretty sure none of this would have happened if I hadn’t been fired from Apple. It was awful tasting medicine, but I guess the patient needed it. Sometimes life hits you in the head with a brick. Don’t lose faith. I’m convinced that the only thing that kept me going was that I loved what I did. You’ve got to find what you love. And that is as true for your work as it is for your lovers. Your work is going to fill a large part of your life, and the only way to be truly satisfied is to do what you believe is great work. And the only way to do great work is to love what you do. If you haven’t found it yet, keep looking. Don’t settle. As with all matters of the heart, you’ll know when you find it. And, like any great relationship, it just gets better and better as the years roll on. So keep looking until you find it. Don’t settle.\n",
    "'''\n",
    "\n",
    "story3 = '''My third story is about death.\n",
    "\n",
    "When I was 17, I read a quote that went something like: “If you live each day as if it was your last, someday you’ll most certainly be right.” It made an impression on me, and since then, for the past 33 years, I have looked in the mirror every morning and asked myself: “If today were the last day of my life, would I want to do what I am about to do today?” And whenever the answer has been “No” for too many days in a row, I know I need to change something.\n",
    "\n",
    "Remembering that I’ll be dead soon is the most important tool I’ve ever encountered to help me make the big choices in life. Because almost everything — all external expectations, all pride, all fear of embarrassment or failure — these things just fall away in the face of death, leaving only what is truly important. Remembering that you are going to die is the best way I know to avoid the trap of thinking you have something to lose. You are already naked. There is no reason not to follow your heart.\n",
    "\n",
    "About a year ago I was diagnosed with cancer. I had a scan at 7:30 in the morning, and it clearly showed a tumor on my pancreas. I didn’t even know what a pancreas was. The doctors told me this was almost certainly a type of cancer that is incurable, and that I should expect to live no longer than three to six months. My doctor advised me to go home and get my affairs in order, which is doctor’s code for prepare to die. It means to try to tell your kids everything you thought you’d have the next 10 years to tell them in just a few months. It means to make sure everything is buttoned up so that it will be as easy as possible for your family. It means to say your goodbyes.\n",
    "\n",
    "I lived with that diagnosis all day. Later that evening I had a biopsy, where they stuck an endoscope down my throat, through my stomach and into my intestines, put a needle into my pancreas and got a few cells from the tumor. I was sedated, but my wife, who was there, told me that when they viewed the cells under a microscope the doctors started crying because it turned out to be a very rare form of pancreatic cancer that is curable with surgery. I had the surgery and I’m fine now.\n",
    "\n",
    "This was the closest I’ve been to facing death, and I hope it’s the closest I get for a few more decades. Having lived through it, I can now say this to you with a bit more certainty than when death was a useful but purely intellectual concept:\n",
    "\n",
    "No one wants to die. Even people who want to go to heaven don’t want to die to get there. And yet death is the destination we all share. No one has ever escaped it. And that is as it should be, because Death is very likely the single best invention of Life. It is Life’s change agent. It clears out the old to make way for the new. Right now the new is you, but someday not too long from now, you will gradually become the old and be cleared away. Sorry to be so dramatic, but it is quite true.\n",
    "\n",
    "Your time is limited, so don’t waste it living someone else’s life. Don’t be trapped by dogma — which is living with the results of other people’s thinking. Don’t let the noise of others’ opinions drown out your own inner voice. And most important, have the courage to follow your heart and intuition. They somehow already know what you truly want to become. Everything else is secondary.\n",
    "\n",
    "When I was young, there was an amazing publication called The Whole Earth Catalog, which was one of the bibles of my generation. It was created by a fellow named Stewart Brand not far from here in Menlo Park, and he brought it to life with his poetic touch. This was in the late 1960s, before personal computers and desktop publishing, so it was all made with typewriters, scissors and Polaroid cameras. It was sort of like Google in paperback form, 35 years before Google came along: It was idealistic, and overflowing with neat tools and great notions.\n",
    "\n",
    "Stewart and his team put out several issues of The Whole Earth Catalog, and then when it had run its course, they put out a final issue. It was the mid-1970s, and I was your age. On the back cover of their final issue was a photograph of an early morning country road, the kind you might find yourself hitchhiking on if you were so adventurous. Beneath it were the words: “Stay Hungry. Stay Foolish.” It was their farewell message as they signed off. Stay Hungry. Stay Foolish. And I have always wished that for myself. And now, as you graduate to begin anew, I wish that for you.'''\n",
    "\n",
    "text = [story1, story2,story3]"
   ]
  },
  {
   "cell_type": "markdown",
   "metadata": {},
   "source": [
    "# 2. One-Hot Encoding (Count Vectorizing)"
   ]
  },
  {
   "cell_type": "code",
   "execution_count": 2,
   "metadata": {},
   "outputs": [
    {
     "name": "stdout",
     "output_type": "stream",
     "text": [
      "\n",
      "Vocabulary:\n",
      " ['000' '10' '17' '18' '1960s' '1970s' '20' '30' '33' '35' 'about' 'across'\n",
      " 'adopted' 'adoption' 'adult' 'adventurous' 'advised' 'affairs' 'after'\n",
      " 'again' 'age' 'agent' 'ago' 'all' 'almost' 'along' 'already' 'always'\n",
      " 'am' 'amazing' 'amount' 'an' 'and' 'anew' 'animated' 'animation'\n",
      " 'another' 'answer' 'any' 'apologize' 'apple' 'application' 'approach'\n",
      " 'are' 'around' 'artistically' 'as' 'asked' 'asking' 'at' 'avoid' 'away'\n",
      " 'awful' 'baby' 'back' 'backward' 'badly' 'baton' 'be' 'beautiful'\n",
      " 'beautifully' 'because' 'become' 'been' 'before' 'began' 'begin'\n",
      " 'beginner' 'being' 'believe' 'beneath' 'best' 'better' 'between' 'bibles'\n",
      " 'big' 'billion' 'biological' 'biopsy' 'birth' 'bit' 'board' 'bob' 'born'\n",
      " 'bottles' 'bought' 'boy' 'brand' 'brick' 'brought' 'but' 'buttoned' 'buy'\n",
      " 'by' 'call' 'called' 'calligraphed' 'calligraphy' 'came' 'cameras'\n",
      " 'campus' 'can' 'cancer' 'capture' 'catalog' 'cells' 'certainly'\n",
      " 'certainty' 'change' 'changed' 'choices' 'chose' 'class' 'classes'\n",
      " 'clear' 'cleared' 'clearly' 'clears' 'closest' 'code' 'coke' 'college'\n",
      " 'combinations' 'company' 'computer' 'computers' 'concept' 'connect'\n",
      " 'connecting' 'convinced' 'copied' 'could' 'couldn' 'country' 'courage'\n",
      " 'course' 'cover' 'create' 'created' 'creation' 'creative' 'crying'\n",
      " 'curable' 'curiosity' 'current' 'david' 'dawn' 'day' 'days' 'dead'\n",
      " 'death' 'decades' 'decided' 'decisions' 'deposits' 'designed' 'designing'\n",
      " 'desktop' 'destination' 'destiny' 'devastating' 'developed' 'diagnosed'\n",
      " 'diagnosis' 'did' 'didn' 'die' 'difference' 'different' 'directors'\n",
      " 'diverge' 'do' 'doctor' 'doctors' 'dogma' 'don' 'dorm' 'dots' 'down'\n",
      " 'dramatic' 'drawer' 'drop' 'dropped' 'dropping' 'drown' 'during' 'each'\n",
      " 'earlier' 'early' 'earth' 'easy' 'else' 'embarrassment' 'employees'\n",
      " 'encountered' 'endoscope' 'enter' 'entire' 'entrepreneurs' 'escaped'\n",
      " 'even' 'evening' 'events' 'eventually' 'ever' 'every' 'everything'\n",
      " 'example' 'except' 'expect' 'expectations' 'expensive' 'external' 'face'\n",
      " 'facing' 'failure' 'faith' 'fall' 'falling' 'family' 'far' 'farewell'\n",
      " 'fascinating' 'father' 'fear' 'feature' 'fell' 'fellow' 'felt' 'few'\n",
      " 'figure' 'fill' 'film' 'final' 'find' 'fine' 'finest' 'fired' 'first'\n",
      " 'five' 'floor' 'focus' 'follow' 'following' 'fonts' 'food' 'foolish'\n",
      " 'for' 'form' 'forward' 'found' 'freed' 'friends' 'from' 'future' 'garage'\n",
      " 'generation' 'get' 'gets' 'getting' 'girl' 'give' 'go' 'going' 'gone'\n",
      " 'good' 'goodbyes' 'google' 'got' 'gradually' 'graduate' 'graduated'\n",
      " 'graduates' 'great' 'grew' 'grown' 'guess' 'gut' 'had' 'hadn' 'hand'\n",
      " 'happened' 'hard' 'hare' 'has' 'have' 'haven' 'having' 'he' 'head'\n",
      " 'heart' 'heaven' 'heaviness' 'help' 'here' 'high' 'him' 'hired' 'his'\n",
      " 'historical' 'hitchhiking' 'hits' 'home' 'hope' 'how' 'hungry' 'idea'\n",
      " 'idealistic' 'if' 'important' 'impossible' 'impression' 'in' 'incurable'\n",
      " 'inner' 'instruction' 'intellectual' 'interest' 'interesting'\n",
      " 'intestines' 'into' 'intuition' 'invention' 'is' 'issue' 'issues' 'it'\n",
      " 'its' 'just' 'karma' 'keep' 'kept' 'kids' 'kind' 'know' 'krishna' 'label'\n",
      " 'large' 'last' 'late' 'later' 'laurene' 'lawyer' 'learn' 'learned'\n",
      " 'leaving' 'less' 'let' 'letter' 'life' 'lightness' 'like' 'likely'\n",
      " 'limited' 'list' 'live' 'lived' 'living' 'll' 'long' 'longer' 'looked'\n",
      " 'looking' 'lose' 'loss' 'love' 'loved' 'lovers' 'lucky' 'mac' 'macintosh'\n",
      " 'made' 'make' 'makes' 'many' 'matters' 'me' 'meal' 'means' 'medicine'\n",
      " 'menlo' 'message' 'met' 'microscope' 'mid' 'middle' 'might' 'miles'\n",
      " 'minute' 'mirror' 'money' 'months' 'more' 'morning' 'most' 'mother'\n",
      " 'much' 'multiple' 'my' 'myself' 'naively' 'naked' 'named' 'neat' 'need'\n",
      " 'needed' 'needle' 'never' 'new' 'next' 'night' 'no' 'noise' 'none'\n",
      " 'normal' 'not' 'notions' 'now' 'noyce' 'of' 'off' 'offered' 'ok' 'old'\n",
      " 'on' 'one' 'ones' 'only' 'opinions' 'or' 'order' 'other' 'others' 'our'\n",
      " 'out' 'over' 'overflowing' 'own' 'packard' 'pancreas' 'pancreatic'\n",
      " 'paperback' 'papers' 'parents' 'park' 'part' 'passed' 'past' 'patient'\n",
      " 'people' 'perhaps' 'periods' 'personal' 'photograph' 'pixar' 'poetic'\n",
      " 'polaroid' 'popped' 'possible' 'poster' 'practical' 'prepare' 'pretty'\n",
      " 'previous' 'priceless' 'pride' 'promised' 'proportionally' 'public'\n",
      " 'publication' 'publicly' 'publishing' 'purely' 'put' 'quit' 'quite'\n",
      " 'quote' 'rare' 'read' 'really' 'reason' 'reed' 'refused' 'rejected'\n",
      " 'relationship' 'released' 'relented' 'remarkable' 'remembering'\n",
      " 'renaissance' 'replaced' 'required' 'results' 'returned' 'right' 'road'\n",
      " 'roll' 'romantic' 'room' 'rooms' 'row' 'run' 'running' 'said' 'sans'\n",
      " 'satisfied' 'saved' 'savings' 'say' 'scan' 'scary' 'school' 'science'\n",
      " 'scissors' 'screwing' 'second' 'secondary' 'sedated' 'see' 'serif' 'set'\n",
      " 'settle' 'several' 'share' 'she' 'should' 'showed' 'sided' 'sign'\n",
      " 'signed' 'since' 'single' 'six' 'slept' 'slowly' 'so' 'someday' 'somehow'\n",
      " 'someone' 'something' 'sometimes' 'soon' 'sorry' 'sort' 'space' 'spaced'\n",
      " 'spending' 'spent' 'stanford' 'start' 'started' 'stay' 'stayed' 'stewart'\n",
      " 'still' 'stomach' 'stop' 'story' 'strongly' 'stuck' 'student' 'studio'\n",
      " 'stumbled' 'subtle' 'successful' 'sunday' 'sure' 'surgery' 'take'\n",
      " 'taking' 'talented' 'tasting' 'team' 'technology' 'tell' 'temple' 'than'\n",
      " 'that' 'the' 'their' 'them' 'then' 'there' 'these' 'they' 'thing'\n",
      " 'things' 'thinking' 'third' 'this' 'thought' 'three' 'throat' 'through'\n",
      " 'throughout' 'time' 'to' 'today' 'together' 'told' 'too' 'tool' 'tools'\n",
      " 'touch' 'town' 'toy' 'trap' 'trapped' 'tried' 'true' 'truly' 'trust'\n",
      " 'try' 'tuition' 'tumor' 'turn' 'turned' 'two' 'type' 'typefaces'\n",
      " 'typewriters' 'typography' 'under' 'unexpected' 'until' 'unwed' 'up' 'us'\n",
      " 'useful' 'valley' 'value' 'varying' 've' 'very' 'viewed' 'visions'\n",
      " 'voice' 'waiting' 'walk' 'want' 'wanted' 'wants' 'was' 'wasn' 'waste'\n",
      " 'way' 'we' 'week' 'well' 'went' 'were' 'what' 'whatever' 'when'\n",
      " 'whenever' 'where' 'which' 'who' 'whole' 'why' 'wife' 'will' 'windows'\n",
      " 'wish' 'wished' 'with' 'woman' 'wonderful' 'words' 'work' 'worked'\n",
      " 'working' 'world' 'would' 'woz' 'year' 'years' 'yet' 'you' 'young' 'your'\n",
      " 'yourself']\n",
      "\n",
      "Shape of vocabulary: (682,)\n",
      "\n"
     ]
    }
   ],
   "source": [
    "from sklearn.feature_extraction.text import CountVectorizer\n",
    "\n",
    "# Instantiate a count vectorizer\n",
    "count_vectorizer = CountVectorizer()\n",
    "\n",
    "# We create the count vectorizer by calling fit on the text\n",
    "count_vectorizer.fit(text)\n",
    "\n",
    "# Extract the vocabulary and display it\n",
    "vocabulary = np.array(count_vectorizer.get_feature_names())\n",
    "print(\"\\nVocabulary:\\n\", vocabulary)\n",
    "print()\n",
    "print('Shape of vocabulary:',vocabulary.shape)\n",
    "print()"
   ]
  },
  {
   "cell_type": "code",
   "execution_count": 3,
   "metadata": {},
   "outputs": [
    {
     "name": "stdout",
     "output_type": "stream",
     "text": [
      "Help on class CountVectorizer in module sklearn.feature_extraction.text:\n",
      "\n",
      "class CountVectorizer(_VectorizerMixin, sklearn.base.BaseEstimator)\n",
      " |  CountVectorizer(input='content', encoding='utf-8', decode_error='strict', strip_accents=None, lowercase=True, preprocessor=None, tokenizer=None, stop_words=None, token_pattern='(?u)\\\\b\\\\w\\\\w+\\\\b', ngram_range=(1, 1), analyzer='word', max_df=1.0, min_df=1, max_features=None, vocabulary=None, binary=False, dtype=<class 'numpy.int64'>)\n",
      " |  \n",
      " |  Convert a collection of text documents to a matrix of token counts\n",
      " |  \n",
      " |  This implementation produces a sparse representation of the counts using\n",
      " |  scipy.sparse.csr_matrix.\n",
      " |  \n",
      " |  If you do not provide an a-priori dictionary and you do not use an analyzer\n",
      " |  that does some kind of feature selection then the number of features will\n",
      " |  be equal to the vocabulary size found by analyzing the data.\n",
      " |  \n",
      " |  Read more in the :ref:`User Guide <text_feature_extraction>`.\n",
      " |  \n",
      " |  Parameters\n",
      " |  ----------\n",
      " |  input : string {'filename', 'file', 'content'}\n",
      " |      If 'filename', the sequence passed as an argument to fit is\n",
      " |      expected to be a list of filenames that need reading to fetch\n",
      " |      the raw content to analyze.\n",
      " |  \n",
      " |      If 'file', the sequence items must have a 'read' method (file-like\n",
      " |      object) that is called to fetch the bytes in memory.\n",
      " |  \n",
      " |      Otherwise the input is expected to be a sequence of items that\n",
      " |      can be of type string or byte.\n",
      " |  \n",
      " |  encoding : string, 'utf-8' by default.\n",
      " |      If bytes or files are given to analyze, this encoding is used to\n",
      " |      decode.\n",
      " |  \n",
      " |  decode_error : {'strict', 'ignore', 'replace'}\n",
      " |      Instruction on what to do if a byte sequence is given to analyze that\n",
      " |      contains characters not of the given `encoding`. By default, it is\n",
      " |      'strict', meaning that a UnicodeDecodeError will be raised. Other\n",
      " |      values are 'ignore' and 'replace'.\n",
      " |  \n",
      " |  strip_accents : {'ascii', 'unicode', None}\n",
      " |      Remove accents and perform other character normalization\n",
      " |      during the preprocessing step.\n",
      " |      'ascii' is a fast method that only works on characters that have\n",
      " |      an direct ASCII mapping.\n",
      " |      'unicode' is a slightly slower method that works on any characters.\n",
      " |      None (default) does nothing.\n",
      " |  \n",
      " |      Both 'ascii' and 'unicode' use NFKD normalization from\n",
      " |      :func:`unicodedata.normalize`.\n",
      " |  \n",
      " |  lowercase : boolean, True by default\n",
      " |      Convert all characters to lowercase before tokenizing.\n",
      " |  \n",
      " |  preprocessor : callable or None (default)\n",
      " |      Override the preprocessing (string transformation) stage while\n",
      " |      preserving the tokenizing and n-grams generation steps.\n",
      " |      Only applies if ``analyzer is not callable``.\n",
      " |  \n",
      " |  tokenizer : callable or None (default)\n",
      " |      Override the string tokenization step while preserving the\n",
      " |      preprocessing and n-grams generation steps.\n",
      " |      Only applies if ``analyzer == 'word'``.\n",
      " |  \n",
      " |  stop_words : string {'english'}, list, or None (default)\n",
      " |      If 'english', a built-in stop word list for English is used.\n",
      " |      There are several known issues with 'english' and you should\n",
      " |      consider an alternative (see :ref:`stop_words`).\n",
      " |  \n",
      " |      If a list, that list is assumed to contain stop words, all of which\n",
      " |      will be removed from the resulting tokens.\n",
      " |      Only applies if ``analyzer == 'word'``.\n",
      " |  \n",
      " |      If None, no stop words will be used. max_df can be set to a value\n",
      " |      in the range [0.7, 1.0) to automatically detect and filter stop\n",
      " |      words based on intra corpus document frequency of terms.\n",
      " |  \n",
      " |  token_pattern : string\n",
      " |      Regular expression denoting what constitutes a \"token\", only used\n",
      " |      if ``analyzer == 'word'``. The default regexp select tokens of 2\n",
      " |      or more alphanumeric characters (punctuation is completely ignored\n",
      " |      and always treated as a token separator).\n",
      " |  \n",
      " |  ngram_range : tuple (min_n, max_n), default=(1, 1)\n",
      " |      The lower and upper boundary of the range of n-values for different\n",
      " |      word n-grams or char n-grams to be extracted. All values of n such\n",
      " |      such that min_n <= n <= max_n will be used. For example an\n",
      " |      ``ngram_range`` of ``(1, 1)`` means only unigrams, ``(1, 2)`` means\n",
      " |      unigrams and bigrams, and ``(2, 2)`` means only bigrams.\n",
      " |      Only applies if ``analyzer is not callable``.\n",
      " |  \n",
      " |  analyzer : string, {'word', 'char', 'char_wb'} or callable\n",
      " |      Whether the feature should be made of word n-gram or character\n",
      " |      n-grams.\n",
      " |      Option 'char_wb' creates character n-grams only from text inside\n",
      " |      word boundaries; n-grams at the edges of words are padded with space.\n",
      " |  \n",
      " |      If a callable is passed it is used to extract the sequence of features\n",
      " |      out of the raw, unprocessed input.\n",
      " |  \n",
      " |      .. versionchanged:: 0.21\n",
      " |  \n",
      " |      Since v0.21, if ``input`` is ``filename`` or ``file``, the data is\n",
      " |      first read from the file and then passed to the given callable\n",
      " |      analyzer.\n",
      " |  \n",
      " |  max_df : float in range [0.0, 1.0] or int, default=1.0\n",
      " |      When building the vocabulary ignore terms that have a document\n",
      " |      frequency strictly higher than the given threshold (corpus-specific\n",
      " |      stop words).\n",
      " |      If float, the parameter represents a proportion of documents, integer\n",
      " |      absolute counts.\n",
      " |      This parameter is ignored if vocabulary is not None.\n",
      " |  \n",
      " |  min_df : float in range [0.0, 1.0] or int, default=1\n",
      " |      When building the vocabulary ignore terms that have a document\n",
      " |      frequency strictly lower than the given threshold. This value is also\n",
      " |      called cut-off in the literature.\n",
      " |      If float, the parameter represents a proportion of documents, integer\n",
      " |      absolute counts.\n",
      " |      This parameter is ignored if vocabulary is not None.\n",
      " |  \n",
      " |  max_features : int or None, default=None\n",
      " |      If not None, build a vocabulary that only consider the top\n",
      " |      max_features ordered by term frequency across the corpus.\n",
      " |  \n",
      " |      This parameter is ignored if vocabulary is not None.\n",
      " |  \n",
      " |  vocabulary : Mapping or iterable, optional\n",
      " |      Either a Mapping (e.g., a dict) where keys are terms and values are\n",
      " |      indices in the feature matrix, or an iterable over terms. If not\n",
      " |      given, a vocabulary is determined from the input documents. Indices\n",
      " |      in the mapping should not be repeated and should not have any gap\n",
      " |      between 0 and the largest index.\n",
      " |  \n",
      " |  binary : boolean, default=False\n",
      " |      If True, all non zero counts are set to 1. This is useful for discrete\n",
      " |      probabilistic models that model binary events rather than integer\n",
      " |      counts.\n",
      " |  \n",
      " |  dtype : type, optional\n",
      " |      Type of the matrix returned by fit_transform() or transform().\n",
      " |  \n",
      " |  Attributes\n",
      " |  ----------\n",
      " |  vocabulary_ : dict\n",
      " |      A mapping of terms to feature indices.\n",
      " |  \n",
      " |  fixed_vocabulary_: boolean\n",
      " |      True if a fixed vocabulary of term to indices mapping\n",
      " |      is provided by the user\n",
      " |  \n",
      " |  stop_words_ : set\n",
      " |      Terms that were ignored because they either:\n",
      " |  \n",
      " |        - occurred in too many documents (`max_df`)\n",
      " |        - occurred in too few documents (`min_df`)\n",
      " |        - were cut off by feature selection (`max_features`).\n",
      " |  \n",
      " |      This is only available if no vocabulary was given.\n",
      " |  \n",
      " |  Examples\n",
      " |  --------\n",
      " |  >>> from sklearn.feature_extraction.text import CountVectorizer\n",
      " |  >>> corpus = [\n",
      " |  ...     'This is the first document.',\n",
      " |  ...     'This document is the second document.',\n",
      " |  ...     'And this is the third one.',\n",
      " |  ...     'Is this the first document?',\n",
      " |  ... ]\n",
      " |  >>> vectorizer = CountVectorizer()\n",
      " |  >>> X = vectorizer.fit_transform(corpus)\n",
      " |  >>> print(vectorizer.get_feature_names())\n",
      " |  ['and', 'document', 'first', 'is', 'one', 'second', 'the', 'third', 'this']\n",
      " |  >>> print(X.toarray())\n",
      " |  [[0 1 1 1 0 0 1 0 1]\n",
      " |   [0 2 0 1 0 1 1 0 1]\n",
      " |   [1 0 0 1 1 0 1 1 1]\n",
      " |   [0 1 1 1 0 0 1 0 1]]\n",
      " |  >>> vectorizer2 = CountVectorizer(analyzer='word', ngram_range=(2, 2))\n",
      " |  >>> X2 = vectorizer2.fit_transform(corpus)\n",
      " |  >>> print(vectorizer2.get_feature_names())\n",
      " |  ['and this', 'document is', 'first document', 'is the', 'is this',\n",
      " |  'second document', 'the first', 'the second', 'the third', 'third one',\n",
      " |   'this document', 'this is', 'this the']\n",
      " |   >>> print(X2.toarray())\n",
      " |   [[0 0 1 1 0 0 1 0 0 0 0 1 0]\n",
      " |   [0 1 0 1 0 1 0 1 0 0 1 0 0]\n",
      " |   [1 0 0 1 0 0 0 0 1 1 0 1 0]\n",
      " |   [0 0 1 0 1 0 1 0 0 0 0 0 1]]\n",
      " |  \n",
      " |  See Also\n",
      " |  --------\n",
      " |  HashingVectorizer, TfidfVectorizer\n",
      " |  \n",
      " |  Notes\n",
      " |  -----\n",
      " |  The ``stop_words_`` attribute can get large and increase the model size\n",
      " |  when pickling. This attribute is provided only for introspection and can\n",
      " |  be safely removed using delattr or set to None before pickling.\n",
      " |  \n",
      " |  Method resolution order:\n",
      " |      CountVectorizer\n",
      " |      _VectorizerMixin\n",
      " |      sklearn.base.BaseEstimator\n",
      " |      builtins.object\n",
      " |  \n",
      " |  Methods defined here:\n",
      " |  \n",
      " |  __init__(self, input='content', encoding='utf-8', decode_error='strict', strip_accents=None, lowercase=True, preprocessor=None, tokenizer=None, stop_words=None, token_pattern='(?u)\\\\b\\\\w\\\\w+\\\\b', ngram_range=(1, 1), analyzer='word', max_df=1.0, min_df=1, max_features=None, vocabulary=None, binary=False, dtype=<class 'numpy.int64'>)\n",
      " |      Initialize self.  See help(type(self)) for accurate signature.\n",
      " |  \n",
      " |  fit(self, raw_documents, y=None)\n",
      " |      Learn a vocabulary dictionary of all tokens in the raw documents.\n",
      " |      \n",
      " |      Parameters\n",
      " |      ----------\n",
      " |      raw_documents : iterable\n",
      " |          An iterable which yields either str, unicode or file objects.\n",
      " |      \n",
      " |      Returns\n",
      " |      -------\n",
      " |      self\n",
      " |  \n",
      " |  fit_transform(self, raw_documents, y=None)\n",
      " |      Learn the vocabulary dictionary and return term-document matrix.\n",
      " |      \n",
      " |      This is equivalent to fit followed by transform, but more efficiently\n",
      " |      implemented.\n",
      " |      \n",
      " |      Parameters\n",
      " |      ----------\n",
      " |      raw_documents : iterable\n",
      " |          An iterable which yields either str, unicode or file objects.\n",
      " |      \n",
      " |      Returns\n",
      " |      -------\n",
      " |      X : array, [n_samples, n_features]\n",
      " |          Document-term matrix.\n",
      " |  \n",
      " |  get_feature_names(self)\n",
      " |      Array mapping from feature integer indices to feature name.\n",
      " |      \n",
      " |      Returns\n",
      " |      -------\n",
      " |      feature_names : list\n",
      " |          A list of feature names.\n",
      " |  \n",
      " |  inverse_transform(self, X)\n",
      " |      Return terms per document with nonzero entries in X.\n",
      " |      \n",
      " |      Parameters\n",
      " |      ----------\n",
      " |      X : {array-like, sparse matrix} of shape (n_samples, n_features)\n",
      " |          Document-term matrix.\n",
      " |      \n",
      " |      Returns\n",
      " |      -------\n",
      " |      X_inv : list of arrays, len = n_samples\n",
      " |          List of arrays of terms.\n",
      " |  \n",
      " |  transform(self, raw_documents)\n",
      " |      Transform documents to document-term matrix.\n",
      " |      \n",
      " |      Extract token counts out of raw text documents using the vocabulary\n",
      " |      fitted with fit or the one provided to the constructor.\n",
      " |      \n",
      " |      Parameters\n",
      " |      ----------\n",
      " |      raw_documents : iterable\n",
      " |          An iterable which yields either str, unicode or file objects.\n",
      " |      \n",
      " |      Returns\n",
      " |      -------\n",
      " |      X : sparse matrix, [n_samples, n_features]\n",
      " |          Document-term matrix.\n",
      " |  \n",
      " |  ----------------------------------------------------------------------\n",
      " |  Methods inherited from _VectorizerMixin:\n",
      " |  \n",
      " |  build_analyzer(self)\n",
      " |      Return a callable that handles preprocessing, tokenization\n",
      " |      and n-grams generation.\n",
      " |      \n",
      " |      Returns\n",
      " |      -------\n",
      " |      analyzer: callable\n",
      " |          A function to handle preprocessing, tokenization\n",
      " |          and n-grams generation.\n",
      " |  \n",
      " |  build_preprocessor(self)\n",
      " |      Return a function to preprocess the text before tokenization.\n",
      " |      \n",
      " |      Returns\n",
      " |      -------\n",
      " |      preprocessor: callable\n",
      " |            A function to preprocess the text before tokenization.\n",
      " |  \n",
      " |  build_tokenizer(self)\n",
      " |      Return a function that splits a string into a sequence of tokens.\n",
      " |      \n",
      " |      Returns\n",
      " |      -------\n",
      " |      tokenizer: callable\n",
      " |            A function to split a string into a sequence of tokens.\n",
      " |  \n",
      " |  decode(self, doc)\n",
      " |      Decode the input into a string of unicode symbols.\n",
      " |      \n",
      " |      The decoding strategy depends on the vectorizer parameters.\n",
      " |      \n",
      " |      Parameters\n",
      " |      ----------\n",
      " |      doc : str\n",
      " |          The string to decode.\n",
      " |      \n",
      " |      Returns\n",
      " |      -------\n",
      " |      doc: str\n",
      " |          A string of unicode symbols.\n",
      " |  \n",
      " |  get_stop_words(self)\n",
      " |      Build or fetch the effective stop words list.\n",
      " |      \n",
      " |      Returns\n",
      " |      -------\n",
      " |      stop_words: list or None\n",
      " |              A list of stop words.\n",
      " |  \n",
      " |  ----------------------------------------------------------------------\n",
      " |  Data descriptors inherited from _VectorizerMixin:\n",
      " |  \n",
      " |  __dict__\n",
      " |      dictionary for instance variables (if defined)\n",
      " |  \n",
      " |  __weakref__\n",
      " |      list of weak references to the object (if defined)\n",
      " |  \n",
      " |  ----------------------------------------------------------------------\n",
      " |  Methods inherited from sklearn.base.BaseEstimator:\n",
      " |  \n",
      " |  __getstate__(self)\n",
      " |  \n",
      " |  __repr__(self, N_CHAR_MAX=700)\n",
      " |      Return repr(self).\n",
      " |  \n",
      " |  __setstate__(self, state)\n",
      " |  \n",
      " |  get_params(self, deep=True)\n",
      " |      Get parameters for this estimator.\n",
      " |      \n",
      " |      Parameters\n",
      " |      ----------\n",
      " |      deep : bool, default=True\n",
      " |          If True, will return the parameters for this estimator and\n",
      " |          contained subobjects that are estimators.\n",
      " |      \n",
      " |      Returns\n",
      " |      -------\n",
      " |      params : mapping of string to any\n",
      " |          Parameter names mapped to their values.\n",
      " |  \n",
      " |  set_params(self, **params)\n",
      " |      Set the parameters of this estimator.\n",
      " |      \n",
      " |      The method works on simple estimators as well as on nested objects\n",
      " |      (such as pipelines). The latter have parameters of the form\n",
      " |      ``<component>__<parameter>`` so that it's possible to update each\n",
      " |      component of a nested object.\n",
      " |      \n",
      " |      Parameters\n",
      " |      ----------\n",
      " |      **params : dict\n",
      " |          Estimator parameters.\n",
      " |      \n",
      " |      Returns\n",
      " |      -------\n",
      " |      self : object\n",
      " |          Estimator instance.\n",
      "\n"
     ]
    }
   ],
   "source": [
    "help(CountVectorizer)"
   ]
  },
  {
   "cell_type": "markdown",
   "metadata": {},
   "source": [
    "## min_df and max_df\n",
    "\n",
    "- min_df = 0.01 means \"ignore terms that appear in less than 1% of the documents\".\n",
    "\n",
    "- min_df = 5 means \"ignore terms that appear in less than 5 documents\".\n",
    "\n",
    "The default min_df is 1, which means \"ignore terms that appear in less than 1 document\". Thus, the default setting does not ignore any terms.\n",
    "\n",
    "- max_df = 0.50 means \"It ignores terms that appear in more than 50% of the documents\".\n",
    "\n",
    "- max_df = 25 means \"It ignores terms that appear in more than 25 documents\".\n",
    "\n",
    "The default max_df is 1.0, which means \"ignore terms that appear in more than 100% of the documents\". Thus the default setting does not ignore any terms.\n",
    "\n",
    "## stopwords\n",
    "\n",
    "stop_words : string {'english'}, list, or None (default)\n",
    "\n",
    "If 'english', a built-in stop word list for English is used."
   ]
  },
  {
   "cell_type": "code",
   "execution_count": 4,
   "metadata": {},
   "outputs": [
    {
     "name": "stdout",
     "output_type": "stream",
     "text": [
      "\n",
      "Vocabulary:\n",
      " ['10' '17' '30' 'amazing' 'away' 'begin' 'best' 'bit' 'came' 'computer'\n",
      " 'computers' 'country' 'course' 'decided' 'did' 'didn' 'don' 'dropped'\n",
      " 'early' 'entire' 'failure' 'family' 'felt' 'final' 'future' 'generation'\n",
      " 'going' 'got' 'graduate' 'great' 'heart' 'help' 'hope' 'intuition' 'just'\n",
      " 'know' 'later' 'let' 'life' 'like' 'likely' 'll' 'looked' 'looking'\n",
      " 'lose' 'loved' 'macintosh' 'months' 'named' 'parents' 'personal' 'pretty'\n",
      " 'really' 'returned' 'run' 'single' 'someday' 'started' 'story' 'sure'\n",
      " 'things' 'thought' 'time' 'true' 'truly' 'turned' 've' 'want' 'way'\n",
      " 'went' 'wife' 'wonderful' 'work' 'year' 'years' 'young']\n",
      "\n",
      "Shape of vocabulary: (76,)\n",
      "\n"
     ]
    }
   ],
   "source": [
    "# Instantiate a count vectorizer\n",
    "count_vectorizer = CountVectorizer(min_df = 2, max_df = 3, stop_words='english')\n",
    "\n",
    "# We create the count vectorizer by calling fit on the text\n",
    "count_vectorizer.fit(text)\n",
    "\n",
    "# Extract the vocabulary and display it\n",
    "vocabulary = np.array(count_vectorizer.get_feature_names())\n",
    "print(\"\\nVocabulary:\\n\", vocabulary)\n",
    "print()\n",
    "print('Shape of vocabulary:',vocabulary.shape)\n",
    "print()"
   ]
  },
  {
   "cell_type": "markdown",
   "metadata": {},
   "source": [
    "## create a vector for each story"
   ]
  },
  {
   "cell_type": "code",
   "execution_count": 5,
   "metadata": {},
   "outputs": [
    {
     "name": "stdout",
     "output_type": "stream",
     "text": [
      "Full vector: \n",
      "[[2 1 0 0 0 1 2 0 1 3 1 1 3 4 2 3 0 6 0 1 0 0 1 1 1 0 1 1 1 2 0 1 1 1 1 0\n",
      "  6 2 5 0 1 0 1 5 0 1 1 4 0 4 2 1 2 1 0 1 1 1 1 0 0 0 2 0 0 1 0 1 1 0 1 1\n",
      "  1 0 3 1]\n",
      " [1 0 2 1 1 0 1 1 0 1 0 0 0 1 3 2 3 1 1 1 1 1 1 0 1 1 2 2 0 3 2 0 0 0 4 2\n",
      "  0 1 5 1 0 1 0 2 1 3 1 1 2 1 0 1 1 1 1 0 0 3 2 2 1 2 0 1 1 2 1 0 2 2 1 1\n",
      "  4 2 3 0]\n",
      " [1 1 1 1 2 1 2 1 1 0 1 1 1 0 0 1 4 0 1 0 1 1 0 2 0 1 1 1 1 1 2 1 1 1 2 4\n",
      "  1 1 6 2 1 2 1 0 1 0 0 2 1 0 1 0 0 0 1 1 2 1 1 1 1 1 1 1 2 1 2 4 2 1 1 0\n",
      "  0 1 3 1]]\n",
      "Shape of vector: (3, 76)\n",
      "\n"
     ]
    }
   ],
   "source": [
    "# Create a vector by passing the text into the vectorizer to get back counts\n",
    "vector = count_vectorizer.transform(text)\n",
    "\n",
    "# Our final vector:\n",
    "print('Full vector: ')\n",
    "print(vector.toarray())\n",
    "print('Shape of vector:',vector.toarray().shape)\n",
    "print()"
   ]
  },
  {
   "cell_type": "code",
   "execution_count": 6,
   "metadata": {},
   "outputs": [
    {
     "data": {
      "text/plain": [
       "scipy.sparse.csr.csr_matrix"
      ]
     },
     "execution_count": 6,
     "metadata": {},
     "output_type": "execute_result"
    }
   ],
   "source": [
    "type(vector)"
   ]
  },
  {
   "cell_type": "code",
   "execution_count": 334,
   "metadata": {},
   "outputs": [
    {
     "data": {
      "text/plain": [
       "numpy.ndarray"
      ]
     },
     "execution_count": 334,
     "metadata": {},
     "output_type": "execute_result"
    }
   ],
   "source": [
    "type(vector.toarray())"
   ]
  },
  {
   "cell_type": "markdown",
   "metadata": {},
   "source": [
    "## word 'life' in story 3"
   ]
  },
  {
   "cell_type": "code",
   "execution_count": 7,
   "metadata": {},
   "outputs": [
    {
     "name": "stdout",
     "output_type": "stream",
     "text": [
      "word life appears 6 times in story 3\n"
     ]
    }
   ],
   "source": [
    "word = 'life'\n",
    "word_index = np.where(vocabulary==word)[0][0]\n",
    "story_nr = 3\n",
    "print('Word',word,'appears',vector.toarray()[story_nr-1][word_index],'times in story',story_nr)"
   ]
  },
  {
   "cell_type": "markdown",
   "metadata": {},
   "source": [
    "## word 'life' in all stories"
   ]
  },
  {
   "cell_type": "code",
   "execution_count": 344,
   "metadata": {},
   "outputs": [
    {
     "data": {
      "text/plain": [
       "array([5, 5, 6])"
      ]
     },
     "execution_count": 344,
     "metadata": {},
     "output_type": "execute_result"
    }
   ],
   "source": [
    "vector.toarray()[:,word_index]"
   ]
  },
  {
   "cell_type": "code",
   "execution_count": 8,
   "metadata": {},
   "outputs": [
    {
     "name": "stdout",
     "output_type": "stream",
     "text": [
      "Story (vectorized) sum: \n",
      "276\n",
      "\n"
     ]
    }
   ],
   "source": [
    "# How many words does three stories have?\n",
    "print('Story (vectorized) sum: ')\n",
    "print(np.sum(vector.toarray()))\n",
    "print()"
   ]
  },
  {
   "cell_type": "markdown",
   "metadata": {},
   "source": [
    "## vector for a word"
   ]
  },
  {
   "cell_type": "code",
   "execution_count": 9,
   "metadata": {},
   "outputs": [
    {
     "name": "stdout",
     "output_type": "stream",
     "text": [
      "amazing has index 3\n",
      "\n",
      "amazing vector: \n",
      "[[0 0 0 1 0 0 0 0 0 0 0 0 0 0 0 0 0 0 0 0 0 0 0 0 0 0 0 0 0 0 0 0 0 0 0 0\n",
      "  0 0 0 0 0 0 0 0 0 0 0 0 0 0 0 0 0 0 0 0 0 0 0 0 0 0 0 0 0 0 0 0 0 0 0 0\n",
      "  0 0 0 0]]\n",
      "\n"
     ]
    }
   ],
   "source": [
    "# Position\n",
    "word = 'amazing'\n",
    "print(word,'has index',np.where(vocabulary==word)[0][0])\n",
    "print()\n",
    "\n",
    "# Get the vector for a word (or a list of words):\n",
    "print(word, 'vector: ')\n",
    "story_vector = count_vectorizer.transform([word]).toarray()\n",
    "print(story_vector)\n",
    "print()"
   ]
  },
  {
   "cell_type": "markdown",
   "metadata": {},
   "source": [
    "## fit_transform (fit + transform)\n",
    "\n",
    "Compare fit_transform with fit and transform that we've used above"
   ]
  },
  {
   "cell_type": "code",
   "execution_count": 10,
   "metadata": {},
   "outputs": [
    {
     "name": "stdout",
     "output_type": "stream",
     "text": [
      "One swoop:\n",
      "[[2 1 0 0 0 1 2 0 1 3 1 1 3 4 2 3 0 6 0 1 0 0 1 1 1 0 1 1 1 2 0 1 1 1 1 0\n",
      "  6 2 5 0 1 0 1 5 0 1 1 4 0 4 2 1 2 1 0 1 1 1 1 0 0 0 2 0 0 1 0 1 1 0 1 1\n",
      "  1 0 3 1]\n",
      " [1 0 2 1 1 0 1 1 0 1 0 0 0 1 3 2 3 1 1 1 1 1 1 0 1 1 2 2 0 3 2 0 0 0 4 2\n",
      "  0 1 5 1 0 1 0 2 1 3 1 1 2 1 0 1 1 1 1 0 0 3 2 2 1 2 0 1 1 2 1 0 2 2 1 1\n",
      "  4 2 3 0]\n",
      " [1 1 1 1 2 1 2 1 1 0 1 1 1 0 0 1 4 0 1 0 1 1 0 2 0 1 1 1 1 1 2 1 1 1 2 4\n",
      "  1 1 6 2 1 2 1 0 1 0 0 2 1 0 1 0 0 0 1 1 2 1 1 1 1 1 1 1 2 1 2 4 2 1 1 0\n",
      "  0 1 3 1]]\n",
      "\n",
      "['10', '17', '30', 'amazing', 'away', 'begin', 'best', 'bit', 'came', 'computer', 'computers', 'country', 'course', 'decided', 'did', 'didn', 'don', 'dropped', 'early', 'entire', 'failure', 'family', 'felt', 'final', 'future', 'generation', 'going', 'got', 'graduate', 'great', 'heart', 'help', 'hope', 'intuition', 'just', 'know', 'later', 'let', 'life', 'like', 'likely', 'll', 'looked', 'looking', 'lose', 'loved', 'macintosh', 'months', 'named', 'parents', 'personal', 'pretty', 'really', 'returned', 'run', 'single', 'someday', 'started', 'story', 'sure', 'things', 'thought', 'time', 'true', 'truly', 'turned', 've', 'want', 'way', 'went', 'wife', 'wonderful', 'work', 'year', 'years', 'young']\n",
      "\n"
     ]
    }
   ],
   "source": [
    "# We could also do the whole thing at once with the fit_transform method:\n",
    "print('One swoop:')\n",
    "new_vectorizer = CountVectorizer(min_df = 2, max_df = 3,stop_words='english')\n",
    "\n",
    "# Learn the vocabulary and store CountVectorizer sparse matrix in document_term_matrix\n",
    "document_term_matrix = new_vectorizer.fit_transform(text)\n",
    "print(document_term_matrix.toarray())\n",
    "print()\n",
    "\n",
    "# Columns of document_term_matrix correspond to the result of\n",
    "print(new_vectorizer.get_feature_names())\n",
    "print()\n",
    "\n"
   ]
  },
  {
   "cell_type": "markdown",
   "metadata": {},
   "source": [
    "## transforming a new document according to learn vocabulary"
   ]
  },
  {
   "cell_type": "code",
   "execution_count": 11,
   "metadata": {},
   "outputs": [
    {
     "data": {
      "text/plain": [
       "array([[0, 0, 0, 1, 0, 0, 0, 0, 0, 0, 0, 0, 0, 0, 0, 0, 0, 0, 0, 0, 0, 0,\n",
       "        0, 0, 0, 0, 0, 0, 0, 0, 0, 0, 0, 0, 0, 0, 0, 0, 0, 0, 0, 0, 0, 0,\n",
       "        0, 0, 0, 0, 0, 0, 0, 0, 0, 0, 0, 0, 0, 0, 0, 0, 0, 0, 0, 0, 0, 0,\n",
       "        0, 0, 0, 0, 0, 0, 0, 0, 0, 0]])"
      ]
     },
     "execution_count": 11,
     "metadata": {},
     "output_type": "execute_result"
    }
   ],
   "source": [
    "# transforming a new document according to learn vocabulary\n",
    "my_sentence_vectorized = new_vectorizer.transform(['Stories of my amazing students.']).toarray()\n",
    "my_sentence_vectorized"
   ]
  },
  {
   "cell_type": "markdown",
   "metadata": {},
   "source": [
    "# 3. Cosine similarity\n",
    "\n",
    "- [What is a cosine similarity matrix?](https://medium.com/acing-ai/what-is-cosine-similarity-matrix-f0819e674ad1)\n",
    "- [Machine Learning :: Cosine Similarity for Vector Space Models (Part III)](http://blog.christianperone.com/2013/09/machine-learning-cosine-similarity-for-vector-space-models-part-iii/)\n",
    "- [Plot of cos x](https://pl.wikipedia.org/wiki/Funkcje_trygonometryczne#/media/Plik:Cos_proportional.svg)"
   ]
  },
  {
   "cell_type": "markdown",
   "metadata": {},
   "source": [
    "## how similar are 3 stories with text 'Stories of my amazing students.'"
   ]
  },
  {
   "cell_type": "code",
   "execution_count": 14,
   "metadata": {},
   "outputs": [
    {
     "data": {
      "text/plain": [
       "array([[0.        ],\n",
       "       [0.07018624],\n",
       "       [0.07372098]])"
      ]
     },
     "execution_count": 14,
     "metadata": {},
     "output_type": "execute_result"
    }
   ],
   "source": [
    "from sklearn.metrics.pairwise import cosine_similarity\n",
    "cosine_similarity(document_term_matrix,my_sentence_vectorized)"
   ]
  },
  {
   "cell_type": "markdown",
   "metadata": {},
   "source": [
    "## how similar is story 3 to story 1 and story 2"
   ]
  },
  {
   "cell_type": "code",
   "execution_count": 16,
   "metadata": {},
   "outputs": [
    {
     "data": {
      "text/plain": [
       "array([[0.46573597],\n",
       "       [0.67264578]])"
      ]
     },
     "execution_count": 16,
     "metadata": {},
     "output_type": "execute_result"
    }
   ],
   "source": [
    "cosine_similarity(document_term_matrix[:2],document_term_matrix[2:3])"
   ]
  },
  {
   "cell_type": "code",
   "execution_count": null,
   "metadata": {},
   "outputs": [],
   "source": []
  }
 ],
 "metadata": {
  "kernelspec": {
   "display_name": "Python 3",
   "language": "python",
   "name": "python3"
  },
  "language_info": {
   "codemirror_mode": {
    "name": "ipython",
    "version": 3
   },
   "file_extension": ".py",
   "mimetype": "text/x-python",
   "name": "python",
   "nbconvert_exporter": "python",
   "pygments_lexer": "ipython3",
   "version": "3.8.13"
  }
 },
 "nbformat": 4,
 "nbformat_minor": 4
}
