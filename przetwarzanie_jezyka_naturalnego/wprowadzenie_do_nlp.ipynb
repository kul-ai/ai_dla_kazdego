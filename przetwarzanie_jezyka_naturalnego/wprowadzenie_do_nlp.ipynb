{
 "cells": [
  {
   "cell_type": "markdown",
   "id": "bdb946e3",
   "metadata": {},
   "source": [
    "# Wprowadzenie do przetwarzania języka naturalnego"
   ]
  },
  {
   "cell_type": "markdown",
   "id": "8f8cafef",
   "metadata": {},
   "source": [
    "### Czym jest przetwarzanie języka naturalnego?\n",
    "\n",
    "Przetwarzanie języka naturalnego to sekwencja, potok, przekształceń tekstu takich jak tokenizacja, stemowanie, czy lematyzacja oraz modele języka od prostych typu Bag of Words do bardziej złożonych związanych z różnymi technikami wektoryzacji. Celem NLP jest umożliwienie komputerowi zrozumienie tekstu i szerzej język.\n",
    "\n",
    "Tekst należy do danych niestrukturalnych."
   ]
  },
  {
   "cell_type": "code",
   "execution_count": null,
   "id": "677e4a36",
   "metadata": {},
   "outputs": [],
   "source": []
  }
 ],
 "metadata": {
  "kernelspec": {
   "display_name": "Python 3",
   "language": "python",
   "name": "python3"
  },
  "language_info": {
   "codemirror_mode": {
    "name": "ipython",
    "version": 3
   },
   "file_extension": ".py",
   "mimetype": "text/x-python",
   "name": "python",
   "nbconvert_exporter": "python",
   "pygments_lexer": "ipython3",
   "version": "3.8.8"
  }
 },
 "nbformat": 4,
 "nbformat_minor": 5
}
