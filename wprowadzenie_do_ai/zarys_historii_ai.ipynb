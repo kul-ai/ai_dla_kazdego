{
 "cells": [
  {
   "cell_type": "markdown",
   "id": "7dd5e49b",
   "metadata": {},
   "source": [
    "# Zarys historii AI"
   ]
  },
  {
   "cell_type": "markdown",
   "id": "179775f8",
   "metadata": {
    "id": "179775f8"
   },
   "source": [
    "### Sen o golemach\n",
    "\n",
    "<img src=\"../pliki_z_internetu/golem.jpg\" alt=\"golem\" width=\"400\"/>\n",
    "\n",
    "Golemy – wczoraj i dziś\n",
    "\n",
    "-   <http://www.sztetl.org.pl/pl/article/chelm/9,legendy-i-opowiadania/15242,rabbi-eliasz-z-chelma-i-golem/?action=viewtable>\n",
    "\n",
    "-   <https://www.youtube.com/watch?v=P0Obm0DBvwI>\n",
    "\n",
    "-   <https://pl.wikipedia.org/wiki/Watson_(superkomputer)>"
   ]
  },
  {
   "cell_type": "markdown",
   "id": "7d38d567",
   "metadata": {},
   "source": [
    "### Dłuższa historia SI\n",
    "\n",
    "-   pierwsza wiosna SI (1950 – 1960)\n",
    "\n",
    "    -   *Look, Ma, no hands!*\n",
    "\n",
    "    -   test Turinga (1950)\n",
    "\n",
    "    -   konferencja w Dartmouth (1956): J. McCarthy, R. Solomonoff, C.\n",
    "        Shannon, A. Newell, H. Simon, M. Minsky\n",
    "\n",
    "    -   Logic Theorist, General Problem Solver, Shakey, ELIZA\n",
    "\n",
    "-   pierwsza zima SI (1960 – 1970)\n",
    "\n",
    "    -   czysta syntaksa: ’the spirit is willing but the flesh is weak’\n",
    "        $>$ …$>$ ’the vodka is good but the meat is rotten’\n",
    "\n",
    "    -   złożoność obliczeniowa: *Boy, this is a lot of possibilities!*\n",
    "\n",
    "    -   raport Lighthilla (1973)\n",
    "\n",
    "-   drugia wiosna SI (1970 – 1980)\n",
    "\n",
    "    -   systemy eksperckie i bazy wiedzy\n",
    "\n",
    "    -   DENDRAL, MYCIN, CYC\n",
    "\n",
    "-   druga zima SI –\n",
    "\n",
    "    -   *That costs a lot …*\n",
    "\n",
    "-   trzecia wiosna SI (1990 – )\n",
    "\n",
    "    -   konekcjonizm vs logicyzm\n",
    "\n",
    "    -   sieci neuronowe i algorytmy genetyczne\n",
    "\n",
    "    -   komercjalizacja\n",
    "\n",
    "\n"
   ]
  }
 ],
 "metadata": {
  "kernelspec": {
   "display_name": "Python 3 (ipykernel)",
   "language": "python",
   "name": "python3"
  }
 },
 "nbformat": 4,
 "nbformat_minor": 5
}
