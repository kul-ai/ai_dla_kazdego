{
 "cells": [
  {
   "cell_type": "markdown",
   "id": "295e8211",
   "metadata": {},
   "source": [
    "# Obliczenia ewolucyjne"
   ]
  },
  {
   "cell_type": "markdown",
   "id": "265c6221",
   "metadata": {},
   "source": [
    "## Obliczenia ewolucyjne"
   ]
  },
  {
   "cell_type": "markdown",
   "id": "23747d18",
   "metadata": {},
   "source": [
    "### Obliczenia ewolucyjne\n",
    "\n",
    "Obliczenia ewolucyjne stanowią podstawową grupę metod inspirowanych biologicznie.\n",
    "\n",
    "Obliczenia ewolucyjne oparte są na naśladowaniu Natury w aspekcie procesów ewolucji.\n",
    "\n",
    "Wspólną cechą obliczeń ewolucyjnych jest generowanie i analiza, w danym kroku przeszukiwania przestrzeni stanów, wielu rozwiązań (tzw. populacji rozwiązań).\n",
    "\n",
    "Istotną cechą obliczeń ewolucyjnych jest również ich losowy charakter."
   ]
  },
  {
   "cell_type": "markdown",
   "id": "e2df7f77",
   "metadata": {},
   "source": [
    "Rozwiązania poddawane są operacjom analogicznym do tych, które mają miejsce w przypadku organizmów żywych, np.:\n",
    "- mutacjom\n",
    "- krzyżowaniu\n",
    "\n",
    "Największą szansę na udział w wydaniu potomstwa lub przejściu do następnego pokolenia mają rozwiązania „najlepiej przystosowane” w danym środowisku."
   ]
  },
  {
   "cell_type": "markdown",
   "id": "bc3b866e",
   "metadata": {},
   "source": [
    "Podstawowe grupy metod:\n",
    "\n",
    "- Algorytmy genetyczne. \n",
    "- Strategie ewolucyjne. \n",
    "- Programowanie ewolucyjne. \n",
    "- Programowanie genetyczne."
   ]
  },
  {
   "cell_type": "markdown",
   "id": "ed487b91",
   "metadata": {},
   "source": [
    "Podstawowe różnice między grupami:\n",
    "\n",
    "- sposoby reprezentacji osobników (rozwiązań), \n",
    "- rola operatorów genetycznych,\n",
    "- sposoby tworzenia nowych populacji."
   ]
  },
  {
   "cell_type": "markdown",
   "id": "a177f84a",
   "metadata": {},
   "source": [
    "<img src=\"../pliki_wlasne/obliczenia_ewolucyjne.png\" width=\"600\"/>\n",
    "\n",
    "Algorytmy genetyczne\n",
    "- Kodowanie binarne.\n",
    "- Zasadnicza rola krzyżowania.\n",
    "\n",
    "Strategie ewolucyjne\n",
    "- Wektory liczb rzeczywistych. \n",
    "- Zasadnicza rola mutacji.\n",
    "\n",
    "Programowanie ewolucyjne\n",
    "- Tylko mutacja.\n",
    "\n",
    "Programowanie genetyczne\n",
    "- Reprezentacje drzewowe.\n",
    "- Zasadnicza rola krzyżowania."
   ]
  },
  {
   "cell_type": "markdown",
   "id": "4a9cbfdf",
   "metadata": {},
   "source": [
    "### Podstawowe pojęcia\n",
    "\n",
    "Populacja – zbiór osobników o określonej liczebności.\n",
    "\n",
    "Osobniki – zakodowane w postaci chromosomów zbiory parametrów zadania,\n",
    "czyli rozwiązania (punkty przestrzeni poszukiwań).\n",
    "\n",
    "Chromosom (inaczej: łańcuch, ciąg kodowy) – uporządkowany ciąg genów.\n",
    "\n",
    "Genotyp (inaczej: struktura) – zespół chromosomów danego osobnika.\n",
    "\n",
    "Gen (inaczej: cecha) – pojedynczy element genotypu (lub chromosomu).\n",
    "\n",
    "Fenotyp – zestaw wartości odpowiadających danemu genotypowi, czyli zdekodowana struktura.\n",
    "\n",
    "Allel – wartość danego genu.\n",
    "\n",
    "Funkcja przystosowania (inaczej: funkcja dopasowania, funkcja oceny) – miara przystosowania danego osobnika w populacji."
   ]
  },
  {
   "cell_type": "markdown",
   "id": "3294710a",
   "metadata": {},
   "source": [
    "### Funkcja przystosowania\n",
    "\n",
    "Funkcja przystosowania pozwala ocenić stopień przystosowania poszczególnych osobników w populacji i na tej podstawie wybrać osobniki najlepiej przystosowane (o największej wartości funkcji przystosowania).\n",
    "\n",
    "Przykładowe funkcje przystosowania:\n",
    "- funkcja celu, \n",
    "- funkcja błędu, \n",
    "- funkcja kosztu.\n"
   ]
  },
  {
   "cell_type": "markdown",
   "id": "cf33940b",
   "metadata": {},
   "source": [
    "## Algorytmy genetyczne"
   ]
  },
  {
   "cell_type": "markdown",
   "id": "dec372cc",
   "metadata": {},
   "source": [
    "### Algorytmy genetyczne\n",
    "\n",
    "1957 r. - pierwsze prace Alexa Frasera.\n",
    "\n",
    "1975 r. - popularyzacja algorytmów genetycznych - monografia Johna Hollanda: \n",
    "- *Adaptation in Natural and Artificial Systems*\n",
    "\n",
    "Cel\n",
    "- Znalezienie optymalnego rozwiązania problemu."
   ]
  },
  {
   "cell_type": "markdown",
   "id": "4879000f",
   "metadata": {},
   "source": [
    "### Właściwości algorytmów genetycznych\n",
    "- Algorytmy genetyczne nie przetwarzają bezpośrednio parametrów zadania, lecz ich zakodowaną postać.\n",
    "- Algorytmy genetyczne prowadzą poszukiwania, wychodząc nie z pojedynczego punktu, lecz z pewnej ich populacji (pozwala to unikać sytuacji znalezienia ekstremum lokalnego lub „ugrzęźnięcia” w obszarze plateau).\n",
    "- Algorytmy genetyczne korzystają tylko z funkcji celu, nie zaś z jej pochodnych lub innych pomocniczych informacji.\n",
    "- Algorytmy genetyczne stosują probabilistyczne, a nie deterministyczne reguły wyboru."
   ]
  },
  {
   "cell_type": "markdown",
   "id": "ba8e9bf4",
   "metadata": {},
   "source": [
    "### Algorytmy genetyczne\n",
    "\n",
    "W klasycznych algorytmach genetycznych chromosomy są ciągami binarnymi (tj. wartościami genów mogą być tylko 0 albo 1).\n",
    "\n",
    "<img src=\"../pliki_wlasne/chromosom_populacja.png\" width=\"600\"/>"
   ]
  },
  {
   "cell_type": "markdown",
   "id": "003a133a",
   "metadata": {},
   "source": [
    "Osobnik = Reprezentant lepszego lub gorszego rozwiązania problemu.\n",
    "\n",
    "Populacja = Zbiór osobników znajdujących się na danym etapie obliczeń w przestrzeni możliwych rozwiązań (Zbiór potencjalnych rozwiązań problemu).\n",
    "\n",
    "Genotyp = Zwykle jeden chromosom kodowany binarnie (taka reprezentacja jest wygodna w przypadku przeszukiwania dyskretnej przestrzeni rozwiązań)."
   ]
  },
  {
   "cell_type": "markdown",
   "id": "bf22fb2d",
   "metadata": {},
   "source": [
    "### Działanie algorytmu genetycznego\n",
    "<img src=\"../pliki_z_internetu/algorytm_genetyczny.png\" width=\"500\"/>"
   ]
  },
  {
   "cell_type": "markdown",
   "id": "c530100a",
   "metadata": {},
   "source": [
    "###  Operatory genetyczne\n",
    "\n",
    "Krzyżowanie\n",
    "\n",
    "<img src=\"../pliki_wlasne/krzyzowanie.png\" width=\"500\"/>"
   ]
  },
  {
   "cell_type": "markdown",
   "id": "bedb2d9a",
   "metadata": {},
   "source": [
    "Mutacja\n",
    "\n",
    "<img src=\"../pliki_wlasne/mutacja.png\" width=\"500\"/>"
   ]
  },
  {
   "cell_type": "markdown",
   "id": "d9937731",
   "metadata": {},
   "source": [
    "Możliwe również są:\n",
    "\n",
    "- krzyżowanie wielopunktowe, \n",
    "- mutacja wielopunktowa."
   ]
  },
  {
   "cell_type": "markdown",
   "id": "c730e10e",
   "metadata": {},
   "source": [
    "### Selekcja osobników\n",
    "\n",
    "Selekcja najlepiej przystosowanych osobników dokonywana jest na podstawie wartości funkcji przystosowania.\n",
    "\n",
    "Zbiór wyselekcjonowanych osobników stanowi populację rodzicielską. Zbiór ich potomków – populację potomków.\n"
   ]
  },
  {
   "cell_type": "markdown",
   "id": "8a4b8b87",
   "metadata": {},
   "source": [
    "### Losowe metody selekcji\n",
    "\n",
    "Metoda ruletki - wielkość wycinka koła ruletki odpowiadającego osobnikowi jest wprost proporcjonalna do wartości jego funkcji przystosowania (wada: osobniki o zerowej funkcji przystosowania są pozbawione jakichkolwiek szans kreacji nowego pokolenia).\n",
    "\n",
    "- $p(ch_i)=\\frac{F(ch_i)}{\\sum_{k=1}^{n} F(ch_k) } $\n",
    "- $p(ch_i)$ – prawdopodobieństwo selekcji chromosomu $ch_i$ \n",
    "- $F(ch_i)$ - funkcja przystosowania chromosomu $ch_i$"
   ]
  },
  {
   "cell_type": "markdown",
   "id": "b2452d26",
   "metadata": {},
   "source": [
    "Metoda rankingowa - dwa etapy:\n",
    "- lista rankingowa (od osobników najlepiej przystosowanych do osobników najgorzej przystosowanych),\n",
    "- metoda ruletki oparta o rangi przypisane osobnikom."
   ]
  },
  {
   "cell_type": "markdown",
   "id": "809143e7",
   "metadata": {},
   "source": [
    "Metoda turniejowa - dwa etapy:\n",
    "- osobniki dzielone są na podgrupy dowolnego rozmiaru,\n",
    "- z każdej grupy wybierany jest (deterministycznie lub losowo) osobnik o największej wartości funkcji przystosowania."
   ]
  },
  {
   "cell_type": "markdown",
   "id": "f1aa08c2",
   "metadata": {},
   "source": [
    "## Strategie ewolucyjne"
   ]
  },
  {
   "cell_type": "markdown",
   "id": "fd568d8a",
   "metadata": {},
   "source": [
    "### Strategie ewolucyjne\n",
    "\n",
    "Lata 60-te XX w.: Ingo Rechenberg, Hans-Paul Schwefel – badania nad metodami rozwiązywania zadań optymalizacji numerycznej.\n"
   ]
  },
  {
   "cell_type": "markdown",
   "id": "60a8a2bf",
   "metadata": {},
   "source": [
    "Osobnik reprezentowany jest przez parę wektorów:\n",
    "- $(X,\\sigma)$\n",
    "- $X=(X_1, X_2, ... , X_n)$ - umiejscowienie osobnika w $n$-wymiarowej ciągłej przestrzeni rozwiązań.\n",
    "- $\\sigma=(\\sigma_1,\\sigma_2,...,\\sigma_n)$ - ciąg parametrów metody.\n"
   ]
  },
  {
   "cell_type": "markdown",
   "id": "a8819715",
   "metadata": {},
   "source": [
    "<img src=\"../pliki_wlasne/strategie_ewolucyjne.png\" width=\"600\"/>\n",
    "\n",
    "\n",
    "Inicjacja i ocena początkowej populacji rodzicielskiej R\n",
    "\n",
    "Utworzenie populacji potomków P poprzez zastosowanie operatorów genetycznych\n",
    "\n",
    "Ocena populacji P lub P+R\n",
    "\n",
    "Selekcja osobników do nowej populacji rodzicielskiej R\n",
    "\n",
    "Wybór najlepszego osobnika z populacji R"
   ]
  },
  {
   "cell_type": "markdown",
   "id": "120a39af",
   "metadata": {},
   "source": [
    "### Strategia (1+1)\n",
    "- Przetwarzany jest jeden chromosom bazowy $x$. W każdym kroku powstaje nowy osobnik $y$. Na etapie selekcji wybierany jest osobnik (spośród osobników $x$ oraz $y$) z większą wartością funkcji przystosowania.\n",
    "- Chromosom $y$ powstaje poprzez dodanie do każdego z genów chromosomu x pewnej liczby losowej generowanej zgodnie z rozkładem normalnym:\n",
    "    - $y_i=x_i+\\sigma N_i(0,1)$\n",
    "    - $\\sigma$ - parametr określający zasięg mutacji"
   ]
  },
  {
   "cell_type": "markdown",
   "id": "c81f266a",
   "metadata": {},
   "source": [
    "### Strategia ($\\mu$+$\\lambda$)\n",
    "\n",
    "- Początkowa populacja rodzicielska $R$ zawiera $\\mu$ osobników.\n",
    "- W każdym kroku tworzona jest $\\lambda$-elementowa populacja potomków $P$.\n",
    "- Na etapie selekcji dokonuje się wyboru $\\mu$ osobników spośród osobników populacji rodzicielskiej $R$ oraz populacji potomków $P$ do nowej populacji rodzicielskiej $R$."
   ]
  },
  {
   "cell_type": "markdown",
   "id": "cf83e028",
   "metadata": {},
   "source": [
    "### Strategia ($\\mu$, $\\lambda$)\n",
    "\n",
    "- Początkowa populacja rodzicielska $R$ zawiera $\\mu$ osobników.\n",
    "- W każdym kroku tworzona jest $\\lambda$-elementowa populacja potomków $P$.\n",
    "- Na etapie selekcji dokonuje się wyboru $\\mu$ osobników spośród osobników populacji potomków $P$ do nowej populacji rodzicielskiej $R$."
   ]
  },
  {
   "cell_type": "markdown",
   "id": "47aa1cdc",
   "metadata": {},
   "source": [
    "## Programowanie ewolucyjne"
   ]
  },
  {
   "cell_type": "markdown",
   "id": "7e062cd4",
   "metadata": {},
   "source": [
    "### Programowanie ewolucyjne\n",
    "\n",
    "1966 r. - Lawrence J. Fogel – podejście do obliczeń ewolucyjnych nazywane programowaniem ewolucyjnym.\n"
   ]
  },
  {
   "cell_type": "markdown",
   "id": "5a54d73a",
   "metadata": {},
   "source": [
    "Punkty przeszukiwania przestrzeni rozwiązań odpowiadają gatunkom.\n",
    "\n",
    "Nie występuje operacja krzyżowania (brak jest krzyżowania pomiędzy gatunkami).\n",
    "\n",
    "Mutacje:\n",
    "- zmiany radykalne są mało prawdopodobne, \n",
    "- słabe zmiany są preferowane.\n",
    "\n",
    "Brak jest konkretnej formy reprezentacji osobników. Reprezentacja osobnika powinna być adekwatna do danego problemu."
   ]
  },
  {
   "cell_type": "markdown",
   "id": "984c0ef0",
   "metadata": {},
   "source": [
    "<img src=\"../pliki_wlasne/programowanie_ewolucyjne.png\" width=\"600\"/>\n",
    "\n",
    "Inicjacja i ocena początkowej populacji rodzicielskiej $R$\n",
    "\n",
    "Utworzenie populacji potomków $P$ poprzez mutację każdego osobnika z populacji $R$\n",
    "\n",
    "Ocena populacji $P$\n",
    "\n",
    "Selekcja osobników z dotychczasowej populacji $R$ oraz populacji $P$ do nowej populacji rodzicielskiej $R$\n",
    "\n",
    "Wybór najlepszego osobnika z populacji $R$"
   ]
  },
  {
   "cell_type": "markdown",
   "id": "9aaaf070",
   "metadata": {},
   "source": [
    "## Programowanie genetyczne"
   ]
  },
  {
   "cell_type": "markdown",
   "id": "6923434b",
   "metadata": {},
   "source": [
    "### Programowanie genetyczne\n",
    "\n",
    "1985 r. - Michael L. Cramer – przedstawienie idei programowania genetycznego\n",
    "\n",
    "Lata 90-te XX w.: John Koza – monografia: \n",
    "- *Genetic Programming: On the Programming of Computers by Means of Natural Selection*"
   ]
  },
  {
   "cell_type": "markdown",
   "id": "ffec7952",
   "metadata": {},
   "source": [
    "Tworzone są populacje programów.\n",
    "\n",
    "Przeszukiwana jest przestrzeń możliwych programów w celu znalezienia najlepszego (według wcześniej zdefiniowanej funkcji oceny).\n",
    "\n",
    "Wiedza początkowa: elementarne komponenty, z których budowane są programy (np. operacje arytmetyczne, funkcje matematyczne, instrukcje dostępne w danym języku programowania).\n",
    "\n",
    "Konstrukcje programistyczne kodowane są jako struktury drzewiaste."
   ]
  }
 ],
 "metadata": {
   "kernelspec": {
    "display_name": "R",
    "language": "R",
    "name": "ir"
   },
   "language_info": {
    "codemirror_mode": "r",
    "file_extension": ".r",
    "mimetype": "text/x-r-source",
    "name": "R",
    "pygments_lexer": "r",
    "version": "4.1.3"
   }
  },
 "nbformat": 4,
 "nbformat_minor": 5
}
