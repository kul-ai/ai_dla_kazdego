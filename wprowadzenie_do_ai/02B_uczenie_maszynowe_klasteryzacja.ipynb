{
 "cells": [
  {
   "cell_type": "markdown",
   "id": "f7884b1d",
   "metadata": {},
   "source": [
    "# Uczenie maszynowe - klateryzacja"
   ]
  },
  {
   "cell_type": "markdown",
   "id": "06d02b77",
   "metadata": {},
   "source": [
    "### Klasteryzacja – podstawowe założenia\n",
    "\n",
    "<span t=\"l1\">Podstawowym zadaniem klasteryzacji (grupowania) jest dokonanie podziału zbioru przypadków $C$ znajdujących się w bazie na grupy $C_1, C_2, ..., C_k$, nazywane klastrami, stanowiące podzbiory przypadków podobnych do siebie, przy czym pojęcie podobieństwa może być definiowane w różny sposób.</span>\n",
    "\n",
    "<span t=\"l1\">Podział zbioru $C$ powinien być dokonany w taki sposób, aby przypadki z danej grupy były bardziej podobne do siebie (homogeniczność) niż do jakichkolwiek przypadków z pozostałych grup (heterogeniczność).</span>"
   ]
  },
  {
   "cell_type": "markdown",
   "id": "d1832efb",
   "metadata": {},
   "source": [
    "<span t=\"l1\">Istotnym zagadnieniem jest ustalenie liczby $k$ grup, na które zbiór przypadków ma zostać podzielony, gdyż zazwyczaj liczba ta nie jest z góry zadana.</span>\n",
    "\n",
    "<span t=\"l1\">Kryteria klasteryzacji dotyczą interpretacji semantycznej klastrów.</span>\n",
    "\n",
    "<span t=\"l1\">Istotna jest odpowiedź na pytanie dlaczego dwa przypadki przypisywane są do tego samego klastra. W tej kwestii odpowiedź może być udzielona na podstawie dostępnej wiedzy.</span>"
   ]
  },
  {
   "cell_type": "markdown",
   "id": "0cb8aaf4",
   "metadata": {},
   "source": [
    "<span t=\"l1\">W wielu sytuacjach przypadki grupowane są razem ze względu na istniejące pomiędzy nimi zależności takie jak np. noeodróżnialność, podobieństwo, bliskość, funkcjonalność, zgodność.</span>\n",
    "\n",
    "<span t=\"l1\">Istotnym zagadnieniem w procesie klasteryzacji zbioru przypadków jest ustalenie struktury klastrów.</span>\n",
    "\n",
    "<span t=\"l1\">Klastry mogą być parami rozłączne lub też zachodzące na siebie.</span>"
   ]
  },
  {
   "cell_type": "markdown",
   "id": "cfcd06ed",
   "metadata": {},
   "source": [
    "<span t=\"l1\">W przypadku klastrów rozłącznych mówi się o tzw. podziale ostrym. W takiej sytuacji dany przypadek należy tylko do jednego klastra.</span>\n",
    "\n",
    "<span t=\"l1\">W przypadku klastrów zachodzących na siebie mówi się o tzw. podziale rozmytym. Przy tym podziale dany przypadek może należeć do wielu klastrów.</span>\n",
    "\n",
    "<span t=\"l1\">Dodatkowo określany jest stopień przynależności przypadku do danego klastra.</span>\n",
    "\n",
    "<span t=\"l1\">Stopień ten ma wartość rozmytą z przedziału $[0, 1]$. Wynika z tego, że przypadek może należeć do grupy tylko w pewnym stopniu.</span>"
   ]
  },
  {
   "cell_type": "markdown",
   "id": "20815a46",
   "metadata": {},
   "source": [
    "<span t=\"l1\">Dla podziałów rozmytych możliwe są dwie sytuacje:</span>\n",
    "- <span t=\"l2\">W pierwszej z nich suma stopni przynależności danego przypadku do każdego z klastrów jest zawsze równa 1 (tzw. podział probabilistyczny).</span>\n",
    "- <span t=\"l2\">W drugiej sytuacji warunek sumowania się stopni przynależności do 1 nie obowiązuje (tzw. podział posybilistyczny).</span>"
   ]
  },
  {
   "cell_type": "markdown",
   "id": "c156a955",
   "metadata": {},
   "source": [
    "### Miary odległości\n",
    "\n",
    "<span t=\"l1\">Dane są dwa punkty x oraz y w przestrzeni m- wymiarowej:</span>\n",
    "\n",
    "<span t=\"l2\">$x=[x_1, x_2, ...,x_m]$ </span>\n",
    "\n",
    "<span t=\"l2\">$y=[y_1, y_2 ,..., y_m]$</span>\n",
    "\n"
   ]
  },
  {
   "cell_type": "markdown",
   "id": "9bdbec23",
   "metadata": {},
   "source": [
    "<span t=\"l1\">Odległość (metryka) Euklidesa</span>\n",
    "\n",
    "<span t=\"l2\">$ d_{Eukl}(x,y)=\\sqrt{\\sum_{i=1}^{n} (y_i-x_i)^2  } $</span>\n",
    "\n",
    "<span t=\"l1\">Odległość (metryka) Manhattanu</span>\n",
    "\n",
    "<span t=\"l2\">$d_{Manh}(x,y)=\\sum_{i=1}^{n} | y_i-x_i |$</span>\n",
    "\n",
    "<span t=\"l1\">Odległość (metryka) Minkowskiego</span>\n",
    "\n",
    "<span t=\"l2\">$d_{Mink}(x,y)=\\sqrt[q]{\\sum_{i=1}^{n} | y_i-x_i |^q} $</span>"
   ]
  },
  {
   "cell_type": "markdown",
   "id": "e29b6ee2",
   "metadata": {},
   "source": [
    "<span t=\"l1\">Dla atrybutów symbolicznych możemy zdefiniować funkcję R („różne od”).</span>\n",
    "\n",
    "<span t=\"l1\">Dla $i$-tego atrybutu funkcja ma postać: </span>\n",
    "\n",
    "<span t=\"l2\">\n",
    "$R(x_i,y_i)=\\left\\{\n",
    "\\begin{array}{ccc}\n",
    "0&\\mbox{dla}&x_i=y_i\\\\\n",
    "1&\\mbox{}&\\mbox{w przeciwnym przypadku}\n",
    "\\end{array}\n",
    "\\right.$</span>\n",
    "\n",
    "<span t=\"l1\">Funkcja $R$ może zostać zastosowana dla i-tego atrubutu w miarach odległości.</span>\n"
   ]
  },
  {
   "cell_type": "markdown",
   "id": "e5a84854",
   "metadata": {},
   "source": [
    "### Normalizacja wartości atrybutów\n",
    "\n",
    "<span t=\"l1\">Przy wyznaczaniu odległości atrybuty posiadające duże wartości mogą niwelować wpływ innych atrybutów (tych posiadających mniejsze wartości).</span>\n",
    "\n",
    "<span t=\"l1\">W celu wyeliminowania tej sytuacji należy dokonać normalizacji wartości atrybutów.</span>"
   ]
  },
  {
   "cell_type": "markdown",
   "id": "1159e943",
   "metadata": {},
   "source": [
    "<span t=\"l1\">Normalizacja min-max</span>\n",
    "\n",
    "<span t=\"l2\">Dla zbioru wartości atrybutu: $X=\\{x_1,x_2,...,x_k\\}$</span>\n",
    "\n",
    "<span t=\"l2\">Znormalizowanawartość $x_i$ jest obliczana jako: $x_i^{*}=\\frac{x_i- min (X)}{zakres(X)}= \\frac{x_i- min (X)}{max(X)-min(X)}$</span>"
   ]
  },
  {
   "cell_type": "markdown",
   "id": "6a7dd95f",
   "metadata": {},
   "source": [
    "### Algorytmy iteracyjnej optymalizacji\n",
    "\n",
    "<span t=\"l1\">W algorytmach iteracyjnej optymalizacji najlepszy podział zbioru przypadków jest wyznaczany przez iteracyjne polepszanie pewnych wskaźników jakości, startując z początkowego, najczęściej losowego, podziału.</span>"
   ]
  },
  {
   "cell_type": "markdown",
   "id": "7885d163",
   "metadata": {},
   "source": [
    "### Algorytm k-średnich\n",
    "\n",
    "<span t=\"l1\">Algorytm dzieli jednoznacznie zbiór przykładów na $k$ grup.</span>\n",
    "\n",
    "<span t=\"l1\">Środek grupy jest średnią położenia wszystkich przykładów należących do tej grupy.</span>\n",
    "\n"
   ]
  },
  {
   "cell_type": "markdown",
   "id": "9f6a95ae",
   "metadata": {},
   "source": [
    "- <span t=\"l1\">KROK 1: Ustalenie liczby (k) grup, na które zbiór przypadków będzie dzielony.</span>\n",
    "- <span t=\"l1\">KROK 2: Losowe przypisanie k rekordów jako początkowych środków grup.</span>\n",
    "- <span t=\"l1\">KROK 3: Znalezienie dla każdego rekordu najbliższego środka grupy.</span>\n",
    "- <span t=\"l1\">KROK 4: Dla każdej z k grup znalezienie centroidu grupy i uaktualnienie położenie każdego środka grupy jako nową wartość centroidu.</span>\n",
    "- <span t=\"l1\">KROK 5: Powtórzenie kroków od 3 do 5 aż do osiągnięcia warunku zakończenia algorytmu.</span>"
   ]
  },
  {
   "cell_type": "markdown",
   "id": "90d97617",
   "metadata": {},
   "source": [
    "<span t=\"l1\">Obliczenie centroidu grupy dla grupy przypadków.</span>\n",
    "\n",
    "<span t=\"l1\">Dla grupy przypadków</span>\n",
    "\n",
    "<span t=\"l2\">$x^1=[x_1^1, x_2^1, ..., x_m^1]$</span>\n",
    "\n",
    "<span t=\"l2\">$x^2=[x_1^2, x_2^2, ..., x_m^2]$</span>\n",
    "\n",
    "<span t=\"l2\">$...$</span>\n",
    "\n",
    "<span t=\"l2\">$x^n=[x_1^n, x_2^n, ..., x_m^n]$</span>\n",
    "\n",
    "\n",
    "<span t=\"l1\">centroid ma postać:</span>\n",
    "<span t=\"l2\">$(\\frac{\\sum_{i=1}^{n} x_1^i}{n}, \\frac{\\sum_{i=1}^{n} x_2^i}{n}, ...,  \\frac{\\sum _{i=1}^{n} x_m^i}{n})$</span>"
   ]
  },
  {
   "cell_type": "markdown",
   "id": "1a333ce4",
   "metadata": {},
   "source": [
    "<span t=\"l1\">Warunkiem zakończenia algorytmu może być sytuacja gdy dla wszystkich grup wszystkie przypadki przypisane do środka tej grupy pozostają w tej grupie.</span>\n",
    "\n",
    "<span t=\"l1\">Inaczej, algorytm kończy działanie gdy osiągnięte zostanie kryterium zbieżności – minimalizacja sumarycznego błędu kwadratowego ($p$ jest przykładem z $i$-tej grupy, $m_i$ jest centroidem i-tej grupy):</span>\n",
    "\n",
    "<span t=\"l2\">$SSE=\\sum_{i=1}^{k}\\sum_{p \\in C_i}^{} d(p,m_i)^2$</span>"
   ]
  },
  {
   "cell_type": "markdown",
   "id": "058b71f5",
   "metadata": {},
   "source": [
    "### Przykład 1\n",
    "\n",
    "Napisz skrypt dla środowiska R klasteryzaujący wektory danych: [1,3], [3,3], [4,3], [5,3], [1,2], [4,2], [1,1], [2,1] algorytmem k średnich. "
   ]
  },
  {
   "cell_type": "markdown",
   "id": "b76278a5",
   "metadata": {},
   "source": [
    "Krok 1: Tworzymy tablicę informacyjną reprezentującą wektory danych."
   ]
  },
  {
   "cell_type": "code",
   "execution_count": 1,
   "id": "d8873f20",
   "metadata": {},
   "outputs": [
    {
     "name": "stdout",
     "output_type": "stream",
     "text": [
      "  X1 X2\n",
      "1  1  3\n",
      "2  3  3\n",
      "3  4  3\n",
      "4  5  3\n",
      "5  1  2\n",
      "6  4  2\n",
      "7  1  1\n",
      "8  2  1\n"
     ]
    }
   ],
   "source": [
    "data.table<-data.frame(matrix(c(1,3,3,3,4,3,5,3,1,2,4,2,1,1,2,1), ncol=2, byrow=TRUE));\n",
    "print(data.table)"
   ]
  },
  {
   "cell_type": "markdown",
   "id": "bdfd7c8b",
   "metadata": {},
   "source": [
    "<span t=\"l1\">Krok 2: Wywołujemy funckję $kmeans$ implementującą algorytm k średnich z parametrami:</span>\n",
    "- <span t=\"l2\">$x$ - tablica informacyjna, </span>\n",
    "- <span t=\"l2\">$centers$ - liczba klastrów, </span>\n",
    "- <span t=\"l2\">$iter.max$ - maksymalna liczba iteracji. </span>"
   ]
  },
  {
   "cell_type": "code",
   "execution_count": 7,
   "id": "15f2145c",
   "metadata": {},
   "outputs": [],
   "source": [
    "kmeans.clustering<-kmeans(x=data.table, centers=2, iter.max=100);"
   ]
  },
  {
   "cell_type": "markdown",
   "id": "276d4fe8",
   "metadata": {},
   "source": [
    "Krok 3: Z wyniku klasteryzacji pobieramy informację o przypisaniu wektorów do poszczególnych klastrów i dodajemy tą informację do tablicy informacyjnej."
   ]
  },
  {
   "cell_type": "code",
   "execution_count": 22,
   "id": "0be8ec0a",
   "metadata": {},
   "outputs": [
    {
     "name": "stdout",
     "output_type": "stream",
     "text": [
      "  X1 X2 kmeans.clusters\n",
      "1  1  3               1\n",
      "2  3  3               2\n",
      "3  4  3               2\n",
      "4  5  3               2\n",
      "5  1  2               1\n",
      "6  4  2               2\n",
      "7  1  1               1\n",
      "8  2  1               1\n"
     ]
    }
   ],
   "source": [
    "kmeans.clusters<-kmeans.clustering$cluster;\n",
    "output.table<-cbind(data.table, kmeans.clusters);\n",
    "print(output.table)"
   ]
  },
  {
   "cell_type": "markdown",
   "id": "ba0bd58b",
   "metadata": {},
   "source": [
    "Krok 4: Wyświetalmy informację o wynikowych centroidach klastrów oraz o rozmiarze klastrów."
   ]
  },
  {
   "cell_type": "code",
   "execution_count": 10,
   "id": "48963ab2",
   "metadata": {},
   "outputs": [
    {
     "name": "stdout",
     "output_type": "stream",
     "text": [
      "    X1   X2\n",
      "1 1.25 1.75\n",
      "2 4.00 2.75\n"
     ]
    }
   ],
   "source": [
    "print(kmeans.clustering$centers)"
   ]
  },
  {
   "cell_type": "code",
   "execution_count": 11,
   "id": "40b05f35",
   "metadata": {},
   "outputs": [
    {
     "name": "stdout",
     "output_type": "stream",
     "text": [
      "[1] 4 4\n"
     ]
    }
   ],
   "source": [
    "print(kmeans.clustering$size)"
   ]
  },
  {
   "cell_type": "markdown",
   "id": "bfc4983f",
   "metadata": {},
   "source": [
    "### Klasteryzacja hierarchiczna\n",
    "\n",
    "<span t=\"l1\">W klasteryzacji hierarchicznej danych tworzona jest struktura drzewiasta (dendrogram) poprzez rekurencyjne dzielenie lub łączenie istniejących grup.</span>\n",
    "\n",
    "<span t=\"l1\">Metody aglomeracyjne:</span>\n",
    "\n",
    "- <span t=\"l2\">na początku zakłada się, że każdy przykład stanowi oddzielną grupę,</span>\n",
    "- <span t=\"l2\">w kolejnych krokach dwie grupy, które są najbliżej siebie, łączy się w nową wspólną grupę,</span>\n",
    "- <span t=\"l2\">ostatecznie wszystkie przykłady należą do jednej grupy.</span>"
   ]
  },
  {
   "cell_type": "markdown",
   "id": "6b8e52c2",
   "metadata": {},
   "source": [
    "<span t=\"l1\">Metody rozdzielające:</span>\n",
    "\n",
    "- <span t=\"l2\">na początku zakłada się, że wszystkie przykłady należą do jednej grupy,</span>\n",
    "- <span t=\"l2\">w kolejnych krokach najbardziej niepodobne przykłady rozdzielane są w osobne grupy, </span>\n",
    "- <span t=\"l2\">ostatecznie każdy przykład stanowi oddzielną grupę.</span>"
   ]
  },
  {
   "cell_type": "markdown",
   "id": "ee740d7f",
   "metadata": {},
   "source": [
    "<span t=\"l1\">Kryteria określania odległości pomiędzy grupami:</span>\n",
    "- <span t=\"l2\">metoda pojedynczego połączenia (metoda najbliższego sąsiedztwa) – określana jest minimalna odległość pomiędzy dwoma przykładami należącymi do różnych grup,</span>\n",
    "- <span t=\"l2\">metoda całkowitego połączenia (metoda najdalszego sąsiedztwa) – określana jest maksymalna odległość pomiędzy dwoma przykładami należącymi do różnych grup,</span>\n",
    "- <span t=\"l2\">metoda średniego połączenia – określana jest średnia odległość pomiędzy wszystkimi przykładami z jednej grupy i wszystkimi przykładami z drugiej grupy.</span>\n"
   ]
  },
  {
   "cell_type": "markdown",
   "id": "d9c5486f",
   "metadata": {},
   "source": [
    "<img src=\"../pliki_wlasne/klasteryzacja_hierarchiczna.png\" width=\"500\"/>"
   ]
  },
  {
   "cell_type": "markdown",
   "id": "50e26f2f",
   "metadata": {},
   "source": [
    "### Przykład 2\n",
    "\n",
    "Napisz skrypt dla środowiska R klateryzaujący wektory danych: [1,3], [3,3], [4,3], [5,3], [1,2], [4,2], [1,1], [2,1] algorytmem klateryzacji aglomeracyjnej. "
   ]
  },
  {
   "cell_type": "markdown",
   "id": "6ae3128c",
   "metadata": {},
   "source": [
    "Krok 1: Instalujemy i importujemy pakiet cluster udostępniający m.in. algorytmy klateryzacji hierarchicznej."
   ]
  },
  {
   "cell_type": "code",
   "execution_count": 12,
   "id": "57484c7d",
   "metadata": {},
   "outputs": [
    {
     "name": "stderr",
     "output_type": "stream",
     "text": [
      "Installing package into 'C:/Users/Turnello/Documents/R/win-library/3.6'\n",
      "(as 'lib' is unspecified)\n"
     ]
    },
    {
     "name": "stdout",
     "output_type": "stream",
     "text": [
      "\n",
      "  There is a binary version available but the source version is later:\n",
      "        binary source needs_compilation\n",
      "cluster  2.1.2  2.1.4              TRUE\n",
      "\n",
      "  Binaries will be installed\n"
     ]
    },
    {
     "name": "stderr",
     "output_type": "stream",
     "text": [
      "Warning message:\n",
      "\"package 'cluster' is in use and will not be installed\""
     ]
    }
   ],
   "source": [
    "install.packages(\"cluster\");\n",
    "library(cluster);"
   ]
  },
  {
   "cell_type": "markdown",
   "id": "74270b88",
   "metadata": {},
   "source": [
    "Krok 2: Tworzymy tablicę informacyjną reprezentującą wektory danych."
   ]
  },
  {
   "cell_type": "code",
   "execution_count": 14,
   "id": "672a3283",
   "metadata": {},
   "outputs": [
    {
     "name": "stdout",
     "output_type": "stream",
     "text": [
      "  X1 X2\n",
      "1  1  3\n",
      "2  3  3\n",
      "3  4  3\n",
      "4  5  3\n",
      "5  1  2\n",
      "6  4  2\n",
      "7  1  1\n",
      "8  2  1\n"
     ]
    }
   ],
   "source": [
    "data.table<-data.frame(matrix(c(1,3,3,3,4,3,5,3,1,2,4,2,1,1,2,1), ncol=2, byrow=TRUE));\n",
    "print(data.table)"
   ]
  },
  {
   "cell_type": "markdown",
   "id": "8b664101",
   "metadata": {},
   "source": [
    "<span t=\"l1\">Krok 3: Wywołujemy funckję $agnes$ implementującą algorytm klasteryzacji aglomeracyjnej z parametrami:</span>\n",
    "- <span t=\"l2\">$x$ - tablica informacyjna, </span>\n",
    "- <span t=\"l2\">$metric$ - metryka, </span>\n",
    "- <span t=\"l2\">$method$ - metoda określania odległości pomiędzy grupami. </span>"
   ]
  },
  {
   "cell_type": "code",
   "execution_count": 18,
   "id": "4f98bf1f",
   "metadata": {},
   "outputs": [],
   "source": [
    "agl.clustering<-agnes(x=data.table, metric=\"euclidean\", method=\"average\");"
   ]
  },
  {
   "cell_type": "markdown",
   "id": "122fafc4",
   "metadata": {},
   "source": [
    "Krok 4: Z wyniku klasteryzacji pobieramy informację o przypisaniu wektorów do poszczególnych klastrów przy cięciu na poziomie 2 i dodajemy tą informację do tablicy informacyjnej."
   ]
  },
  {
   "cell_type": "code",
   "execution_count": 24,
   "id": "12015d5f",
   "metadata": {},
   "outputs": [
    {
     "name": "stdout",
     "output_type": "stream",
     "text": [
      "  X1 X2 agl.clusters\n",
      "1  1  3            1\n",
      "2  3  3            2\n",
      "3  4  3            2\n",
      "4  5  3            2\n",
      "5  1  2            1\n",
      "6  4  2            2\n",
      "7  1  1            1\n",
      "8  2  1            1\n"
     ]
    }
   ],
   "source": [
    "agl.clusters<-cutree(agl.clustering, k=2);\n",
    "output.table<-cbind(data.table, agl.clusters);\n",
    "print(output.table)"
   ]
  },
  {
   "cell_type": "markdown",
   "id": "0d6c2c32",
   "metadata": {},
   "source": [
    "Krok 5: Rysujemy wynikowy dendrogram."
   ]
  },
  {
   "cell_type": "code",
   "execution_count": 20,
   "id": "21ab419d",
   "metadata": {},
   "outputs": [
    {
     "data": {
      "image/png": "[encoded data removed]",
      "text/plain": [
       "Plot with title \"Dendrogram of  agnes(x = data.table, metric = \"euclidean\", method =\n",
       "       \"average\")\""
      ]
     },
     "metadata": {},
     "output_type": "display_data"
    }
   ],
   "source": [
    "plot(agl.clustering, which.plots=2);"
   ]
  }
 ],
 "metadata": {
  "kernelspec": {
   "display_name": "R",
   "language": "R",
   "name": "ir"
  },
  "language_info": {
   "codemirror_mode": "r",
   "file_extension": ".r",
   "mimetype": "text/x-r-source",
   "name": "R",
   "pygments_lexer": "r",
   "version": "3.6.1"
  }
 },
 "nbformat": 4,
 "nbformat_minor": 5
}
