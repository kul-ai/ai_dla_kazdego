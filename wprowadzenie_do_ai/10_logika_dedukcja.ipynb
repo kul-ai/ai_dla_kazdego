{
 "cells": [
  {
   "cell_type": "markdown",
   "id": "86c53d04",
   "metadata": {},
   "source": [
    "# Logika i dedukcja"
   ]
  },
  {
   "cell_type": "markdown",
   "id": "ab193b4d",
   "metadata": {},
   "source": [
    "## Logika i wnioskowanie"
   ]
  },
  {
   "cell_type": "markdown",
   "id": "6f268adc",
   "metadata": {},
   "source": [
    "### Logika\n",
    "- <span t=\"l1\">Logika - narzędzie formalnego opisu dedukcji.</span>\n",
    "- <span t=\"l1\">Dedukcja - wyprowadzanie prawdziwych stwierdzeń (wniosków) ze stwierdzeń przyjmowanych za prawdziwe (przesłanek).</span>"
   ]
  },
  {
   "cell_type": "markdown",
   "id": "9c1d5c86",
   "metadata": {},
   "source": [
    "### Wnioskowanie logiczne\n",
    "\n",
    "<span t=\"l1\">Sylogizm przykład:</span>\n",
    "\n",
    "- <span t=\"l2\">Przesłanka: Wszyscy ludzie są śmiertelni </span>\n",
    "- <span t=\"l2\">Przesłanka: A jest człowiekiem</span>\n",
    "- <span t=\"l2\">Wniosek: A jest śmiertelny</span>"
   ]
  },
  {
   "cell_type": "markdown",
   "id": "cf8c1480",
   "metadata": {},
   "source": [
    "<span t=\"l1\">Reguła modus ponens: </span>\n",
    "\n",
    "<span t=\"l2\">$\\frac{\n",
    "    \\begin{array}{c@{}c@{}}\n",
    "      A\\\\\n",
    "      \\mbox{Jeśli } A \\mbox{, to } B\n",
    "    \\end{array}\n",
    "    }{\\begin{array}{c@{}c@{}}\n",
    "      B\n",
    "    \\end{array}}$</span>\n",
    "\n",
    "<span t=\"l1\">Z prawdziwości A oraz Jeśli A, to B wynika prawdziwość B.</span>\n"
   ]
  },
  {
   "cell_type": "markdown",
   "id": "8262cddb",
   "metadata": {},
   "source": [
    "<span t=\"l1\">Reguła modus tollens: </span>\n",
    "\n",
    "<span t=\"l2\">$\\frac{\n",
    "    \\begin{array}{c@{}c@{}}\n",
    "      \\mbox{nie }B\\\\\n",
    "      \\mbox{Jeśli } A \\mbox{, to } B\n",
    "    \\end{array}\n",
    "    }{\\begin{array}{c@{}c@{}}\n",
    "      \\mbox{nie }A\n",
    "    \\end{array}}$</span>\n",
    "\n",
    "<span t=\"l1\">Z fałszywości B oraz Jeśli A, to B wynika fałszywość A.</span>"
   ]
  },
  {
   "cell_type": "markdown",
   "id": "486b0746",
   "metadata": {},
   "source": [
    "## Rachunek zdań i rachunek predykatów\n",
    "\n"
   ]
  },
  {
   "cell_type": "markdown",
   "id": "1ae24cb8",
   "metadata": {},
   "source": [
    "### Rachunek zdań i rachunek predykatów\n",
    "\n",
    "- <span t=\"l1\">W rachunku zdań stwierdzenia są zbudowane ze zmiennych zdaniowych reprezentujących zdania niemające wewnętrznej struktury.</span>\n",
    "- <span t=\"l1\">Niektóre teorie matematyczne nie mogą być wyrażone za pomocą rachunku zdań.</span>\n",
    "- <span t=\"l1\">Rachunek predykatów (logika pierwszego rzędu) – system logiczny dopuszczający funkcje określone w pewnych dziedzinach (np. liczbowych) o wartościach logicznych.</span>"
   ]
  },
  {
   "cell_type": "markdown",
   "id": "4e44c6bd",
   "metadata": {},
   "source": [
    "### Rachunek predykatów\n",
    "\n",
    "<span t=\"l1\">Przykłady:</span>\n",
    "- <span t=\"l2\">Dla każdej chwili czasowej $t$ wartość wyrażenia $10>5$ jest zawsze prawdą.</span>\n",
    "- <span t=\"l2\">Istnieje chwila czasowa $t$ taka, że stwierdzenie „temperatura powietrza w chwili $t$ wynosi 25  st. C” jest prawdziwe.</span>"
   ]
  },
  {
   "cell_type": "markdown",
   "id": "028925ef",
   "metadata": {},
   "source": [
    "## Programowanie w logice"
   ]
  },
  {
   "cell_type": "markdown",
   "id": "b59bf30a",
   "metadata": {},
   "source": [
    "### Programowanie w logice\n",
    "\n",
    "<span t=\"l1\">Programowanie w logice – zastosowanie systemów dowodzenia twierdzeń do wykonywania obliczeń.</span>\n",
    "\n",
    "<span t=\"l1\">Programując w logice nie podaje się kolejnych kroków obliczeniowych koniecznych do znalezienia rozwiązania, lecz tworzy się formułę logiczną opisującą relacje między danymi wejściowymi a wyjściowymi, a następnie uruchamia się system dowodzenia twierdzeń w celu znalezienia odpowiedzi.</span>\n",
    "\n",
    "<span t=\"l1\">Programowanie w logice jest programowaniem deklaratywnym.</span>\n",
    "\n"
   ]
  },
  {
   "cell_type": "markdown",
   "id": "95b9b1da",
   "metadata": {},
   "source": [
    "### Klauzula Horna\n",
    "\n",
    "<span t=\"l1\">Klauzulą Horna nazywamy klauzulę</span>\n",
    "- <span t=\"l2\">$A \\leftarrow B_{1},B_{2}, ..., B_m $</span>\n",
    "\n",
    "<span t=\"l1\">mającą co najwyżej jeden literał pozytywny.</span>\n",
    "\n",
    "- <span t=\"l2\">Literał pozytywny $A$ nazywany jest nagłówkiem klauzuli.</span>\n",
    "- <span t=\"l2\">Literały negatywne $B_{1},B_{2}, ..., B_m$ nazywane są treścią klauzuli.</span>"
   ]
  },
  {
   "cell_type": "markdown",
   "id": "9a792f5d",
   "metadata": {},
   "source": [
    "<span t=\"l1\">Pozytywna klauzula Horna</span>\n",
    "\n",
    "<span t=\"l2\">$A \\leftarrow$</span>\n",
    "\n",
    "<span t=\"l1\">nazywana jest faktem (klauzulą unarną).</span>\n",
    "\n",
    "<span t=\"l1\">Klauzula Horna</span>\n",
    "\n",
    "<span t=\"l2\">$\\leftarrow B_{1},B_{2}, ..., B_m$ </span>\n",
    "\n",
    "<span t=\"l1\">bez żadnego literału pozytywnego nazywana jest klauzulą negatywną.</span>\n",
    "\n",
    "<span t=\"l1\">Klauzula Horna zawierającą jeden literał pozytywny i dowolną liczbę literałów negatywnych nazywana jest klauzulą programu.</span>"
   ]
  },
  {
   "cell_type": "markdown",
   "id": "8ca01e9f",
   "metadata": {},
   "source": [
    "###  Postać klauzulowa twierdzeń w rachunku predykatów\n",
    "\n",
    "<span t=\"l1\">Przekształcenie wyrażenia rachunku predykatów do postaci klauzulowej:</span>\n",
    "\n",
    "- <span t=\"l2\">ETAP 1: Przemianowanie zmiennych tak, aby żadna zmienna nie występowała w dwóch kwantyfikatorach jednocześnie.</span>\n",
    "- <span t=\"l2\">ETAP 2: Usunięcie wszystkich operatorów logicznych z wyjątkiem negacji, alternatywy i koniunkcji przez zastosowanie równoważności logicznych.</span>\n",
    "- <span t=\"l2\">ETAP 3: Przekształcenie wyrażenia do postaci, w której negacje występują tylko przy wyrażeniach atomowych.</span>\n",
    "- <span t=\"l2\">ETAP 4: Skolemizacja - wyeliminowanie kwantyfikatorów egzystencjalnych przez wprowadzenie stałych Skolema lub funkcji Skolema w miejsce zmiennych wprowadzanych przez te kwantyfikatory.</span>"
   ]
  },
  {
   "cell_type": "markdown",
   "id": "a959343b",
   "metadata": {},
   "source": [
    "\n",
    "<span t=\"l1\">Skolemizacja:</span>\n",
    "\n",
    "<img src=\"../pliki_wlasne/skolemizacja.png\" width=\"400\" />\n",
    "\n"
   ]
  },
  {
   "cell_type": "markdown",
   "id": "721087d2",
   "metadata": {},
   "source": [
    "<span t=\"l1\">Kolejne etapy przekształcenie wyrażenia rachunku predykatów do postaci klauzulowej:</span>\n",
    "- <span t=\"l2\">ETAP 5: Przesunięcie kwantyfikatorów uniwersalnych na zewnątrz (poza wyrażenie).</span>\n",
    "- <span t=\"l2\">ETAP 6: Przekształcenie wyrażenia do normalnej postaci koniunkcyjnej.</span>\n",
    "- <span t=\"l2\">ETAP 7: Przekształcenie wyrażenia w klauzule.</span>"
   ]
  },
  {
   "cell_type": "markdown",
   "id": "cdd21c40",
   "metadata": {},
   "source": [
    "### Równoważności logiczne\n",
    "\n",
    "- <span t=\"l1\">$\\neg \\forall x A(x) \\equiv \\exists x \\neg A(x)$</span>  \n",
    "- <span t=\"l1\">$\\neg \\exists x A(x) \\equiv \\forall x \\neg A(x)$</span> \n",
    "- <span t=\"l1\">$A op Qx B(x) \\equiv Q x A op B(x)$</span>\n",
    "- <span t=\"l1\">$Qx A(x) op B \\equiv Qx (A(x) op B)$</span>"
   ]
  },
  {
   "cell_type": "markdown",
   "id": "bef2096d",
   "metadata": {},
   "source": [
    "### Zapis klauzul\n",
    "\n",
    "<span t=\"l1\">$P_{1}; P_{2}; ...; P_{m} \\mbox{ :- } Q_{1}, Q_{2}, ..., Q_{n}$</span>\n",
    "\n",
    "<span t=\"l1\">Literały bez negacji:</span>\n",
    "\n",
    "<span t=\"l2\">$P_{1}, P_{2}, ..., P_{m}$</span>\n",
    "\n",
    "<span t=\"l1\">Literały z negacjami:</span>\n",
    "\n",
    "<span t=\"l2\">$Q_{1}, Q_{2}, ..., Q_{n}$</span>"
   ]
  },
  {
   "cell_type": "markdown",
   "id": "d3f3c8c0",
   "metadata": {},
   "source": [
    "### Procedura, program w logice, baza danych\n",
    "\n",
    "<span t=\"l1\">Procedura – zbiór klauzul Horna, w których nagłówku występuje ten sam symbol predykatywny.</span>\n",
    "\n",
    "<span t=\"l1\">Program w logice – zbiór procedur.</span>\n",
    "\n",
    "<span t=\"l1\">Baza danych – procedura złożona wyłącznie z ustalonych faktów.</span>\n"
   ]
  },
  {
   "cell_type": "markdown",
   "id": "bbf1042d",
   "metadata": {},
   "source": [
    "### Język Prolog\n",
    "\n",
    "<span t=\"l1\">Język Prolog jest deklaratywnym językiem programowania w logice.</span>\n",
    "\n",
    "<span t=\"l1\">Program w Prologu składa się ze zbioru klauzul.</span>\n",
    "\n",
    "<span t=\"l1\">Programowanie w Prologu składa się z:</span>\n",
    "\n",
    "- <span t=\"l2\">Deklarowania faktów. </span>\n",
    "- <span t=\"l2\">Definiowania reguł. </span>\n",
    "- <span t=\"l2\">Konstruowania zapytań.</span>"
   ]
  },
  {
   "cell_type": "markdown",
   "id": "364d4039",
   "metadata": {},
   "source": [
    "### Fakty\n",
    "\n",
    "<span t=\"l1\">$relacja(obiekt_1, obiekt_2, ..., obiekt_n).$</span>\n",
    "\n",
    "<span t=\"l1\">Przykłady:</span>\n",
    "- <span t=\"l2\">$rodzic(jan, piotr).$ </span>\n",
    "- <span t=\"l2\">$kobieta(anna).$</span>\n",
    "- <span t=\"l2\">$przesyla(komputer_1, dane, komputer_2).$</span>\n",
    "\n",
    "\n",
    "<span t=\"l1\">Nazwa relacji jest predykatem </span>\n",
    "<span t=\"l1\">Obiekty nazywamy argumentami</span>\n"
   ]
  },
  {
   "cell_type": "markdown",
   "id": "7a8076a8",
   "metadata": {},
   "source": [
    "### Zapytania\n",
    "\n",
    "<span t=\"l1\">?- $relacja(obiekt_1, obiekt_2, ..., obiekt_n). $</span>\n",
    "\n",
    "<span t=\"l1\">Przykłady:</span>\n",
    "- ?- <span t=\"l2\">$rodzic(jan, piotr).$</span>\n",
    "- ?- <span t=\"l2\">$kobieta(anna).$</span>\n",
    "- ?- <span t=\"l2\">$przesyla(komputer_1, dane, komputer_2).$</span>\n"
   ]
  },
  {
   "cell_type": "markdown",
   "id": "070cfd77",
   "metadata": {},
   "source": [
    "### Zmienne\n",
    "\n",
    "<span t=\"l1\">Nazwy zmiennych w Prologu muszą zaczynać się od dużych liter.</span>\n",
    "\n",
    "<span t=\"l1\">Jeśli w zapytaniu występuje zmienna, Prolog przeszukuje wszystkie fakty, aby znaleźć obiekt, który można podstawić za zmienną.</span>\n",
    "\n",
    "<span t=\"l1\">Prolog przeszukuje bazę danych w takiej kolejności w jakiej została zapisana.</span>\n"
   ]
  },
  {
   "cell_type": "markdown",
   "id": "5bafa028",
   "metadata": {},
   "source": [
    "### Koniunkcja\n",
    "\n",
    "<span t=\"l1\">?- $relacja^1(obiekt_1^1, obiekt_2^1, ..., obiekt_n^1), ..., relacja^k(obiekt_1^k, obiekt_2^k, ..., obiekt_m^k).$</span>\n",
    "\n",
    "<span t=\"l1\">Przykład:</span>\n",
    "- <span t=\"l2\">?- $rodzic(jan, X), rodzic(piotr, X).$</span>"
   ]
  },
  {
   "cell_type": "markdown",
   "id": "239c4663",
   "metadata": {},
   "source": [
    "### Reguły\n",
    "\n",
    "<span t=\"l1\">Reguły to ogólne stwierdzenia dotyczące obiektów i ich powiązań</span>\n",
    "\n",
    "<span t=\"l1\">Reguła składa się z głowy i treści:</span>\n",
    "\n",
    "- <span t=\"l2\">$głowa \\mbox{ :- } treść$</span>\n",
    "\n",
    "<span t=\"l1\">Przykład:</span>\n",
    "- <span t=\"l2\"> $siostra(X,Y) \\mbox{ :- }  kobieta(X), rodzice(X,M,O), rodzice(Y,M,O).$</span>\n",
    "\n",
    "- <span t=\"l2\">M – matka </span>\n",
    "- <span t=\"l2\">O - ojciec</span>\n",
    "\n",
    "\n"
   ]
  },
  {
   "cell_type": "markdown",
   "id": "38f5e868",
   "metadata": {},
   "source": [
    "## Zbiory"
   ]
  },
  {
   "cell_type": "markdown",
   "id": "d88255d7",
   "metadata": {},
   "source": [
    "### Zbiór klasyczny („ostry”)\n",
    "\n",
    "<span t=\"l1\">W zbiorze klasycznym elementy albo należą, albo nie należą do tego zbioru.</span>\n",
    "- <span t=\"l2\">$a\\in A$ - element $a$ należy do zbioru $A$</span>\n",
    "- <span t=\"l2\">$b \\not\\in A$ - element $b$ nie należy do zbioru $A$</span>\n",
    "\n",
    "<span t=\"l1\">Funkcja charakterystyczna:</span>\n",
    "\n",
    "- <span t=\"l2\">$\\Phi_A(x) = 1$ -  gdy element $x$ należy do zbioru $A$</span>\n",
    "- <span t=\"l2\">$\\Phi_A(x) = 0$ = gdy element $x$ nie należy do zbioru $A$</span>"
   ]
  },
  {
   "cell_type": "markdown",
   "id": "77d89333",
   "metadata": {},
   "source": [
    "<span t=\"l1\">Przykład</span>\n",
    "\n",
    "- <span t=\"l2\">$U$ – uniwersum (przestrzeń rozważań): zbiór liczb $\\{0,1,2,3,4,5,6,7,8\\}$ </span>\n",
    "- <span t=\"l2\">$A$ – zbiór liczb bliskich liczbie 4, np. $A=\\{3,4,5\\}$</span>\n",
    "- <span t=\"l2\">$3,4,5 \\in A$ </span>\n",
    "- <span t=\"l2\">$0,1,2,6,7,8 \\not\\in A$</span>\n",
    "\n",
    "<img src=\"../pliki_wlasne/zbior_ostry.png\" width=\"400\" />\n",
    "\n"
   ]
  },
  {
   "cell_type": "markdown",
   "id": "4828ba6d",
   "metadata": {},
   "source": [
    "### Zbiór rozmyty\n",
    "<span t=\"l1\">W zbiorze rozmytym elementy mogą należeć do tego zbioru w pewnym stopniu (częściowo).</span>\n",
    "\n",
    "<span t=\"l1\">Funkcja przynależności:</span>\n",
    "- <span t=\"l2\">$\\mu_A(x) =1$ - gdy element $x$ w pełni należy do zbioru $A$</span>\n",
    "- <span t=\"l2\">$0<\\mu_A(x)<1$ - gdy element $x$ częściowo należy do zbioru $A$ </span>\n",
    "- <span t=\"l2\">$\\mu_A(x) =0$ - gdy element $x$ nie należy do zbioru $A$</span>"
   ]
  },
  {
   "cell_type": "markdown",
   "id": "aa2a83b4",
   "metadata": {},
   "source": [
    "<span t=\"l1\">$A=\\{(x, \\mu_A(x)): x \\in X\\}$</span>\n",
    "\n",
    "- <span t=\"l2\">gdzie $\\mu_A \\in [0,1]$</span>\n",
    "\n",
    "- <span t=\"l2\">$X$ - uniwersum (przestrzeń rozważeń)</span>\n",
    "\n",
    "<span t=\"l1\">$A=\\frac{\\mu_A(x_1)}{x_1} + \\frac{\\mu_A(x_2)}{x_2} + ... + \\frac{\\mu_A(x_k)}{x_k}$</span>\n",
    "\n",
    "- <span t=\"l2\">$x_1,x_2,...,x_k \\in X $</span>"
   ]
  },
  {
   "cell_type": "markdown",
   "id": "63d4023e",
   "metadata": {},
   "source": [
    "<span t=\"l1\">Przykład</span>\n",
    "\n",
    "- <span t=\"l2\">$U$ – uniwersum (przestrzeń rozważań): zbiór liczb $\\{0,1,2,3,4,5,6,7,8\\}$</span>\n",
    "- <span t=\"l2\">$A$ – zbiór liczb bliskich liczbie 4,</span>\n",
    "\n",
    "- <span t=\"l2\">$A=\\frac{0}{0} + \\frac{0}{1} + \\frac{0.4}{2} + \\frac{0.8}{3} + \\frac{1}{4} + \\frac{0.8}{5} + \\frac{0.4}{6} + \\frac{0}{7} + \\frac{0}{8}$</span>\n",
    "\n",
    "<img src=\"../pliki_wlasne/zbior_rozmyty.png\" width=\"400\" />"
   ]
  },
  {
   "cell_type": "markdown",
   "id": "dbf9e1fa",
   "metadata": {},
   "source": [
    "###  Typy funkcji przynależności\n",
    "\n",
    "\n",
    "<img src=\"../pliki_wlasne/typy_funkcji_przynaleznosci.png\" width=\"600\" />"
   ]
  },
  {
   "cell_type": "markdown",
   "id": "fa171262",
   "metadata": {},
   "source": [
    "<img src=\"../pliki_wlasne/typy_funkcji_przynaleznosci2.png\" width=\"600\" />"
   ]
  },
  {
   "cell_type": "markdown",
   "id": "e36e7ea0",
   "metadata": {},
   "source": [
    "###  Operacje na zbiorach rozmytych\n",
    "\n",
    "<span t=\"l1\">$A, B$ – zbiory rozmyte w przestrzeni rozważań $X$</span>\n",
    "\n",
    "<span t=\"l1\">Przecięcie zbiorów rozmytych:</span>\n",
    "\n",
    "<span t=\"l2\">$\\mu_{A \\cap B}(x)=min(\\mu_A(x), \\mu_B(x))$, dla każdego $x \\in X$ </span>\n",
    "\n",
    "<span t=\"l1\">Suma zbiorów rozmytych:</span>\n",
    "\n",
    "<span t=\"l2\">$\\mu_{A \\cup B}(x)=max(\\mu_A(x), \\mu_B(x))$, dla każdego $x \\in X$ </span>\n",
    "\n",
    "\n",
    "<span t=\"l1\">Dopełnienie zbioru rozmytego:</span>\n",
    "\n",
    "<span t=\"l2\">$\\mu_{\\neg A}(x)=1-\\mu_A(x)$, dla każdego $x \\in X$ </span>\n",
    "\n"
   ]
  },
  {
   "cell_type": "markdown",
   "id": "7a58e09c",
   "metadata": {},
   "source": [
    "### Normy trójkątne\n",
    "\n",
    "<span t=\"l1\">$A, B$ – zbiory rozmyte w przestrzeni rozważań $X$ </span>\n",
    "\n",
    "<span t=\"l1\">Uogólnienie przecięcia zbiorów rozmytych:</span>\n",
    "\n",
    "- <span t=\"l2\">$\\mu_{A \\cap B}(x)=T(\\mu_A(x), \\mu_B(x))$, dla każdego $x \\in X$ </span>\n",
    "- <span t=\"l2\">T - t-norma</span>\n",
    "\n",
    "<span t=\"l1\">Uogólnienie sumy zbiorów rozmytych:</span>\n",
    "- <span t=\"l2\">$\\mu_{A \\cup B}(x)=S(\\mu_A(x), \\mu_B(x))$, dla każdego $x \\in X$ </span>\n",
    "- <span t=\"l2\">S - s-norma</span>\n"
   ]
  },
  {
   "cell_type": "markdown",
   "id": "9ecd835c",
   "metadata": {},
   "source": [
    "<span t=\"l1\">t-norma</span>\n",
    "\n",
    "<span t=\"l2\">$T: [0,1] \\times [0,1] \\rightarrow [0,1]$</span>\n",
    "\n",
    "<span t=\"l2\">$T(a,c) \\leq T(b,d)$ dla $a \\leq b$, $c \\leq d$</span>\n",
    "\n",
    "<span t=\"l2\">$T(a,b)=T(b,a)$</span>\n",
    "\n",
    "<span t=\"l2\">$T(T(a,b),c)=T(a,T(b,c))$</span>\n",
    "\n",
    "<span t=\"l2\">$T(a,1)=a$</span>\n",
    "\n",
    "<span t=\"l2\">$T(a,0)=0$</span>\n",
    "\n",
    "<span t=\"l2\">$a,b,c,d \\in [0,1]$</span>"
   ]
  },
  {
   "cell_type": "markdown",
   "id": "383851e8",
   "metadata": {},
   "source": [
    "<span t=\"l1\">s-norma</span>\n",
    "\n",
    "<span t=\"l2\">$S: [0,1] \\times [0,1] \\rightarrow [0,1]$</span>\n",
    "\n",
    "<span t=\"l2\">$S(a,c) \\leq S(b,d)$ dla $a \\leq b$, $c \\leq d$</span>\n",
    "\n",
    "<span t=\"l2\">$S(a,b)=S(b,a)$</span>\n",
    "\n",
    "<span t=\"l2\">$S(S(a,b),c)=S(a,S(b,c))$</span>\n",
    "\n",
    "<span t=\"l2\">$S(a,0)=a$</span>\n",
    "\n",
    "<span t=\"l2\">$S(a,1)=1$</span>\n",
    "\n",
    "<span t=\"l2\">$a,b,c,d \\in [0,1]$</span>"
   ]
  },
  {
   "cell_type": "markdown",
   "id": "ee4dec00",
   "metadata": {},
   "source": [
    "<span t=\"l1\">Przykładowe t-normy</span>\n",
    "\n",
    "- <span t=\"l2\">$T(a,b)=min(a,b)$</span> - minimum\n",
    "\n",
    "- <span t=\"l2\">$T(a,b)=a \\cdot b$</span> - iloczyn algebraiczny\n",
    "\n",
    "- <span t=\"l2\">$T(a,b)=max(0,a+b-1)$</span> - t-norma Łukasiewicza\n",
    "\n",
    "<span t=\"l1\">Przykładowe s-normy</span> \n",
    "\n",
    "- <span t=\"l2\">$S(a,b)=max(a,b)$</span> - maksimum\n",
    "\n",
    "- <span t=\"l2\">$S(a,b)=a + b-a \\cdot b$</span> - iloczyn probabilistyczny\n",
    "\n",
    "- <span t=\"l2\">$S(a,b)=min(a+b,1)$</span> - s-norma Łukasiewicza"
   ]
  },
  {
   "cell_type": "markdown",
   "id": "60a7a7c5",
   "metadata": {},
   "source": [
    "### Relacje rozmyte\n",
    "\n",
    "<span t=\"l1\">$X,Y$ – zbiory nierozmyte, </span>\n",
    "\n",
    "<span t=\"l1\">$R$ – relacja rozmyta określona w $X \\times Y$</span>\n",
    "\n",
    "<span t=\"l1\">$R=\\{((x,y), \\mu_R(x,y)): x \\in X, y \\in Y\\}$, gdzie $\\mu_R(x,y) \\in [0,1]$</span>\n",
    "\n",
    "<span t=\"l2\">\n",
    "\\begin{bmatrix}\n",
    "& y_1 & y_2 & ... & y_m \\\\ \n",
    "x_1 & \\mu_R(x_1,y_1) & \\mu_R(x_1,y_2) & ... & \\mu_R(x_1,y_m) \\\\ \n",
    "x_2 & \\mu_R(x_2,y_1) & \\mu_R(x_2,y_2) & ... & \\mu_R(x_2,y_m) \\\\\n",
    "... & ... & ... & ... & ... \\\\ \n",
    "x_n & \\mu_R(x_n,y_1) & \\mu_R(x_n,y_2) & ... & \\mu_R(x_n,y_m)\n",
    "\\end{bmatrix}\n",
    "</span>\n",
    "\n",
    "<span t=\"l2\">$x_1,x_2,...,x_n \\in X$, </span>\n",
    "\n",
    "<span t=\"l2\">$y_1,y_2,...,y_m \\in Y$</span>"
   ]
  },
  {
   "cell_type": "markdown",
   "id": "5cba4eca",
   "metadata": {},
   "source": [
    "### Wnioskowanie rozmyte\n",
    "\n",
    "<span t=\"l1\">Uogólniona rozmyta reguła modus ponens:</span>\n",
    "\n",
    "<span t=\"l2\">$\\frac{\n",
    "    \\begin{array}{c@{}c@{}}\n",
    "      A'\\\\\n",
    "      \\mbox{Jeśli } A \\mbox{, to } B\n",
    "    \\end{array}\n",
    "    }{\\begin{array}{c@{}c@{}}\n",
    "      B'\n",
    "    \\end{array}}$</span>\n",
    "\n",
    "\n",
    "\n",
    "\n",
    "- <span t=\"l2\">$A'$ - zbiór rozmyty w $X$</span>\n",
    "- <span t=\"l2\">$\\mbox{Jeśli } A \\mbox{, to } B$ - implikacja rozmyta reprezentowana przez relację rozmytą $R$ w $X \\times Y$</span>\n",
    "- <span t=\"l2\">$B'$ - zbiór rozmyty w $Y$</span>\n",
    "\n",
    "<span t=\"l1\">$B'=A' \\circ R$</span>\n",
    "\n",
    "<span t=\"l1\">$\\mu_{B'}= max_{x \\in X}(T(\\mu_{A'}(x),\\mu_R(x,y)))$</span>\n"
   ]
  },
  {
   "cell_type": "markdown",
   "id": "f84d9d57",
   "metadata": {},
   "source": [
    "<span t=\"l1\">Przykład</span>\n",
    "\n",
    "<span t=\"l2\">$X={1,2,3}$, </span>\n",
    "\n",
    "<span t=\"l2\">$Y={1,2,3,4}$</span>\n",
    "\n",
    "<span t=\"l2\">$NISKIE=\\frac{1}{1}+\\frac{0.7}{2} + \\frac{0.3}{3}$</span>\n",
    "\n",
    "<span t=\"l2\">$WYSOKIE=\\frac{0.2}{1} + \\frac{0.5}{2} + \\frac{0.8}{3} +\\frac{1}{4}$</span>\n",
    "\n",
    "<span t=\"l2\">$R=NISKIE \\times WYSOKIE$</span>\n",
    "\n",
    "<span t=\"l2\">\n",
    "\\begin{bmatrix}\n",
    "X ~ Y & 1 & 2 & 3 & 4 \\\\ \n",
    "    1 & 0.2 & 0.5 & 0.8 & 1 \\\\\n",
    "    2 & 0.2 & 0.5 & 0.7 & 0.7 \\\\\n",
    "    3 & 0.2 & 0.3 & 0.3 & 0.3\n",
    "\\end{bmatrix}\n",
    "</span>\n",
    "\n"
   ]
  },
  {
   "cell_type": "markdown",
   "id": "f11ad18e",
   "metadata": {},
   "source": [
    "<span t=\"l1\">Przykład</span>\n",
    "\n",
    "<span t=\"l2\">$ŚREDNIE = \\frac{0.5}{1} + \\frac{1}{2} + \\frac{0.5}{3}$</span>\n",
    "\n",
    "<span t=\"l2\">$ŚREDNIE \\circ R = max_{x \\in \\{1,2,3\\}}(T(\\mu_{ŚREDNIE}(x), \\mu_R(x,y)))= \\frac{0.2}{1} + \\frac{0.5}{2} + \\frac{0.7}{3} + \\frac{0.7}{4}$   </span>\n",
    "\n",
    "<span t=\"l2\">Przyjmując jako t-normę minimum.</span>\n",
    "\n"
   ]
  }
 ],
 "metadata": {
  "kernelspec": {
   "display_name": "Python 3",
   "language": "python",
   "name": "python3"
  },
  "language_info": {
   "codemirror_mode": {
    "name": "ipython",
    "version": 3
   },
   "file_extension": ".py",
   "mimetype": "text/x-python",
   "name": "python",
   "nbconvert_exporter": "python",
   "pygments_lexer": "ipython3",
   "version": "3.8.13"
  }
 },
 "nbformat": 4,
 "nbformat_minor": 5
}
