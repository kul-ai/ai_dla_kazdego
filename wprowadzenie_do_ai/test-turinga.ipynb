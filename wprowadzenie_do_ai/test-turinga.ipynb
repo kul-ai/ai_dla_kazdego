{
 "cells": [
  {
   "cell_type": "markdown",
   "id": "ebba7186",
   "metadata": {},
   "source": [
    "# Maszyna Turinga w chińskim pokoju"
   ]
  },
  {
   "cell_type": "markdown",
   "id": "b268ce20",
   "metadata": {},
   "source": [
    "## Maszyna Turinga"
   ]
  },
  {
   "cell_type": "markdown",
   "id": "770c0388",
   "metadata": {},
   "source": [
    "### Alan Turing\n",
    "\n",
    "1.  <span t=\"l1\">brytyjski matematyk i logik</span>\n",
    "\n",
    "2.  <span t=\"l1\">twórca “angielskiej bomby kryptologicznej” dla rozszyfrowania kodu\n",
    "    Enigmy</span>\n",
    "\n",
    "3.  <span t=\"l1\">specyfikacja komputera Pilot ACE</span>\n",
    "\n",
    "4.  <span t=\"l1\">maszyna Turinga</span>\n",
    "\n",
    "5.  <span t=\"l1\">test Turinga</span>"
   ]
  },
  {
   "cell_type": "markdown",
   "id": "fb8c5bc6",
   "metadata": {},
   "source": [
    "### Maszyna Turinga\n",
    "\n",
    "\n",
    "<img src=\"../pliki_z_internetu/TuringMachine.png\" width=\"600\"/>\n",
    "\n",
    "**Definicja 3**. *Maszyna Turinga* jest siódemką\n",
    "$<S, s_{0}, Q, L, \\emptyset, I, \\delta>$:\n",
    "\n",
    "1.  *skończony zbiór $S$ możliwych stanów maszyny z wyróżnionym stanem\n",
    "    początkowym $s_{0}$ i stanami końcowymi (akceptującymi)\n",
    "    $Q \\subseteq S$;*\n",
    "\n",
    "2.  *skończony zbiór symboli $L$ z symbolem pustym $\\emptyset \\in L$\n",
    "    oraz podzbiorem symboli początkowych $I \\subset L$;*\n",
    "\n",
    "3.  *funkcja przejścia\n",
    "    $\\delta: S \\times L \\to S \\times L \\times \\{\\text{w lewo}, \\text{stój}, \\text{w prawo}\\}$.*"
   ]
  },
  {
   "cell_type": "markdown",
   "id": "a2e2f066",
   "metadata": {},
   "source": [
    "### Turing Machine Simulator\n",
    "\n",
    "https://turingmachinesimulator.com/"
   ]
  },
  {
   "cell_type": "markdown",
   "id": "f28537cb",
   "metadata": {},
   "source": [
    "### Test Turinga - czy komputer myśli? \n",
    "<img src=\"../pliki_z_internetu/Turing.png\" width=\"600\"/>"
   ]
  },
  {
   "cell_type": "markdown",
   "id": "90bcca39",
   "metadata": {},
   "source": [
    "### Test Turinga - czy komputer myśli? (2)\n",
    "\n",
    "> Sądzę, że za około 50 lat \\[czyli ok. roku 2000 - PG\\] będzie możliwe\n",
    "> programowania komputerów, z pamięcią rzędu $10^{9}$ \\[bitów - PG\\],\n",
    "> tak aby uczestniczyły w grze \\[w chat-zagadkę - PG\\] tak dobrze, że\n",
    "> przeciętny uczestnik gry nie będzie miał więcej niż 70 procent szans\n",
    "> na prawidłową odpowiedź po pięciu minutach rozmowy.\n",
    "\n"
   ]
  },
  {
   "cell_type": "markdown",
   "id": "46a786a4",
   "metadata": {},
   "source": [
    "### Wiedza w maszynie Turinga …\n",
    "\n",
    "<img src=\"../pliki_z_internetu/sign1.jpg\" width=\"400\"/>"
   ]
  },
  {
   "cell_type": "markdown",
   "id": "c5e1ab0c",
   "metadata": {},
   "source": [
    "### …i wiedza w człowieku\n",
    "\n",
    "<img src=\"../pliki_z_internetu/sign2.jpg\" width=\"400\"/>"
   ]
  },
  {
   "cell_type": "markdown",
   "id": "412fc262",
   "metadata": {},
   "source": [
    "## Argument chińskiego pokoju"
   ]
  },
  {
   "cell_type": "markdown",
   "id": "566f6031",
   "metadata": {},
   "source": [
    "### Argument chińskiego pokoju\n",
    "\n",
    "<img src=\"../pliki_z_internetu/Chinese-1.png\" width=\"600\"/>\n",
    "\n"
   ]
  },
  {
   "cell_type": "markdown",
   "id": "65d2439c",
   "metadata": {},
   "source": [
    "<continue/>\n",
    "\n",
    "<img src=\"../pliki_z_internetu/Chinese-2.png\" width=\"600\"/>"
   ]
  },
  {
   "cell_type": "markdown",
   "id": "193b01cd",
   "metadata": {},
   "source": [
    "### Argument chińskiego pokoju (2) Ponieważ:\n",
    "\n",
    "1.  Jeżeli maszyny Turinga myślą, to istnieje maszyna Turinga, której\n",
    "    każda implementacja (realizacja) rozumie język chiński.\n",
    "\n",
    "2.  Istnieje maszyna Turinga, której żadna implementacja nie rozumie\n",
    "    języka chińskiego.\n",
    "\n",
    "Zatem:  \n",
    "Maszyny Turinga nie myślą."
   ]
  },
  {
   "cell_type": "markdown",
   "id": "d934ed3d",
   "metadata": {},
   "source": [
    "### Argument chińskiego pokoju - wersja uogólniona Ponieważ:\n",
    "\n",
    "1.  Maszyny Turinga przetwarzają napisy, tj. znają tylko własności\n",
    "    syntaktyczne języka.\n",
    "\n",
    "2.  Ludzkie umysły znają znaczenie słów (semantykę/pojęcia).\n",
    "\n",
    "3.  Własności syntaktyczne nie określają całkowicie własności\n",
    "    semantycznych.\n",
    "\n",
    "Zatem:  \n",
    "Ludzkie umysły nie są maszynami Turinga."
   ]
  },
  {
   "cell_type": "markdown",
   "id": "043a695b",
   "metadata": {},
   "source": [
    "### Czego *nie* dowodzi argument chińskiego pokoju?\n",
    "\n",
    "1.  Maszyny nie potrafią myśleć.\n",
    "\n",
    "2.  Komputery nie potrafią myśleć.\n",
    "\n",
    "3.  Tylko mózgi myślą."
   ]
  },
  {
   "cell_type": "markdown",
   "id": "26359b84",
   "metadata": {},
   "source": [
    "### Czego dowodzi argument chińskiego pokoju?\n",
    "\n",
    "1.  Myślenie nie polega na implementacji (realizacji) maszyny Turinga.\n",
    "\n",
    "2.  Nie każdy (odpowiednio zaprogramowany) komputer myśli (= ma umysł).\n",
    "\n",
    "3.  Program silnej sztucznej inteligencji (*strong AI*): umysł <span\n",
    "    class=\"alert\">jest</span> maszyną Turinga, jest niewykonalny.\n",
    "\n",
    "4.  Program słabej sztucznej inteligencji: działanie umysłu można\n",
    "    *symulować* za pomocą maszyny Turinga, jest wykonalny."
   ]
  },
  {
   "cell_type": "markdown",
   "id": "b5829b58",
   "metadata": {},
   "source": [
    "### Nagroda Loebnera (1991–…)\n",
    "\n",
    "1.  konkurs programów komputerów stworzonych po to, aby zdać test\n",
    "    Turinga\n",
    "\n",
    "2.  3 medale\n",
    "\n",
    "    1.  złoty – zdał multimedialny test Turinga\n",
    "\n",
    "    2.  srebrny – zdał prosty test Turinga\n",
    "\n",
    "    3.  brązowy – wypadł najlepiej spośród uczestników\n",
    "\n",
    "3.  tylko brązowe medale, np. trzykrotnie dla A. L. I. C. E.\n",
    "\n",
    "4.  zwycięzca w roku 2017 - Rosette\n",
    "    <http://www.aisb.org.uk/events/loebner-prize/>\n",
    "\n",
    "5.  Turing nie miał racji"
   ]
  },
  {
   "cell_type": "markdown",
   "id": "def07d5d",
   "metadata": {},
   "source": [
    "## Alternatywy dla testu Turinga"
   ]
  },
  {
   "cell_type": "markdown",
   "id": "436928c6",
   "metadata": {},
   "source": [
    "### Alternatywy dla testu Turinga\n",
    "\n",
    "1.  test Feigenbauma () - komputer jako ekspert dziedzinowy\n",
    "\n",
    "2.  test minimalnego inteligentnego sygnału - komputer jako binarny\n",
    "    człowiek\n",
    "\n",
    "3.  test Negroponte - komputer jako pomocnik człowieka\n",
    "\n",
    "4.  test Eberta - komputer jako trefniś\n",
    "\n",
    "Turing odwrócony "
   ]
  },
  {
   "cell_type": "markdown",
   "id": "035ac907",
   "metadata": {},
   "source": [
    "### CAPTCHA - Completely Automated Public Turing test to tell Computers and Humans Apart\n",
    "\n",
    "<img src=\"../pliki_z_internetu/Captcha.jpg\" width=\"400\"/>"
   ]
  },
  {
   "cell_type": "markdown",
   "id": "cd6b8a74",
   "metadata": {},
   "source": [
    "### Co umie komputer, który myśli?\n",
    "\n",
    "1.  rozumuje, rozwiązuje zadania, również w stanie niepewności\n",
    "\n",
    "2.  reprezentuje wiedzę\n",
    "\n",
    "3.  planuje\n",
    "\n",
    "4.  uczy się\n",
    "\n",
    "    -   uczy się uczyć\n",
    "\n",
    "5.  komunikuje się w języku etnicznym\n",
    "\n",
    "6.  integruje w/w umiejętności w ramach strategii dążącej do osiągnięcia\n",
    "    pewnego celu"
   ]
  },
  {
   "cell_type": "code",
   "execution_count": null,
   "id": "faf01379",
   "metadata": {},
   "outputs": [],
   "source": []
  }
 ],
 "metadata": {
  "kernelspec": {
   "display_name": "Python 3",
   "language": "python",
   "name": "python3"
  },
  "language_info": {
   "codemirror_mode": {
    "name": "ipython",
    "version": 3
   },
   "file_extension": ".py",
   "mimetype": "text/x-python",
   "name": "python",
   "nbconvert_exporter": "python",
   "pygments_lexer": "ipython3",
   "version": "3.8.13"
  }
 },
 "nbformat": 4,
 "nbformat_minor": 5
}
