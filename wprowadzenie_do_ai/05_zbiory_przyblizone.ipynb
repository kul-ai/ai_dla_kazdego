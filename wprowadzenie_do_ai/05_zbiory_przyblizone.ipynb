{
 "cells": [
  {
   "cell_type": "markdown",
   "id": "03f606e4",
   "metadata": {},
   "source": [
    "# Zbiory przybliżone"
   ]
  },
  {
   "cell_type": "markdown",
   "id": "45a45ab3",
   "metadata": {},
   "source": [
    "## Wstęp"
   ]
  },
  {
   "cell_type": "markdown",
   "id": "110703cd",
   "metadata": {},
   "source": [
    "### Wprowadzenie do zbiorów przybliżonych"
   ]
  },
  {
   "cell_type": "markdown",
   "id": "74c14872",
   "metadata": {},
   "source": [
    "<img src=\"../pliki_wlasne/zbiory_przyblizone_wpr_1.png\" width=\"500\"/>"
   ]
  },
  {
   "cell_type": "markdown",
   "id": "b804d1db",
   "metadata": {},
   "source": [
    "<img src=\"../pliki_wlasne/zbiory_przyblizone_wpr_2.png\" width=\"500\"/>"
   ]
  },
  {
   "cell_type": "markdown",
   "id": "9ffa8b85",
   "metadata": {},
   "source": [
    "<img src=\"../pliki_wlasne/zbiory_przyblizone_wpr_3.png\" width=\"500\"/>"
   ]
  },
  {
   "cell_type": "markdown",
   "id": "b548b499",
   "metadata": {},
   "source": [
    "### Zbiory przybliżone\n",
    "\n",
    "<span t=\"l1\">Teoria zbiorów przybliżonych została zaproponowana przez Zdzisława Pawlaka (1926 – 2006) na początku lat 80-tych XX wieku.</span>\n",
    "\n",
    "<span t=\"l1\">Podstawowe pojęcia:</span>\n",
    "- <span t=\"l2\">system informacyjny/decyzyjny, </span>\n",
    "- <span t=\"l2\">relacja nierozróżnialności, </span>\n",
    "- <span t=\"l2\">aproksymacja zbioru,</span>\n",
    "- <span t=\"l2\">redukt,</span>\n",
    "- <span t=\"l2\">reguła decyzyjna minimalna.</span>"
   ]
  },
  {
   "cell_type": "markdown",
   "id": "22732f8f",
   "metadata": {},
   "source": [
    "## System informacyjny"
   ]
  },
  {
   "cell_type": "markdown",
   "id": "22a37cdb",
   "metadata": {},
   "source": [
    "### System informacyjny\n",
    "\n",
    "<span t=\"l1\">$S=(U, A)$</span>\n",
    "\n",
    "- <span t=\"l2\">$U$ - niepusty, skończony zbiór obiektów,</span>\n",
    "- <span t=\"l2\">$A$ - niepusty, skończony zbiór atrybutów. </span>\n",
    "\n",
    "<span t=\"l1\">Każdy atrybut $a\\in A$ jest funkcją $a:U \\to V_a$</span>\n",
    "- <span t=\"l2\">$V_a$ jest zbiorem wartości atrybutu $a$. </span>\n",
    "- <span t=\"l2\">$a(u)$ oznacza wartość atrybutu a dla obiektu $u$.</span>"
   ]
  },
  {
   "cell_type": "markdown",
   "id": "d371940b",
   "metadata": {},
   "source": [
    "<span t=\"t\">\n",
    "    \n",
    "| **U/A** \t|    $e$   \t|   $q$  \t|  $c$  \t|  $r$  \t|  $t$  \t|\n",
    "|:-------:\t|:--------:\t|:------:\t|:-----:\t|:-----:\t|:-----:\t|\n",
    "|  $s_1$  \t|  $high$  \t| $good$ \t| $yes$ \t| $yes$ \t|  $no$ \t|\n",
    "|  $s_2$  \t|  $high$  \t| $good$ \t|  $no$ \t| $yes$ \t|  $no$ \t|\n",
    "|  $s_3$  \t| $medium$ \t| $good$ \t| $yes$ \t| $yes$ \t| $yes$ \t|\n",
    "|  $s_4$  \t|   $low$  \t|  $avg$ \t| $yes$ \t| $yes$ \t| $yes$ \t|\n",
    "|  $s_5$  \t|   $low$  \t| $good$ \t| $yes$ \t| $yes$ \t| $yes$ \t|\n",
    "|  $s_6$  \t|  $high$  \t|  $avg$ \t|  $no$ \t|  $no$ \t| $yes$ \t|\n",
    "    \n",
    "</span>\n",
    "\n",
    "<span t=\"l1\">Obiekty:</span>\n",
    "- <span t=\"l2\">stores (sklepy): $s_1, s_2, s_3, s_4, s_5, s_6$</span>\n",
    "\n",
    "<span t=\"l1\">Atrybuty:</span>\n",
    "- <span t=\"l2\">$e$ – empowerment of sales personnel (kompetencje personelu) </span>\n",
    "- <span t=\"l2\">$q$ – quality of merchandise (jakość towarów)</span>\n",
    "- <span t=\"l2\">$c$ – segmented customer-base (segmentacja klientów)</span>\n",
    "- <span t=\"l2\">$r$ – good refund policy (dobra polityka zwrotów)</span>\n",
    "- <span t=\"l2\">$t$ – high traffic location (lokalizacja w ruchliwym miejscu)</span>"
   ]
  },
  {
   "cell_type": "markdown",
   "id": "f4439558",
   "metadata": {},
   "source": [
    "<span t=\"t\">\n",
    "    \n",
    "| **U/A** \t|    $e$   \t|   $q$  \t|  $c$  \t|  $r$  \t|  $t$  \t|\n",
    "|:-------:\t|:--------:\t|:------:\t|:-----:\t|:-----:\t|:-----:\t|\n",
    "|  $s_1$  \t|  $high$  \t| $good$ \t| $yes$ \t| $yes$ \t|  $no$ \t|\n",
    "|  $s_2$  \t|  $high$  \t| $good$ \t|  $no$ \t| $yes$ \t|  $no$ \t|\n",
    "|  $s_3$  \t| $medium$ \t| $good$ \t| $yes$ \t| $yes$ \t| $yes$ \t|\n",
    "|  $s_4$  \t|   $low$  \t|  $avg$ \t| $yes$ \t| $yes$ \t| $yes$ \t|\n",
    "|  $s_5$  \t|   $low$  \t| $good$ \t| $yes$ \t| $yes$ \t| $yes$ \t|\n",
    "|  $s_6$  \t|  $high$  \t|  $avg$ \t|  $no$ \t|  $no$ \t| $yes$ \t|\n",
    "    \n",
    "</span>\n",
    "\n",
    "- <span t=\"l1\">$e(s_1)=high$</span>\n",
    "- <span t=\"l1\">$e(s_2)=high$</span>\n",
    "- <span t=\"l1\">$e(s_3)=medium$</span>\n",
    "- <span t=\"l1\">$e(s_4)=low$</span>\n",
    "- <span t=\"l1\">$e(s_5)=low$</span>\n",
    "- <span t=\"l1\">$e(s_6)=high$</span>"
   ]
  },
  {
   "cell_type": "markdown",
   "id": "b448ec30",
   "metadata": {},
   "source": [
    "<span t=\"t\">\n",
    "    \n",
    "| **U/A** \t|    $e$   \t|   $q$  \t|  $c$  \t|  $r$  \t|  $t$  \t|\n",
    "|:-------:\t|:--------:\t|:------:\t|:-----:\t|:-----:\t|:-----:\t|\n",
    "|  $s_1$  \t|  $high$  \t| $good$ \t| $yes$ \t| $yes$ \t|  $no$ \t|\n",
    "|  $s_2$  \t|  $high$  \t| $good$ \t|  $no$ \t| $yes$ \t|  $no$ \t|\n",
    "|  $s_3$  \t| $medium$ \t| $good$ \t| $yes$ \t| $yes$ \t| $yes$ \t|\n",
    "|  $s_4$  \t|   $low$  \t|  $avg$ \t| $yes$ \t| $yes$ \t| $yes$ \t|\n",
    "|  $s_5$  \t|   $low$  \t| $good$ \t| $yes$ \t| $yes$ \t| $yes$ \t|\n",
    "|  $s_6$  \t|  $high$  \t|  $avg$ \t|  $no$ \t|  $no$ \t| $yes$ \t|\n",
    "    \n",
    "</span>\n",
    "\n",
    "- <span t=\"l1\">$U=\\{s1, s2, s3, s4, s5, s6\\}$</span>\n",
    "- <span t=\"l1\">$A=\\{e, q, c, r, t\\}$</span>\n",
    "- <span t=\"l1\">$V_e=\\{low, medium, high\\}$</span>\n",
    "- <span t=\"l1\">$V_q=\\{avg, good\\}$</span>\n",
    "- <span t=\"l1\">$V_c=V_r=V_t=\\{no, yes\\}$</span>"
   ]
  },
  {
   "cell_type": "markdown",
   "id": "46d06867",
   "metadata": {},
   "source": [
    "## System decyzyjny"
   ]
  },
  {
   "cell_type": "markdown",
   "id": "d1be331c",
   "metadata": {},
   "source": [
    "### System decyzyjny\n",
    "\n",
    "<span t=\"l1\">$S=(U , A\\cup D)$</span>\n",
    "\n",
    "- <span t=\"l2\">U - niepusty, skończony zbiór obiektów,</span>\n",
    "- <span t=\"l2\">A - niepusty, skończony zbiór atrybutów warunkowych,</span>\n",
    "- <span t=\"l2\">D - niepusty, skończony zbiór atrybutów decyzyjnych.</span>\n",
    "\n",
    "<span t=\"l1\">W szczególności: </span>\n",
    "\n",
    "<span t=\"l2\">$S=(U , A\\cup \\{d \\})$</span>"
   ]
  },
  {
   "cell_type": "markdown",
   "id": "45d3140c",
   "metadata": {},
   "source": [
    "<span t=\"t\">\n",
    "    \n",
    "| **U/A** \t|    $e$   \t|   $q$  \t|  $c$  \t|  $r$  \t|  $t$  \t| $p$   \t|\n",
    "|:-------:\t|:--------:\t|:------:\t|:-----:\t|:-----:\t|:-----:\t|-------\t|\n",
    "|  $s_1$  \t|  $high$  \t| $good$ \t| $yes$ \t| $yes$ \t|  $no$ \t| $yes$ \t|\n",
    "|  $s_2$  \t|  $high$  \t| $good$ \t|  $no$ \t| $yes$ \t|  $no$ \t| $no$  \t|\n",
    "|  $s_3$  \t| $medium$ \t| $good$ \t| $yes$ \t| $yes$ \t| $yes$ \t| $yes$ \t|\n",
    "|  $s_4$  \t|   $low$  \t|  $avg$ \t| $yes$ \t| $yes$ \t| $yes$ \t| $yes$ \t|\n",
    "|  $s_5$  \t|   $low$  \t| $good$ \t| $yes$ \t| $yes$ \t| $yes$ \t| $yes$ \t|\n",
    "|  $s_6$  \t|  $high$  \t|  $avg$ \t|  $no$ \t|  $no$ \t| $yes$ \t| $no$  \t|\n",
    "\n",
    "</span>\n",
    "\n",
    "<span t=\"l1\">Atrybut decyzyjny: </span>\n",
    "- <span t=\"l2\">p - store profit (czy sklep przynosi zysk)</span>\n",
    "\n",
    "- <span t=\"l1\">$S=(U,A \\cup \\{p\\})$</span>\n",
    "- <span t=\"l1\">$U=\\{s_1, s_2, s_3, s_4, s_5, s_6\\}$</span>\n",
    "- <span t=\"l1\">$A=\\{e, q, c, r, t\\}$</span>\n",
    "- <span t=\"l1\">$V_p=\\{no, yes\\}$</span>"
   ]
  },
  {
   "cell_type": "markdown",
   "id": "9080a6c4",
   "metadata": {},
   "source": [
    "## Relacja nierozróżnialności"
   ]
  },
  {
   "cell_type": "markdown",
   "id": "67764e60",
   "metadata": {},
   "source": [
    "###  Relacja nierozróżnialności\n",
    "\n",
    "- <span t=\"l1\">$S=(U,A)$ - system informacyjny</span>\n",
    "- <span t=\"l1\">$B \\subseteq A $</span>\n",
    "- <span t=\"l1\">$Ind_B(S)=\\{(x,y) \\in U \\times U: a(x)=a(y) \\mbox{ dla każdego } a \\in B\\}$</span>\n",
    "\n",
    "<span t=\"l1\">Jeśli $(x,y) \\in Ind_B(S)$, wówczas obiekty $x$ oraz $y$ są nierozróżnialne ze względu na atrybuty ze zbioru $B$.</span>"
   ]
  },
  {
   "cell_type": "markdown",
   "id": "f0f2bbcf",
   "metadata": {},
   "source": [
    "<span t=\"l1\">Rozważmy system informacyjny $S=(U,A)$ jak przedstawiono w poniższej tabeli:</span>\n",
    "<span t=\"t\">\n",
    "    \n",
    "| **U/A** \t|    $e$   \t|   $q$  \t|  $c$  \t|  $r$  \t|  $t$  \t|\n",
    "|:-------:\t|:--------:\t|:------:\t|:-----:\t|:-----:\t|:-----:\t|\n",
    "|  $s_1$  \t|  $high$  \t| $good$ \t| $yes$ \t| $yes$ \t|  $no$ \t|\n",
    "|  $s_2$  \t|  $high$  \t| $good$ \t|  $no$ \t| $yes$ \t|  $no$ \t|\n",
    "|  $s_3$  \t| $medium$ \t| $good$ \t| $yes$ \t| $yes$ \t| $yes$ \t|\n",
    "|  $s_4$  \t|   $low$  \t|  $avg$ \t| $yes$ \t| $yes$ \t| $yes$ \t|\n",
    "|  $s_5$  \t|   $low$  \t| $good$ \t| $yes$ \t| $yes$ \t| $yes$ \t|\n",
    "|  $s_6$  \t|  $high$  \t|  $avg$ \t|  $no$ \t|  $no$ \t| $yes$ \t|\n",
    "    \n",
    "</span>\n",
    "\n",
    "- <span t=\"l1\">$B=\\{e , q , c , r , t \\}$</span>\n",
    "- <span t=\"l1\">$Ind_B(S)=\\{(s_1 , s_1),(s_2 , s_2),(s_3 , s_3),(s_4 , s_4), (s_5 , s_5),(s_6 , s_6)\\}$</span>\n",
    "\n",
    "<span t=\"l1\">Wszystkie obiekty są pomiędzy sobą rozróżnialne.</span>"
   ]
  },
  {
   "cell_type": "markdown",
   "id": "d553c2f7",
   "metadata": {},
   "source": [
    "<span t=\"l1\">Rozważmy system informacyjny $S=(U,A)$ z ograniczonym zbiorem atrybutów ($C \\subset A$) jak przedstawiono w poniższej tabeli:</span>\n",
    "<span t=\"t\">\n",
    "    \n",
    "| **U/A** \t|    $e$   \t|  $r$  \t|  $t$  \t|\n",
    "|:-------:\t|:--------:\t|:-----:\t|:-----:\t|\n",
    "|  $s_1$  \t|  $high$  \t| $yes$ \t|  $no$ \t|\n",
    "|  $s_2$  \t|  $high$  \t| $yes$ \t|  $no$ \t|\n",
    "|  $s_3$  \t| $medium$ \t| $yes$ \t| $yes$ \t|\n",
    "|  $s_4$  \t|   $low$  \t| $yes$ \t| $yes$ \t|\n",
    "|  $s_5$  \t|   $low$  \t| $yes$ \t| $yes$ \t|\n",
    "|  $s_6$  \t|  $high$  \t|  $no$ \t| $yes$ \t|\n",
    "    \n",
    "</span>\n",
    "\n",
    "- <span t=\"l1\">$C=\\{e , r , t \\}$</span>\n",
    "- <span t=\"l1\">$Ind_C(S)=\\{(s_1 , s_1),(s_2 , s_2),(s_3 , s_3),(s_4 , s_4), (s_5 , s_5),(s_6 , s_6), (s_1 , s_2),(s_2 , s_1),(s_4 , s_5),(s_5 , s_4)\\}$</span>\n",
    "\n",
    "<span t=\"l1\">Obiekty $s_1$ oraz $s_2$ nie są pomiędzy sobą rozróżnialne. Analogicznie obiekty $s_4$ i $s_5$.</span>"
   ]
  },
  {
   "cell_type": "markdown",
   "id": "dbc3c821",
   "metadata": {},
   "source": [
    "### Przykład 1\n",
    "\n",
    "Napisz skrypt dla środowiska R wyznaczający relację nierozróżnialności dla systemu informacyjnego S jeśli pod uwagę brane są zbiory atrybutów:\n",
    "- <span t=\"l1\">$B=\\{e , q , c , r , t \\}$</span>\n",
    "- <span t=\"l1\">$C=\\{e , r , t \\}$</span>\n"
   ]
  },
  {
   "cell_type": "markdown",
   "id": "cf177a65",
   "metadata": {},
   "source": [
    "Krok 1: Instalujemy i importujemy pakiet RoughSets udostępniający metody zbiorów przybliżonych."
   ]
  },
  {
   "cell_type": "code",
   "execution_count": 5,
   "id": "471e023b",
   "metadata": {
    "scrolled": true
   },
   "outputs": [
    {
     "name": "stderr",
     "output_type": "stream",
     "text": [
      "Installing package into 'C:/Users/Turnello/Documents/R/win-library/3.6'\n",
      "(as 'lib' is unspecified)\n",
      "Warning message:\n",
      "\"package 'RoughSets' is in use and will not be installed\""
     ]
    }
   ],
   "source": [
    "install.packages(\"RoughSets\");\n",
    "library(RoughSets);"
   ]
  },
  {
   "cell_type": "markdown",
   "id": "9856294d",
   "metadata": {},
   "source": [
    "Krok 2: Tworzymy tablicę informacyjną reprezentującą system informacyjny $S$."
   ]
  },
  {
   "cell_type": "code",
   "execution_count": 9,
   "id": "1079ca5c",
   "metadata": {},
   "outputs": [
    {
     "name": "stdout",
     "output_type": "stream",
     "text": [
      "       e    q   c   r   t\n",
      "1   high good yes yes  no\n",
      "2   high good  no yes  no\n",
      "3 medium good yes yes yes\n",
      "4    low  avg yes yes yes\n",
      "5    low good yes yes yes\n",
      "6   high  avg  no  no yes\n"
     ]
    }
   ],
   "source": [
    "data.table<-data.frame(matrix(c(\"high\",\"good\",\"yes\",\"yes\",\"no\",\"high\",\"good\",\"no\",\"yes\",\"no\",\n",
    "                                        \"medium\",\"good\",\"yes\",\"yes\",\"yes\",\"low\",\"avg\",\"yes\",\"yes\",\"yes\",\n",
    "                                        \"low\",\"good\",\"yes\",\"yes\",\"yes\",\"high\",\"avg\",\"no\",\"no\",\"yes\"), ncol=5, byrow=TRUE));\n",
    "colnames(information.system)<-c(\"e\",\"q\",\"c\",\"r\",\"t\");\n",
    "information.table<-SF.asDecisionTable(data.table, decision.attr=NULL, indx.nominal=c(1,2,3,4,5));\n",
    "print(information.system);"
   ]
  },
  {
   "cell_type": "markdown",
   "id": "b541027f",
   "metadata": {},
   "source": [
    "Krok 3: Wyznaczamy relację nierozróżnialności dla zbioru atrybutów $B=A$."
   ]
  },
  {
   "cell_type": "code",
   "execution_count": 13,
   "id": "54a1438b",
   "metadata": {},
   "outputs": [
    {
     "name": "stdout",
     "output_type": "stream",
     "text": [
      "$IND.relation\n",
      "$IND.relation$`high avg no no yes`\n",
      "[1] 6\n",
      "\n",
      "$IND.relation$`high good no yes no`\n",
      "[1] 2\n",
      "\n",
      "$IND.relation$`high good yes yes no`\n",
      "[1] 1\n",
      "\n",
      "$IND.relation$`low avg yes yes yes`\n",
      "[1] 4\n",
      "\n",
      "$IND.relation$`low good yes yes yes`\n",
      "[1] 5\n",
      "\n",
      "$IND.relation$`medium good yes yes yes`\n",
      "[1] 3\n",
      "\n",
      "\n",
      "$type.relation\n",
      "[1] \"equivalence\"\n",
      "\n",
      "$type.model\n",
      "[1] \"RST\"\n",
      "\n",
      "attr(,\"class\")\n",
      "[1] \"IndiscernibilityRelation\" \"list\"                    \n"
     ]
    }
   ],
   "source": [
    "ir.b<-BC.IND.relation.RST(information.table);\n",
    "print(ir.b);"
   ]
  },
  {
   "cell_type": "markdown",
   "id": "1a0427ca",
   "metadata": {},
   "source": [
    "Krok 4: Wyznaczamy relację nierozróżnialności dla zbioru atrybutów $C \\subset A$."
   ]
  },
  {
   "cell_type": "code",
   "execution_count": 12,
   "id": "5e417285",
   "metadata": {},
   "outputs": [
    {
     "name": "stdout",
     "output_type": "stream",
     "text": [
      "$IND.relation\n",
      "$IND.relation$`high no yes`\n",
      "[1] 6\n",
      "\n",
      "$IND.relation$`high yes no`\n",
      "[1] 1 2\n",
      "\n",
      "$IND.relation$`low yes yes`\n",
      "[1] 4 5\n",
      "\n",
      "$IND.relation$`medium yes yes`\n",
      "[1] 3\n",
      "\n",
      "\n",
      "$type.relation\n",
      "[1] \"equivalence\"\n",
      "\n",
      "$type.model\n",
      "[1] \"RST\"\n",
      "\n",
      "attr(,\"class\")\n",
      "[1] \"IndiscernibilityRelation\" \"list\"                    \n"
     ]
    }
   ],
   "source": [
    "ir.c<-BC.IND.relation.RST(information.table, feature.set=c(1,4,5));\n",
    "print(ir.c);"
   ]
  },
  {
   "cell_type": "markdown",
   "id": "9bdb2687",
   "metadata": {},
   "source": [
    "### Klasy równoważności\n",
    "\n",
    "- <span t=\"l1\">$S=(U,A)$ - system informacyjny</span>\n",
    "- <span t=\"l1\">$B \\subseteq A $</span>\n",
    "- <span t=\"l1\">$Ind_B(S)$ - relacja nierozróżnialności newline określona przez zbiór atrybutów $B$  </span>\n",
    "\n",
    "<span t=\"l1\">Relacja nierozróżnialności jest relacją równoważności (tzn. jest zwrotna, symetryczna i przechodnia).</span>\n",
    "\n",
    "- <span t=\"l1\">$B(x)$ - klasa równoważności relacji $Ind_B(S)$ zawierająca obiekt $x$:</span>\n",
    "- <span t=\"l2\">$B(x)=\\{y\\in U :(x , y) \\in Ind_B(S)\\}$</span>"
   ]
  },
  {
   "cell_type": "markdown",
   "id": "b1184ac6",
   "metadata": {},
   "source": [
    "<span t=\"t\">\n",
    "    \n",
    "| **U/A** \t|    $e$   \t|  $r$  \t|  $t$  \t|\n",
    "|:-------:\t|:--------:\t|:-----:\t|:-----:\t|\n",
    "|  $s_1$  \t|  $high$  \t| $yes$ \t|  $no$ \t|\n",
    "|  $s_2$  \t|  $high$  \t| $yes$ \t|  $no$ \t|\n",
    "|  $s_3$  \t| $medium$ \t| $yes$ \t| $yes$ \t|\n",
    "|  $s_4$  \t|   $low$  \t| $yes$ \t| $yes$ \t|\n",
    "|  $s_5$  \t|   $low$  \t| $yes$ \t| $yes$ \t|\n",
    "|  $s_6$  \t|  $high$  \t|  $no$ \t| $yes$ \t|\n",
    "    \n",
    "</span>\n",
    "\n",
    "- <span t=\"l1\">$B=\\{e , r , t \\}$</span>\n",
    "- <span t=\"l1\">$B(s_1)=B(s_2)=\\{s_1,s_2\\}$\n",
    "- <span t=\"l1\">$B(s_3)=\\{s_3\\}$</span>\n",
    "- <span t=\"l1\">$B(s_4)=B(s_5)=\\{s_4,s_5\\}$</span>\n",
    "- <span t=\"l1\">$B(s_6)=\\{s_6\\} $</span>"
   ]
  },
  {
   "cell_type": "markdown",
   "id": "a6354b08",
   "metadata": {},
   "source": [
    "## Aproksymacja zbioru"
   ]
  },
  {
   "cell_type": "markdown",
   "id": "c3320239",
   "metadata": {},
   "source": [
    "###  Aproksymacja zbioru\n",
    "\n",
    "\n",
    "- <span t=\"l1\">$S=(U , A)$ - system informacyjny </span>\n",
    "- <span t=\"l1\">$B \\subseteq A$</span>\n",
    "- <span t=\"l1\">$X \\subseteq U$</span>\n",
    "- <span t=\"l1\">$\\underline{B}$ - dolne przybliżenie zbioru $X$: </span>\n",
    "    - <span t=\"l2\">$\\underline{B}X=\\{x \\in U: B(x) \\subseteq X\\}$</span>\n",
    "- <span t=\"l1\">$\\overline{B}$ - górne przybliżenie zbioru $X$:\n",
    "    - <span t=\"l2\">$\\overline{B}X=\\{x \\in U: B(x) \\cap X \\neq \\emptyset \\}$</span>\n",
    "\n",
    "\n",
    "\n"
   ]
  },
  {
   "cell_type": "markdown",
   "id": "0017c804",
   "metadata": {},
   "source": [
    "<span t=\"l1\">Obszar $B$-pozytywny zbioru $X$:</span>\n",
    "- <span t=\"l2\">$POS_B(X)= \\underline{B}X$</span>\n",
    "\n",
    "<span t=\"l1\">Obszar $B$-brzegowy zbioru $X$:</span>\n",
    "- <span t=\"l2\">$BN_B(X)= \\overline{B}X - \\underline{B}X$</span>\n",
    "\n",
    "\n",
    "<span t=\"l1\">Obszar $B$-negatywny zbioru $X$:</span>\n",
    "- <span t=\"l2\">${N}EG_B(X)= U - \\overline{B}X$</span>"
   ]
  },
  {
   "cell_type": "markdown",
   "id": "1ac1e556",
   "metadata": {},
   "source": [
    "<span t=\"l1\">Obszar $B$-brzegowy zbioru $X$ jest pusty → zbiór $X$ jest *dokładny (crisp)* ze względu na atrybuty ze zbioru $B$.</span>\n",
    "\n",
    "<span t=\"l1\">Obszar $B$-brzegowy zbioru $X$ nie jest pusty → zbiór $X$ jest *przybliżony (rough)* ze względu na atrybuty ze zbioru $B$.</span>\n",
    "\n"
   ]
  },
  {
   "cell_type": "markdown",
   "id": "4300f55f",
   "metadata": {},
   "source": [
    "<span t=\"t\">\n",
    "    \n",
    "| **U/A** \t|    $e$   \t|  $r$  \t|  $t$  \t| $p$   \t|\n",
    "|:-------:\t|:--------:\t|:-----:\t|:-----:\t|-------\t|\n",
    "|  $s_1$  \t|  $high$  \t| $yes$ \t|  $no$ \t| $yes$ \t|\n",
    "|  $s_2$  \t|  $high$  \t| $yes$ \t|  $no$ \t| $no$  \t|\n",
    "|  $s_3$  \t| $medium$ \t| $yes$ \t| $yes$ \t| $yes$ \t|\n",
    "|  $s_4$  \t|   $low$  \t| $yes$ \t| $yes$ \t| $yes$ \t|\n",
    "|  $s_5$  \t|   $low$  \t| $yes$ \t| $yes$ \t| $yes$ \t|\n",
    "|  $s_6$  \t|  $high$  \t|  $no$ \t| $yes$ \t| $no$  \t|\n",
    "    \n",
    "</span>\n",
    "\n",
    "- <span t=\"l1\">$X_{profit}=\\{s_1,s_3,s_4,s_5\\}$</span>\n",
    "- <span t=\"l1\">$X_{loss}=\\{s_2,s_6\\}$</span>"
   ]
  },
  {
   "cell_type": "markdown",
   "id": "7556bfda",
   "metadata": {},
   "source": [
    "<span t=\"t\">\n",
    "    \n",
    "| **U/A** \t|    $e$   \t|  $r$  \t|  $t$  \t| $p$   \t|\n",
    "|:-------:\t|:--------:\t|:-----:\t|:-----:\t|-------\t|\n",
    "|  $s_1$  \t|  $high$  \t| $yes$ \t|  $no$ \t| $yes$ \t|\n",
    "|  $s_2$  \t|  $high$  \t| $yes$ \t|  $no$ \t| $no$  \t|\n",
    "|  $s_3$  \t| $medium$ \t| $yes$ \t| $yes$ \t| $yes$ \t|\n",
    "|  $s_4$  \t|   $low$  \t| $yes$ \t| $yes$ \t| $yes$ \t|\n",
    "|  $s_5$  \t|   $low$  \t| $yes$ \t| $yes$ \t| $yes$ \t|\n",
    "|  $s_6$  \t|  $high$  \t|  $no$ \t| $yes$ \t| $no$  \t|\n",
    "    \n",
    "</span>\n",
    "\n",
    "Klasy równoważności:\n",
    "- $B(s1)=B(s2)=\\{s1,s2\\}$\n",
    "- $B(s3)=\\{s3\\}$\n",
    "- $B(s4)=B(s5)=\\{s4,s5\\}$\n",
    "- $B(s6)=\\{s6\\}$"
   ]
  },
  {
   "cell_type": "markdown",
   "id": "f8234ea3",
   "metadata": {},
   "source": [
    "<span t=\"t\">\n",
    "    \n",
    "| **U/A** \t|    $e$   \t|  $r$  \t|  $t$  \t| $p$   \t|\n",
    "|:-------:\t|:--------:\t|:-----:\t|:-----:\t|-------\t|\n",
    "|  $s_1$  \t|  $high$  \t| $yes$ \t|  $no$ \t| $yes$ \t|\n",
    "|  $s_2$  \t|  $high$  \t| $yes$ \t|  $no$ \t| $no$  \t|\n",
    "|  $s_3$  \t| $medium$ \t| $yes$ \t| $yes$ \t| $yes$ \t|\n",
    "|  $s_4$  \t|   $low$  \t| $yes$ \t| $yes$ \t| $yes$ \t|\n",
    "|  $s_5$  \t|   $low$  \t| $yes$ \t| $yes$ \t| $yes$ \t|\n",
    "|  $s_6$  \t|  $high$  \t|  $no$ \t| $yes$ \t| $no$  \t|\n",
    "    \n",
    "</span>\n",
    "\n",
    "$B$-dolne przybliżenie zbioru $X_{profit}$:\n",
    "- $\\underline {B} X_{profit}=\\{s_3, s_4, s_5\\}$\n",
    "\n",
    "$B$-górne przybliżenie zbioru $X_{profit}$:\n",
    "- $\\overline {B} X_{profit}=\\{s_1, s_2, s_3, s_4, s_5\\}$\n",
    "\n",
    "$B$-brzeg zbioru $X_{profit}$:\n",
    "- $BN_B(X_{profit})=\\overline {B} X_{profit} - \\underline{B} X_{profit}=\\{s_1, s_2\\}$"
   ]
  },
  {
   "cell_type": "markdown",
   "id": "d6c863f0",
   "metadata": {},
   "source": [
    "<img src=\"../pliki_wlasne/aproksymacja-zbioru.png\" width=\"500\"/>\n",
    "\n"
   ]
  },
  {
   "cell_type": "markdown",
   "id": "9d7a56aa",
   "metadata": {},
   "source": [
    "## Redukt"
   ]
  },
  {
   "cell_type": "markdown",
   "id": "d5c7556d",
   "metadata": {},
   "source": [
    "### Redukt \n",
    "\n",
    "<span t=\"l1\">Redukt jest minimalnym zbiorem atrybutów w systemie informacyjnym, takim że zachowana zostaje taka sama rozróżnialność obiektów jak dla całego zbioru atrybutów.</span>\n"
   ]
  },
  {
   "cell_type": "markdown",
   "id": "1674a61b",
   "metadata": {},
   "source": [
    "<span t=\"t\">\n",
    "    \n",
    "| **U/A** \t|    $e$   \t|   $q$  \t|  $c$  \t|  $r$  \t|  $t$  \t|\n",
    "|:-------:\t|:--------:\t|:------:\t|:-----:\t|:-----:\t|:-----:\t|\n",
    "|  $s_1$  \t|  $high$  \t| $good$ \t| $yes$ \t| $yes$ \t|  $no$ \t|\n",
    "|  $s_2$  \t|  $high$  \t| $good$ \t|  $no$ \t| $yes$ \t|  $no$ \t|\n",
    "|  $s_3$  \t| $medium$ \t| $good$ \t| $yes$ \t| $yes$ \t| $yes$ \t|\n",
    "|  $s_4$  \t|   $low$  \t|  $avg$ \t| $yes$ \t| $yes$ \t| $yes$ \t|\n",
    "|  $s_5$  \t|   $low$  \t| $good$ \t| $yes$ \t| $yes$ \t| $yes$ \t|\n",
    "|  $s_6$  \t|  $high$  \t|  $avg$ \t|  $no$ \t|  $no$ \t| $yes$ \t|\n",
    "    \n",
    "</span>\n",
    "\n",
    "<span t=\"t\">\n",
    "    \n",
    "| **U/A** \t|    $e$   \t|  $r$  \t|  $t$  \t|\n",
    "|:-------:\t|:--------:\t|:-----:\t|:-----:\t|\n",
    "|  $s_1$  \t|  $high$  \t| $yes$ \t|  $no$ \t|\n",
    "|  $s_2$  \t|  $high$  \t| $yes$ \t|  $no$ \t|\n",
    "|  $s_3$  \t| $medium$ \t| $yes$ \t| $yes$ \t|\n",
    "|  $s_4$  \t|   $low$  \t| $yes$ \t| $yes$ \t|\n",
    "|  $s_5$  \t|   $low$  \t| $yes$ \t| $yes$ \t|\n",
    "|  $s_6$  \t|  $high$  \t|  $no$ \t| $yes$ \t|\n",
    "    \n",
    "</span>\n",
    "\n",
    "<span t=\"l1\">$B=\\{e, r, t\\} $</span>\n",
    "\n",
    "<span t=\"l1\">Wniosek: $B$ nie może być reduktem w systemie informacyjnym $S$.</span>"
   ]
  },
  {
   "cell_type": "markdown",
   "id": "64502a5d",
   "metadata": {},
   "source": [
    "<span t=\"t\">\n",
    "    \n",
    "| **U/A** \t|    $e$   \t|   $q$  \t|  $c$  \t|  $r$  \t|  $t$  \t|\n",
    "|:-------:\t|:--------:\t|:------:\t|:-----:\t|:-----:\t|:-----:\t|\n",
    "|  $s_1$  \t|  $high$  \t| $good$ \t| $yes$ \t| $yes$ \t|  $no$ \t|\n",
    "|  $s_2$  \t|  $high$  \t| $good$ \t|  $no$ \t| $yes$ \t|  $no$ \t|\n",
    "|  $s_3$  \t| $medium$ \t| $good$ \t| $yes$ \t| $yes$ \t| $yes$ \t|\n",
    "|  $s_4$  \t|   $low$  \t|  $avg$ \t| $yes$ \t| $yes$ \t| $yes$ \t|\n",
    "|  $s_5$  \t|   $low$  \t| $good$ \t| $yes$ \t| $yes$ \t| $yes$ \t|\n",
    "|  $s_6$  \t|  $high$  \t|  $avg$ \t|  $no$ \t|  $no$ \t| $yes$ \t|\n",
    "    \n",
    "</span>\n",
    "\n",
    "<span t=\"t\">\n",
    "    \n",
    "| **U/A** \t|    $e$   \t|  $q$  \t|  $c$  \t|\n",
    "|:-------:\t|:--------:\t|:-----:\t|:-----:\t|\n",
    "|  $s_1$  \t|  $high$  \t| $good$ \t|  $yes$ \t|\n",
    "|  $s_2$  \t|  $high$  \t| $good$ \t|  $no$ \t|\n",
    "|  $s_3$  \t| $medium$ \t| $good$ \t| $yes$ \t|\n",
    "|  $s_4$  \t|   $low$  \t| $avg$ \t| $yes$ \t|\n",
    "|  $s_5$  \t|   $low$  \t| $good$ \t| $yes$ \t|\n",
    "|  $s_6$  \t|  $high$  \t|  $avg$ \t| $no$ \t|\n",
    "    \n",
    "</span>\n",
    "\n",
    "<span t=\"l1\">$C=\\{e, q, c\\} $</span>\n",
    "\n",
    "<span t=\"l1\">Wniosek: $C$ może być reduktem w systemie informacyjnym $S$.</span>"
   ]
  },
  {
   "cell_type": "markdown",
   "id": "dad8e521",
   "metadata": {},
   "source": [
    "<span t=\"t\">\n",
    "    \n",
    "| **U/A** \t|    $e$   \t|  $q$  \t|  $c$  \t|\n",
    "|:-------:\t|:--------:\t|:-----:\t|:-----:\t|\n",
    "|  $s_1$  \t|  $high$  \t| $good$ \t|  $yes$ \t|\n",
    "|  $s_2$  \t|  $high$  \t| $good$ \t|  $no$ \t|\n",
    "|  $s_3$  \t| $medium$ \t| $good$ \t| $yes$ \t|\n",
    "|  $s_4$  \t|   $low$  \t| $avg$ \t| $yes$ \t|\n",
    "|  $s_5$  \t|   $low$  \t| $good$ \t| $yes$ \t|\n",
    "|  $s_6$  \t|  $high$  \t|  $avg$ \t| $no$ \t    |\n",
    "    \n",
    "</span>\n",
    "\n",
    "<span t=\"l1\">$C=\\{e, q, c\\} $</span>\n",
    "\n",
    "<span t=\"l1\">Wniosek: $C$ może być reduktem w systemie informacyjnym $S$.</span>\n",
    "\n",
    "\n",
    "<span t=\"t\">\n",
    "    \n",
    "| **U/A** \t|  $q$  \t|  $c$  \t|\n",
    "|:-------:\t|:-----:\t|:-----:\t|\n",
    "|  $s_1$  \t| $good$ \t|  $yes$ \t|\n",
    "|  $s_2$  \t| $good$ \t|  $no$ \t|\n",
    "|  $s_3$  \t| $good$ \t| $yes$ \t|\n",
    "|  $s_4$  \t| $avg$ \t| $yes$ \t|\n",
    "|  $s_5$  \t| $good$ \t| $yes$ \t|\n",
    "|  $s_6$  \t|  $avg$ \t| $no$ \t    |\n",
    "    \n",
    "</span>\n",
    "\n",
    "<span t=\"t\">\n",
    "    \n",
    "| **U/A** \t|    $e$   \t|  $c$  \t|\n",
    "|:-------:\t|:--------:\t|:-----:\t|\n",
    "|  $s_1$  \t|  $high$  \t|  $yes$ \t|\n",
    "|  $s_2$  \t|  $high$  \t|  $no$ \t|\n",
    "|  $s_3$  \t| $medium$ \t| $yes$ \t|\n",
    "|  $s_4$  \t|   $low$  \t| $yes$ \t|\n",
    "|  $s_5$  \t|   $low$  \t| $yes$ \t|\n",
    "|  $s_6$  \t|  $high$  \t| $no$ \t    |\n",
    "    \n",
    "</span>\n",
    "\n",
    "<span t=\"t\">\n",
    "    \n",
    "| **U/A** \t|    $e$   \t|  $q$  \t|\n",
    "|:-------:\t|:--------:\t|:-----:\t|\n",
    "|  $s_1$  \t|  $high$  \t| $good$ \t|\n",
    "|  $s_2$  \t|  $high$  \t| $good$ \t|\n",
    "|  $s_3$  \t| $medium$ \t| $good$ \t|\n",
    "|  $s_4$  \t|   $low$  \t| $avg$ \t|\n",
    "|  $s_5$  \t|   $low$  \t| $good$ \t|\n",
    "|  $s_6$  \t|  $high$  \t|  $avg$ \t|\n",
    "    \n",
    "</span>\n"
   ]
  },
  {
   "cell_type": "markdown",
   "id": "0ff74bbc",
   "metadata": {},
   "source": [
    "### Obliczanie reduktów\n",
    "\n",
    "<span t=\"l1\">Obliczanie reduktów jest problemem NP-trudnym.</span>\n",
    "\n",
    "<span t=\"l1\">Do obliczania reduktów wykorzystywana jest macierz rozróżnialności.</span>\n",
    "\n",
    "<span t=\"l1\">Dla systemu informacyjnego $S=(U,A)$, gdzie $card(U)=n$, macierz rozróżnialności DM jest macierzą $n \\times n$. Element $m_{ij}$ macierzy DM jest\n",
    "zbiorem wszystkich atrybutów rozróżniających obiekty $u_i$ oraz $u_j$.</span>\n"
   ]
  },
  {
   "cell_type": "markdown",
   "id": "0b69a96c",
   "metadata": {},
   "source": [
    "<span t=\"t\">\n",
    "    \n",
    "| **U/A** \t|    $e$   \t|   $q$  \t|  $c$  \t|  $r$  \t|  $t$  \t|\n",
    "|:-------:\t|:--------:\t|:------:\t|:-----:\t|:-----:\t|:-----:\t|\n",
    "|  $s_1$  \t|  $high$  \t| $good$ \t| $yes$ \t| $yes$ \t|  $no$ \t|\n",
    "|  $s_2$  \t|  $high$  \t| $good$ \t|  $no$ \t| $yes$ \t|  $no$ \t|\n",
    "|  $s_3$  \t| $medium$ \t| $good$ \t| $yes$ \t| $yes$ \t| $yes$ \t|\n",
    "|  $s_4$  \t|   $low$  \t|  $avg$ \t| $yes$ \t| $yes$ \t| $yes$ \t|\n",
    "|  $s_5$  \t|   $low$  \t| $good$ \t| $yes$ \t| $yes$ \t| $yes$ \t|\n",
    "|  $s_6$  \t|  $high$  \t|  $avg$ \t|  $no$ \t|  $no$ \t| $yes$ \t|\n",
    "    \n",
    "</span>\n",
    "\n",
    "<span t=\"t\">\n",
    "\n",
    "| **U/A** \t|   $s_1$   \t|  $s_2$  \t|   $s_3$   \t| $s_4$   \t| $s_5$     \t| $s_6$ \t|\n",
    "|:-------:\t|:---------:\t|:-------:\t|:---------:\t|---------\t|-----------\t|-------\t|\n",
    "|  $s_1$  \t|           \t|         \t|           \t|         \t|           \t|       \t|\n",
    "|  $s_2$  \t|    $c$    \t|         \t|           \t|         \t|           \t|       \t|\n",
    "|  $s_3$  \t|   $e,t$   \t| $e,c,t$ \t|           \t|         \t|           \t|       \t|\n",
    "|  $s_4$  \t|  $e,q,t$  \t| $e,c,t$ \t|   $e,q$   \t|         \t|           \t|       \t|\n",
    "|  $s_5$  \t|   $e,t$   \t| $e,c,t$ \t|    $e$    \t| $q$     \t|           \t|       \t|\n",
    "|  $s_6$  \t| $q,c,r,t$ \t| $q,r,t$ \t| $e,q,c,r$ \t| $e,c,r$ \t| $e,q,c,r$ \t|       \t|\n",
    "    \n",
    "</span>    "
   ]
  },
  {
   "cell_type": "markdown",
   "id": "c311dd04",
   "metadata": {},
   "source": [
    "<span t=\"t\">\n",
    "\n",
    "| **U/A** \t|   $s_1$   \t|  $s_2$  \t|   $s_3$   \t| $s_4$   \t| $s_5$     \t| $s_6$ \t|\n",
    "|:-------:\t|:---------:\t|:-------:\t|:---------:\t|---------\t|-----------\t|-------\t|\n",
    "|  $s_1$  \t|           \t|         \t|           \t|         \t|           \t|       \t|\n",
    "|  $s_2$  \t|    $c$    \t|         \t|           \t|         \t|           \t|       \t|\n",
    "|  $s_3$  \t|   $e,t$   \t| $e,c,t$ \t|           \t|         \t|           \t|       \t|\n",
    "|  $s_4$  \t|  $e,q,t$  \t| $e,c,t$ \t|   $e,q$   \t|         \t|           \t|       \t|\n",
    "|  $s_5$  \t|   $e,t$   \t| $e,c,t$ \t|    $e$    \t| $q$     \t|           \t|       \t|\n",
    "|  $s_6$  \t| $q,c,r,t$ \t| $q,r,t$ \t| $e,q,c,r$ \t| $e,c,r$ \t| $e,q,c,r$ \t|       \t|\n",
    "    \n",
    "</span>\n",
    "\n",
    "<span t=\"l1\">Funkcja rozróżnialności</span>\n",
    "\n",
    "<span t=\"l2\">\n",
    "    \n",
    "$c\\land (e\\lor t)\\land (e\\lor c \\lor t)\\land (e\\lor q \\lor t)\\land (e\\lor c \\lor t) \\land$\n",
    "\n",
    "$(e\\lor q)\\land (e\\lor t)\\land (e\\lor c \\lor t)\\land e  \\land q \\land$\n",
    "\n",
    "$(q\\lor r\\lor c\\lor t)\\land (q\\lor r\\lor t)\\land (e\\lor q \\lor c \\lor r) \\land$\n",
    "\n",
    "$(e\\lor c \\lor r)\\land (e\\lor q\\lor c \\lor t)$</span>\n",
    "\n",
    "<span t=\"l1\">Minimalna postać sumy iloczynów, każdy implikant pierwszy jest reduktem</span>\n",
    "\n",
    "<span t=\"l2\">$e \\lor q \\lor c$</span>"
   ]
  },
  {
   "cell_type": "markdown",
   "id": "f88ffee6",
   "metadata": {},
   "source": [
    "<span t=\"t\">\n",
    "    \n",
    "| **U/A** \t|    $e$   \t|   $q$  \t|  $c$  \t|  $r$  \t|  $t$  \t| $p$   \t|\n",
    "|:-------:\t|:--------:\t|:------:\t|:-----:\t|:-----:\t|:-----:\t|-------\t|\n",
    "|  $s_1$  \t|  $high$  \t| $good$ \t| $yes$ \t| $yes$ \t|  $no$ \t| $yes$ \t|\n",
    "|  $s_2$  \t|  $high$  \t| $good$ \t|  $no$ \t| $yes$ \t|  $no$ \t| $no$  \t|\n",
    "|  $s_3$  \t| $medium$ \t| $good$ \t| $yes$ \t| $yes$ \t| $yes$ \t| $yes$ \t|\n",
    "|  $s_4$  \t|   $low$  \t|  $avg$ \t| $yes$ \t| $yes$ \t| $yes$ \t| $yes$ \t|\n",
    "|  $s_5$  \t|   $low$  \t| $good$ \t| $yes$ \t| $yes$ \t| $yes$ \t| $yes$ \t|\n",
    "|  $s_6$  \t|  $high$  \t|  $avg$ \t|  $no$ \t|  $no$ \t| $yes$ \t| $no$  \t|\n",
    "\n",
    "</span>\n",
    "\n",
    "<span t=\"t\">\n",
    "    \n",
    "| **U/A** \t|  $c$  \t|  $c$  \t|\n",
    "|:-------:\t|:-----:\t|:-----:\t|\n",
    "|  $s_1$  \t| $yes$ \t|  $yes$ \t|\n",
    "|  $s_2$  \t| $no$  \t|  $no$ \t|\n",
    "|  $s_3$  \t| $yes$ \t| $yes$ \t|\n",
    "|  $s_4$  \t| $yes$ \t| $yes$ \t|\n",
    "|  $s_5$  \t| $yes$ \t| $yes$ \t|\n",
    "|  $s_6$  \t| $no$  \t| $no$ \t    |\n",
    "    \n",
    "</span>\n",
    "\n",
    "<span t=\"l1\">Atrybut $c$ umożliwia podjęcie takiej samej decyzji jak cały zbiór atrybutów.</span>\n",
    "\n",
    "<span t=\"l1\">Atrybut $c$ jest reduktem ze względu na atrybut decyzyjny $p$.</span>"
   ]
  },
  {
   "cell_type": "markdown",
   "id": "5997b7f1",
   "metadata": {},
   "source": [
    "## Reguły"
   ]
  },
  {
   "cell_type": "markdown",
   "id": "ace8b583",
   "metadata": {},
   "source": [
    "### Reguły\n",
    "\n",
    "<span t=\"l1\">Reguły umożliwiają reprezentację wiedzy. </span>\n",
    "\n",
    "<span t=\"l1\">Przykładowe zapisy reguł:</span>\n",
    "\n",
    "- <span t=\"l2\">zbiór warunków => decyzja</span>\n",
    "- <span t=\"l2\">IF zbiór warunków THEN decyzja</span>\n"
   ]
  },
  {
   "cell_type": "markdown",
   "id": "160c241b",
   "metadata": {},
   "source": [
    "<span t=\"t\">\n",
    "    \n",
    "| **U/A** \t|    $e$   \t|   $q$  \t|  $c$  \t|  $r$  \t|  $t$  \t|\n",
    "|:-------:\t|:--------:\t|:------:\t|:-----:\t|:-----:\t|:-----:\t|\n",
    "|  $s_1$  \t|  $high$  \t| $good$ \t| $yes$ \t| $yes$ \t|  $no$ \t|\n",
    "|  $s_2$  \t|  $high$  \t| $good$ \t|  $no$ \t| $yes$ \t|  $no$ \t|\n",
    "|  $s_3$  \t| $medium$ \t| $good$ \t| $yes$ \t| $yes$ \t| $yes$ \t|\n",
    "|  $s_4$  \t|   $low$  \t|  $avg$ \t| $yes$ \t| $yes$ \t| $yes$ \t|\n",
    "|  $s_5$  \t|   $low$  \t| $good$ \t| $yes$ \t| $yes$ \t| $yes$ \t|\n",
    "|  $s_6$  \t|  $high$  \t|  $avg$ \t|  $no$ \t|  $no$ \t| $yes$ \t|\n",
    "    \n",
    "</span>\n",
    "\n",
    "- <span t=\"l1\">$(e, medium) \\Rightarrow (r, yes)$</span>\n",
    "- <span t=\"l1\">$(e, high) \\land (q, good) \\Rightarrow (t, no)$</span>\n",
    "- <span t=\"l1\">$(q,good) \\lor (c, yes) \\Rightarrow (t, yes) \\lor (t, no) $</span>"
   ]
  },
  {
   "cell_type": "markdown",
   "id": "174aa7b3",
   "metadata": {},
   "source": [
    "### Reguły decyzyjne\n",
    "\n",
    "<span t=\"t\">\n",
    "    \n",
    "| **U/A** \t|    $e$   \t|   $q$  \t|  $c$  \t|  $r$  \t|  $t$  \t| $p$   \t|\n",
    "|:-------:\t|:--------:\t|:------:\t|:-----:\t|:-----:\t|:-----:\t|-------\t|\n",
    "|  $s_1$  \t|  $high$  \t| $good$ \t| $yes$ \t| $yes$ \t|  $no$ \t| $yes$ \t|\n",
    "|  $s_2$  \t|  $high$  \t| $good$ \t|  $no$ \t| $yes$ \t|  $no$ \t| $no$  \t|\n",
    "|  $s_3$  \t| $medium$ \t| $good$ \t| $yes$ \t| $yes$ \t| $yes$ \t| $yes$ \t|\n",
    "|  $s_4$  \t|   $low$  \t|  $avg$ \t| $yes$ \t| $yes$ \t| $yes$ \t| $yes$ \t|\n",
    "|  $s_5$  \t|   $low$  \t| $good$ \t| $yes$ \t| $yes$ \t| $yes$ \t| $yes$ \t|\n",
    "|  $s_6$  \t|  $high$  \t|  $avg$ \t|  $no$ \t|  $no$ \t| $yes$ \t| $no$  \t|\n",
    "\n",
    "</span>\n",
    "\n",
    "<span t=\"l1\">Dla $s_1$:</span>\n",
    "- <span t=\"l2\">$(e,high) \\land (q, good) \\land (c, yes) \\land (r, yes) \\land (t, no) \\Rightarrow (p, yes)$</span>\n",
    "\n",
    "<span t=\"l1\">Dla $s_6$:</span>\n",
    "- <span t=\"l2\">$(e,high) \\land (q, avg) \\land (c, no) \\land (r, no) \\land (t, yes) \\Rightarrow (p, no)$</span>"
   ]
  },
  {
   "cell_type": "markdown",
   "id": "ced6a64b",
   "metadata": {},
   "source": [
    "<span t=\"t\">\n",
    "    \n",
    "| **U/A** \t|    $e$   \t|  $r$  \t|  $t$  \t| $p$   \t|\n",
    "|:-------:\t|:-----:\t|:-----:\t|:-----:\t|-------\t|\n",
    "|  $s_1$  \t|  $high$  \t| $yes$ \t|  $no$ \t| $yes$ \t|\n",
    "|  $s_2$  \t|  $high$  \t| $yes$ \t|  $no$ \t| $no$  \t|\n",
    "|  $s_3$  \t| $medium$ \t| $yes$ \t| $yes$ \t| $yes$ \t|\n",
    "|  $s_4$  \t|   $low$  \t| $yes$ \t| $yes$ \t| $yes$ \t|\n",
    "|  $s_5$  \t|   $low$  \t| $yes$ \t| $yes$ \t| $yes$ \t|\n",
    "|  $s_6$  \t|  $high$  \t|  $no$ \t| $yes$ \t| $no$  \t|\n",
    "\n",
    "</span>\n",
    "\n",
    "\n",
    "- <span t=\"l2\">$(e,high) \\land (r, yes) \\land (t, no) \\Rightarrow (p, yes)$</span>\n",
    "- <span t=\"l2\">$(e,high) \\land (r, yes) \\land (t, no) \\Rightarrow (p, no)$</span>\n",
    "- <span t=\"l2\">$(e,medium) \\land (r, yes) \\land (t, yes) \\Rightarrow (p, yes)$</span>\n",
    "- <span t=\"l2\">$(e,low) \\land (r, yes) \\land (t, yes) \\Rightarrow (p, yes)$</span>\n",
    "- <span t=\"l2\">$(e,low) \\land (r, yes) \\land (t, yes) \\Rightarrow (p, yes)$</span>\n",
    "- <span t=\"l2\">$(e,high) \\land (r, no) \\land (t, yes) \\Rightarrow (p, no)$</span>\n",
    "\n",
    "<span t=\"l1\">Reguły sprzeczne</span>\n",
    "- <span t=\"l2\">$(e,high) \\land (r, yes) \\land (t, no) \\Rightarrow (p, yes)$</span>\n",
    "- <span t=\"l2\">$(e,high) \\land (r, yes) \\land (t, no) \\Rightarrow (p, no)$</span>\n",
    "\n",
    "<span t=\"l1\">Reguły niesprzeczne</span>\n",
    "- <span t=\"l2\">$(e,low) \\land (r, yes) \\land (t, yes) \\Rightarrow (p, yes)$</span>\n",
    "- <span t=\"l2\">$(e,low) \\land (r, yes) \\land (t, yes) \\Rightarrow (p, yes)$</span>"
   ]
  },
  {
   "cell_type": "markdown",
   "id": "4cbf0b10",
   "metadata": {},
   "source": [
    "### Reguły decyzyjne\n",
    "\n",
    "<span t=\"l1\">Reguła: $r: \\Psi \\Rightarrow \\Phi $</span>\n",
    "\n",
    "<span t=\"l1\">Pewność reguły: $cer_r= \\frac{LR}{L} $</span>\n",
    "\n",
    "- <span t=\"l2\">LR - liczba obiektów spełniających obie części reguły $\\Psi$ oraz $\\Phi$</span>\n",
    "- <span t=\"l2\">L - liczba obiektów spełniających lewą część reguły $\\Psi$</span>\n",
    "\n",
    "\n",
    "<span t=\"l1\">reguła pewna:</span>\n",
    "<span t=\"l2\">$cerr=1$</span>\n",
    "\n",
    "<span t=\"l1\">reguła niepewna:</span>\n",
    "<span t=\"l2\">$cerr<1$</span>"
   ]
  },
  {
   "cell_type": "markdown",
   "id": "40fb9770",
   "metadata": {},
   "source": [
    "\n",
    "<span t=\"t\">\n",
    "    \n",
    "| **U/A** \t|    $e$   \t|   $q$  \t|  $c$  \t|  $r$  \t|  $t$  \t| $p$   \t|\n",
    "|:-------:\t|:--------:\t|:------:\t|:-----:\t|:-----:\t|:-----:\t|-------\t|\n",
    "|  $s_1$  \t|  $high$  \t| $good$ \t| $yes$ \t| $yes$ \t|  $no$ \t| $yes$ \t|\n",
    "|  $s_2$  \t|  $high$  \t| $good$ \t|  $no$ \t| $yes$ \t|  $no$ \t| $no$  \t|\n",
    "|  $s_3$  \t| $medium$ \t| $good$ \t| $yes$ \t| $yes$ \t| $yes$ \t| $yes$ \t|\n",
    "|  $s_4$  \t|   $low$  \t|  $avg$ \t| $yes$ \t| $yes$ \t| $yes$ \t| $yes$ \t|\n",
    "|  $s_5$  \t|   $low$  \t| $good$ \t| $yes$ \t| $yes$ \t| $yes$ \t| $yes$ \t|\n",
    "|  $s_6$  \t|  $high$  \t|  $avg$ \t|  $no$ \t|  $no$ \t| $yes$ \t| $no$  \t|\n",
    "\n",
    "</span>\n",
    "\n",
    "<span t=\"l1\">Reguła decyzyjna niepewna:</span>\n",
    "<span t=\"l2\">$(e, high) \\land (q, good) \\Rightarrow (p, yes)$</span>\n",
    "\n",
    "<span t=\"l1\">Obiekty spełniające lewą część reguły: $s_1$, $s_2$</span>\n",
    "\n",
    "<span t=\"l1\">Obiekty spełniające obie części reguły: $s_1$</span>\n",
    "\n",
    "<span t=\"l1\">Składowe reguły pewności:</span>\n",
    "\n",
    "- <span t=\"l2\">$L=2$ </span>\n",
    "- <span t=\"l2\">$LR=1$</span>\n",
    "- <span t=\"l2\">$cer_r =0.5$</span>"
   ]
  },
  {
   "cell_type": "markdown",
   "id": "4901ee45",
   "metadata": {},
   "source": [
    "\n",
    "<span t=\"t\">\n",
    "    \n",
    "| **U/A** \t|    $e$   \t|   $q$  \t|  $c$  \t|  $r$  \t|  $t$  \t| $p$   \t|\n",
    "|:-------:\t|:--------:\t|:------:\t|:-----:\t|:-----:\t|:-----:\t|-------\t|\n",
    "|  $s_1$  \t|  $high$  \t| $good$ \t| $yes$ \t| $yes$ \t|  $no$ \t| $yes$ \t|\n",
    "|  $s_2$  \t|  $high$  \t| $good$ \t|  $no$ \t| $yes$ \t|  $no$ \t| $no$  \t|\n",
    "|  $s_3$  \t| $medium$ \t| $good$ \t| $yes$ \t| $yes$ \t| $yes$ \t| $yes$ \t|\n",
    "|  $s_4$  \t|   $low$  \t|  $avg$ \t| $yes$ \t| $yes$ \t| $yes$ \t| $yes$ \t|\n",
    "|  $s_5$  \t|   $low$  \t| $good$ \t| $yes$ \t| $yes$ \t| $yes$ \t| $yes$ \t|\n",
    "|  $s_6$  \t|  $high$  \t|  $avg$ \t|  $no$ \t|  $no$ \t| $yes$ \t| $no$  \t|\n",
    "\n",
    "</span>\n",
    "\n",
    "<span t=\"l1\">Reguła decyzyjna pewna:</span>\n",
    "<span t=\"l2\">$(q, good) \\land (t, yes) \\Rightarrow (p, yes)$</span>\n",
    "\n",
    "<span t=\"l1\">Obiekty spełniające lewą część reguły: $s_3$, $s_5$</span>\n",
    "\n",
    "<span t=\"l1\">Obiekty spełniające obie części reguły: $s_3$, $s_5$</span>\n",
    "\n",
    "<span t=\"l1\">Składowe reguły pewności:</span>\n",
    "\n",
    "- <span t=\"l2\">$L=2$ </span>\n",
    "- <span t=\"l2\">$LR=2$</span>\n",
    "- <span t=\"l2\">$cer_r = 1$</span>"
   ]
  },
  {
   "cell_type": "markdown",
   "id": "a78db45b",
   "metadata": {},
   "source": [
    "###  Reguły decyzyjne minimalne\n",
    "\n",
    "<span t=\"l1\">Dana jest reguła pewna $r$:</span>\n",
    "\n",
    "- <span t=\"l2\">$(a_{i1}, v_{i1}) \\land (a_{i2}, v_{i2}) \\land ... \\land (a_{ik}, v_{ik}) \\Rightarrow (a_d, v_d)$</span>\n",
    "\n",
    "<span t=\"l1\">Reguła pewna $r$ jest regułą minimalną jeśli usunięcie dowolnej pary atrybut-wartość z lewej części reguły spowoduje, że reguła $r$ przestanie być regułą pewną.</span>\n",
    "\n"
   ]
  },
  {
   "cell_type": "markdown",
   "id": "65afae2c",
   "metadata": {},
   "source": [
    "\n",
    "<span t=\"t\">\n",
    "    \n",
    "| **U/A** \t|    $e$   \t|   $q$  \t|  $c$  \t|  $r$  \t|  $t$  \t| $p$   \t|\n",
    "|:-------:\t|:--------:\t|:------:\t|:-----:\t|:-----:\t|:-----:\t|-------\t|\n",
    "|  $s_1$  \t|  $high$  \t| $good$ \t| $yes$ \t| $yes$ \t|  $no$ \t| $yes$ \t|\n",
    "|  $s_2$  \t|  $high$  \t| $good$ \t|  $no$ \t| $yes$ \t|  $no$ \t| $no$  \t|\n",
    "|  $s_3$  \t| $medium$ \t| $good$ \t| $yes$ \t| $yes$ \t| $yes$ \t| $yes$ \t|\n",
    "|  $s_4$  \t|   $low$  \t|  $avg$ \t| $yes$ \t| $yes$ \t| $yes$ \t| $yes$ \t|\n",
    "|  $s_5$  \t|   $low$  \t| $good$ \t| $yes$ \t| $yes$ \t| $yes$ \t| $yes$ \t|\n",
    "|  $s_6$  \t|  $high$  \t|  $avg$ \t|  $no$ \t|  $no$ \t| $yes$ \t| $no$  \t|\n",
    "\n",
    "</span>\n",
    "\n",
    "<span t=\"l1\">Reguła decyzyjna minimalna:</span>\n",
    "- <span t=\"l2\">$(q, good) \\land (t, yes) \\Rightarrow (p, yes)$</span>\n",
    "\n",
    "<span t=\"l1\">Reguła niepewna:</span>\n",
    "\n",
    "- <span t=\"l2\">$(q, good) \\Rightarrow (p, yes)$</span>\n",
    "- <span t=\"l2\">$(t, yes) \\Rightarrow (p, yes)$</span>\n",
    "\n",
    "\n"
   ]
  },
  {
   "cell_type": "code",
   "execution_count": null,
   "id": "bae5f9e9",
   "metadata": {},
   "outputs": [],
   "source": []
  }
 ],
 "metadata": {
  "kernelspec": {
   "display_name": "R",
   "language": "R",
   "name": "ir"
  },
  "language_info": {
   "codemirror_mode": "r",
   "file_extension": ".r",
   "mimetype": "text/x-r-source",
   "name": "R",
   "pygments_lexer": "r",
   "version": "3.6.1"
  }
 },
 "nbformat": 4,
 "nbformat_minor": 5
}
