{
 "cells": [
  {
   "cell_type": "markdown",
   "id": "bad8c30e",
   "metadata": {},
   "source": [
    "# Idea sztucznej inteligencji"
   ]
  },
  {
   "cell_type": "markdown",
   "id": "27790fbb",
   "metadata": {},
   "source": [
    "### Motto\n",
    "\n",
    "> <span t=\"q\">Boję się nie tyle sztucznej inteligencji, ile naturalnej głupoty. (Joel de Rosnay – francuski biolog molekularny i informatyk)</span>"
   ]
  },
  {
   "cell_type": "markdown",
   "id": "4f0aa52c",
   "metadata": {},
   "source": [
    "### Trójkąt: Dane, Informacja, Wiedza, Mądrość\n",
    "\n",
    "<img src=\"../pliki_wlasne/trojkat-dane-informacja.png\" width=\"400\"/>\n"
   ]
  },
  {
   "cell_type": "markdown",
   "id": "32832477",
   "metadata": {},
   "source": [
    "- <span t=\"l1\">Dane - losowa grupa prostych faktów i zdarzeń. </span>\n",
    "- <span t=\"l1\">Informacja - właściwie zegregowane proste fakty w bardziej złożone fakty.</span>\n",
    "- <span t=\"l1\">Wiedza - sumaryczny wynik procesów percepcyjnych, tak zorganizowany, aby można było wyciągać znaczące wnioski.</span>\n",
    "- <span t=\"l1\">Mądrość - najczęściej zdefiniowana jako zdrowy rozsądek lub właściwy osąd.</span>"
   ]
  },
  {
   "cell_type": "markdown",
   "id": "b0ed9571",
   "metadata": {},
   "source": [
    "### Sztuczna inteligencja - (pre)historia\n",
    "\n",
    "- <span t=\"l1\">1943 – Pierwszy  model sztucznego neuronu (Warren S. McCulloch & Walter Pitts).</span>\n",
    "- <span t=\"l1\">1949 – Uczący się sztuczny neuron (Donalda O. Hebb).</span>\n",
    "- <span t=\"l1\">1950 – Test Turinga (Alan Turing).</span>\n",
    "- <span t=\"l1\">1951 – Pierwsza  samoucząca się maszyna (Marvin L. Minsky & D. Edmonds).</span>\n",
    "- <span t=\"l1\">1956 – Termin „sztuczna inteligencja” (John McCarthy).</span>"
   ]
  },
  {
   "cell_type": "markdown",
   "id": "c4b7d41a",
   "metadata": {},
   "source": [
    "### Test Turinga\n",
    "\n",
    "- <span t=\"l1\">Test mający dać odpowiedź na pytanie czy maszyna potrafi myśleć.</span>\n",
    "- <span t=\"l1\">Podstawą testu jest dialog prowadzony w języku naturalnym przez sędziów z niewidzianym rozmówcą.</span>\n",
    "- <span t=\"l1\">Jeżeli po drugiej stronie znajduje się maszyna i nie zostanie rozpoznana ma to stanowić dowód na jej zdolność do myślenia.</span> "
   ]
  },
  {
   "cell_type": "markdown",
   "id": "6e1e6780",
   "metadata": {},
   "source": [
    "### Sztuczna inteligencja\n",
    "\n",
    "- <span t=\"l1\">Sztuczna inteligencja to automatyzacja niektórych intelektualnych działań człowieka w zakresie wnioskowania, kojarzenia faktów i wyboru informacji z użyciem komputera.</span>\n",
    "- <span t=\"l1\">Sztuczna inteligencja to metody programowania komputerów, które powodują zachowanie komputera zbliżone do sposobu myślenia ludzkiego.</span>"
   ]
  },
  {
   "cell_type": "markdown",
   "id": "a29d04d5",
   "metadata": {},
   "source": [
    "<span t=\"l1\">Podstawowe elementy przejmowane z myślenia ludzkiego:</span>\n",
    "- <span t=\"l2\">wnioskowanie,</span>\n",
    "- <span t=\"l2\">uczenie się (nabywanie wiedzy),</span>\n",
    "- <span t=\"l2\">ewolucja i dostosowywanie się do nowych warunków,</span>\n",
    "- <span t=\"l2\">podejmowanie decyzji w warunkach niepewnych.</span>"
   ]
  },
  {
   "cell_type": "markdown",
   "id": "7ea77aba",
   "metadata": {},
   "source": [
    "### Reprezentacja wiedzy\n",
    "\n",
    "- <span t=\"l1\">Trójki: obiekt-atrybut-wartość lub</span> \n",
    "- <span t=\"l1\">Czwórki: obiekt-atrybut-wartość-stopień pewności</span>\n",
    "- <span t=\"l1\">Pozwalają reprezentować fakty.</span>\n",
    "- <span t=\"l1\">Przykład 1:</span>\n",
    "    - <span t=\"l2\">Obiekt: Jan Kowalski </span>\n",
    "    - <span t=\"l2\">Atrybut: Dochód </span>\n",
    "    - <span t=\"l2\">Wartość: 5000</span>\n",
    "- <span t=\"l1\">Przykład 2:</span>\n",
    "    - <span t=\"l2\">Obiekt: Dzień 7 maja 2007 r. </span>\n",
    "    - <span t=\"l2\">Atrybut: Pogoda</span>\n",
    "    - <span t=\"l2\">Wartość: Ładna</span>\n",
    "    - <span t=\"l2\">Stopień pewności: 0,8</span>"
   ]
  },
  {
   "cell_type": "markdown",
   "id": "38e5b4e9",
   "metadata": {},
   "source": [
    "### Reprezentacja wiedzy - ramy (ang. *frames*)\n",
    "- <span t=\"l1\">rama składa się z obiektu i pól, w których można zapisywać informacje związane z tym obiektem</span>\n",
    "\n",
    "- <span t=\"l1\">przykład:</span>\n",
    "\n",
    "<img src=\"../pliki_wlasne/frame.png\" width=\"400\"/>\n",
    "\n"
   ]
  },
  {
   "cell_type": "markdown",
   "id": "101ca697",
   "metadata": {},
   "source": [
    "### Reprezentacja wiedzy\n",
    "\n",
    "- <span t=\"l1\">Reguły (IF-THEN)</span>\n",
    "    - <span t=\"l2\">reguły składają się z przesłanki (IF) oraz konkluzji (THEN),</span>\n",
    "    - <span t=\"l2\">wyrażenia w przesłankach i konkluzjach nazywa się klauzulami,</span>\n",
    "    - <span t=\"l2\">ogólna postać reguły:</span>\n",
    "\n",
    "> <span t=\"q\">JEŚLI $x_1$ jest $V_1$ i/lub $x_2$ jest $V_2$ i/lub ... i/lub $x_n$ jest $V_n$, TO $y$ jest $D$</span>\n",
    "\n"
   ]
  },
  {
   "cell_type": "markdown",
   "id": "0184270e",
   "metadata": {},
   "source": [
    "- <span t=\"l1\">Przykład reguły:</span>\n",
    "\n",
    "> <span t=\"q\">JEŚLI Wiek jest średni i Sytuacja zawodowa jest pracuje i dochody są 2500 TO Ocena klienta jest dobra</span>"
   ]
  },
  {
   "cell_type": "markdown",
   "id": "3b7358b4",
   "metadata": {},
   "source": [
    "### Pozyskiwanie wiedzy\n",
    "\n",
    "- <span t=\"l1\">Wiedza może być pozyskiwana na dwa sposoby:</span>\n",
    "    - <span t=\"l2\">Pozyskiwanie wiedzy od eksperta dziedzinowego.</span>\n",
    "    - <span t=\"l2\">Pozyskiwanie wiedzy z danych za pomocą algorytmów lub narzędzi sztucznej inteligencji.</span>"
   ]
  },
  {
   "cell_type": "markdown",
   "id": "c27b5c31",
   "metadata": {},
   "source": [
    "### Sztuczna inteligencja\n",
    "\n",
    "<img src=\"../pliki_wlasne/sztuczna-inteligencja.png\" width=\"500\"/>\n",
    "\n",
    "- Sztuczna inteligencja (artificial intelligence)\n",
    "    - Uczenie maszynowe\n",
    "    - Przeszukiwanie\n",
    "    - Optymalizacja\n",
    "    - Wnioskowanie\n"
   ]
  }
 ],
 "metadata": {
  "kernelspec": {
   "display_name": "Python 3 (ipykernel)",
   "language": "python",
   "name": "python3"
  },
  "language_info": {
   "codemirror_mode": {
    "name": "ipython",
    "version": 3
   },
   "file_extension": ".py",
   "mimetype": "text/x-python",
   "name": "python",
   "nbconvert_exporter": "python",
   "pygments_lexer": "ipython3",
   "version": "3.9.7"
  }
 },
 "nbformat": 4,
 "nbformat_minor": 5
}
