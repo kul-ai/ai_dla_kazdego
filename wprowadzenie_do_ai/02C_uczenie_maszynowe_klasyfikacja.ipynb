{
 "cells": [
  {
   "cell_type": "markdown",
   "id": "f7884b1d",
   "metadata": {},
   "source": [
    "# Uczenie maszynowe - klasyfikacja"
   ]
  },
  {
   "cell_type": "markdown",
   "id": "70b97ee6",
   "metadata": {},
   "source": [
    "### Tabela decyzyjna – przykład\n",
    "\n",
    "\n",
    "<img src=\"../pliki_wlasne/Tablica_decyzyjna.png\" width=\"500\"/>\n",
    "\n",
    "<span t=\"l1\">Źródło: D.T. Larose: „Odkrywanie wiedzy z danych”. PWN, Warszawa, 2006.</span>\n",
    "\n",
    "- <span t=\"l2\">Atrybuty warunkowe (opisujące przypadki): Oszczędności, Majątek, Dochód</span>\n",
    "- <span t=\"l2\">Atrybuty decyzyjny: Ryzyko</span>"
   ]
  },
  {
   "cell_type": "markdown",
   "id": "018d9051",
   "metadata": {},
   "source": [
    "###  Problem klasyfikacji\n",
    "\n",
    "\n",
    "<img src=\"../pliki_wlasne/problem-klasyfikacji.png\" width=\"500\"/>\n",
    "\n"
   ]
  },
  {
   "cell_type": "markdown",
   "id": "0b27bb69",
   "metadata": {},
   "source": [
    "###  Ocena jakości klasyfikatora\n",
    "\n",
    "<img src=\"../pliki_wlasne/ocena-jakosci-klasyfikatora.png\" width=\"500\"/>\n",
    "\n",
    "\n"
   ]
  },
  {
   "cell_type": "markdown",
   "id": "87278c9d",
   "metadata": {},
   "source": [
    "#### <span t=\"l1\">Macierz pomyłek (konfuzji, rozrzutu)</span>\n",
    "\n",
    "<img src=\"../pliki_wlasne/macierz-pomylek.png\" width=\"500\"/>\n",
    "\n"
   ]
  },
  {
   "cell_type": "markdown",
   "id": "f42dd4da",
   "metadata": {},
   "source": [
    "<span t=\"l1\">Strategie</span>\n",
    "- <span t=\"l2\">Niezależne zbiory: treningowy i testowy.</span>\n",
    "- <span t=\"l2\">Losowy podział zbioru wszystkich przypadków na zbiory: treningowy i testowy w ustalonej proporcji.</span>\n",
    "- <span t=\"l2\">Kroswalidacja k-krotna; kroswalidacja stratyfikowana k-krotna (zachowane są oryginalne proporcje pomiędzy klasami decyzyjnymi).</span>\n",
    "- <span t=\"l2\">Leave one out (szczególny przypadek kroswalidacji k-krotnej).</span>"
   ]
  },
  {
   "cell_type": "markdown",
   "id": "2f2e3ffe",
   "metadata": {},
   "source": [
    "#### <span t=\"l1\">Kroswalidacja k-krotna</span>\n",
    "\n",
    "<span t=\"l1\">Podzbiory $[1..k]$ ← losowy podział zbioru przypadków na k podzbiorów</span>\n",
    "\n",
    "<span t=\"l1\"> Dla każdego $i$ od 1 do $k$:</span>\n",
    "- <span t=\"l2\">zbiór treningowy ← podzbiory z wyjątkiem i-tego </span>\n",
    "- <span t=\"l2\">zbiór testowy ← podzbiór i-ty</span>\n",
    "- <span t=\"l2\">uczenie klasyfikatora na zbiorze treningowym </span>\n",
    "- <span t=\"l2\">testowanie klasyfikatora na zbiorze testowym</span>"
   ]
  },
  {
   "cell_type": "markdown",
   "id": "2e271648",
   "metadata": {},
   "source": [
    "#### <span t=\"l1\"> Leave one out (n - liczba przypadków)</span>\n",
    "\n",
    "Dla każdego $i$ od 1 do $n$:\n",
    "- <span t=\"l2\">zbiór treningowy ← zbiór przypadków z wyjątkiem $i$-tego</span>\n",
    "- <span t=\"l2\">zbiór testowy ← $i$-ty przypadek</span>\n",
    "- <span t=\"l2\">uczenie klasyfikatora na zbiorze treningowym</span>\n",
    "- <span t=\"l2\">testowanie klasyfikatora na zbiorze testowym</span>"
   ]
  },
  {
   "cell_type": "markdown",
   "id": "b47d8f6f",
   "metadata": {},
   "source": [
    "#### <span t=\"l1\"> Macierz pomyłek (konfuzji)</span>\n",
    "<span t=\"t\">\n",
    "    \n",
    "| Klasa przewidywana →<br>Klasa aktualna ↓ \t| Pozytywna \t| Negatywna \t|\n",
    "|:----------------------------------------:\t|:---------:\t|:---------:\t|\n",
    "|                 Pozytywna                \t|     TP    \t|     FN    \t|\n",
    "|                 Negatywna                \t|     FP    \t|     TN    \t|\n",
    "</span>\n",
    "\n",
    "- <span t=\"l1\">TP (true positive) – liczba przypadków prawdziwie pozytywnych</span>\n",
    "- <span t=\"l1\">FP (false positive) – liczba przypadków fałszywie pozytywnych</span>\n",
    "- <span t=\"l1\">TN (true negative) – liczba przypadków prawdziwie negatywnych</span>\n",
    "- <span t=\"l1\">FN (false negative) – liczba przypadków fałszywie negatywnych</span>\n",
    "\n",
    "<span t=\"l1\">Dokładność (accuracy):</span>\n",
    "\n",
    "<span t=\"l2\">$accuracy=\\frac{TP+TN}{TP+FP+TN+FN}$</span>"
   ]
  },
  {
   "cell_type": "markdown",
   "id": "9e4dee4c",
   "metadata": {},
   "source": [
    "### Drzewa decyzyjne\n",
    "\n",
    "<span t=\"l1\">Metody uczenia się drzew decyzyjnych to najbardziej znane i najczęściej stosowane w praktyce algorytmy indukcji symbolicznej reprezentacji wiedzy z przykładów.</span>\n",
    "\n",
    "<span t=\"l1\">Struktura drzewa jest dość czytelna dla człowieka.</span>\n",
    "\n",
    "<span t=\"l1\">Drzewo decyzyjne składa się z korzenia, z którego wychodzą co najmniej dwie gałęzie do węzłów leżących na niższym poziomie.</span>\n",
    "\n",
    "<span t=\"l1\">Z każdym węzłem związany jest test sprawdzający wartości atrybutu opisującego przykłady.</span>"
   ]
  },
  {
   "cell_type": "markdown",
   "id": "4dd45306",
   "metadata": {},
   "source": [
    "<span t=\"l1\">Dla każdego z możliwych wyników testu odpowiadająca mu gałąź prowadzi do węzła na niższym poziomie drzewa.</span>\n",
    "\n",
    "<span t=\"l1\">Węzłom, z których nie wychodzą żadne gałęzie (nazywanym liśćmi) przypisane są odpowiednie klasy decyzyjne.</span>\n",
    "\n",
    "<span t=\"l1\">Ścieżki prowadzące od korzenia do liścia drzewa reprezentują koniunkcję pewnych testów zdefiniowanych na wartościach atrybutów opisujących przykłady uczące.</span>"
   ]
  },
  {
   "cell_type": "markdown",
   "id": "98c06b31",
   "metadata": {},
   "source": [
    "<span t=\"l1\">Drzewo decyzyjne może więc posłużyć do określenia zbioru reguł określających przydział przykładów do klas decyzyjnych.</span>\n",
    "\n",
    "<span t=\"l1\">Każda ścieżka drzewa od korzenia do liścia odpowiada jednej regule.</span>"
   ]
  },
  {
   "cell_type": "markdown",
   "id": "6f28418e",
   "metadata": {},
   "source": [
    "<span t=\"l1\">Przykład</span>\n",
    "\n",
    "<img src=\"../pliki_wlasne/drzewo-decyzyjne.png\" width=\"500\"/>\n",
    "\n"
   ]
  },
  {
   "cell_type": "markdown",
   "id": "a34e5921",
   "metadata": {},
   "source": [
    "### Konstruowanie drzew decyzyjnych\n",
    "\n",
    "<span t=\"l1\">Większość algorytmów konstrukcji (uczenia się) drzew decyzyjnych oparta jest na schemacie zstępującego konstruowania drzewa (TDIDT – Top Down Induction of Decision Trees).</span>\n",
    "\n",
    "<span t=\"l1\">Przykładowe algorytmy:</span>\n",
    "- <span t=\"l2\">CART </span>\n",
    "- <span t=\"l2\">ID3 </span>\n",
    "- <span t=\"l2\">C4.5</span>\n",
    "\n",
    "<span t=\"l1\">Generalnie różnice pomiędzy poszczególnymi algorytmami dotyczą wyboru optymalnego podziału.</span>"
   ]
  },
  {
   "cell_type": "markdown",
   "id": "7f06f03b",
   "metadata": {},
   "source": [
    "### Algorytm C4.5 (nowsza wersja: C5.0)\n",
    "\n",
    "<span t=\"l1\">Został zaproponowany przez Quinlana.</span>\n",
    "\n",
    "<span t=\"l1\">Przy wyborze optymalnego podziału algorytm wykorzystuje pojęcie zysku informacji.</span>\n",
    "\n",
    "<span t=\"l1\">Algorytm umożliwia generowanie drzewa decyzyjnego dla systemu z brakującymi wartościami atrybutów.</span>"
   ]
  },
  {
   "cell_type": "markdown",
   "id": "afbb876e",
   "metadata": {},
   "source": [
    "<span t=\"l1\">Testy dla atrybutów symbolicznych</span>\n",
    "- <span t=\"l2\">dla każdej wartości atrybutu symbolicznego tworzona jest osobna gałąź\n",
    "\n",
    "<span t=\"l1\">Testy dla atrybutów numerycznych ciągłych; stosowany jest test binarny:</span>\n",
    "- <span t=\"l2\">wartość atrybutu mniejsza lub równa od wartości progowej</span>\n",
    "- <span t=\"l2\">wartość atrybutu większa od wartości progowej</span>"
   ]
  },
  {
   "cell_type": "markdown",
   "id": "4e719ca6",
   "metadata": {},
   "source": [
    "### Entropia zbioru treningowego\n",
    "\n",
    "<span t=\"l1\">$E(S)=- \\sum_{i=1}^{k} p_i log p_i$</span>\n",
    "\n",
    "- <span t=\"l2\">$k$ – liczba klas decyzyjnych</span>\n",
    "- <span t=\"l2\">$n$ – liczba wszystkich przykładów uczących (treningowych)</span>\n",
    "- <span t=\"l2\">$n_i$ – liczba przykładów uczących (treningowych) należących do $i$-tej klasy</span>\n",
    "- <span t=\"l2\">$p_i=\\frac{n_i}{n}$</span>\n",
    "- <span t=\"l2\">$i=1,2. ..., k$</span>"
   ]
  },
  {
   "cell_type": "markdown",
   "id": "07027080",
   "metadata": {},
   "source": [
    "### Zysk (przyrost) informacji\n",
    "\n",
    "<span t=\"l1\">$IG(S,a)=E(S) - \\sum_{v \\in V_{a}}^{} \\frac{n_{v}}{n} E(S_{v})$</span>\n",
    "\n",
    "- <span t=\"l2\">$a$ – cecha (atrybut)</span>\n",
    "- <span t=\"l2\">$V$ – zbiór wartości cechy $a$</span>\n",
    "- <span t=\"l2\">$n_v$ – liczba przykładów uczących (treningowych), dla których cecha $a$ ma wartość $v$</span>\n",
    "- <span t=\"l2\">$S_v$ – podzbiór zbioru przykładów uczących (treningowych), dla których cecha $a$ ma wartość $v$</span>"
   ]
  },
  {
   "cell_type": "markdown",
   "id": "364d3128",
   "metadata": {},
   "source": [
    "### Możliwe podziały dla C4.5 – przykład\n",
    "\n",
    "<span t=\"l1\">Źródło: D.T. Larose: „Odkrywanie wiedzy z danych”. PWN, Warszawa, 2006.</span>\n",
    "\n",
    "<img src=\"../pliki_wlasne/c45-przyklad.png\" width=\"600\"/>\n",
    "\n"
   ]
  },
  {
   "cell_type": "markdown",
   "id": "51477306",
   "metadata": {},
   "source": [
    "### Zjawisko przeuczenia\n",
    "\n",
    "<span t=\"l1\">Drzewo decyzyjne jest przeuczone (nadmiernie dopasowane) do danego zbioru uczącego, jeśli istnieje inne drzewo o większym błędzie na tym zbiorze, które mimo to ma mniejszy błąd na całym rozkładzie przypadków (tj. obejmującego także przykłady, które nie wystąpiły z zbiorze uczącym).</span>\n",
    "\n",
    "<span t=\"l1\">Drzewo przeuczone odzwierciedla przypadkowe przekłamania w danych lub zbyt szczegółowe regularności, nieistotne dla klasyfikacji przypadków.</span>"
   ]
  },
  {
   "cell_type": "markdown",
   "id": "5013bdb4",
   "metadata": {},
   "source": [
    "### Upraszczanie (przycinanie drzewa)\n",
    "\n",
    "<span t=\"l1\">Usuwane są pewne fragmenty drzewa (tj. podrzewa) o niewielkim znaczeniu dla klasyfikacji.</span>\n",
    "\n",
    "<span t=\"l1\">W wyniku lokalnego usunięcia podrzewa z korzeniem tego podrzewa może być związany zbiór przykładów uczących należących do różnych klas decyzyjnych. Zmieniając taki węzeł na liść decyzyjny przypisuje mu się etykietę większościowej klasy decyzyjnej w zbiorze przykładów związanym z tym węzłem.</span>"
   ]
  },
  {
   "cell_type": "markdown",
   "id": "e2cb0741",
   "metadata": {},
   "source": [
    "<span t=\"l1\">Metody upraszczania:</span>\n",
    "- <span t=\"l2\">upraszczanie wstępne</span>\n",
    "- <span t=\"l2\">upraszczanie w pełni zbudowanego drzewa</span>"
   ]
  },
  {
   "cell_type": "markdown",
   "id": "5a9acd82",
   "metadata": {},
   "source": [
    "### Przykład 1\n",
    "\n",
    "Napisz skrypt dla środowiska R generujący drzewo decyzyjne algorytmem C5.0. "
   ]
  },
  {
   "cell_type": "markdown",
   "id": "66c175d0",
   "metadata": {},
   "source": [
    "Krok 1: Tworzymy tablicę decyzyjną reprezentującą wektory danych."
   ]
  },
  {
   "cell_type": "code",
   "execution_count": null,
   "id": "59b003ca",
   "metadata": {},
   "outputs": [],
   "source": [
    "decision.table<-data.frame(matrix(c('srednie','duzy',75,'male','male','maly',50,'duze','duze','sredni',25,'duze',\n",
    "                                'srednie','sredni',50,'male','male','sredni',100,'male','duze','duzy',25,'male',\n",
    "                                'male','maly',25,'duze','srednie','sredni',75,'male'), ncol=4, byrow=TRUE));\n",
    "colnames(decision.table)<-c(\"Oszczednosci\", \"Majatek\", \"Dochod\", \"Ryzyko\");\n",
    "print(decision.table);"
   ]
  },
  {
   "cell_type": "markdown",
   "id": "f238a5aa",
   "metadata": {},
   "source": [
    "<span t=\"l1\">Krok 2: Wywołujemy funckję $C5.0$ implementującą algorytm C5.0 z parametrami:</span>\n",
    "- <span t=\"l2\">$x$ - tablica decyzyjna (tylko atrybuty warunkowe), </span>\n",
    "- <span t=\"l2\">$y$ - tablica decyzyjna (tylko atrybut decyzyjny). </span>"
   ]
  },
  {
   "cell_type": "code",
   "execution_count": null,
   "id": "43105d84",
   "metadata": {},
   "outputs": [],
   "source": [
    "install.packages(\"C50\");\n",
    "library(C50);\n",
    "decision.tree<-C5.0(x=decision.table[,-c(4)], y=decision.table[,c(4)]);"
   ]
  },
  {
   "cell_type": "markdown",
   "id": "a2c6f4d8",
   "metadata": {},
   "source": [
    "Krok 3: Rysujemy otrzymane drzewo decyzyjne."
   ]
  },
  {
   "cell_type": "code",
   "execution_count": null,
   "id": "a796fe80",
   "metadata": {},
   "outputs": [],
   "source": [
    "plot(decision.tree);"
   ]
  },
  {
   "cell_type": "markdown",
   "id": "f9a78274",
   "metadata": {},
   "source": [
    "Krok 4: Klasyfikujemy przypadki i wyznaczamy macierz pomyłek."
   ]
  },
  {
   "cell_type": "code",
   "execution_count": null,
   "id": "7eb5ea88",
   "metadata": {},
   "outputs": [],
   "source": [
    "predictions<-predict(object=decision.tree, newdata=decision.table); \n",
    "confusion<-table(predicted=predictions, actual=decision.table$Ryzyko);\n",
    "print(confusion);"
   ]
  },
  {
   "cell_type": "markdown",
   "id": "18597b13",
   "metadata": {},
   "source": [
    "### Algorytm k-NN\n",
    "\n",
    "<span t=\"l1\">k-NN (k nearest neighbors) - algorytm k najbliższych sąsiadów jest algorytmem używanym do klasyfikacji nowych obiektów (przypadków).</span>\n",
    "\n",
    "<span t=\"l1\">Nowy obiekt porównywany jest z k najbliższymi sąsiadami ze zbioru uczącego.</span>\n",
    "\n",
    "<span t=\"l1\">Nowemu obiektowi przypisywana jest większościowa klasa sąsiadów ze zbioru uczącego.</span>"
   ]
  },
  {
   "cell_type": "markdown",
   "id": "6b2be320",
   "metadata": {},
   "source": [
    "<img src=\"../pliki_wlasne/knn.png\" width=\"600\"/>\n",
    "\n"
   ]
  }
 ],
 "metadata": {
  "kernelspec": {
   "display_name": "R",
   "language": "R",
   "name": "ir"
  },
  "language_info": {
   "codemirror_mode": "r",
   "file_extension": ".r",
   "mimetype": "text/x-r-source",
   "name": "R",
   "pygments_lexer": "r",
   "version": "3.6.1"
  }
 },
 "nbformat": 4,
 "nbformat_minor": 5
}
