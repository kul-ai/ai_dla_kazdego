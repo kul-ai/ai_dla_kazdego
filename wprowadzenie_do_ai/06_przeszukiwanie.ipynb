{
 "cells": [
  {
   "cell_type": "markdown",
   "id": "0bce6841",
   "metadata": {},
   "source": [
    "# Przeszukiwanie"
   ]
  },
  {
   "cell_type": "markdown",
   "id": "9cd5a51b",
   "metadata": {},
   "source": [
    "## Heurystyka"
   ]
  },
  {
   "cell_type": "markdown",
   "id": "f8fefe6d",
   "metadata": {},
   "source": [
    "### Heurystyka\n",
    "\n",
    "<span t=\"l1\">Heurystyka to umiejętność wykrywania nowych faktów oraz znajdowania związków między faktami, zwłaszcza z wykorzystaniem hipotez.</span>\n"
   ]
  },
  {
   "cell_type": "markdown",
   "id": "e8db438e",
   "metadata": {},
   "source": [
    "## Przestrzeń stanów"
   ]
  },
  {
   "cell_type": "markdown",
   "id": "aaf78d4d",
   "metadata": {},
   "source": [
    "### Przestrzeń stanów\n",
    "\n",
    "<span t=\"l1\">Przestrzeń stanów to graf, w którym:</span> \n",
    "- <span t=\"l2\">wierzchołki odpowiadają stanom: początkowemu, pośrednim, końcowym,</span> \n",
    "- <span t=\"l2\">krawędzie odpowiadają dopuszczalnym przejściom pomiędzy stanami.</span> "
   ]
  },
  {
   "cell_type": "markdown",
   "id": "92271905",
   "metadata": {},
   "source": [
    "<span t=\"l1\">**Stan początkowy** reprezentuje problem w momencie rozpoczęcia jego rozwiązywania.</span> \n",
    "\n",
    "<span t=\"l1\">**Stany końcowe** reprezentują problem w momencie uzyskania jego rozwiązań.</span> \n",
    "- <span t=\"l2\">Problem może mieć tylko jeden stan końcowy – jedno rozwiązanie.</span> \n",
    "    \n",
    "<span t=\"l1\">**Stany pośrednie** reprezentują wszystkie możliwe sytuacje występujące podczas rozwiązywania problemu.</span> "
   ]
  },
  {
   "cell_type": "markdown",
   "id": "9b8d5686",
   "metadata": {},
   "source": [
    "<span t=\"l1\">**Rozwiązanie problemu** - znalezienie ścieżki od wierzchołka początkowego do wierzchołka końcowego w grafie przestrzeni stanów.</span> \n",
    "\n",
    "<span t=\"l1\">**Drzewo przeszukiwań** – podgraf przestrzeni stanów z wierzchołkami, które muszą zostać wzięte pod uwagę aby rozwiązać problem.</span> "
   ]
  },
  {
   "cell_type": "markdown",
   "id": "48e1bd22",
   "metadata": {},
   "source": [
    "### Przeszukiwanie przestrzeni stanów\n",
    "\n",
    "<img src=\"../pliki_wlasne/przeszukiwanie_przestrzeni_stanow.png\" width=\"500\"/>\n"
   ]
  },
  {
   "cell_type": "markdown",
   "id": "9b034237",
   "metadata": {},
   "source": [
    "<span t=\"l1\">Przeszukiwanie ślepe (blind search)</span>\n",
    "\n",
    "- <span t=\"l2\">uwzględniana jest struktura przestrzeni stanów (do jakich stanów można przejść),</span>\n",
    "- <span t=\"l2\">w minimalnym stopniu wykorzystywana jest wiedza o rozwiązywanym problemie.</span>\n",
    "\n",
    "<span t=\"l1\">Przeszukiwanie heurystyczne (heuristic search):</span>\n",
    "- <span t=\"l2\">uwzględniana jest struktura przestrzeni stanów (do jakich stanów można przejść),</span>\n",
    "- <span t=\"l2\">wykorzystywana jest heurystyczna funkcja oceny stanu (definiowana na podstawie wiedzy o rozwiązywanym problemie).</span>"
   ]
  },
  {
   "cell_type": "markdown",
   "id": "f80d17ec",
   "metadata": {},
   "source": [
    "## Przeszukiwanie ślepe"
   ]
  },
  {
   "cell_type": "markdown",
   "id": "d0fabb8f",
   "metadata": {},
   "source": [
    "### Przeszukiwanie ślepe\n",
    "\n",
    "<span t=\"l1\">Przeszukiwanie w głąb (*Depth-First Search – DFS*) drzewa:</span>\n",
    "\n",
    "- <span t=\"l2\">Wybieramy wierzchołek startowy v. Oznaczamy v jako odwiedzony.</span>\n",
    "- <span t=\"l2\">Rekurencyjnie stosujemy metodę przeszukiwania zstępującego do wszystkich wierzchołków będących sąsiadami v.</span>\n",
    "- <span t=\"l2\">Jeśli wszystkie wierzchołki, które mogą zostać odwiedzone przeszukiwaniem zstępującym zostały odwiedzone, to wybieramy nowy wierzchołek startowy (taki, który do tej pory nie został odwiedzony) i powtarzamy przeszukiwanie.</span>"
   ]
  },
  {
   "cell_type": "markdown",
   "id": "63b9d0b9",
   "metadata": {},
   "source": [
    "<span t=\"l1\">Przeszukiwanie wszerz (*Breadth-First Search – BFS*) drzewa:</span>\n",
    "- <span t=\"l2\">Wybieramy wierzchołek startowy v. Oznaczamy v jako odwiedzony.</span>\n",
    "- <span t=\"l2\">Odwiedzamy każdy wierzchołek osiągalny z v, który do tej pory nie był odwiedzony.</span>\n",
    "- <span t=\"l2\">Jeśli wszystkie wierzchołki osiągalne z wierzchołka v zostaną odwiedzone, to wybieramy nowy wierzchołek startowy (taki, który do tej pory nie został odwiedzony) i powtarzamy przeszukiwanie.</span>"
   ]
  },
  {
   "cell_type": "markdown",
   "id": "d3810b80",
   "metadata": {},
   "source": [
    "## Przeszukiwanie z powrotami"
   ]
  },
  {
   "cell_type": "markdown",
   "id": "1c8f1dc1",
   "metadata": {},
   "source": [
    "### Przeszukiwanie z powrotami\n",
    "\n",
    "<span t=\"l1\">Przeszukiwanie z powrotami jest zmodyfikowanym przeszukiwaniem drzewa w głąb.</span>\n",
    "\n",
    "<span t=\"l1\">Ścieżka od korzenia do liścia jest potencjalnym rozwiązaniem.</span>\n"
   ]
  },
  {
   "cell_type": "markdown",
   "id": "57d682bd",
   "metadata": {},
   "source": [
    "<span t=\"l1\">Węzeł nieobiecujący – węzeł, przy którego odwiedzaniu można określić, że nie prowadzi on do rozwiązania.</span>\n",
    "\n",
    "<span t=\"l1\">Węzeł obiecujący – węzeł, przy którego odwiedzaniu można określić, że prowadzi on do rozwiązania.</span>\n",
    "\n",
    "<span t=\"l1\">Po zorientowaniu się, że węzeł nie prowadzi do rozwiązania, wracamy do węzła nadrzędnego i kontynuujemy wyszukiwanie od węzła następnego.</span>"
   ]
  },
  {
   "cell_type": "markdown",
   "id": "5fbd8072",
   "metadata": {},
   "source": [
    "<span t=\"v\">\n",
    "    \n",
    "```\n",
    "sprawdź_węzeł(x)\n",
    "{\t\n",
    "    jeśli x jest obiecujący \n",
    "    {\n",
    "        jeśli istnieje rozwiązanie dla x\n",
    "            { drukuj rozwiązanie; }\n",
    "        w przeciwnym razie\n",
    "            { dla każdego węzła potomnego y węzła x\n",
    "                { sprawdź_węzeł(y); }\n",
    "            }\n",
    "    }\n",
    "}\n",
    "\n",
    "```\n",
    "</span>    "
   ]
  },
  {
   "cell_type": "markdown",
   "id": "beece3e6",
   "metadata": {},
   "source": [
    "PORÓWNANIE\n",
    "\n",
    "<span t=\"l1\">Przeszukiwanie w głąb: węzeł pochodny jest zawsze odwiedzany.</span>\n",
    "\n",
    "<span t=\"l1\">Przeszukiwanie z powrotami: węzeł pochodny jest odwiedzany tylko w przypadku, gdy węzeł macierzysty jest obiecujący i nie znaleziono w nim rozwiązania.</span>\n",
    "\n",
    "\n"
   ]
  },
  {
   "cell_type": "markdown",
   "id": "f7503e55",
   "metadata": {},
   "source": [
    "## Przeszukiwanie z przeciwnikiem"
   ]
  },
  {
   "cell_type": "markdown",
   "id": "d8698e59",
   "metadata": {},
   "source": [
    "### Przeszukiwanie z przeciwnikiem\n",
    "\n",
    "<span t=\"l1\">Przeszukiwanie z przeciwnikiem występuje w przypadku gier.</span>\n",
    "\n",
    "<span t=\"l1\">Funkcja użyteczności – określa jak bardzo dany stan jest pożądany.</span>\n",
    "\n",
    "<span t=\"l1\">Strategia minimaksowa:</span>\n",
    "- <span t=\"l2\">jeden uczestnik gry próbuje maksymalizować wartość funkcji użyteczności stanu,</span>\n",
    "- <span t=\"l2\">drugi uczestnik gry próbuje minimalizować wartość funkcji użyteczności stanu.</span>"
   ]
  },
  {
   "cell_type": "markdown",
   "id": "1dfc72cd",
   "metadata": {},
   "source": [
    "## Symulowane wyżarzanie"
   ]
  },
  {
   "cell_type": "markdown",
   "id": "f192fc97",
   "metadata": {},
   "source": [
    "### Symulowane wyżarzanie\n",
    "\n",
    "<span t=\"l1\">Symulowane wyżarzanie – metoda przeszukiwania heurystycznego pozwalająca unikać ekstremów lokalnych.</span>\n",
    "\n",
    "<span t=\"l1\">Wzorowane jest na fizycznym procesie wyżarzania metali/szkła:</span>\n",
    "\n",
    "- <span t=\"l2\">Metal/szkło podgrzewane jest do wysokiej temperatury.</span>\n",
    "\n",
    "- <span t=\"l2\">Ciepło powoduje wybicie atomów z ich pozycji początkowych.</span>\n",
    "\n",
    "- <span t=\"l2\">Kontrolowane, powolne obniżanie temperatury pozwala uzyskać odpowiednią strukturę.</span>"
   ]
  },
  {
   "cell_type": "markdown",
   "id": "c61ea83f",
   "metadata": {},
   "source": [
    " Symulowane wyżarzanie\n",
    "1. <span t=\"l1\">Losowy wybór punktu startowego $p$, $T \\leftarrow T_{max}$. </span>\n",
    "2. <span t=\"l1\">$f \\leftarrow F_{oceny}(p).$</span>\n",
    "3. <span t=\"l1\">$p' \\leftarrow p + \\Delta p$, gdzie $\\Delta p$ – zmienna losowa zależna od $T$. </span>\n",
    "4. <span t=\"l1\">$f' \\leftarrow F_{oceny}(p').$</span>\n",
    "5. <span t=\"l1\">$p \\leftarrow p'$ z prawdopodobieństwem zgodnym z rozkładem Boltzmanna </span>\n",
    "\n",
    "<span t=\"l2\">$$\\alpha e^\\frac{-(f'-f)}{kT}$$</span>\n",
    "\n",
    "- <span t=\"l2\">$k$ – stała Boltzmanna</span>\n",
    "- <span t=\"l2\">$\\alpha$ – czynnik normalizujący</span>\n",
    "\n",
    "6. <span t=\"l1\">$T \\leftarrow nT$, gdzie $n \\in (0,1)$.</span>\n",
    "7. <span t=\"l1\">Jeśli kryterium stopu niespełnione, to powrót do kroku (2).</span>\n",
    "\n"
   ]
  },
  {
   "cell_type": "markdown",
   "id": "13b3cef9",
   "metadata": {},
   "source": [
    "\n",
    "<span t=\"l1\">Dla dużych wartości $T$ prawdopodobieństwo zaakceptowania nowego rozwiązania (z gorszą funkcją oceny) jest duże.</span>\n",
    "\n",
    "<span t=\"l1\">Wraz ze zmniejszaniem wartości $T$ prawdopodobieństwo to maleje.</span>"
   ]
  },
  {
   "cell_type": "markdown",
   "id": "b991bae0",
   "metadata": {},
   "source": [
    "## Inne podejścia heurystyczne do przeszukiwania"
   ]
  },
  {
   "cell_type": "markdown",
   "id": "e849eb12",
   "metadata": {},
   "source": [
    "### Inne podejścia heurystyczne do przeszukiwania\n",
    "\n",
    "<span t=\"l1\">Algorytmy genetyczne. </span>\n",
    "\n",
    "<span t=\"l1\">Algorytmy mrówkowe. </span>\n",
    "\n",
    "<span t=\"l1\">Optymalizacja rojem cząstek.</span>"
   ]
  }
 ],
 "metadata": {
  "kernelspec": {
   "display_name": "R",
   "language": "R",
   "name": "ir"
  },
  "language_info": {
   "codemirror_mode": "r",
   "file_extension": ".r",
   "mimetype": "text/x-r-source",
   "name": "R",
   "pygments_lexer": "r",
   "version": "4.1.3"
  }
 },
 "nbformat": 4,
 "nbformat_minor": 5
}
