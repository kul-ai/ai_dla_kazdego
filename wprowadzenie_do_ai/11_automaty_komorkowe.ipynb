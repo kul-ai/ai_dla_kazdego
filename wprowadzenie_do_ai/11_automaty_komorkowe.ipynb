{
 "cells": [
  {
   "cell_type": "markdown",
   "id": "ce0d12c8",
   "metadata": {},
   "source": [
    "# Automaty komórkowe"
   ]
  },
  {
   "cell_type": "markdown",
   "id": "fd1e5b1a",
   "metadata": {},
   "source": [
    "### Idea automatów komórkowych\n",
    "\n",
    "Automaty komórkowe mogą być charakteryzowane w ogólności przez:\n",
    "- struktury sieci,\n",
    "- obiekty umieszczone w tych sieciach,\n",
    "- zbiory reguł rządzące ewolucją tych obiektów.\n",
    "\n",
    "Każdemu obiektowi w sieci przypisany jest kolor.\n",
    "\n",
    "W drodze ewolucji kolory obiektów są synchronicznie modyfikowane.\n",
    "\n"
   ]
  },
  {
   "cell_type": "markdown",
   "id": "01eb0fbb",
   "metadata": {},
   "source": [
    "Historia\n",
    "- przełom lat 40-tych i 50-tych XX wieku: Stanisław Ulam, John von Neumann\n",
    "- lata 60-te XX wieku: John Horton Conway: Gra w życie (model rodzenia się, ewolucji i śmierci kolonii żywych organizmów, np. bakterii)\n",
    "- Edgar Frank Codd (twórca relacyjnego modelu baz danych)\n",
    "- lata 80-te XX wieku: Stephen Wolfram (twórca oprogramowania Mathematica)"
   ]
  },
  {
   "cell_type": "markdown",
   "id": "f6179bc2",
   "metadata": {},
   "source": [
    "### Gra w życie\n",
    "\n",
    "Przestrzeń: dwuwymiarowa plansza podzielona na kwadratowe komórki.\n",
    "\n",
    "W każdej komórce umieszczona jest dokładnie jedna bakteria. Może ona być żywa lub martwa.\n",
    "\n",
    "Płynący czas jest dyskretny.\n",
    "\n",
    "W kolejnych chwilach czasu, występują kolejne pokolenia kolonii bakterii.\n",
    "\n",
    "Gra rozpoczyna się od umieszczenia w komórkach planszy pierwszego pokolenia żywych bakterii.\n"
   ]
  },
  {
   "cell_type": "markdown",
   "id": "74f3615e",
   "metadata": {},
   "source": [
    "Następne pokolenie kolonii bakterii powstaje z pokolenia pierwszego w wyniku zastosowania reguł gry.\n",
    "\n",
    "W ogólności, każde następne pokolenie powstaje z pokolenia poprzedniego.\n",
    "\n",
    "Możliwe reguły:\n",
    "- bakteria przeżywa do następnej generacji,\n",
    "- w miejsce martwej bakterii, rodzi się nowa bakteria,\n",
    "- żywa bakteria umiera."
   ]
  },
  {
   "cell_type": "markdown",
   "id": "9140662c",
   "metadata": {},
   "source": [
    "To, która reguła jest zastosowana dla danej komórki, zależy od stanów bakterii w sąsiedztwie tej komórki (komórki wewnętrzne mają ośmiu najbliższych sąsiadów):\n",
    "- żywa bakteria, która nie ma żadnego lub ma tylko jednego żywego sąsiada umiera z osamotnienia,\n",
    "- żywa bakteria, która ma dwóch lub trzech żywych sąsiadów przeżywa gdyż jest szczęśliwa,\n",
    "- martwa bakteria, która ma dokładnie trzech żywych sąsiadów odżywa,\n",
    "- żywa bakteria, która ma czterech lub więcej sąsiadów umiera z zatłoczenia."
   ]
  },
  {
   "cell_type": "markdown",
   "id": "aab937c5",
   "metadata": {},
   "source": [
    "### Trójkąt Pascala\n",
    "\n",
    "<img src=\"../pliki_wlasne/trojkat_pascala.png\" width=\"400\"/>"
   ]
  },
  {
   "cell_type": "markdown",
   "id": "523f300b",
   "metadata": {},
   "source": [
    "### Struktura\n",
    "\n",
    "\n",
    "- n wymiarowa dyskretna krata komórek\n",
    "    - możliwe są automaty komórkowe: jednowymiarowe (1D), dwuwymiarowe (2D), trójwymiarowe (3D), ..., n wymiarowe (nD)\n",
    "\n",
    "- komórki mogą mieć różne kształty\n",
    "    - w przypadku automatów 2D, komórki mogą mieć kształty np. trójkątne, kwadratowe, sześciokątne\n",
    "    - w przypadku automatów 3D, komórki mogą mieć kształty np. sześcianów, dwunastościanów rombowych\n",
    "    \n",
    "- homogeniczność komórek\n",
    "    - w danym automacie komórki mają taki sam kształt\n",
    "\n",
    "- regularność\n",
    "    - siatka jest całkowicie zapełniona przez komórki    "
   ]
  },
  {
   "cell_type": "markdown",
   "id": "6862932c",
   "metadata": {},
   "source": [
    "### Warunki brzegowe\n",
    " \n",
    "periodyczne\n",
    "- komórka leżącą na jednym brzegu siatki ma za sąsiada komórkę leżącą na drugim brzegu siatki\n",
    "\n",
    "zamknięte \n",
    "- komórkom na brzegach siatki przypisane są stałe kolory\n"
   ]
  },
  {
   "cell_type": "markdown",
   "id": "7b5e2664",
   "metadata": {},
   "source": [
    "### Automaty komórkowe - klasyfikacja wg. Wolframa\n",
    "\n",
    "Klasa I\n",
    "- ewoluują do czasu, kiedy wszystkie komórki osiągną identyczny kolor niezależnie od kolorów początkowych\n",
    "\n",
    "Klasa II\n",
    "- ewoluują do stabilnego stanu kolorów komórek lub okresowych wzorców kolorów komórek \n",
    "\n",
    "Klasa III\n",
    "- ewoluując nie wykazują żadnych wzorców \n",
    "\n",
    "Klasa IV\n",
    "- ewoluując wykazują bardziej złożone zachowanie"
   ]
  },
  {
   "cell_type": "markdown",
   "id": "9a4f3dcb",
   "metadata": {},
   "source": [
    "### Jednowymiarowy automat komórkowy\n",
    "\n",
    "Jednowymiarowy automat komórkowy zawiera jeden wiersz kolorowanych komórek.\n",
    "\n",
    "Każda komórka może przyjąć jeden z kolorów (wartości) ze skończonego zbioru możliwych kolorów.\n",
    "\n",
    "Kolory przyjmowane przez komórki aktualizowane są w dyskretnych chwilach czasowych zgodnie z deterministycznymi regułami uwzględniającymi lokalne sąsiedztwo komórek.\n"
   ]
  },
  {
   "cell_type": "markdown",
   "id": "e71eca73",
   "metadata": {},
   "source": [
    "$a_i^{(t)}$ - kolor w $i$-tym miejscu w chwili czasowej $t$.\n",
    "\n",
    "Alfabet - zbiór możliwych kolorów, które mogą przyjmować komórki:\n",
    "- $S=\\{0,1,...,k\\}$\n",
    "\n",
    "Liczba k kolorów (odróżnialnych stanów) jest ustalona.\n",
    "\n",
    "Najczęściej $k$ jest liczbą całkowitą. Rozważane są również automaty komórkowe z ciągłym zakresem możliwych kolorów."
   ]
  },
  {
   "cell_type": "markdown",
   "id": "1af0c9e0",
   "metadata": {},
   "source": [
    "### Binarny automat komórkowy\n",
    "\n",
    "W najprostszym przypadku $k=2$ - binarny automat komórkowy.\n",
    "\n",
    "W przypadku binarnego automatu komórkowego, przyjmuje się, że \n",
    "- kolor 0 jest kolorem białym, \n",
    "- kolor 1 jest kolorem czarnym."
   ]
  },
  {
   "cell_type": "markdown",
   "id": "594861bb",
   "metadata": {},
   "source": [
    "### Zbiór konfiguracji automatu\n",
    "\n",
    "Możliwe sekwencje kolorów ze zbioru $S$ definiują zbiór $\\Sigma$ konfiguracji $A^{(t)}$ automatu komórkowego.\n",
    "Najczęściej: \n",
    "- $\\Sigma = S^Z$ lub\n",
    "- $\\Sigma = S^N$ "
   ]
  },
  {
   "cell_type": "markdown",
   "id": "25b15b4f",
   "metadata": {},
   "source": [
    "### Reguły przejść\n",
    "\n",
    "W każdej chwili czasowej, kolor każdej komórki jest uaktualniany w zależności od kolorów sąsiedztwa 2r+1 wokół tej komórki na podstawie reguły przejść:\n",
    "- $\\phi : S^{2r+1} \\rightarrow S $\n",
    "\n",
    "Kolor i-tego stanu wyznaczany jest na\n",
    "podstawie reguły przejść:\n",
    "- $a_i^{(t)}=\\phi(a_{i-r}^{(t-1)}, a_{i-r+1}^{(t-1)}, ..., a_{i+r}^{(t-1)})$\n"
   ]
  },
  {
   "cell_type": "markdown",
   "id": "5630a326",
   "metadata": {},
   "source": [
    "### Globalne odwzorowanie\n",
    "\n",
    "$\\Phi: \\Sigma \\rightarrow \\Sigma$\n",
    "\n",
    "W ogólności:\n",
    "\n",
    "$A^{(t+1)}=\\Phi A^{(t)} \\subseteq \\Omega^{(t+1)}$\n",
    "\n",
    "gdzie $\\Omega^{(t)} = \\Phi^t \\Sigma$ jest zbiorem konfiguracji wygenerowanych po $t$ iteracjach (tj. $t$ zastosowaniach $\\Phi$)"
   ]
  },
  {
   "cell_type": "markdown",
   "id": "2b6de0e1",
   "metadata": {},
   "source": [
    "### Liczba automatów komórkowych\n",
    "\n",
    "Liczba wszystkich możliwych różnych automatów komórkowych:\n",
    "- $k^{k^{2r+1}}$ \n",
    "\n",
    "Przykład:\n",
    "- dla binarnego automatu komórkowego ($k=2$) i $r=2$:\n",
    "- 4 294 967 296\n"
   ]
  },
  {
   "cell_type": "markdown",
   "id": "f789282f",
   "metadata": {},
   "source": [
    "### Elementarny automat komórkowy\n",
    "\n",
    "Elementarny automat komórkowy jest najprostszym typem automatu komórkowego.\n",
    "\n",
    "Elementarny automat komórkowy jest:\n",
    "- jednowymiarowy\n",
    "- binarny, tj. $k = 1$\n",
    "- z najbliższym sąsiedztwem, tj. $r = 1$\n",
    "\n",
    "Istnieje 256 wszystkich możliwych różnych elementarnych automatów komórkowych."
   ]
  },
  {
   "cell_type": "markdown",
   "id": "16ae9b78",
   "metadata": {},
   "source": [
    "### Przykład reguły przejść (Wolfram: Reguła 30)\n",
    "\n",
    "- 000 → 0 \n",
    "- 001 → 1 \n",
    "- 010 → 1 \n",
    "- 011 → 1 \n",
    "- 100 → 1 \n",
    "- 101 → 0 \n",
    "- 110 → 0 \n",
    "- 111 → 0"
   ]
  },
  {
   "cell_type": "markdown",
   "id": "62684d39",
   "metadata": {},
   "source": [
    "<img src=\"../pliki_wlasne/wolfram_regula_30.png\" width=\"600\"/>\n"
   ]
  },
  {
   "cell_type": "markdown",
   "id": "c06eb417",
   "metadata": {},
   "source": [
    "### Automaty komórkowe - źródła\n",
    "\n",
    "WolframMathWorld\n",
    "- http://mathworld.wolfram.com/topics/CellularAutomata.html\n",
    "\n",
    "Atlas reguł dla elementarnych automatów komórkowych:\n",
    "- http://atlas.wolfram.com/01/01/"
   ]
  },
  {
   "cell_type": "markdown",
   "id": "390bc3e9",
   "metadata": {},
   "source": [
    "### Formalna definicja automatu komórkowego\n",
    "\n",
    "$A=(\\alpha ,S,r, \\phi)$\n",
    "\n",
    "- $\\alpha$ - struktura\n",
    "- $S$ - skończony zbiór możliwych kolorów \n",
    "- $r$ - rozmiar sąsiedztwa\n",
    "- $\\phi$ - reguła przejścia\n",
    "\n",
    "Dodatkowo definiujemy:\n",
    "- warunki brzegowe \n",
    "- stan początkowy"
   ]
  },
  {
   "cell_type": "markdown",
   "id": "21208355",
   "metadata": {},
   "source": [
    "### Sąsiedztwo von Neumann'a\n",
    "\n",
    "<img src=\"../pliki_wlasne/sasiedztwo_von_neumanna.png\" width=\"400\"/>\n",
    "\n",
    "\n",
    "\n"
   ]
  },
  {
   "cell_type": "markdown",
   "id": "cc3c2c1c",
   "metadata": {},
   "source": [
    "\n",
    "### Sąsiedztwo Moore'a\n",
    "\n",
    "<img src=\"../pliki_wlasne/sasiedztwo_moora.png\" width=\"400\"/>\n",
    "\n"
   ]
  },
  {
   "cell_type": "markdown",
   "id": "067d8a6c",
   "metadata": {},
   "source": [
    "### Zastosowania\n",
    "\n",
    "Modelowanie i symulacje komputerowe zjawisk fizycznych:\n",
    "- np. zagadnienia dynamiki nieliniowej \n",
    "\n",
    "Sztuczna inteligencja\n",
    "- np. sztuczne życie\n"
   ]
  },
  {
   "cell_type": "markdown",
   "id": "e295f47f",
   "metadata": {},
   "source": [
    "### Przykład\n",
    "\n",
    "Napisz skrypt dla środowiska R symulujący elementarny automat komórkowy w oparciu o regułę 30 (atlas.wolfram.com). "
   ]
  },
  {
   "cell_type": "markdown",
   "id": "31753d2d",
   "metadata": {},
   "source": [
    "Krok 1: Definiujemy funkcję wyznaczającą wartość komórki zgodnie z regułą 30. "
   ]
  },
  {
   "cell_type": "code",
   "execution_count": 1,
   "id": "1efb61fe",
   "metadata": {},
   "outputs": [],
   "source": [
    "rule <- function(x1,x2,x3)\n",
    "{\n",
    "  if(x1==\" \" && x2==\" \" && x3==\" \")\n",
    "  {\n",
    "    return(\" \");\n",
    "  }\n",
    "  if(x1==\" \" && x2==\" \" && x3==\"X\")\n",
    "  {\n",
    "    return(\"X\");\n",
    "  }\n",
    "  if(x1==\" \" && x2==\"X\" && x3==\" \")\n",
    "  {\n",
    "    return(\"X\");\n",
    "  }\n",
    "  if(x1==\" \" && x2==\"X\" && x3==\"X\")\n",
    "  {\n",
    "    return(\"X\");\n",
    "  }\n",
    "  if(x1==\"X\" && x2==\" \" && x3==\" \")\n",
    "  {\n",
    "    return(\"X\");\n",
    "  }\n",
    "  if(x1==\"X\" && x2==\" \" && x3==\"X\")\n",
    "  {\n",
    "    return(\" \");\n",
    "  }\n",
    "  if(x1==\"X\" && x2==\"X\" && x3==\" \")\n",
    "  {\n",
    "    return(\" \");\n",
    "  }\n",
    "  if(x1==\"X\" && x2==\"X\" && x3==\"X\")\n",
    "  {\n",
    "    return(\" \");\n",
    "  }\n",
    "}"
   ]
  },
  {
   "cell_type": "markdown",
   "id": "951cd019",
   "metadata": {},
   "source": [
    "Krok 2: Definiujemy rozmiar siatki, generujemy macierz (ca) dla automatu komórkowego, ustawiamy w pierwszym wierszu macierzy wartość początkową (środkowa komórka ustawiona na X)."
   ]
  },
  {
   "cell_type": "code",
   "execution_count": 1,
   "id": "8403c9f9",
   "metadata": {},
   "outputs": [
    {
     "name": "stdout",
     "output_type": "stream",
     "text": [
      "     [,1] [,2] [,3] [,4] [,5] [,6] [,7] [,8] [,9] [,10] [,11] [,12] [,13] [,14]\n",
      "[1,] \" \"  \" \"  \" \"  \" \"  \" \"  \" \"  \" \"  \" \"  \" \"  \" \"   \" \"   \" \"   \" \"   \" \"  \n",
      "     [,15] [,16] [,17] [,18] [,19] [,20] [,21] [,22] [,23] [,24] [,25] [,26]\n",
      "[1,] \" \"   \"X\"   \" \"   \" \"   \" \"   \" \"   \" \"   \" \"   \" \"   \" \"   \" \"   \" \"  \n",
      "     [,27] [,28] [,29] [,30] [,31]\n",
      "[1,] \" \"   \" \"   \" \"   \" \"   \" \"  \n"
     ]
    }
   ],
   "source": [
    "size <- 31;\n",
    "\n",
    "ca <- matrix(rep(\" \",size), ncol=size);\n",
    "\n",
    "ca[ceiling(size/2)] <- \"X\";\n",
    "print(ca);"
   ]
  },
  {
   "cell_type": "markdown",
   "id": "476f8933",
   "metadata": {},
   "source": [
    "Krok 3: Tworzymy pętlę wyznacząjącą kolejne stany automatu."
   ]
  },
  {
   "cell_type": "code",
   "execution_count": 3,
   "id": "38952d5f",
   "metadata": {},
   "outputs": [],
   "source": [
    "for(i in 2:16)\n",
    "{\n",
    "  row<-rep(\" \",size);\n",
    "  \n",
    "  for(j in 1:size)\n",
    "  {\n",
    "    if(j==1)\n",
    "    {\n",
    "      row[j] <- \" \";\n",
    "    }\n",
    "    else\n",
    "    {\n",
    "      if(j==size)\n",
    "      {\n",
    "        row[j] <- \" \";\n",
    "      }\n",
    "      else\n",
    "      {\n",
    "        row[j] <- rule(ca[i-1,j-1], ca[i-1,j], ca[i-1,j+1]);\n",
    "      }\n",
    "    }\n",
    "  }\n",
    "  \n",
    "  ca <- rbind(ca, row);\n",
    "}"
   ]
  },
  {
   "cell_type": "markdown",
   "id": "3e04a4a5",
   "metadata": {},
   "source": [
    "Krok 4: Wyświetlamy stany automatu (macierz automatu) w konsoli."
   ]
  },
  {
   "cell_type": "code",
   "execution_count": 4,
   "id": "065c669c",
   "metadata": {},
   "outputs": [
    {
     "name": "stdout",
     "output_type": "stream",
     "text": [
      "                              X                               \n",
      "                            X X X                             \n",
      "                          X X     X                           \n",
      "                        X X   X X X X                         \n",
      "                      X X     X       X                       \n",
      "                    X X   X X X X   X X X                     \n",
      "                  X X     X         X     X                   \n",
      "                X X   X X X X     X X X X X X                 \n",
      "              X X     X       X X X           X               \n",
      "            X X   X X X X   X X     X       X X X             \n",
      "          X X     X         X   X X X X   X X     X           \n",
      "        X X   X X X X     X X   X         X   X X X X         \n",
      "      X X     X       X X X     X X     X X   X       X       \n",
      "    X X   X X X X   X X     X X X   X X X     X X   X X X     \n",
      "  X X     X         X   X X X       X     X X X     X     X   \n",
      "  X   X X X X     X X   X     X   X X X X X     X X X X X X   \n"
     ]
    }
   ],
   "source": [
    "for(i in 1:16)\n",
    "{\n",
    "  cat(ca[i,],\"\\n\");\n",
    "}"
   ]
  }
 ],
 "metadata": {
  "kernelspec": {
   "display_name": "R",
   "language": "R",
   "name": "ir"
  },
  "language_info": {
   "codemirror_mode": "r",
   "file_extension": ".r",
   "mimetype": "text/x-r-source",
   "name": "R",
   "pygments_lexer": "r",
   "version": "3.6.1"
  }
 },
 "nbformat": 4,
 "nbformat_minor": 5
}
