{
 "cells": [
  {
   "cell_type": "markdown",
   "id": "f7884b1d",
   "metadata": {},
   "source": [
    "# Wstęp do uczenia maszynowego"
   ]
  },
  {
   "cell_type": "markdown",
   "id": "564e7e97",
   "metadata": {},
   "source": [
    "### Systemy uczące się\n",
    "\n",
    "- <span t=\"l1\">Systemy uczące się to algorytmiczne metody uczenia się na podstawie danych.</span>\n",
    "- <span t=\"l1\">Maszynowe uczenie się obejmuje problematykę konstruowania systemów (programów) komputerowych, </span>które polepszają swoje działanie wraz z analizą doświadczenia reprezentowanego przez zbiór przykładów uczących.\n",
    "- <span t=\"l1\">System uczący może oprócz przykładów uczących wykorzystywać wiedzę dziedzinową.</span>\n",
    "- <span t=\"l1\">Metody uczenia się:</span>\n",
    "    - <span t=\"l2\">uczenie nadzorowane (z nauczycielem), </span>\n",
    "    - <span t=\"l2\">uczenie nienadzorowane (bez nauczyciela).</span>"
   ]
  },
  {
   "cell_type": "markdown",
   "id": "1fb9c8ae",
   "metadata": {},
   "source": [
    "### Sztuczna inteligencja, uczenie maszynowe, uczenie głębokie\n",
    "\n",
    "<img src=\"../pliki_wlasne/AI_ML_DL.png\" width=\"500\"/>"
   ]
  },
  {
   "cell_type": "markdown",
   "id": "5322f98e",
   "metadata": {},
   "source": [
    "### Uczenie maszynowe\n",
    "\n",
    "<img src=\"../pliki_wlasne/uczenie-maszynowe.png\" width=\"500\"/>\n",
    "\n",
    "- Uczenie maszynowe (machine learning)\n",
    "    - Klasteryzacja (grupowanie) danych\n",
    "    - Klasyfikacja danych\n",
    "    - Odkrywanie wiedzy z danych\n",
    "    - Regresja"
   ]
  },
  {
   "cell_type": "markdown",
   "id": "585b8e9c",
   "metadata": {},
   "source": [
    "### Uczenie maszynowe\n",
    "\n",
    "<img src=\"../pliki_wlasne/ML_rozne_dane.png\" width=\"500\"/>"
   ]
  },
  {
   "cell_type": "markdown",
   "id": "c6d4e1ed",
   "metadata": {},
   "source": [
    "### Uczenie maszynowe\n",
    "\n",
    "<img src=\"../pliki_wlasne/uczenie-maszynowe2.png\" width=\"500\"/>\n",
    "\n",
    "\n",
    "- Uczenie maszynowe\n",
    "    - Identyfikacja cech (atrybutów, właściwości) przypadków (obiektów)\n",
    "    - Wstępne przetwarzanie danych\n",
    "    - Algorytm uczenia maszynowego (ew. budowa modelu)\n",
    "    - Wizualizacja wyników"
   ]
  },
  {
   "cell_type": "markdown",
   "id": "fd183d75",
   "metadata": {},
   "source": [
    "### Identyfikacja cech\n",
    "\n",
    "<img src=\"../pliki_wlasne/Identyfikacja_cech.png\" width=\"500\"/>"
   ]
  },
  {
   "cell_type": "markdown",
   "id": "ebaefe9c",
   "metadata": {},
   "source": [
    "### Typy cech\n",
    "\n",
    "<img src=\"../pliki_wlasne/Typy_cech.png\" width=\"500\"/>"
   ]
  },
  {
   "cell_type": "markdown",
   "id": "dc78597e",
   "metadata": {},
   "source": [
    "### Tablice informacyjne\n",
    "\n",
    "<img src=\"../pliki_wlasne/Tablica_informacyjna.png\" width=\"500\"/>"
   ]
  },
  {
   "cell_type": "markdown",
   "id": "644d1837",
   "metadata": {},
   "source": [
    "### Tablice decyzyjne\n",
    "\n",
    "<img src=\"../pliki_wlasne/Tablica_decyzyjna.png\" width=\"500\"/>"
   ]
  },
  {
   "cell_type": "markdown",
   "id": "28348177",
   "metadata": {},
   "source": [
    "### Wstępne przetwarzanie danych\n",
    "\n",
    "<span t=\"l1\">Generalna zasada</span>\n",
    "> <span t=\"q\">Śmieci na wyjściu - śmieci na wejściu</span>\n",
    "\n",
    "<img src=\"../pliki_wlasne/gigo.png\" width=\"500\"/>\n",
    "\n",
    "\n"
   ]
  },
  {
   "cell_type": "markdown",
   "id": "c8d87791",
   "metadata": {},
   "source": [
    "### Wstępne przetwarzanie danych\n",
    "\n",
    "- <span t=\"l1\">Integracja danych (m.in. problemy: fuzji danych, ekstrakcji cech).</span>\n",
    "- <span t=\"l1\">Filtrowanie danych (m.in. problemy: selekcji reprezentatywnych obiektów, selekcji istotnych cech).</span>\n",
    "- <span t=\"l1\">Czyszczenie danych (m.in. problemy: brakujących danych, danych redundantnych).</span>\n",
    "- <span t=\"l1\">Transformacja danych (m.in. problemy: różnych typów danych, brakujących danych, normalizacji danych).</span>"
   ]
  },
  {
   "cell_type": "markdown",
   "id": "439f02e8",
   "metadata": {},
   "source": [
    "### Tworzenie wektorów cech\n",
    "\n",
    "<img src=\"../pliki_wlasne/Tworzenie_wektorow_cech.png\" width=\"500\"/>\n"
   ]
  },
  {
   "cell_type": "markdown",
   "id": "804fd39a",
   "metadata": {},
   "source": [
    "### Klasteryzacja\n",
    "\n",
    "<span t=\"l1\">Klasteryzacja – grupowanie pprzypadków w taki sposób, aby przypadki z danej grupy były bardziej podobne do siebie (homogeniczność) niż do jakichkolwiek przypadków z pozostałych grup (heterogeniczność).</span>\n",
    "\n",
    "<img src=\"../pliki_wlasne/klasteryzacja.png\" width=\"500\"/>"
   ]
  },
  {
   "cell_type": "markdown",
   "id": "86b111ed",
   "metadata": {},
   "source": [
    "### Klasyfikacja\n",
    "\n",
    "\n",
    "- <span t=\"l1\">Uczenie się klasyfikatora ze zbioru treningowego</span>\n",
    "    - <span t=\"l2\">Zbiór przypadków treningowych (ze znanymi decyzjami klasyfikującymi) - Klasyfikator (budowany za pomocą algorytmu uczenia maszynowego)</span>\n",
    "    \n",
    "    <img src=\"../pliki_wlasne/klasyfikacja1.png\" width=\"500\"/>\n",
    "\n",
    "- <span t=\"l1\">Klasyfikacja nowych przypadków</span>\n",
    "    - <span t=\"l2\">Nowe przypadki - Klasyfikator - Decyzje klasyfikacyjne dla nowych przypadków</span>\n",
    " \n",
    "    <img src=\"../pliki_wlasne/klasyfikacja2.png\" width=\"500\"/>\n",
    "\n"
   ]
  },
  {
   "cell_type": "markdown",
   "id": "4f6c9f9c",
   "metadata": {},
   "source": [
    "### Klasyfikatory\n",
    "\n",
    "- <span t=\"l1\">Klasyfikatory oparte o model, np.:</span>\n",
    "    - <span t=\"l2\">model w postaci sieci neuronowej,</span>\n",
    "    - <span t=\"l2\">model w postaci drzewa decyzyjnego,</span>\n",
    "    - <span t=\"l2\">model w postaci zbioru reguł (IF-THEN),</span>\n",
    "    - <span t=\"l2\">model w postaci sieci Bayesa.</span>\n",
    "- <span t=\"l1\">Klasyfikatory leniwe, np.:</span>\n",
    "    - <span t=\"l2\">k-NN (k najbliższych sąsiadów).</span>"
   ]
  },
  {
   "cell_type": "markdown",
   "id": "8389c178",
   "metadata": {},
   "source": [
    "### Odkrywanie wiedzy z danych\n",
    "\n",
    "- <span t=\"l1\">Odkrywanie reguł decyzyjnych.</span>\n",
    "- <span t=\"l1\">Odkrywanie reguł asocjacyjnych.</span>\n",
    "- <span t=\"l1\">Odkrywanie wzorców (np. w danych czasowych): </span>\n",
    "    - <span t=\"l2\">wzorce często występujące,</span>\n",
    "    - <span t=\"l2\">wzorce nietypowe – anomalie.</span>\n",
    "- <span t=\"l1\">Odkrywanie obiektów odstających.</span>"
   ]
  },
  {
   "cell_type": "markdown",
   "id": "f24f484e",
   "metadata": {},
   "source": [
    "### Odkrywanie reguł decyzyjnych\n",
    "\n",
    "<img src=\"../pliki_wlasne/Odkrywanie_regul_decyzyjnych.png\" width=\"500\"/>"
   ]
  },
  {
   "cell_type": "markdown",
   "id": "64da1b59",
   "metadata": {},
   "source": [
    "### Odkrywanie reguł asocjacyjnych\n",
    "\n",
    "- <span t=\"l1\">Odkrywanie reguł asocjacyjnych</span>\n",
    "    - <span t=\"l2\">systemy rekomendujące</span>\n",
    "- <span t=\"l1\">Przykład: analiza koszyka</span>\n",
    "    - <span t=\"l2\">Czy jabłka były kupowane wtedy gdy kupowano banany i pomarańcze?</span>\n",
    "    - <span t=\"l2\">Czy gruszki były kupowane równocześnie z wiśniami?</span>\n",
    "    - <span t=\"l2\">Czy ... ?</span>\n",
    "    \n",
    "    <img src=\"../pliki_wlasne/analiza-koszyka.png\" width=\"150\"/>\n",
    "\n"
   ]
  },
  {
   "cell_type": "markdown",
   "id": "3b414d07",
   "metadata": {},
   "source": [
    "### Regresja\n",
    "- <span t=\"l1\">Predykcja – obliczanie brakujących wartości w zakresie wartości danych treningowych</span>\n",
    "- <span t=\"l1\">Ekstrapolacja – obliczanie brakujących wartości poza zakresem wartości danych treningowych (np. przyszłych wartości)</span>\n"
   ]
  }
 ],
 "metadata": {
  "kernelspec": {
   "display_name": "R",
   "language": "R",
   "name": "ir"
  },
  "language_info": {
   "codemirror_mode": "r",
   "file_extension": ".r",
   "mimetype": "text/x-r-source",
   "name": "R",
   "pygments_lexer": "r",
   "version": "3.6.1"
  }
 },
 "nbformat": 4,
 "nbformat_minor": 5
}
