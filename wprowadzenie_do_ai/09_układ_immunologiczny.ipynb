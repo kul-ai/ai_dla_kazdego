{
 "cells": [
  {
   "cell_type": "markdown",
   "id": "a601246c",
   "metadata": {},
   "source": [
    "# Układ immunologiczny"
   ]
  },
  {
   "cell_type": "markdown",
   "id": "b28138e7",
   "metadata": {},
   "source": [
    "### Cechy układu immunologicznego\n",
    "\n",
    "Rozproszona detekcja\n",
    "- detektory monitorują stan komórek organizmu krążąc wewnątrz naczyń krwionośnych i limfatycznych oraz przemierzając tkankowe przestrzenie międzykomórkowe\n",
    "- brak centralnego sterowania detekcja progowa\n",
    "\n",
    "Detekcja progowa\n",
    "- wykrywanie struktur patogennych opiera się na częściowym podobieństwie \n",
    "\n",
    "\n",
    "Detekcja anomalii\n",
    "- identyfikowane są prawidłowo patogeny, których wcześniej układ nie znał\n",
    "\n",
    "Adaptacyjność\n",
    "● uczenie się i pamiętanie struktur patogennych\n",
    "\n",
    "Samoorganizacja\n",
    "- pamięć immunologiczna posiada strukturę sieciową, która podlega modyfikacjom po pojawianiu się nowych \n",
    "patogenów\n",
    "\n",
    "Brak zbioru przykładów negatywnych\n",
    "- do zadziałania mechanizmów obronnych wystarczy znajomość struktur charakteryzujących własne komórki"
   ]
  },
  {
   "cell_type": "markdown",
   "id": "241d282f",
   "metadata": {},
   "source": [
    "Prosta reprezentacja\n",
    "- gromadzona wiedza reprezentowana jest w bezpośredni sposób przez struktury detektorów uczestniczących w rozpoznawaniu patogenów\n",
    "\n",
    "Unikalność unikalny\n",
    "- układ immunologiczny każdego osobnika jest"
   ]
  },
  {
   "cell_type": "markdown",
   "id": "0fe0eaa6",
   "metadata": {},
   "source": [
    "### Sztuczne systemy immunologiczne\n",
    "\n",
    "Sztuczne systemy immunologiczne (*Artificial Immune Systems* - *AIS*)\n",
    "- wzorowane są na systemach immunologicznych organizmów żywych,\n",
    "- wykorzystywane są do rozwiązywania problemów, w których ważnym elementem jest wykrywanie anomalii."
   ]
  },
  {
   "cell_type": "markdown",
   "id": "644be1a4",
   "metadata": {},
   "source": [
    "Budowane modele pozwalają wyróżnić przypadki:\n",
    "- normalne, \n",
    "- patologiczne.\n",
    "\n",
    "Każdy przypadek, który nie przypomina znanych przypadków uznawany jest za anomalię.\n"
   ]
  },
  {
   "cell_type": "markdown",
   "id": "34be9fdc",
   "metadata": {},
   "source": [
    "Przypadek, którego charakterystyka przypomina jeden z wcześniej zdefiniowanych detektorów anomalii jest klasyfikowany jako patologiczny.\n",
    "\n",
    "Uaktywniony detektor anomalii poddawany jest operacjom mutacji i powielenia celem rozpoznawania nowych przypadków patologicznych."
   ]
  },
  {
   "cell_type": "markdown",
   "id": "b50e9f75",
   "metadata": {},
   "source": [
    "### Detekcja anomalii\n",
    "\n",
    "Przykład\n",
    "\n",
    "- Algorytm negatywnej selekcji - opiera się na mechanizmie eliminacji tych komórek, które rozpoznają własne struktury.\n"
   ]
  },
  {
   "cell_type": "markdown",
   "id": "da69c9a8",
   "metadata": {},
   "source": [
    "### Algorytm negatywnej selekcji\n",
    "\n",
    "Utworzenie zbioru $S$ łańcuchów (np. binarnych) reprezentujących wzorcowe stany systemu.\n",
    "\n",
    "Utworzenie zbioru detektorów $D$, które nie rozpoznają żadnego łańcucha $s \\in S$.\n",
    "\n",
    "Monitorowanie zbioru $S'$:\n",
    "- jeżeli dopasowanie któregokolwiek detektora $d\\in D$ do łańcucha $s'\\in S'$ przekracza zadaną wartość progową, to oznacza to, że $s'$ jest przypadkiem patologicznym (anomalią)."
   ]
  },
  {
   "cell_type": "markdown",
   "id": "a5ac6c88",
   "metadata": {},
   "source": [
    "<img src=\"../pliki_wlasne/algorytm_negatywnej_selekcji.png\" width=\"500\"/>\n",
    "\n",
    "- $m$ - miara dopasowania, \n",
    "- $\\theta$ - wartość progowa\n"
   ]
  },
  {
   "cell_type": "markdown",
   "id": "9cc48a69",
   "metadata": {},
   "source": [
    "<img src=\"../pliki_wlasne/algorytm_negatywnej_selekcji2.png\" width=\"500\"/>\n",
    "\n",
    "- $m$ - miara dopasowania, \n",
    "- $\\theta$ - wartość progowa"
   ]
  },
  {
   "cell_type": "markdown",
   "id": "1b64642e",
   "metadata": {},
   "source": [
    "### Miara powinowactwa\n",
    "\n",
    "Powinowactwo może być określone jako liczba komplementarnych bitów, wówczas można je obliczyć za pomocą funkcji XOR.\n",
    "\n",
    "Przykład\n",
    "\n",
    "<span t=\"l2\">$\\frac{\n",
    "    \\begin{array}{c@{}c@{}}\n",
    "      d:\\mbox{    }10111000000\\\\\n",
    "      s:\\mbox{    }01001001100\n",
    "    \\end{array}\n",
    "    }{\\begin{array}{c@{}c@{}}\n",
    "      XOR: 11110001100\n",
    "    \\end{array}}$</span>"
   ]
  },
  {
   "cell_type": "markdown",
   "id": "b8d57bf9",
   "metadata": {},
   "source": [
    "### Przykład\n",
    "\n",
    "Napisz skrypt dla środowiska R generujący detektory wykrywające anomalie jeśli dane są stany wzorcowe:\n",
    "\n",
    "10110000\n",
    "11110000\n",
    "10111000\n"
   ]
  },
  {
   "cell_type": "markdown",
   "id": "3819ea48",
   "metadata": {},
   "source": [
    "Krok 1: Tworzymy macierz stanów wzorcowych."
   ]
  },
  {
   "cell_type": "code",
   "execution_count": 1,
   "id": "24944ed8",
   "metadata": {},
   "outputs": [],
   "source": [
    "positive.cases <- matrix(c(TRUE,FALSE,TRUE,TRUE,FALSE,FALSE,FALSE,FALSE,\n",
    "                           TRUE,TRUE,TRUE,TRUE,FALSE,FALSE,FALSE,FALSE,\n",
    "                           TRUE,FALSE,TRUE,TRUE,TRUE,FALSE,FALSE,FALSE), ncol=8, byrow=TRUE);"
   ]
  },
  {
   "cell_type": "markdown",
   "id": "e57820f6",
   "metadata": {},
   "source": [
    "Krok 2: Tworzymy macierz na generowane detektory."
   ]
  },
  {
   "cell_type": "code",
   "execution_count": 2,
   "id": "0305ccba",
   "metadata": {},
   "outputs": [],
   "source": [
    "detectors <- matrix(nrow=0, ncol=8);"
   ]
  },
  {
   "cell_type": "markdown",
   "id": "4e232c67",
   "metadata": {},
   "source": [
    "Krok 3: Tworzmy pętlę generującą detektory."
   ]
  },
  {
   "cell_type": "code",
   "execution_count": 3,
   "id": "7d4ff051",
   "metadata": {},
   "outputs": [],
   "source": [
    "for(i in 1: 10)\n",
    "{\n",
    "  potential.detector <- sample(c(TRUE,FALSE),8, replace=TRUE);\n",
    "  \n",
    "  suitable <- TRUE;\n",
    "  \n",
    "  for(r in 1:nrow(positive.cases))\n",
    "  {\n",
    "    if(length(which(xor(positive.cases[r,],potential.detector)))<=2)\n",
    "    {\n",
    "      suitable <- FALSE;\n",
    "    }\n",
    "  }\n",
    "  \n",
    "  if(suitable==TRUE)\n",
    "  {\n",
    "    detectors <- rbind(detectors,potential.detector);\n",
    "  }\n",
    "}"
   ]
  },
  {
   "cell_type": "markdown",
   "id": "0cb40649",
   "metadata": {},
   "source": [
    "Krok 4: Wyświetlamy wygenrowane detektory."
   ]
  },
  {
   "cell_type": "code",
   "execution_count": 4,
   "id": "812a1a0d",
   "metadata": {},
   "outputs": [
    {
     "name": "stdout",
     "output_type": "stream",
     "text": [
      "                    [,1]  [,2]  [,3]  [,4]  [,5]  [,6]  [,7]  [,8]\n",
      "potential.detector  TRUE  TRUE  TRUE  TRUE  TRUE  TRUE  TRUE FALSE\n",
      "potential.detector FALSE  TRUE  TRUE FALSE  TRUE  TRUE FALSE  TRUE\n",
      "potential.detector FALSE  TRUE  TRUE FALSE  TRUE FALSE FALSE FALSE\n",
      "potential.detector FALSE FALSE  TRUE FALSE FALSE  TRUE  TRUE FALSE\n",
      "potential.detector  TRUE FALSE FALSE FALSE  TRUE  TRUE FALSE FALSE\n"
     ]
    }
   ],
   "source": [
    "print(detectors);"
   ]
  }
 ],
 "metadata": {
  "kernelspec": {
   "display_name": "R",
   "language": "R",
   "name": "ir"
  },
  "language_info": {
   "codemirror_mode": "r",
   "file_extension": ".r",
   "mimetype": "text/x-r-source",
   "name": "R",
   "pygments_lexer": "r",
   "version": "4.1.3"
  }
 },
 "nbformat": 4,
 "nbformat_minor": 5
}
