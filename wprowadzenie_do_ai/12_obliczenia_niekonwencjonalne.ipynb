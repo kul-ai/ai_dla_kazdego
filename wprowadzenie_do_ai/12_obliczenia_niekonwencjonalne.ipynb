{
 "cells": [
  {
   "cell_type": "markdown",
   "id": "591f89e0",
   "metadata": {},
   "source": [
    "# Obliczenia niekonwencjonalne"
   ]
  },
  {
   "cell_type": "markdown",
   "id": "8bddcf38",
   "metadata": {},
   "source": [
    "### Klasyczna realizacja obliczeń: układy mechaniczne\n",
    "- układy mechaniczne\n",
    "- układy elektryczne\n",
    "- układy elektroniczne\n",
    "\n",
    "\n",
    "Obliczenia niekonwencjonalne:\n",
    "- układy optyczne \n",
    "- układy kwantowe \n",
    "- układy chemiczne \n",
    "- układy biologiczne \n",
    "- itp."
   ]
  },
  {
   "cell_type": "markdown",
   "id": "9db647ac",
   "metadata": {},
   "source": [
    "### Przykład komputera biologicznego \n",
    "\n",
    "Medium - jednokomórkowy organizm żywy: śluzorośla należąca do gatunku Physarum polycpehalum.\n",
    "\n",
    "<img src=\"../pliki_wlasne/physarum_polycpehalum.png\" width=\"200\"/>"
   ]
  },
  {
   "cell_type": "markdown",
   "id": "a152452a",
   "metadata": {},
   "source": [
    "### Programowanie\n",
    "\n",
    "Topologiczne rozmieszczenie atraktantów (elementów przyciągających/zwabiających) oraz repelentów (elementów odpychających/odstraszających) dla plasmodium Physarum polycpehalum.\n",
    "- Atraktanty: np. bodźce pokarmowe (m.in. płatki owsiane).\n",
    "- Repelenty: np. światło, czynniki termiczne, sól.\n"
   ]
  },
  {
   "cell_type": "markdown",
   "id": "6a50dd1a",
   "metadata": {},
   "source": [
    "### Schematy drabinkowe\n",
    "\n",
    "Schematy drabinkowe opierają się na idei przepływu prądu poprzez szczeble drabinki od szyny lewej do szyny prawej.\n",
    "\n",
    "Schematy drabinkowe można wykorzystać do opisu układów logicznych.\n"
   ]
  },
  {
   "cell_type": "markdown",
   "id": "bf966386",
   "metadata": {},
   "source": [
    "Styk normalnie otwarty - sterowany wejściem (wartość logiczna 0 na wejściu powoduje otwarcie styku - brak przepływu prądu, wartość logiczna 1 na wejściu powoduje zamknięcie styku - przepływ prądu):\n",
    "\n",
    "<img src=\"../pliki_wlasne/schemat_drabinkowy1.png\" width=\"50\"/>\n",
    "\n",
    "Styk normalnie zamknięty - sterowany wejściem (wartość logiczna 0 na wejściu powoduje zamknięcie styku - przepływ prądu, wartość logiczna 1 na wejściu powoduje otwarcie styku – brak przepływu prądu):\n",
    "\n",
    "<img src=\"../pliki_wlasne/schemat_drabinkowy2.png\" width=\"50\"/>\n",
    "\n",
    "Cewka - sterująca wyjściem (prąd płynący przez cewkę powoduje ustawienie wyjścia w stan logiczny 1, brak przepływu prądu oznacza stan logiczny 0):\n",
    "\n",
    "<img src=\"../pliki_wlasne/schemat_drabinkowy3.png\" width=\"50\"/>"
   ]
  },
  {
   "cell_type": "markdown",
   "id": "8be0920c",
   "metadata": {},
   "source": [
    "Bramka AND: \n",
    "<img src=\"../pliki_wlasne/schemat_drabinkowy_and.png\" width=\"100\"/>\n",
    "\n",
    "Bramka OR:\n",
    "<img src=\"../pliki_wlasne/schemat_drabinkowy_or.png\" width=\"100\"/>\n",
    "\n",
    "Bramka NOT:\n",
    "<img src=\"../pliki_wlasne/schemat_drabinkowy_not.png\" width=\"100\"/>\n",
    "\n"
   ]
  },
  {
   "cell_type": "markdown",
   "id": "948b4d53",
   "metadata": {},
   "source": [
    "Idea przepływu prądu w schematach drabinkowych zastąpiona została ideą propagacji plasmodium Physarum polycpehalum."
   ]
  },
  {
   "cell_type": "markdown",
   "id": "af3bc1a9",
   "metadata": {},
   "source": [
    "## Bramka AND"
   ]
  },
  {
   "cell_type": "markdown",
   "id": "fcaddb4f",
   "metadata": {},
   "source": [
    "### Bramka AND\n",
    "\n",
    "<img src=\"../pliki_wlasne/bramka_and.png\" width=\"400\"/>\n",
    "\n",
    "\n",
    "\n",
    "$P$ – zarodziec Physarum polycpehalum\n",
    "\n",
    "$A_{x1}, A_{x2}$ – atraktanty sterowane wejściami $x1, x2$\n",
    "\n",
    "$A_y$ – atraktant sterujący wyjściem"
   ]
  },
  {
   "cell_type": "markdown",
   "id": "7285464a",
   "metadata": {},
   "source": [
    "### Interpretacja stanów logicznych dla bramki AND\n",
    "\n",
    "wejścia:\n",
    "- 0 – atraktant nieaktywny\n",
    "- 1 – atraktant aktywny \n",
    "\n",
    "wyjście:\n",
    "- 0 – atraktant nieokupowany przez plasmodium Physarum polycpehalum\n",
    "- 1 – atraktant okupowany przez plasmodium Physarum polycpehalum"
   ]
  },
  {
   "cell_type": "markdown",
   "id": "fb1717fa",
   "metadata": {},
   "source": [
    "x1=0, x2=0:\n",
    "<img src=\"../pliki_wlasne/bramka_and_00.png\" width=\"400\"/>\n",
    "\n",
    "x1=0, x2=1:\n",
    "<img src=\"../pliki_wlasne/bramka_and_01.png\" width=\"400\"/>\n",
    "\n",
    "x1=1, x2=0:\n",
    "<img src=\"../pliki_wlasne/bramka_and_10.png\" width=\"400\"/>\n",
    "Strzałka oznacza propagację plasmodium.\n",
    "\n",
    "x1=1, x2=1:\n",
    "<img src=\"../pliki_wlasne/bramka_and_11.png\" width=\"400\"/>\n",
    "\n"
   ]
  },
  {
   "cell_type": "markdown",
   "id": "e8acf7d8",
   "metadata": {},
   "source": [
    "## Bramka OR"
   ]
  },
  {
   "cell_type": "markdown",
   "id": "4bd96913",
   "metadata": {},
   "source": [
    "<img src=\"../pliki_wlasne/bramka_or.png\" width=\"300\"/>\n",
    "\n",
    "$P$ – zarodziec Physarum polycpehalum\n",
    "\n",
    "$A_{x1}, A_{x2}$ – atraktanty sterowane wejściami $x1, x2$\n",
    "\n",
    "$A_y$ – atraktant sterujący wyjściem\n",
    "\n",
    "Interpretacja stanów logicznych dla bramki AND"
   ]
  },
  {
   "cell_type": "markdown",
   "id": "9bd7adb0",
   "metadata": {},
   "source": [
    "x1=0, x2=0:\n",
    "<img src=\"../pliki_wlasne/bramka_or_00.png\" width=\"300\"/>\n",
    "\n",
    "x1=0, x2=1:\n",
    "<img src=\"../pliki_wlasne/bramka_or_01.png\" width=\"300\"/>\n",
    "Strzałka oznacza propagację plasmodium.\n",
    "\n",
    "\n",
    "x1=1, x2=0:\n",
    "<img src=\"../pliki_wlasne/bramka_or_10.png\" width=\"300\"/>\n",
    "\n",
    "x1=1, x2=1:\n",
    "<img src=\"../pliki_wlasne/bramka_or_11.png\" width=\"300\"/>\n",
    "\n",
    "\n"
   ]
  },
  {
   "cell_type": "markdown",
   "id": "013f8c92",
   "metadata": {},
   "source": [
    "## Bramka NOT"
   ]
  },
  {
   "cell_type": "markdown",
   "id": "e3535240",
   "metadata": {},
   "source": [
    "<img src=\"../pliki_wlasne/bramka_not.png\" width=\"300\"/>\n",
    "\n",
    "$P$ – zarodziec Physarum polycpehalum\n",
    "\n",
    "$R_x$ – repelent sterowany wejściam $x$\n",
    "\n",
    "$A_y$ – atraktant sterujący wyjściem\n"
   ]
  },
  {
   "cell_type": "markdown",
   "id": "d580d2e9",
   "metadata": {},
   "source": [
    "### Interpretacja stanów logicznych dla bramki NOT\n",
    "\n",
    "wejście:\n",
    "- 0 – repelent nieaktywny\n",
    "- 1 – repelent aktywny \n",
    "\n",
    "wyjście:\n",
    "- 0 – atraktant nieokupowany przez plasmodium Physarum polycpehalum\n",
    "- 1 – atraktant okupowany przez plasmodium Physarum polycpehalum"
   ]
  },
  {
   "cell_type": "markdown",
   "id": "8d704980",
   "metadata": {},
   "source": [
    "x=0:\n",
    "<img src=\"../pliki_wlasne/bramka_not_0.png\" width=\"300\"/>\n",
    "\n",
    "x=1:\n",
    "<img src=\"../pliki_wlasne/bramka_not_1.png\" width=\"300\"/>"
   ]
  },
  {
   "cell_type": "code",
   "execution_count": null,
   "id": "4ca32960",
   "metadata": {},
   "outputs": [],
   "source": []
  }
 ],
 "metadata": {
  "kernelspec": {
   "display_name": "R",
   "language": "R",
   "name": "ir"
  },
  "language_info": {
   "codemirror_mode": "r",
   "file_extension": ".r",
   "mimetype": "text/x-r-source",
   "name": "R",
   "pygments_lexer": "r",
   "version": "4.1.3"
  }
 },
 "nbformat": 4,
 "nbformat_minor": 5
}
