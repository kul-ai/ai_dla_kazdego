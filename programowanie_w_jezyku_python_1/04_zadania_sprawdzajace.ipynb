{
 "cells": [
  {
   "cell_type": "markdown",
   "metadata": {
    "colab_type": "text",
    "id": "view-in-github"
   },
   "source": [
    "<a href=\"https://colab.research.google.com/github/trypuz/ai_dla_kazdego/blob/main/python_dla_kazdego/kolokwia.ipynb\" target=\"_parent\"><img src=\"https://colab.research.google.com/assets/colab-badge.svg\" alt=\"Open In Colab\"/></a>"
   ]
  },
  {
   "cell_type": "markdown",
   "metadata": {},
   "source": [
    "# Zadania sprawdzające"
   ]
  },
  {
   "cell_type": "markdown",
   "metadata": {
    "id": "Z8LgP_u7ot1-"
   },
   "source": [
    "## Zadanie 1."
   ]
  },
  {
   "cell_type": "markdown",
   "metadata": {
    "id": "MniiqA73o3yo"
   },
   "source": [
    "### Grupa 1.\n",
    "1) Napisz program, który z poniższego tekstu wybierze i wyświetli tylko te słowa, których częścią jest słowo \"filozof\" (wielkość liter nie powinna mieć znaczenia).\n",
    "\n",
    "2) Na podstawie poniższego tekstu utwórz słownik, którego kluczami będą słowa, a wartościami liczba ich występowania w tekście.\n",
    "\n",
    "3) Napisz program, który z poniższego tekstu wybierze i wyświetli 10 słów, które mają w sobie min 3 różne samogłoski.\n",
    "\n",
    "\n",
    "`Filozofią zajmowano się w Katolickim Uniwersytecie Lubelskim od początku istnienia tej uczelni. W ramach Wydziału Nauk Humanistycznych funkcjonowała sekcja (grupa) nauk filozoficznych. Poza tym zajęcia z zakresu filozofii prowadzono na innych wydziałach. Czołowymi nauczycielami dyscyplin filozoficznych lub pokrewnych byli: ks. Idzi Radziszewski, ks. Stanisław Domińczak, Bohdan Rutkiewicz, Jacek Woroniecki OP, ks. Józef Pastuszka, Henryk Jakubanis, ks. Antoni Szymański. Statut KUL z 1938 r. przewidywał utworzenie, obok dotychczasowych czterech, nowego wydziału filozoficznego. Przerwa wojenna spowodowała, że Wydział Filozofii Chrześcijańskiej erygowano dopiero w 1946 r. (uroczyste otwarcie Wydziału miało miejsce 10 XI 1946 r., zajęcia rozpoczęły się kilka dni wcześniej). Zasadniczą rolę w jego organizacji odegrał ks. Józef Pastuszka, pierwszy dziekan. Obok niego głównymi wykładowcami byli: Stefan Swieżawski, ks. Stanisław Adamczyk, ks. Antoni Korcik, gościnnie Stefan Harassek, nieco później Feliks W. Bednarski OP.`"
   ]
  },
  {
   "cell_type": "markdown",
   "metadata": {
    "id": "uD7TnAgWo8r-"
   },
   "source": [
    "### Grupa 2.\n",
    "\n",
    "1) Napisz program, który z poniższego tekstu wybierze i wyświetli tylko te słowa, w których litera \"e\" występuje minimum dwa razy. Wybrane słowa wyświetl tylko małymi literami.\n",
    "\n",
    "2) Na podstawie poniższego tekstu utwórz słownik, którego kluczami będą słowa, a wartościami liczba ich występowania w tekście.\n",
    "\n",
    "3) Napisz program, który z poniższego tekstu wyświetli pierwszych 10 słów, które mają więcej niż 10 liter.\n",
    "\n",
    "\n",
    "`Katolicki Uniwersytet Lubelski Jana Pawła II jest najstarszą uczelnią Lublina i jednym z najstarszych uniwersytetów w Polsce. Powstał w 1918 r. z inicjatywy ks. Idziego Radziszewskiego, który został pierwszym rektorem. Od początków istnienia zadaniem Uczelni jest służba Bogu i Ojczyźnie - Deo et Patriae.\n",
    "W ciągu swojej prawie 100-letniej historii KUL stał się jednym z najważniejszych ośrodków myśli katolickiej, który wpływał na kształt nauki i kultury polskiej, zyskując szerokie uznanie w kraju i zagranicą.\n",
    "KUL dziś jest Uczelnią otwartą na cywilizacyjne i naukowe wyzwania współczesności. Obok teologii, filozofii, nauk społecznych, prawnych i humanistycznych rozwijane są nauki matematyczne i przyrodnicze, by przygotować studentów do pełnej i odpowiedzialnej pracy dla dobra Ojczyzny i Kościoła.`"
   ]
  },
  {
   "cell_type": "markdown",
   "metadata": {
    "id": "nFb9Uny9pKK5"
   },
   "source": [
    "## Zadanie 2."
   ]
  },
  {
   "cell_type": "markdown",
   "metadata": {
    "id": "ifdR722gpMTf"
   },
   "source": [
    "### Grupa 1.\n",
    "\n",
    "1) Napisz funkcję `find_word` (znajdź słowo) o dwóch parametrach: `letter` (litera) i `text` (tekst). Zadaniem funkcji jest wybranie z tekstu (tj. argumentu parametru `text`) słów, w których litera będąca argumentem parametru `letter` występuje minimum dwa razy. Wielkość liter nie powinna mieć znaczenia. Funkcja powinna zwrócić listę znalezionych słów. Zademonstruj działanie funkcji na dowolnym tekście i literze.\n",
    "\n",
    "2) Napisz funkcję `n_letters` o dwóch parametrach: `text` i `number`, która w tekście (tj. argumencie parametru `text`) znajdzie pierwszych n słów, gdzie n, to liczba będąca argumentem parametru `number`, które mają więcej niż n znaków. Funkcja powinna zwrócić listę krotek; krotka powinna składać się z dwóch elementów: (znalezionego) słowa i liczby znaków w tym słowie.\n",
    "\n",
    "3) Napisz funkcję `counter` o jednym parametrze `text`. Zadaniem funkcji jest utworzenie i zwrócenie słownika, którego kluczami będą słowa, a wartościami liczba ich występowania w tekście (argumencie parametru `text`)."
   ]
  },
  {
   "cell_type": "markdown",
   "metadata": {
    "id": "-e24USPlpSd0"
   },
   "source": [
    "### Grupa 2.\n",
    "\n",
    "1) Napisz funkcję `find_word` (znajdź słowo) o dwóch parametrach `word` (słowo) i `text` (tekst). Zadaniem funkcji jest wybranie z tekstu (tj. argumentu parametru `text`) słów, których częścią jest słowo, które będzie argumentem parametru `word`. Wielkość liter nie powinna mieć znaczenia. Funkcja powinna zwrócić listę znalezionych słów. Zademonstruj działanie funkcji na dowolnym tekście i słowie.\n",
    "\n",
    "2) Napisz funkcję `counter` o jednym parametrze `text`. Zadaniem funkcji jest utworzenie i zwrócenie słownika, którego kluczami będą słowa, a wartościami liczba ich występowania w tekście (argumencie parametru `text`).\n",
    "\n",
    "3) Napisz funkcję `vowel` o jednym parametrze `word`, która sprawdzi, czy w słowie będącym argumentem parametru `word` są min 3 różne samogłoski. Funkcja powinna zwrócić `True` jeśli tak jest albo `False` w przeciwnym wypadku."
   ]
  },
  {
   "cell_type": "markdown",
   "metadata": {
    "id": "bT_xJAU0ps9S"
   },
   "source": [
    "## Zadanie 2. bis"
   ]
  },
  {
   "cell_type": "markdown",
   "metadata": {
    "id": "G8lqeNuppvfn"
   },
   "source": [
    "1) Napisz funkcję `anagram`, której parametrami będą dwa wyrażenia (lub słowa) `phrase1` i `phrase2`. Zadaniem funkcji jest sprawdzenie, czy wyrażenie pierwsze (tj. argument parametru `phrase1`) jest anagramem wyrażenia drugiego (tj. argumentu parametru `phrase2`). Funkcja powinna zwrócić `True` jeśli tak jest i `False` w przeciwnym wypadku. Wielkość liter nie powinna mieć znaczenia. \n",
    "\n",
    "Zademonstruj działanie funkcji.\n"
   ]
  },
  {
   "cell_type": "markdown",
   "metadata": {
    "id": "jGe2Il-2pyEp"
   },
   "source": [
    "2) Napisz funkcję `palindrom`, której parametrem będzie wyrażenie `phrase`. Zadaniem funkcji jest sprawdzenie, czy wyrażenie (tj. argument parametru `phrase`) jest palindromem. Funkcja powinna zwrócić `True` jeśli tak jest i `False` w przeciwnym wypadku. Wielkość liter nie powinna mieć znaczenia. \n",
    "\n",
    "Zademonstruj działanie funkcji.\n"
   ]
  },
  {
   "cell_type": "markdown",
   "metadata": {
    "id": "FJNxTUwTp0g_"
   },
   "source": [
    "3) Napisz funkcję `count_letters`, której parametrem będzie wyrażenie `phrase`. Zadaniem funkcji jest zlicznie w podanym wyrażeniu (tj. argumencie parametru `phrase`):\n",
    "- liczby samogłosek\n",
    "- liczby spółgłosek\n",
    "- liczby liter zapisanych wielką literą\n",
    "- liczby liter zapisanych małą literą. \n",
    "\n",
    "Funkcja powinna zwrócić te cztery wartości w postaci słownika.\n",
    "\n",
    "\n",
    "Zademonstruj działanie funkcji.\n"
   ]
  },
  {
   "cell_type": "markdown",
   "metadata": {
    "id": "r9a88q4KqNhP"
   },
   "source": [
    "## Zadanie 3."
   ]
  },
  {
   "cell_type": "markdown",
   "metadata": {
    "id": "JwqE1xX9qO3z"
   },
   "source": [
    "### Grupa 1.\n",
    "\n",
    "Utwórz klasę `Restaurant` z konstruktorem z parametrami `dishes_in_menu_number` (liczba dań w menu) i  `menu` (niech pusty słownik będzie wartością domyślną) oraz metodami opisanymi poniżej.\n",
    "\n",
    "- Metoda `see_menu` (bez parametrów) wyświetla aktualne menu w postaci ładnie sformatowanej listy, np.:\n",
    "  ```\n",
    "  Oto pełne menu:\n",
    "  - pierogi - 20 zł\n",
    "  - bigos - 10 zł\n",
    "  ```\n",
    "\n",
    "- Metoda `add_to_menu` (bez parametrów) pozwala na dodanie dania do menu o ile liczba dań aktualnie będących w menu jest mniejsza od `dishes_in_menu_number`. Jeśli by tak nie było, powinna poinformować, że `Menu jest kompletne. Musisz coś usunąć, aby dodać nowe danie.`\n",
    "Menu jest słownikiem, w którym kluczami są nazwy dań, a wartościami ich ceny (same liczby, bez \"zł\"). \n",
    "Metoda nie powinna pozwolić na dodanie do menu dania bez nazwy lub bez ceny (będącej liczbą). Powinna też sprawdzić, czy danie nie jest już w menu. W przypadku, gdy użytkownik wprowadzi \"pustą\" nazwę dania, metoda powinna ponownie poprosić o podanie nazwy. Podobnie z ceną gdy użytkownik wprowadzi \"pustą\" cenę lub ciąg znaków, który nie jest liczbą. \n",
    "Na koniec metoda powinna wyświetlić aktualne menu korzystając z metody `see_menu`.\n",
    "\n",
    "- Metoda `add_n_dishes_to_menu` z jednym parametrem `n` będącym liczną dań jakie chcemy dodać do menu. Metoda powinna najpierw sprawdzić, czy jest możliwe dodanie `n` dań do aktualnego menu (tj. czy po dodaniu nie zostanie przekroczony `dishes_in_menu_number`). Jeśli nie jest możliwe, to powinna powinformować ile maksymalnie dań można jeszcze dodać. Jeśli możliwe jest dodanie `n` dań, powinna to umożliwić wykorzystując `n` razy metodę `add_to_menu`.\n",
    "\n",
    "- Medoda `remove_from_menu` z jednym parametrem `dish_name` pozwala na uzunięcie z menu dania o nazwie `dish_name`. Oczywiście metoda powinna sprawdzić, czy takie danie w ogóle jest menu i jeśli nie to o tym poinformować `Danie od nazwie ... zostało usunięte z menu.` (w miejscu kropek powinna być nazwa dania). Jeśli takie danie ustnieje powinna je usunąć i poinformować o tym.\n",
    "\n",
    "- Metoda `save_menu_to_csv_file` (bez parametrów), która zapisze menu w pliku CSV o nazwie `menu.csv`. Powinny być 2 kolumny, w jednej nazwa dania, a w drugiej cena.\n",
    "\n",
    "Na koniec stwórz przykładowy egzemplarz tej klasy i zademonstruj działanie wszystkich metod."
   ]
  },
  {
   "cell_type": "markdown",
   "id": "6e439db4",
   "metadata": {},
   "source": [
    "## Zadanie 4."
   ]
  },
  {
   "cell_type": "markdown",
   "id": "ece166e7",
   "metadata": {
    "id": "67y4_p6PWOQJ"
   },
   "source": [
    "### Grupa 1.\n",
    "\n",
    "1) Stwórz program, który pobiera od użytkownika informacje o pracownikach firmy: Imię, Nazwisko i pensję.  Po tym jak użytkownik poda informacje dla przynajmniej 3 pracowników należy wypisać te informację wraz z następującymi informacjami:\n",
    "- średnie zarobki w firmie,\n",
    "- osobę, która zarabia najwięcej,\n",
    "- osobę, która zarabia najmniej."
   ]
  },
  {
   "cell_type": "markdown",
   "id": "66f88515",
   "metadata": {
    "id": "eV0ulHFmWcpe"
   },
   "source": [
    "2) Zapisz ręcznie poniższy tekst w pliku, następnie otwórz zawartość pliku w programie, który pobierze od użytkownika literę, a następnie wypisze wszystkie słowa zaczynające się na tę literę (niezależnie od wielkości) i poda ich liczbę.\n",
    "\n",
    "```\n",
    "Lorem ipsum dolor sit amet, consectetur adipiscing elit. Phasellus et posuere nibh. Morbi aliquam elit non dui venenatis hendrerit. Morbi ac mi tristique, maximus felis in, porttitor mi. In hac habitasse platea dictumst. Morbi vitae imperdiet purus. Cras varius velit sed sollicitudin convallis. Maecenas venenatis, lacus non consectetur varius, metus massa hendrerit est, a feugiat tellus nulla nec turpis. Praesent aliquam nulla leo, ut viverra ex tincidunt quis.\n",
    "\n",
    "Suspendisse tincidunt vulputate placerat. Aliquam consectetur bibendum laoreet. Donec tellus justo, volutpat sed vehicula et, ornare et sapien. Phasellus semper libero fringilla turpis ultrices, ut elementum nibh egestas. Proin ut scelerisque velit, eu convallis metus. In ultrices eget diam vitae interdum. Nam fermentum nibh vitae dolor egestas varius. In tincidunt nec odio quis venenatis. In at scelerisque dolor, sit amet sollicitudin mi. Aliquam eu purus pharetra, efficitur nisl ac, consectetur dui. Nam ornare at lectus ac vulputate. Quisque scelerisque libero auctor, euismod quam eleifend, accumsan orci. Suspendisse congue interdum dui, non iaculis lectus posuere vitae. Duis eleifend arcu tempus nibh pellentesque egestas. \n",
    "```"
   ]
  },
  {
   "cell_type": "markdown",
   "id": "42ec75cf",
   "metadata": {
    "id": "sA6ec6v4XTMA"
   },
   "source": [
    "3) Umieść ręcznie poniższy tekst w pliku tekstowym:\n",
    "\n",
    "```\n",
    "# Zupy\n",
    "barszcz,12\n",
    "pomidorowa,13\n",
    "# Dania główne\n",
    "kotlet schabowy z ziemniakami,25.0\n",
    "pierogi z mięsem,19\n",
    "# Dodatki\n",
    "surówka Coleslaw,8.5\n",
    "sałatka grecka,9\n",
    "# Desery\n",
    "lody czekoladowe,12.3\n",
    "ciasto truskawkowe,11\n",
    "```\n",
    "\n",
    "Wczytaj ten plik w programie i wyświetl menu użytkownikowi. Program powinien umożliwić użytkownikowi wybranie potraw, które chce zamówić. Następnie wypisz wybrane przez użytkownika potrawy oraz podlicz ich koszt oraz wypisz kwotę użytkownikowi. Na koniec użytkownik może zaakceptować zamówienie lub je odrzucić i zacząć wybór od początku."
   ]
  },
  {
   "cell_type": "markdown",
   "id": "4afae1f7",
   "metadata": {
    "id": "ZF4h8955c6pt"
   },
   "source": [
    "### Grupa 2.\n",
    "\n",
    "1) Stwórz program magazynowy, który pobiera od użytkownika towary (nazwa, ilość, cena), które chce on dodać do magazynu. Po tym jak użytkownik poda przynajmniej 3 towary wypusz podsumowanie, na które składać się będzie:\n",
    "- lista towarów,\n",
    "- towar najtanszy,\n",
    "- towar najdroższy,\n",
    "- oraz średnia cena towaru."
   ]
  },
  {
   "cell_type": "markdown",
   "id": "da5ca0bd",
   "metadata": {
    "id": "nFCzvY1lc70l"
   },
   "source": [
    "2) Zapisz ręcznie poniższy tekst w pliku, następnie otwórz zawartość pliku w programie, który pobierze od użytkownika literę, a następnie wypisze wszystkie słowa kończące się na tę literę (niezależnie od wielkości) i poda ich liczbę. Pamiętaj, aby zignorować znaki interpunkcyjne (np. zdanie `Ala ma kota.` ma 3 słowa, a ostatnie kończy się na literę `a`).\n",
    "\n",
    "```\n",
    "Lorem ipsum dolor sit amet, consectetur adipiscing elit. Phasellus et posuere nibh. Morbi aliquam elit non dui venenatis hendrerit. Morbi ac mi tristique, maximus felis in, porttitor mi. In hac habitasse platea dictumst. Morbi vitae imperdiet purus. Cras varius velit sed sollicitudin convallis. Maecenas venenatis, lacus non consectetur varius, metus massa hendrerit est, a feugiat tellus nulla nec turpis. Praesent aliquam nulla leo, ut viverra ex tincidunt quis.\n",
    "\n",
    "Suspendisse tincidunt vulputate placerat. Aliquam consectetur bibendum laoreet. Donec tellus justo, volutpat sed vehicula et, ornare et sapien. Phasellus semper libero fringilla turpis ultrices, ut elementum nibh egestas. Proin ut scelerisque velit, eu convallis metus. In ultrices eget diam vitae interdum. Nam fermentum nibh vitae dolor egestas varius. In tincidunt nec odio quis venenatis. In at scelerisque dolor, sit amet sollicitudin mi. Aliquam eu purus pharetra, efficitur nisl ac, consectetur dui. Nam ornare at lectus ac vulputate. Quisque scelerisque libero auctor, euismod quam eleifend, accumsan orci. Suspendisse congue interdum dui, non iaculis lectus posuere vitae. Duis eleifend arcu tempus nibh pellentesque egestas. \n",
    "```"
   ]
  },
  {
   "cell_type": "markdown",
   "id": "35656d52",
   "metadata": {
    "id": "7jcnK4A6dBuE"
   },
   "source": [
    "3) Zapisz ręcznie poniższy tekst do pliku:\n",
    "\n",
    "```\n",
    "# Piłki\n",
    "piłka do futbolu,78.0\n",
    "piłka do koszykówki,56\n",
    "# Ubrania\n",
    "t-shirt do ćwiczeń,38\n",
    "bluza z kapturem,120.50\n",
    "spodenki do biegania,84.99\n",
    "# Elektronika\n",
    "zegarek ze stoperem,150.42\n",
    "słuchawki bezprzewodowe z Bluetoothem, 99.99\n",
    "# Akcesoria\n",
    "bidon,32\n",
    "hantla 2kg,36\n",
    "```\n",
    "\n",
    "Wczytaj ten plik w programie i wyświetl menu sklepu użytkownikowi. Program powinien umożliwić użytkownikowi wybranie towarów, które chce kupić. Następnie wypisz wybrane przez użytkownika towary oraz podlicz ich koszt oraz wypisz kwotę użytkownikowi. Na koniec użytkownik może zaakceptować zamówienie lub je odrzucić i zacząć wybór od początku."
   ]
  },
  {
   "cell_type": "markdown",
   "id": "ca91a1e4",
   "metadata": {},
   "source": [
    "## Zadanie 5."
   ]
  },
  {
   "cell_type": "markdown",
   "id": "71a171ee",
   "metadata": {},
   "source": [
    "### Grupa 1."
   ]
  },
  {
   "cell_type": "markdown",
   "id": "97b7bf87",
   "metadata": {
    "id": "HLJJcTor2LXt"
   },
   "source": [
    "1) Pobierz od użytkownika pięć różnych zdań, a następnie wypisz je w kolejności alfabetycznej (możesz użyć metody `list.sort()`). Wypisz również najkrótsze i najdłuższe zdanie."
   ]
  },
  {
   "cell_type": "markdown",
   "id": "0a1ab188",
   "metadata": {
    "id": "sEFn92XH2PSr"
   },
   "source": [
    "2) Z pliku `lista_gosci.txt` wczytaj listę gości (gdzie każda osoba została zapisana w oddzielnej linijce.  Następnie napisz program, który wypisze na ekranie listę zaproszeń dla osób z listy, oddzielone od siebie znakami `-----`. Treść zaproszenia:\n",
    "\n",
    "```\n",
    "Pan(i) _____ zostaje zaproszony na moje urodziny, które odbędą się dnia 30.6.2022 w Lublinie!\n",
    "```\n",
    "\n",
    "W miejsce `_____` należy wstawić imię i nazwisko osoby.\n",
    "\n",
    "Przykład wydrukowanej listy zaproszeń:\n",
    "\n",
    "```\n",
    "Pan(i) Jan Nowak zostaje zaproszony na moje urodziny, które odbędą się dnia 30.6.2022 w Lublinie!\n",
    "-----\n",
    "Pan(i) Piotr Malinowski zostaje zaproszony na moje urodziny, które odbędą się dnia 30.6.2022 w Lublinie!\n",
    "-----\n",
    "Pan(i) Joanna Kowalska zostaje zaproszony na moje urodziny, które odbędą się dnia 30.6.2022 w Lublinie!\n",
    "-----\n",
    "```\n",
    "\n",
    "Treść pliku `lista_gosci.txt`:\n",
    "\n",
    "```\n",
    "Jan Kowalski\n",
    "Anna Nowak\n",
    "Jerzy Malinowski\n",
    "Maria Kochanowska\n",
    "Stefan Mazur\n",
    "```"
   ]
  },
  {
   "cell_type": "markdown",
   "id": "3118944e",
   "metadata": {
    "id": "O9xVg21r2PqI"
   },
   "source": [
    "3) Zdefiniuj klasę `Car`, która będzie miała następujące pola:\n",
    "\n",
    "* `brand` - marka samochodu,\n",
    "\n",
    "* `model` - model samochodu,\n",
    "\n",
    "* `production_year` - rok produkcji,\n",
    "\n",
    "* `mileage` - przebieg (w kilometrach),\n",
    "\n",
    "* `price` - cena.\n",
    "\n",
    "Następnie napisz program, który będzie działał w pętli pobierając od użytkownika polecenie z podanego poniżej menu i zaimplementuj obsługę tego menu i wszystkich funkcji w nim z wykorzystaniem klasy `Car`.\n",
    "\n",
    "```\n",
    "1. Dodaj samochód\n",
    "2. Wypisz listę samochodów\n",
    "3. Znajdź najtańszy samochód\n",
    "4. Znajdź najdroższy samochód\n",
    "5. Wyjdź\n",
    "```"
   ]
  },
  {
   "cell_type": "markdown",
   "id": "7cd8eb61",
   "metadata": {
    "id": "l5cOIY9g-v7L"
   },
   "source": [
    "### Grupa 2."
   ]
  },
  {
   "cell_type": "markdown",
   "id": "f576a750",
   "metadata": {
    "id": "aAVVeXU--uTN"
   },
   "source": [
    "1) Pobierz od użytkownika pięć różnych zdań, a następnie wypisz je na ekranie pomijając wszystkie słowa zaczynające się na podaną przez użytkownika literę.  "
   ]
  },
  {
   "cell_type": "markdown",
   "id": "f575b16a",
   "metadata": {
    "id": "D3KRdzfw-uQZ"
   },
   "source": [
    "2) Wczytaj zawartość pliku `oceny.txt` (poniżej jego treść), która zawiera listę ocen ucznia.\n",
    "\n",
    "Na podstawie wczytanych ocen wylicz średnią arytmetyczną ocen, wypisz przedmioty z najwyższą i najniższą oceną, a następnie zapisz wynik tych operacji do pliku `raport.txt` w nastepującym formacie:\n",
    "\n",
    "```\n",
    "Raport ocen dla ucznia: Jan Kowalski\n",
    "Średnia ocen: 4.0\n",
    "Najlepsza ocena z przedmiotu Jezyk polski: 5.0\n",
    "Najniższa ocena z przedmiotu Fizyka: 3.0\n",
    "```\n",
    "\n",
    "Treść pliku `oceny.txt`:\n",
    "\n",
    "```\n",
    "Uczeń:Jan Kowalski\n",
    "Język polski,5.0\n",
    "Język angielski,3.5\n",
    "Historia,4.5\n",
    "Wiedza o społeczeństwie,4.0\n",
    "Matematyka,4.0\n",
    "Fizyka,3.0\n",
    "Biologia,3.5\n",
    "Chemia,4.0\n",
    "Geografia,4.5\n",
    "```"
   ]
  },
  {
   "cell_type": "markdown",
   "id": "cabed7c0",
   "metadata": {
    "id": "GmX7BMYe-uGb"
   },
   "source": [
    "3) Zdefiniuj klasę `Grade`, która będzie miała następujące pola:\n",
    "\n",
    "- `id` - identyfikator ucznia (np. 1, 2, 3...),\n",
    "\n",
    "- `name` - imię i nazwisko ucznia,\n",
    "\n",
    "- `subject` - nazwa przedmiotu w szkole,\n",
    "\n",
    "- `grade` - ocena (np. 5.0, 3,5, 1.0).\n",
    "\n",
    "Następnie napisz program, który będzie działał w pętli pobierając od użytkownika polecenie z podanego poniżej menu i zaimplementuj obsługę tego menu i wszystkich funkcji w nim z wykorzystaniem klasy `Grade`.\n",
    "\n",
    "```\n",
    "1. Dodaj ocenę\n",
    "2. Wypisz wszystkie oceny dla ucznia z podanym ID\n",
    "3. Wypisz średnią ocen dla ucznia z podanym ID\n",
    "4. Wypisz wszystkie oceny z przedmiotu o podanej nazwie\n",
    "5. Wyjdź \n",
    "```"
   ]
  }
 ],
 "metadata": {
  "colab": {
   "authorship_tag": "ABX9TyM7ec3iVBm88i/KNRhNE+Jx",
   "collapsed_sections": [],
   "include_colab_link": true,
   "name": "kolokwia.ipynb",
   "provenance": [],
   "toc_visible": true
  },
  "kernelspec": {
   "display_name": "Python 3",
   "language": "python",
   "name": "python3"
  },
  "language_info": {
   "codemirror_mode": {
    "name": "ipython",
    "version": 3
   },
   "file_extension": ".py",
   "mimetype": "text/x-python",
   "name": "python",
   "nbconvert_exporter": "python",
   "pygments_lexer": "ipython3",
   "version": "3.8.8"
  }
 },
 "nbformat": 4,
 "nbformat_minor": 1
}
