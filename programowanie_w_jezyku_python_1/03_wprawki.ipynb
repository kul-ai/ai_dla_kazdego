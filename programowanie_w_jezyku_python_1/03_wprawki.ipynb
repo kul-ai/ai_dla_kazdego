{
 "cells": [
  {
   "cell_type": "markdown",
   "metadata": {
    "colab_type": "text",
    "id": "view-in-github"
   },
   "source": [
    "<a href=\"https://colab.research.google.com/github/trypuz/ai_dla_kazdego/blob/main/python_dla_kazdego/wprawki.ipynb\" target=\"_parent\"><img src=\"https://colab.research.google.com/assets/colab-badge.svg\" alt=\"Open In Colab\"/></a>"
   ]
  },
  {
   "cell_type": "markdown",
   "metadata": {
    "id": "cQAECMUrDXw1"
   },
   "source": [
    "# Wprawki programistyczne"
   ]
  },
  {
   "cell_type": "markdown",
   "metadata": {
    "id": "rjAVpCGpOIbD"
   },
   "source": [
    "## Napisy i zmienne"
   ]
  },
  {
   "cell_type": "markdown",
   "metadata": {
    "id": "JjfK6wz5NcEQ"
   },
   "source": [
    "### Wprawka 1.\n",
    "\n",
    "Zmień poniższą instrukcję tak, aby wyświetliła imiona najsłynniejszych filozofów greckich oddzielając je przecinkiem.\n",
    "\n",
    "```\n",
    "print('Sokrates', 'Platon', 'Arystoteles', 'Heraklit', 'Demokryt')\n",
    "```"
   ]
  },
  {
   "cell_type": "code",
   "execution_count": null,
   "metadata": {},
   "outputs": [],
   "source": [
    "print(...)"
   ]
  },
  {
   "cell_type": "markdown",
   "metadata": {
    "id": "F-M_hSpOOORm"
   },
   "source": [
    "### Wprawka 2.\n",
    "\n",
    "Wykorzystaj poniższe dwie zmienne, aby wyświetlić napis mówiący, że Arystoteles urodził się mieście o nazwie ”Stagira”. Nie zapomnij o kropce na końcu zdania!\n",
    "\n",
    "```\n",
    "philosopher = 'Arystoteles'\n",
    "city = 'Stagira'\n",
    "```\n"
   ]
  },
  {
   "cell_type": "markdown",
   "metadata": {
    "id": "O5aGulhrOVve"
   },
   "source": [
    "### Wprawka 3.\n",
    "\n",
    "Stwórz zmienną `t` i przypisz jej napis: „Thor, syn Odyna, odpowiednik południowogermańskiego Donara, jeden z głównych bogów nordyckich”. Następnie wydrukuj napis złożony z liter zmiennej t w następującej kolejności: 19, 12, od 0 do 2 włącznie, 8, 5, 60, 23, 6, 0, 5, 6, 32, 19, 23, 3. Zmień napis, aby zaczynał się dużą literą, a pozostałe miał małe. Dodaj wykrzyknij na końcu. Czy zgadzasz się z hasłem, które się wyświetliło? ;-)\n"
   ]
  },
  {
   "cell_type": "markdown",
   "metadata": {
    "id": "pdy11aQcOc9Z"
   },
   "source": [
    "### Wprawka 4.\n",
    "\n",
    "Stwórz zmienną `entry` i przypisz jej tekst komentarza o treści „Nie zgadzam się z tym stanem rzeczy, kurza twarz!”. Następnie stwórz zmienną `vulgarism` i przypisz jej wartość „kurza twarz”. Sprawdź, czy komentarz zawiera wyrażenie obraźliwe i jeśli tak, wydrukuj napis „Komentarz zawiera wyrażenie uznane za obraźliwe.”."
   ]
  },
  {
   "cell_type": "markdown",
   "metadata": {
    "id": "2xehXSWDPJap"
   },
   "source": [
    "## Instrukcje warunkowe"
   ]
  },
  {
   "cell_type": "markdown",
   "metadata": {
    "id": "ABRKwnD_OnLh"
   },
   "source": [
    "### Wprawka 1.\n",
    "\n",
    "Napisz program, w którym komputer w odpowiedzi na podany  przez ciebie wiek, poda cenę biletu kinowego zgodnie z następującymi wytycznymi:\n",
    "- 0-9 lat: 15 zł.\n",
    "- 10-17 lat: 20 zł.\n",
    "- 18 i więcej: 30 zł.\n",
    "\n"
   ]
  },
  {
   "cell_type": "markdown",
   "metadata": {
    "id": "JL-6q8tzOtIQ"
   },
   "source": [
    "### Wprawka 2.\n",
    "\n",
    "Napisz instrukcję warunkową, która wydrukuje komunikat „Niezłocznie skontaktuj się z lekarzem!”, jeśli wystąpi przynajmniej jeden z poniższej listy objawów:\n",
    "- duszności (ang. shortness of breath)\n",
    "- dezorientacja (ang. confusion)\n",
    "- ból w klatce piersiowej (ang. pain in the chest)\n"
   ]
  },
  {
   "cell_type": "markdown",
   "metadata": {
    "id": "AOV8foWxOurf"
   },
   "source": [
    "### Wprawka 3.\n",
    "\n",
    "Napisz program, który zapyta studenta o liczbę zdobytych punktów z kolokwium, a następnie poinformuje go o ocenie zgodnie z punktacją:\n",
    "- Od 0 do 12: ndst\n",
    "- Od 13 do 15: dst\n",
    "- Od 16 do 18: dst +\n",
    "- Od 19 do 21: db\n",
    "- Od 22 do 24: db+\n",
    "- Powyżej 25: bdb"
   ]
  },
  {
   "cell_type": "markdown",
   "metadata": {
    "id": "fH1mRl-6PCst"
   },
   "source": [
    "## Pętla while"
   ]
  },
  {
   "cell_type": "markdown",
   "metadata": {
    "id": "W4Ve4NuRPNBQ"
   },
   "source": [
    "### Wprawka 1.\n",
    "\n",
    "Pamiętasz, że „+” w przypadku napisów może służyć do ich łączenia (konkatenacji). Również „*” ma swoje specjalne znaczenie. Otóż `3 * '$' ` wydrukuje $$$. Napisz program, który wydrukuje uszy kota o określonym rozmiarze (ang. size). Poniżej mamy przykłady o rozmiarze 5 i 7.\n",
    "\n",
    "```\n",
    "@        @\n",
    "@@      @@\n",
    "@@@    @@@\n",
    "@@@@  @@@@\n",
    "@@@@@@@@@@\n",
    "```\n",
    "```\n",
    "@            @\n",
    "@@          @@\n",
    "@@@        @@@\n",
    "@@@@      @@@@\n",
    "@@@@@    @@@@@\n",
    "@@@@@@  @@@@@@\n",
    "@@@@@@@@@@@@@@\n",
    "```\n"
   ]
  },
  {
   "cell_type": "markdown",
   "metadata": {
    "id": "J2Qcc4PUPYSQ"
   },
   "source": [
    "### Wprawka 2.\n",
    "\n",
    "Przekształć kod gry ze zgadywaniem liczby w taki sposób, aby warunki pętli while było `True`."
   ]
  },
  {
   "cell_type": "markdown",
   "metadata": {
    "id": "1b8WWjXJPjQq"
   },
   "source": [
    "## Pętla for"
   ]
  },
  {
   "cell_type": "markdown",
   "metadata": {
    "id": "_svYmMG2PqrW"
   },
   "source": [
    "### Wprawka 1.\n",
    "\n",
    "Używając pętli for napisz kod drukujący choinkę złożoną ze znaków $."
   ]
  },
  {
   "cell_type": "markdown",
   "metadata": {
    "id": "1ASbnfjSPy7C"
   },
   "source": [
    "## Listy"
   ]
  },
  {
   "cell_type": "markdown",
   "metadata": {
    "id": "sCZ3LeVlP03k"
   },
   "source": [
    "### Wprawka 1.\n",
    "\n",
    "Stwórz listę min pięciu gości, których chcesz zaprosić na swoje urodziny. Stwórz fragment szablonu zaproszenia o treści:\n",
    "\n",
    "„Pan/Pani … powinna czuć się zaszczycona zaproszeniem na urodziny niżej podpisanego.”\n",
    "\n",
    "Następnie wypisz tyle zaproszeń ilu gości znalazło się na twoje liście. Oczywiście w miejscu kropek powinno pojawić się imię i nazwisko gościa. Użyj metody `title()`, aby mieć pewność, że imiona i nazwiska będą napisane z poszanowaniem gramatyki języka polskiego. \n"
   ]
  },
  {
   "cell_type": "markdown",
   "metadata": {
    "id": "kn0aAeKEP7lH"
   },
   "source": [
    "### Wprawka 2.\n",
    "\n",
    "Z listy \n",
    "```\n",
    "students = ['Jan Kiełbasa', 'Maria Babeczka', 'Marian Kaszanka', 'Julia Piernik']\n",
    "```\n",
    "\n",
    "Stwórz dwie listy `names` i `surnames`, zawierające odpowiednio imiona i nazwiska studentów.\n",
    "\n"
   ]
  },
  {
   "cell_type": "markdown",
   "metadata": {
    "id": "Pu_ks7MSP9vA"
   },
   "source": [
    "### Wprawka 3.\n",
    "\n",
    "Stwórz listę 5 dżokejów i 5 koni. Napisz program, który wylosuje konia dla każdego z dżokejów. Oczywiście każdy koń może być wylosowany tylko raz. Użyj funkcji `random.shuffle()`, która jako argument przyjmuje sekwencję, np. listę, i ją „tasuje”, czyli losowo zmienia porządek jej elementów. Wyniki losowania wyświetl za pomocą `print()`."
   ]
  },
  {
   "cell_type": "markdown",
   "metadata": {
    "id": "pQspQd-7P_gJ"
   },
   "source": [
    "## Słowniki"
   ]
  },
  {
   "cell_type": "markdown",
   "metadata": {
    "id": "XfI9XelVQBv3"
   },
   "source": [
    "### Wprawka 1.\n",
    "\n",
    "Utwórz słownik z min pięcioma krajami. Kluczem każdego elementu niech będzie jego kod kraju zgodnie ze standardem ISO 3166-1 alfa-2 (sprawdź w Internecie!), a wartością liczba ludności kraju. Następnie \n",
    "- wydrukuj wszystkie klucze\n",
    "- dla wybranego kraju sprawdź liczbę jego mieszańców\n",
    "- dodaj dane dotyczące nowego kraju\n",
    "- zmodyfikuj liczbę ludności dla wybranego kraju"
   ]
  },
  {
   "cell_type": "markdown",
   "metadata": {
    "id": "JZ1wtKo4QGPc"
   },
   "source": [
    "### Wprawka 2.\n",
    "\n",
    "Stwórz listę osób, które chcesz obdarować prezentem świątecznym oraz listę prezentów (przynajmniej tak długą jak lista osób). Użyj pętli `for` i funkcji `zip()`, aby iterować od razu po tych dwóch listach, i utwórz słownik, w którym kluczami będą osoby a wartościami prezenty."
   ]
  },
  {
   "cell_type": "markdown",
   "metadata": {
    "id": "Aj3-P60vQIti"
   },
   "source": [
    "### Wprawka 3.\n",
    "\n",
    "Stwórz mini słownik polsko-angielski (minimum 10 słów!), w którym kluczami będą słowa języka polskiego, a wartościami ich angielskie tłumaczenia."
   ]
  },
  {
   "cell_type": "markdown",
   "metadata": {
    "id": "XeQ0_1BgPUkH"
   },
   "source": [
    "## Funkcje"
   ]
  },
  {
   "cell_type": "markdown",
   "metadata": {
    "id": "mLaW1TBGPYlQ"
   },
   "source": [
    "### Wprawka 1.\n",
    "\n",
    "1.   Stwórz menu - jako słownik, gdzie kluczami będą nazwy dań, a wartościami ich cena (min 5 pozycji)\n",
    "\n",
    "2.   zdefiniuj funkcję `restaurant()`, bez parametrów!, która po wywołaniu będzie przyjmowała zamówienie (`input`)\n",
    "\n",
    "  *   jeśli ktoś poda nazwę dania, którego nie ma w menu, to powinna być informacją zwrotna, że takiego dania nie ma\n",
    "  *   jeśli danie jest w menu, to proszę podać jego cenę i dodać do zamówienia\n",
    "  * jeśli użytkownik niczego nie wprowadzi (tylko ENTER), to kończymy przyjmowanie zamówienia, podajemy pełną listę zamówionych dań oraz ile klient zapłaci za całość\n",
    "  * podpowiadam: pętla!\n",
    "\n",
    "\n",
    "\n",
    "\n",
    "\n",
    "\n"
   ]
  },
  {
   "cell_type": "markdown",
   "metadata": {
    "id": "xh4b3D1Cztrx"
   },
   "source": [
    "## Klasy"
   ]
  },
  {
   "cell_type": "markdown",
   "metadata": {
    "id": "tUKE1kKSzxAz"
   },
   "source": [
    "### Wprawka 1.\n",
    "\n",
    "Zdefiniuj klasę `Scoop` (gałka lodów), która reprezentuje pojedynczą gałkę lodów, z konstruktorem o pojedynczym atrybucie `flavor` (smak), który możesz zainicjować podczas tworzenia egzemplarzy klasy `Scoop`. \n",
    "\n",
    "Po utworzeniu klasy napisz funkcję `create_scoops` (utwórz gałki lodów). UWAGA! Funkcja powinan być poza klasą Scoop!. Zadaniem funkcji `create_scoops` jest 1) utworzenie listę o nazwie `scoops` złożoną z trzech egzemplarzy klasy `Scoop`, z których każda ma inny smak (`flavor`) oraz 2) za pomocą odpowiedniej pętli wydrukowanie na ekranie smak każdej gałki lodów.\n"
   ]
  },
  {
   "cell_type": "markdown",
   "metadata": {
    "id": "vf1P4UMunvs4"
   },
   "source": [
    "### Wprawka 2.\n",
    "\n",
    "Zdefiniuj klasę `Car` (samochód) z konstruktorem o atrybutach `vin_number` (numer VIN), `brand` (marka) oraz `mileage` (przebieg). Utwórz metodę, która może zmieniać wartość atrybutu `mileage`. Utwórz klasę `Bus` (autobus) dziedziczącą po `Car` w następujący sposób:\n",
    "\n",
    "```\n",
    "class Bus(Vehicle):\n",
    "    pass\n",
    "```\n",
    "\n",
    "Na koniec \n",
    "\n",
    "1. Utwórz po jednym egzemplarzu klasy `Car` oraz `Bus`.\n",
    "2. Wydrukuj na ekranie ich przebieg.\n",
    "3. Zmień przebieg w obu egzemplarzach.\n",
    "4. Wydrukuj na ekranie nowe przebiegi."
   ]
  },
  {
   "cell_type": "markdown",
   "metadata": {
    "id": "fegA48eLDXxC"
   },
   "source": [
    "## Dodatkowe wprawki"
   ]
  },
  {
   "cell_type": "markdown",
   "metadata": {
    "id": "3919934d"
   },
   "source": [
    "### Wprawka 1.\n",
    " Napisz program, który będzie obliczał pola wybranej figury. Na początku użytkownik wybiera typ figury (prostokąt, koło, trójkąt). Następnie program pyta użytkownika o potrzebne do obliczenia pola dane. Na końcu program zwraca wynik."
   ]
  },
  {
   "cell_type": "markdown",
   "metadata": {
    "id": "cfc24cb1"
   },
   "source": [
    "### Wprawka 2.\n",
    "Rozszerz program 1. o działanie w pętli (żeby nie trzeba było za każdym razem uruchamiać programu na nowo) oraz o możliwość obliczania obwodów figur."
   ]
  },
  {
   "cell_type": "markdown",
   "metadata": {
    "id": "e0374e14"
   },
   "source": [
    "### Wprawka 3.\n",
    "Napisz program, który będzie przeliczał kilometry na mile i odwrotnie. Najpierw użytkownik powinien wybrać kierunek przeliczania i podać liczbę kilometrów lub mil."
   ]
  },
  {
   "cell_type": "markdown",
   "metadata": {
    "id": "747a8339"
   },
   "source": [
    "### Wprawka 4.\n",
    "Napisz prosty kalkulator, który będzie pobierał od użytkownika dwa argumenty (np. a i b) oraz operację arytmetyczną, która ma zostać wykonana (dodawanie, odejmowanie, mnożenie, dzielenie oraz potęgowanie). Program powinien być tak skonstruowany, żeby obsługa każdej operacji odbywała się w osobnej funkcji.\n"
   ]
  },
  {
   "cell_type": "markdown",
   "metadata": {
    "id": "56f5844f"
   },
   "source": [
    "### Wprawka 5.\n",
    "Napisz program, który pobiera od użytkownika 5 liczb, oblicza dla nich średnią arytmetyczną i ją wypisuje. "
   ]
  },
  {
   "cell_type": "markdown",
   "metadata": {
    "id": "f8c8ee18"
   },
   "source": [
    "### Wprawka 6.\n",
    "\n",
    "Zmodyfikuj program nr 5., żeby użytkownik mógł podawać wybraną przez siebie liczbę liczb, a podawanie kończy się za pomocą umówionego znaku (np. gdy na wejściu zamiast liczby pojawi się 'q').\n",
    "\n",
    "**Przykład działania**:\n",
    "```\n",
    "Dla ilu liczb chcesz obliczyć średnią?\n",
    "> 3\n",
    "Liczba 1: \n",
    "> 4\n",
    "Liczba 2: \n",
    "> 14.5\n",
    "Liczba 3:\n",
    "> 3.1\n",
    "Średnia arytmetyczna dla podanych liczb to: 21.6\n",
    "```"
   ]
  },
  {
   "cell_type": "markdown",
   "metadata": {
    "id": "18a004cc"
   },
   "source": [
    "### Wprawka 7.\n",
    "\n",
    "Napisz program obliczający silnię dla liczby podanej przez użytkownika.\n",
    "\n",
    "**Przykład działania**:\n",
    "\n",
    "```\n",
    "Podaj liczbę:\n",
    "> 5\n",
    "Silnia dla liczby 5 wynosi: 120\n",
    "```"
   ]
  },
  {
   "cell_type": "markdown",
   "metadata": {
    "id": "12c6facd"
   },
   "source": [
    "### Wprawka 8.\n",
    "\n",
    "Napisz program, który przyjmuje na wejściu listę podanych przez użytkownika liczb, a następnie znajduje najmniejszą i największą liczbę z listy. Program powinien również obliczyć średnią arytmetyczną oraz średnią geometryczną.\n",
    "\n",
    "**Przykład działania**:\n",
    "\n",
    "```\n",
    "Liczba 1:\n",
    "> 7\n",
    "Liczba 2:\n",
    "> 2\n",
    "Liczba 3:\n",
    "> 12.6\n",
    "Liczba 4:\n",
    "> q\n",
    "\n",
    "Najmniejsza: 2\n",
    "Największa: 12.6\n",
    "Średnia arytmetyczna: 7.2\n",
    "Średnia geometryczna: 5.60832\n",
    "```"
   ]
  },
  {
   "cell_type": "markdown",
   "metadata": {
    "id": "5e18a032"
   },
   "source": [
    "### Wprawka 9.\n",
    "\n",
    "Napisz program, który wczytuje od użytkownika liczbę całkowitą, a następnie  sprawdza czy jest to liczba parzysta, czy nieparzysta. Dla liczby 4 program powinien wypisać komunikat Liczba 4 jest parzysta. Program powinien działać w pętli i pobierać od użytkownika kolejne liczby do sprawdzania tak długo, aż użytkownik nie wpisze `q`.\n",
    "\n",
    "**Przykład działania**:\n",
    "```\n",
    "Podaj liczbę:\n",
    "> 12\n",
    "'12' to liczba parzysta.\n",
    "> 3\n",
    "'3' to liczba nieparzysta.\n",
    "> q\n",
    "Do widzenia!\n",
    "```"
   ]
  },
  {
   "cell_type": "markdown",
   "metadata": {
    "id": "976f1f0c"
   },
   "source": [
    "### Wprawka 10.\n",
    "\n",
    "Napisz program, który na wejściu przyjmuje od użytkowniką kwotę w złotych i groszach (np. 2078.53 zł), a następnie podaje ile i jakich banknotów i monet należy użyć, by wydać tę kwotę (przy założeniu, że chcemy ich wydać jak najmniej). Do rozwiązania zadania pomocna jest operacja modulo. \n",
    "\n",
    "**Przykład działania**:\n",
    "```\n",
    "Podaj kwotę:\n",
    "> 321.23\n",
    "Liczba banknotów 200 zł: 1\n",
    "Liczba banknotów 100 zł: 1\n",
    "Liczba banknotów 20 zł: 1\n",
    "Liczba monet 1 zł: 1\n",
    "Liczba monet 20 gr: 1\n",
    "Liczba monet 2 gr: 1\n",
    "Liczba monet 1 gr: 1\n",
    "```"
   ]
  },
  {
   "cell_type": "markdown",
   "metadata": {
    "id": "ec93e42e"
   },
   "source": [
    "### Wprawka 11.\n",
    "\n",
    "Napisz program, który przyjmuje na wejściu liczbę całkowitą dodatnią, a następnie wypisuje tyle kolejnych liczb ciągu Fibonacciego, ile wynosi ta liczba. \n",
    "\n",
    "**Przykład działania:**\n",
    "```\n",
    "Podaj liczbę Fibonacciego:\n",
    "> 6\n",
    "Ciąg: 1 1 2 3 5 8\n",
    "```"
   ]
  },
  {
   "cell_type": "markdown",
   "metadata": {
    "id": "8fcc6916"
   },
   "source": [
    "### Wprawka 12.\n",
    "\n",
    "Stwórz prostą grę nazwaną \"Byki i krowy\". Program losuje liczbę czterocyfrową, a użytkownik stara się ją odgadnąć. \n",
    "\n",
    "Przykładowo, jeżeli wylosowana liczba to 1357, a użytkownik wpisze 1580, to program powinien wypisać komunikat 1 byk i 1 krowa, gdzie 'byk' oznacza odpowiednią cyfrę na odpowiednim miejscu (1), a 'krowa' oznacza odpowiednią cyfrę na złym miejscu (5). Program powinien działać do momentu, w którym użytkownikowi uda się trafić 4 byki."
   ]
  },
  {
   "cell_type": "markdown",
   "metadata": {
    "id": "02a8fe8c"
   },
   "source": [
    "### Wprawka 13.\n",
    "\n",
    "Napisz program, który wypisuje choinkę o podanej wysokości. Dla wartości 4 choinka powinna wyglądać w następujący sposób:\n",
    "\n",
    "```\t  \n",
    "   *\n",
    "  ***\n",
    " *****\n",
    "*******\n",
    "```"
   ]
  },
  {
   "cell_type": "markdown",
   "metadata": {
    "id": "e8924e3e"
   },
   "source": [
    "### Wprawka 14.\n",
    "\n",
    "Rozszerz poprzedni program, żeby pobierał od użytkownika znak, z którego ma składać się choinka. Np. jeżeli użytkownik poda znak #, to choinka powinna wyglądać następująco:\n",
    "\n",
    "```\t  \n",
    "   #\n",
    "  ###\n",
    " #####\n",
    "#######\n",
    "```"
   ]
  },
  {
   "cell_type": "markdown",
   "metadata": {
    "id": "fe65775f"
   },
   "source": [
    "### Wprawka 15.\n",
    "\n",
    "Napisz program, który wypisze wszystkie liczby pierwsze do podanej przez użytkownika liczby.\n",
    "\n",
    "Przykładowo, dla liczby 100 program powinien wypisać: 2, 3, 5, 7, 11, 13, 17, 19, 23, 29, 31, 37, 41, 43, 47, 53, 59, 61, 67, 71, 73, 79, 83, 89, 97 "
   ]
  },
  {
   "cell_type": "markdown",
   "metadata": {
    "id": "7bfb3f1d"
   },
   "source": [
    "### Wprawka 16.\n",
    "\n",
    "Napisz program, który pobierze od użytkownika liczbę od 3 do 9, a następnie zapisze do pliku (nazwa pliku dowolna) choinkę o wysokości wyznaczonej przez tę liczbę. Pod choinką powinien zostać dopisany napis \"Wesołych Świąt!\". Przykład wykonania programu:\n",
    "\n",
    "```\t  \n",
    "Podaj wysokość choinki: 5\n",
    "Choinka zapisana do pliku 'choinka.txt'.\n",
    "```\n",
    "\n",
    "Zawartość pliku 'choinka.txt':\n",
    "\n",
    "```\n",
    "      #\n",
    "     ###\n",
    "    #####\n",
    "   #######\n",
    "  #########\n",
    "\n",
    "Wesołych Świąt!\n",
    "```\n",
    "\n"
   ]
  },
  {
   "cell_type": "markdown",
   "metadata": {
    "id": "4510a503"
   },
   "source": [
    "### Wprawka 17.\n",
    "\n",
    " Napisz program, który zapisze w pliku (o nazwie \"fibonacci.txt\") ciąg 100 pierwszych liczb Fibonacciego. "
   ]
  },
  {
   "cell_type": "markdown",
   "metadata": {
    "id": "c11679b0"
   },
   "source": [
    "### Wprawka 18.\n",
    "\n",
    "Stwórz plik tekstowy, w którym zapiszesz fragment dowolnego wybranego przez siebie utworu literackiego (np. fragment \"Pana Tadeusza\"). Następnie, napisz program, który wczyta ten tekst z dysku i wypisze liczbę znaków znajdujących się w tekście. Program powinien również umożliwić użytkownikowi wyszukiwanie wpisanego przez użytkownika tekstu.\n"
   ]
  },
  {
   "cell_type": "markdown",
   "metadata": {
    "id": "545e93a4"
   },
   "source": [
    "### Wprawka 16.\n",
    "\n",
    "Napisz program, który pobierze od użytkownika liczbę od 3 do 9, a następnie zapisze do pliku (nazwa pliku dowolna) choinkę o wysokości wyznaczonej przez tę liczbę. Pod choinką powinien zostać dopisany napis \"Wesołych Świąt!\". Przykład wykonania programu:\n",
    "\n",
    "```\t  \n",
    "Podaj wysokość choinki: 5\n",
    "Choinka zapisana do pliku 'choinka.txt'.\n",
    "```\n",
    "\n",
    "Zawartość pliku 'choinka.txt':\n",
    "\n",
    "```\n",
    "      #\n",
    "     ###\n",
    "    #####\n",
    "   #######\n",
    "  #########\n",
    "\n",
    "Wesołych Świąt!\n",
    "```\n",
    "\n"
   ]
  },
  {
   "cell_type": "markdown",
   "metadata": {
    "id": "41b97372"
   },
   "source": [
    "### Wprawka 17.\n",
    "\n",
    " Napisz program, który zapisze w pliku (o nazwie \"fibonacci.txt\") ciąg 100 pierwszych liczb Fibonacciego. "
   ]
  },
  {
   "cell_type": "markdown",
   "metadata": {
    "id": "98d989cd"
   },
   "source": [
    "### Wprawka 18.\n",
    "\n",
    "Stwórz plik tekstowy, w którym zapiszesz fragment dowolnego wybranego przez siebie utworu literackiego (np. fragment \"Pana Tadeusza\"). Następnie, napisz program, który wczyta ten tekst z dysku i wypisze liczbę znaków znajdujących się w tekście. Program powinien również umożliwić użytkownikowi wyszukiwanie wpisanego przez użytkownika tekstu.\n"
   ]
  },
  {
   "cell_type": "markdown",
   "metadata": {
    "id": "332da7c9"
   },
   "source": [
    "### Wprawka 19.\n",
    "\n",
    "Stwórz klasę `Database`, która będzie służyła do przechowywania informacji o stanach magazynowych. Baza danych powinna mieć wewnętrzny stan zdefiniowany w słowniku (mapie) oraz powinna udostępniać następujące metody:\n",
    "- `add(item)` -- dodaje przedmiot do bazy danych, należy użyć instancji klasy `Item` (którą też należy stworzyć);\n",
    "- `list()` -- zwraca listę wszystkich przedmiotów zapisanych w bazie danych;\n",
    "- `remove(item)` -- usuń przedmiot z bazy danych;\n",
    "- `removeById(id)` -- usuń przedmiot z bazy danych na podstawie ID przedmiotu;\n",
    "- `get(id)` -- zwróć przedmiot na podstawie jego ID;\n",
    "- `update(item)` -- zaktualizuj przedmiot w bazie danych.\n",
    "\n",
    "Należy również stworzyć klasę `Item` z następującymi polami:\n",
    "- `id` -- identyfikator przedmiotu, powinien być nadawany przez bazę danych;\n",
    "- `name` -- nazwa przedmiotu;\n",
    "- `description` -- opis przedmiotu;\n",
    "- `quantity` -- liczba przedmiotów;\n",
    "- `price` -- cena.\n",
    "\n",
    "W aplikacji należy również stworzyć kod, który w interaktywny sposób będzie wykonywał powyżej zdefiniowane operacje.\n"
   ]
  },
  {
   "cell_type": "markdown",
   "metadata": {
    "id": "7b5dbd73"
   },
   "source": [
    "### Wprawka 20.\n",
    "\n",
    "Do klasy `Database` z zadania 19. należy dodać:\n",
    "\n",
    "- funkcję `find(query)`, która po podaniu przez użytkownika napisu będzie zwracała wszystkie przedmioty, które w nazwie lub opisie zawiera szukany napis;\n",
    "- funkcję `close()`, która zapisuje aktualny stan bazy danych do pliku tekstowego o nazwie `data.db`; format pliku bazy danych powinien w następujący sposób:\n",
    "\n",
    "  ```\n",
    "  id1,name1,description1,quantity1,price1\n",
    "  id2,name2,description2,quantity2,price2\n",
    "  ...\n",
    "  ```\n",
    "\n",
    "- wczytywanie stanu bazy danych z pliku (o ile taki istnieje), w czasie tworzenia obiektu bazy danych."
   ]
  },
  {
   "cell_type": "markdown",
   "metadata": {
    "id": "f7371071"
   },
   "source": [
    "### Wprawka 20.1.\n",
    "\n",
    "Rozszerz klasę `Database` o możliwość dodawania do bazy dnaych obiektów różnego typu.  W tym celu należy zdefiniować klasę `Entry`, która będzie składała się z dwóch pól:\n",
    "\n",
    "- `type` -- przechowuje typ zapisywanego wpisu, np. `ITEM`, `ORDER` itd.\n",
    "- `fields` -- słownik, który będzie przechowywał pary klucz-wartość wpisu, np. dla typu `ITEM` może to być słownik zawierający:\n",
    "\n",
    "  ```\n",
    "  { \"name\": \"Piłka\", \"description\": \"Piłka plażowa\", \"price\": 12.99, \"quantity\": 5 }\n",
    "  ```\n",
    "\n",
    "Z wykorzystaniem tej klasy należy zmodyfikować metody klasy `Database` w opisany niżej sposób:\n",
    "\n",
    "- add(entry) -- dodaje wpis do bazy danych, należy użyć instancji klasy `Entry` (którą też należy stworzyć);\n",
    "- list(type) -- zwraca listę wszystkich wpisów o podanym typie zapisanych w bazie danych;\n",
    "- remove(entry) -- usuń wpis z bazy danych;\n",
    "- remove_by_id(type, id) -- usuń wpis danego typu z bazy danych na podstawie jego ID;\n",
    "- get(type, id) -- zwróć wpis na podstawie jego typu i ID;\n",
    "- update(entry) -- zaktualizuj wpis w bazie danych.\n",
    "\n",
    "Również konstruktor wczytujący dane z pliku oraz metoda `close` powinna uwzględniać te zmiany.\n"
   ]
  },
  {
   "cell_type": "markdown",
   "metadata": {
    "id": "b9b296fe"
   },
   "source": [
    "### Wprawka 21.\n",
    "\n",
    "Utwórz klasę `Store`, która wykorzystuje klasę `Database` jako podstawę stworzenia programu do robienia zakupów przez użytkowników."
   ]
  },
  {
   "cell_type": "markdown",
   "metadata": {
    "id": "4e56cb03"
   },
   "source": [
    "### Wprawka 22.\n",
    "\n",
    "Napisz program, który:\n",
    "- wczyta treść pliku o nazwie `source.txt` (dostarczone wraz z zadaniami);\n",
    "- pobierze od użytkownika liczbę i przypisze ją do zmiennej `min_length`;\n",
    "- następnie przefiltruje treść wczytanego pliku w ten sposób, że zostaną pominięte wszystkie słowa krótsze niż `min_length`;\n",
    "- słowa, która pozostały, powinny zostać zapisane do pliku `output.txt`."
   ]
  },
  {
   "cell_type": "markdown",
   "metadata": {
    "id": "27c929a0"
   },
   "source": [
    "### Wprawka 23.\n",
    "\n",
    "Zdefiniuj klasę `Package` zawierająca informacje o przesyłce:\n",
    "\n",
    "- `source_address` - adres nadawcy,\n",
    "- `target_address` - adres odbiorcy,\n",
    "- `weight` - waga\n",
    "- `priority` - `true/false`, czy paczka powinna zostać dostarczona w sposób priorytetowy.\n",
    "\n",
    "Należy utworzyć program, który:\n",
    "- umożliwia nadawanie paczek, informacje o paczce powinny zostać pobrane od użytkownika,\n",
    "- umożliwia wypisanie nadanych paczek."
   ]
  }
 ],
 "metadata": {
  "colab": {
   "collapsed_sections": [
    "ssOD9fcUOk_I",
    "2xehXSWDPJap",
    "ABRKwnD_OnLh",
    "fH1mRl-6PCst",
    "1b8WWjXJPjQq",
    "1ASbnfjSPy7C",
    "sCZ3LeVlP03k"
   ],
   "include_colab_link": true,
   "name": "wprawki.ipynb",
   "provenance": [],
   "toc_visible": true
  },
  "kernelspec": {
   "display_name": "Python 3 (ipykernel)",
   "language": "python",
   "name": "python3"
  },
  "language_info": {
   "codemirror_mode": {
    "name": "ipython",
    "version": 3
   },
   "file_extension": ".py",
   "mimetype": "text/x-python",
   "name": "python",
   "nbconvert_exporter": "python",
   "pygments_lexer": "ipython3",
   "version": "3.8.13"
  }
 },
 "nbformat": 4,
 "nbformat_minor": 1
}
