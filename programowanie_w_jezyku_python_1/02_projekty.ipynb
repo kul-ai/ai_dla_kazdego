{
 "cells": [
  {
   "cell_type": "markdown",
   "metadata": {
    "colab_type": "text",
    "id": "view-in-github"
   },
   "source": [
    "<a href=\"https://colab.research.google.com/github/trypuz/ai_dla_kazdego/blob/main/python_dla_kazdego/projekty.ipynb\" target=\"_parent\"><img src=\"https://colab.research.google.com/assets/colab-badge.svg\" alt=\"Open In Colab\"/></a>"
   ]
  },
  {
   "cell_type": "markdown",
   "metadata": {
    "id": "6M-nRqn47_VD"
   },
   "source": [
    "# Projekty"
   ]
  },
  {
   "cell_type": "markdown",
   "metadata": {
    "id": "nI7TXl5KDy6B"
   },
   "source": [
    "## Projekt ChatBot"
   ]
  },
  {
   "cell_type": "code",
   "execution_count": null,
   "metadata": {
    "colab": {
     "base_uri": "https://localhost:8080/"
    },
    "id": "gEcPNAjpeaoj",
    "outputId": "be484d4a-2059-420b-a765-b73be0a52cc2"
   },
   "outputs": [
    {
     "name": "stdout",
     "output_type": "stream",
     "text": [
      "Requirement already satisfied: pystempel in /Users/roberttrypuz/miniforge3/lib/python3.9/site-packages (1.2.0)\n",
      "Requirement already satisfied: tqdm in /Users/roberttrypuz/miniforge3/lib/python3.9/site-packages (from pystempel) (4.59.0)\n",
      "Requirement already satisfied: sortedcontainers in /Users/roberttrypuz/miniforge3/lib/python3.9/site-packages (from pystempel) (2.4.0)\n",
      "\u001b[33mWARNING: You are using pip version 21.3.1; however, version 22.1.2 is available.\n",
      "You should consider upgrading via the '/Users/roberttrypuz/miniforge3/bin/python3.9 -m pip install --upgrade pip' command.\u001b[0m\n"
     ]
    }
   ],
   "source": [
    "!pip install pystempel"
   ]
  },
  {
   "cell_type": "code",
   "execution_count": null,
   "metadata": {
    "colab": {
     "base_uri": "https://localhost:8080/"
    },
    "id": "DhBBt-kjeUB5",
    "outputId": "a22cc56d-f1fb-445b-a945-c3b25a8b1628"
   },
   "outputs": [
    {
     "name": "stderr",
     "output_type": "stream",
     "text": [
      "Loading: 100%|███████████████████████████████████████████████████████████████████████████████████████████████████████████████▋| 11340812/11368252 [00:03<00:00, 2835234.23bytes/s]"
     ]
    }
   ],
   "source": [
    "import csv\n",
    "from stempel import StempelStemmer\n",
    "\n",
    "stemmer = StempelStemmer.polimorf()"
   ]
  },
  {
   "cell_type": "code",
   "execution_count": null,
   "metadata": {
    "colab": {
     "base_uri": "https://localhost:8080/"
    },
    "id": "3Y0NqlkLVgDP",
    "outputId": "363ea6bc-2eca-4939-8b41-330274ba3380"
   },
   "outputs": [
    {
     "name": "stdout",
     "output_type": "stream",
     "text": [
      "książka --> książka\n",
      "książki --> książka\n",
      "książkami --> książka\n",
      "był --> być\n",
      "jest --> być\n",
      "są --> być\n"
     ]
    }
   ],
   "source": [
    "for word in ['książka', 'książki', 'książkami', 'był', 'jest', 'są']:\n",
    "  print(f'{word} --> {stemmer.stem(word)}')"
   ]
  },
  {
   "cell_type": "code",
   "execution_count": null,
   "metadata": {
    "id": "pvA4OSPW1WKL"
   },
   "outputs": [],
   "source": [
    "with open('dialogs.csv', 'w') as file:\n",
    "  csv_writer = csv.writer(file, delimiter=',', quotechar='\"', quoting=csv.QUOTE_MINIMAL)\n",
    "\n",
    "  csv_writer.writerow(['cześć', 'Cześć'])\n",
    "  csv_writer.writerow(['co u ciebie słychać', 'Dobrze, dziękuję.'])\n",
    "  csv_writer.writerow(['czy czekają nas dobre dni', 'Nie widzę inaczej!'])\n",
    "  # ...\n",
    "  csv_writer.writerow(['pa', 'Pa pa!'])"
   ]
  },
  {
   "cell_type": "code",
   "execution_count": null,
   "metadata": {
    "colab": {
     "base_uri": "https://localhost:8080/"
    },
    "id": "g9aRa6wp773K",
    "outputId": "acde2f38-f877-4c56-e274-742a889b17ef"
   },
   "outputs": [
    {
     "name": "stdout",
     "output_type": "stream",
     "text": [
      "ty: cześć\n",
      "\tuser speaks: {'cześć'}\n",
      "\tmatching: {'cześć'}\n",
      "chatbot: Cześć\n"
     ]
    },
    {
     "name": "stderr",
     "output_type": "stream",
     "text": [
      "\r",
      "Loading: 100%|████████████████████████████████████████████████████████████████████████████████████████████████████████████████| 11368252/11368252 [00:20<00:00, 2835234.23bytes/s]"
     ]
    },
    {
     "name": "stdout",
     "output_type": "stream",
     "text": [
      "ty: jak tam\n",
      "chatbot: Nie wiem.\n",
      "ty: to pa\n",
      "\tuser speaks: {'pativus', 'to'}\n",
      "\tmatching: {'pativus'}\n",
      "chatbot: Pa pa!\n",
      "ty: \n",
      "END\n"
     ]
    }
   ],
   "source": [
    "class Chatbot():\n",
    "\n",
    "  def __init__(self, csv_dialogs_file):\n",
    "    self.csv_dialogs_file = csv_dialogs_file\n",
    "    \n",
    "\n",
    "  def create_dialog_tuples(self):\n",
    "    pairs = []\n",
    "    with open(self.csv_dialogs_file, newline='') as file:\n",
    "      csv_reader = csv.reader(file, delimiter=',', quotechar='\"')\n",
    "      for row in csv_reader:\n",
    "        pairs.append((row[0], row[1]))\n",
    "    return pairs\n",
    "\n",
    "  def split_and_clean(self, sentence):\n",
    "    punkt = ',.?!\\'\";@#$%&*+-_`<>{}()'\n",
    "    sentence_tokenized = [word.lower() for word in sentence.split()]\n",
    "    sentence_tokenized_clean = []\n",
    "    for word in sentence_tokenized:\n",
    "      if word[0] in punkt:\n",
    "        word = word[1:]\n",
    "      if word[-1] in punkt:\n",
    "        word = word[:-1]\n",
    "      sentence_tokenized_clean.append(stemmer.stem(word))\n",
    "    return sentence_tokenized_clean\n",
    "\n",
    "  def find_matching(self, user_phrase, pairs):\n",
    "    answer = 'Nie wiem.'\n",
    "    intersection_len_prev = 0\n",
    "    for index, pair in enumerate(pairs):\n",
    "      user_speaks = set(self.split_and_clean(user_phrase.lower()))\n",
    "      matching = set(self.split_and_clean(pair[0]))\n",
    "      intersection_len = len(set.intersection(user_speaks, matching))\n",
    "      if intersection_len > intersection_len_prev:\n",
    "        answer = pairs[index][1]\n",
    "        print(f'\\tuser speaks: {user_speaks}')\n",
    "        print(f'\\tmatching: {matching}')\n",
    "    return answer\n",
    "\n",
    "  def run(self):\n",
    "    pairs = self.create_dialog_tuples()\n",
    "    user_phrase = input(\"ty: \")\n",
    "    while True:\n",
    "      if not user_phrase:\n",
    "        print('END')\n",
    "        break\n",
    "      else:\n",
    "        answer = self.find_matching(user_phrase, pairs)\n",
    "        print(f'chatbot: {answer}')\n",
    "      user_phrase = input(\"ty: \")\n",
    "\n",
    "chatbot = Chatbot('dialogs.csv')\n",
    "chatbot.run()        "
   ]
  }
 ],
 "metadata": {
  "colab": {
   "collapsed_sections": [],
   "include_colab_link": true,
   "name": "python_dla_humanistow.ipynb",
   "provenance": [],
   "toc_visible": true
  },
  "kernelspec": {
   "display_name": "Python 3 (ipykernel)",
   "language": "python",
   "name": "python3"
  },
  "language_info": {
   "codemirror_mode": {
    "name": "ipython",
    "version": 3
   },
   "file_extension": ".py",
   "mimetype": "text/x-python",
   "name": "python",
   "nbconvert_exporter": "python",
   "pygments_lexer": "ipython3",
   "version": "3.8.13"
  }
 },
 "nbformat": 4,
 "nbformat_minor": 1
}
