{
 "cells": [
  {
   "cell_type": "markdown",
   "metadata": {
    "colab_type": "text",
    "id": "view-in-github"
   },
   "source": [
    "<a href=\"https://colab.research.google.com/github/trypuz/ai_dla_kazdego/blob/main/data_science_dla_kazdego/numpy.ipynb\" target=\"_parent\"><img src=\"https://colab.research.google.com/assets/colab-badge.svg\" alt=\"Open In Colab\"/></a>"
   ]
  },
  {
   "cell_type": "markdown",
   "metadata": {
    "id": "7UtC6hO1KFsw"
   },
   "source": [
    "# NumPy czyli numeryczny Python"
   ]
  },
  {
   "cell_type": "markdown",
   "metadata": {
    "id": "l-8CDXxOO7a7"
   },
   "source": [
    "NumPy to skrót od angielskiego wyrażenia *numerical Python*. Biblioteka NumPy jest niezbędna wszędzie tam, gdzie musimy przetwarzać dużą ilość danych numerycznych. \n",
    "\n",
    "Z zasady Python to język interpretowany, w związku z czym narzut czasowy potrzebny na przeprowadzenie dużej ilości obliczeń może być znaczny. NumPy to biblioteka stworzona z myślą o rozwiązaniu tego problemu. Udostępnia ona interfejs programistyczny (ang. *API*) w Pythonie, ale najbardziej krytyczne pod względem szybkości działania fragmenty kodu NumPy zostały zaimplementowane w kompilowanym języku C. Dzięki takiemu rozwiązaniu mamy dostęp do wysokopoziomowego i przyjaznego API bez straty wydajnościowej.\n",
    "\n",
    "W Pythonie podstawowym sposobem na przechowywanie kilku wartości w jednym obiekcie jest użycie listy. Lista może zawierać dowolną liczbę obiektów, a typy poszczególnych obiektów w ramach jednej listy mogą być różne. Definicja listy w Pythonie wygląda w następujący sposób:\n",
    "\n"
   ]
  },
  {
   "cell_type": "code",
   "execution_count": null,
   "metadata": {
    "colab": {
     "base_uri": "https://localhost:8080/"
    },
    "id": "r2zT3xVgZs8k",
    "outputId": "856d0f6a-cec1-49a5-8794-c8c27dda4cb2"
   },
   "outputs": [
    {
     "name": "stdout",
     "output_type": "stream",
     "text": [
      "Zawartość listy: [1, 2, 'test', True, 5.0]\n",
      "Typ: <class 'list'>\n"
     ]
    }
   ],
   "source": [
    "some_list = [1, 2, 'test', True, 5.0]\n",
    "print(f\"Zawartość listy: {some_list}\")\n",
    "print(f\"Typ: {type(some_list)}\")"
   ]
  },
  {
   "cell_type": "markdown",
   "metadata": {
    "id": "22uzbjdKZtqC"
   },
   "source": [
    "Jednak pomimo tego, że listy nadają się do przechowywania danych, to mają poważne ograniczenia jeśli chodzi o wydajność przetwarzania tych danych, np. wykonywania na nich operacji matematycznych. W NumPy odpowiednikiem listy jest tablica (ang. *array*), a konkretniej klasa `ndarray` zdefiniowana w module `numpy` (importowanym zwyczajowo jako `np`). Istnieje kilka różnic między tablicami w NumPy a listami w Pythonie, które sprawiają, że tablice w NumPy są praktycznie zawsze lepszym wyborem jeśli chodzi o obliczenia w Pythonie:\n",
    "- Podstawową różnicą jest szybkość działania. Do przeprowadzania obliczeń NumPy wykorzystuje funkcje uniwersalne (ang. *universal functions*, w skrócie *ufuncs*), które udostępniają przystępne API w Pythonie i wydajną implementację w języku C.\n",
    "- Tablice NumPy zajmują mniej miejsca w pamięci komputera.\n",
    "\n",
    "Obiekty `ndarray` mają również swoje ograniczenia, które są ich zaletą, przyczynając się do wzrostu wydajności: \n",
    "- obiekty przechowywane w jednej tablicy NumPy muszą być tego samego typu\n",
    "- brak możliwości zmiany wielkości obiektu po jego utworzeniu.\n",
    "\n",
    "\n",
    "NumPy pozwala również na stosowanie obliczeń bez konieczności wieloktronego używanie pętli for (iteracji), co istotnie przyspiesza obliczenia.\n",
    "\n",
    "Warto również podkreślić, że wiele bibliotek z obszaru AI, w szczególności uczenia maszynowego i data science wymaga NumPy."
   ]
  },
  {
   "cell_type": "markdown",
   "metadata": {
    "id": "O9J81PajP0p8"
   },
   "source": [
    "## Instalacja\n",
    "Jeżeli chodzi o instalację NumPy, to w większości przypadków wystarczy wykonanie jednej z dwóch następujących komend:\n",
    "\n",
    "```\n",
    "pip install numpy\n",
    "```\n",
    "\n",
    "lub:\n",
    "\n",
    "```\n",
    "conda install numpy\n",
    "```\n",
    "\n",
    "zależnie z którego narzędzia wolimy korzystać. W notatnikach Jupytera pierwsza z komend będzie poprzedzona wykrzyknikiem: `!pip install numpy`. W środowisku Colab nie na w ogóle potrzeby instalowania NumPy. \n",
    "\n",
    "Import NumPy jest równie prosty i zazwyczaj ogranicza się do dodania następującej linii na początku:"
   ]
  },
  {
   "cell_type": "code",
   "execution_count": 1,
   "metadata": {
    "id": "83mOK3ceaDmB"
   },
   "outputs": [],
   "source": [
    "import numpy as np"
   ]
  },
  {
   "cell_type": "markdown",
   "metadata": {
    "id": "KO7Uz2f6KJkm"
   },
   "source": [
    "Po więcej informacji odsyłamy do [dokumentacji](https://numpy.org/install/). "
   ]
  },
  {
   "cell_type": "markdown",
   "metadata": {
    "id": "Sz4tEXKDRrAg"
   },
   "source": [
    "## Wektory, macierze i tensory\n"
   ]
  },
  {
   "cell_type": "markdown",
   "metadata": {
    "id": "MKSmIwFRQhfN"
   },
   "source": [
    "Od razu na samym początku zaznaczymy, że będziemy zamiennie używać nazw ,,tablica'', „wielowymiarowa tablica” oraz „tensor”. \n",
    "\n",
    "Tablice możemy utworzyć z istniejącej listy za pomocą metody `np.array()`. Zaczniemy od prostej listy i utworzymy z niej jednowymiarową tablicę.\n"
   ]
  },
  {
   "cell_type": "code",
   "execution_count": null,
   "metadata": {
    "colab": {
     "base_uri": "https://localhost:8080/"
    },
    "id": "ApY_qpM1KXz-",
    "outputId": "63b73953-f659-4d17-97de-72aabe07f9ea"
   },
   "outputs": [
    {
     "data": {
      "text/plain": [
       "array([ 35, 180,  75])"
      ]
     },
     "execution_count": 4,
     "metadata": {},
     "output_type": "execute_result"
    }
   ],
   "source": [
    "number_list = [35, 180, 75]\n",
    "arr_1d = np.array(number_list)\n",
    "arr_1d"
   ]
  },
  {
   "cell_type": "markdown",
   "metadata": {
    "id": "MacZpSrkQ5AB"
   },
   "source": [
    "Każdy tensor ma trzy główne atrybuty: `ndim` (liczba osi), `shape` (kształt) oraz `dtype` (typ danych). Zobaczmy jakie wartości otrzymamy dla tensora  `arr_1d`:"
   ]
  },
  {
   "cell_type": "code",
   "execution_count": null,
   "metadata": {
    "colab": {
     "base_uri": "https://localhost:8080/"
    },
    "id": "tpt-bQ3TQ7GF",
    "outputId": "6d5477fd-f534-452e-ba98-ca1724dfeb75"
   },
   "outputs": [
    {
     "name": "stdout",
     "output_type": "stream",
     "text": [
      "ndim = 1\n",
      "shape = (3,)\n",
      "dtype = int64\n"
     ]
    }
   ],
   "source": [
    "print(f'ndim = {arr_1d.ndim}')\n",
    "print(f'shape = {arr_1d.shape}')\n",
    "print(f'dtype = {arr_1d.dtype}')"
   ]
  },
  {
   "cell_type": "markdown",
   "metadata": {
    "id": "jfgilM9mRKsT"
   },
   "source": [
    "- Atrybut `ndim` określa ile osi ma tensor. Często wartość `ndim` nazywamy **rangą tensora**. Tablica arr_1d ma jedną oś i dlatego możemy nazwać ją **wektorem**. \n",
    "\n",
    "- Atrybut  `shape` określa **wymiar tensora** dla każdej jego osi. Wartość `(3, )` atrybutu `shape` dla tensora  `arr_1d` oznacza, że jego jedyna oś ma trzy wymiary. *Wymiary można interpretować jako typy cech przypisanych do jakiegoś obiektu*. Na przykład kolejne pozycje wektora `arr_1d` można interpretować jako wiek (35), wzrost (180) oraz masę ciała (75).\n",
    "\n",
    "- Atrybut `dtype` określa **typ danych** umieszczonych w tensorze. Wartość `int64` oznacza, że dane w tablicy `arr_1d` są liczbami całkowitymi z przedziału od $-2^{63}$ do $2^{63 - 1}$. NumPy dostarcza wielu typów danych, o których powiemy nieco więcej w dalszej części pracy.\n",
    "\n",
    "Tensory mają jeszcze trzy dodatkowe atrybuty `size`, `itemsize` oraz `nbytes`. Wszystkie atrybuty z krótkim wyjaśnieniem zbiera tabela poniżej:\n",
    "\n",
    "| Nazwa atrybutu | Opis |\n",
    "| --- | --- |\n",
    "| `ndim`     | Liczba osi tensora (ranga) |\n",
    "| `shape`    | Wymiary poszczególnych osi tensora |\n",
    "| `dtype`    | Typ danych tensora |\n",
    "| `size`     | Rozmiar tensora, czyli liczba elementów znajdujących się w niej |\n",
    "| `itemsize` | Rozmiar pojedynczego elementu tensora w bajtach | \n",
    "| `nbytes`   | Rozmiar całego tensora w bajtach |\n",
    "\n",
    "Uwaga! Wektory nazywane są niekiedy „jednowymiarowymi tensorami”. Ta „jednowymiarowość” odnosi się wyłącznie do liczby osi tensora (a nie do wymiarów tych osi).\n",
    "\n",
    "Tensory posiadające dwie osie nazywamy **macierzami** (ang. *matrix*) lub dwuwymiarowymi tensorami."
   ]
  },
  {
   "cell_type": "code",
   "execution_count": null,
   "metadata": {
    "colab": {
     "base_uri": "https://localhost:8080/"
    },
    "id": "v18JreuqKaX-",
    "outputId": "ec3b54c7-e43e-4a2f-f168-af2a8c955002"
   },
   "outputs": [
    {
     "data": {
      "text/plain": [
       "array([[ 35, 180,  75],\n",
       "       [ 22, 167,  50]])"
      ]
     },
     "execution_count": 6,
     "metadata": {},
     "output_type": "execute_result"
    }
   ],
   "source": [
    "number_list_2d = [[35, 180, 75],[22,167,50]]\n",
    "arr_2d = np.array(number_list_2d)\n",
    "arr_2d"
   ]
  },
  {
   "cell_type": "code",
   "execution_count": null,
   "metadata": {
    "colab": {
     "base_uri": "https://localhost:8080/"
    },
    "id": "aSCeisfwTL-l",
    "outputId": "2fa28d76-4bb2-4fef-e765-431c34af2f1c"
   },
   "outputs": [
    {
     "name": "stdout",
     "output_type": "stream",
     "text": [
      "ndim = 2\n",
      "shape = (2, 3)\n",
      "dtype = int64\n"
     ]
    }
   ],
   "source": [
    "print(f'ndim = {arr_2d.ndim}')\n",
    "print(f'shape = {arr_2d.shape}')\n",
    "print(f'dtype = {arr_2d.dtype}')"
   ]
  },
  {
   "cell_type": "markdown",
   "metadata": {
    "id": "sCAM-W_tSHna"
   },
   "source": [
    "Macierze korespondują z tabelami. Można więc mówić, że mają wiersze i kolumny (jak na przykład tabele arkuszów kalkulacyjnych). \n",
    "\n",
    "Macierz `arr_2d` ma kształt `(2, 3)`. Można więc powiedzieć, że ma dwa wiersze i trzy kolumny. Jeśli spojrzymy na wiersze macierzy jako na wektory, to będziemy mogli powiedzieć również o macierzy `arr_2d`, że składa się z dwóch trójwymiarowych wektorów. Innymi słowy, jeśli wektory tego samego kształtu umieści się w jednej tablicy, to otrzymamy macierz."
   ]
  },
  {
   "cell_type": "markdown",
   "metadata": {
    "id": "5eBgdzLuWDQv"
   },
   "source": [
    "Przykładami macierzy mogą być obrazki w skali szarości. \n",
    "Kształt każdego takiego obrazka należy interpretować jako `(wysokość, szerokość)`, a wartości takiej macierzy jako intensywność pikseli, która przyjmuje wartości od 0 do 255, gdzie 0 znaczy czarny, 255 biały, a każda wartość pomiędzy będzie pewną szarością. Na przykład:"
   ]
  },
  {
   "cell_type": "code",
   "execution_count": null,
   "metadata": {
    "id": "PV79fmkKgN3H"
   },
   "outputs": [],
   "source": [
    "window = [[  0,   0,   0,   0,   0,   0,   0],\n",
    "          [  0, 255, 200,   0, 200, 255,   0],\n",
    "          [  0, 255, 200,   0, 200, 255,   0],\n",
    "          [  0, 255, 200,   0, 200, 255,   0],\n",
    "          [  0,   0,   0,   0,   0,   0,   0]]\n",
    "\n",
    "window_a = np.array(window)          "
   ]
  },
  {
   "cell_type": "code",
   "execution_count": null,
   "metadata": {
    "colab": {
     "base_uri": "https://localhost:8080/"
    },
    "id": "Gv38oxxrhn-o",
    "outputId": "e9836c33-1b91-4ebe-8b32-f4e5af9b51cf"
   },
   "outputs": [
    {
     "name": "stdout",
     "output_type": "stream",
     "text": [
      "ndim = 2\n",
      "shape (wysokość, szerokość) = (5, 7)\n",
      "dtype = int64\n"
     ]
    }
   ],
   "source": [
    "print(f'ndim = {window_a.ndim}')\n",
    "print(f'shape (wysokość, szerokość) = {window_a.shape}')\n",
    "print(f'dtype = {window_a.dtype}')"
   ]
  },
  {
   "cell_type": "markdown",
   "metadata": {
    "id": "1En5lhUtXVGh"
   },
   "source": [
    "Używając pakietu Matplotlib do wizualizacji, możemy macierz `window_a` zamienić w obrazek:"
   ]
  },
  {
   "cell_type": "code",
   "execution_count": null,
   "metadata": {
    "colab": {
     "base_uri": "https://localhost:8080/",
     "height": 286
    },
    "id": "oCoZ72HcbDW2",
    "outputId": "276e51c6-490c-434a-acd1-8307cf1540f6"
   },
   "outputs": [
    {
     "data": {
      "image/png": "[encoded data removed]",
      "text/plain": [
       "<Figure size 432x288 with 1 Axes>"
      ]
     },
     "metadata": {
      "needs_background": "light"
     },
     "output_type": "display_data"
    }
   ],
   "source": [
    "from matplotlib import pyplot as plt\n",
    "plt.imshow(window_a, cmap='gray', vmin=0, vmax=255)\n",
    "plt.show()"
   ]
  },
  {
   "cell_type": "markdown",
   "metadata": {
    "id": "uI1fW29ASbZA"
   },
   "source": [
    "Jeśli umieścimy macierz w tablicy, to otrzymamy tensor trójwymiarowy. "
   ]
  },
  {
   "cell_type": "code",
   "execution_count": null,
   "metadata": {
    "colab": {
     "base_uri": "https://localhost:8080/"
    },
    "id": "A-RIONyScWrP",
    "outputId": "be7b7d89-18aa-4d3a-d384-56b74fe16a89"
   },
   "outputs": [
    {
     "data": {
      "text/plain": [
       "array([[[ 35, 180,  75],\n",
       "        [ 22, 167,  50]],\n",
       "\n",
       "       [[ 35, 180,  74],\n",
       "        [ 22, 167,  50]],\n",
       "\n",
       "       [[ 35, 180,  74],\n",
       "        [ 22, 167,  49]]])"
      ]
     },
     "execution_count": 35,
     "metadata": {},
     "output_type": "execute_result"
    }
   ],
   "source": [
    "number_list_3d = [[[35, 180, 75],[22,167,50]], \n",
    "                  [[35, 180, 74],[22,167,50]],\n",
    "                  [[35, 180, 74],[22,167,49]]]\n",
    "arr_3d = np.array(number_list_3d)\n",
    "arr_3d"
   ]
  },
  {
   "cell_type": "code",
   "execution_count": null,
   "metadata": {
    "colab": {
     "base_uri": "https://localhost:8080/"
    },
    "id": "GUXCmIIDcwdR",
    "outputId": "bc3b8919-c36d-4c46-b8b3-fb7886c11c78"
   },
   "outputs": [
    {
     "name": "stdout",
     "output_type": "stream",
     "text": [
      "ndim = 3\n",
      "shape = (3, 2, 3)\n",
      "dtype = int64\n"
     ]
    }
   ],
   "source": [
    "print(f'ndim = {arr_3d.ndim}')\n",
    "print(f'shape = {arr_3d.shape}')\n",
    "print(f'dtype = {arr_3d.dtype}')"
   ]
  },
  {
   "cell_type": "code",
   "execution_count": null,
   "metadata": {
    "colab": {
     "base_uri": "https://localhost:8080/",
     "height": 269
    },
    "id": "porAtquHXpQG",
    "outputId": "51692718-b7cf-449b-d8e1-b3b4ffb3b9a0"
   },
   "outputs": [
    {
     "data": {
      "image/png": "[encoded data removed]",
      "text/plain": [
       "<Figure size 432x288 with 1 Axes>"
      ]
     },
     "metadata": {
      "needs_background": "light"
     },
     "output_type": "display_data"
    }
   ],
   "source": [
    "fig = plt.figure()\n",
    "ax = fig.add_subplot(projection='3d')\n",
    "ax.voxels(arr_3d, edgecolors='black')\n",
    "plt.show()"
   ]
  },
  {
   "cell_type": "markdown",
   "metadata": {
    "id": "DbNx2mOocYBT"
   },
   "source": [
    "## Tworzenia tablic za pomocą funkcji NumPy"
   ]
  },
  {
   "cell_type": "markdown",
   "metadata": {
    "id": "featured-setup"
   },
   "source": [
    "\n",
    "NumPy udostępnia wiele sposobów tworzenia tablic, z których kilka najczęściej używanych omówimy w tej części. Poznaliśmy już funkcję `np.array`, tworzącą nową tablicę na podstawie listy. \n",
    "\n",
    "Funkcja `np.array` pozwala również na określenie typu przechowywanych w niej danych z użyciem parametru `dtype`."
   ]
  },
  {
   "cell_type": "code",
   "execution_count": null,
   "metadata": {
    "colab": {
     "base_uri": "https://localhost:8080/"
    },
    "id": "contemporary-nancy",
    "outputId": "a6fbf836-469e-46af-ce3f-6d44e32c54b4"
   },
   "outputs": [
    {
     "name": "stdout",
     "output_type": "stream",
     "text": [
      "Typ domyślny: int64\n",
      "Typ domyślny: float64\n",
      "Typ określony: float32\n"
     ]
    }
   ],
   "source": [
    "array1 = np.array([1, 2, 3, 4, 5])\n",
    "print(f\"Typ domyślny: {array1.dtype}\")\n",
    "\n",
    "array2 = np.array([1, 2, 3.0, 4, 5.0])\n",
    "print(f\"Typ domyślny: {array2.dtype}\")\n",
    "\n",
    "array3 = np.array([1, 2, 3.0, 4, 5.0], dtype='float32')\n",
    "print(f\"Typ określony: {array3.dtype}\")"
   ]
  },
  {
   "cell_type": "markdown",
   "metadata": {
    "id": "computational-audit"
   },
   "source": [
    "Jak widzimy, domyślnym typem danych dla tablicy, która składa się wyłącznie z liczb całkowitych, jest `int64`, a dla tablicy z liczbami zmiennoprzecinkowymi - `float64`. Liczba `64` reprezentuje liczbę bitów przeznaczonych na przechowanie poszczególnych wartości. `int64` to typ ze znakiem (ang. *signed*) dopuszczający zarówno liczby dodatnie, jak i ujemne. Jeżeli wiemy, że nasza tablica nie będzie zawierała liczb ujemnych, możemy użyc jednego z typów bez znaku, których nazwa zaczyna się od litery `u`, np. `uint64`. Typ możemy określać zarówno w formie napisu `'float64'`, jak i korzystając ze zdefiniowanej w NumPy stałej: `np.int64`.\n",
    "\n",
    "Poniższa tabela zawiera kilka wybranych typów danych zdefiniowanych w NumPy. Pełną listę typów można zneleźć w [dokumentacji](https://numpy.org/devdocs/user/basics.types.html)."
   ]
  },
  {
   "cell_type": "markdown",
   "metadata": {
    "id": "vocational-kitchen"
   },
   "source": [
    "| Typ       | Opis | Zakres |\n",
    "| --- | --- | --- |\n",
    "| `bool_`   | Typ logiczny | Przyjmuje wartość `True` lub `False` |\n",
    "| `int_`    | Domyślny typ dla liczb całkowitych; zazwyczaj `int64` lub `int32` | - |\n",
    "| `int8`    | Liczby całkowite 8-bitowa ze znakiem (tj. reprezentowana przez 8 bitów i mogąca przyjmować wartości ujemne) | Od -128 do 127 |\n",
    "| `int16`   | Liczba całkowita 16-bitowa ze znakiem | Od -32768 do 32767 |\n",
    "| `int32`   | Liczba całkowita 32-bitowa ze znakiem | Od -2147483648 do 2147483647 |\n",
    "| `int64`   | Liczba całkowita 64-bitowa ze znakiem | Od -9223372036854775808 do 9223372036854775807 |\n",
    "| `uint8`   | Liczba całkowita 8-bitowa bez znaku | Od 0 do 255 |\n",
    "| `float_`  | Domyślna liczba zmiennoprzecinkowa; alias dla `float64` | - |\n",
    "| `float32` | Liczba zmiennoprzecinkowa pojedynczej precyzji | 1 bit przeznaczony jest na znak, 8 bitów - wykładnik, 23 bity - mantysę |\n",
    "| `float64` | Liczba zmiennoprzecinkowa podwójnej precyzji (ang. *double precision* ) | 1 bit przeznaczony jest na znak, 11 bitów - wykładnik, 52 bity - mantysę |"
   ]
  },
  {
   "cell_type": "markdown",
   "metadata": {
    "id": "wooden-whole"
   },
   "source": [
    "Kolejną przydatną funkcją do tworzenia tablic jest `np.arange`, która pozwala na inicjalizowanie tablic kolejnymi liczbami naturalnymi z zadanego przedziału oraz ze wskazanym krokiem."
   ]
  },
  {
   "cell_type": "markdown",
   "metadata": {
    "id": "1AqIbd9bVHhS"
   },
   "source": [
    "Metoda `np.arange()` tworzy wektor z wartościami w sposób pokazany poniżej (zauważmy, że zachowuje się podanie do funkcji `range()`):"
   ]
  },
  {
   "cell_type": "code",
   "execution_count": null,
   "metadata": {
    "colab": {
     "base_uri": "https://localhost:8080/"
    },
    "id": "peaceful-extreme",
    "outputId": "040c3ca6-f92e-435f-ee9c-7bc00814287a"
   },
   "outputs": [
    {
     "name": "stdout",
     "output_type": "stream",
     "text": [
      "arange(10):       [0 1 2 3 4 5 6 7 8 9]\n",
      "arange(5, 10):    [5 6 7 8 9]\n",
      "arange(0, 10, 2): [0 2 4 6 8]\n"
     ]
    }
   ],
   "source": [
    "array1 = np.arange(10)\n",
    "print(f\"arange(10):       {array1}\")\n",
    "\n",
    "array2 = np.arange(5, 10)\n",
    "print(f\"arange(5, 10):    {array2}\")\n",
    "\n",
    "array3 = np.arange(0, 10, 2)\n",
    "print(f\"arange(0, 10, 2): {array3}\")"
   ]
  },
  {
   "cell_type": "code",
   "execution_count": null,
   "metadata": {
    "colab": {
     "base_uri": "https://localhost:8080/"
    },
    "id": "336QVQXDLmD1",
    "outputId": "dce183eb-3574-464e-93bf-9a4000772e49"
   },
   "outputs": [
    {
     "data": {
      "text/plain": [
       "array([1, 2, 3, 4, 5, 6])"
      ]
     },
     "execution_count": 43,
     "metadata": {},
     "output_type": "execute_result"
    }
   ],
   "source": [
    "np.arange(1,7)"
   ]
  },
  {
   "cell_type": "code",
   "execution_count": null,
   "metadata": {
    "colab": {
     "base_uri": "https://localhost:8080/"
    },
    "id": "IcLfi2ugLvkm",
    "outputId": "2838e91b-07b9-43fa-e204-ce0ac0d930f3"
   },
   "outputs": [
    {
     "data": {
      "text/plain": [
       "array([1, 3, 5])"
      ]
     },
     "execution_count": 44,
     "metadata": {},
     "output_type": "execute_result"
    }
   ],
   "source": [
    "np.arange(1,7,2)"
   ]
  },
  {
   "cell_type": "markdown",
   "metadata": {
    "id": "fantastic-electronics"
   },
   "source": [
    "Jeżeli podczas tworzenia tablicy nie wiemy, jakie znajdą się w niej wartości, możemy stworzyć nową tablicę wypełnioną zerami lub jedynkami, wykorzystując funkcje - odpowiednio - `np.zeros` lub `np.ones`. Funkcje te jako pierwszy argument przyjmą rozmiar tablicy. Możemy również określić typ danych tworzonych tablic."
   ]
  },
  {
   "cell_type": "code",
   "execution_count": null,
   "metadata": {
    "colab": {
     "base_uri": "https://localhost:8080/"
    },
    "id": "ziHEaxm_Lxqh",
    "outputId": "0f299e4b-223e-4a31-9264-66fca58aac19"
   },
   "outputs": [
    {
     "data": {
      "text/plain": [
       "array([0., 0., 0., 0., 0., 0.])"
      ]
     },
     "execution_count": 45,
     "metadata": {},
     "output_type": "execute_result"
    }
   ],
   "source": [
    "np.zeros(6)"
   ]
  },
  {
   "cell_type": "markdown",
   "metadata": {
    "id": "conservative-converter"
   },
   "source": [
    "Możemy również stworzyć tablicę wielowymiarową. Robimy to przez przekazanie krotki z wielkościami poszczególnych wymiarów. Pierwszy argument krotki definiuje liczbę wierszy, a drugi liczbę kolumn. "
   ]
  },
  {
   "cell_type": "code",
   "execution_count": null,
   "metadata": {
    "colab": {
     "base_uri": "https://localhost:8080/"
    },
    "id": "2fLzjlPUL6dP",
    "outputId": "36640776-aa66-4120-aa98-71f88a83d578"
   },
   "outputs": [
    {
     "data": {
      "text/plain": [
       "array([[0., 0., 0.],\n",
       "       [0., 0., 0.]])"
      ]
     },
     "execution_count": 51,
     "metadata": {},
     "output_type": "execute_result"
    }
   ],
   "source": [
    "np.zeros((2,3))"
   ]
  },
  {
   "cell_type": "code",
   "execution_count": null,
   "metadata": {
    "colab": {
     "base_uri": "https://localhost:8080/"
    },
    "id": "economic-sixth",
    "outputId": "e7f58cb2-0a50-4d8f-90bb-2571b10c02cc"
   },
   "outputs": [
    {
     "data": {
      "text/plain": [
       "array([[0, 0, 0],\n",
       "       [0, 0, 0]], dtype=int32)"
      ]
     },
     "execution_count": 52,
     "metadata": {},
     "output_type": "execute_result"
    }
   ],
   "source": [
    "np.zeros((2, 3), dtype=np.int32)"
   ]
  },
  {
   "cell_type": "code",
   "execution_count": null,
   "metadata": {
    "colab": {
     "base_uri": "https://localhost:8080/"
    },
    "id": "4cf_C7u4MLQL",
    "outputId": "bb78f0c8-9aa9-47e2-9341-b1563faa39da"
   },
   "outputs": [
    {
     "data": {
      "text/plain": [
       "array([[1., 1., 1.],\n",
       "       [1., 1., 1.]])"
      ]
     },
     "execution_count": 53,
     "metadata": {},
     "output_type": "execute_result"
    }
   ],
   "source": [
    "np.ones((2,3))"
   ]
  },
  {
   "cell_type": "markdown",
   "metadata": {
    "id": "eligible-bullet"
   },
   "source": [
    "\n",
    "Widzieliśmy już tablice jedno- i dwuwymiarowe, ale co gdy potrzebujemy więcej wymiarów? Okazuje się, że używając opisanego podejścia możemy definiować więcej wymiarów, co pokazujemy poniżej. Jednak ze względu na problematyczność prezentacji tablic z więcej niż dwoma wymiarami, w dalszych opisach ograniczamy się do tablic jedno- i dwuwymiarowych."
   ]
  },
  {
   "cell_type": "code",
   "execution_count": null,
   "metadata": {
    "colab": {
     "base_uri": "https://localhost:8080/"
    },
    "id": "romantic-female",
    "outputId": "7d490c1b-1579-43db-f576-512a97eae8eb"
   },
   "outputs": [
    {
     "name": "stdout",
     "output_type": "stream",
     "text": [
      "[[[0 0 0 0]\n",
      "  [0 0 0 0]\n",
      "  [0 0 0 0]]\n",
      "\n",
      " [[0 0 0 0]\n",
      "  [0 0 0 0]\n",
      "  [0 0 0 0]]]\n"
     ]
    }
   ],
   "source": [
    "zeros_2x3x4 = np.zeros((2, 3, 4), dtype=np.int32)\n",
    "print(zeros_2x3x4)"
   ]
  },
  {
   "cell_type": "markdown",
   "metadata": {
    "id": "blind-warning"
   },
   "source": [
    "Poznaliśmy już sposób na inicjalizowanie tablic zerami i jedynkami, ale co z inicjalizacją tablicy innymi wartościami? NumPy udostępnia funkcję `np.full`, która pozwala na inicjalizowanie tablicy dowolną wartością. Pierwszy argument tej funkcji odpowiada za definiowanie rozmiaru (-ów) tablicy, a drugi przyjmuje wartość, którą mają zostać zainicjalizowane wszystkie komórki tablicy."
   ]
  },
  {
   "cell_type": "code",
   "execution_count": null,
   "metadata": {
    "colab": {
     "base_uri": "https://localhost:8080/"
    },
    "id": "alternative-japanese",
    "outputId": "36557c63-c4a2-49b0-8249-29301373c528"
   },
   "outputs": [
    {
     "data": {
      "text/plain": [
       "array([[3.14, 3.14, 3.14],\n",
       "       [3.14, 3.14, 3.14]])"
      ]
     },
     "execution_count": 56,
     "metadata": {},
     "output_type": "execute_result"
    }
   ],
   "source": [
    "pi_array = np.full((2, 3), 3.14)\n",
    "pi_array"
   ]
  },
  {
   "cell_type": "markdown",
   "metadata": {
    "id": "67g-QG0beJsb"
   },
   "source": [
    "Tablicę można utworzyć również za pomocą funkcji `np.linspace()`. Zwraca ona tablicę z wartościami równomiernie rozłożonymi między zadanymi wartościami i wartością „kroku”."
   ]
  },
  {
   "cell_type": "code",
   "execution_count": null,
   "metadata": {
    "colab": {
     "base_uri": "https://localhost:8080/"
    },
    "id": "DnN0ahwyMR53",
    "outputId": "c5c5f7e0-44a1-4db7-cf1e-47102097c83f"
   },
   "outputs": [
    {
     "data": {
      "text/plain": [
       "array([1., 4., 7.])"
      ]
     },
     "execution_count": 57,
     "metadata": {},
     "output_type": "execute_result"
    }
   ],
   "source": [
    "np.linspace(1,7,3)"
   ]
  },
  {
   "cell_type": "markdown",
   "metadata": {
    "id": "R5URnw5te4Pd"
   },
   "source": [
    "Funkcja `np.eye()` Tworzy tablicę dwuwymiarową (macierz) jednostkową, gdzie na wejściu definiowany jest jej wymiar."
   ]
  },
  {
   "cell_type": "code",
   "execution_count": null,
   "metadata": {
    "colab": {
     "base_uri": "https://localhost:8080/"
    },
    "id": "RksInSxxMr7M",
    "outputId": "b3e5187e-fec1-4ff0-a942-e1d5b42b4954"
   },
   "outputs": [
    {
     "data": {
      "text/plain": [
       "array([[1., 0., 0.],\n",
       "       [0., 1., 0.],\n",
       "       [0., 0., 1.]])"
      ]
     },
     "execution_count": 58,
     "metadata": {},
     "output_type": "execute_result"
    }
   ],
   "source": [
    "np.eye(3)"
   ]
  },
  {
   "cell_type": "markdown",
   "metadata": {
    "id": "agalpoc-KP0e"
   },
   "source": [
    "Na koniec jeszcze dodajmy, że dowolną tablicę można zamienić w listę za pomocą metody `tolist()`:"
   ]
  },
  {
   "cell_type": "code",
   "execution_count": null,
   "metadata": {
    "colab": {
     "base_uri": "https://localhost:8080/"
    },
    "id": "o6-xv9_-KcOD",
    "outputId": "48a2c9e6-b06f-4071-c2e4-f96047fc9c92"
   },
   "outputs": [
    {
     "data": {
      "text/plain": [
       "[1, 2, 3, 4, 5, 6]"
      ]
     },
     "execution_count": 62,
     "metadata": {},
     "output_type": "execute_result"
    }
   ],
   "source": [
    "np.arange(1,7).tolist()"
   ]
  },
  {
   "cell_type": "markdown",
   "metadata": {
    "id": "7qR2AfDZQa90"
   },
   "source": [
    "Metoda `fill()` pozwala na zmianę wszystkich wartości tablicy na nową wartość będącą argumentem tej metody:"
   ]
  },
  {
   "cell_type": "code",
   "execution_count": null,
   "metadata": {
    "colab": {
     "base_uri": "https://localhost:8080/"
    },
    "id": "bQqVqfUJwwWk",
    "outputId": "e8ffd123-60b4-49ab-e7f8-9841b2e446ae"
   },
   "outputs": [
    {
     "name": "stdout",
     "output_type": "stream",
     "text": [
      "a_2d =\n",
      " [[5 3 2]\n",
      " [4 8 2]]\n",
      "a_2d.fill() =\n",
      " [[0 0 0]\n",
      " [0 0 0]]\n"
     ]
    }
   ],
   "source": [
    "a_2d = np.random.randint(0, 10, (2, 3))\n",
    "print(f'a_2d =\\n {a_2d}')\n",
    "a_2d.fill(0)\n",
    "print(f'a_2d.fill() =\\n {a_2d}')"
   ]
  },
  {
   "cell_type": "markdown",
   "metadata": {
    "id": "2rRkYC1tZ-FZ"
   },
   "source": [
    "### Random\n",
    "\n",
    "Tablicę można również utworzyć wypełniając ją losowymi wartościami."
   ]
  },
  {
   "cell_type": "markdown",
   "metadata": {
    "id": "HW3xU1MiWohK"
   },
   "source": [
    "`np.empty()` tworzy pustą (niezainicjalizowaną) tablicę o podanym rozmiarze. Wartości w poszczególnych komórkach są przypadkowe."
   ]
  },
  {
   "cell_type": "code",
   "execution_count": null,
   "metadata": {
    "colab": {
     "base_uri": "https://localhost:8080/"
    },
    "id": "rbn1IzlRZ7am",
    "outputId": "cc36c40e-133a-4a68-8116-cbdcb5b48a06"
   },
   "outputs": [
    {
     "data": {
      "text/plain": [
       "array([[0.  , 0.  ],\n",
       "       [4.85, 3.22]])"
      ]
     },
     "execution_count": 63,
     "metadata": {},
     "output_type": "execute_result"
    }
   ],
   "source": [
    "np.empty((2,2))"
   ]
  },
  {
   "cell_type": "markdown",
   "metadata": {
    "id": "pB0haorrtZZQ"
   },
   "source": [
    "Tablicę można również utworzyć za pomocą niskopoziomowego konstruktora `np.ndarray`, ale nie jest to zalecane."
   ]
  },
  {
   "cell_type": "code",
   "execution_count": null,
   "metadata": {
    "colab": {
     "base_uri": "https://localhost:8080/"
    },
    "id": "8fW9DDFJaTD2",
    "outputId": "1111a359-c923-47d1-fdeb-7904de2e0fb4"
   },
   "outputs": [
    {
     "data": {
      "text/plain": [
       "array([[0.  , 0.  ],\n",
       "       [4.85, 3.22]])"
      ]
     },
     "execution_count": 64,
     "metadata": {},
     "output_type": "execute_result"
    }
   ],
   "source": [
    "np.ndarray((2,2))"
   ]
  },
  {
   "cell_type": "markdown",
   "metadata": {
    "id": "brazilian-moscow"
   },
   "source": [
    "NumPy udostępnia możliwość inicjalizowania tablic wartościami wygenerowanymi (pseudo)losowo. \n",
    "\n",
    "Funkcja `np.random.random` zwraca tablicę wypełnioną liczbami zmiennoprzecinkowymi z zakresu `[0.0, 1.0)`. \n",
    "\n",
    "Z kolei funkcja `np.random.normal` generuje losowe wartości dane rozkładem normalnym (zwanym również rozkładem Gaussa) domyślnie ze środkiem w zerze oraz odchyleniem standardowym równym 1. Środek i odchylenie można zmienić przez przekazanie odpowiednich argumentów do funkcji. \n",
    "\n",
    "Ostatnią funkcją generującą tablice z wartościami losowymi jest funkcja `np.random.randinit`, która przyjmuje na wejściu dwie liczby określające początek i koniec zakresu losowo generowanych liczb całkowitych."
   ]
  },
  {
   "cell_type": "code",
   "execution_count": null,
   "metadata": {
    "colab": {
     "base_uri": "https://localhost:8080/"
    },
    "id": "sunset-likelihood",
    "outputId": "9463d23c-82fd-4c92-f475-0f79d5df02a0"
   },
   "outputs": [
    {
     "name": "stdout",
     "output_type": "stream",
     "text": [
      "random(5):\n",
      " [0.58679698 0.71975423 0.25849809 0.54620732 0.40730783]\n",
      "\n",
      "random((3, 3)):\n",
      " [[0.17698462 0.96963241 0.29701836]\n",
      " [0.28786882 0.11619332 0.18172704]\n",
      " [0.49428977 0.56576513 0.22183517]]\n",
      "\n",
      "normal(size=5):\n",
      " [ 0.42486954  1.47007746 -0.42901615 -1.07530851  2.10708683]\n",
      "\n",
      "normal(0, 5, (3,3)):\n",
      " [[-2.13940208  3.07213813  5.52190774]\n",
      " [ 0.15987302  5.91234128 -5.60384156]\n",
      " [-4.29003712 -2.63579344  5.56927592]]\n",
      "\n",
      "randint(0, 10):\n",
      " 9\n",
      "\n",
      "randint(0, 10, (3, 3)):\n",
      " [[6 5 6]\n",
      " [6 6 3]\n",
      " [8 2 1]]\n",
      "\n",
      "randint(0,50,10):\n",
      " [ 4 40 17  6 37 33 18 20 26 23]\n"
     ]
    }
   ],
   "source": [
    "array1 = np.random.random(5)\n",
    "print(f\"random(5):\\n {array1}\")\n",
    "\n",
    "array2 = np.random.random((3, 3))\n",
    "print(f\"\\nrandom((3, 3)):\\n {array2}\")\n",
    "\n",
    "array3 = np.random.normal(size=5)\n",
    "print(f\"\\nnormal(size=5):\\n {array3}\")\n",
    "\n",
    "array4 = np.random.normal(0, 5, (3, 3))\n",
    "print(f\"\\nnormal(0, 5, (3,3)):\\n {array4}\")\n",
    "\n",
    "array5 = np.random.randint(10)\n",
    "print(f\"\\nrandint(0, 10):\\n {array5}\")\n",
    "\n",
    "array6 = np.random.randint(0, 10, (3, 3))\n",
    "print(f\"\\nrandint(0, 10, (3, 3)):\\n {array6}\")\n",
    "\n",
    "array7 = np.random.randint(0,50,10)\n",
    "print(f\"\\nrandint(0,50,10):\\n {array7}\")"
   ]
  },
  {
   "cell_type": "markdown",
   "metadata": {
    "id": "-IDzp3MYu6tz"
   },
   "source": [
    "`np.random.seed` w połączeniu z funkcją generowania liczb losowych daje możliwość uzyskania tego samego wyniku wielokrotnie, o ile liczba będąca argumentem `np.random.seed` jest taka sama. Głównie używa się ją w materiałach edukacyjnych."
   ]
  },
  {
   "cell_type": "code",
   "execution_count": null,
   "metadata": {
    "colab": {
     "base_uri": "https://localhost:8080/"
    },
    "id": "fq3qDGPWU6X5",
    "outputId": "72e6b2de-ac1a-4d37-a110-de61a8790ba5"
   },
   "outputs": [
    {
     "data": {
      "text/plain": [
       "array([0.4359949 , 0.02592623, 0.54966248, 0.43532239, 0.4203678 ,\n",
       "       0.33033482, 0.20464863])"
      ]
     },
     "execution_count": 80,
     "metadata": {},
     "output_type": "execute_result"
    }
   ],
   "source": [
    "np.random.seed(2)\n",
    "np.random.random(7)"
   ]
  },
  {
   "cell_type": "markdown",
   "metadata": {
    "id": "SyN6ayWZuAzC"
   },
   "source": [
    "## Zapisywanie i wczytywanie tablic\n",
    "\n"
   ]
  },
  {
   "cell_type": "markdown",
   "metadata": {
    "id": "WX6JHwCszxff"
   },
   "source": [
    "`np.save` zapisuje tablicę do bliku binernego w formacie `.npy`, a `np.savetxt` zapisuje tablice do pliku tekstowego `.gz`.\n",
    "\n",
    "`np.savez` zapisuje kilka tablic do skompresowanego folderu o rozszerzeniu `.npz`."
   ]
  },
  {
   "cell_type": "code",
   "execution_count": null,
   "metadata": {
    "id": "fhpymloybNVg"
   },
   "outputs": [],
   "source": [
    "np.save(\"my_array\", a)"
   ]
  },
  {
   "cell_type": "code",
   "execution_count": null,
   "metadata": {
    "id": "tkYiqb4TcPvr"
   },
   "outputs": [],
   "source": [
    "np.savetxt(\"my_array.csv\", a, delimiter=',')"
   ]
  },
  {
   "cell_type": "code",
   "execution_count": null,
   "metadata": {
    "id": "XbdJo5I2b3yF"
   },
   "outputs": [],
   "source": [
    "np.savez(\"my_arrays\", a, b)"
   ]
  },
  {
   "cell_type": "markdown",
   "metadata": {
    "id": "M7B9m-Y31K4g"
   },
   "source": [
    "Zapisane wcześniej tablice można wczytać za pomocą funkcji `np.load` oraz `np.loadtxt`."
   ]
  },
  {
   "cell_type": "code",
   "execution_count": null,
   "metadata": {
    "colab": {
     "base_uri": "https://localhost:8080/"
    },
    "id": "BSOCFV5qcCDH",
    "outputId": "db5fce38-6747-4ef2-da95-89a3d15c0586"
   },
   "outputs": [
    {
     "data": {
      "text/plain": [
       "array([0, 1, 2, 3, 4])"
      ]
     },
     "execution_count": 12,
     "metadata": {},
     "output_type": "execute_result"
    }
   ],
   "source": [
    "c = np.load(\"my_array.npy\")\n",
    "c"
   ]
  },
  {
   "cell_type": "code",
   "execution_count": null,
   "metadata": {
    "colab": {
     "base_uri": "https://localhost:8080/"
    },
    "id": "zRfawCfUc0X8",
    "outputId": "4b2395a6-5313-4004-fc3c-1a8b6a32f77e"
   },
   "outputs": [
    {
     "data": {
      "text/plain": [
       "array([0., 1., 2., 3., 4.])"
      ]
     },
     "execution_count": 15,
     "metadata": {},
     "output_type": "execute_result"
    }
   ],
   "source": [
    "c = np.loadtxt(\"my_array.csv\", delimiter=',')\n",
    "c"
   ]
  },
  {
   "cell_type": "markdown",
   "metadata": {
    "id": "8nScMHQ8qd0R"
   },
   "source": [
    "## Praca z elementami tablicy"
   ]
  },
  {
   "cell_type": "markdown",
   "metadata": {
    "id": "limited-canal"
   },
   "source": [
    "### Pobieranie i zmiana elementów tablicy\n",
    "\n",
    "Poznaliśmy już różne sposoby tworzenia tablic oraz dowiedzieliśmy się, jak możemy sprawdzić właściwości tablicy. Teraz przejdziemy do opisania sposobów dostępu do elementów przechowywanych w tablicy.\n",
    "\n",
    "Zacznijmy od najprostszego przypadku, jakim jest dostęp do pojedynczego elementu wektora. Do tego celu używamy operatora dostępu (`[]`). \n",
    "\n",
    "Oto przykład pobrania pierwszego, piątego i ostatniego elementu z tablicy (identycznie jak w Pythonie, elementom są indeksowane zaczynając od 0):"
   ]
  },
  {
   "cell_type": "code",
   "execution_count": null,
   "metadata": {
    "colab": {
     "base_uri": "https://localhost:8080/"
    },
    "id": "fitting-outside",
    "outputId": "69c22923-2aa3-41f3-93b4-f957c181c34e"
   },
   "outputs": [
    {
     "name": "stdout",
     "output_type": "stream",
     "text": [
      "Pierwszy element (array[0]):  1\n",
      "Piąty element (array[4]):  5\n",
      "Ostatni element (array[-1]):  10\n",
      "When getting element out of bounds IndexError is raised.\n"
     ]
    }
   ],
   "source": [
    "array = np.arange(1, 11)\n",
    "print(f\"Pierwszy element (array[0]):  {array[0]}\")\n",
    "print(f\"Piąty element (array[4]):  {array[4]}\")\n",
    "print(f\"Ostatni element (array[-1]):  {array[-1]}\")\n",
    "\n",
    "try:\n",
    "    print(f\"Not existing element: {array[11]}\")\n",
    "except IndexError:\n",
    "    print(\"When getting element out of bounds IndexError is raised.\")"
   ]
  },
  {
   "cell_type": "markdown",
   "metadata": {
    "id": "expected-graham"
   },
   "source": [
    "Powyższy przykład pokazuje, że twórcy NumPy starali się by praca z tą biblioteką jak najbardziej przypominała pracę z listami. Dotyczy to wykorzystania tego samego operatora dostępu do elementów listy, ale również tego, że ostatni element tablicy, analogicznie jak w przyapdku list, pobierany jest za pomocą indeksu `-1`, a dostęp do przedostatniego elementu jest realizowany indeksem `-2` itd. Próba dostępu do elementu, który nie istnieje, kończy się komunikatem wyjątku `IndexError`.\n",
    "\n",
    "Wiemy już jak odnosić się do poszczególnych elementów wektora, ale co z macierzami? Twórcy NumPy zaimplementowali podejście zgodne z duchem Pythona, czyli użycie dwóch operatorów dostępu, przyjmujących następujący format: `array[M][N]`, gdzie `M` odnosi się do indeksu wiersza, a `N` do indeksu kolumny.  Alternatywnie, możemy również użyć notacji `[M, N]`. Dla lepszego zobrazowania tego tematu podajemy kilka przykładów:"
   ]
  },
  {
   "cell_type": "code",
   "execution_count": null,
   "metadata": {
    "colab": {
     "base_uri": "https://localhost:8080/"
    },
    "id": "owned-platform",
    "outputId": "7a8256d1-c516-46cd-8413-2858dd3f9ec0"
   },
   "outputs": [
    {
     "name": "stdout",
     "output_type": "stream",
     "text": [
      "Macierz array:\n",
      "[[0 8 2 1]\n",
      " [9 4 1 2]]\n",
      "array[0][0]:   0\n",
      "array[0, 0]:   0\n",
      "array[0][3]:   1\n",
      "array[-1][-2]: 1\n"
     ]
    }
   ],
   "source": [
    "array = np.random.randint(0, 10, (2, 4))\n",
    "print(f\"Macierz array:\\n{array}\")\n",
    "print(f\"array[0][0]:   {array[0][0]}\")\n",
    "print(f\"array[0, 0]:   {array[0, 0]}\")\n",
    "print(f\"array[0][3]:   {array[0][3]}\")\n",
    "print(f\"array[-1][-2]: {array[-1][-2]}\")"
   ]
  },
  {
   "cell_type": "markdown",
   "metadata": {
    "id": "reverse-annex"
   },
   "source": [
    "Przykładowo, dostęp do elementu znajdującego się w pierwszym wierszu (indeks: `0`) i czwartej kolumnie (indeks: `3`) realizowany jest za pomocą `array[0][3]`. Indeksy ujemne w tablicach dwuwymiarowych działają tak samo jak w tablicach jednowymiarowych. `array[-1][-2]` odnosi się do elementu znajdującego się w ostatnim wierszu i przedostatniej kolumnie."
   ]
  },
  {
   "cell_type": "markdown",
   "metadata": {
    "id": "appropriate-switch"
   },
   "source": [
    "Omówiliśmy dostęp do poszczególnych elementów tablicy, teraz przejdziemy do omówienia sposobów zmiany wartości elementów tablicy. I w tym przypadku nie będzie zaskoczenia, gdyż zmiana poszczególnych elementów tablicy odbywa się analogicznie do zmian elementów w listach Pythonowych. Poniżej pokazujemy kilka przykładów zmiany elementów dla wektora i macierzy."
   ]
  },
  {
   "cell_type": "code",
   "execution_count": null,
   "metadata": {
    "colab": {
     "base_uri": "https://localhost:8080/"
    },
    "id": "light-therapy",
    "outputId": "b542d92e-6d4c-4905-bede-4e5cb893df75"
   },
   "outputs": [
    {
     "name": "stdout",
     "output_type": "stream",
     "text": [
      "Wektor przed modyfikacją: [ 1  2  3  4  5  6  7  8  9 10]\n",
      "Wektor po modyfikacji: [101   2   3   4 105   6   7   8   9 110]\n",
      "\n",
      "Macierz przed modyfikacją:\n",
      "[[4 6 4]\n",
      " [4 0 0]\n",
      " [4 9 8]]\n",
      "Macierz po modyfikacji:\n",
      "[[201   6   4]\n",
      " [  4 105   0]\n",
      " [  4   9 110]]\n"
     ]
    }
   ],
   "source": [
    "array1 = np.arange(1, 11)\n",
    "print(f\"Wektor przed modyfikacją: {array1}\")\n",
    "array1[0] = 101\n",
    "array1[4] = 105\n",
    "array1[-1] = 110\n",
    "print(f\"Wektor po modyfikacji: {array1}\\n\")\n",
    "\n",
    "array2 = np.random.randint(0, 10, (3, 3))\n",
    "print(f\"Macierz przed modyfikacją:\\n{array2}\")\n",
    "array2[0][0] = 101\n",
    "array2[0, 0] = 201\n",
    "array2[1][1] = 105\n",
    "array2[-1][-1] = 110\n",
    "print(f\"Macierz po modyfikacji:\\n{array2}\")"
   ]
  },
  {
   "cell_type": "markdown",
   "metadata": {
    "id": "political-locking"
   },
   "source": [
    "### Podtablice i zmiana wymiarów tablic\n",
    "\n",
    "Podobnie jak w przypadku list, również w NumPy mamy możliwość odnoszenia się do wybranego fragmentu tablicy. W języku angielskim fragment tablicy określany jest mianem `array slice`. W języku polskim będziemy używali określenia podtablica. Podstawowa składnia do pobierania podtablic prezentuje się następująco: `array[start:end:step]`. `start` określa indeks początkowy, gdzie ma zaczynać się podtablica, `end` określa indeks końcowy, przed którym ma kończyć się podtablica, a `step` określa krok, co który zostanie pobrana wartość z tablicy. Możemy pominąć `step` (wraz z poprzedzającym go dwukropkiem) i wtedy przyjmuje on domyślnie wartość `1`, czyli pobieramy elementy jeden po drugim (co jeden). Możemy również pominąć `start` (zostawiając dwukropek za nim), co oznacza, że chcemy pobrać wartości od początku tablicy (czyli `array[:5]` jest równoznaczne z `array[0:5]`). Jeżeli z kolei pominiemy `end`, to pobierzemy wszystkie elementy do końca tablicy.\n",
    "\n",
    "Poniżej prezentujemy kilka przykładów dla tablic jednowymiarowych:"
   ]
  },
  {
   "cell_type": "code",
   "execution_count": null,
   "metadata": {
    "colab": {
     "base_uri": "https://localhost:8080/"
    },
    "id": "hazardous-massachusetts",
    "outputId": "fc84eec9-be1c-4bfd-8300-cf007d370315"
   },
   "outputs": [
    {
     "name": "stdout",
     "output_type": "stream",
     "text": [
      "Wektor:   [ 1  2  3  4  5  6  7  8  9 10]\n",
      "array[3:5]:    [4 5]\n",
      "array[0:5]:    [1 2 3 4 5]\n",
      "array[:5]:     [1 2 3 4 5]\n",
      "array[3:]:     [ 4  5  6  7  8  9 10]\n",
      "array[0:10:5]: [1 6]\n",
      "array[3:8:2]:  [4 6 8]\n",
      "array[::]:     [ 1  2  3  4  5  6  7  8  9 10]\n",
      "array[::-1]:   [10  9  8  7  6  5  4  3  2  1]\n"
     ]
    }
   ],
   "source": [
    "array = np.arange(1, 11)\n",
    "print(f\"Wektor:   {array}\")\n",
    "print(f\"array[3:5]:    {array[3:5]}\")\n",
    "print(f\"array[0:5]:    {array[0:5]}\")\n",
    "\n",
    "print(f\"array[:5]:     {array[:5]}\")\n",
    "print(f\"array[3:]:     {array[3:]}\")\n",
    "\n",
    "print(f\"array[0:10:5]: {array[0:10:5]}\")\n",
    "print(f\"array[3:8:2]:  {array[3:8:2]}\")\n",
    "\n",
    "print(f\"array[::]:     {array[::]}\")\n",
    "print(f\"array[::-1]:   {array[::-1]}\")"
   ]
  },
  {
   "cell_type": "markdown",
   "metadata": {
    "id": "desirable-textbook"
   },
   "source": [
    "Dodajmy kilka wyjaśnień do powyższych przykładów. Kod `array[::]`, podobnie jak jego odpowiednik w Pythonie, zwraca całą wejściową tablicę. Inaczej jednak niż w Pythonie, nie zwraca *kopii* tej tablicy, ale wyłącznie tworzy dla niej widok. Podkreślamy to jeszcze raz: mechanizm podtablic nie tworzy nowej tablicy, ani też nie kopiuje jej zawartości w inne miejsce w pamięci. Podtablice zwracają widok tablic, na podstawie których są tworzone. W związku z tym modyfikacja elementu podtablicy modyfikuje również tablicę wejściową. Oto przykłady prezentujący modyfikowanie podtablic:"
   ]
  },
  {
   "cell_type": "code",
   "execution_count": null,
   "metadata": {
    "colab": {
     "base_uri": "https://localhost:8080/"
    },
    "id": "liberal-gather",
    "outputId": "f106c4fa-07d2-41d2-8a36-5b6cac03f314"
   },
   "outputs": [
    {
     "name": "stdout",
     "output_type": "stream",
     "text": [
      "Wektor:         [1 2 3 4 5]\n",
      "Widok wektora:          [1 2 3 4 5]\n",
      "Widok po zmienie:  [101   2   3   4   5]\n",
      "Wektor:         [101   2   3   4   5]\n"
     ]
    }
   ],
   "source": [
    "array = np.arange(1, 6)\n",
    "print(f\"Wektor:         {array}\")\n",
    "view = array[::]\n",
    "print(f\"Widok wektora:          {view}\")\n",
    "view[0] = 101\n",
    "print(f\"Widok po zmienie:  {view}\")\n",
    "print(f\"Wektor:         {array}\")"
   ]
  },
  {
   "cell_type": "markdown",
   "metadata": {
    "id": "otherwise-membership"
   },
   "source": [
    "Podtablice wielowymiarowe tworzy się przez wskazanie podtablicy dla każdego z wymiarów w taki sam sposób, jak robiliśmy to dla tablic jednowymiarowych. Poniżej prezentujemy przykłady tworzenia podtablic dla tablicy dwuwymiarowej 3 na 4."
   ]
  },
  {
   "cell_type": "code",
   "execution_count": null,
   "metadata": {
    "colab": {
     "base_uri": "https://localhost:8080/"
    },
    "id": "unlike-bikini",
    "outputId": "4b05bd7b-15b0-451f-fc66-e073a5ebb361"
   },
   "outputs": [
    {
     "name": "stdout",
     "output_type": "stream",
     "text": [
      "Macierz array2d:\n",
      "[[ 1  2  3  4]\n",
      " [ 5  6  7  8]\n",
      " [ 9 10 11 12]]\n",
      "array2d[1:2, 0:3]:\n",
      "[[ 5  6]\n",
      " [ 9 10]]\n",
      "array2d[:, 2:]:\n",
      "[[ 3  4]\n",
      " [ 7  8]\n",
      " [11 12]]\n",
      "array2d[:, :]: \n",
      "[[ 1  2  3  4]\n",
      " [ 5  6  7  8]\n",
      " [ 9 10 11 12]]\n",
      "array2d[::-1, ::-1]: \n",
      "[[12 11 10  9]\n",
      " [ 8  7  6  5]\n",
      " [ 4  3  2  1]]\n",
      "array2d[1, :]:\n",
      "[5 6 7 8]\n",
      "array2d[:, 2]:\n",
      "[ 3  7 11]\n"
     ]
    }
   ],
   "source": [
    "array2d = np.arange(1, 13).reshape(3, 4)\n",
    "print(f\"Macierz array2d:\\n{array2d}\")\n",
    "print(f\"array2d[1:2, 0:3]:\\n{array2d[1:3, 0:2]}\")\n",
    "print(f\"array2d[:, 2:]:\\n{array2d[:, 2:]}\")\n",
    "print(f\"array2d[:, :]: \\n{array2d[:, :]}\")\n",
    "print(f\"array2d[::-1, ::-1]: \\n{array2d[::-1, ::-1]}\")\n",
    "print(f\"array2d[1, :]:\\n{array2d[1, :]}\")\n",
    "print(f\"array2d[:, 2]:\\n{array2d[:, 2]}\")"
   ]
  },
  {
   "cell_type": "markdown",
   "metadata": {
    "id": "public-bubble"
   },
   "source": [
    "Ostatnie dwa przykłady prezentują dostęp do pojedynczego wiersza i pojedynczej kolumny, co często okazuje się przydatne. \n",
    "\n",
    "Wyżej wspomnieliśmy, że podtablice nie tworzą nowych kopii tablic, na podstawie których są tworzone. Co jednak w sytuacji, gdy chcemy zmodyfikować podtablicę, ale bez modyfikacji tablicy źródłowej? W tym celu należy użyć funkcji `copy()`, która utworzy nową tablicę na podstawie widoku. Poniżej prezentujemy przykład"
   ]
  },
  {
   "cell_type": "code",
   "execution_count": null,
   "metadata": {
    "colab": {
     "base_uri": "https://localhost:8080/"
    },
    "id": "protected-experiment",
    "outputId": "88e554d5-8634-4e56-fbbf-91f86272e1fe"
   },
   "outputs": [
    {
     "name": "stdout",
     "output_type": "stream",
     "text": [
      "Wektor:  [ 1  2  3  4  5  6  7  8  9 10]\n",
      "Widok wektora:   [3 4 5 6 7]\n",
      "Kopia wektora: [3 4 5 6 7]\n",
      "Kopia wektora po zmianie:  [303   4   5   6   7]\n",
      "Wektor początkowy:   [ 1  2  3  4  5  6  7  8  9 10]\n",
      "Widok wektora początkowego:    [3 4 5 6 7]\n"
     ]
    }
   ],
   "source": [
    "array1 = np.arange(1, 11)\n",
    "print(f\"Wektor:  {array1}\")\n",
    "\n",
    "view = array1[2:7]\n",
    "print(f\"Widok wektora:   {view}\")\n",
    "\n",
    "copied = view.copy()\n",
    "print(f\"Kopia wektora: {copied}\")\n",
    "\n",
    "copied[0] = 303\n",
    "\n",
    "print(f\"Kopia wektora po zmianie:  {copied}\")\n",
    "print(f\"Wektor początkowy:   {array1}\")\n",
    "print(f\"Widok wektora początkowego:    {view}\")"
   ]
  },
  {
   "cell_type": "markdown",
   "metadata": {
    "id": "sweet-guest"
   },
   "source": [
    "### Zmiana wymiarów tablicy\n",
    "\n",
    "Funkcja `reshape` zmienia wymiar tablicy zgodnie z podanymi na wejściu wymiarami. Podane wymiary muszą się zgadzać z rozmiarem tablicy. Przykładowo jeżeli docelowe wymiary tablicy to 3 na 3, rozmiar tablicy wejściowej musi się równać 9. Poniżej pokazujemy przykłady użycia funkcji `reshape`:"
   ]
  },
  {
   "cell_type": "code",
   "execution_count": null,
   "metadata": {
    "colab": {
     "base_uri": "https://localhost:8080/"
    },
    "id": "north-traveler",
    "outputId": "bba33309-9f51-4d89-bf80-5b5da6ecaaf9"
   },
   "outputs": [
    {
     "name": "stdout",
     "output_type": "stream",
     "text": [
      "Wektor: [1 2 3 4 5 6 7 8 9]\n",
      "Macierz (3x3):\n",
      "[[1 2 3]\n",
      " [4 5 6]\n",
      " [7 8 9]]\n",
      "Macierz (1x9):\n",
      "[[1 2 3 4 5 6 7 8 9]]\n"
     ]
    }
   ],
   "source": [
    "array = np.arange(1, 10)\n",
    "print(f\"Wektor: {array}\")\n",
    "array2 = array.reshape((3, 3))\n",
    "print(f\"Macierz (3x3):\\n{array2}\")\n",
    "array3 = array2.reshape((1, 9))\n",
    "print(f\"Macierz (1x9):\\n{array3}\")"
   ]
  },
  {
   "cell_type": "markdown",
   "metadata": {
    "id": "capital-result"
   },
   "source": [
    "Istnieje również możliwość dodania nowej osi z wykorzystaniem `np.newaxis` oraz opisanej wyżej notacji dla podtablic. Poniżej zamieszczamy przykłady:"
   ]
  },
  {
   "cell_type": "code",
   "execution_count": null,
   "metadata": {
    "colab": {
     "base_uri": "https://localhost:8080/"
    },
    "id": "excessive-conversion",
    "outputId": "f71ddd30-5c06-46ea-8f84-f70af615395c"
   },
   "outputs": [
    {
     "name": "stdout",
     "output_type": "stream",
     "text": [
      "Macierz (1x9):\n",
      "[[1 2 3 4 5 6 7 8 9]]\n",
      "Macierz (9x1):\n",
      "[[1]\n",
      " [2]\n",
      " [3]\n",
      " [4]\n",
      " [5]\n",
      " [6]\n",
      " [7]\n",
      " [8]\n",
      " [9]]\n"
     ]
    }
   ],
   "source": [
    "array = np.arange(1, 10)\n",
    "array2 = array[np.newaxis, :]\n",
    "print(f\"Macierz (1x9):\\n{array2}\")\n",
    "array3 = array[:, np.newaxis]\n",
    "print(f\"Macierz (9x1):\\n{array3}\")"
   ]
  },
  {
   "cell_type": "markdown",
   "metadata": {
    "id": "VoegT1qZMFZV"
   },
   "source": [
    "Metoda `flatten` ,,spłaszcza'' wymiar tablicy do jednej osi. Domyślnie spaszczenie następuje wierszami (parametr `'C'`). Inną często używaną opcją jest `'F'` - czyli spłaszczenie w porządku kolumnowym. "
   ]
  },
  {
   "cell_type": "code",
   "execution_count": null,
   "metadata": {
    "colab": {
     "base_uri": "https://localhost:8080/"
    },
    "id": "7Monu2-Ys0g5",
    "outputId": "43118b8a-0a00-4024-fc2d-b29f527f876f"
   },
   "outputs": [
    {
     "name": "stdout",
     "output_type": "stream",
     "text": [
      "a_2d =\n",
      " [[[2 7 2 0]\n",
      "  [4 9 1 6]\n",
      "  [5 1 1 7]]\n",
      "\n",
      " [[4 3 2 2]\n",
      "  [7 2 2 1]\n",
      "  [9 8 7 5]]]\n",
      "a_2d.flatten() =\n",
      " [2 7 2 0 4 9 1 6 5 1 1 7 4 3 2 2 7 2 2 1 9 8 7 5]\n"
     ]
    }
   ],
   "source": [
    "a_3d = np.random.randint(0, 10, (2, 3, 4))\n",
    "print(f'a_3d =\\n {a_3d}')\n",
    "flatten = a_3d.flatten()\n",
    "print(f'a_3d.flatten() =\\n {flatten}')"
   ]
  },
  {
   "cell_type": "code",
   "execution_count": null,
   "metadata": {
    "colab": {
     "base_uri": "https://localhost:8080/"
    },
    "id": "jxpFxuUatviH",
    "outputId": "fe761bb8-c5fb-4cf9-b3a8-699ba7ded919"
   },
   "outputs": [
    {
     "data": {
      "text/plain": [
       "array([2, 4, 4, 7, 5, 9, 7, 3, 9, 2, 1, 8, 2, 2, 1, 2, 1, 7, 0, 2, 6, 1,\n",
       "       7, 5])"
      ]
     },
     "execution_count": 74,
     "metadata": {},
     "output_type": "execute_result"
    }
   ],
   "source": [
    "a_3d.flatten('F')"
   ]
  },
  {
   "cell_type": "markdown",
   "metadata": {
    "id": "H008-yA2OPs5"
   },
   "source": [
    "`np.squeeze()` usuwa z tablicy osie o rozmiarze 1."
   ]
  },
  {
   "cell_type": "code",
   "execution_count": null,
   "metadata": {
    "colab": {
     "base_uri": "https://localhost:8080/"
    },
    "id": "OjtQLKuiuqLr",
    "outputId": "bb9306b5-41d9-43ba-daa0-d9912a9354dc"
   },
   "outputs": [
    {
     "data": {
      "text/plain": [
       "array([[1],\n",
       "       [2],\n",
       "       [3]])"
      ]
     },
     "execution_count": 76,
     "metadata": {},
     "output_type": "execute_result"
    }
   ],
   "source": [
    "b = np.array([[1], [2], [3]])\n",
    "b"
   ]
  },
  {
   "cell_type": "code",
   "execution_count": null,
   "metadata": {
    "colab": {
     "base_uri": "https://localhost:8080/"
    },
    "id": "I-5F4B2puC24",
    "outputId": "e8225b1c-e599-42e8-b6d0-bcbf0cc165c2"
   },
   "outputs": [
    {
     "data": {
      "text/plain": [
       "array([1, 2, 3])"
      ]
     },
     "execution_count": 98,
     "metadata": {},
     "output_type": "execute_result"
    }
   ],
   "source": [
    "np.squeeze(b)"
   ]
  },
  {
   "cell_type": "markdown",
   "metadata": {
    "id": "wicked-headquarters"
   },
   "source": [
    "### Konkatenacja tablic i ich dzielenie\n",
    "\n",
    "Powyżej opisaliśmy już prawie wszystkie podstawowe operacje na tablicach w NumPy. Pozostały nam do opisania sposoby łączenia i dzielenia tablic. Zacznijmy od operacji łączenia kilku tablic w jedną, którą nazywa się alternatywnie konkatenacją. \n",
    "\n",
    "W celu połączenia dwóch lub więcej tablic w jedną używamy funkcji `np.concatenate`. Dla tablic jednowymiarowych użycie tej funkcji jest bardzo proste:"
   ]
  },
  {
   "cell_type": "code",
   "execution_count": null,
   "metadata": {
    "colab": {
     "base_uri": "https://localhost:8080/"
    },
    "id": "acceptable-brass",
    "outputId": "fd84942d-8dc5-4e2a-cb28-24cf02654d5e"
   },
   "outputs": [
    {
     "name": "stdout",
     "output_type": "stream",
     "text": [
      "Tablice do połączenia: [1 2 3], [4 5 6], [7 8 9]\n",
      "Wynik połczenia tablic:  [1 2 3 4 5 6 7 8 9]\n"
     ]
    }
   ],
   "source": [
    "array1 = np.array([1, 2, 3])\n",
    "array2 = np.array([4, 5, 6])\n",
    "array3 = np.array([7, 8, 9])\n",
    "final_array = np.concatenate([array1, array2, array3])\n",
    "print(f\"Tablice do połączenia: {array1}, {array2}, {array3}\")\n",
    "print(f\"Wynik połczenia tablic:  {final_array}\")"
   ]
  },
  {
   "cell_type": "markdown",
   "metadata": {
    "id": "lightweight-scanning"
   },
   "source": [
    "W przypadku tablic dwuwymiarowych konkatenacja jest możliwa o tyle, o ile zgadza się liczba elementów wzdłuż osi tablicy względem której mają być ze sobą łączone. Łatwiej będzie to nam pokazać na przykładzie:"
   ]
  },
  {
   "cell_type": "code",
   "execution_count": null,
   "metadata": {
    "colab": {
     "base_uri": "https://localhost:8080/"
    },
    "id": "specific-collective",
    "outputId": "6953d06b-73b1-4d7c-e334-c4958f6c9b0b"
   },
   "outputs": [
    {
     "name": "stdout",
     "output_type": "stream",
     "text": [
      "Tablica po scaleniu:\n",
      "[[1 2 3]\n",
      " [4 5 6]\n",
      " [7 8 9]]\n"
     ]
    }
   ],
   "source": [
    "array1 = np.array([[1, 2, 3]])\n",
    "array2 = np.array(\n",
    "    [[4, 5, 6],\n",
    "     [7, 8, 9]]\n",
    ")\n",
    "final_array = np.concatenate([array1, array2], axis=0) # spróbuj axis=1\n",
    "print(f\"Tablica po scaleniu:\\n{final_array}\")"
   ]
  },
  {
   "cell_type": "markdown",
   "metadata": {
    "id": "streaming-bangladesh"
   },
   "source": [
    "Jak widać na powyższym przykładzie, gdy jako oś wzdłuż której ma dokonać się połączenie tablic wskażemy `0`, tablice zostaną połączone. Jednak jeżeli byśmy użyli indeksu `1`, zostanie zwrócony błąd. Innym sposobem na określenie osi wzdłuż której mają zostać połączone tablice jest użycie funkcji `np.vstack` oraz `np.hstack`, zaprezentowane poniżej."
   ]
  },
  {
   "cell_type": "code",
   "execution_count": null,
   "metadata": {
    "colab": {
     "base_uri": "https://localhost:8080/"
    },
    "id": "ceramic-malawi",
    "outputId": "04785376-5b47-4734-dba6-453582b31ec6"
   },
   "outputs": [
    {
     "name": "stdout",
     "output_type": "stream",
     "text": [
      "vstack array:\n",
      "[[1 2 3]\n",
      " [4 5 6]\n",
      " [7 8 9]]\n",
      "hstack array:\n",
      "[[1 2 3]\n",
      " [4 5 6]\n",
      " [7 8 9]]\n"
     ]
    }
   ],
   "source": [
    "array1 = np.array([1, 2, 3])\n",
    "array2 = np.array([\n",
    "    [4, 5, 6],\n",
    "    [7, 8, 9]\n",
    "])\n",
    "vstacked_array = np.vstack([array1, array2])\n",
    "print(f\"vstack array:\\n{vstacked_array}\")\n",
    "\n",
    "array1 = np.array([\n",
    "    [1, 2],\n",
    "    [4, 5],\n",
    "    [7, 8]\n",
    "])\n",
    "array2 = np.array([\n",
    "    [3],\n",
    "    [6],\n",
    "    [9]\n",
    "])\n",
    "hstacked_array = np.hstack([array1, array2])\n",
    "print(f\"hstack array:\\n{hstacked_array}\")"
   ]
  },
  {
   "cell_type": "markdown",
   "metadata": {
    "id": "living-cradle"
   },
   "source": [
    "## Podstawowe operacje arytmetyczne\n",
    "\n",
    "Omówiliśmy już podstawowe operacje z użyciem tablic w NumPy. Pora przejść do operacji arytmetycznych, gdzie biblioteka NumPy jest szczególnie przydatna. Zaczniemy od omówienia podstawowych operacji arytmetycznych, które zebraliśmy w poniższej tabeli. "
   ]
  },
  {
   "cell_type": "markdown",
   "metadata": {
    "id": "civic-sweet"
   },
   "source": [
    "| Operator | Funkcja w NumPy | Opis | Przykład użycia |\n",
    "| --- | --- | --- | --- |\n",
    "| `+`   | `np.add`          | Dodaje liczbę do elementów tablicy   | `array + 10` |\n",
    "| `-`   | `np.subtract`     | Odejmuje liczbę od elementów tablicy | `array - 10` |\n",
    "| `-`   | `np.negative`     | Zmienia znak elementów tablicy       | `-array`     |\n",
    "| `*`   | `np.multiply`     | Mnoży elementy tablicy przez liczbę  | `array * 10` |\n",
    "| `/`   | `np.divide`       | Dzieli elementy tablicy przez liczbę | `array / 10` |\n",
    "| `//`  | `np.floor_divide` | Dzieli bez reszty elementy tablicy przez liczbę | `array // 10` |\n",
    "| `**`  | `np.power`        | Potęguje elementy tablicy wskazaną liczbę razy  | `array ** 10` |\n",
    "| `%`   | `np.mod`          | Zwraca resztę z dzielenia elementów tablicy przez liczbę | `array % 10` |"
   ]
  },
  {
   "cell_type": "markdown",
   "metadata": {
    "id": "neither-nothing"
   },
   "source": [
    "Nie ma tutaj żadnych zaskoczeń, działanie wszystkich operatorów jest spójne z ich odpowiednikami w Pythonie. Poniżej prezentujemy wyniki działania wszystkich przedstawionych operacji arytmetycznych."
   ]
  },
  {
   "cell_type": "code",
   "execution_count": null,
   "metadata": {
    "colab": {
     "base_uri": "https://localhost:8080/"
    },
    "id": "heavy-retail",
    "outputId": "19633e21-22c4-44f2-a6e1-68665de43f99"
   },
   "outputs": [
    {
     "name": "stdout",
     "output_type": "stream",
     "text": [
      "Wektor:       [ 1  2  3  4  5  6  7  8  9 10]\n",
      "Wektor + 10:  [11 12 13 14 15 16 17 18 19 20]\n",
      "Wektor - 10:  [-9 -8 -7 -6 -5 -4 -3 -2 -1  0]\n",
      "-Wektor:      [ -1  -2  -3  -4  -5  -6  -7  -8  -9 -10]\n",
      "Wektor * 10:  [ 10  20  30  40  50  60  70  80  90 100]\n",
      "Wektor / 10:  [0.1 0.2 0.3 0.4 0.5 0.6 0.7 0.8 0.9 1. ]\n",
      "Wektor // 10: [0 0 0 0 0 0 0 0 0 1]\n",
      "Wektor ** 3:  [   1    8   27   64  125  216  343  512  729 1000]\n",
      "Wektor % 5:   [1 2 3 4 0 1 2 3 4 0]\n"
     ]
    }
   ],
   "source": [
    "array = np.arange(1, 11)\n",
    "print(f\"Wektor:       {array}\")\n",
    "print(f\"Wektor + 10:  {array + 10}\")\n",
    "print(f\"Wektor - 10:  {array - 10}\")\n",
    "print(f\"-Wektor:      {-array}\")\n",
    "print(f\"Wektor * 10:  {array * 10}\")\n",
    "print(f\"Wektor / 10:  {array / 10}\")\n",
    "print(f\"Wektor // 10: {array // 10}\")\n",
    "print(f\"Wektor ** 3:  {array ** 3}\")\n",
    "print(f\"Wektor % 5:   {array % 5}\")"
   ]
  },
  {
   "cell_type": "markdown",
   "metadata": {
    "id": "ceramic-worthy"
   },
   "source": [
    "Zwróćmy uwagę, że operatory arytmetyczne nie modyfikują tablicy wejściowej, lecz tworzą jej kopie. Dlatego w powyższym przykładzie możemy używać tej samej tablicy dla każdego z operatorów.\n",
    "\n",
    "Oprócz powyżej opisanych operacji arytmetycznych NumPy udostępnia jeszcze wiele innych operacji liczbowych na tablicach. Wśród nich można wymienić między innymi działania trygonometryczne, operacje potęgowania i pierwiastkowania, logarytmy, czy wartość bezwględna. Zainteresowanych czytelników odsyłamy do [dokumentacji](TODO)."
   ]
  },
  {
   "cell_type": "markdown",
   "metadata": {
    "id": "0cB73Ek4v7aP"
   },
   "source": [
    "Oto kilka dodatkowych przykładów."
   ]
  },
  {
   "cell_type": "code",
   "execution_count": null,
   "metadata": {
    "colab": {
     "base_uri": "https://localhost:8080/"
    },
    "id": "cWW6i3ZSjniX",
    "outputId": "97e0467f-fd58-4f72-d271-705c3c57dc21"
   },
   "outputs": [
    {
     "name": "stdout",
     "output_type": "stream",
     "text": [
      "Wektor a =\n",
      " [1 2 3]\n",
      "Macierz a_2d =\n",
      " [[4 5 6]\n",
      " [7 8 9]]\n"
     ]
    }
   ],
   "source": [
    "a = np.arange(1,4)\n",
    "a_2d = np.array([[4, 5, 6], [7, 8, 9]])\n",
    "print(f'Wektor a =\\n {a}')\n",
    "print(f'Macierz a_2d =\\n {a_2d}')"
   ]
  },
  {
   "cell_type": "code",
   "execution_count": null,
   "metadata": {
    "colab": {
     "base_uri": "https://localhost:8080/"
    },
    "id": "RavupVqktrpU",
    "outputId": "63af8dd4-5d54-405a-9c3d-94dea1ee3b31"
   },
   "outputs": [
    {
     "data": {
      "text/plain": [
       "array([1, 4, 9])"
      ]
     },
     "execution_count": 23,
     "metadata": {},
     "output_type": "execute_result"
    }
   ],
   "source": [
    "a * a"
   ]
  },
  {
   "cell_type": "code",
   "execution_count": null,
   "metadata": {
    "colab": {
     "base_uri": "https://localhost:8080/"
    },
    "id": "ggzAQkTtjszX",
    "outputId": "6f042a45-bb19-421c-d0fd-2faee0a4d4ee"
   },
   "outputs": [
    {
     "data": {
      "text/plain": [
       "array([[16, 25, 36],\n",
       "       [49, 64, 81]])"
      ]
     },
     "execution_count": 24,
     "metadata": {},
     "output_type": "execute_result"
    }
   ],
   "source": [
    "a_2d * a_2d"
   ]
  },
  {
   "cell_type": "code",
   "execution_count": null,
   "metadata": {
    "colab": {
     "base_uri": "https://localhost:8080/"
    },
    "id": "7Tj3AFNukBd1",
    "outputId": "db6c56b1-ce42-4a27-fa96-9a73da4056bd"
   },
   "outputs": [
    {
     "data": {
      "text/plain": [
       "array([[ 4, 10, 18],\n",
       "       [ 7, 16, 27]])"
      ]
     },
     "execution_count": 25,
     "metadata": {},
     "output_type": "execute_result"
    }
   ],
   "source": [
    "a_2d * a"
   ]
  },
  {
   "cell_type": "code",
   "execution_count": null,
   "metadata": {
    "colab": {
     "base_uri": "https://localhost:8080/"
    },
    "id": "uP7f4hxXt2-W",
    "outputId": "64c9d164-1de2-4a0f-8eae-670ae7ea63d6"
   },
   "outputs": [
    {
     "data": {
      "text/plain": [
       "array([2, 4, 6])"
      ]
     },
     "execution_count": 26,
     "metadata": {},
     "output_type": "execute_result"
    }
   ],
   "source": [
    "a + a"
   ]
  },
  {
   "cell_type": "code",
   "execution_count": null,
   "metadata": {
    "colab": {
     "base_uri": "https://localhost:8080/"
    },
    "id": "oUOfNfwxt4NL",
    "outputId": "bbeaba1d-2f5e-40b2-dc4e-f78a4b0ac3b9"
   },
   "outputs": [
    {
     "data": {
      "text/plain": [
       "array([0, 0, 0])"
      ]
     },
     "execution_count": 27,
     "metadata": {},
     "output_type": "execute_result"
    }
   ],
   "source": [
    "a - a"
   ]
  },
  {
   "cell_type": "code",
   "execution_count": null,
   "metadata": {
    "colab": {
     "base_uri": "https://localhost:8080/"
    },
    "id": "k1_kmItUt7so",
    "outputId": "4843472c-a07d-4c07-a3a4-3d530f92376a"
   },
   "outputs": [
    {
     "data": {
      "text/plain": [
       "array([1., 1., 1.])"
      ]
     },
     "execution_count": 28,
     "metadata": {},
     "output_type": "execute_result"
    }
   ],
   "source": [
    "a / a"
   ]
  },
  {
   "cell_type": "code",
   "execution_count": null,
   "metadata": {
    "colab": {
     "base_uri": "https://localhost:8080/"
    },
    "id": "OVVEuXh9uD5u",
    "outputId": "ed64d747-b839-4247-80f6-38609074b35c"
   },
   "outputs": [
    {
     "data": {
      "text/plain": [
       "array([1.        , 0.5       , 0.33333333])"
      ]
     },
     "execution_count": 29,
     "metadata": {},
     "output_type": "execute_result"
    }
   ],
   "source": [
    "1 / a"
   ]
  },
  {
   "cell_type": "code",
   "execution_count": null,
   "metadata": {
    "colab": {
     "base_uri": "https://localhost:8080/"
    },
    "id": "-uKtnpDIuJ5x",
    "outputId": "eb6752e6-10d1-4050-b948-c084077b48ac"
   },
   "outputs": [
    {
     "data": {
      "text/plain": [
       "array([2, 4, 6])"
      ]
     },
     "execution_count": 30,
     "metadata": {},
     "output_type": "execute_result"
    }
   ],
   "source": [
    "a * 2"
   ]
  },
  {
   "cell_type": "code",
   "execution_count": null,
   "metadata": {
    "colab": {
     "base_uri": "https://localhost:8080/"
    },
    "id": "D3pjUtzNuYx7",
    "outputId": "e7184c16-1719-4a33-ff85-7c3fa3cf5dd7"
   },
   "outputs": [
    {
     "data": {
      "text/plain": [
       "array([1, 4, 9])"
      ]
     },
     "execution_count": 31,
     "metadata": {},
     "output_type": "execute_result"
    }
   ],
   "source": [
    "a ** 2"
   ]
  },
  {
   "cell_type": "code",
   "execution_count": null,
   "metadata": {
    "colab": {
     "base_uri": "https://localhost:8080/"
    },
    "id": "0jWTjRSQu1uw",
    "outputId": "33305183-9712-46d0-ab24-695fd1d1e821"
   },
   "outputs": [
    {
     "data": {
      "text/plain": [
       "array([ 2.71828183,  7.3890561 , 20.08553692])"
      ]
     },
     "execution_count": 32,
     "metadata": {},
     "output_type": "execute_result"
    }
   ],
   "source": [
    "np.exp(a)"
   ]
  },
  {
   "cell_type": "code",
   "execution_count": null,
   "metadata": {
    "colab": {
     "base_uri": "https://localhost:8080/"
    },
    "id": "aDELLflluvBJ",
    "outputId": "cdefea0b-727d-4a65-de36-f8ce29a038fb"
   },
   "outputs": [
    {
     "data": {
      "text/plain": [
       "array([1.        , 1.41421356, 1.73205081])"
      ]
     },
     "execution_count": 33,
     "metadata": {},
     "output_type": "execute_result"
    }
   ],
   "source": [
    "np.sqrt(a)"
   ]
  },
  {
   "cell_type": "code",
   "execution_count": null,
   "metadata": {
    "colab": {
     "base_uri": "https://localhost:8080/"
    },
    "id": "6BblprHhvBiU",
    "outputId": "ac224edb-a6c3-4323-b0ca-ddd902ac37f6"
   },
   "outputs": [
    {
     "data": {
      "text/plain": [
       "array([0.84147098, 0.90929743, 0.14112001])"
      ]
     },
     "execution_count": 34,
     "metadata": {},
     "output_type": "execute_result"
    }
   ],
   "source": [
    "np.sin(a)"
   ]
  },
  {
   "cell_type": "code",
   "execution_count": null,
   "metadata": {
    "colab": {
     "base_uri": "https://localhost:8080/"
    },
    "id": "SCEnaoujvD_1",
    "outputId": "674294b0-644f-44fd-88ef-ac65208f0e63"
   },
   "outputs": [
    {
     "data": {
      "text/plain": [
       "array([ 0.54030231, -0.41614684, -0.9899925 ])"
      ]
     },
     "execution_count": 35,
     "metadata": {},
     "output_type": "execute_result"
    }
   ],
   "source": [
    "np.cos(a)"
   ]
  },
  {
   "cell_type": "code",
   "execution_count": null,
   "metadata": {
    "colab": {
     "base_uri": "https://localhost:8080/"
    },
    "id": "-v9b8xXWvQpN",
    "outputId": "512b8686-7eb1-4404-f4ff-a38d28b51511"
   },
   "outputs": [
    {
     "data": {
      "text/plain": [
       "array([0.        , 0.69314718, 1.09861229])"
      ]
     },
     "execution_count": 36,
     "metadata": {},
     "output_type": "execute_result"
    }
   ],
   "source": [
    "np.log(a)"
   ]
  },
  {
   "cell_type": "markdown",
   "metadata": {
    "id": "3mJKenWIdDOn"
   },
   "source": [
    "### Iloczyn tensorowy\n",
    "\n",
    "`np.dot` polega na przemnarzaniu wierszy `x` przez kolumny `y` i ich sumowaniu. Ważne więc, aby wymiar wiersza odpowiadał wymiarowi kolumny. \n",
    "\n",
    "Jeśli `x` i `y` są wektorami tego samego kształtu, to `np.dot(x, y)` przemnoży pierwszy element `x` przez pierwszy element `y`, drugi element `x` przez drugi element `y`, itd. i na koniec zsumuje te iloczyny. Wynikiem będzie więc wartość skalarna.\n",
    "\n"
   ]
  },
  {
   "cell_type": "code",
   "execution_count": null,
   "metadata": {
    "colab": {
     "base_uri": "https://localhost:8080/"
    },
    "id": "r_K4Sd34aoI5",
    "outputId": "119bd038-1011-49d3-da27-5f2c1f29dc39"
   },
   "outputs": [
    {
     "name": "stdout",
     "output_type": "stream",
     "text": [
      "x =\n",
      " [1 2]\n",
      "y =\n",
      " [3 4]\n",
      "np.dot(x,y) = 11\n"
     ]
    }
   ],
   "source": [
    "# wektory\n",
    "x = np.array([1,2])\n",
    "y = np.array([3,4])\n",
    "print(f'x =\\n {x}')\n",
    "print(f'y =\\n {y}')\n",
    "\n",
    "dot = np.dot(x,y)\n",
    "print(f'np.dot(x,y) = {dot}')"
   ]
  },
  {
   "cell_type": "markdown",
   "metadata": {
    "id": "BnhGRM3wiebc"
   },
   "source": [
    "Jeśli `x` i `y` są macierzami, to aby `np.dot(x, y)` był w ogóle możliwy wymagane jest `x.shape[1] = y.shape[0]`. Następnie `np.dot(x, y)` dla każdego wiersza `x`,  przemnoży pierwszy element tego wiersza przez pierwszy element pierwszej kolumny `y`, drugi element tego wiersza przez drugi element pierszej kolumny `y`, itd. i na koniec zsumuje te iloczyny; potem weźnie drugi wiersz `x` i postąpi tak samo, i tak do ostatniego wiersza. \n",
    "Wynikiem będzie macierz `(x.shape[0], y.shape[1])`."
   ]
  },
  {
   "cell_type": "code",
   "execution_count": null,
   "metadata": {
    "colab": {
     "base_uri": "https://localhost:8080/"
    },
    "id": "azi7MN0Piezb",
    "outputId": "702cd329-e144-48d2-b090-b853508f1916"
   },
   "outputs": [
    {
     "name": "stdout",
     "output_type": "stream",
     "text": [
      "x =\n",
      " [[1 2]\n",
      " [3 4]]\n",
      "y =\n",
      " [[ 5  6  7]\n",
      " [ 8  9 10]]\n",
      "x.shape =\n",
      " (2, 2)\n",
      "y.shape =\n",
      " (2, 3)\n",
      "np.dot(x,y) =\n",
      " [[21 24 27]\n",
      " [47 54 61]]\n",
      "x @ y =\n",
      " [[21 24 27]\n",
      " [47 54 61]]\n"
     ]
    }
   ],
   "source": [
    "# macierze\n",
    "x = np.array([[1,2],\n",
    "              [3,4]])\n",
    "y = np.array([[5,6,7],\n",
    "              [8,9,10]])\n",
    "print(f'x =\\n {x}')\n",
    "print(f'y =\\n {y}')\n",
    "print(f'x.shape =\\n {x.shape}')\n",
    "print(f'y.shape =\\n {y.shape}')\n",
    "\n",
    "dot = np.dot(x,y)\n",
    "print(f'np.dot(x,y) =\\n {dot}')\n",
    "print(f'x @ y =\\n {x @ y}')"
   ]
  },
  {
   "cell_type": "code",
   "execution_count": null,
   "metadata": {
    "colab": {
     "base_uri": "https://localhost:8080/"
    },
    "id": "spqZM3YxikmM",
    "outputId": "41de4f6e-e2a5-4e87-ba84-010a233067f3"
   },
   "outputs": [
    {
     "name": "stdout",
     "output_type": "stream",
     "text": [
      "x =\n",
      " [1 2]\n",
      "y =\n",
      " [[5 6]\n",
      " [7 8]]\n",
      "x.shape =\n",
      " (2,)\n",
      "y.shape =\n",
      " (2, 2)\n",
      "np.dot(x,y) = [19 22]\n"
     ]
    }
   ],
   "source": [
    "# wektor z macierzą\n",
    "x = np.array([1,2])\n",
    "y = np.array([[5,6],\n",
    "              [7,8]])\n",
    "print(f'x =\\n {x}')\n",
    "print(f'y =\\n {y}')\n",
    "print(f'x.shape =\\n {x.shape}')\n",
    "print(f'y.shape =\\n {y.shape}')\n",
    "\n",
    "dot = np.dot(x,y)\n",
    "print(f'np.dot(x,y) = {dot}')"
   ]
  },
  {
   "cell_type": "markdown",
   "metadata": {
    "id": "dangerous-photography"
   },
   "source": [
    "## Agregacje\n",
    "\n",
    "Agregacje to operacje, które pozwalają na uzyskanie podstawowych informacji statystycznych o pewnym zbiorze danych liczbowych. Wśród dostępnych operacji agregujących są między innymi: średnia arytmetyczna, mediana, odchylenie standardowe, wartość najmniejsza (min) i największa (max), czy suma. Zaczniemy od zaprezentowania kilku podstawowych funkcji agregujących, a później pokażemy ich wykorzystanie na podstawie bardziej realistycznego przykładu."
   ]
  },
  {
   "cell_type": "markdown",
   "metadata": {
    "id": "complimentary-criterion"
   },
   "source": [
    "Operacji sumowania wartości w tabeli dokonuje się za pomocą funkcji `np.sum`. Od razu zwróćmy uwagę na fakt, że ta funkcja jest różna od dostępnej w Pythonie funkcji `sum`, i pod względem wydajności wypada zdecydowanie lepiej. Poniższy przykład pokazuje sumowanie 1000 liczb w tablicy."
   ]
  },
  {
   "cell_type": "code",
   "execution_count": null,
   "metadata": {
    "colab": {
     "base_uri": "https://localhost:8080/"
    },
    "id": "certified-drove",
    "outputId": "0e1cc985-a344-4993-a579-407b8bcd086b"
   },
   "outputs": [
    {
     "name": "stdout",
     "output_type": "stream",
     "text": [
      "The slowest run took 301.55 times longer than the fastest. This could mean that an intermediate result is being cached.\n",
      "100000 loops, best of 5: 4.78 µs per loop\n"
     ]
    }
   ],
   "source": [
    "array = np.arange(1, 1001)\n",
    "\n",
    "%timeit np.sum(array)"
   ]
  },
  {
   "cell_type": "code",
   "execution_count": null,
   "metadata": {
    "colab": {
     "base_uri": "https://localhost:8080/"
    },
    "id": "frank-emphasis",
    "outputId": "cafcc862-941b-412e-e266-289dc2da666c"
   },
   "outputs": [
    {
     "name": "stdout",
     "output_type": "stream",
     "text": [
      "10000 loops, best of 5: 81 µs per loop\n"
     ]
    }
   ],
   "source": [
    "%timeit sum(array)"
   ]
  },
  {
   "cell_type": "markdown",
   "metadata": {
    "id": "measured-merit"
   },
   "source": [
    "Jak widać, różnica w szybkości wykonania między `np.sum` i `sum` jest znaczna. `np.sum` może być nawet 17 razy szybsza.\n",
    "\n",
    "NumPy udostępnia również `np.min` i `np.max`, które zwracają, odpowiednio, najmniejszą i największą wartość w tablicy. Działanie tych funkcji pokazujemy na prostym przykładzie."
   ]
  },
  {
   "cell_type": "code",
   "execution_count": null,
   "metadata": {
    "id": "promotional-collaboration",
    "outputId": "afc6cc51-2e52-409c-a393-89cfb800136e"
   },
   "outputs": [
    {
     "name": "stdout",
     "output_type": "stream",
     "text": [
      "Array: [ 1  2  3  4  5  6  7  8  9 10]\n",
      "Min: 1\n",
      "Max: 10\n"
     ]
    }
   ],
   "source": [
    "array = np.arange(1, 11)\n",
    "print(f\"Array: {array}\")\n",
    "print(f\"Min: {np.min(array)}\")\n",
    "print(f\"Max: {np.max(array)}\")"
   ]
  },
  {
   "cell_type": "markdown",
   "metadata": {
    "id": "hydraulic-neutral"
   },
   "source": [
    "W powyższym przykładzie użyliśmy tablicy jednowymiarowej. Dla tablic dwu- i więcej- wymiarowych domyślne działanie jest takie same, ale można również dokonywać agregacji tylko wzdłuż wybranej osi. Pokazujemy to na poniższym przykładzie."
   ]
  },
  {
   "cell_type": "code",
   "execution_count": null,
   "metadata": {
    "colab": {
     "base_uri": "https://localhost:8080/"
    },
    "id": "tamil-nightmare",
    "outputId": "9ced1961-5ecf-459d-949c-22891e9a26ef"
   },
   "outputs": [
    {
     "name": "stdout",
     "output_type": "stream",
     "text": [
      "Macierz:\n",
      "[[1 2 3]\n",
      " [4 5 6]\n",
      " [7 8 9]]\n",
      "Sum: 45\n",
      "Sum (axis=0): [12 15 18]\n",
      "Sum (axis=1): [ 6 15 24]\n"
     ]
    }
   ],
   "source": [
    "array = np.arange(1, 10).reshape(3, 3)\n",
    "print(f\"Macierz:\\n{array}\")\n",
    "print(f\"Sum: {np.sum(array)}\")\n",
    "print(f\"Sum (axis=0): {np.sum(array, axis=0)}\")\n",
    "print(f\"Sum (axis=1): {np.sum(array, axis=1)}\")"
   ]
  },
  {
   "cell_type": "markdown",
   "metadata": {
    "id": "hearing-running"
   },
   "source": [
    "Oprócz `np.sum`, `np.min` i `np.max`, NumPy udostępnia wiele innych operacji agregacji, które wraz z już omówionymi zostały opisane w poniższej tabeli. Część z nich zostanie pokazane w przykładzie poniżej."
   ]
  },
  {
   "cell_type": "markdown",
   "metadata": {
    "id": "bound-spokesman"
   },
   "source": [
    "| Nazwa funkcji | Opis |\n",
    "| --- | --- |\n",
    "| `np.sum`  | Oblicza sumę wszystkich elementów. |\n",
    "| `np.prod` | Oblicza iloraz wszystkich elementów. | \n",
    "| `np.mean` | Oblicza średnią arytmetyczną wszystkich elementów. |\n",
    "| `np.std`  | Oblicza odchylenie standardowe dla wszystkich elementów. |\n",
    "| `np.var`  | Oblicza wariancję dla wszystkich elementów. |\n",
    "| `np.min`  | Zwraca najmniejszą wartość w tablicy. |\n",
    "| `np.max`  | Zwraca największą wartość w tablicy. |\n",
    "| `np.argmin` | Zwraca indeks najmniejszej wartości w tablicy. | \n",
    "| `np.argmax` | Zwraca indeks największej wartości w tablicy. |\n",
    "| `np.median` | Oblicza medianę wszystkich elementów w tablicy. |\n",
    "| `np.percentile` | Oblicza percentyle... TODO |\n",
    "| `np.any` | TODO |\n",
    "| `np.all` | TODO |"
   ]
  },
  {
   "cell_type": "markdown",
   "metadata": {
    "id": "portable-western"
   },
   "source": [
    "### Przykład"
   ]
  },
  {
   "cell_type": "markdown",
   "metadata": {
    "id": "surface-columbia"
   },
   "source": [
    "Wykorzystania agregacji w praktyce pokażemy z wykorzystaniem zestawu przykładowych wyników kilku uczniów na sprawdzianach z wybranych przedmiotów. Poniższa tabela przedstawia ich formę bardziej graficzną."
   ]
  },
  {
   "cell_type": "markdown",
   "metadata": {
    "id": "corporate-briefing"
   },
   "source": [
    "| Uczeń  | J. polski | Matematyka | Historia | Fizyka |\n",
    "|---|---|---|---|---|\n",
    "| Jan    | 64        | 78         | 52       | 51     |\n",
    "| Piotr  | 42        | 38         | 89       | 36     |\n",
    "| Maria  | 48        | 78         | 52       | 51     |\n",
    "| Robert | 51        | 82         | 80       | 71     |\n",
    "| Zofia  | 56        | 38         | 77       | 42     |"
   ]
  },
  {
   "cell_type": "markdown",
   "metadata": {
    "id": "objective-massachusetts"
   },
   "source": [
    "Poniżej znajdują się te same dane zapisane w macierzy NumPy (oczywiście z pominięciem nagłówków)."
   ]
  },
  {
   "cell_type": "code",
   "execution_count": null,
   "metadata": {
    "colab": {
     "base_uri": "https://localhost:8080/"
    },
    "id": "atomic-polyester",
    "outputId": "c24f2881-dede-4f2b-e59e-3bc91d4ad36d"
   },
   "outputs": [
    {
     "name": "stdout",
     "output_type": "stream",
     "text": [
      "Min:        [42 38 52 36]\n",
      "Max:        [64 82 89 71]\n",
      "Średnia:    [52.2 62.8 70.  50.2]\n",
      "Wariancja:  [ 55.36 412.16 231.6  140.56]\n",
      "Odchylenie standardowe: [ 7.4404301  20.30172406 15.2184099  11.85580027]\n",
      "Mediana:    [51. 78. 77. 51.]\n"
     ]
    }
   ],
   "source": [
    "exam_results = np.array([\n",
    "    [64, 78, 52, 51],\n",
    "    [42, 38, 89, 36],\n",
    "    [48, 78, 52, 51],\n",
    "    [51, 82, 80, 71],\n",
    "    [56, 38, 77, 42]\n",
    "])\n",
    "print(f\"Min:        {np.min(exam_results, axis=0)}\")\n",
    "print(f\"Max:        {np.max(exam_results, axis=0)}\")\n",
    "print(f\"Średnia:    {np.mean(exam_results, axis=0)}\")\n",
    "print(f\"Wariancja:  {np.var(exam_results, axis=0)}\")\n",
    "print(f\"Odchylenie standardowe: {np.std(exam_results, axis=0)}\")\n",
    "print(f\"Mediana:    {np.median(exam_results, axis=0)}\")"
   ]
  },
  {
   "cell_type": "markdown",
   "metadata": {
    "id": "collected-adapter"
   },
   "source": [
    "Biblioteka NumPy pozwala na przeprowadzanie wydajnych obliczeń, ale nie jest przeznaczona do przetwarzania czy prezentacji danych. W następnym rozdziale dotyczącym biblioteki Pandas zobaczymy, jak w łatwy sposób można obliczać te i inne wartości statystyczne i od razu prezentować je w formie tabelarycznej."
   ]
  },
  {
   "cell_type": "markdown",
   "metadata": {
    "id": "practical-harrison"
   },
   "source": [
    "## Rozgłaszanie (ang. broadcasting)\n",
    "\n",
    "W tej sekcji zajmiemy się ważnym tematem rozgłaszania, czyli tego, co w języku angielskim, nazywa się *broadcasting*. Ogólnie rzecz ujmująć, rozgłaszanie w kontekście NumPy to zbiór reguł wyznaczających sposób, w jaki mają być przeprowadzane operacje binarne (dodawanie, odejmowanie, mnożenie itd.) w przypadku, gdy mamy dwie tablice o różnych rozmiarach. Ten ogólnikowy opis może brzmieć tajemniczo, ale zaraz postaramy się wyjaśnić na przykładach, na czym rozgłaszanie polega i kiedy może być przydatne.\n",
    "\n",
    "Zacznijmy od przykładu z dodaniem wartości z dwóch tablic o takich samych wymiarach, gdzie rozgłaszanie nie jest wykorzystane."
   ]
  },
  {
   "cell_type": "code",
   "execution_count": null,
   "metadata": {
    "colab": {
     "base_uri": "https://localhost:8080/"
    },
    "id": "aerial-bermuda",
    "outputId": "651a836a-a50a-47fe-ea7d-c76e52e3faa0"
   },
   "outputs": [
    {
     "name": "stdout",
     "output_type": "stream",
     "text": [
      "Suma: [ 8 10 12]\n"
     ]
    }
   ],
   "source": [
    "array1 = np.array([1, 2, 3])\n",
    "array2 = np.array([4, 5, 6])\n",
    "array_final = array1 + array3\n",
    "print(f\"Suma: {array_final}\")"
   ]
  },
  {
   "cell_type": "markdown",
   "metadata": {
    "id": "external-eagle"
   },
   "source": [
    "W powyższym przykładzie rozgłaszanie nie jest konieczne, ponieważ wymiary obu tablic są takie same. Sprawdźmy jednak, jak zachowa się NumPy w przypadku, gdy dodamy do siebie wartości z dwóch tablic o różnych wymiarach."
   ]
  },
  {
   "cell_type": "code",
   "execution_count": null,
   "metadata": {
    "colab": {
     "base_uri": "https://localhost:8080/"
    },
    "id": "elder-fishing",
    "outputId": "a3b3b0e3-25e9-4773-882f-f11917937510"
   },
   "outputs": [
    {
     "name": "stdout",
     "output_type": "stream",
     "text": [
      "Macierz:\n",
      " [[1 2 3]\n",
      " [4 5 6]\n",
      " [7 8 9]]\n",
      "Wektor:\n",
      " [1 2 3]\n",
      "Wynik +:\n",
      " [[ 2  4  6]\n",
      " [ 5  7  9]\n",
      " [ 8 10 12]]\n"
     ]
    }
   ],
   "source": [
    "array1 = np.arange(1, 10).reshape(3, 3)\n",
    "array2 = np.array([1, 2, 3])\n",
    "array_final = array1 + array2\n",
    "print(f\"Macierz:\\n {array1}\")\n",
    "print(f\"Wektor:\\n {array2}\")\n",
    "print(f\"Wynik +:\\n {array_final}\")"
   ]
  },
  {
   "cell_type": "markdown",
   "metadata": {
    "id": "spare-christmas"
   },
   "source": [
    "Powyższy przykład pokazuje, że nawet jeżeli dwie tablice nie mają tych samych wymiarów, to możliwe jest ich dodanie. Dzieje się tak właśnie za sprawą rozgłaszania, na podstawie którego NumPy ustala, w jaki sposób należy przeprowadzić operację. \n",
    "\n",
    "Poniżej prezentujemy kod, na którym widać sposób ,,rozciągniecia'' zmiennej `array2` symulujący działanie NumPy (oczywiście NumPy nie tworzy nowej tablicy, gdyż byłoby to niewydajne zarówno pod względem obliczeniowym, jak i pod względem zajętości; poniższy przykład należy traktować jako model mentalny działania NumPy)."
   ]
  },
  {
   "cell_type": "code",
   "execution_count": null,
   "metadata": {
    "colab": {
     "base_uri": "https://localhost:8080/"
    },
    "id": "tracked-essay",
    "outputId": "9e8609ca-0a5c-427b-84d2-d0a1429bac37"
   },
   "outputs": [
    {
     "name": "stdout",
     "output_type": "stream",
     "text": [
      "Macierz 1:\n",
      " [[1 2 3]\n",
      " [4 5 6]\n",
      " [7 8 9]]\n",
      "Macierz 2:\n",
      " [[1 2 3]\n",
      " [1 2 3]\n",
      " [1 2 3]]\n",
      "Wynik +:\n",
      " [[ 2  4  6]\n",
      " [ 5  7  9]\n",
      " [ 8 10 12]]\n"
     ]
    }
   ],
   "source": [
    "array1 = np.arange(1, 10).reshape(3, 3)\n",
    "array2 = np.array(\n",
    "    [[1, 2, 3],\n",
    "     [1, 2, 3],\n",
    "     [1, 2, 3]])\n",
    "array_final = array1 + array2\n",
    "print(f\"Macierz 1:\\n {array1}\")\n",
    "print(f\"Macierz 2:\\n {array2}\")\n",
    "print(f\"Wynik +:\\n {array_final}\")"
   ]
  },
  {
   "cell_type": "markdown",
   "metadata": {
    "id": "political-arrow"
   },
   "source": [
    "Rozgłaszanie musi działać w sposób spójny, konsekwentny i, o ile to możliwe, intuicyjny. Żeby osiągnąć te cele, twórcy NumPy przyjęli następujące zasady rozgłaszania.\n",
    "\n",
    "1. Rozgłaszanie może nastąpić tylko wtedy, gdy wymiary dwóch tablic są ze sobą kompatybilne. Dwa wymiary są ze sobą kompatybilne, jeżeli są równe lub jeden z nich ma długość 1.\n",
    "2. Dla każdego z wymiarów nowopowstałej tablicy przyjmowany jest większy wymiar.\n",
    "3. Jeżeli liczba elementów w któryś z wymiarów jest mniejsza niż to konieczne do przeprowadzenia operacji, wymagane wartości są uzupełniane istniejącą wartością.\n",
    "\n",
    "Jeżeli nie spełniony jest któryś z powyższych warunków, NumPy zwróci błąd informujący o tym."
   ]
  },
  {
   "cell_type": "markdown",
   "metadata": {
    "id": "optical-angle"
   },
   "source": [
    "## Sortowanie"
   ]
  },
  {
   "cell_type": "markdown",
   "metadata": {
    "id": "piano-going"
   },
   "source": [
    "Przetwarzanie danych wymaga od nas niekiedy uporządkowania ich w określonej kolejności. NumPy udostępnia kilka funkcji, które umożliwiają przeprowadzenie tej operacji w wydajny sposób.  Funkcja `np.sort` zwraca nową tablicę uporządkowaną zgodnie z kolejnością od najmniejszego do największego elementu. Jeżeli chcemy posortować tablicę bez tworzenia jej nowej kopii w pamięci, należy użyć składni `x.sort()`, gdzie `x` odnosi się do tablicy. Z kolei funkcja `np.argsort()` nie zwraca tablicy z uporządkowanymi wartości, lecz odpowiadające im indeksy. Poniżej prezentujemy kilka przykładów."
   ]
  },
  {
   "cell_type": "code",
   "execution_count": null,
   "metadata": {
    "colab": {
     "base_uri": "https://localhost:8080/"
    },
    "id": "solar-investor",
    "outputId": "06cb1841-dec7-4941-a45a-a643f384a4dc"
   },
   "outputs": [
    {
     "name": "stdout",
     "output_type": "stream",
     "text": [
      "Tablica nieposortowana: [2 7 3 5 9 3 2 1 9 9]\n",
      "Tablica posortowana: [1 2 2 3 3 5 7 9 9 9]\n",
      "Tablica początkowa: [2 7 3 5 9 3 2 1 9 9]\n",
      "Tablica początkowa posortowana: [1 2 2 3 3 5 7 9 9 9]\n"
     ]
    }
   ],
   "source": [
    "array = np.random.randint(0, 10, 10)\n",
    "print(f\"Tablica nieposortowana: {array}\")\n",
    "sorted_array = np.sort(array)\n",
    "print(f\"Tablica posortowana: {sorted_array}\")\n",
    "print(f\"Tablica początkowa: {array}\")\n",
    "array.sort()\n",
    "print(f\"Tablica początkowa posortowana: {array}\")"
   ]
  },
  {
   "cell_type": "markdown",
   "metadata": {
    "id": "formed-convenience"
   },
   "source": [
    "W przypadku tablic wielowymiarowych NumPy udostępnia również możliwość sortowania elementów wzdłuż określonej osi. Służy do tego parametr `axis`, gdzie w przypadku tablic dwuwymiarowych wartość `0` oznacza sortowanie w kolumnach, a wartość `1` - w wierszach. Poniżej prezentujemy to na przykładzie danych z wynikami egzaminów uczniów:"
   ]
  },
  {
   "cell_type": "code",
   "execution_count": null,
   "metadata": {
    "colab": {
     "base_uri": "https://localhost:8080/"
    },
    "id": "seventh-swiss",
    "outputId": "a05681c5-35de-4cb5-fc1a-fe2b0bd242c5"
   },
   "outputs": [
    {
     "name": "stdout",
     "output_type": "stream",
     "text": [
      "Macierz posortowana po kolumnach:\n",
      "[[42 38 52 36]\n",
      " [48 38 52 42]\n",
      " [51 78 77 51]\n",
      " [56 78 80 51]\n",
      " [64 82 89 71]]\n",
      "Macierz posortowana po wierszach:\n",
      "[[51 52 64 78]\n",
      " [36 38 42 89]\n",
      " [48 51 52 78]\n",
      " [51 71 80 82]\n",
      " [38 42 56 77]]\n"
     ]
    }
   ],
   "source": [
    "exam_results = np.array([\n",
    "    [64, 78, 52, 51],\n",
    "    [42, 38, 89, 36],\n",
    "    [48, 78, 52, 51],\n",
    "    [51, 82, 80, 71],\n",
    "    [56, 38, 77, 42]\n",
    "])\n",
    "sorted_in_columns = np.sort(exam_results, axis=0)\n",
    "print(f\"Macierz posortowana po kolumnach:\\n{sorted_in_columns}\")\n",
    "sorted_in_rows = np.sort(exam_results, axis=1)\n",
    "print(f\"Macierz posortowana po wierszach:\\n{sorted_in_rows}\")"
   ]
  },
  {
   "cell_type": "markdown",
   "metadata": {
    "id": "m2r7kikWQytX"
   },
   "source": [
    "## Filtrowanie"
   ]
  },
  {
   "cell_type": "code",
   "execution_count": null,
   "metadata": {
    "colab": {
     "base_uri": "https://localhost:8080/"
    },
    "id": "viaEZgWIqmFB",
    "outputId": "665cf869-1bce-4d74-ff6d-5710ca7fa8b0"
   },
   "outputs": [
    {
     "data": {
      "text/plain": [
       "array([[False, False],\n",
       "       [ True,  True]])"
      ]
     },
     "execution_count": 86,
     "metadata": {},
     "output_type": "execute_result"
    }
   ],
   "source": [
    "a = np.array([[1, 2],\n",
    "              [3, 4]])\n",
    "a > 2"
   ]
  },
  {
   "cell_type": "code",
   "execution_count": null,
   "metadata": {
    "colab": {
     "base_uri": "https://localhost:8080/"
    },
    "id": "ykpczUubqy_S",
    "outputId": "dd4eba2b-8f29-4aea-ac00-46f5eb742812"
   },
   "outputs": [
    {
     "data": {
      "text/plain": [
       "array([3, 4])"
      ]
     },
     "execution_count": 87,
     "metadata": {},
     "output_type": "execute_result"
    }
   ],
   "source": [
    "a[a > 2]"
   ]
  },
  {
   "cell_type": "code",
   "execution_count": null,
   "metadata": {
    "colab": {
     "base_uri": "https://localhost:8080/"
    },
    "id": "W8uSKKpQvHzO",
    "outputId": "fff8beed-378f-499c-9d25-65320fffa415"
   },
   "outputs": [
    {
     "data": {
      "text/plain": [
       "array([1, 2, 4])"
      ]
     },
     "execution_count": 89,
     "metadata": {},
     "output_type": "execute_result"
    }
   ],
   "source": [
    "a[a != 3]"
   ]
  },
  {
   "cell_type": "markdown",
   "metadata": {
    "id": "q8u3vfjUgRm2"
   },
   "source": [
    "## Zapamiętaj!\n",
    "\n",
    "`argmax()`\n",
    "\n",
    "`argmin()`\n",
    "\n",
    "`copy()`\n",
    "\n",
    "`cos()`\n",
    "\n",
    "`dtype`\n",
    "\n",
    "`exp()`\n",
    "\n",
    "`log()`\n",
    "\n",
    "`max()`\n",
    "\n",
    "`mean()`\n",
    "\n",
    "`min()`\n",
    "\n",
    "`np.arange()`\n",
    "\n",
    "`np.array()`\n",
    "\n",
    "`np.concatenate()`\n",
    "\n",
    "`np.empty()`\n",
    "\n",
    "`np.eye()`\n",
    "\n",
    "`np.linspace()`\n",
    "\n",
    "`np.ndarray()`\n",
    "\n",
    "`np.ones()`\n",
    "\n",
    "`np.random.rand()`\n",
    "\n",
    "`np.random.randint()`\n",
    "\n",
    "`np.reshape()`\n",
    "\n",
    "`np.save()`\n",
    "\n",
    "`np.seed()`\n",
    "\n",
    "`np.zeros()`\n",
    "\n",
    "`shape`\n",
    "\n",
    "`sin()`\n",
    "\n",
    "`sqrt()`\n",
    "\n",
    "`std()`\n",
    "\n",
    "`sum()`\n",
    "\n",
    "`transpose()`\n",
    "\n",
    "`var()`\n",
    "\n",
    "\n",
    "## Zbadaj samodzielnie i zapamiętaj!\n",
    "\n",
    "`np.exp(a)`\n",
    "\n",
    "`np.sin(a)`\n",
    "\n",
    "`np.cos(a)`\n",
    "\n",
    "`np.log(a)`\n",
    "\n",
    "`a.min()`\n",
    "\n",
    "`a.argmin()`\n",
    "\n",
    "`view()`\n",
    "\n",
    "`fill()`\n",
    "\n",
    "`cumsum()`\n",
    "\n",
    "`round()`\n",
    "\n",
    "`any()`\n",
    "\n",
    "`all()`"
   ]
  },
  {
   "cell_type": "markdown",
   "metadata": {
    "id": "dXgAuosRsgpV"
   },
   "source": [
    "## Wprawki"
   ]
  },
  {
   "cell_type": "markdown",
   "metadata": {
    "id": "qM25J2fY_F8u"
   },
   "source": [
    "### Wprawka 1\n",
    "\n",
    "Napisz kod, który zamieni macierz \n",
    "```\n",
    "array([[1., 0.],\n",
    "       [0., 1.]])\n",
    "```\n",
    "na\n",
    "```\n",
    "array([[1., 1., 0., 0.],\n",
    "       [1., 1., 0., 0.],\n",
    "       [0., 0., 1., 1.],\n",
    "       [0., 0., 1., 1.]])\n",
    "```"
   ]
  }
 ],
 "metadata": {
  "colab": {
   "collapsed_sections": [],
   "include_colab_link": true,
   "name": "python_dla_humanistow.ipynb",
   "provenance": [],
   "toc_visible": true
  },
  "kernelspec": {
   "display_name": "Python 3",
   "language": "python",
   "name": "python3"
  },
  "language_info": {
   "codemirror_mode": {
    "name": "ipython",
    "version": 3
   },
   "file_extension": ".py",
   "mimetype": "text/x-python",
   "name": "python",
   "nbconvert_exporter": "python",
   "pygments_lexer": "ipython3",
   "version": "3.8.8"
  }
 },
 "nbformat": 4,
 "nbformat_minor": 4
}
