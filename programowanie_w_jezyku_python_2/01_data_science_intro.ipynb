{
 "cells": [
  {
   "cell_type": "markdown",
   "id": "middle-chosen",
   "metadata": {
    "id": "middle-chosen"
   },
   "source": [
    "# Wprowadzenie do data science"
   ]
  },
  {
   "cell_type": "markdown",
   "id": "affiliated-singer",
   "metadata": {
    "id": "affiliated-singer"
   },
   "source": [
    "Niniejsza część książki poświęcona jest tematowi, który w języku angielskim określa się mianem *data science*. I choć istnieją próby przełożenie tego terminu na język polski, na przykład w formie *danologia*, *danetyka*, czy też *nauka o danych*, to niezdecydowaliśmy się na użycie żadnej z nich, uznając, że nie są one jeszcze dostatecznie rozpowszechnione, a większość specjalistów używa nazwy angielskiej. \n",
    "\n",
    "Zanim przejdziemy do konkretów, chcemy odpowiedzieć na dwa podstawowe pytania:\n",
    "1. Czym jest *data science*?\n",
    "2. Dlaczego ten temat znalazł się w książce poświęconej sztucznej inteligencji?"
   ]
  },
  {
   "cell_type": "markdown",
   "id": "e73c007e",
   "metadata": {},
   "source": [
    "## Czym są dane?"
   ]
  },
  {
   "cell_type": "markdown",
   "id": "38baf89a",
   "metadata": {},
   "source": [
    "### Dane strukturalne i niestrukturalne\n",
    "- dane strukturalne i niestrukturalne\n",
    "    - dane strukturalne, \"tabelaryczne\", najczęściej używane w uczeniu maszynowym\n",
    "        - X ---> y, gdzie X jest zbiorem (wektorów) cech, zwykle wielowymiarowym, a y jest etykietą, zwykle kategorią klasyfikacji\n",
    "    - dane niestrukturalne: obrazy, audio, tekst\n",
    "- jak tworzyć dane strukturalne\n",
    "    - ręczne etykietowanie\n",
    "    - zbieranie danych \n",
    "        - z serwisów i sklepów (np. danych użytkownika, zachowania na stronie, zakupów, like'ów, etc.)\n",
    "        - z maszyn przemysłowych (np. dane środowiskowe podczas produkcji i resultaty produkcji oczykiwane czy wynrakowane)\n",
    "        - firmy ubezpieczeniowe, banki, etc\n",
    "    - Kaggle\n",
    "- używanie danych\n",
    "    - najlepsze jest podejście iteracyjne; mała porcja danych, konsultacja z AI team i dalsze zbieranie danych\n",
    "    - nie z każdych danych da się wydobyć interesującą wiedzę\n",
    "        - garbage in, garbage out\n",
    "        - dane mogą być wybrakowane (są techniki uzupełniania)\n",
    "        - dane mogą być błędne\n",
    "    \n",
    "    \n",
    "\n",
    "\n",
    "TODO"
   ]
  },
  {
   "cell_type": "markdown",
   "id": "79079c9f",
   "metadata": {},
   "source": [
    "## Czym jest *data science*?"
   ]
  },
  {
   "cell_type": "markdown",
   "id": "precious-entertainment",
   "metadata": {
    "id": "precious-entertainment"
   },
   "source": [
    "### Definicja data science\n",
    "\n",
    "<span t='l1'>Podanie ścisłej definicji pojęcia *data science* jest niemożliwe, gdyż narodziło sie ono nagle i bardzo szybko rozprzestrzeniło się w sferze publicznej. Co za tym idzie, jest różnie rozumiane przez różne osoby i choć te rozumienia są znaczeniowo zbliżone, trudno jest wskazać jedną definicję, która obejmowałaby wszystkie użycia. Zamiast próby podania definicji *data science*, ograniczamy się do tego, co zrobiło wielu autorów przed nami. Czyli wskazania na fakt, że *data science* to nazwa opisująca interdyscyplinarny zbiór wiedzy i umiejętności, który jest dodatkowo uzupełniony doświadczeniem praktycznym i wiedzą z dziedziny, która jest badana (astronomia, socjologia, najem nieruchomości, cokolwiek...). Interdyscyplinarny charakter *data science* przejawia się tym, że wykorzystuje się w niej zarówno wiedzę z zakresu statystyki matematycznej, jak i informatyki (algorytmy, struktury danych, techniki wizualizacyjne). Dodatkowo, jak wspomnieliśmy, konieczna jest wiedza z dziedziny, z której pochodzą analizowane dane. Nie bez znaczenia pozostaje również doświadczenie zawodowe osoby zajmującej się *data science*, które gromadzone jest przez lata i, obok wiedzy teoretycznej, stanowi największy atut podczas analizowania danych.</span>\n",
    "\n",
    "TODO: Drew Conway’s Data Science Venn Diagram"
   ]
  },
  {
   "cell_type": "markdown",
   "id": "54395c1d",
   "metadata": {},
   "source": [
    "## *Data science* a uczenie maszynowe i sztuczna inteligencja\n",
    "\n"
   ]
  },
  {
   "cell_type": "markdown",
   "id": "17af6295",
   "metadata": {},
   "source": [
    "### Techniki uczenia maszynowego\n",
    "Techniki uczenia maszynowego spowadzają się do szukania korelacji między danymi wejściowymi a wyjściwymi, miedzy X i y. Wynikiem zastosowania uczenia maszynowego jest model, który pozala dokonywać predykcji, na przykład ceny działek (y) biorąc pod uwagę cechy jakie ona posiada (X). Dodajmy, że w uczeniu maszynowym komputer samodzielnie, tzn. bez \"sztywnego\" zaprogramiowania, znajduje związki między X i y, a wynikiem jest software, który może być użyty do generowania predykcji.\n",
    "\n"
   ]
  },
  {
   "cell_type": "markdown",
   "id": "double-bangkok",
   "metadata": {
    "id": "double-bangkok"
   },
   "source": [
    "### Podejście data science\n",
    "Data science ma zupełnie inne podejście. Celem analizy nie jest stworzenie modelu predykcyjnego, ale znalezienie wiedzy \"ukrytej\" w danych, na przykład zauważenie, że dwie działki budowlane o podobnych wymiarach mogą się diametralnie różnic ceną gdy pierwsza jest zlokalizowana w A, a druga w dzielnicy B, albo, że działki ogrodzone są o 10% proższe od tych nieogodzonych (oczywiście porównujemy działki o podobnych cechach). Znalezienie takich zależności może przyczynić się do pojęcia decyzji, np. sprzedający może zdecydować się na ogodzenie sprzedawanej przez siebie działki (o ile kosz budowy takiego ogrodzenia będzie niższy niż dziesięcioprocentowy wzrost ceny tej działki). Wynikiem analiz w obszarze data scienice nie jest software, ale spisany zbirór obserwacji, często zbogacony digramami różnego typu.\n",
    "\n",
    "Metody *data science* zalicza się przynajmniej w części do sztucznej inteligencji. \n",
    "\n",
    "<img src=\"../pliki_yEd/ai_ds.png\" style=\"height:300px;\">\n",
    "\n",
    "Postanowiliśmy jednak dodać rozdział poświęcony analizie danych w Pythonie, gdyż opisane w kolejnych rozdziałach narzędzia z zakresu sztucznej inteligencji korzystają z opisanych w tym rozdziale technik i bibliotek. W związku z tym, postanowiliśmy większy nacisk położyć na stronę praktyczną, a w mniejszym stopniu zajmować się podstawami teoretycznymi czy też technicznymi tych zagadnień."
   ]
  },
  {
   "cell_type": "markdown",
   "id": "059df573",
   "metadata": {},
   "source": [
    "## Etapy projektu data science\n",
    "\n"
   ]
  },
  {
   "cell_type": "markdown",
   "id": "1e1e8dd4",
   "metadata": {},
   "source": [
    "### Etapy projektu data science\n",
    "\n",
    "\n",
    "1. Zbieranie/pozyskanie danych\n",
    "2. Analiza danych\n",
    "    - szukanie korelacji, interesujących związków (w procesie iteracyjnym)\n",
    "3. Postawienie hipotezy i sugestia podjęcia działań\n",
    "4. Wprowadzenie zmian i ponowna analiza w celu weryfikacji/falsyfikacji hipotezy"
   ]
  },
  {
   "cell_type": "markdown",
   "id": "92734432",
   "metadata": {},
   "source": [
    "## Tematyka rozdziału\n",
    "\n"
   ]
  },
  {
   "cell_type": "markdown",
   "id": "atmospheric-paris",
   "metadata": {
    "id": "atmospheric-paris"
   },
   "source": [
    "### Tematyka rozdziału\n",
    "\n",
    "\n",
    "\n",
    "Zanim przejdziemy do konkretów, chcemy jeszcze pokrótce przedstawić, czym będziemy zajmować się w tym rozdziale. Zaczniemy od nauki biblioteki NumPy (*Numericla Python*), która stanowi podstawę dla wielu innych narzędzi *data science* i SI, i jest *de facto* standardem jeśli chodzi o pracę z danymi liczbowymi w Pythonie. NumPy pozwala na przeprowadzanie efektywnych obliczeń na dużej ilości danych numerycznych, ale doskonale nadaje się również do niedużych ilości danych. \n",
    "\n",
    "Następnie przejdziemy do zapoznania się z biblioteką Pandas, która została zbudowana na podstawie NumPy. Pandas służy do przeprowadzania operacji na danych zapisanych w formie tabeli.\n",
    "\n",
    "-> Wizualizacja"
   ]
  },
  {
   "cell_type": "markdown",
   "id": "a4d65f66",
   "metadata": {},
   "source": [
    "## <span t=\"slide_title\">Bibliografia</span>\n",
    "\n",
    "- <span t=\"l1\">Joel Grus, Data Science from Scratch, 2nd Edition, 2019</span>\n",
    "- [<span t=\"l1\">DeepLearning.ai</span>](https://www.deeplearning.ai/courses/)"
   ]
  },
  {
   "cell_type": "code",
   "execution_count": null,
   "id": "9f2f2efb",
   "metadata": {},
   "outputs": [],
   "source": []
  }
 ],
 "metadata": {
  "colab": {
   "name": "introduction.ipynb",
   "provenance": []
  },
  "kernelspec": {
   "display_name": "Python 3",
   "language": "python",
   "name": "python3"
  },
  "language_info": {
   "codemirror_mode": {
    "name": "ipython",
    "version": 3
   },
   "file_extension": ".py",
   "mimetype": "text/x-python",
   "name": "python",
   "nbconvert_exporter": "python",
   "pygments_lexer": "ipython3",
   "version": "3.8.8"
  }
 },
 "nbformat": 4,
 "nbformat_minor": 5
}
