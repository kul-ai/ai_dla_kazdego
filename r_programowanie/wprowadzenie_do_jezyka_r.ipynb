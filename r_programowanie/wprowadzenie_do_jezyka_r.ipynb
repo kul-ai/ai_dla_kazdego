{
 "cells": [
  {
   "cell_type": "markdown",
   "id": "14e4d023",
   "metadata": {},
   "source": [
    "# Język R"
   ]
  },
  {
   "cell_type": "markdown",
   "id": "e791a76d",
   "metadata": {},
   "source": [
    "## Środowisko R"
   ]
  },
  {
   "cell_type": "markdown",
   "id": "f730a315",
   "metadata": {},
   "source": [
    "### Środowisko R\n",
    "\n",
    "- R jest wolnym (na licencji GNU GPL - możliwość wykorzystywania także w zastosowaniach komercyjnych) zaawansowanym środowiskiem oraz językiem programowania przeznaczonym do wykonywania obliczeń statystycznych i  numerycznych oraz analizy i wizualizacji danych. \n",
    "- Język R powstał w 1997 r. na Uniwersytecie w Auckland (Nowa Zelandia).\n",
    "- R jest językiem interpretowanym. "
   ]
  },
  {
   "cell_type": "markdown",
   "id": "97e3db75",
   "metadata": {},
   "source": [
    "### RStudio\n",
    "\n",
    "RStudio jest zintegrowanym środowiskiem programistycznym (IDE) dla instalacji R.\n",
    "\n",
    "RStudio umożliwia m.in.:\n",
    "- wygodne zarządzanie plikami źródłowymi oraz całymi projektami,\n",
    "- korzystanie z licznych rozszerzeń możliwości konsoli,\n",
    "- korzystanie z zintegrowanego systemu pomocy i narzędzi wspomagających zarządzanie generowanymi plikami graficznymi.\n"
   ]
  },
  {
   "cell_type": "markdown",
   "id": "9acb3cf7",
   "metadata": {},
   "source": [
    "## Język R"
   ]
  },
  {
   "cell_type": "markdown",
   "id": "374dcf48",
   "metadata": {},
   "source": [
    "### Podstawowe typy danych\n",
    "- wartości logiczne (logical) \n",
    "- bajty (raw)\n",
    "- liczby całkowite (integer) \n",
    "- liczby rzeczywiste (double) \n",
    "- liczby zespolone (complex) \n",
    "- łańcuchy znaków (character) \n",
    "- pusty (NULL)"
   ]
  },
  {
   "cell_type": "markdown",
   "id": "a0db9695",
   "metadata": {},
   "source": [
    "### Typy złożone\n",
    "- macierze (matrix)\n",
    "- tablice (array)\n",
    "- szeregi czasowe (ts) \n",
    "- czynniki (factor)\n",
    "- ramki danych (data.frame) \n",
    "- formuły (formula)"
   ]
  },
  {
   "cell_type": "markdown",
   "id": "a70bec52",
   "metadata": {},
   "source": [
    "Stałe logiczne\n",
    "- `TRUE`, `FALSE`\n",
    "\n",
    "Wybrane wartości specjalne\n",
    "- `Inf`, `-Inf`, `NaN`\n",
    "\n",
    "Sprawdzenie typu danej:\n",
    "- `typeof(\"Język R\");`"
   ]
  },
  {
   "cell_type": "code",
   "execution_count": 1,
   "id": "353c02b6",
   "metadata": {},
   "outputs": [
    {
     "data": {
      "text/html": [
       "'character'"
      ],
      "text/latex": [
       "'character'"
      ],
      "text/markdown": [
       "'character'"
      ],
      "text/plain": [
       "[1] \"character\""
      ]
     },
     "metadata": {},
     "output_type": "display_data"
    }
   ],
   "source": [
    "typeof(\"Język R\");"
   ]
  },
  {
   "cell_type": "markdown",
   "id": "d8f787bc",
   "metadata": {},
   "source": [
    "### Operator przypisania\n",
    "- `x<-5;`\n",
    "- `b<-TRUE`"
   ]
  },
  {
   "cell_type": "code",
   "execution_count": 2,
   "id": "a2e043f7",
   "metadata": {},
   "outputs": [
    {
     "data": {
      "text/html": [
       "TRUE"
      ],
      "text/latex": [
       "TRUE"
      ],
      "text/markdown": [
       "TRUE"
      ],
      "text/plain": [
       "[1] TRUE"
      ]
     },
     "metadata": {},
     "output_type": "display_data"
    }
   ],
   "source": [
    "b<-TRUE\n",
    "b"
   ]
  },
  {
   "cell_type": "markdown",
   "id": "8f1dba89",
   "metadata": {},
   "source": [
    "### Tworzenie wektora\n",
    "- `x<-c(1, 2, 4, 2, 5);`\n",
    "- `y<-1:10`\n",
    "\n",
    "Sprawdzenie długości wektora przykład:\n",
    "- `length(x);`"
   ]
  },
  {
   "cell_type": "code",
   "execution_count": 3,
   "id": "0052b02f",
   "metadata": {},
   "outputs": [
    {
     "data": {
      "text/html": [
       "5"
      ],
      "text/latex": [
       "5"
      ],
      "text/markdown": [
       "5"
      ],
      "text/plain": [
       "[1] 5"
      ]
     },
     "metadata": {},
     "output_type": "display_data"
    }
   ],
   "source": [
    "x<-c(1, 2, 4, 2, 5);\n",
    "y<-1:10\n",
    "length(x);"
   ]
  },
  {
   "cell_type": "markdown",
   "id": "2b402094",
   "metadata": {},
   "source": [
    "Indeksowanie wektorów zaczyna się od 1 \n",
    "\n",
    "Dostęp do elementów wektora\n",
    "- `x[2];`\n",
    "- `y[3:5];`"
   ]
  },
  {
   "cell_type": "code",
   "execution_count": 4,
   "id": "a9d9927e",
   "metadata": {},
   "outputs": [
    {
     "data": {
      "text/html": [
       "2"
      ],
      "text/latex": [
       "2"
      ],
      "text/markdown": [
       "2"
      ],
      "text/plain": [
       "[1] 2"
      ]
     },
     "metadata": {},
     "output_type": "display_data"
    }
   ],
   "source": [
    "x[2];"
   ]
  },
  {
   "cell_type": "markdown",
   "id": "092455db",
   "metadata": {},
   "source": [
    "### Tworzenie macierzy\n",
    "\n",
    "- `x<-matrix(1:10, nrow=2, ncol=5);`\n",
    "- `y<-matrix(c('a','b','a','d'), ncol=2, byrow=TRUE);`\n",
    "\n",
    "Sprawdzenie rozmiarów macierzy:\n",
    "- `ile_kolumny<-ncol(x);`\n",
    "- `ile_wierszy<-nrow(x);`"
   ]
  },
  {
   "cell_type": "code",
   "execution_count": 5,
   "id": "286f4fed",
   "metadata": {},
   "outputs": [
    {
     "data": {
      "text/html": [
       "5"
      ],
      "text/latex": [
       "5"
      ],
      "text/markdown": [
       "5"
      ],
      "text/plain": [
       "[1] 5"
      ]
     },
     "metadata": {},
     "output_type": "display_data"
    }
   ],
   "source": [
    "x<-matrix(1:10, nrow=2, ncol=5);\n",
    "ile_kolumny<-ncol(x);\n",
    "ile_kolumny"
   ]
  },
  {
   "cell_type": "markdown",
   "id": "cea7de57",
   "metadata": {},
   "source": [
    "Dostęp do elementów macierzy przykłady:\n",
    "- `x[2,2];`\n",
    "- `x[,1:2];`\n",
    "- `x[1,]`"
   ]
  },
  {
   "cell_type": "code",
   "execution_count": 6,
   "id": "95dae311",
   "metadata": {},
   "outputs": [
    {
     "data": {
      "text/html": [
       "<table class=\"dataframe\">\n",
       "<caption>A matrix: 2 × 2 of type int</caption>\n",
       "<tbody>\n",
       "\t<tr><td>1</td><td>3</td></tr>\n",
       "\t<tr><td>2</td><td>4</td></tr>\n",
       "</tbody>\n",
       "</table>\n"
      ],
      "text/latex": [
       "A matrix: 2 × 2 of type int\n",
       "\\begin{tabular}{ll}\n",
       "\t 1 & 3\\\\\n",
       "\t 2 & 4\\\\\n",
       "\\end{tabular}\n"
      ],
      "text/markdown": [
       "\n",
       "A matrix: 2 × 2 of type int\n",
       "\n",
       "| 1 | 3 |\n",
       "| 2 | 4 |\n",
       "\n"
      ],
      "text/plain": [
       "     [,1] [,2]\n",
       "[1,] 1    3   \n",
       "[2,] 2    4   "
      ]
     },
     "metadata": {},
     "output_type": "display_data"
    }
   ],
   "source": [
    "x[,1:2];"
   ]
  },
  {
   "cell_type": "markdown",
   "id": "b39b8481",
   "metadata": {},
   "source": [
    "Transpozycja macierzy przykład:\n",
    "- `t(x);`\n",
    "\n",
    "Mnożenie macierzy przykład:\n",
    "- `x %*% y;`"
   ]
  },
  {
   "cell_type": "code",
   "execution_count": 7,
   "id": "9af7957b",
   "metadata": {},
   "outputs": [
    {
     "data": {
      "text/html": [
       "<table class=\"dataframe\">\n",
       "<caption>A matrix: 5 × 2 of type int</caption>\n",
       "<tbody>\n",
       "\t<tr><td>1</td><td> 2</td></tr>\n",
       "\t<tr><td>3</td><td> 4</td></tr>\n",
       "\t<tr><td>5</td><td> 6</td></tr>\n",
       "\t<tr><td>7</td><td> 8</td></tr>\n",
       "\t<tr><td>9</td><td>10</td></tr>\n",
       "</tbody>\n",
       "</table>\n"
      ],
      "text/latex": [
       "A matrix: 5 × 2 of type int\n",
       "\\begin{tabular}{ll}\n",
       "\t 1 &  2\\\\\n",
       "\t 3 &  4\\\\\n",
       "\t 5 &  6\\\\\n",
       "\t 7 &  8\\\\\n",
       "\t 9 & 10\\\\\n",
       "\\end{tabular}\n"
      ],
      "text/markdown": [
       "\n",
       "A matrix: 5 × 2 of type int\n",
       "\n",
       "| 1 |  2 |\n",
       "| 3 |  4 |\n",
       "| 5 |  6 |\n",
       "| 7 |  8 |\n",
       "| 9 | 10 |\n",
       "\n"
      ],
      "text/plain": [
       "     [,1] [,2]\n",
       "[1,] 1     2  \n",
       "[2,] 3     4  \n",
       "[3,] 5     6  \n",
       "[4,] 7     8  \n",
       "[5,] 9    10  "
      ]
     },
     "metadata": {},
     "output_type": "display_data"
    }
   ],
   "source": [
    "t(x);"
   ]
  },
  {
   "cell_type": "code",
   "execution_count": 8,
   "id": "04ff197e",
   "metadata": {},
   "outputs": [
    {
     "ename": "ERROR",
     "evalue": "Error in x %*% y: niezgodne argumenty\n",
     "output_type": "error",
     "traceback": [
      "Error in x %*% y: niezgodne argumenty\nTraceback:\n"
     ]
    }
   ],
   "source": [
    "x %*% y;"
   ]
  },
  {
   "cell_type": "markdown",
   "id": "fc2bf144",
   "metadata": {},
   "source": [
    "### Tablice (array)\n",
    "- są uogólnieniem macierzy, \n",
    "- mogą mieć wiele wymiarów.\n",
    "\n",
    "Macierze (matrix) są tablicami dwuwymiarowymi."
   ]
  },
  {
   "cell_type": "markdown",
   "id": "1a00187b",
   "metadata": {},
   "source": [
    "### Komentarze\n",
    "- `#komentarz do końca linii`\n",
    "\n",
    "Konkatenacja i wyświetlanie łańcuchów znaków przykład:\n",
    "- `cat(\"Wartość zmiennej x\", x, \"\\n\");`"
   ]
  },
  {
   "cell_type": "code",
   "execution_count": null,
   "id": "9aa9262f",
   "metadata": {},
   "outputs": [],
   "source": [
    "cat(\"Wartość zmiennej x\", x, \"\\n\");"
   ]
  },
  {
   "cell_type": "markdown",
   "id": "0dd899cc",
   "metadata": {},
   "source": [
    "### System pomocy przykład\n",
    "\n",
    "- `?cat`"
   ]
  },
  {
   "cell_type": "code",
   "execution_count": null,
   "id": "807e8dba",
   "metadata": {},
   "outputs": [],
   "source": [
    "?cat"
   ]
  },
  {
   "cell_type": "markdown",
   "id": "94a6983a",
   "metadata": {},
   "source": [
    "### Operatory arytmetyczne\n",
    "- dodawanie `+` \n",
    "- odejmowanie `-`\n",
    "- mnożenie `*`\n",
    "- dzielenie `/`\n",
    "- potęgowanie `^`\n",
    "- reszta z dzielenia `%%` \n",
    "- dzielenie całkowite `%/%`\n",
    "\n",
    "Operatory arytmetyczne są zwektoryzowane (operacje wykonywane są element po elemencie)"
   ]
  },
  {
   "cell_type": "markdown",
   "id": "9873ad52",
   "metadata": {},
   "source": [
    "### Operatory logiczne\n",
    "- negacja `!`\n",
    "- suma logiczna `|` \n",
    "- iloczyn logiczny `&`\n",
    "\n",
    "Operatory logiczne są zwektoryzowane (operacje wykonywane są element po elemencie)"
   ]
  },
  {
   "cell_type": "markdown",
   "id": "d4b734d4",
   "metadata": {},
   "source": [
    "### Operatory relacyjne\n",
    "- mniejszy `<`\n",
    "- większy `>`\n",
    "- mniejszy lub równy `<=`\n",
    "- większy lub równy `>=` \n",
    "- równy `==`\n",
    "- różny `!=`\n",
    "\n",
    "Operatory relacyjne są zwektoryzowane (operacje wykonywane są element po elemencie)"
   ]
  },
  {
   "cell_type": "markdown",
   "id": "9ad582bc",
   "metadata": {},
   "source": [
    "###  Tworzenie funkcji:\n",
    "\n",
    "```\n",
    "kwadrat <- function(x)\n",
    "{\n",
    "    x^2; \n",
    "}\n",
    "```"
   ]
  },
  {
   "cell_type": "code",
   "execution_count": null,
   "id": "5443083a",
   "metadata": {},
   "outputs": [],
   "source": [
    "kwadrat <- function(x)\n",
    "{\n",
    "    x^2; \n",
    "}\n",
    "\n",
    "kwadrat(2);"
   ]
  },
  {
   "cell_type": "markdown",
   "id": "98c86fd5",
   "metadata": {},
   "source": [
    "Funkcje mogą być zapisywane w oddzielnych plikach źródłowych (skryptach), np.:\n",
    "\n",
    "- `kw.R`\n",
    "\n",
    "Aby skorzystać z funkcji należy wywołać funkcję source, np.:\n",
    "- `source('kw.R');`"
   ]
  },
  {
   "cell_type": "markdown",
   "id": "bb6f03e4",
   "metadata": {},
   "source": [
    "### Instrukcja warunkowa `if`:\n",
    "```\n",
    "if(a>0) \n",
    "{\n",
    "    b=5; \n",
    "}\n",
    "```"
   ]
  },
  {
   "cell_type": "code",
   "execution_count": null,
   "id": "570f8cec",
   "metadata": {},
   "outputs": [],
   "source": [
    "if(2>0) \n",
    "{\n",
    "    b=5; \n",
    "}\n",
    "\n",
    "b"
   ]
  },
  {
   "cell_type": "markdown",
   "id": "626e04e4",
   "metadata": {},
   "source": [
    "### Instrukcja warunkowa `if-else`: przykład:\n",
    "```\n",
    "if(a>0) \n",
    "{\n",
    "    b=5; \n",
    "}\n",
    "else \n",
    "{\n",
    "    b=10; \n",
    "}\n",
    "```"
   ]
  },
  {
   "cell_type": "markdown",
   "id": "6fc8837a",
   "metadata": {},
   "source": [
    "### Instrukcja pętli `while`:\n",
    "\n",
    "```\n",
    "while(i<10)\n",
    "{\n",
    "   cat(\"i: \", i, \"\\n\");\n",
    "    i<-i+2; \n",
    "}\n",
    "```"
   ]
  },
  {
   "cell_type": "code",
   "execution_count": null,
   "id": "d94f57f0",
   "metadata": {},
   "outputs": [],
   "source": [
    "i=1\n",
    "while(i<10)\n",
    "{\n",
    "   cat(\"i: \", i, \"\\n\");\n",
    "    i<-i+2; \n",
    "}"
   ]
  },
  {
   "cell_type": "markdown",
   "id": "80fd9387",
   "metadata": {},
   "source": [
    "### Instrukcja pętli `for`:\n",
    "```\n",
    "for(i in 1:10)\n",
    "{\n",
    "   cat(\"i: \", i, \"\\n\");\n",
    "}\n",
    "```"
   ]
  },
  {
   "cell_type": "code",
   "execution_count": null,
   "id": "d047f0f3",
   "metadata": {},
   "outputs": [],
   "source": [
    "for(i in 1:10)\n",
    "{\n",
    "   cat(\"i: \", i, \"\\n\");\n",
    "}"
   ]
  },
  {
   "cell_type": "markdown",
   "id": "c5f69e7e",
   "metadata": {},
   "source": [
    "### Wybrane funkcje wejścia/wyjścia:\n",
    "- `read.table` - wczytywanie danych tabelarycznych z plików tekstowych\n",
    "- `write.table` - zapis danych tabelarycznych do plików tekstowych"
   ]
  },
  {
   "cell_type": "code",
   "execution_count": null,
   "id": "db285657",
   "metadata": {},
   "outputs": [],
   "source": []
  }
 ],
 "metadata": {
  "kernelspec": {
   "display_name": "R",
   "language": "R",
   "name": "ir"
  },
  "language_info": {
   "codemirror_mode": "r",
   "file_extension": ".r",
   "mimetype": "text/x-r-source",
   "name": "R",
   "pygments_lexer": "r",
   "version": "4.1.3"
  }
 },
 "nbformat": 4,
 "nbformat_minor": 5
}
