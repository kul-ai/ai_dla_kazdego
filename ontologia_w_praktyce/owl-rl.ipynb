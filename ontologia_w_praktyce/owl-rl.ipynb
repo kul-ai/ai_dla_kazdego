{
 "cells": [
  {
   "cell_type": "markdown",
   "metadata": {},
   "source": [
    "# OWL-RL\n",
    "\n",
    "\n",
    "\n",
    "Pizza Ontology tutorial\n",
    "- http://owl.cs.manchester.ac.uk/publications/talks-and-tutorials/protg-owl-tutorial/\n",
    "\n",
    "\n",
    "Manchester Family History Advanced OWL Tutorial:\n",
    "\n",
    "- http://owl.cs.manchester.ac.uk/publications/talks-and-tutorials/fhkbtutorial/\n"
   ]
  },
  {
   "cell_type": "markdown",
   "metadata": {},
   "source": [
    "## Pizza i RDFLib"
   ]
  },
  {
   "cell_type": "code",
   "execution_count": 85,
   "metadata": {},
   "outputs": [],
   "source": [
    "import rdflib\n",
    "from rdflib import Graph"
   ]
  },
  {
   "cell_type": "code",
   "execution_count": 86,
   "metadata": {},
   "outputs": [
    {
     "data": {
      "text/plain": [
       "1944"
      ]
     },
     "execution_count": 86,
     "metadata": {},
     "output_type": "execute_result"
    }
   ],
   "source": [
    "pizza = Graph()\n",
    "pizza.load(\"https://protege.stanford.edu/ontologies/pizza/pizza.owl\", format=\"xml\")\n",
    "len(pizza)"
   ]
  },
  {
   "cell_type": "code",
   "execution_count": 89,
   "metadata": {},
   "outputs": [
    {
     "name": "stdout",
     "output_type": "stream",
     "text": [
      "http://www.co-ode.org/ontologies/pizza/pizza.owl#NamedPizza\n"
     ]
    }
   ],
   "source": [
    "qres = pizza.query(\n",
    "    \"\"\"\n",
    "    PREFIX owl: <http://www.w3.org/2002/07/owl#>\n",
    "    PREFIX xsd: <http://www.w3.org/2001/XMLSchema#>\n",
    "    PREFIX rdfs: <http://www.w3.org/2000/01/rdf-schema#>\n",
    "    PREFIX rdf: <http://www.w3.org/1999/02/22-rdf-syntax-ns#>\n",
    "    PREFIX skos: <http://www.w3.org/2004/02/skos/core#>\n",
    "    PREFIX pizza: <http://www.co-ode.org/ontologies/pizza/pizza.owl#>\n",
    "    SELECT *\n",
    "        WHERE {pizza:FruttiDiMare rdfs:subClassOf ?parent .\n",
    "               FILTER (!isBlank(?parent))\n",
    "        }\n",
    "        \"\"\")\n",
    "\n",
    "for row in qres:\n",
    "    print(\"%s\" % row)"
   ]
  },
  {
   "cell_type": "markdown",
   "metadata": {},
   "source": [
    "## O OWL-RL"
   ]
  },
  {
   "cell_type": "code",
   "execution_count": 84,
   "metadata": {},
   "outputs": [],
   "source": [
    "!pip install owlrl"
   ]
  },
  {
   "cell_type": "code",
   "execution_count": 92,
   "metadata": {},
   "outputs": [
    {
     "data": {
      "text/plain": [
       "13642"
      ]
     },
     "execution_count": 92,
     "metadata": {},
     "output_type": "execute_result"
    }
   ],
   "source": [
    "import owlrl\n",
    "from owlrl import DeductiveClosure\n",
    "from owlrl.OWLRL import OWLRL_Semantics\n",
    "from owlrl.OWLRLExtras import OWLRL_Extension\n",
    "\n",
    "pizza_expanded = Graph()\n",
    "pizza_expanded += pizza\n",
    "DeductiveClosure(OWLRL_Semantics, axiomatic_triples=True).expand(pizza_expanded)\n",
    "len(pizza_expanded)"
   ]
  },
  {
   "cell_type": "code",
   "execution_count": 91,
   "metadata": {},
   "outputs": [
    {
     "name": "stdout",
     "output_type": "stream",
     "text": [
      "http://www.co-ode.org/ontologies/pizza/pizza.owl#NamedPizza\n",
      "http://www.co-ode.org/ontologies/pizza/pizza.owl#DomainConcept\n",
      "http://www.co-ode.org/ontologies/pizza/pizza.owl#FruttiDiMare\n",
      "http://www.co-ode.org/ontologies/pizza/pizza.owl#Pizza\n",
      "http://www.co-ode.org/ontologies/pizza/pizza.owl#Food\n",
      "http://www.w3.org/2002/07/owl#Thing\n",
      "http://www.w3.org/2000/01/rdf-schema#Resource\n"
     ]
    }
   ],
   "source": [
    "qres = pizza_expanded.query(\n",
    "    \"\"\"\n",
    "    PREFIX owl: <http://www.w3.org/2002/07/owl#>\n",
    "    PREFIX xsd: <http://www.w3.org/2001/XMLSchema#>\n",
    "    PREFIX rdfs: <http://www.w3.org/2000/01/rdf-schema#>\n",
    "    PREFIX rdf: <http://www.w3.org/1999/02/22-rdf-syntax-ns#>\n",
    "    PREFIX skos: <http://www.w3.org/2004/02/skos/core#>\n",
    "    PREFIX pizza: <http://www.co-ode.org/ontologies/pizza/pizza.owl#>\n",
    "    SELECT *\n",
    "        WHERE {pizza:FruttiDiMare rdfs:subClassOf ?parent .\n",
    "               FILTER (!isBlank(?parent))\n",
    "        }\n",
    "        \"\"\")\n",
    "\n",
    "for row in qres:\n",
    "    print(\"%s\" % row)"
   ]
  },
  {
   "cell_type": "code",
   "execution_count": 93,
   "metadata": {},
   "outputs": [
    {
     "data": {
      "text/plain": [
       "14678"
      ]
     },
     "execution_count": 93,
     "metadata": {},
     "output_type": "execute_result"
    }
   ],
   "source": [
    "pizza_expanded2 = Graph()\n",
    "pizza_expanded2 += pizza_expanded\n",
    "DeductiveClosure(OWLRL_Extension).expand(pizza_expanded2)\n",
    "len(pizza_expanded2)"
   ]
  },
  {
   "cell_type": "markdown",
   "metadata": {},
   "source": [
    "## FHKB"
   ]
  },
  {
   "cell_type": "code",
   "execution_count": 95,
   "metadata": {},
   "outputs": [
    {
     "data": {
      "text/plain": [
       "1320"
      ]
     },
     "execution_count": 95,
     "metadata": {},
     "output_type": "execute_result"
    }
   ],
   "source": [
    "fhkb = Graph()\n",
    "fhkb.parse(\"http://mowl-power.cs.man.ac.uk/fhkbtutorial/ontology/fhkb.owl\", format='xml')\n",
    "len(fhkb)"
   ]
  },
  {
   "cell_type": "code",
   "execution_count": 97,
   "metadata": {},
   "outputs": [
    {
     "name": "stdout",
     "output_type": "stream",
     "text": [
      "- hasFirstGivenName *** Clare\n",
      "- hasMother *** http://mowl-power.cs.man.ac.uk/fhkbtutorial/ontology/fhkb_chapter_3.owl#Diana_Pool\n",
      "- hasBirthYear *** 1966\n",
      "- hasFamilyName *** Bright\n",
      "- type *** http://www.w3.org/2002/07/owl#NamedIndividual\n",
      "- hasFather *** http://mowl-power.cs.man.ac.uk/fhkbtutorial/ontology/fhkb_chapter_3.owl#Peter_William_Bright_1941\n"
     ]
    }
   ],
   "source": [
    "qres = fhkb.query(\n",
    "    \"\"\"\n",
    "    PREFIX owl: <http://www.w3.org/2002/07/owl#>\n",
    "    PREFIX xsd: <http://www.w3.org/2001/XMLSchema#>\n",
    "    PREFIX rdfs: <http://www.w3.org/2000/01/rdf-schema#>\n",
    "    PREFIX rdf: <http://www.w3.org/1999/02/22-rdf-syntax-ns#>\n",
    "    PREFIX skos: <http://www.w3.org/2004/02/skos/core#>\n",
    "    PREFIX fhkb_chapter_3: <http://mowl-power.cs.man.ac.uk/fhkbtutorial/ontology/fhkb_chapter_3.owl#>\n",
    "    SELECT (strafter(str(?relation),\"#\") as ?r) ?value\n",
    "        WHERE {fhkb_chapter_3:Clare_Bright_1966 ?relation ?value .\n",
    "        }\n",
    "        \"\"\")\n",
    "\n",
    "for row in qres:\n",
    "    print(\"-\", str(row[0]), \"***\",  str(row[1]))"
   ]
  },
  {
   "cell_type": "code",
   "execution_count": 98,
   "metadata": {},
   "outputs": [
    {
     "data": {
      "text/plain": [
       "9610"
      ]
     },
     "execution_count": 98,
     "metadata": {},
     "output_type": "execute_result"
    }
   ],
   "source": [
    "fhkb_expanded = Graph()\n",
    "fhkb_expanded += fhkb\n",
    "DeductiveClosure(OWLRL_Semantics).expand(fhkb_expanded)\n",
    "len(fhkb_expanded)"
   ]
  },
  {
   "cell_type": "code",
   "execution_count": 100,
   "metadata": {},
   "outputs": [
    {
     "name": "stdout",
     "output_type": "stream",
     "text": [
      "- isFirstCousinOnceRemovedOf *** http://mowl-power.cs.man.ac.uk/fhkbtutorial/ontology/fhkb_chapter_3.owl#Peter_William_Bright_1941\n",
      "- isBloodrelationOf *** http://mowl-power.cs.man.ac.uk/fhkbtutorial/ontology/fhkb_chapter_3.owl#William_Bright_1970\n",
      "- hasEventYear *** 1966\n",
      "- isChildOf *** http://mowl-power.cs.man.ac.uk/fhkbtutorial/ontology/fhkb_chapter_3.owl#Diana_Pool\n",
      "- hasGivenName *** Clare\n",
      "- type *** http://www.w3.org/2002/07/owl#NamedIndividual\n",
      "- isFirstCousinOf *** http://mowl-power.cs.man.ac.uk/fhkbtutorial/ontology/fhkb_chapter_3.owl#Clare_Bright_1966\n",
      "- type *** http://mowl-power.cs.man.ac.uk/fhkbtutorial/ontology/fhkb_chapter_5.owl#Descendent\n",
      "- isBloodrelationOf *** http://mowl-power.cs.man.ac.uk/fhkbtutorial/ontology/fhkb_chapter_3.owl#Robert_David_Bright_1965\n",
      "- isBloodrelationOf *** http://mowl-power.cs.man.ac.uk/fhkbtutorial/ontology/fhkb_chapter_3.owl#Richard_John_Bright_1962\n",
      "- isCousinOf *** http://mowl-power.cs.man.ac.uk/fhkbtutorial/ontology/fhkb_chapter_3.owl#Janet_Bright_1964\n",
      "- isCousinOf *** http://mowl-power.cs.man.ac.uk/fhkbtutorial/ontology/fhkb_chapter_3.owl#James_Bright_1964\n",
      "- isFirstCousinOnceRemovedOf *** http://mowl-power.cs.man.ac.uk/fhkbtutorial/ontology/fhkb_chapter_3.owl#David_Bright_1934\n",
      "- isSecondCousinOf *** http://mowl-power.cs.man.ac.uk/fhkbtutorial/ontology/fhkb_chapter_3.owl#William_Bright_1970\n",
      "- hasAuntInLaw *** http://mowl-power.cs.man.ac.uk/fhkbtutorial/ontology/fhkb_chapter_3.owl#Margaret_Grace_Rever_1934\n",
      "- type *** http://mowl-power.cs.man.ac.uk/fhkbtutorial/ontology/fhkb_chapter_10.owl#In-law\n",
      "- isBloodrelationOf *** http://mowl-power.cs.man.ac.uk/fhkbtutorial/ontology/fhkb_chapter_3.owl#Clare_Bright_1966\n",
      "- isBloodrelationOf *** http://mowl-power.cs.man.ac.uk/fhkbtutorial/ontology/fhkb_chapter_3.owl#Peter_William_Bright_1941\n",
      "- hasAncestor *** http://mowl-power.cs.man.ac.uk/fhkbtutorial/ontology/fhkb_chapter_3.owl#Henry_Edmund_Bright_1862\n",
      "- isFirstCousinOf *** http://mowl-power.cs.man.ac.uk/fhkbtutorial/ontology/fhkb_chapter_3.owl#William_Bright_1970\n",
      "- hasFirstGivenName *** Clare\n",
      "- hasAncestor *** http://mowl-power.cs.man.ac.uk/fhkbtutorial/ontology/fhkb_chapter_3.owl#Iris_Ellen_Archer_1906\n",
      "- type *** http://mowl-power.cs.man.ac.uk/fhkbtutorial/ontology/fhkb_chapter_10.owl#Relation\n",
      "- hasRelation *** http://mowl-power.cs.man.ac.uk/fhkbtutorial/ontology/fhkb_chapter_3.owl#Clare_Bright_1966\n",
      "- isSecondCousinOf *** http://mowl-power.cs.man.ac.uk/fhkbtutorial/ontology/fhkb_chapter_3.owl#Janet_Bright_1964\n",
      "- type *** http://mowl-power.cs.man.ac.uk/fhkbtutorial/ontology/fhkb_chapter_10.owl#BloodRelation\n",
      "- hasRelation *** http://mowl-power.cs.man.ac.uk/fhkbtutorial/ontology/fhkb_chapter_3.owl#Iris_Ellen_Archer_1906\n",
      "- isCousinOf *** http://mowl-power.cs.man.ac.uk/fhkbtutorial/ontology/fhkb_chapter_3.owl#William_Bright_1970\n",
      "- isFirstCousinOf *** http://mowl-power.cs.man.ac.uk/fhkbtutorial/ontology/fhkb_chapter_3.owl#Ian_Bright_1959\n",
      "- isCousinOf *** http://mowl-power.cs.man.ac.uk/fhkbtutorial/ontology/fhkb_chapter_3.owl#David_Bright_1934\n",
      "- hasRelation *** http://mowl-power.cs.man.ac.uk/fhkbtutorial/ontology/fhkb_chapter_3.owl#Henry_Edmund_Bright_1862\n",
      "- isFirstCousinOf *** http://mowl-power.cs.man.ac.uk/fhkbtutorial/ontology/fhkb_chapter_3.owl#James_Bright_1964\n",
      "- hasRelation *** http://mowl-power.cs.man.ac.uk/fhkbtutorial/ontology/fhkb_chapter_3.owl#Peter_William_Bright_1941\n",
      "- hasRelation *** http://mowl-power.cs.man.ac.uk/fhkbtutorial/ontology/fhkb_chapter_3.owl#Richard_John_Bright_1962\n",
      "- hasRelation *** http://mowl-power.cs.man.ac.uk/fhkbtutorial/ontology/fhkb_chapter_3.owl#Robert_David_Bright_1965\n",
      "- hasGrandparent *** http://mowl-power.cs.man.ac.uk/fhkbtutorial/ontology/fhkb_chapter_3.owl#Iris_Ellen_Archer_1906\n",
      "- hasAncestor *** http://mowl-power.cs.man.ac.uk/fhkbtutorial/ontology/fhkb_chapter_3.owl#William_George_Bright_1901\n",
      "- isCousinOf *** http://mowl-power.cs.man.ac.uk/fhkbtutorial/ontology/fhkb_chapter_3.owl#Clare_Bright_1966\n",
      "- hasRelation *** http://mowl-power.cs.man.ac.uk/fhkbtutorial/ontology/fhkb_chapter_3.owl#William_George_Bright_1901\n",
      "- hasAncestor *** http://mowl-power.cs.man.ac.uk/fhkbtutorial/ontology/fhkb_chapter_3.owl#Peter_William_Bright_1941\n",
      "- isSecondCousinOf *** http://mowl-power.cs.man.ac.uk/fhkbtutorial/ontology/fhkb_chapter_3.owl#Julie_Bright_1966\n",
      "- hasName *** Bright\n",
      "- hasUncle *** http://mowl-power.cs.man.ac.uk/fhkbtutorial/ontology/fhkb_chapter_3.owl#David_Bright_1934\n",
      "- isFirstCousinOf *** http://mowl-power.cs.man.ac.uk/fhkbtutorial/ontology/fhkb_chapter_3.owl#Janet_Bright_1964\n",
      "- hasMother *** http://mowl-power.cs.man.ac.uk/fhkbtutorial/ontology/fhkb_chapter_3.owl#Diana_Pool\n",
      "- type *** http://mowl-power.cs.man.ac.uk/fhkbtutorial/ontology/fhkb_chapter_2.owl#DomainEntity\n",
      "- hasRelation *** http://mowl-power.cs.man.ac.uk/fhkbtutorial/ontology/fhkb_chapter_3.owl#John_Bright_1930\n",
      "- hasForefather *** http://mowl-power.cs.man.ac.uk/fhkbtutorial/ontology/fhkb_chapter_3.owl#William_George_Bright_1901\n",
      "- sameAs *** http://mowl-power.cs.man.ac.uk/fhkbtutorial/ontology/fhkb_chapter_3.owl#Clare_Bright_1966\n",
      "- hasGrandparent *** http://mowl-power.cs.man.ac.uk/fhkbtutorial/ontology/fhkb_chapter_3.owl#William_George_Bright_1901\n",
      "- isCousinOf *** http://mowl-power.cs.man.ac.uk/fhkbtutorial/ontology/fhkb_chapter_3.owl#Ian_Bright_1959\n",
      "- isSiblingOf *** http://mowl-power.cs.man.ac.uk/fhkbtutorial/ontology/fhkb_chapter_3.owl#James_Bright_1964\n",
      "- type *** http://mowl-power.cs.man.ac.uk/fhkbtutorial/ontology/fhkb_chapter_8.owl#FirstCousin\n",
      "- isCousinOf *** http://mowl-power.cs.man.ac.uk/fhkbtutorial/ontology/fhkb_chapter_3.owl#Peter_William_Bright_1941\n",
      "- isBloodrelationOf *** http://mowl-power.cs.man.ac.uk/fhkbtutorial/ontology/fhkb_chapter_3.owl#Julie_Bright_1966\n",
      "- hasRelation *** http://mowl-power.cs.man.ac.uk/fhkbtutorial/ontology/fhkb_chapter_3.owl#Mark_Bright_1956\n",
      "- hasParent *** http://mowl-power.cs.man.ac.uk/fhkbtutorial/ontology/fhkb_chapter_3.owl#Diana_Pool\n",
      "- isInLawOf *** http://mowl-power.cs.man.ac.uk/fhkbtutorial/ontology/fhkb_chapter_3.owl#Margaret_Grace_Rever_1934\n",
      "- hasRelation *** http://mowl-power.cs.man.ac.uk/fhkbtutorial/ontology/fhkb_chapter_3.owl#Ian_Bright_1959\n",
      "- isSecondCousinOf *** http://mowl-power.cs.man.ac.uk/fhkbtutorial/ontology/fhkb_chapter_3.owl#Ian_Bright_1959\n",
      "- isBloodrelationOf *** http://mowl-power.cs.man.ac.uk/fhkbtutorial/ontology/fhkb_chapter_3.owl#David_Bright_1934\n",
      "- hasBirthYear *** 1966\n",
      "- isSecondCousinOf *** http://mowl-power.cs.man.ac.uk/fhkbtutorial/ontology/fhkb_chapter_3.owl#Mark_Bright_1956\n",
      "- isBloodrelationOf *** http://mowl-power.cs.man.ac.uk/fhkbtutorial/ontology/fhkb_chapter_3.owl#John_Bright_1930\n",
      "- hasAncestor *** http://mowl-power.cs.man.ac.uk/fhkbtutorial/ontology/fhkb_chapter_3.owl#Diana_Pool\n",
      "- hasRelation *** http://mowl-power.cs.man.ac.uk/fhkbtutorial/ontology/fhkb_chapter_3.owl#David_Bright_1934\n",
      "- type *** http://mowl-power.cs.man.ac.uk/fhkbtutorial/ontology/fhkb_chapter_10.owl#Child\n",
      "- isFirstCousinOf *** http://mowl-power.cs.man.ac.uk/fhkbtutorial/ontology/fhkb_chapter_3.owl#Robert_David_Bright_1965\n",
      "- isFirstCousinOf *** http://mowl-power.cs.man.ac.uk/fhkbtutorial/ontology/fhkb_chapter_3.owl#Richard_John_Bright_1962\n",
      "- isBloodrelationOf *** http://mowl-power.cs.man.ac.uk/fhkbtutorial/ontology/fhkb_chapter_3.owl#Mark_Bright_1956\n",
      "- hasFamilyName *** Bright\n",
      "- isBloodrelationOf *** http://mowl-power.cs.man.ac.uk/fhkbtutorial/ontology/fhkb_chapter_3.owl#Ian_Bright_1959\n",
      "- hasFather *** http://mowl-power.cs.man.ac.uk/fhkbtutorial/ontology/fhkb_chapter_3.owl#Peter_William_Bright_1941\n",
      "- hasParent *** http://mowl-power.cs.man.ac.uk/fhkbtutorial/ontology/fhkb_chapter_3.owl#Peter_William_Bright_1941\n",
      "- isFirstCousinOf *** http://mowl-power.cs.man.ac.uk/fhkbtutorial/ontology/fhkb_chapter_3.owl#Mark_Bright_1956\n",
      "- isSiblingOf *** http://mowl-power.cs.man.ac.uk/fhkbtutorial/ontology/fhkb_chapter_3.owl#Clare_Bright_1966\n",
      "- isChildOf *** http://mowl-power.cs.man.ac.uk/fhkbtutorial/ontology/fhkb_chapter_3.owl#Peter_William_Bright_1941\n",
      "- hasAncestor *** http://mowl-power.cs.man.ac.uk/fhkbtutorial/ontology/fhkb_chapter_3.owl#James_Alexander_Archer_1882\n",
      "- hasRelation *** http://mowl-power.cs.man.ac.uk/fhkbtutorial/ontology/fhkb_chapter_3.owl#Julie_Bright_1966\n",
      "- type *** http://www.w3.org/2002/07/owl#Thing\n",
      "- hasRelation *** http://mowl-power.cs.man.ac.uk/fhkbtutorial/ontology/fhkb_chapter_3.owl#Janet_Bright_1964\n",
      "- isSecondCousinOf *** http://mowl-power.cs.man.ac.uk/fhkbtutorial/ontology/fhkb_chapter_3.owl#Clare_Bright_1966\n",
      "- hasName *** Clare\n",
      "- isCousinOf *** http://mowl-power.cs.man.ac.uk/fhkbtutorial/ontology/fhkb_chapter_3.owl#John_Bright_1930\n",
      "- isSecondCousinOf *** http://mowl-power.cs.man.ac.uk/fhkbtutorial/ontology/fhkb_chapter_3.owl#Robert_David_Bright_1965\n",
      "- hasRelation *** http://mowl-power.cs.man.ac.uk/fhkbtutorial/ontology/fhkb_chapter_3.owl#Violet_Heath_1887\n",
      "- isFirstCousinOf *** http://mowl-power.cs.man.ac.uk/fhkbtutorial/ontology/fhkb_chapter_3.owl#Julie_Bright_1966\n",
      "- isSecondCousinOf *** http://mowl-power.cs.man.ac.uk/fhkbtutorial/ontology/fhkb_chapter_3.owl#Richard_John_Bright_1962\n",
      "- type *** http://mowl-power.cs.man.ac.uk/fhkbtutorial/ontology/fhkb_chapter_10.owl#FirstCousinOnceRemoved\n",
      "- hasRelation *** http://mowl-power.cs.man.ac.uk/fhkbtutorial/ontology/fhkb_chapter_3.owl#Diana_Pool\n",
      "- isCousinOf *** http://mowl-power.cs.man.ac.uk/fhkbtutorial/ontology/fhkb_chapter_3.owl#Julie_Bright_1966\n",
      "- hasRelation *** http://mowl-power.cs.man.ac.uk/fhkbtutorial/ontology/fhkb_chapter_3.owl#Charlotte_Hewett_1863\n",
      "- hasAncestor *** http://mowl-power.cs.man.ac.uk/fhkbtutorial/ontology/fhkb_chapter_3.owl#Charlotte_Hewett_1863\n",
      "- isFirstCousinOnceRemovedOf *** http://mowl-power.cs.man.ac.uk/fhkbtutorial/ontology/fhkb_chapter_3.owl#John_Bright_1930\n",
      "- hasAncestor *** http://mowl-power.cs.man.ac.uk/fhkbtutorial/ontology/fhkb_chapter_3.owl#Violet_Heath_1887\n",
      "- hasRelation *** http://mowl-power.cs.man.ac.uk/fhkbtutorial/ontology/fhkb_chapter_3.owl#William_Bright_1970\n",
      "- type *** http://mowl-power.cs.man.ac.uk/fhkbtutorial/ontology/fhkb_chapter_10.owl#FirstCousin\n",
      "- isBloodrelationOf *** http://mowl-power.cs.man.ac.uk/fhkbtutorial/ontology/fhkb_chapter_3.owl#James_Bright_1964\n",
      "- type *** http://mowl-power.cs.man.ac.uk/fhkbtutorial/ontology/fhkb_chapter_2.owl#Person\n",
      "- isCousinOf *** http://mowl-power.cs.man.ac.uk/fhkbtutorial/ontology/fhkb_chapter_3.owl#Mark_Bright_1956\n",
      "- isCousinOf *** http://mowl-power.cs.man.ac.uk/fhkbtutorial/ontology/fhkb_chapter_3.owl#Richard_John_Bright_1962\n",
      "- isCousinOf *** http://mowl-power.cs.man.ac.uk/fhkbtutorial/ontology/fhkb_chapter_3.owl#Robert_David_Bright_1965\n",
      "- isBloodrelationOf *** http://mowl-power.cs.man.ac.uk/fhkbtutorial/ontology/fhkb_chapter_3.owl#Janet_Bright_1964\n",
      "- isSiblingOf *** http://mowl-power.cs.man.ac.uk/fhkbtutorial/ontology/fhkb_chapter_3.owl#Julie_Bright_1966\n",
      "- hasRelation *** http://mowl-power.cs.man.ac.uk/fhkbtutorial/ontology/fhkb_chapter_3.owl#James_Alexander_Archer_1882\n",
      "- type *** http://mowl-power.cs.man.ac.uk/fhkbtutorial/ontology/fhkb_chapter_10.owl#SecondCousin\n",
      "- isSecondCousinOf *** http://mowl-power.cs.man.ac.uk/fhkbtutorial/ontology/fhkb_chapter_3.owl#James_Bright_1964\n",
      "- hasRelation *** http://mowl-power.cs.man.ac.uk/fhkbtutorial/ontology/fhkb_chapter_3.owl#James_Bright_1964\n",
      "- hasRelation *** http://mowl-power.cs.man.ac.uk/fhkbtutorial/ontology/fhkb_chapter_3.owl#Margaret_Grace_Rever_1934\n"
     ]
    }
   ],
   "source": [
    "qres = fhkb_expanded.query(\n",
    "    \"\"\"\n",
    "    PREFIX owl: <http://www.w3.org/2002/07/owl#>\n",
    "    PREFIX xsd: <http://www.w3.org/2001/XMLSchema#>\n",
    "    PREFIX rdfs: <http://www.w3.org/2000/01/rdf-schema#>\n",
    "    PREFIX rdf: <http://www.w3.org/1999/02/22-rdf-syntax-ns#>\n",
    "    PREFIX skos: <http://www.w3.org/2004/02/skos/core#>\n",
    "    PREFIX fhkb_chapter_3: <http://mowl-power.cs.man.ac.uk/fhkbtutorial/ontology/fhkb_chapter_3.owl#>\n",
    "    SELECT (strafter(str(?relation),\"#\") as ?r) ?value\n",
    "        WHERE {fhkb_chapter_3:Clare_Bright_1966 ?relation ?value .\n",
    "        FILTER (!isBlank(?value))\n",
    "        }\n",
    "        \"\"\")\n",
    "\n",
    "for row in qres:\n",
    "    print(\"-\", str(row[0]), \"***\",  str(row[1]))"
   ]
  },
  {
   "cell_type": "code",
   "execution_count": null,
   "metadata": {},
   "outputs": [],
   "source": []
  }
 ],
 "metadata": {
  "kernelspec": {
   "display_name": "Python 3",
   "language": "python",
   "name": "python3"
  },
  "language_info": {
   "codemirror_mode": {
    "name": "ipython",
    "version": 3
   },
   "file_extension": ".py",
   "mimetype": "text/x-python",
   "name": "python",
   "nbconvert_exporter": "python",
   "pygments_lexer": "ipython3",
   "version": "3.7.6"
  }
 },
 "nbformat": 4,
 "nbformat_minor": 4
}
