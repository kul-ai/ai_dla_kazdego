{
 "cells": [
  {
   "cell_type": "markdown",
   "metadata": {},
   "source": [
    "# SHACL\n",
    "\n",
    "- SHACL = Shapes Constraint Language\n",
    "- język do opisu i walidacji grafów RDF\n",
    "- https://www.w3.org/TR/shacl/"
   ]
  },
  {
   "cell_type": "markdown",
   "metadata": {},
   "source": [
    "## Przykład\n",
    "\n",
    "zob. https://www.w3.org/TR/shacl/#shacl-example\n"
   ]
  },
  {
   "cell_type": "markdown",
   "metadata": {},
   "source": [
    "## pySHACL\n",
    "\n",
    "\n",
    "A Python validator for SHACL.\n",
    "\n",
    "https://github.com/RDFLib/pySHACL"
   ]
  },
  {
   "cell_type": "markdown",
   "metadata": {},
   "source": [
    "## Python Module Use\n",
    "For basic use of this module, you can just call the `validate` function of the `pyshacl` module like this:\n",
    "\n",
    "```python\n",
    "from pyshacl import validate\n",
    "r = validate(data_graph,\n",
    "      shacl_graph=sg,\n",
    "      ont_graph=og,\n",
    "      inference='rdfs',\n",
    "      abort_on_error=False,\n",
    "      meta_shacl=False,\n",
    "      advanced=False,\n",
    "      js=False,\n",
    "      debug=False)\n",
    "conforms, results_graph, results_text = r\n",
    "```\n",
    "\n",
    "Where:\n",
    "* `data_graph` is an rdflib `Graph` object or file path of the graph to be validated\n",
    "* `shacl_graph` is an rdflib `Graph` object or file path or Web URL of the graph containing the SHACL shapes to validate with, or None if the SHACL shapes are included in the data_graph.\n",
    "* `ont_graph` is an rdflib `Graph` object or file path or Web URL a graph containing extra ontological information, or None if not required.\n",
    "* `inference` is a Python string value to indicate whether or not to perform OWL inferencing expansion of the `data_graph` before validation.\n",
    "Options are 'rdfs', 'owlrl', 'both', or 'none'. The default is 'none'.\n",
    "* `abort_on_error` (optional) a Python `bool` value to indicate whether or not the program should abort after encountering a validation error or to continue. Default is to continue.\n",
    "* `meta_shacl` (optional) a Python `bool` value to indicate whether or not the program should enable the Meta-SHACL feature. Default is False.\n",
    "* `advanced`: (optional) a Python `bool` value to enable SHACL Advanced Features\n",
    "* `js`: (optional) a Python `bool` value to enable SHACL-JS Features (if `pyshacl[js]` is installed)\n",
    "* `debug` (optional) a Python `bool` value to indicate whether or not the program should emit debugging output text, including violations that didn't lead to non-conformance overall. So when debug is True don't judge conformance by absense of violation messages. Default is False.\n",
    "\n",
    "Some other optional keyword variables available available on the `validate` function:\n",
    "* `data_graph_format`: Override the format detection for the given data graph source file.\n",
    "* `shacl_graph_format`: Override the format detection for the given shacl graph source file.\n",
    "* `ont_graph_format`: Override the format detection for the given extra ontology graph source file.\n",
    "* `do_owl_imports`: Enable the feature to allow the import of subgraphs using `owl:imports` for the shapes graph and the ontology graph. Note, you explicitly cannot use this on the target data graph.\n",
    "* `serialize_report_graph`: Convert the report results_graph into a serialised representation (for example, 'turtle')\n",
    "* `check_dash_result`: Check the validation result against the given expected DASH test suite result.\n",
    "* `check_sht_result`: Check the validation result against the given expected SHT test suite result.\n",
    "\n",
    "Return value:\n",
    "* a three-component `tuple` containing:\n",
    "  * `conforms`: a `bool`, indicating whether or not the `data_graph` conforms to the `shacl_graph`\n",
    "  * `results_graph`: a `Graph` object built according to the SHACL specification's [Validation Report](https://www.w3.org/TR/shacl/#validation-report) structure\n",
    "  * `results_text`: python string representing a verbose textual representation of the [Validation Report](https://www.w3.org/TR/shacl/#validation-report)\n"
   ]
  },
  {
   "cell_type": "code",
   "execution_count": 83,
   "metadata": {},
   "outputs": [],
   "source": [
    "# !pip install pyshacl"
   ]
  },
  {
   "cell_type": "code",
   "execution_count": 3,
   "metadata": {},
   "outputs": [],
   "source": [
    "from pyld import jsonld\n",
    "import json\n",
    "from rdflib.namespace import SKOS, DCTERMS, DC\n",
    "from rdflib import Graph, plugin\n",
    "from rdflib.serializer import Serializer\n",
    "import pyshacl\n",
    "from pyshacl import validate"
   ]
  },
  {
   "cell_type": "code",
   "execution_count": 6,
   "metadata": {},
   "outputs": [
    {
     "name": "stdout",
     "output_type": "stream",
     "text": [
      "1901\n",
      "148\n"
     ]
    }
   ],
   "source": [
    "g = Graph()\n",
    "g.parse(\"https://spec.edmcouncil.org/fibo/ontology/master/latest/FBC/FunctionalEntities/NorthAmericanEntities/USExampleIndividuals/\")\n",
    "print(len(g))\n",
    "og = Graph()\n",
    "og.load(\"https://spec.edmcouncil.org/fibo/ontology/master/latest/BE/LegalEntities/CorporateBodies.rdf\")\n",
    "print(len(og))\n",
    "# g += og\n",
    "# print(len(g))"
   ]
  },
  {
   "cell_type": "code",
   "execution_count": 22,
   "metadata": {},
   "outputs": [],
   "source": [
    "shacl_shapes = '''\n",
    "@prefix dcterms: <http://purl.org/dc/terms/> .\n",
    "@prefix rts: <http://ontology.roche.com/> .\n",
    "@prefix sh:\t<http://www.w3.org/ns/shacl#>.\n",
    "@prefix skos: <http://www.w3.org/2004/02/skos/core#> .\n",
    "@prefix xsd: <http://www.w3.org/2001/XMLSchema#> .\n",
    "@prefix fibo-be-le-cb: <https://spec.edmcouncil.org/fibo/ontology/BE/LegalEntities/CorporateBodies/> .\n",
    "@prefix fibo-fnd-rel-rel: <https://spec.edmcouncil.org/fibo/ontology/FND/Relations/Relations/> .\n",
    "@prefix fibo-be-le-lp: <https://spec.edmcouncil.org/fibo/ontology/BE/LegalEntities/LegalPersons/> .\n",
    "@prefix fibo-be-le-lei: <https://spec.edmcouncil.org/fibo/ontology/BE/LegalEntities/LEIEntities/> .\n",
    "@prefix fibo-fnd-plc-adr: <https://spec.edmcouncil.org/fibo/ontology/FND/Places/Addresses/> .\n",
    "\n",
    "fibo-be-le-lp:LegalEntityShape a sh:NodeShape ;\n",
    "    sh:nodeKind sh:IRI ;\n",
    "    sh:targetClass fibo-be-le-cb:ForProfitCorporation ;\n",
    "    sh:property [\n",
    "        sh:path fibo-fnd-rel-rel:hasLegalName ;\n",
    "        sh:minCount 2 ;\n",
    "        sh:datatype xsd:string\n",
    "        ] ;\n",
    "    sh:property [\n",
    "        sh:path fibo-be-le-lei:hasLegalAddress ;\n",
    "        sh:minCount 1 ;\n",
    "        sh:maxCount 1 ;\n",
    "        sh:class fibo-fnd-plc-adr:ConventionalStreetAddress ;\n",
    "        sh:nodeKind sh:IRI ;\n",
    "        ] ;        \n",
    "    sh:closed false .\n",
    "'''"
   ]
  },
  {
   "cell_type": "code",
   "execution_count": 23,
   "metadata": {},
   "outputs": [],
   "source": [
    "sg = Graph().parse(data=shacl_shapes, format=\"ttl\")"
   ]
  },
  {
   "cell_type": "code",
   "execution_count": 9,
   "metadata": {},
   "outputs": [],
   "source": [
    "data_graph = g\n",
    "r = validate(data_graph, \n",
    "             shacl_graph=sg, \n",
    "             ont_graph=og, \n",
    "             inference='both', \n",
    "             abort_on_error=False, \n",
    "             meta_shacl=False, \n",
    "             advanced=False, \n",
    "             js=False, \n",
    "             debug=False)\n",
    "\n",
    "conforms, results_graph, results_text = r\n",
    "\n",
    "# print(results_text)"
   ]
  },
  {
   "cell_type": "code",
   "execution_count": 10,
   "metadata": {},
   "outputs": [
    {
     "name": "stdout",
     "output_type": "stream",
     "text": [
      "False\n"
     ]
    }
   ],
   "source": [
    "print(conforms)"
   ]
  },
  {
   "cell_type": "code",
   "execution_count": 11,
   "metadata": {},
   "outputs": [
    {
     "name": "stdout",
     "output_type": "stream",
     "text": [
      "@prefix fibo-fnd-rel-rel: <https://spec.edmcouncil.org/fibo/ontology/FND/Relations/Relations/> .\n",
      "@prefix sh: <http://www.w3.org/ns/shacl#> .\n",
      "@prefix xsd: <http://www.w3.org/2001/XMLSchema#> .\n",
      "\n",
      "[] a sh:ValidationReport ;\n",
      "    sh:conforms false ;\n",
      "    sh:result [ a sh:ValidationResult ;\n",
      "            sh:focusNode <https://spec.edmcouncil.org/fibo/ontology/FBC/FunctionalEntities/NorthAmericanEntities/USExampleIndividuals/StateStreetCorporation-US-MA> ;\n",
      "            sh:resultMessage \"Less than 2 values on fibo-fbc-fct-usind:StateStreetCorporation-US-MA->fibo-fnd-rel-rel:hasLegalName\" ;\n",
      "            sh:resultPath fibo-fnd-rel-rel:hasLegalName ;\n",
      "            sh:resultSeverity sh:Violation ;\n",
      "            sh:sourceConstraintComponent sh:MinCountConstraintComponent ;\n",
      "            sh:sourceShape _:ub1bL13C17 ],\n",
      "        [ a sh:ValidationResult ;\n",
      "            sh:focusNode <https://spec.edmcouncil.org/fibo/ontology/FBC/FunctionalEntities/NorthAmericanEntities/USExampleIndividuals/WellsFargoAndCompany-US-DE> ;\n",
      "            sh:resultMessage \"Less than 2 values on fibo-fbc-fct-usind:WellsFargoAndCompany-US-DE->fibo-fnd-rel-rel:hasLegalName\" ;\n",
      "            sh:resultPath fibo-fnd-rel-rel:hasLegalName ;\n",
      "            sh:resultSeverity sh:Violation ;\n",
      "            sh:sourceConstraintComponent sh:MinCountConstraintComponent ;\n",
      "            sh:sourceShape _:ub1bL13C17 ],\n",
      "        [ a sh:ValidationResult ;\n",
      "            sh:focusNode <https://spec.edmcouncil.org/fibo/ontology/FBC/FunctionalEntities/NorthAmericanEntities/USExampleIndividuals/CitigroupInc-US-DE> ;\n",
      "            sh:resultMessage \"Less than 2 values on fibo-fbc-fct-usind:CitigroupInc-US-DE->fibo-fnd-rel-rel:hasLegalName\" ;\n",
      "            sh:resultPath fibo-fnd-rel-rel:hasLegalName ;\n",
      "            sh:resultSeverity sh:Violation ;\n",
      "            sh:sourceConstraintComponent sh:MinCountConstraintComponent ;\n",
      "            sh:sourceShape _:ub1bL13C17 ],\n",
      "        [ a sh:ValidationResult ;\n",
      "            sh:focusNode <https://spec.edmcouncil.org/fibo/ontology/FBC/FunctionalEntities/NorthAmericanEntities/USExampleIndividuals/JPMorganChaseAndCo-US-DE> ;\n",
      "            sh:resultMessage \"Less than 2 values on fibo-fbc-fct-usind:JPMorganChaseAndCo-US-DE->fibo-fnd-rel-rel:hasLegalName\" ;\n",
      "            sh:resultPath fibo-fnd-rel-rel:hasLegalName ;\n",
      "            sh:resultSeverity sh:Violation ;\n",
      "            sh:sourceConstraintComponent sh:MinCountConstraintComponent ;\n",
      "            sh:sourceShape _:ub1bL13C17 ],\n",
      "        [ a sh:ValidationResult ;\n",
      "            sh:focusNode <https://spec.edmcouncil.org/fibo/ontology/FBC/FunctionalEntities/NorthAmericanEntities/USExampleIndividuals/BankOfNewYorkMellonCorporation-US-DE> ;\n",
      "            sh:resultMessage \"Less than 2 values on fibo-fbc-fct-usind:BankOfNewYorkMellonCorporation-US-DE->fibo-fnd-rel-rel:hasLegalName\" ;\n",
      "            sh:resultPath fibo-fnd-rel-rel:hasLegalName ;\n",
      "            sh:resultSeverity sh:Violation ;\n",
      "            sh:sourceConstraintComponent sh:MinCountConstraintComponent ;\n",
      "            sh:sourceShape _:ub1bL13C17 ] .\n",
      "\n",
      "_:ub1bL13C17 sh:datatype xsd:string ;\n",
      "    sh:minCount 2 ;\n",
      "    sh:path fibo-fnd-rel-rel:hasLegalName .\n",
      "\n",
      "\n"
     ]
    }
   ],
   "source": [
    "print(results_graph.serialize(format=\"ttl\").decode(\"utf-8\"))"
   ]
  },
  {
   "cell_type": "code",
   "execution_count": 12,
   "metadata": {},
   "outputs": [
    {
     "name": "stdout",
     "output_type": "stream",
     "text": [
      "Validation Report\n",
      "Conforms: False\n",
      "Results (5):\n",
      "Constraint Violation in MinCountConstraintComponent (http://www.w3.org/ns/shacl#MinCountConstraintComponent):\n",
      "\tSeverity: sh:Violation\n",
      "\tSource Shape: [ sh:datatype xsd:string ; sh:minCount Literal(\"2\", datatype=xsd:integer) ; sh:path fibo-fnd-rel-rel:hasLegalName ]\n",
      "\tFocus Node: fibo-fbc-fct-usind:JPMorganChaseAndCo-US-DE\n",
      "\tResult Path: fibo-fnd-rel-rel:hasLegalName\n",
      "\tMessage: Less than 2 values on fibo-fbc-fct-usind:JPMorganChaseAndCo-US-DE->fibo-fnd-rel-rel:hasLegalName\n",
      "Constraint Violation in MinCountConstraintComponent (http://www.w3.org/ns/shacl#MinCountConstraintComponent):\n",
      "\tSeverity: sh:Violation\n",
      "\tSource Shape: [ sh:datatype xsd:string ; sh:minCount Literal(\"2\", datatype=xsd:integer) ; sh:path fibo-fnd-rel-rel:hasLegalName ]\n",
      "\tFocus Node: fibo-fbc-fct-usind:BankOfNewYorkMellonCorporation-US-DE\n",
      "\tResult Path: fibo-fnd-rel-rel:hasLegalName\n",
      "\tMessage: Less than 2 values on fibo-fbc-fct-usind:BankOfNewYorkMellonCorporation-US-DE->fibo-fnd-rel-rel:hasLegalName\n",
      "Constraint Violation in MinCountConstraintComponent (http://www.w3.org/ns/shacl#MinCountConstraintComponent):\n",
      "\tSeverity: sh:Violation\n",
      "\tSource Shape: [ sh:datatype xsd:string ; sh:minCount Literal(\"2\", datatype=xsd:integer) ; sh:path fibo-fnd-rel-rel:hasLegalName ]\n",
      "\tFocus Node: fibo-fbc-fct-usind:CitigroupInc-US-DE\n",
      "\tResult Path: fibo-fnd-rel-rel:hasLegalName\n",
      "\tMessage: Less than 2 values on fibo-fbc-fct-usind:CitigroupInc-US-DE->fibo-fnd-rel-rel:hasLegalName\n",
      "Constraint Violation in MinCountConstraintComponent (http://www.w3.org/ns/shacl#MinCountConstraintComponent):\n",
      "\tSeverity: sh:Violation\n",
      "\tSource Shape: [ sh:datatype xsd:string ; sh:minCount Literal(\"2\", datatype=xsd:integer) ; sh:path fibo-fnd-rel-rel:hasLegalName ]\n",
      "\tFocus Node: fibo-fbc-fct-usind:StateStreetCorporation-US-MA\n",
      "\tResult Path: fibo-fnd-rel-rel:hasLegalName\n",
      "\tMessage: Less than 2 values on fibo-fbc-fct-usind:StateStreetCorporation-US-MA->fibo-fnd-rel-rel:hasLegalName\n",
      "Constraint Violation in MinCountConstraintComponent (http://www.w3.org/ns/shacl#MinCountConstraintComponent):\n",
      "\tSeverity: sh:Violation\n",
      "\tSource Shape: [ sh:datatype xsd:string ; sh:minCount Literal(\"2\", datatype=xsd:integer) ; sh:path fibo-fnd-rel-rel:hasLegalName ]\n",
      "\tFocus Node: fibo-fbc-fct-usind:WellsFargoAndCompany-US-DE\n",
      "\tResult Path: fibo-fnd-rel-rel:hasLegalName\n",
      "\tMessage: Less than 2 values on fibo-fbc-fct-usind:WellsFargoAndCompany-US-DE->fibo-fnd-rel-rel:hasLegalName\n",
      "\n"
     ]
    }
   ],
   "source": [
    "print(results_text)"
   ]
  },
  {
   "cell_type": "code",
   "execution_count": 13,
   "metadata": {},
   "outputs": [],
   "source": [
    "g.bind(\"skos\",SKOS)\n",
    "g.bind(\"dcterms\", DCTERMS)\n",
    "g.bind(\"dc\", DC)\n",
    "results_graph.serialize(\"results_graph.ttl\", format=\"ttl\")"
   ]
  },
  {
   "cell_type": "markdown",
   "metadata": {},
   "source": [
    "## Ćwiczenie"
   ]
  },
  {
   "cell_type": "code",
   "execution_count": null,
   "metadata": {},
   "outputs": [],
   "source": [
    "fibo_onts = [\"https://spec.edmcouncil.org/fibo/ontology/master/latest/BE/LegalEntities/CorporateBodies/\" ,\n",
    "\"https://spec.edmcouncil.org/fibo/ontology/master/latest/BE/Corporations/Corporations/\" ,\n",
    "\"https://spec.edmcouncil.org/fibo/ontology/master/latest/BE/LegalEntities/FormalBusinessOrganizations/\" ,\n",
    "\"https://spec.edmcouncil.org/fibo/ontology/master/latest/BE/LegalEntities/LEIEntities/\" ,\n",
    "\"https://spec.edmcouncil.org/fibo/ontology/master/latest/BE/LegalEntities/LegalPersons/\" ,\n",
    "\"https://spec.edmcouncil.org/fibo/ontology/master/latest/BE/OwnershipAndControl/Executives/\" ,\n",
    "\"https://spec.edmcouncil.org/fibo/ontology/master/latest/BE/OwnershipAndControl/OwnershipParties/\" ,\n",
    "\"https://spec.edmcouncil.org/fibo/ontology/master/latest/BE/OwnershipAndControl/CorporateControl/,\n",
    "\"https://spec.edmcouncil.org/fibo/ontology/master/latest/FBC/FunctionalEntities/FinancialServicesEntities/\" ,\n",
    "\"https://spec.edmcouncil.org/fibo/ontology/master/latest/FBC/FunctionalEntities/BusinessRegistries/\" ,\n",
    "\"https://spec.edmcouncil.org/fibo/ontology/master/latest/FND/Accounting/AccountingEquity/\" ,\n",
    "\"https://spec.edmcouncil.org/fibo/ontology/master/latest/FND/AgentsAndPeople/People/\" ,\n",
    "\"https://spec.edmcouncil.org/fibo/ontology/master/latest/FND/Arrangements/Documents/\" ,\n",
    "\"https://spec.edmcouncil.org/fibo/ontology/master/latest/FND/Arrangements/Ratings/\" ,\n",
    "\"https://spec.edmcouncil.org/fibo/ontology/master/latest/FND/Parties/Parties/\" ,\n",
    "\"https://spec.edmcouncil.org/fibo/ontology/master/latest/FND/Law/Jurisdiction/\" ,\n",
    "\"https://spec.edmcouncil.org/fibo/ontology/master/latest/FND/Parties/Roles/\" ,\n",
    "\"https://spec.edmcouncil.org/fibo/ontology/master/latest/FND/Organizations/FormalOrganizations/,\n",
    "\"https://spec.edmcouncil.org/fibo/ontology/master/latest/FND/Places/Addresses/\" ,\n",
    "\"https://spec.edmcouncil.org/fibo/ontology/master/latest/FND/Places/Locations/\" ,\n",
    "\"https://spec.edmcouncil.org/fibo/ontology/master/latest/FND/DatesAndTimes/FinancialDates/\" ,\n",
    "\"https://spec.edmcouncil.org/fibo/ontology/master/latest/FND/ProductsAndServices/ProductsAndServices/\" ,\n",
    "\"https://spec.edmcouncil.org/fibo/ontology/master/latest/FND/Relations/Relations/\" ,\n",
    "\"https://spec.edmcouncil.org/fibo/ontology/master/latest/FND/TransactionsExt/MarketTransactions/\" ,\n",
    "\"https://spec.edmcouncil.org/fibo/ontology/master/latest/LOAN/LoanContracts/LoanCore/\" ,\n",
    "\"https://spec.edmcouncil.org/fibo/ontology/master/latest/SEC/Securities/SecuritiesListings/\" ,\n",
    "\"https://www.omg.org/spec/LCC/Countries/ISO3166-1-CountryCodes/\" ,\n",
    "\"https://www.omg.org/spec/LCC/Countries/Regions/ISO3166-2-SubdivisionCodes-US/\" ,\n",
    "\"https://www.omg.org/spec/LCC/Languages/LanguageRepresentation/\"]"
   ]
  }
 ],
 "metadata": {
  "kernelspec": {
   "display_name": "Python 3",
   "language": "python",
   "name": "python3"
  },
  "language_info": {
   "codemirror_mode": {
    "name": "ipython",
    "version": 3
   },
   "file_extension": ".py",
   "mimetype": "text/x-python",
   "name": "python",
   "nbconvert_exporter": "python",
   "pygments_lexer": "ipython3",
   "version": "3.7.6"
  }
 },
 "nbformat": 4,
 "nbformat_minor": 4
}
