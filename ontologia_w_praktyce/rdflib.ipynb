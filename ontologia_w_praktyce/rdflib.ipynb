{
 "cells": [
  {
   "cell_type": "markdown",
   "metadata": {
    "id": "poUWVH46HwbO"
   },
   "source": [
    "# Praca z pakietem RDFLib, czyli na początku była trójka\n",
    "\n",
    "\n",
    "## O pakiecie RDFLib\n",
    "  \n",
    "RDFLib to pakiet Pythona przeznaczony do pracy z grafami RDF. Nic dziwnego, że podstawowym obiektem jest tu `Graph`. `Graf` w RDFLib jest zbioram trójek. Można więc na nim wykonywać operacje jak na zwykłych zbiorach, np. `add()`, aby dodać trójkę do grafu, oraz inne metody, które szukają i zwracają trójki w dowolnej kolejności.\n",
    "\n",
    "\n",
    "W skład pakietu RDFLib wchodzą:\n",
    "- parsery i serializatory dla `RDF/XML, N3, NTriples, N-Quads, Turtle, TriX, RDFa, Microdata` i `JSON-LD`\n",
    "- baza trójek (ang. *triple store*) do podręcznego przechowywania trójek w pamięci, jak też ich trwałego przechowywania w bazie Berkeley\n",
    "- mechanizmy inferencji zarówno dla pojedynczego grafu jak i wielu grafów nazwanych (ang. *named graphs*)\n",
    "- implementacja `SPARQL 1.1`, w tym obsługa kwerend typu `SELECT` i `UPDATE`.   \n",
    "     \n",
    "\n",
    "Dokumentacja pakietu oraz dyskusje społeczności rozwijającej ten pakiet są dostępne pod adresami:\n",
    "- [https://rdflib.readthedocs.io/en/stable/](https://rdflib.readthedocs.io/en/stable/)\n",
    "- [https://github.com/RDFLib/rdflib/](https://github.com/RDFLib/rdflib/)\n",
    "- [https://www.w3.org/RDF/](https://www.w3.org/RDF/)\n",
    "- [http://groups.google.com/group/rdflib-dev](http://groups.google.com/group/rdflib-dev)"
   ]
  },
  {
   "cell_type": "markdown",
   "metadata": {
    "id": "fVsH1Gv1HwbR"
   },
   "source": [
    "## Instalacja\n",
    "\n",
    "RDFLib instalujemy za pomocą komendy  ```!pip3 install rdflib``` (lub ```!pip install rdflib```)"
   ]
  },
  {
   "cell_type": "code",
   "execution_count": 4,
   "metadata": {
    "colab": {
     "base_uri": "https://localhost:8080/"
    },
    "id": "X2H71gKwHwbR",
    "outputId": "d3d13dbe-5bbf-40b5-91aa-60bee92bd25e"
   },
   "outputs": [
    {
     "name": "stdout",
     "output_type": "stream",
     "text": [
      "Looking in indexes: https://pypi.org/simple, https://us-python.pkg.dev/colab-wheels/public/simple/\n",
      "Collecting rdflib\n",
      "  Downloading rdflib-6.1.1-py3-none-any.whl (482 kB)\n",
      "\u001b[K     |████████████████████████████████| 482 kB 10.1 MB/s \n",
      "\u001b[?25hRequirement already satisfied: importlib-metadata in /usr/local/lib/python3.7/dist-packages (from rdflib) (4.12.0)\n",
      "Requirement already satisfied: pyparsing in /usr/local/lib/python3.7/dist-packages (from rdflib) (3.0.9)\n",
      "Collecting isodate\n",
      "  Downloading isodate-0.6.1-py2.py3-none-any.whl (41 kB)\n",
      "\u001b[K     |████████████████████████████████| 41 kB 500 kB/s \n",
      "\u001b[?25hRequirement already satisfied: setuptools in /usr/local/lib/python3.7/dist-packages (from rdflib) (57.4.0)\n",
      "Requirement already satisfied: zipp>=0.5 in /usr/local/lib/python3.7/dist-packages (from importlib-metadata->rdflib) (3.8.0)\n",
      "Requirement already satisfied: typing-extensions>=3.6.4 in /usr/local/lib/python3.7/dist-packages (from importlib-metadata->rdflib) (4.1.1)\n",
      "Requirement already satisfied: six in /usr/local/lib/python3.7/dist-packages (from isodate->rdflib) (1.15.0)\n",
      "Installing collected packages: isodate, rdflib\n",
      "Successfully installed isodate-0.6.1 rdflib-6.1.1\n"
     ]
    }
   ],
   "source": [
    "!pip3 install rdflib"
   ]
  },
  {
   "cell_type": "markdown",
   "metadata": {
    "id": "0MVAV4QkHwbS"
   },
   "source": [
    "Aby korzystać z tego pakietu importuje go w następujący sposób:"
   ]
  },
  {
   "cell_type": "code",
   "execution_count": 5,
   "metadata": {
    "id": "B0Y2kSI4HwbS"
   },
   "outputs": [],
   "source": [
    "import rdflib"
   ]
  },
  {
   "cell_type": "markdown",
   "metadata": {
    "id": "BLt_1-FWHwbS"
   },
   "source": [
    "## Parsujemy istniejący graf\n",
    "\n",
    "Najpierw zobacz jakie informacje kryją się pod linkiem http://www.w3.org/People/Berners-Lee. Zobaczysz mało ciekawą stronę www bardzo ciekawego człowieka. Jest jednak coś interesującego w tej stronie; informacje, które się na niej znajdują są również zapisane i udostępnione za pomocą grafu. Sieć semantyczna daje nam narzędzia, aby tego typu grafy przetwarzać w dololny sposób. Spróbujmy!"
   ]
  },
  {
   "cell_type": "code",
   "execution_count": null,
   "metadata": {
    "id": "v8SgXPZUHwbT",
    "outputId": "fd02a079-7c9f-4510-b99a-5fc174c70c94"
   },
   "outputs": [
    {
     "data": {
      "text/plain": [
       "<Graph identifier=N5ce30e5c93a9450aa0c48d7a558fadc5 (<class 'rdflib.graph.Graph'>)>"
      ]
     },
     "execution_count": 19,
     "metadata": {},
     "output_type": "execute_result"
    }
   ],
   "source": [
    "# Utwórz pusty graf o nazwie g_tbl (\"tbl\" od Tim Berners-Lee).\n",
    "from rdflib import Graph\n",
    "g_tbl = Graph()\n",
    "\n",
    "# Wypełnij graf trójkami z grafu kryjącego się pod \"http://www.w3.org/People/Berners-Lee/card\".\n",
    "g_tbl.parse(source='http://www.w3.org/People/Berners-Lee/card', format='xml')"
   ]
  },
  {
   "cell_type": "markdown",
   "metadata": {
    "id": "BpEfGvK3HwbT"
   },
   "source": [
    "Jeśli nie podasz formatu w jakim został zapisany graf, RDFLib założy, że jest to RDF/XML (nie musieliśmy więc w komórce wyżej dodawać `format='xml'`). \n",
    "\n",
    "Jeśli nie jesteśmy pewni serializacji grafu, możemy skorzystać z funkcji `rdflib.util.guess_format()`, która zgaduje serializację grafu na podstawie rozszerzenie pliku (jeśli mamy tylko URL grafu, jak np. \"http://www.w3.org/People/Berners-Lee/card\", to funkcja ta na nic się zda)."
   ]
  },
  {
   "cell_type": "code",
   "execution_count": null,
   "metadata": {
    "id": "A4cLQ9CJHwbT",
    "outputId": "79402685-09a5-4ba4-e66a-bdfeb58f5acb"
   },
   "outputs": [
    {
     "name": "stdout",
     "output_type": "stream",
     "text": [
      "Format twojego grafu to: xml\n",
      "Format twojego grafu to: turtle\n",
      "Format twojego grafu to: None\n"
     ]
    }
   ],
   "source": [
    "from rdflib.util import guess_format\n",
    "print('Format twojego grafu to:', guess_format('my_file.rdf'))\n",
    "print('Format twojego grafu to:', guess_format('my_file.ttl'))\n",
    "print('Format twojego grafu to:', guess_format('http://www.w3.org/People/Berners-Lee/card'))"
   ]
  },
  {
   "cell_type": "markdown",
   "metadata": {
    "id": "0YfmSH7nHwbT"
   },
   "source": [
    "Wróćmy jednak do naszego grafu `g_tbl`."
   ]
  },
  {
   "cell_type": "code",
   "execution_count": null,
   "metadata": {
    "id": "5rdv8QMuHwbT",
    "outputId": "17941e06-5843-49e5-94df-c1e0955376c4"
   },
   "outputs": [
    {
     "name": "stdout",
     "output_type": "stream",
     "text": [
      "Graph g_tbl ma 86 trójek.\n"
     ]
    }
   ],
   "source": [
    "# Sprawdźmy ile trójek jest w grafie g_tbl.\n",
    "print(\"Graph g_tbl ma {} trójek.\".format(len(g_tbl)))"
   ]
  },
  {
   "cell_type": "code",
   "execution_count": null,
   "metadata": {
    "id": "os_wolIUHwbU",
    "outputId": "71041fbc-30d5-4ba4-dd22-5e49617d86f5"
   },
   "outputs": [
    {
     "name": "stdout",
     "output_type": "stream",
     "text": [
      "@prefix cc: <http://creativecommons.org/ns#> .\n",
      "@prefix cert: <http://www.w3.org/ns/auth/cert#> .\n",
      "@prefix con: <http://www.w3.org/2000/10/swap/pim/contact#> .\n",
      "@prefix dc: <http://purl.org/dc/elements/1.1/> .\n",
      "@prefix dcterms: <http://purl.org/dc/terms/> .\n",
      "@prefix doap: <http://usefulinc.com/ns/doap#> .\n",
      "@prefix foaf: <http://xmlns.com/foaf/0.1/> .\n",
      "@prefix geo: <http://www.w3.org/2003/01/geo/wgs84_pos#> .\n",
      "@prefix ldp: <http://www.w3.org/ns/ldp#> .\n",
      "@prefix rdfs: <http://www.w3.org/2000/01/rdf-schema#> .\n",
      "@prefix schema1: <http://schema.org/> .\n",
      "@prefix sioc: <http://rdfs.org/sioc/ns#> .\n",
      "@prefix solid: <http://www.w3.org/ns/solid/terms#> .\n",
      "@prefix space: <http://www.w3.org/ns/pim/space#> .\n",
      "@prefix vcard: <http://www.w3.org/2006/vcard/ns#> .\n",
      "@prefix xsd: <http://www.w3.org/2001/XMLSchema#> .\n",
      "\n",
      "<http://dig.csail.mit.edu/2005/ajar/ajaw/data#Tabulator> doap:developer <https://www.w3.org/People/Berners-Lee/card#i> .\n",
      "\n",
      "<http://dig.csail.mit.edu/2007/01/camp/data#course> foaf:maker <https://www.w3.org/People/Berners-Lee/card#i> .\n",
      "\n",
      "<http://dig.csail.mit.edu/data#DIG> foaf:member <https://www.w3.org/People/Berners-Lee/card#i> .\n",
      "\n",
      "<http://wiki.ontoworld.org/index.php/_IRW2006> dc:title \"Identity, Reference and the Web workshop 2006\" ;\n",
      "    con:participant <https://www.w3.org/People/Berners-Lee/card#i> .\n",
      "\n",
      "<http://www.ecs.soton.ac.uk/~dt2/dlstuff/www2006_data#panel-panelk01> rdfs:label \"The Next Wave of the Web (Plenary Panel)\" ;\n",
      "    con:participant <https://www.w3.org/People/Berners-Lee/card#i> .\n",
      "\n",
      "<http://www.w3.org/2000/10/swap/data#Cwm> doap:developer <https://www.w3.org/People/Berners-Lee/card#i> .\n",
      "\n",
      "<http://www.w3.org/2011/Talks/0331-hyderabad-tbl/data#talk> dcterms:title \"Designing the Web for an Open Society\" ;\n",
      "    foaf:maker <https://www.w3.org/People/Berners-Lee/card#i> .\n",
      "\n",
      "<http://www.w3.org/DesignIssues/Overview.html> dc:title \"Design Issues for the World Wide Web\" ;\n",
      "    foaf:maker <https://www.w3.org/People/Berners-Lee/card#i> .\n",
      "\n",
      "<http://www.w3.org/People/Berners-Lee/card> a foaf:PersonalProfileDocument ;\n",
      "    cc:license <http://creativecommons.org/licenses/by-nc/3.0/> ;\n",
      "    dc:title \"Tim Berners-Lee's FOAF file\" ;\n",
      "    foaf:maker <https://www.w3.org/People/Berners-Lee/card#i> ;\n",
      "    foaf:primaryTopic <https://www.w3.org/People/Berners-Lee/card#i> .\n",
      "\n",
      "<http://www.w3.org/People/Berners-Lee/card#i> cert:key [ a cert:RSAPublicKey ;\n",
      "            cert:exponent 65537 ;\n",
      "            cert:modulus \"ebe99c737bd3670239600547e5e2eb1d1497da39947b6576c3c44ffeca32cf0f2f7cbee3c47001278a90fc7fc5bcf292f741eb1fcd6bbe7f90650afb519cf13e81b2bffc6e02063ee5a55781d420b1dfaf61c15758480e66d47fb0dcb5fa7b9f7f1052e5ccbd01beee9553c3b6b51f4daf1fce991294cd09a3d1d636bc6c7656e4455d0aff06daec740ed0084aa6866fcae1359de61cc12dbe37c8fa42e977c6e727a8258bb9a3f265b27e3766fe0697f6aa0bcc81c3f026e387bd7bbc81580dc1853af2daa099186a9f59da526474ef6ec0a3d84cf400be3261b6b649dea1f78184862d34d685d2d587f09acc14cd8e578fdd2283387821296f0af39b8d8845\"^^xsd:hexBinary ] .\n",
      "\n",
      "<http://www.w3.org/data#W3C> foaf:member <https://www.w3.org/People/Berners-Lee/card#i> .\n",
      "\n",
      "<http://dig.csail.mit.edu/breadcrumbs/blog/4> dc:title \"timbl's blog on DIG\" ;\n",
      "    rdfs:seeAlso <http://dig.csail.mit.edu/breadcrumbs/blog/feed/4> ;\n",
      "    foaf:maker <https://www.w3.org/People/Berners-Lee/card#i> .\n",
      "\n",
      "<https://timbl.com/timbl/Public/friends.ttl> a foaf:PersonalProfileDocument ;\n",
      "    cc:license <http://creativecommons.org/licenses/by-nc/3.0/> ;\n",
      "    dc:title \"Tim Berners-Lee's editable profile\" ;\n",
      "    foaf:maker <https://www.w3.org/People/Berners-Lee/card#i> ;\n",
      "    foaf:primaryTopic <https://www.w3.org/People/Berners-Lee/card#i> .\n",
      "\n",
      "<https://www.w3.org/People/Berners-Lee/card#i> a con:Male,\n",
      "        foaf:Person ;\n",
      "    rdfs:label \"Tim Berners-Lee\" ;\n",
      "    sioc:avatar <http://www.w3.org/People/Berners-Lee/images/timbl-image-by-Coz-cropped.jpg> ;\n",
      "    schema1:owns <https://timblbot.inrupt.net/profile/card#me> ;\n",
      "    rdfs:seeAlso <https://timbl.com/timbl/Public/friends.ttl> ;\n",
      "    con:assistant <https://www.w3.org/People/Berners-Lee/card#amy> ;\n",
      "    con:homePage <http://www.w3.org/People/Berners-Lee/> ;\n",
      "    con:office [ con:address [ con:city \"Cambridge\" ;\n",
      "                    con:country \"USA\" ;\n",
      "                    con:postalCode \"02139\" ;\n",
      "                    con:street \"32 Vassar Street\" ;\n",
      "                    con:street2 \"MIT CSAIL Building 32\" ] ;\n",
      "            geo:location [ geo:lat \"42.361860\" ;\n",
      "                    geo:long \"-71.091840\" ] ] ;\n",
      "    con:preferredURI \"https://www.w3.org/People/Berners-Lee/card#i\" ;\n",
      "    con:publicHomePage <http://www.w3.org/People/Berners-Lee/> ;\n",
      "    vcard:fn \"Tim Berners-Lee\" ;\n",
      "    vcard:hasAddress [ a vcard:Work ;\n",
      "            vcard:locality \"Cambridge\" ;\n",
      "            vcard:postal-code \"02139\" ;\n",
      "            vcard:region \"MA\" ;\n",
      "            vcard:street-address \"32 Vassar Street\" ] ;\n",
      "    ldp:inbox <https://timbl.com/timbl/Public/Inbox> ;\n",
      "    space:preferencesFile <https://timbl.com/timbl/Data/preferences.n3> ;\n",
      "    space:storage <https://timbl.com/timbl/Public/>,\n",
      "        <https://timbl.inrupt.net/>,\n",
      "        <https://timbl.solid.community/> ;\n",
      "    solid:editableProfile <https://timbl.com/timbl/Public/friends.ttl> ;\n",
      "    solid:oidcIssuer <https://timbl.com> ;\n",
      "    solid:profileBackgroundColor \"#ffffff\" ;\n",
      "    solid:profileHighlightColor \"#00467E\" ;\n",
      "    solid:publicTypeIndex <https://timbl.com/timbl/Public/PublicTypeIndex.ttl> ;\n",
      "    foaf:account <http://en.wikipedia.org/wiki/User:Timbl>,\n",
      "        <http://twitter.com/timberners_lee>,\n",
      "        <http://www.reddit.com/user/timbl/> ;\n",
      "    foaf:based_near [ geo:lat \"42.361860\" ;\n",
      "            geo:long \"-71.091840\" ] ;\n",
      "    foaf:family_name \"Berners-Lee\" ;\n",
      "    foaf:givenname \"Timothy\" ;\n",
      "    foaf:homepage <https://www.w3.org/People/Berners-Lee/> ;\n",
      "    foaf:img <https://www.w3.org/Press/Stock/Berners-Lee/2001-europaeum-eighth.jpg> ;\n",
      "    foaf:mbox <mailto:timbl@w3.org> ;\n",
      "    foaf:mbox_sha1sum \"965c47c5a70db7407210cef6e4e6f5374a525c5c\" ;\n",
      "    foaf:name \"Timothy Berners-Lee\" ;\n",
      "    foaf:nick \"TimBL\",\n",
      "        \"timbl\" ;\n",
      "    foaf:openid <https://www.w3.org/People/Berners-Lee/> ;\n",
      "    foaf:title \"Sir\" ;\n",
      "    foaf:weblog <http://dig.csail.mit.edu/breadcrumbs/blog/4> ;\n",
      "    foaf:workplaceHomepage <https://www.w3.org/> .\n",
      "\n",
      "\n"
     ]
    }
   ],
   "source": [
    "# Wyświetl zawartość grafu g_tbl w serializacji Turtle.\n",
    "print(g_tbl.serialize(format=\"turtle\"))"
   ]
  },
  {
   "cell_type": "code",
   "execution_count": null,
   "metadata": {
    "id": "AUNfyXL3HwbU",
    "outputId": "25e3e906-cb97-4abc-d387-077e70976e48"
   },
   "outputs": [
    {
     "name": "stdout",
     "output_type": "stream",
     "text": [
      "<?xml version=\"1.0\" encoding=\"utf-8\"?>\n",
      "<rdf:RDF\n",
      "   xmlns:cc=\"http://creativecommons.org/ns#\"\n",
      "   xmlns:cert=\"http://www.w3.org/ns/auth/cert#\"\n",
      "   xmlns:con=\"http://www.w3.org/2000/10/swap/pim/contact#\"\n",
      "   xmlns:dc=\"http://purl.org/dc/elements/1.1/\"\n",
      "   xmlns:dcterms=\"http://purl.org/dc/terms/\"\n",
      "   xmlns:doap=\"http://usefulinc.com/ns/doap#\"\n",
      "   xmlns:foaf=\"http://xmlns.com/foaf/0.1/\"\n",
      "   xmlns:geo=\"http://www.w3.org/2003/01/geo/wgs84_pos#\"\n",
      "   xmlns:ldp=\"http://www.w3.org/ns/ldp#\"\n",
      "   xmlns:rdf=\"http://www.w3.org/1999/02/22-rdf-syntax-ns#\"\n",
      "   xmlns:rdfs=\"http://www.w3.org/2000/01/rdf-schema#\"\n",
      "   xmlns:schema1=\"http://schema.org/\"\n",
      "   xmlns:sioc=\"http://rdfs.org/sioc/ns#\"\n",
      "   xmlns:solid=\"http://www.w3.org/ns/solid/terms#\"\n",
      "   xmlns:space=\"http://www.w3.org/ns/pim/space#\"\n",
      "   xmlns:vcard=\"http://www.w3.org/2006/vcard/ns#\"\n",
      ">\n",
      "  <rdf:Description rdf:about=\"https://www.w3.org/People/Berners-Lee/card#i\">\n",
      "    <rdf:type rdf:resource=\"http://www.w3.org/2000/10/swap/pim/contact#Male\"/>\n",
      "    <rdf:type rdf:resource=\"http://xmlns.com/foaf/0.1/Person\"/>\n",
      "    <sioc:avatar rdf:resource=\"http://www.w3.org/People/Berners-Lee/images/timbl-image-by-Coz-cropped.jpg\"/>\n",
      "    <schema1:owns rdf:resource=\"https://timblbot.inrupt.net/profile/card#me\"/>\n",
      "    <rdfs:label>Tim Berners-Lee</rdfs:label>\n",
      "    <rdfs:seeAlso rdf:resource=\"https://timbl.com/timbl/Public/friends.ttl\"/>\n",
      "    <con:assistant rdf:resource=\"https://www.w3.org/People/Berners-Lee/card#amy\"/>\n",
      "    <con:homePage rdf:resource=\"http://www.w3.org/People/Berners-Lee/\"/>\n",
      "    <con:office rdf:nodeID=\"Nb8c9ac221b184bf18b2243c999d15dc6\"/>\n",
      "    <con:preferredURI>https://www.w3.org/People/Berners-Lee/card#i</con:preferredURI>\n",
      "    <con:publicHomePage rdf:resource=\"http://www.w3.org/People/Berners-Lee/\"/>\n",
      "    <vcard:fn>Tim Berners-Lee</vcard:fn>\n",
      "    <vcard:hasAddress rdf:nodeID=\"N88f7a4266d8a4fe3b41433b3cd495abb\"/>\n",
      "    <ldp:inbox rdf:resource=\"https://timbl.com/timbl/Public/Inbox\"/>\n",
      "    <space:preferencesFile rdf:resource=\"https://timbl.com/timbl/Data/preferences.n3\"/>\n",
      "    <space:storage rdf:resource=\"https://timbl.com/timbl/Public/\"/>\n",
      "    <space:storage rdf:resource=\"https://timbl.inrupt.net/\"/>\n",
      "    <space:storage rdf:resource=\"https://timbl.solid.community/\"/>\n",
      "    <solid:editableProfile rdf:resource=\"https://timbl.com/timbl/Public/friends.ttl\"/>\n",
      "    <solid:oidcIssuer rdf:resource=\"https://timbl.com\"/>\n",
      "    <solid:profileBackgroundColor>#ffffff</solid:profileBackgroundColor>\n",
      "    <solid:profileHighlightColor>#00467E</solid:profileHighlightColor>\n",
      "    <solid:publicTypeIndex rdf:resource=\"https://timbl.com/timbl/Public/PublicTypeIndex.ttl\"/>\n",
      "    <foaf:account rdf:resource=\"http://en.wikipedia.org/wiki/User:Timbl\"/>\n",
      "    <foaf:account rdf:resource=\"http://twitter.com/timberners_lee\"/>\n",
      "    <foaf:account rdf:resource=\"http://www.reddit.com/user/timbl/\"/>\n",
      "    <foaf:based_near rdf:nodeID=\"Na43896a3a703497595e52ef54798378b\"/>\n",
      "    <foaf:family_name>Berners-Lee</foaf:family_name>\n",
      "    <foaf:givenname>Timothy</foaf:givenname>\n",
      "    <foaf:homepage rdf:resource=\"https://www.w3.org/People/Berners-Lee/\"/>\n",
      "    <foaf:img rdf:resource=\"https://www.w3.org/Press/Stock/Berners-Lee/2001-europaeum-eighth.jpg\"/>\n",
      "    <foaf:mbox rdf:resource=\"mailto:timbl@w3.org\"/>\n",
      "    <foaf:mbox_sha1sum>965c47c5a70db7407210cef6e4e6f5374a525c5c</foaf:mbox_sha1sum>\n",
      "    <foaf:name>Timothy Berners-Lee</foaf:name>\n",
      "    <foaf:nick>TimBL</foaf:nick>\n",
      "    <foaf:nick>timbl</foaf:nick>\n",
      "    <foaf:openid rdf:resource=\"https://www.w3.org/People/Berners-Lee/\"/>\n",
      "    <foaf:title>Sir</foaf:title>\n",
      "    <foaf:weblog rdf:resource=\"http://dig.csail.mit.edu/breadcrumbs/blog/4\"/>\n",
      "    <foaf:workplaceHomepage rdf:resource=\"https://www.w3.org/\"/>\n",
      "  </rdf:Description>\n",
      "  <rdf:Description rdf:about=\"http://wiki.ontoworld.org/index.php/_IRW2006\">\n",
      "    <dc:title>Identity, Reference and the Web workshop 2006</dc:title>\n",
      "    <con:participant rdf:resource=\"https://www.w3.org/People/Berners-Lee/card#i\"/>\n",
      "  </rdf:Description>\n",
      "  <rdf:Description rdf:nodeID=\"N665ef424ab0e48ecabafa281c100234a\">\n",
      "    <con:city>Cambridge</con:city>\n",
      "    <con:country>USA</con:country>\n",
      "    <con:postalCode>02139</con:postalCode>\n",
      "    <con:street>32 Vassar Street</con:street>\n",
      "    <con:street2>MIT CSAIL Building 32</con:street2>\n",
      "  </rdf:Description>\n",
      "  <rdf:Description rdf:nodeID=\"Nb8c9ac221b184bf18b2243c999d15dc6\">\n",
      "    <con:address rdf:nodeID=\"N665ef424ab0e48ecabafa281c100234a\"/>\n",
      "    <geo:location rdf:nodeID=\"N9e76d3d9da4246058d03ce9a8939ad98\"/>\n",
      "  </rdf:Description>\n",
      "  <rdf:Description rdf:nodeID=\"Nf634154d15ee49b5a2a692b945187523\">\n",
      "    <rdf:type rdf:resource=\"http://www.w3.org/ns/auth/cert#RSAPublicKey\"/>\n",
      "    <cert:exponent rdf:datatype=\"http://www.w3.org/2001/XMLSchema#integer\">65537</cert:exponent>\n",
      "    <cert:modulus rdf:datatype=\"http://www.w3.org/2001/XMLSchema#hexBinary\">ebe99c737bd3670239600547e5e2eb1d1497da39947b6576c3c44ffeca32cf0f2f7cbee3c47001278a90fc7fc5bcf292f741eb1fcd6bbe7f90650afb519cf13e81b2bffc6e02063ee5a55781d420b1dfaf61c15758480e66d47fb0dcb5fa7b9f7f1052e5ccbd01beee9553c3b6b51f4daf1fce991294cd09a3d1d636bc6c7656e4455d0aff06daec740ed0084aa6866fcae1359de61cc12dbe37c8fa42e977c6e727a8258bb9a3f265b27e3766fe0697f6aa0bcc81c3f026e387bd7bbc81580dc1853af2daa099186a9f59da526474ef6ec0a3d84cf400be3261b6b649dea1f78184862d34d685d2d587f09acc14cd8e578fdd2283387821296f0af39b8d8845</cert:modulus>\n",
      "  </rdf:Description>\n",
      "  <rdf:Description rdf:nodeID=\"N88f7a4266d8a4fe3b41433b3cd495abb\">\n",
      "    <rdf:type rdf:resource=\"http://www.w3.org/2006/vcard/ns#Work\"/>\n",
      "    <vcard:locality>Cambridge</vcard:locality>\n",
      "    <vcard:postal-code>02139</vcard:postal-code>\n",
      "    <vcard:region>MA</vcard:region>\n",
      "    <vcard:street-address>32 Vassar Street</vcard:street-address>\n",
      "  </rdf:Description>\n",
      "  <rdf:Description rdf:about=\"http://www.w3.org/data#W3C\">\n",
      "    <foaf:member rdf:resource=\"https://www.w3.org/People/Berners-Lee/card#i\"/>\n",
      "  </rdf:Description>\n",
      "  <rdf:Description rdf:nodeID=\"N9e76d3d9da4246058d03ce9a8939ad98\">\n",
      "    <geo:lat>42.361860</geo:lat>\n",
      "    <geo:long>-71.091840</geo:long>\n",
      "  </rdf:Description>\n",
      "  <rdf:Description rdf:about=\"http://dig.csail.mit.edu/data#DIG\">\n",
      "    <foaf:member rdf:resource=\"https://www.w3.org/People/Berners-Lee/card#i\"/>\n",
      "  </rdf:Description>\n",
      "  <rdf:Description rdf:about=\"http://www.w3.org/People/Berners-Lee/card\">\n",
      "    <rdf:type rdf:resource=\"http://xmlns.com/foaf/0.1/PersonalProfileDocument\"/>\n",
      "    <cc:license rdf:resource=\"http://creativecommons.org/licenses/by-nc/3.0/\"/>\n",
      "    <dc:title>Tim Berners-Lee's FOAF file</dc:title>\n",
      "    <foaf:maker rdf:resource=\"https://www.w3.org/People/Berners-Lee/card#i\"/>\n",
      "    <foaf:primaryTopic rdf:resource=\"https://www.w3.org/People/Berners-Lee/card#i\"/>\n",
      "  </rdf:Description>\n",
      "  <rdf:Description rdf:about=\"http://dig.csail.mit.edu/2005/ajar/ajaw/data#Tabulator\">\n",
      "    <doap:developer rdf:resource=\"https://www.w3.org/People/Berners-Lee/card#i\"/>\n",
      "  </rdf:Description>\n",
      "  <rdf:Description rdf:about=\"https://timbl.com/timbl/Public/friends.ttl\">\n",
      "    <rdf:type rdf:resource=\"http://xmlns.com/foaf/0.1/PersonalProfileDocument\"/>\n",
      "    <cc:license rdf:resource=\"http://creativecommons.org/licenses/by-nc/3.0/\"/>\n",
      "    <dc:title>Tim Berners-Lee's editable profile</dc:title>\n",
      "    <foaf:maker rdf:resource=\"https://www.w3.org/People/Berners-Lee/card#i\"/>\n",
      "    <foaf:primaryTopic rdf:resource=\"https://www.w3.org/People/Berners-Lee/card#i\"/>\n",
      "  </rdf:Description>\n",
      "  <rdf:Description rdf:about=\"http://dig.csail.mit.edu/breadcrumbs/blog/4\">\n",
      "    <dc:title>timbl's blog on DIG</dc:title>\n",
      "    <rdfs:seeAlso rdf:resource=\"http://dig.csail.mit.edu/breadcrumbs/blog/feed/4\"/>\n",
      "    <foaf:maker rdf:resource=\"https://www.w3.org/People/Berners-Lee/card#i\"/>\n",
      "  </rdf:Description>\n",
      "  <rdf:Description rdf:about=\"http://www.w3.org/2011/Talks/0331-hyderabad-tbl/data#talk\">\n",
      "    <dcterms:title>Designing the Web for an Open Society</dcterms:title>\n",
      "    <foaf:maker rdf:resource=\"https://www.w3.org/People/Berners-Lee/card#i\"/>\n",
      "  </rdf:Description>\n",
      "  <rdf:Description rdf:nodeID=\"Na43896a3a703497595e52ef54798378b\">\n",
      "    <geo:lat>42.361860</geo:lat>\n",
      "    <geo:long>-71.091840</geo:long>\n",
      "  </rdf:Description>\n",
      "  <rdf:Description rdf:about=\"http://www.w3.org/DesignIssues/Overview.html\">\n",
      "    <dc:title>Design Issues for the World Wide Web</dc:title>\n",
      "    <foaf:maker rdf:resource=\"https://www.w3.org/People/Berners-Lee/card#i\"/>\n",
      "  </rdf:Description>\n",
      "  <rdf:Description rdf:about=\"http://www.w3.org/2000/10/swap/data#Cwm\">\n",
      "    <doap:developer rdf:resource=\"https://www.w3.org/People/Berners-Lee/card#i\"/>\n",
      "  </rdf:Description>\n",
      "  <rdf:Description rdf:about=\"http://www.ecs.soton.ac.uk/~dt2/dlstuff/www2006_data#panel-panelk01\">\n",
      "    <rdfs:label>The Next Wave of the Web (Plenary Panel)</rdfs:label>\n",
      "    <con:participant rdf:resource=\"https://www.w3.org/People/Berners-Lee/card#i\"/>\n",
      "  </rdf:Description>\n",
      "  <rdf:Description rdf:about=\"http://www.w3.org/People/Berners-Lee/card#i\">\n",
      "    <cert:key rdf:nodeID=\"Nf634154d15ee49b5a2a692b945187523\"/>\n",
      "  </rdf:Description>\n",
      "  <rdf:Description rdf:about=\"http://dig.csail.mit.edu/2007/01/camp/data#course\">\n",
      "    <foaf:maker rdf:resource=\"https://www.w3.org/People/Berners-Lee/card#i\"/>\n",
      "  </rdf:Description>\n",
      "</rdf:RDF>\n",
      "\n"
     ]
    }
   ],
   "source": [
    "# Wyświetl zawartość grafu g_tbl w serializacji RDF/XML.\n",
    "print(g_tbl.serialize(format=\"xml\"))"
   ]
  },
  {
   "cell_type": "markdown",
   "metadata": {
    "id": "hFkhnDNkHwbU"
   },
   "source": [
    "Uwaga! Jeśli nie pamiętasz czym są serializacje grafów, wróć do sekcji wprowadzającej tego rozdziału. \n",
    "\n",
    "RDFLib obsługuje serializacje: ``turtle`` (w skrócie ``ttl``), ``xml``, ``n3`` oraz ``ntriples`` (w skrócie ``nt``). Dodatkowo można również korzystać z serializacji ``JSON-LD`` (tu będziemy potrzebować jednak dodatkowego pluginu) oraz ``trix``, gdy mamy do czynienia z grafami nazwanymi (ang. *named graphs*) lub bazami trójek."
   ]
  },
  {
   "cell_type": "code",
   "execution_count": null,
   "metadata": {
    "id": "P0PfvHzaHwbV",
    "outputId": "bcc4d419-70b2-4e54-abec-5eb5878ee7c2"
   },
   "outputs": [
    {
     "data": {
      "text/plain": [
       "<Graph identifier=N5ce30e5c93a9450aa0c48d7a558fadc5 (<class 'rdflib.graph.Graph'>)>"
      ]
     },
     "execution_count": 24,
     "metadata": {},
     "output_type": "execute_result"
    }
   ],
   "source": [
    "# Zapisz graf g_tbl w serializacji Turtle w pliku o nazwie \"tbl.ttl\".\n",
    "g_tbl.serialize('tbl.ttl', format='turtle')"
   ]
  },
  {
   "cell_type": "code",
   "execution_count": 56,
   "metadata": {
    "colab": {
     "base_uri": "https://localhost:8080/"
    },
    "id": "hYFugbf0MjLW",
    "outputId": "884c9b44-2fe9-44b0-ad6c-6483ebdf8f1c"
   },
   "outputs": [
    {
     "name": "stdout",
     "output_type": "stream",
     "text": [
      "http://lei.info/X9AJL60ON2ZGVBEMAJ31#lei http://lei.info/voc/l1/initialRegistrationDate 2012-11-29T11:33:00+01:00\n",
      "N11ff670f7a7f42e4bc5ca385cdcfaa95 http://lei.info/voc/l1/city Basel\n",
      "Nb771d3469278486aae134137ce148e6b http://lei.info/voc/l1/streetAddress Aeschenvorstadt 1\n",
      "c/o UBS Fund Management (Switzerland) AG\n",
      "http://lei.info/X9AJL60ON2ZGVBEMAJ31 http://lei.info/voc/l1/legalEntityStatus http://lei.info/voc/l1/Active\n",
      "Nb771d3469278486aae134137ce148e6b http://lei.info/voc/l1/region CH-BS\n",
      "http://lei.info/X9AJL60ON2ZGVBEMAJ31 http://lei.info/voc/l1/legalJurisdiction CH\n",
      "Nb771d3469278486aae134137ce148e6b http://lei.info/voc/l1/country CH\n",
      "N1e2b5f99d00a49e4930855b8a484afa3 http://www.w3.org/1999/02/22-rdf-syntax-ns#type http://lei.info/voc/l1/RegistrationAuthority\n",
      "http://lei.info/X9AJL60ON2ZGVBEMAJ31 http://lei.info/voc/l1/legalName UBS (CH) Institutional Fund - Global Bonds Sustainable\n",
      "N11ff670f7a7f42e4bc5ca385cdcfaa95 http://lei.info/voc/l1/streetAddress Aeschenvorstadt 1\n",
      "c/o UBS Fund Management (Switzerland) AG\n",
      "http://lei.info/X9AJL60ON2ZGVBEMAJ31 http://lei.info/voc/l1/legalAddress Nb771d3469278486aae134137ce148e6b\n",
      "N11ff670f7a7f42e4bc5ca385cdcfaa95 http://lei.info/voc/l1/country CH\n",
      "http://lei.info/X9AJL60ON2ZGVBEMAJ31 http://lei.info/voc/l1/identifiedBy http://lei.info/X9AJL60ON2ZGVBEMAJ31#lei\n",
      "N1e2b5f99d00a49e4930855b8a484afa3 http://lei.info/voc/l1/registrationAuthorityEntityID F00140347\n",
      "N11ff670f7a7f42e4bc5ca385cdcfaa95 http://lei.info/voc/l1/addressNumber 1\n",
      "http://lei.info/X9AJL60ON2ZGVBEMAJ31 http://www.w3.org/1999/02/22-rdf-syntax-ns#type http://lei.info/voc/l1/LegalEntity\n",
      "Nb771d3469278486aae134137ce148e6b http://lei.info/voc/l1/postalCode 4051\n",
      "http://lei.info/X9AJL60ON2ZGVBEMAJ31#lei http://lei.info/voc/l1/leiCode X9AJL60ON2ZGVBEMAJ31\n",
      "Na7ac26782cc1445cab10955549f00566 http://lei.info/voc/l1/validationAuthorityID RA000550\n",
      "http://lei.info/X9AJL60ON2ZGVBEMAJ31#lei http://lei.info/voc/l1/lastUpdateDate 2022-05-25T13:44:10.726000+02:00\n",
      "N11ff670f7a7f42e4bc5ca385cdcfaa95 http://www.w3.org/1999/02/22-rdf-syntax-ns#type http://lei.info/voc/l1/Address\n",
      "Nb771d3469278486aae134137ce148e6b http://www.w3.org/1999/02/22-rdf-syntax-ns#type http://lei.info/voc/l1/Address\n",
      "http://lei.info/X9AJL60ON2ZGVBEMAJ31 http://lei.info/voc/l1/entityLegalFormCode 8888\n",
      "http://lei.info/X9AJL60ON2ZGVBEMAJ31 http://lei.info/voc/l1/headquartersAddress N11ff670f7a7f42e4bc5ca385cdcfaa95\n",
      "N1e2b5f99d00a49e4930855b8a484afa3 http://lei.info/voc/l1/registrationAuthorityID RA000550\n",
      "Na7ac26782cc1445cab10955549f00566 http://lei.info/voc/l1/validationAuthorityEntityID F00140347\n",
      "http://lei.info/X9AJL60ON2ZGVBEMAJ31#lei http://www.w3.org/1999/02/22-rdf-syntax-ns#type http://lei.info/voc/l1/LegalEntityIdentifier\n",
      "http://lei.info/X9AJL60ON2ZGVBEMAJ31 http://lei.info/voc/l1/entityCategory http://lei.info/voc/l1/Fund\n",
      "N11ff670f7a7f42e4bc5ca385cdcfaa95 http://lei.info/voc/l1/postalCode 4051\n",
      "http://lei.info/X9AJL60ON2ZGVBEMAJ31#lei http://lei.info/voc/l1/managingLOU http://lei.info/39120001KULK7200U106\n",
      "Nb771d3469278486aae134137ce148e6b http://lei.info/voc/l1/addressNumber 1\n",
      "http://lei.info/X9AJL60ON2ZGVBEMAJ31 http://lei.info/voc/l1/primaryValidationAuthority Na7ac26782cc1445cab10955549f00566\n",
      "http://lei.info/X9AJL60ON2ZGVBEMAJ31#lei http://lei.info/voc/l1/identifies http://lei.info/X9AJL60ON2ZGVBEMAJ31\n",
      "http://lei.info/X9AJL60ON2ZGVBEMAJ31 http://lei.info/voc/l1/otherLegalForm Sub-Fund\n",
      "Nb771d3469278486aae134137ce148e6b http://lei.info/voc/l1/city Basel\n",
      "http://lei.info/X9AJL60ON2ZGVBEMAJ31#lei http://lei.info/voc/l1/registrationStatus http://lei.info/voc/l1/Issued\n",
      "http://lei.info/X9AJL60ON2ZGVBEMAJ31#lei http://lei.info/voc/l1/nextRenewalDate 2023-07-16T21:00:00+02:00\n",
      "http://lei.info/X9AJL60ON2ZGVBEMAJ31 http://lei.info/voc/l1/registrationAuthority N1e2b5f99d00a49e4930855b8a484afa3\n",
      "N11ff670f7a7f42e4bc5ca385cdcfaa95 http://lei.info/voc/l1/region CH-BS\n",
      "Na7ac26782cc1445cab10955549f00566 http://www.w3.org/1999/02/22-rdf-syntax-ns#type http://lei.info/voc/l1/ValidationAuthority\n",
      "http://lei.info/X9AJL60ON2ZGVBEMAJ31 http://lei.info/voc/l1/validationSource http://lei.info/voc/l1/FullyCorroborated\n"
     ]
    }
   ],
   "source": [
    "g = rdflib.Graph()\n",
    "g.parse(\"https://lei.info/X9AJL60ON2ZGVBEMAJ31\")\n",
    "for s,p,o in g:\n",
    "    print(s, p, o)"
   ]
  },
  {
   "cell_type": "markdown",
   "metadata": {
    "id": "gr43Fj4EHwbV"
   },
   "source": [
    "## Tworzymy własny graf\n",
    "\n",
    "Aby utworzyć własny graf musimy sobie przypomnieć jak mogą wygląć trójki w grafie RDF. Pamiętamy, że trójki mogą zawierać \n",
    "- identyfikatory zasobów, \n",
    "- węzły puste (w podmiocie i dopełnieniu trójki) oraz \n",
    "- literały (tylko w dopełnieniu trójki). \n",
    "\n",
    "RDFLib pozawala na utworzenie \n",
    "- identyfikatora dowolnego zasobu za pomocą funkcji ``URIRef``,\n",
    "- węzła pustego za pomocą funcji ``BNode`` oraz\n",
    "- literału za pomocą funkcji ``Literal``.\n"
   ]
  },
  {
   "cell_type": "markdown",
   "metadata": {
    "id": "g9eSqHLOHwbV"
   },
   "source": [
    "Graf możemy utworzyć z napisów, o ile jego zawartość jest zgodna z jakąś serializacją.\n",
    "\n"
   ]
  },
  {
   "cell_type": "code",
   "execution_count": null,
   "metadata": {
    "colab": {
     "base_uri": "https://localhost:8080/"
    },
    "id": "OSkZmY5BHwbV",
    "outputId": "425e053d-fd6a-4a49-c6d1-07c550405d7d"
   },
   "outputs": [
    {
     "name": "stdout",
     "output_type": "stream",
     "text": [
      "@prefix ns1: <http://ai.kul.pl/vocab/> .\n",
      "\n",
      "ns1:Jan ns1:lubi ns1:Ania .\n",
      "\n",
      "\n"
     ]
    }
   ],
   "source": [
    "import rdflib\n",
    "from rdflib import Graph\n",
    "\n",
    "graph_string = '<http://ai.kul.pl/vocab/Jan> <http://ai.kul.pl/vocab/lubi> <http://ai.kul.pl/vocab/Ania> .'\n",
    "graph = Graph()\n",
    "graph.parse(data = graph_string, format='turtle')\n",
    "print(graph.serialize(format='ttl'))"
   ]
  },
  {
   "cell_type": "code",
   "execution_count": null,
   "metadata": {
    "id": "nMpnAS43HwbW"
   },
   "outputs": [],
   "source": [
    "# Zaimportuj funkcje \"URIRef\", \"Literal\" oraz \"BNode\".\n",
    "from rdflib import URIRef, Literal, BNode"
   ]
  },
  {
   "cell_type": "code",
   "execution_count": null,
   "metadata": {
    "id": "5WO6W8NwHwbW"
   },
   "outputs": [],
   "source": [
    "uri_jana_kowalskiego = URIRef('http://ai.kul.pl/vocab/jan_kowalski')\n",
    "uri_nazywa_sie = URIRef('http://ai.kul.pl/vocab/nazywa_sie')\n",
    "uri_zna = URIRef('http://ai.kul.pl/vocab/zna')\n",
    "literal_jan_kowalski_pl = Literal('Jan Kowalski', lang='pl')\n",
    "bnode_kogos = BNode()\n",
    "literal_mariana_zuka_pl = Literal('Marian Żuk', lang='pl')"
   ]
  },
  {
   "cell_type": "markdown",
   "metadata": {
    "id": "V5qlVCtOHwbW"
   },
   "source": [
    "Poniżej stworzymy nowy graf stwierdzający, że zasób o identyfikatorze \"http://ai.kul.pl/vocab/jan_kowalski\" nazywa się (w języku polskim) Jan Kowalski i zna kogoś, kto nazywa się Marian Żuk."
   ]
  },
  {
   "cell_type": "code",
   "execution_count": null,
   "metadata": {
    "colab": {
     "base_uri": "https://localhost:8080/"
    },
    "id": "SXqF3UKWHwbW",
    "outputId": "9b37142e-ab2b-431b-caa1-709ecc9c80c4"
   },
   "outputs": [
    {
     "name": "stdout",
     "output_type": "stream",
     "text": [
      "@prefix ns1: <http://ai.kul.pl/vocab/> .\n",
      "\n",
      "ns1:jan_kowalski ns1:nazywa_sie \"Jan Kowalski\"@pl ;\n",
      "    ns1:zna [ ns1:nazywa_sie \"Marian Żuk\"@pl ] .\n",
      "\n",
      "\n"
     ]
    }
   ],
   "source": [
    "# Utwórz nowy graf.\n",
    "g = Graph()\n",
    "\n",
    "# Dodaj trójki do grafu.\n",
    "g.add((uri_jana_kowalskiego, uri_nazywa_sie, literal_jan_kowalski_pl))\n",
    "g.add((uri_jana_kowalskiego, uri_zna, bnode_kogos))\n",
    "g.add((bnode_kogos, uri_nazywa_sie, literal_mariana_zuka_pl))\n",
    "\n",
    "# Wyświetl zawartość grafu w serializacji Turtle.\n",
    "print(g.serialize(format='turtle'))"
   ]
  },
  {
   "cell_type": "markdown",
   "metadata": {
    "id": "d0tGsmI_HwbW"
   },
   "source": [
    "W powyższym przykładzie użyliśmy dwóch wymyśłonych przez nas relacji \"http://ai.kul.pl/vocab/nazywa_sie\" i \"http://ai.kul.pl/vocab/zna\". Idea Sieci Semantycznej jest jednak taka, aby wymyślać nowe relacje tylko wówczas, kiedy nie istnieją dobre już wymyślone. Tak się akurat składa, że odpowiedniki tych relacji znajdziemy w standardzie FOAF (http://xmlns.com/foaf/spec/). RDFLib obsługuje FOAF."
   ]
  },
  {
   "cell_type": "code",
   "execution_count": null,
   "metadata": {
    "id": "cQhDWCUoHwbW"
   },
   "outputs": [],
   "source": [
    "# Zajmortuj przestrzeń nazw FOAF\n",
    "from rdflib.namespace import FOAF"
   ]
  },
  {
   "cell_type": "markdown",
   "metadata": {
    "id": "DytbafgkHwbX"
   },
   "source": [
    "Zmodyfikujmy teraz nasz przykład powyżej w taki sposób, abyśmy mogli skorzystać z relacji ze standardu FOAF."
   ]
  },
  {
   "cell_type": "code",
   "execution_count": null,
   "metadata": {
    "colab": {
     "base_uri": "https://localhost:8080/"
    },
    "id": "XzAwa2TcHwbX",
    "outputId": "2a3c6f75-60f9-45e2-c31a-3ff0073ae7b7"
   },
   "outputs": [
    {
     "name": "stdout",
     "output_type": "stream",
     "text": [
      "@prefix foaf: <http://xmlns.com/foaf/0.1/> .\n",
      "\n",
      "<http://ai.kul.pl/vocab/jan_kowalski> foaf:knows [ foaf:name \"Marian Żuk\"@pl ] ;\n",
      "    foaf:name \"Jan Kowalski\"@pl .\n",
      "\n",
      "\n"
     ]
    }
   ],
   "source": [
    "# Utwórz nowy graf.\n",
    "g = Graph()\n",
    "\n",
    "# Dodaj trójki do grafu.\n",
    "g.add((uri_jana_kowalskiego, FOAF.name, literal_jan_kowalski_pl))\n",
    "g.add((uri_jana_kowalskiego, FOAF.knows, bnode_kogos))\n",
    "g.add((bnode_kogos, FOAF.name, literal_mariana_zuka_pl))\n",
    "\n",
    "# Wyświetl zawartość grafu w serializacji Turtle.\n",
    "print(g.serialize(format='turtle'))"
   ]
  },
  {
   "cell_type": "markdown",
   "metadata": {
    "id": "hiGa8lUTHwbX"
   },
   "source": [
    "Aby zmienić prefiks przestrzeni FOAF musimy go zdefiniować zanim zaczniemy wypełniać graf trójkami."
   ]
  },
  {
   "cell_type": "code",
   "execution_count": null,
   "metadata": {
    "colab": {
     "base_uri": "https://localhost:8080/"
    },
    "id": "IvIOnPPpHwbX",
    "outputId": "d4b1be89-56de-4574-d70b-3b66864fae88",
    "scrolled": true
   },
   "outputs": [
    {
     "name": "stdout",
     "output_type": "stream",
     "text": [
      "@prefix foaf: <http://xmlns.com/foaf/0.1/> .\n",
      "\n",
      "<http://ai.kul.pl/vocab/jan_kowalski> foaf:knows [ foaf:name \"Marian Żuk\"@pl ] ;\n",
      "    foaf:name \"Jan Kowalski\"@pl .\n",
      "\n",
      "\n"
     ]
    }
   ],
   "source": [
    "# Utwórz nowy graf.\n",
    "g = Graph()\n",
    "\n",
    "# Przypisz prefiks \"foaf\" do przestreni FOAF\n",
    "g.bind('foaf', FOAF)\n",
    "\n",
    "# Dodaj trójki do grafu.\n",
    "g.add((uri_jana_kowalskiego, FOAF.name, literal_jan_kowalski_pl))\n",
    "g.add((uri_jana_kowalskiego, FOAF.knows, bnode_kogos))\n",
    "g.add((bnode_kogos, FOAF.name, literal_mariana_zuka_pl))\n",
    "\n",
    "# Wyświetl zawartość grafu w serializacji Turtle.\n",
    "print(g.serialize(format='turtle'))"
   ]
  },
  {
   "cell_type": "markdown",
   "metadata": {
    "id": "0EJSek47HwbX"
   },
   "source": [
    "Poniżej podajemy importy ponad 20 przestrzeni nazw zaimplementowanych w RDFLib:"
   ]
  },
  {
   "cell_type": "code",
   "execution_count": null,
   "metadata": {
    "colab": {
     "base_uri": "https://localhost:8080/"
    },
    "id": "eC1RyJTfHwbX",
    "outputId": "1f8b8d9d-fcb1-45bb-f993-619111657710"
   },
   "outputs": [
    {
     "name": "stdout",
     "output_type": "stream",
     "text": [
      "http://www.w3.org/1999/02/22-rdf-syntax-ns#type\n",
      "http://xmlns.com/foaf/0.1/knows\n",
      "http://www.w3.org/ns/dx/prof/isProfileOf\n",
      "http://www.w3.org/ns/sosa/Sensor\n"
     ]
    }
   ],
   "source": [
    "from rdflib.namespace import CSVW, DC, DCAT, DCTERMS, DOAP, FOAF, ODRL2, ORG, OWL,\\\n",
    "                             PROF, PROV, RDF, RDFS, SDO, SH, SKOS, SOSA, SSN, TIME,\\\n",
    "                             VOID, XMLNS, XSD\n",
    "\n",
    "print(RDF.type)\n",
    "# = rdflib.term.URIRef(\"http://www.w3.org/1999/02/22-rdf-syntax-ns#type\")\n",
    "\n",
    "print(FOAF.knows)\n",
    "# = rdflib.term.URIRef(\"http://xmlns.com/foaf/0.1/knows\")\n",
    "\n",
    "print(PROF.isProfileOf)\n",
    "# = rdflib.term.URIRef(\"http://www.w3.org/ns/dx/prof/isProfileOf\")\n",
    "\n",
    "print(SOSA.Sensor)\n",
    "# = rdflib.term.URIRef(\"http://www.w3.org/ns/sosa/Sensor\")"
   ]
  },
  {
   "cell_type": "markdown",
   "metadata": {
    "id": "nyRD6WAsHwbY"
   },
   "source": [
    "Gdy tworzymy własny graf, często zdarza się, że większość zasobów będzie zdefiniwoanych w tej samej, naszej przestrzeni nazw. Wówczas warto użyć pewnego skrótu pozwalającego skrócić identyfiaktory (`URIRef`) zasobów. Ów skrót polega na zdefiniowaniu własnej przestrzeni nazw (ang. *namespace*) za pomcą `rdflib.namespace.Namespace`:"
   ]
  },
  {
   "cell_type": "code",
   "execution_count": null,
   "metadata": {
    "colab": {
     "base_uri": "https://localhost:8080/"
    },
    "id": "solOfJnpHwbY",
    "outputId": "086b2fdf-999f-4847-a037-77e42b66c61e"
   },
   "outputs": [
    {
     "name": "stdout",
     "output_type": "stream",
     "text": [
      "@prefix aikul: <http://ai.kul.pl/vocab/> .\n",
      "@prefix foaf: <http://xmlns.com/foaf/0.1/> .\n",
      "\n",
      "aikul:jan_kowalski foaf:knows [ foaf:name \"Marian Żuk\"@pl ] ;\n",
      "    foaf:name \"Jan Kowalski\"@pl .\n",
      "\n",
      "\n"
     ]
    }
   ],
   "source": [
    "from rdflib import Namespace\n",
    "\n",
    "n = Namespace('http://ai.kul.pl/vocab/')\n",
    "\n",
    "uri_jana_kowalskiego = URIRef(n.jan_kowalski)\n",
    "uri_nazywa_sie = URIRef(n.nazywa_sie)\n",
    "uri_zna = URIRef(n.zna)\n",
    "literal_jan_kowalski_pl = Literal('Jan Kowalski', lang='pl')\n",
    "bnode_kogos = BNode()\n",
    "literal_mariana_zuka_pl = Literal('Marian Żuk', lang='pl')\n",
    "\n",
    "# Utwórz nowy graf.\n",
    "g = Graph()\n",
    "\n",
    "g.bind('foaf', FOAF)\n",
    "g.bind('aikul', 'http://ai.kul.pl/vocab/')\n",
    "\n",
    "# Dodaj trójki do grafu.\n",
    "g.add((uri_jana_kowalskiego, FOAF.name, literal_jan_kowalski_pl))\n",
    "g.add((uri_jana_kowalskiego, FOAF.knows, bnode_kogos))\n",
    "g.add((bnode_kogos, FOAF.name, literal_mariana_zuka_pl))\n",
    "\n",
    "# Wyświetl zawartość grafu w serializacji Turtle.\n",
    "print(g.serialize(format='turtle'))"
   ]
  },
  {
   "cell_type": "markdown",
   "metadata": {
    "id": "q36ApPkfHwbZ"
   },
   "source": [
    "Przestrzegamy przed użyciem funkcji `set()`, która zakłda, że relacja jest funkcyjna (ang. *functional property*) lub ma górną kardynalność (`maxcardinality`) równą 1. Funkcja `set()` może usuwać trójki!"
   ]
  },
  {
   "cell_type": "code",
   "execution_count": null,
   "metadata": {
    "colab": {
     "base_uri": "https://localhost:8080/"
    },
    "id": "1UE3HnrgHwbZ",
    "outputId": "0b9a856a-3496-48b2-82c0-1f93aa057653"
   },
   "outputs": [
    {
     "name": "stdout",
     "output_type": "stream",
     "text": [
      "@prefix aikul: <http://ai.kul.pl/vocab/> .\n",
      "@prefix foaf: <http://xmlns.com/foaf/0.1/> .\n",
      "\n",
      "aikul:jan_kowalski foaf:nick \"Chudy\",\n",
      "        \"Wafel\" .\n",
      "\n",
      "\n"
     ]
    }
   ],
   "source": [
    "# Utwórz nowy graf.\n",
    "g = Graph()\n",
    "\n",
    "g.bind('foaf', FOAF)\n",
    "g.bind('aikul', 'http://ai.kul.pl/vocab/')\n",
    "\n",
    "g.add((uri_jana_kowalskiego, FOAF.nick, Literal('Wafel'))) \n",
    "# print(\"Bob is\", g.value(uri_jana_kowalskiego, FOAF.age)) # prints: Bob is 42\n",
    "\n",
    "g.add((uri_jana_kowalskiego, FOAF.nick, Literal('Chudy'))) \n",
    "# print(\"Bob is\", g.value(uri_jana_kowalskiego, FOAF.age)) # prints: Bob is 42\n",
    "\n",
    "# Wyświetl zawartość grafu w serializacji Turtle.\n",
    "print(g.serialize(format='turtle'))"
   ]
  },
  {
   "cell_type": "code",
   "execution_count": null,
   "metadata": {
    "colab": {
     "base_uri": "https://localhost:8080/"
    },
    "id": "RYpzcEzjHwbZ",
    "outputId": "ef5412ed-4dd9-4aa3-fe58-7d7acbe1ef4d"
   },
   "outputs": [
    {
     "name": "stdout",
     "output_type": "stream",
     "text": [
      "Wafel\n"
     ]
    }
   ],
   "source": [
    "print(g.value(uri_jana_kowalskiego, FOAF.nick))"
   ]
  },
  {
   "cell_type": "code",
   "execution_count": null,
   "metadata": {
    "colab": {
     "base_uri": "https://localhost:8080/"
    },
    "id": "aMFXb5nWHwba",
    "outputId": "84e516f3-352d-4bd3-a81f-672b6bc97a69"
   },
   "outputs": [
    {
     "name": "stdout",
     "output_type": "stream",
     "text": [
      "@prefix aikul: <http://ai.kul.pl/vocab/> .\n",
      "@prefix foaf: <http://xmlns.com/foaf/0.1/> .\n",
      "\n",
      "aikul:jan_kowalski foaf:nick \"Szczypior\" .\n",
      "\n",
      "\n"
     ]
    }
   ],
   "source": [
    "# Utwórz nowy graf.\n",
    "g = Graph()\n",
    "\n",
    "g.bind('foaf', FOAF)\n",
    "g.bind('aikul', 'http://ai.kul.pl/vocab/')\n",
    "\n",
    "g.add((uri_jana_kowalskiego, FOAF.nick, Literal('Wafel'))) \n",
    "g.add((uri_jana_kowalskiego, FOAF.nick, Literal('Chudy'))) \n",
    "g.set((uri_jana_kowalskiego, FOAF.nick, Literal('Szczypior'))) # replaces 42 set above \n",
    "\n",
    "# Wyświetl zawartość grafu w serializacji Turtle.\n",
    "print(g.serialize(format='turtle'))"
   ]
  },
  {
   "cell_type": "markdown",
   "metadata": {
    "id": "Sc941SWiQOtz"
   },
   "source": [
    "Na koniec dodajmy, że najczęściej tworzenie grafu RDF odbywa się za pomocą "
   ]
  },
  {
   "cell_type": "markdown",
   "metadata": {
    "id": "-eIcR5E-Hwba"
   },
   "source": [
    "## Usuwanie trójek z grafu\n",
    "\n",
    "Trójki usuwamy z grafu (podobnie jak elementy ze zbioru) za pomocą metody `remove()`. "
   ]
  },
  {
   "cell_type": "code",
   "execution_count": null,
   "metadata": {
    "colab": {
     "base_uri": "https://localhost:8080/"
    },
    "id": "BOfMRg8HHwba",
    "outputId": "5e88fdc5-1d59-4a8e-f560-db35351c6d4d"
   },
   "outputs": [
    {
     "name": "stdout",
     "output_type": "stream",
     "text": [
      "PRZED:\n",
      "@prefix aikul: <http://ai.kul.pl/vocab/> .\n",
      "@prefix foaf: <http://xmlns.com/foaf/0.1/> .\n",
      "\n",
      "aikul:jan_kowalski foaf:knows [ foaf:name \"Marian Żuk\"@pl ] ;\n",
      "    foaf:name \"Jan Kowalski\"@pl .\n",
      "\n",
      "\n",
      "PO:\n",
      "@prefix foaf: <http://xmlns.com/foaf/0.1/> .\n",
      "\n",
      "[] foaf:name \"Marian Żuk\"@pl .\n",
      "\n",
      "\n"
     ]
    }
   ],
   "source": [
    "# Utwórz nowy graf.\n",
    "g = Graph()\n",
    "\n",
    "g.bind('foaf', FOAF)\n",
    "g.bind('aikul', 'http://ai.kul.pl/vocab/')\n",
    "\n",
    "# Dodaj trójki do grafu.\n",
    "g.add((uri_jana_kowalskiego, FOAF.name, literal_jan_kowalski_pl))\n",
    "g.add((uri_jana_kowalskiego, FOAF.knows, bnode_kogos))\n",
    "g.add((bnode_kogos, FOAF.name, literal_mariana_zuka_pl))\n",
    "\n",
    "# Wyświetl zawartość grafu w serializacji Turtle.\n",
    "print('PRZED:')\n",
    "print(g.serialize(format='turtle'))\n",
    "\n",
    "# Usuń wszystkie trójki orzekające o uri_jana_kowalskiego\n",
    "g.remove((uri_jana_kowalskiego, None, None)) \n",
    "\n",
    "# Wyświetl zawartość grafu w serializacji Turtle.\n",
    "print('PO:')\n",
    "print(g.serialize(format='turtle'))"
   ]
  },
  {
   "cell_type": "markdown",
   "metadata": {
    "id": "dc0uNLtUHwba"
   },
   "source": [
    "## Filtrowanie grafu\n",
    "\n",
    "Teraz poznasz szereg metod pozwalających na filtrowanie grafu, tj. wyszukanie w grafie jego fragmentu spełniającego określone własności."
   ]
  },
  {
   "cell_type": "code",
   "execution_count": null,
   "metadata": {
    "colab": {
     "base_uri": "https://localhost:8080/"
    },
    "id": "wT_sS-2fHwba",
    "outputId": "da90e49e-f6c2-4207-a108-858e97197873"
   },
   "outputs": [
    {
     "data": {
      "text/plain": [
       "<Graph identifier=Nbfb8bd15d10047d1ad4456af124d78db (<class 'rdflib.graph.Graph'>)>"
      ]
     },
     "execution_count": 23,
     "metadata": {},
     "output_type": "execute_result"
    }
   ],
   "source": [
    "from rdflib import Graph\n",
    "g_tbl = Graph()\n",
    "g_tbl.parse(source='http://www.w3.org/People/Berners-Lee/card')"
   ]
  },
  {
   "cell_type": "markdown",
   "metadata": {
    "id": "8tg1PRrXHwbb"
   },
   "source": [
    "Zacznij od wypisanie dowolnych 10 trójek. Możesz to zrobić tak (przypomnij sobie użycie wbudowanych iteratorów, w szczególności funkcji `islice`):"
   ]
  },
  {
   "cell_type": "code",
   "execution_count": null,
   "metadata": {
    "colab": {
     "base_uri": "https://localhost:8080/"
    },
    "id": "V-efPXxDHwbb",
    "outputId": "b5efa9f9-e25c-4b12-c378-81369013b8f6"
   },
   "outputs": [
    {
     "name": "stdout",
     "output_type": "stream",
     "text": [
      "(rdflib.term.BNode('N7f788ff3606543e0bf7a2d47b85bdde9'), rdflib.term.URIRef('http://www.w3.org/1999/02/22-rdf-syntax-ns#type'), rdflib.term.URIRef('http://www.w3.org/ns/auth/cert#RSAPublicKey'))\n",
      "(rdflib.term.URIRef('https://www.w3.org/People/Berners-Lee/card#i'), rdflib.term.URIRef('http://www.w3.org/ns/solid/terms#profileBackgroundColor'), rdflib.term.Literal('#ffffff'))\n",
      "(rdflib.term.URIRef('https://timbl.com/timbl/Public/friends.ttl'), rdflib.term.URIRef('http://www.w3.org/1999/02/22-rdf-syntax-ns#type'), rdflib.term.URIRef('http://xmlns.com/foaf/0.1/PersonalProfileDocument'))\n",
      "(rdflib.term.URIRef('https://timbl.com/timbl/Public/friends.ttl'), rdflib.term.URIRef('http://creativecommons.org/ns#license'), rdflib.term.URIRef('http://creativecommons.org/licenses/by-nc/3.0/'))\n",
      "(rdflib.term.URIRef('https://www.w3.org/People/Berners-Lee/card#i'), rdflib.term.URIRef('http://www.w3.org/2000/10/swap/pim/contact#publicHomePage'), rdflib.term.URIRef('http://www.w3.org/People/Berners-Lee/'))\n",
      "(rdflib.term.URIRef('https://www.w3.org/People/Berners-Lee/card#i'), rdflib.term.URIRef('http://xmlns.com/foaf/0.1/mbox_sha1sum'), rdflib.term.Literal('965c47c5a70db7407210cef6e4e6f5374a525c5c'))\n",
      "(rdflib.term.URIRef('https://www.w3.org/People/Berners-Lee/card#i'), rdflib.term.URIRef('http://xmlns.com/foaf/0.1/account'), rdflib.term.URIRef('http://www.reddit.com/user/timbl/'))\n",
      "(rdflib.term.URIRef('https://www.w3.org/People/Berners-Lee/card#i'), rdflib.term.URIRef('http://xmlns.com/foaf/0.1/based_near'), rdflib.term.BNode('Ndc1b3921c332423da4da5a5ee1cfedc5'))\n",
      "(rdflib.term.URIRef('https://www.w3.org/People/Berners-Lee/card#i'), rdflib.term.URIRef('http://xmlns.com/foaf/0.1/img'), rdflib.term.URIRef('https://www.w3.org/Press/Stock/Berners-Lee/2001-europaeum-eighth.jpg'))\n",
      "(rdflib.term.URIRef('https://www.w3.org/People/Berners-Lee/card#i'), rdflib.term.URIRef('http://www.w3.org/2000/10/swap/pim/contact#homePage'), rdflib.term.URIRef('http://www.w3.org/People/Berners-Lee/'))\n"
     ]
    }
   ],
   "source": [
    "from itertools import islice\n",
    "\n",
    "for triple in islice(g_tbl, 10):\n",
    "    print(triple) "
   ]
  },
  {
   "cell_type": "markdown",
   "metadata": {
    "id": "2t9JBWSvHwbb"
   },
   "source": [
    "lub tak:"
   ]
  },
  {
   "cell_type": "code",
   "execution_count": null,
   "metadata": {
    "colab": {
     "base_uri": "https://localhost:8080/"
    },
    "id": "zm4LynJpHwbb",
    "outputId": "faaca93f-9e71-4924-d9bc-4f9018188760"
   },
   "outputs": [
    {
     "name": "stdout",
     "output_type": "stream",
     "text": [
      "s = N7f788ff3606543e0bf7a2d47b85bdde9 \n",
      "\t p = http://www.w3.org/1999/02/22-rdf-syntax-ns#type \n",
      "\t\t o = http://www.w3.org/ns/auth/cert#RSAPublicKey\n",
      "s = https://www.w3.org/People/Berners-Lee/card#i \n",
      "\t p = http://www.w3.org/ns/solid/terms#profileBackgroundColor \n",
      "\t\t o = #ffffff\n",
      "s = https://timbl.com/timbl/Public/friends.ttl \n",
      "\t p = http://www.w3.org/1999/02/22-rdf-syntax-ns#type \n",
      "\t\t o = http://xmlns.com/foaf/0.1/PersonalProfileDocument\n",
      "s = https://timbl.com/timbl/Public/friends.ttl \n",
      "\t p = http://creativecommons.org/ns#license \n",
      "\t\t o = http://creativecommons.org/licenses/by-nc/3.0/\n",
      "s = https://www.w3.org/People/Berners-Lee/card#i \n",
      "\t p = http://www.w3.org/2000/10/swap/pim/contact#publicHomePage \n",
      "\t\t o = http://www.w3.org/People/Berners-Lee/\n",
      "s = https://www.w3.org/People/Berners-Lee/card#i \n",
      "\t p = http://xmlns.com/foaf/0.1/mbox_sha1sum \n",
      "\t\t o = 965c47c5a70db7407210cef6e4e6f5374a525c5c\n",
      "s = https://www.w3.org/People/Berners-Lee/card#i \n",
      "\t p = http://xmlns.com/foaf/0.1/account \n",
      "\t\t o = http://www.reddit.com/user/timbl/\n",
      "s = https://www.w3.org/People/Berners-Lee/card#i \n",
      "\t p = http://xmlns.com/foaf/0.1/based_near \n",
      "\t\t o = Ndc1b3921c332423da4da5a5ee1cfedc5\n",
      "s = https://www.w3.org/People/Berners-Lee/card#i \n",
      "\t p = http://xmlns.com/foaf/0.1/img \n",
      "\t\t o = https://www.w3.org/Press/Stock/Berners-Lee/2001-europaeum-eighth.jpg\n",
      "s = https://www.w3.org/People/Berners-Lee/card#i \n",
      "\t p = http://www.w3.org/2000/10/swap/pim/contact#homePage \n",
      "\t\t o = http://www.w3.org/People/Berners-Lee/\n"
     ]
    }
   ],
   "source": [
    "for s, p, o in islice(g_tbl, 10):\n",
    "    print(f\"s = {s} \\n\\t p = {p} \\n\\t\\t o = {o}\")"
   ]
  },
  {
   "cell_type": "markdown",
   "metadata": {
    "id": "PFrpZSAQHwbb"
   },
   "source": [
    "To oczywiście nie jest jeszcze żadne filtrowanie. Ale jeśli dodamy `if`, to już będzie to jakiś filtr:"
   ]
  },
  {
   "cell_type": "code",
   "execution_count": null,
   "metadata": {
    "colab": {
     "base_uri": "https://localhost:8080/"
    },
    "id": "M5a60AKkHwbc",
    "outputId": "26172169-bf0c-4e5d-8f9c-3fe0dcf7a176"
   },
   "outputs": [
    {
     "name": "stdout",
     "output_type": "stream",
     "text": [
      "\"Tim Berners-Lee\" jest etykietą zasobu o identyfikatorze https://www.w3.org/People/Berners-Lee/card#i.\n"
     ]
    }
   ],
   "source": [
    "from rdflib import URIRef\n",
    "from rdflib.namespace import RDFS\n",
    "\n",
    "tbl = URIRef('https://www.w3.org/People/Berners-Lee/card#i')\n",
    "\n",
    "for s, p, o in g_tbl:\n",
    "    if s == tbl and p == RDFS.label:\n",
    "        print(f'\\\"{o}\\\" jest etykietą zasobu o identyfikatorze {s}.')"
   ]
  },
  {
   "cell_type": "markdown",
   "metadata": {
    "id": "3v_o7nK6Hwbc"
   },
   "source": [
    "Oczywiście nie polecamy stosowania powyższych rozwiązań filtrujących. Poniżej zaproponujemy kilka metod zaimplementowanych w RDFLib.\n",
    "\n",
    "Pierwszą, i pewnie najważniejszą, z nich jest funkcja `triples`. Jako wynik zwraca ona zbiór trójek mających zadaną przez nas formę."
   ]
  },
  {
   "cell_type": "code",
   "execution_count": null,
   "metadata": {
    "colab": {
     "base_uri": "https://localhost:8080/"
    },
    "id": "QkIAY5RQHwbc",
    "outputId": "0c6d95b7-cd1b-4f01-a999-c1bd9a48dfdf"
   },
   "outputs": [
    {
     "name": "stdout",
     "output_type": "stream",
     "text": [
      "https://www.w3.org/People/Berners-Lee/card#i jest http://www.w3.org/2000/10/swap/pim/contact#Male\n",
      "https://www.w3.org/People/Berners-Lee/card#i jest http://xmlns.com/foaf/0.1/Person\n"
     ]
    }
   ],
   "source": [
    "from rdflib.namespace import RDF\n",
    "\n",
    "for s, p, o in g_tbl.triples((tbl, RDF.type, None)):\n",
    "    print(f\"{s} jest {o}\") "
   ]
  },
  {
   "cell_type": "markdown",
   "metadata": {
    "id": "M7Gf7uAkHwbc"
   },
   "source": [
    "W powyższym kodzie funkcja `triples()` przyjmuje jako argument formę `(tbl, RDF.type, None)` i zwraca jako wynik trójki, w których podmiotem jest `tbl`, a orzeczeniem `RDF.type`. Dopełnienie jest nieokreślone (`None`).\n",
    "\n",
    "Ponieważ funkcja `triples()` zwraca zbiór trójek, można go dodać do dowolnego grafu:"
   ]
  },
  {
   "cell_type": "code",
   "execution_count": null,
   "metadata": {
    "colab": {
     "base_uri": "https://localhost:8080/"
    },
    "id": "0MYVo1QMHwbc",
    "outputId": "e88bc0f7-5c4e-4112-f823-579ac903c7fb"
   },
   "outputs": [
    {
     "name": "stdout",
     "output_type": "stream",
     "text": [
      "@prefix con: <http://www.w3.org/2000/10/swap/pim/contact#> .\n",
      "@prefix foaf: <http://xmlns.com/foaf/0.1/> .\n",
      "@prefix tbl: <https://www.w3.org/People/Berners-Lee/card#> .\n",
      "\n",
      "tbl:i a con:Male,\n",
      "        foaf:Person .\n",
      "\n",
      "\n"
     ]
    }
   ],
   "source": [
    "g = Graph()\n",
    "g.bind('foaf', FOAF)\n",
    "g.bind('con', Namespace('http://www.w3.org/2000/10/swap/pim/contact#'))\n",
    "g.bind('tbl', Namespace('https://www.w3.org/People/Berners-Lee/card#'))\n",
    "\n",
    "g += g_tbl.triples((tbl, RDF.type, None))\n",
    "\n",
    "print(g.serialize(format='turtle'))"
   ]
  },
  {
   "cell_type": "markdown",
   "metadata": {
    "id": "eA4MFI5iHwbc"
   },
   "source": [
    "W RDFLib możemy filtrować graf skupiając się jedynie na fragmentach trójek. Do tego służą funkcje `subjects()`, `predicates()`, `objects()`, `subject_predicates`, `predicate_objects`, `subject_objects`. Zobaczmy jak użyć niektórych z nich."
   ]
  },
  {
   "cell_type": "code",
   "execution_count": null,
   "metadata": {
    "colab": {
     "base_uri": "https://localhost:8080/"
    },
    "id": "-tU-lxf0Hwbc",
    "outputId": "ac5635f5-98a7-48fe-9c0d-5e7dd53f9e04"
   },
   "outputs": [
    {
     "name": "stdout",
     "output_type": "stream",
     "text": [
      "https://www.w3.org/People/Berners-Lee/card#i jest typu FOAF.Person.\n",
      "\n",
      "\n",
      "Tim Berners-Lee jest związany predykatem http://www.w3.org/1999/02/22-rdf-syntax-ns#type z klasą FOAF.Person.\n",
      "\n",
      "W grafie opisującym Tiam Bernersa-Lee mamy klasy:\n",
      "- http://www.w3.org/People/Berners-Lee/card jest typu http://xmlns.com/foaf/0.1/PersonalProfileDocument.\n",
      "- https://timbl.com/timbl/Public/friends.ttl jest typu http://xmlns.com/foaf/0.1/PersonalProfileDocument.\n",
      "- N7f788ff3606543e0bf7a2d47b85bdde9 jest typu http://www.w3.org/ns/auth/cert#RSAPublicKey.\n",
      "- https://www.w3.org/People/Berners-Lee/card#i jest typu http://www.w3.org/2000/10/swap/pim/contact#Male.\n",
      "- https://www.w3.org/People/Berners-Lee/card#i jest typu http://xmlns.com/foaf/0.1/Person.\n",
      "- Nd43502fc3c794bb99760666203ede992 jest typu http://www.w3.org/2006/vcard/ns#Work.\n"
     ]
    }
   ],
   "source": [
    "for subject in g_tbl.subjects(predicate=RDF.type, object=FOAF.Person): \n",
    "    print(f\"{subject} jest typu FOAF.Person.\")\n",
    "\n",
    "print('\\n')\n",
    "for predicate in g_tbl.predicates(subject=tbl, object=FOAF.Person): \n",
    "    print(f\"Tim Berners-Lee jest związany predykatem {predicate} z klasą FOAF.Person.\")\n",
    "\n",
    "print('\\nW grafie opisującym Tiam Bernersa-Lee mamy klasy:')    \n",
    "for subject, object in g_tbl.subject_objects(predicate=RDF.type): \n",
    "    print(f\"- {subject} jest typu {object}.\")        "
   ]
  },
  {
   "cell_type": "markdown",
   "metadata": {
    "id": "NG1BEOB5Hwbd"
   },
   "source": [
    "Funkcja `value()` może mieć dwa ciekawe użycia. Oba wiąż się z tym, że zwraca ona tylko jedną wartość. Przywołajmy więc jeszcze raz graf, gdzie Janowi Kowalskiemu przypiszemy dwa przezwiska:"
   ]
  },
  {
   "cell_type": "code",
   "execution_count": null,
   "metadata": {
    "colab": {
     "base_uri": "https://localhost:8080/"
    },
    "id": "BD4FLIg7Hwbd",
    "outputId": "18c70086-d4fa-475e-dcdf-f26a10ab991f"
   },
   "outputs": [
    {
     "name": "stdout",
     "output_type": "stream",
     "text": [
      "@prefix aikul: <http://ai.kul.pl/vocab/> .\n",
      "@prefix foaf: <http://xmlns.com/foaf/0.1/> .\n",
      "\n",
      "aikul:jan_kowalski foaf:nick \"Chudy\",\n",
      "        \"Wafel\" .\n",
      "\n",
      "\n"
     ]
    }
   ],
   "source": [
    "# Utwórz nowy graf.\n",
    "g = Graph()\n",
    "g.add((uri_jana_kowalskiego, FOAF.nick, Literal('Wafel'))) \n",
    "g.add((uri_jana_kowalskiego, FOAF.nick, Literal('Chudy'))) \n",
    "g.bind('aikul', 'http://ai.kul.pl/vocab/')\n",
    "\n",
    "print(g.serialize(format='ttl'))"
   ]
  },
  {
   "cell_type": "markdown",
   "metadata": {
    "id": "5FFObEPdHwbd"
   },
   "source": [
    "Teraz jeśli wywołamy funkcję `value()` z argumentem `any=True`, to zwróci ona tylko jedną z wartości:"
   ]
  },
  {
   "cell_type": "code",
   "execution_count": null,
   "metadata": {
    "colab": {
     "base_uri": "https://localhost:8080/",
     "height": 54
    },
    "id": "8u-vadzIHwbd",
    "outputId": "1979f7ce-a3de-49b9-c1a7-5e59dd3bd34a"
   },
   "outputs": [
    {
     "data": {
      "application/vnd.google.colaboratory.intrinsic+json": {
       "type": "string"
      },
      "text/plain": [
       "rdflib.term.Literal('Wafel')"
      ]
     },
     "execution_count": 42,
     "metadata": {},
     "output_type": "execute_result"
    }
   ],
   "source": [
    "g.value(subject=uri_jana_kowalskiego, predicate=FOAF.nick, any=True)"
   ]
  },
  {
   "cell_type": "markdown",
   "metadata": {
    "id": "HChQgyi4Hwbd"
   },
   "source": [
    "Jeśli argument `any=True`, wówczas otrzymamy błąd *Uniqueness assumption is not fulfilled*:"
   ]
  },
  {
   "cell_type": "code",
   "execution_count": null,
   "metadata": {
    "colab": {
     "base_uri": "https://localhost:8080/",
     "height": 380
    },
    "id": "-bRAHgD4Hwbd",
    "outputId": "f3e10d44-d2e0-44d3-b056-187bb9598f39"
   },
   "outputs": [
    {
     "ename": "UniquenessError",
     "evalue": "ignored",
     "output_type": "error",
     "traceback": [
      "\u001b[0;31m---------------------------------------------------------------------------\u001b[0m",
      "\u001b[0;31mUniquenessError\u001b[0m                           Traceback (most recent call last)",
      "\u001b[0;32m<ipython-input-43-944974621b34>\u001b[0m in \u001b[0;36m<module>\u001b[0;34m()\u001b[0m\n\u001b[0;32m----> 1\u001b[0;31m \u001b[0mg\u001b[0m\u001b[0;34m.\u001b[0m\u001b[0mvalue\u001b[0m\u001b[0;34m(\u001b[0m\u001b[0msubject\u001b[0m\u001b[0;34m=\u001b[0m\u001b[0muri_jana_kowalskiego\u001b[0m\u001b[0;34m,\u001b[0m \u001b[0mpredicate\u001b[0m\u001b[0;34m=\u001b[0m\u001b[0mFOAF\u001b[0m\u001b[0;34m.\u001b[0m\u001b[0mnick\u001b[0m\u001b[0;34m,\u001b[0m \u001b[0many\u001b[0m\u001b[0;34m=\u001b[0m\u001b[0;32mFalse\u001b[0m\u001b[0;34m)\u001b[0m\u001b[0;34m\u001b[0m\u001b[0;34m\u001b[0m\u001b[0m\n\u001b[0m",
      "\u001b[0;32m/usr/local/lib/python3.7/dist-packages/rdflib/graph.py\u001b[0m in \u001b[0;36mvalue\u001b[0;34m(self, subject, predicate, object, default, any)\u001b[0m\n\u001b[1;32m    762\u001b[0m                             \u001b[0mlist\u001b[0m\u001b[0;34m(\u001b[0m\u001b[0mcontexts\u001b[0m\u001b[0;34m)\u001b[0m\u001b[0;34m,\u001b[0m\u001b[0;34m\u001b[0m\u001b[0;34m\u001b[0m\u001b[0m\n\u001b[1;32m    763\u001b[0m                         )\n\u001b[0;32m--> 764\u001b[0;31m                     \u001b[0;32mraise\u001b[0m \u001b[0mexceptions\u001b[0m\u001b[0;34m.\u001b[0m\u001b[0mUniquenessError\u001b[0m\u001b[0;34m(\u001b[0m\u001b[0mmsg\u001b[0m\u001b[0;34m)\u001b[0m\u001b[0;34m\u001b[0m\u001b[0;34m\u001b[0m\u001b[0m\n\u001b[0m\u001b[1;32m    765\u001b[0m                 \u001b[0;32mexcept\u001b[0m \u001b[0mStopIteration\u001b[0m\u001b[0;34m:\u001b[0m\u001b[0;34m\u001b[0m\u001b[0;34m\u001b[0m\u001b[0m\n\u001b[1;32m    766\u001b[0m                     \u001b[0;32mpass\u001b[0m\u001b[0;34m\u001b[0m\u001b[0;34m\u001b[0m\u001b[0m\n",
      "\u001b[0;31mUniquenessError\u001b[0m: Uniqueness assumption is not fulfilled. Multiple values are: While trying to find a value for (http://ai.kul.pl/vocab/jan_kowalski, http://xmlns.com/foaf/0.1/nick, None) the following multiple values where found:\n(http://ai.kul.pl/vocab/jan_kowalski, http://xmlns.com/foaf/0.1/nick, Wafel)\n (contexts: [<Graph identifier=Nc60852cc795d412dbe76899dd25501bc (<class 'rdflib.graph.Graph'>)>])\n(http://ai.kul.pl/vocab/jan_kowalski, http://xmlns.com/foaf/0.1/nick, Chudy)\n (contexts: [<Graph identifier=Nc60852cc795d412dbe76899dd25501bc (<class 'rdflib.graph.Graph'>)>])\n"
     ]
    }
   ],
   "source": [
    "g.value(subject=uri_jana_kowalskiego, predicate=FOAF.nick, any=False)"
   ]
  },
  {
   "cell_type": "markdown",
   "metadata": {
    "id": "72llQu1JHwbd"
   },
   "source": [
    "Gdy jednak zapytamy, kto ma przezwisko Wafel i nadal `any=False`, nie otrzymamy błędu, bo tylko jedna osoba nosi ten przydomek:"
   ]
  },
  {
   "cell_type": "code",
   "execution_count": null,
   "metadata": {
    "colab": {
     "base_uri": "https://localhost:8080/",
     "height": 54
    },
    "id": "UB83GOoRHwbd",
    "outputId": "a222b010-2dfa-4730-bd84-c12ebdfff793"
   },
   "outputs": [
    {
     "data": {
      "application/vnd.google.colaboratory.intrinsic+json": {
       "type": "string"
      },
      "text/plain": [
       "rdflib.term.URIRef('http://ai.kul.pl/vocab/jan_kowalski')"
      ]
     },
     "execution_count": 44,
     "metadata": {},
     "output_type": "execute_result"
    }
   ],
   "source": [
    "g.value(predicate=FOAF.nick, object=Literal(\"Wafel\"), any=False)"
   ]
  },
  {
   "cell_type": "markdown",
   "metadata": {
    "id": "TQwJE3_9Hwbd"
   },
   "source": [
    "`label()` zwraca wartość `RDFS.label` lub napis będący wartością argumentu `default`."
   ]
  },
  {
   "cell_type": "code",
   "execution_count": null,
   "metadata": {
    "colab": {
     "base_uri": "https://localhost:8080/"
    },
    "id": "sk3dnGhIHwbd",
    "outputId": "8df5ca7a-b8f7-4911-d197-6ff867bead34"
   },
   "outputs": [
    {
     "name": "stdout",
     "output_type": "stream",
     "text": [
      "Tim Berners-Lee\n",
      "Nie ma labela.\n"
     ]
    }
   ],
   "source": [
    "print(g_tbl.label(subject=tbl, default='Nie ma labela.'))\n",
    "print(g.label(subject=tbl, default='Nie ma labela.'))"
   ]
  },
  {
   "cell_type": "markdown",
   "metadata": {
    "id": "xZs9AVwNHwbd"
   },
   "source": [
    "Funkcja `preferredLabel()` zwraca pary `(SKOS.prefLabel, PREF_LABEL_VALUE)` lub `(RDFS.label, LABEL_VALUE)`. Argument `labelProperties` można rozszerzyć o dodatkowe labele, e.g. `SKOS.altLabel`. Jeśli dany zasób będzie posiadał jednocześnie `SKOS.prefLabel` i `RDFS.label`, funkcja zwróci `(SKOS.prefLabel, PREF_LABEL_VALUE)`. "
   ]
  },
  {
   "cell_type": "code",
   "execution_count": null,
   "metadata": {
    "colab": {
     "base_uri": "https://localhost:8080/"
    },
    "id": "EAo1OjBmHwbe",
    "outputId": "4a3e5c3d-d34e-46ee-e866-e18241d360b5"
   },
   "outputs": [
    {
     "name": "stdout",
     "output_type": "stream",
     "text": [
      "[(rdflib.term.URIRef('http://www.w3.org/2000/01/rdf-schema#label'), rdflib.term.Literal('Tim Berners-Lee'))]\n",
      "[(rdflib.term.URIRef('http://www.w3.org/2004/02/skos/core#prefLabel'), rdflib.term.Literal('Sir Tim', lang='en'))]\n",
      "Nie ma żadnej etykiety.\n"
     ]
    }
   ],
   "source": [
    "# g_tbl.remove((tbl, SKOS.prefLabel, None))\n",
    "print(g_tbl.preferredLabel(subject=tbl, lang=None, default=None,\n",
    "                           labelProperties=(rdflib.term.URIRef('http://www.w3.org/2004/02/skos/core#prefLabel'), \n",
    "                                            rdflib.term.URIRef('http://www.w3.org/2000/01/rdf-schema#label'))))\n",
    "\n",
    "g_tbl.add((tbl, SKOS.prefLabel, Literal('Sir Tim', lang='en')))\n",
    "\n",
    "print(g_tbl.preferredLabel(subject=tbl, lang=None, default=None,\n",
    "                           labelProperties=(rdflib.term.URIRef('http://www.w3.org/2004/02/skos/core#prefLabel'), \n",
    "                                            rdflib.term.URIRef('http://www.w3.org/2000/01/rdf-schema#label'))))\n",
    "\n",
    "\n",
    "print(g.preferredLabel(subject=tbl, lang=None, default='Nie ma żadnej etykiety.',\n",
    "                           labelProperties=(rdflib.term.URIRef('http://www.w3.org/2004/02/skos/core#prefLabel'),\n",
    "                                            rdflib.term.URIRef('http://www.w3.org/2000/01/rdf-schema#label'))))"
   ]
  },
  {
   "cell_type": "markdown",
   "metadata": {
    "id": "SJRyv9tzHwbg"
   },
   "source": [
    "## Podgrafy\n",
    "\n",
    "Python allows slicing arrays with a slice object, a triple of start, stop index and step-size:\n",
    "```\n",
    ">>> range(10)[2:9:3] \n",
    "[2, 5, 8]\n",
    "```\n",
    " \n",
    "RDFLib graphs override ``__getitem__`` and we pervert the slice triple to be a RDF triple instead. This lets slice syntax be a shortcut for `triples()`, `subject_predicates()`, `contains()`, and other Graph query-methods:\n",
    "\n",
    "```\n",
    "graph[:]\n",
    "# same as\n",
    "iter(graph)\n",
    "\n",
    "graph[ns.bob]\n",
    "# same as\n",
    "graph.predicate_objects(ns.bob)\n",
    "\n",
    "graph[ns.bob : FOAF.knows]\n",
    "# same as\n",
    "graph.objects(ns.bob, RDFS.label)\n",
    "\n",
    "graph[ns.bob : FOAF.knows : ns.bill]\n",
    "# same as\n",
    "(ns.bob, FOAF.knows, ns.bill) in graph\n",
    "\n",
    "graph[:FOAF.knows]\n",
    "# same as \n",
    "graph.subject_objects(FOAF.knows)\n",
    "```"
   ]
  },
  {
   "cell_type": "code",
   "execution_count": null,
   "metadata": {
    "id": "eBHdhMdmHwbg"
   },
   "outputs": [],
   "source": [
    "for p, o in g[ns.bob]: # g[ns.bob] same as g.predicate_objects(ns.bob)\n",
    "    print(p, o)"
   ]
  },
  {
   "cell_type": "code",
   "execution_count": null,
   "metadata": {
    "id": "sHLPssJcHwbg"
   },
   "outputs": [],
   "source": [
    "for o in g[ns.bob : RDFS.label]: # g[ns.bob : RDFS.label] same as g.objects(ns.bob, RDFS.label)\n",
    "    print(o)"
   ]
  },
  {
   "cell_type": "code",
   "execution_count": null,
   "metadata": {
    "id": "bRpQULwGHwbg"
   },
   "outputs": [],
   "source": [
    "from rdflib.namespace import FOAF\n",
    "g[ns.bob : FOAF.knows : ns.bill] # same as (ns.bob, FOAF.knows, ns.bill) in g"
   ]
  },
  {
   "cell_type": "code",
   "execution_count": null,
   "metadata": {
    "id": "WHrj6HS9Hwbg"
   },
   "outputs": [],
   "source": [
    "for s, p in g[:RDFS.label]: # same as g.subject_objects(RDFS.label)\n",
    "    print(s, p)"
   ]
  },
  {
   "cell_type": "code",
   "execution_count": null,
   "metadata": {
    "id": "xgT9o_2yHwbg"
   },
   "outputs": [],
   "source": [
    "from rdflib import Graph\n",
    "from rdflib.namespace import RDF\n",
    "graph = Graph()\n",
    "\n",
    "g.load(\"https://ebiquity.umbc.edu/person/foaf/Francis/Ferraro/foaf.rdf\", format=\"xml\")\n",
    "\n",
    "for person in graph[: RDF.type : FOAF.Person]:\n",
    "    friends = list(graph[person : FOAF.knows * \"+\" / FOAF.name])\n",
    "    if friends:\n",
    "        print(\"%s's circle of friends:\" % graph.value(person, FOAF.name))\n",
    "        for name in friends:\n",
    "            print(name)"
   ]
  },
  {
   "cell_type": "markdown",
   "metadata": {
    "id": "ayR65EMJHwbe"
   },
   "source": [
    "## Kwerendy SPARQL"
   ]
  },
  {
   "cell_type": "markdown",
   "metadata": {
    "id": "pAMLi4urHwbe"
   },
   "source": [
    "RDFLib pozawala na użycie języka kwerend SPARQL 1.1. Kwerendę SPARQL wykomujemy za pomocą metody `rdflib.graph.Graph.query()`. Argumentem tej metody jest napis, którego zawartość powinna stanowić poprawne kwerenda SPARQL.\n",
    "\n",
    "Metoda `query()` instancję `rdflib.query.Result`. \n",
    "\n",
    "SELECT, będzie to instancja typu `rdflib.query.ResultRow` zwracająca zmienne z kwerendy. \n",
    "\n",
    "Wróćmy jeszcze raz do grafu opisującego sir Tima Bernersa-Lee. Spróbuj odnaleźć w grafie informację dotyczącą adresu, przy którym znajduje się biuro tego wybitnego człowieka.\n"
   ]
  },
  {
   "cell_type": "code",
   "execution_count": 3,
   "metadata": {
    "colab": {
     "base_uri": "https://localhost:8080/"
    },
    "id": "u8w9L1IaHwbe",
    "outputId": "4472e42e-fdbe-4426-a57b-c1c8fae05c6a"
   },
   "outputs": [
    {
     "name": "stdout",
     "output_type": "stream",
     "text": [
      "@prefix cc: <http://creativecommons.org/ns#> .\n",
      "@prefix cert: <http://www.w3.org/ns/auth/cert#> .\n",
      "@prefix con: <http://www.w3.org/2000/10/swap/pim/contact#> .\n",
      "@prefix dc: <http://purl.org/dc/elements/1.1/> .\n",
      "@prefix dcterms: <http://purl.org/dc/terms/> .\n",
      "@prefix doap: <http://usefulinc.com/ns/doap#> .\n",
      "@prefix foaf: <http://xmlns.com/foaf/0.1/> .\n",
      "@prefix geo: <http://www.w3.org/2003/01/geo/wgs84_pos#> .\n",
      "@prefix ldp: <http://www.w3.org/ns/ldp#> .\n",
      "@prefix rdfs: <http://www.w3.org/2000/01/rdf-schema#> .\n",
      "@prefix schema1: <http://schema.org/> .\n",
      "@prefix sioc: <http://rdfs.org/sioc/ns#> .\n",
      "@prefix solid: <http://www.w3.org/ns/solid/terms#> .\n",
      "@prefix space: <http://www.w3.org/ns/pim/space#> .\n",
      "@prefix vcard: <http://www.w3.org/2006/vcard/ns#> .\n",
      "@prefix xsd: <http://www.w3.org/2001/XMLSchema#> .\n",
      "\n",
      "<http://dig.csail.mit.edu/2005/ajar/ajaw/data#Tabulator> doap:developer <https://www.w3.org/People/Berners-Lee/card#i> .\n",
      "\n",
      "<http://dig.csail.mit.edu/2007/01/camp/data#course> foaf:maker <https://www.w3.org/People/Berners-Lee/card#i> .\n",
      "\n",
      "<http://dig.csail.mit.edu/data#DIG> foaf:member <https://www.w3.org/People/Berners-Lee/card#i> .\n",
      "\n",
      "<http://wiki.ontoworld.org/index.php/_IRW2006> dc:title \"Identity, Reference and the Web workshop 2006\" ;\n",
      "    con:participant <https://www.w3.org/People/Berners-Lee/card#i> .\n",
      "\n",
      "<http://www.ecs.soton.ac.uk/~dt2/dlstuff/www2006_data#panel-panelk01> rdfs:label \"The Next Wave of the Web (Plenary Panel)\" ;\n",
      "    con:participant <https://www.w3.org/People/Berners-Lee/card#i> .\n",
      "\n",
      "<http://www.w3.org/2000/10/swap/data#Cwm> doap:developer <https://www.w3.org/People/Berners-Lee/card#i> .\n",
      "\n",
      "<http://www.w3.org/2011/Talks/0331-hyderabad-tbl/data#talk> dcterms:title \"Designing the Web for an Open Society\" ;\n",
      "    foaf:maker <https://www.w3.org/People/Berners-Lee/card#i> .\n",
      "\n",
      "<http://www.w3.org/DesignIssues/Overview.html> dc:title \"Design Issues for the World Wide Web\" ;\n",
      "    foaf:maker <https://www.w3.org/People/Berners-Lee/card#i> .\n",
      "\n",
      "<http://www.w3.org/People/Berners-Lee/card> a foaf:PersonalProfileDocument ;\n",
      "    cc:license <http://creativecommons.org/licenses/by-nc/3.0/> ;\n",
      "    dc:title \"Tim Berners-Lee's FOAF file\" ;\n",
      "    foaf:maker <https://www.w3.org/People/Berners-Lee/card#i> ;\n",
      "    foaf:primaryTopic <https://www.w3.org/People/Berners-Lee/card#i> .\n",
      "\n",
      "<http://www.w3.org/People/Berners-Lee/card#i> cert:key [ a cert:RSAPublicKey ;\n",
      "            cert:exponent 65537 ;\n",
      "            cert:modulus \"ebe99c737bd3670239600547e5e2eb1d1497da39947b6576c3c44ffeca32cf0f2f7cbee3c47001278a90fc7fc5bcf292f741eb1fcd6bbe7f90650afb519cf13e81b2bffc6e02063ee5a55781d420b1dfaf61c15758480e66d47fb0dcb5fa7b9f7f1052e5ccbd01beee9553c3b6b51f4daf1fce991294cd09a3d1d636bc6c7656e4455d0aff06daec740ed0084aa6866fcae1359de61cc12dbe37c8fa42e977c6e727a8258bb9a3f265b27e3766fe0697f6aa0bcc81c3f026e387bd7bbc81580dc1853af2daa099186a9f59da526474ef6ec0a3d84cf400be3261b6b649dea1f78184862d34d685d2d587f09acc14cd8e578fdd2283387821296f0af39b8d8845\"^^xsd:hexBinary ] .\n",
      "\n",
      "<http://www.w3.org/data#W3C> foaf:member <https://www.w3.org/People/Berners-Lee/card#i> .\n",
      "\n",
      "<http://dig.csail.mit.edu/breadcrumbs/blog/4> dc:title \"timbl's blog on DIG\" ;\n",
      "    rdfs:seeAlso <http://dig.csail.mit.edu/breadcrumbs/blog/feed/4> ;\n",
      "    foaf:maker <https://www.w3.org/People/Berners-Lee/card#i> .\n",
      "\n",
      "<https://timbl.com/timbl/Public/friends.ttl> a foaf:PersonalProfileDocument ;\n",
      "    cc:license <http://creativecommons.org/licenses/by-nc/3.0/> ;\n",
      "    dc:title \"Tim Berners-Lee's editable profile\" ;\n",
      "    foaf:maker <https://www.w3.org/People/Berners-Lee/card#i> ;\n",
      "    foaf:primaryTopic <https://www.w3.org/People/Berners-Lee/card#i> .\n",
      "\n",
      "<https://www.w3.org/People/Berners-Lee/card#i> a con:Male,\n",
      "        foaf:Person ;\n",
      "    rdfs:label \"Tim Berners-Lee\" ;\n",
      "    sioc:avatar <http://www.w3.org/People/Berners-Lee/images/timbl-image-by-Coz-cropped.jpg> ;\n",
      "    schema1:owns <https://timblbot.inrupt.net/profile/card#me> ;\n",
      "    rdfs:seeAlso <https://timbl.com/timbl/Public/friends.ttl> ;\n",
      "    con:assistant <https://www.w3.org/People/Berners-Lee/card#amy> ;\n",
      "    con:homePage <http://www.w3.org/People/Berners-Lee/> ;\n",
      "    con:office [ con:address [ con:city \"Cambridge\" ;\n",
      "                    con:country \"USA\" ;\n",
      "                    con:postalCode \"02139\" ;\n",
      "                    con:street \"32 Vassar Street\" ;\n",
      "                    con:street2 \"MIT CSAIL Building 32\" ] ;\n",
      "            geo:location [ geo:lat \"42.361860\" ;\n",
      "                    geo:long \"-71.091840\" ] ] ;\n",
      "    con:preferredURI \"https://www.w3.org/People/Berners-Lee/card#i\" ;\n",
      "    con:publicHomePage <http://www.w3.org/People/Berners-Lee/> ;\n",
      "    vcard:fn \"Tim Berners-Lee\" ;\n",
      "    vcard:hasAddress [ a vcard:Work ;\n",
      "            vcard:locality \"Cambridge\" ;\n",
      "            vcard:postal-code \"02139\" ;\n",
      "            vcard:region \"MA\" ;\n",
      "            vcard:street-address \"32 Vassar Street\" ] ;\n",
      "    ldp:inbox <https://timbl.com/timbl/Public/Inbox> ;\n",
      "    space:preferencesFile <https://timbl.com/timbl/Data/preferences.n3> ;\n",
      "    space:storage <https://timbl.com/timbl/Public/>,\n",
      "        <https://timbl.inrupt.net/>,\n",
      "        <https://timbl.solid.community/> ;\n",
      "    solid:editableProfile <https://timbl.com/timbl/Public/friends.ttl> ;\n",
      "    solid:oidcIssuer <https://timbl.com> ;\n",
      "    solid:profileBackgroundColor \"#ffffff\" ;\n",
      "    solid:profileHighlightColor \"#00467E\" ;\n",
      "    solid:publicTypeIndex <https://timbl.com/timbl/Public/PublicTypeIndex.ttl> ;\n",
      "    foaf:account <http://en.wikipedia.org/wiki/User:Timbl>,\n",
      "        <http://twitter.com/timberners_lee>,\n",
      "        <http://www.reddit.com/user/timbl/> ;\n",
      "    foaf:based_near [ geo:lat \"42.361860\" ;\n",
      "            geo:long \"-71.091840\" ] ;\n",
      "    foaf:family_name \"Berners-Lee\" ;\n",
      "    foaf:givenname \"Timothy\" ;\n",
      "    foaf:homepage <https://www.w3.org/People/Berners-Lee/> ;\n",
      "    foaf:img <https://www.w3.org/Press/Stock/Berners-Lee/2001-europaeum-eighth.jpg> ;\n",
      "    foaf:mbox <mailto:timbl@w3.org> ;\n",
      "    foaf:mbox_sha1sum \"965c47c5a70db7407210cef6e4e6f5374a525c5c\" ;\n",
      "    foaf:name \"Timothy Berners-Lee\" ;\n",
      "    foaf:nick \"TimBL\",\n",
      "        \"timbl\" ;\n",
      "    foaf:openid <https://www.w3.org/People/Berners-Lee/> ;\n",
      "    foaf:title \"Sir\" ;\n",
      "    foaf:weblog <http://dig.csail.mit.edu/breadcrumbs/blog/4> ;\n",
      "    foaf:workplaceHomepage <https://www.w3.org/> .\n",
      "\n",
      "\n"
     ]
    }
   ],
   "source": [
    "import rdflib\n",
    "g_tbl = rdflib.Graph()\n",
    "g_tbl.parse(\"http://www.w3.org/People/Berners-Lee/card\")\n",
    "print(g_tbl.serialize(format=\"turtle\"))"
   ]
  },
  {
   "cell_type": "markdown",
   "metadata": {
    "id": "OLUdPuYgE4Xq"
   },
   "source": [
    "Użyjmy teraz metody `query()` oraz stwórzmy poprawną kwerendę to wydobycia z grafu informacji o adresie biura Tima Bernersa-Lee."
   ]
  },
  {
   "cell_type": "code",
   "execution_count": 6,
   "metadata": {
    "id": "m5e_cuWGHwbe"
   },
   "outputs": [],
   "source": [
    "qres = g_tbl.query(\"\"\"\n",
    "    PREFIX foaf: <http://xmlns.com/foaf/0.1/>\n",
    "    PREFIX con: <http://www.w3.org/2000/10/swap/pim/contact#>\n",
    "    SELECT DISTINCT ?aname ?astreet\n",
    "        WHERE {\n",
    "            ?a foaf:name ?aname ;\n",
    "               con:office ?_office .\n",
    "            ?_office con:address ?_address .\n",
    "            ?_address con:street ?astreet .\n",
    "    }\"\"\")"
   ]
  },
  {
   "cell_type": "markdown",
   "metadata": {
    "id": "Yvd6w9mZHwbe"
   },
   "source": [
    "Wynikiem kwerendy typu SELECT jest lista n-elementowych krotek (n-tek), gdzie n jest liczną zminnych występujących po SELECT. Wyniki kwerendy można wydobyć iterując po tych krotkach. Do poszczególnych informacji możemy odnieść się za pomocą indeksów lub używając nazw zmiennych."
   ]
  },
  {
   "cell_type": "code",
   "execution_count": 12,
   "metadata": {
    "colab": {
     "base_uri": "https://localhost:8080/"
    },
    "id": "YB7ZQM3lHwbe",
    "outputId": "2522631b-aa70-4e8d-a4de-14fe25c5f111"
   },
   "outputs": [
    {
     "name": "stdout",
     "output_type": "stream",
     "text": [
      "qres = [(rdflib.term.Literal('Timothy Berners-Lee'), rdflib.term.Literal('32 Vassar Street'))]\n"
     ]
    }
   ],
   "source": [
    "print(f\"qres = {list(qres)}\")"
   ]
  },
  {
   "cell_type": "code",
   "execution_count": 13,
   "metadata": {
    "colab": {
     "base_uri": "https://localhost:8080/"
    },
    "id": "qRYK-7z4GFDy",
    "outputId": "c06480d7-f493-429b-9c02-5cb81ea9df52"
   },
   "outputs": [
    {
     "name": "stdout",
     "output_type": "stream",
     "text": [
      "Timothy Berners-Lee lives at 32 Vassar Street.\n"
     ]
    }
   ],
   "source": [
    "for row in qres:\n",
    "    print(f\"{row[0]} lives at {row[1]}.\")"
   ]
  },
  {
   "cell_type": "code",
   "execution_count": 20,
   "metadata": {
    "colab": {
     "base_uri": "https://localhost:8080/"
    },
    "id": "uj7V6zJ_Hwbf",
    "outputId": "a55e1262-69b4-4910-92c9-fa29239a8190"
   },
   "outputs": [
    {
     "name": "stdout",
     "output_type": "stream",
     "text": [
      "Timothy Berners-Lee ma biuro przy 32 Vassar Street.\n",
      "Timothy Berners-Lee ma biuro przy 32 Vassar Street.\n"
     ]
    }
   ],
   "source": [
    "for row in qres:\n",
    "    print(f\"{row.aname} ma biuro przy {row.astreet}.\")\n",
    "    \n",
    "for row in qres:\n",
    "    print(f'{row[\"aname\"]} ma biuro przy {row[\"astreet\"]}.')   "
   ]
  },
  {
   "cell_type": "markdown",
   "metadata": {
    "id": "D3lPFGlNHwbf"
   },
   "source": [
    "### Przygotowane kwerendy\n",
    "\n",
    "Metoda `rdflib.plugins.sparql.prepareQuery()` przyjmuje kwerendę jako napis i zwróci obiekt typu `rdflib.plugins.sparql.sparql.Query`. Można to następnie przekazać do metody `rdflib.graph.Graph.query()`.\n",
    "\n",
    "`initBindings` może być użyty do przekazania słownika powiązań."
   ]
  },
  {
   "cell_type": "code",
   "execution_count": 60,
   "metadata": {
    "colab": {
     "base_uri": "https://localhost:8080/"
    },
    "id": "DPDr-YVQHwbf",
    "outputId": "c0f43234-462d-4c15-eca8-74cd976fba93"
   },
   "outputs": [
    {
     "name": "stdout",
     "output_type": "stream",
     "text": [
      "Timothy Berners-Lee\n"
     ]
    }
   ],
   "source": [
    "from rdflib.namespace import FOAF\n",
    "from rdflib.plugins.sparql import prepareQuery\n",
    "\n",
    "prepared_query = prepareQuery('SELECT ?s WHERE { ?person foaf:name ?s .}', \n",
    "                              initNs = {\"foaf\": FOAF})\n",
    "\n",
    "g_tbl = rdflib.Graph() \n",
    "g_tbl.load(\"http://www.w3.org/People/Berners-Lee/card\")\n",
    "\n",
    "tim = rdflib.URIRef(\"https://www.w3.org/People/Berners-Lee/card#i\")\n",
    "\n",
    "for row in g_tbl.query(prepared_query, initBindings= {'person': tim}): \n",
    "    print(row[0].value)"
   ]
  },
  {
   "cell_type": "markdown",
   "metadata": {
    "id": "JQcnHbzMHwbf"
   },
   "source": [
    "### Endpointy SPARQL"
   ]
  },
  {
   "cell_type": "code",
   "execution_count": 6,
   "metadata": {
    "colab": {
     "base_uri": "https://localhost:8080/",
     "height": 105
    },
    "id": "otFI0cQKHwbf",
    "outputId": "04d0107b-c647-4a12-e649-2303333c5d2b"
   },
   "outputs": [
    {
     "data": {
      "application/vnd.google.colaboratory.intrinsic+json": {
       "type": "string"
      },
      "text/plain": [
       "'Semantic Web (sieci semantyczne) – projekt, który ma przyczynić się do utworzenia i rozpowszechnienia standardów opisywania treści w Internecie w sposób, który umożliwi maszynom i programom (np. tzw. agentom) przetwarzanie informacji w sposób odpowiedni do ich znaczenia. Wśród standardów sieci semantycznych znajdują się m.in. OWL, RDF, RDF Schema (inaczej RDFS). Znaczenia zasobów informacyjnych określa się za pomocą tzw. ontologii. Sieć semantyczna jest wizją Tima Bernersa-Lee (twórcy standardu WWW i pierwszej przeglądarki internetowej, a także przewodniczącego W3C). W swoich założeniach sieć semantyczna ma korzystać z istniejącego protokołu komunikacyjnego, na którym bazuje dzisiejszy Internet. Różnica miałaby polegać na tym, że przesyłane dane mogłyby być \\'rozumiane\\' także przez maszyny. Owo \\'rozumienie\\' polegałoby na tym, że dane przekazywane byłyby w postaci, w której można by powiązać ich znaczenia między sobą, a także w ramach odpowiedniego kontekstu. Informacje przekazywane w ramach sieci semantycznej wymagałyby nie tylko samych danych, ale także informacji o tychże (tzw. meta-danych). To właśnie meta-dane zawierałyby sformułowania dotyczące relacji między danymi oraz prawa logiki, które można do nich zastosować. Dzięki temu można by: \\n* powiązać różne dane znajdujące się w Internecie w ramach wspólnych jednostek znaczeniowych (np. strony dotyczące filmów, dziedzin nauki, kuchni francuskiej, etc.) \\n* rozróżnić dane, które dla maszyn są w tej chwili nierozróżnialne ze względu na identyczny zapis tekstowy (np. zamek - urządzenie do zamykania drzwi; urządzenie do łączenia w ustalonym położeniu elementów ubrania; okazała budowla mieszkalno-obronna) \\n* przeprowadzać na tychże danych wnioskowania, tzn. otrzymywać informacje na ich temat, które nie są zawarte (np. na podstawie danej \"Ewa jest żoną Adama\", możemy też dowiedzieć się, że Ewa jest kobietą, Adam mężczyzną, Adam jest mężem Ewy, żaden inny mężczyzna nie jest mężem Ewy, etc.)'"
      ]
     },
     "execution_count": 6,
     "metadata": {},
     "output_type": "execute_result"
    }
   ],
   "source": [
    "import rdflib\n",
    "\n",
    "g = rdflib.Graph(store=\"SPARQLStore\")\n",
    "g.open(configuration=\"http://dbpedia.org/sparql\")\n",
    "\n",
    "qres = g.query('''\n",
    "               PREFIX db: <http://dbpedia.org/resource/>\n",
    "               PREFIX dbo: <http://dbpedia.org/ontology/>\n",
    "               SELECT ?abstract \n",
    "               WHERE {\n",
    "                 db:Semantic_Web dbo:abstract ?abstract .\n",
    "                 FILTER (lang(?abstract) = 'pl')\n",
    "                 } \n",
    "               ''') \n",
    "\n",
    "list(qres)[0][0].value"
   ]
  },
  {
   "cell_type": "code",
   "execution_count": 13,
   "metadata": {
    "colab": {
     "base_uri": "https://localhost:8080/"
    },
    "id": "GofmlerTHwbf",
    "outputId": "dd9d0dc0-ee90-4b37-d55c-c991341a0696"
   },
   "outputs": [
    {
     "name": "stdout",
     "output_type": "stream",
     "text": [
      "Semantic Web\n"
     ]
    }
   ],
   "source": [
    "from rdflib import Graph, URIRef, Namespace\n",
    "\n",
    "dbo = Namespace(\"http://dbpedia.org/ontology/\")\n",
    "\n",
    "graph = Graph(store=\"SPARQLStore\", identifier=\"http://dbpedia.org\")\n",
    "graph.open(\"http://dbpedia.org/sparql\")\n",
    "\n",
    "label = graph.label(URIRef(\"http://dbpedia.org/resource/Semantic_Web\"))\n",
    "\n",
    "print(label)"
   ]
  },
  {
   "cell_type": "markdown",
   "metadata": {
    "id": "2qmY-Jw0Hwbg"
   },
   "source": [
    "### Update"
   ]
  },
  {
   "cell_type": "markdown",
   "metadata": {
    "id": "hMs53dfWDu6b"
   },
   "source": [
    "`rdflib.graph.Graph.update()`...\n",
    "\n",
    "\n",
    "<!-- CONSTRUCT/DESCRIBE queries, iterating over the result object gives the triples. \n",
    "\n",
    "ASK queries, iterating will yield the single boolean answer, or evaluating the result object in a boolean-context (i.e. `bool(result)`) -->"
   ]
  },
  {
   "cell_type": "code",
   "execution_count": 19,
   "metadata": {
    "colab": {
     "base_uri": "https://localhost:8080/"
    },
    "id": "5cNzHy58Hwbg",
    "outputId": "38015725-0b2e-4cd7-8f36-b126857740b9"
   },
   "outputs": [
    {
     "name": "stdout",
     "output_type": "stream",
     "text": [
      "Na początku mamy 86 trójek.\n",
      "Po wykonaniu UPDATE mamy 87 trójek.\n"
     ]
    }
   ],
   "source": [
    "# sparql_update_example.py\n",
    "\n",
    "import rdflib\n",
    "\n",
    "g = rdflib.Graph()\n",
    "g.parse(\"http://www.w3.org/People/Berners-Lee/card\")\n",
    "\n",
    "print(f\"Na początku mamy {len(g)} trójek.\")\n",
    "\n",
    "g.update(\n",
    "    \"\"\"\n",
    "    PREFIX foaf: <http://xmlns.com/foaf/0.1/>\n",
    "    PREFIX dbpedia: <http://dbpedia.org/resource/>\n",
    "    INSERT\n",
    "        { ?s a dbpedia:Human . }\n",
    "    WHERE\n",
    "        { ?s a foaf:Person . }\n",
    "    \"\"\"\n",
    ")\n",
    "print(f\"Po wykonaniu UPDATE mamy {len(g)} trójek.\")"
   ]
  },
  {
   "cell_type": "code",
   "execution_count": 17,
   "metadata": {
    "colab": {
     "base_uri": "https://localhost:8080/"
    },
    "id": "zJjMFJ6qHwbf",
    "outputId": "d6171b93-6d33-48db-c237-8966590cc0a3"
   },
   "outputs": [
    {
     "name": "stdout",
     "output_type": "stream",
     "text": [
      "Semantic Web\n",
      "ويب دلالي\n",
      "Web semàntic\n",
      "Sémantický web\n",
      "Semantic Web\n",
      "Σημασιολογικός Ιστός\n",
      "Semantika Reto\n",
      "Web semántica\n",
      "Web semantiko\n",
      "Web sémantique\n",
      "Web semantik\n",
      "Web semantico\n",
      "セマンティック・ウェブ\n",
      "시맨틱 웹\n",
      "Semantisch web\n",
      "Semantic Web\n",
      "Семантическая паутина\n",
      "Web semântica\n",
      "Semantiska webben\n",
      "Семантична павутина\n",
      "语义网\n"
     ]
    }
   ],
   "source": [
    "from rdflib.plugins.stores.sparqlstore import SPARQLStore\n",
    "from rdflib.namespace import RDFS\n",
    "\n",
    "st = SPARQLStore(\"http://dbpedia.org/sparql\")\n",
    "\n",
    "for label in st.objects(URIRef(\"http://dbpedia.org/resource/Semantic_Web\"), RDFS.label):\n",
    "    print(label)"
   ]
  },
  {
   "cell_type": "markdown",
   "metadata": {
    "id": "YbvN8mTmHwbh"
   },
   "source": [
    "## Set Operations on RDFLib Graphs\n",
    "\n",
    "Graphs override several pythons operators: `__iadd__()`, `__isub__()`, etc. This supports addition, subtraction and other set-operations on Graphs:"
   ]
  },
  {
   "cell_type": "markdown",
   "metadata": {
    "id": "3iNsABh3Hwbh"
   },
   "source": [
    "<table>\n",
    "<tr>\n",
    "<th>operation</th>\n",
    "<th>effect</th>\n",
    "</tr>\n",
    "\n",
    "<tr>\n",
    "<td>G1 + G2</td>\n",
    "<td>returns new graph with union</td>\n",
    "</tr>\n",
    "\n",
    "<tr>\n",
    "<td>G1 += G1</td>\n",
    "<td>union / addition</td>\n",
    "</tr>\n",
    "    \n",
    "<tr>\n",
    "<td>G1 - G2</td>\n",
    "<td>returns new graph with difference</td>\n",
    "</tr>\n",
    "\n",
    "<tr>\n",
    "<td>G1 -= G1</td>\n",
    "<td>difference / subtraction</td>\n",
    "</tr>\n",
    "    \n",
    "<tr>\n",
    "<td>G1 & G2</td>\n",
    "<td>intersection (triples in both graphs)</td>\n",
    "</tr>\n",
    "\n",
    "<tr>\n",
    "<td>G1 ^ G1</td>\n",
    "<td>xor (triples in either G1 or G2, but not in both)</td>\n",
    "</tr>    \n",
    "</table>\n",
    "\n",
    "**Warning** Set-operations on graphs assume Blank Nodes are shared between graphs. This may or may not do what you want. See 2.4 Merging graphs for details."
   ]
  },
  {
   "cell_type": "code",
   "execution_count": null,
   "metadata": {
    "id": "naNuTKycHwbh"
   },
   "outputs": [],
   "source": [
    "\"\"\"\n",
    "An RDFLib ConjunctiveGraph is an (unnamed) aggregation of all the named graphs\n",
    "within a Store. The :meth:`~rdflib.graph.ConjunctiveGraph.get_context`\n",
    "method can be used to get a particular named graph for use such as to add\n",
    "triples to, or the default graph can be used\n",
    "\n",
    "This example shows how to create named graphs and work with the\n",
    "conjunction (union) of all the graphs.\n",
    "\"\"\"\n",
    "\n",
    "from rdflib import Namespace, Literal, URIRef\n",
    "from rdflib.graph import Graph, ConjunctiveGraph\n",
    "from rdflib.plugins.memory import IOMemory\n",
    "\n",
    "\n",
    "ns = Namespace(\"http://love.com#\")\n",
    "\n",
    "mary = URIRef(\"http://love.com/lovers/mary\")\n",
    "john = URIRef(\"http://love.com/lovers/john\")\n",
    "\n",
    "cmary = URIRef(\"http://love.com/lovers/mary\")\n",
    "cjohn = URIRef(\"http://love.com/lovers/john\")\n",
    "\n",
    "store = IOMemory()\n",
    "\n",
    "g = ConjunctiveGraph(store=store)\n",
    "\n",
    "g.bind(\"love\", ns)\n",
    "\n",
    "# add a graph for Mary's facts to the Conjunctive Graph\n",
    "gmary = Graph(store=store, identifier=cmary)\n",
    "\n",
    "# Mary's graph only contains the URI of the person she love, not his cute name\n",
    "gmary.add((mary, ns[\"hasName\"], Literal(\"Mary\")))\n",
    "gmary.add((mary, ns[\"loves\"], john))\n",
    "\n",
    "\n",
    "\n",
    "# add a graph for John's facts to the Conjunctive Graph\n",
    "gjohn = Graph(store=store, identifier=cjohn)\n",
    "\n",
    "# John's graph contains his cute name\n",
    "gjohn.add((john, ns[\"hasCuteName\"], Literal(\"Johnny Boy\")))\n",
    "\n",
    "\n",
    "print(\"\\n1. ===================\\n\")\n",
    "# enumerate contexts\n",
    "for c in g.contexts():\n",
    "    print(\"-- %s \" % c)\n",
    "\n",
    "print(\"\\n2. ===================\\n\")\n",
    "# separate graphs\n",
    "print(gjohn.serialize(format=\"n3\"))\n",
    "print(\"===================\")\n",
    "print(gmary.serialize(format=\"n3\"))\n",
    "\n",
    "print(\"\\n3. ===================\\n\")\n",
    "# full graph\n",
    "print(g.serialize(format=\"n3\"))\n",
    "\n",
    "print(\"\\n4. ===================\\n\")\n",
    "# query the conjunction of all graphs\n",
    "xx = None\n",
    "for x in g[mary : ns.loves / ns.hasCuteName]:\n",
    "    xx = x\n",
    "print(\"Q: Who does Mary love?\")\n",
    "print(\"A: Mary loves {}\".format(xx))\n",
    "\n",
    "print(\"\\n5. ===================\\n\")\n",
    "# query the conjunction of all graphs\n",
    "xx = None\n",
    "for x in gmary[mary : ns.loves / ns.hasCuteName]:\n",
    "    xx = x\n",
    "print(\"Q: Who does Mary love?\")\n",
    "print(\"A: Mary loves {}\".format(xx))"
   ]
  },
  {
   "cell_type": "markdown",
   "metadata": {
    "id": "wNXnIRaqHwbh"
   },
   "source": [
    "## Mapping between RDF data-typed literals and Python objects"
   ]
  },
  {
   "cell_type": "code",
   "execution_count": null,
   "metadata": {
    "id": "CfE-TwWmHwbh"
   },
   "outputs": [],
   "source": [
    "\"\"\"\n",
    "RDFLib can map between RDF data-typed literals and Python objects.\n",
    "\n",
    "Mapping for integers, floats, dateTimes, etc. are already added, but\n",
    "you can also add your own.\n",
    "\n",
    "This example shows how :meth:`rdflib.term.bind` lets you register new\n",
    "mappings between literal datatypes and Python objects\n",
    "\"\"\"\n",
    "\n",
    "from rdflib import Graph, Literal, Namespace, XSD\n",
    "from rdflib.term import bind\n",
    "\n",
    "# complex numbers are not registered by default\n",
    "# no custom constructor/serializer needed since\n",
    "# complex('(2+3j)') works fine\n",
    "bind(XSD.complexNumber, complex)\n",
    "\n",
    "ns = Namespace(\"urn:my:namespace:\")\n",
    "\n",
    "c = complex(2, 3)\n",
    "\n",
    "l = Literal(c)\n",
    "\n",
    "g = Graph()\n",
    "g.add((ns.mysubject, ns.myprop, l))\n",
    "\n",
    "n3 = g.serialize(format=\"n3\")\n",
    "print(n3)\n",
    "\n",
    "# round-trip through n3 serialize/parse\n",
    "g2 = Graph()\n",
    "g2.parse(data=n3, format=\"n3\")\n",
    "    \n",
    "l2 = list(g2)[0][2]\n",
    "\n",
    "print(l2)\n",
    "\n",
    "print(l2.value == c)  # back to a python complex object\n"
   ]
  },
  {
   "cell_type": "markdown",
   "metadata": {
    "id": "vOClrf-5Hwbi"
   },
   "source": [
    "## Wprawki"
   ]
  },
  {
   "cell_type": "markdown",
   "metadata": {
    "id": "JfCF7aGJHwbi"
   },
   "source": [
    "### Wprawka - Polscy Poeci\n",
    "\n",
    "Użyj kwerendy SPARQLowej, aby wydobyć z DBpedii następujące informacje o polskich poeatach:\n",
    "- nazwa (imię i nazwisko)\n",
    "- data urodzenia\n",
    "- biogram (w języku polskim)\n",
    "\n",
    "Jakich relacji i klas użyjesz?\n",
    "\n",
    "Wynik kwerendy umieść w liście, którą zapisz następnie jako plik excele."
   ]
  },
  {
   "cell_type": "code",
   "execution_count": null,
   "metadata": {
    "id": "DZwYTlKcHwbi"
   },
   "outputs": [],
   "source": [
    "# Pani Alicja\n",
    "from rdflib import Graph\n",
    "import pandas as pd\n",
    "graph = Graph(\"SPARQLStore\", identifier=\"http://dbpedia.org\")\n",
    "graph.open(\"http://dbpedia.org/sparql\")\n",
    "\n",
    "lista = graph.query('''\n",
    "PREFIX rdf: <http://www.w3.org/1999/02/22-rdf-syntax-ns#>\n",
    "PREFIX dbo: <http://dbpedia.org/ontology/>\n",
    "SELECT ?birthName ?birthDate ?abstract\n",
    "WHERE {?s rdf:type <http://dbpedia.org/class/yago/WikicatPolishPoets> ;\n",
    "                    dbo:birthName ?birthName ;\n",
    "                    dbo:birthDate ?birthDate ;\n",
    "                    dbo:abstract ?abstract }\n",
    "''')\n",
    "\n",
    "poets_list = []\n",
    "for row in lista:\n",
    "    poets_list.append([row.birthName, row.birthDate, row.abstract])\n",
    "\n",
    "# poets = {\n",
    "#     'birthName': [],\n",
    "#     'birthDate': [],\n",
    "#     'abstract': []\n",
    "# }\n",
    "\n",
    "# for poet in poets_list:\n",
    "#     poets['birthName'].append(poet[0])\n",
    "#     poets['birthDate'].append(poet[1])\n",
    "#     poets['abstract'].append(poet[2])\n",
    "\n",
    " \n",
    "df = pd.DataFrame(poets_list, columns = ['birthName', 'birthDate', 'abstract'])\n",
    "df.to_excel('poets_alicja.xlsx', index=False, header=True)"
   ]
  },
  {
   "cell_type": "code",
   "execution_count": null,
   "metadata": {
    "id": "i6wxU0tyHwbi"
   },
   "outputs": [],
   "source": [
    "# Pan Rafał\n",
    "\n",
    "graph = Graph(\"SPARQLStore\", identifier=\"http://dbpedia.org\")\n",
    "graph.open(\"http://dbpedia.org/sparql\")\n",
    "\n",
    "temp = graph.query('''\n",
    "PREFIX rdf: <http://www.w3.org/1999/02/22-rdf-syntax-ns#>\n",
    "PREFIX dbo: <http://dbpedia.org/ontology/>\n",
    "SELECT ?birthName ?birthDate ?abstract\n",
    "WHERE {?ppoet rdf:type <http://dbpedia.org/class/yago/WikicatPolishPoets> ;\n",
    "                    dbo:birthName ?birthName ;\n",
    "                    dbo:birthDate ?birthDate ;\n",
    "                    dbo:abstract ?abstract}'''\n",
    "                  )\n",
    "\n",
    "print(temp)\n",
    "\n",
    "poets_list = []\n",
    "for row in temp:\n",
    "    poets_list.append([row.birthName, row.birthDate, row.abstract])\n",
    "\n",
    "df = pd.DataFrame(poets_list, columns = ['Name', 'Birth date', 'Abstract'])\n",
    "df.to_excel('Lista_poetow_Rafal.xlsx', encoding='UTF-8')"
   ]
  },
  {
   "cell_type": "code",
   "execution_count": null,
   "metadata": {
    "id": "8UhOG_3hHwbi"
   },
   "outputs": [],
   "source": [
    "from rdflib import Graph\n",
    "from rdflib.plugins.stores.sparqlstore import SPARQLStore\n",
    "import pandas as pd\n",
    "\n",
    "graph = Graph(\"SPARQLStore\", identifier=\"http://dbpedia.org\")\n",
    "graph.open(\"http://dbpedia.org/sparql\")\n",
    "\n",
    "qres = graph.query('''\n",
    "                    PREFIX rdf: <http://www.w3.org/1999/02/22-rdf-syntax-ns#>\n",
    "                    PREFIX dbo: <http://dbpedia.org/ontology/>\n",
    "                    PREFIX yago: <http://dbpedia.org/class/yago/>\n",
    "                    SELECT ?birthName ?birthDate ?abstract\n",
    "                    WHERE {?ppoet rdf:type yago:WikicatPolishPoets ;\n",
    "                                    dbo:birthName ?birthName ; \n",
    "                                    dbo:birthDate ?birthDate ;\n",
    "                                    dbo:abstract ?abstract }\n",
    "                    '''\n",
    "                  )\n",
    "\n",
    "poets_list = []\n",
    "\n",
    "for row in qres:\n",
    "    if row.abstract.language == \"pl\":\n",
    "        poets_list.append([row.birthName.value, \n",
    "                           str(row.birthDate.value), \n",
    "                           row.abstract.value])   \n",
    "    \n",
    "poets_list[0]\n",
    "df = pd.DataFrame(poets_list)\n",
    "df.to_excel(\"polish_poets_pl.xlsx\", header=[\"Imię i nazwisko\", \"Data urodzenia\", \"Biogram\"])  "
   ]
  },
  {
   "cell_type": "code",
   "execution_count": null,
   "metadata": {
    "id": "Vu8pTq4SHwbi"
   },
   "outputs": [],
   "source": [
    "from rdflib import Graph\n",
    "from rdflib.plugins.stores.sparqlstore import SPARQLStore\n",
    "import pandas as pd\n",
    "\n",
    "graph = Graph(\"SPARQLStore\", identifier=\"http://dbpedia.org\")\n",
    "graph.open(\"http://dbpedia.org/sparql\")\n",
    "\n",
    "qres = graph.query('''\n",
    "                    PREFIX rdf: <http://www.w3.org/1999/02/22-rdf-syntax-ns#>\n",
    "                    PREFIX dbo: <http://dbpedia.org/ontology/>\n",
    "                    PREFIX yago: <http://dbpedia.org/class/yago/>\n",
    "                    SELECT ?birthName ?birthDate ?abstract\n",
    "                    WHERE {?ppoet rdf:type yago:WikicatPolishPoets ;\n",
    "                                    dbo:birthName ?birthName ; \n",
    "                                    dbo:birthDate ?birthDate ;\n",
    "                                    dbo:abstract ?abstract .\n",
    "                           FILTER(lang(?abstract) = 'pl')         \n",
    "                            }\n",
    "                    '''\n",
    "                  )\n",
    "\n",
    "poets_list = []\n",
    "\n",
    "for row in qres:\n",
    "    poets_list.append([row.birthName.value, \n",
    "                       str(row.birthDate.value), \n",
    "                       row.abstract.value])   \n",
    "    \n",
    "poets_list[0]\n",
    "df = pd.DataFrame(poets_list)\n",
    "df.to_excel(\"polish_poets2_pl.xlsx\", header=[\"Imię i nazwisko\", \"Data urodzenia\", \"Biogram\"])  "
   ]
  },
  {
   "cell_type": "code",
   "execution_count": null,
   "metadata": {
    "id": "kpX6pXraHwbi"
   },
   "outputs": [],
   "source": [
    "from rdflib import Graph\n",
    "from rdflib.plugins.stores.sparqlstore import SPARQLStore\n",
    "import pandas as pd\n",
    "\n",
    "graph = Graph(\"SPARQLStore\", identifier=\"http://dbpedia.org\")\n",
    "graph.open(\"http://dbpedia.org/sparql\")\n",
    "\n",
    "qres = graph.query('''\n",
    "                    PREFIX rdf: <http://www.w3.org/1999/02/22-rdf-syntax-ns#>\n",
    "                    PREFIX dbo: <http://dbpedia.org/ontology/>\n",
    "                    PREFIX yago: <http://dbpedia.org/class/yago/>\n",
    "                    PREFIX xsd: <http://www.w3.org/2001/XMLSchema#>\n",
    "                    PREFIX foaf: <http://xmlns.com/foaf/0.1/>\n",
    "                    SELECT ?foafName ?birthDate ?abstract\n",
    "                    WHERE {?ppoet rdf:type yago:WikicatPolishPoets .\n",
    "                           OPTIONAL { ?ppoet foaf:name ?foafName . }          \n",
    "                           OPTIONAL { ?ppoet dbo:birthDate ?birthDate . }\n",
    "                           OPTIONAL { ?ppoet dbo:abstract ?abstract . }\n",
    "                           FILTER (lang(?abstract) = 'pl')\n",
    "                           FILTER (REGEX(STR(?birthDate),\"[0-9]{4}-[0-9]{2}-[0-9]{2}\")).\n",
    "                            }\n",
    "                    '''\n",
    "                  )\n",
    "\n",
    "poets_list = []\n",
    "\n",
    "for row in qres:\n",
    "    poets_list.append([str(row.foafName), \n",
    "                       str(row.birthDate), \n",
    "                       row.abstract.value])   \n",
    "    \n",
    "df = pd.DataFrame(poets_list)\n",
    "df.to_excel(\"polish_poets4_date.xlsx\", header=[\"Imię i nazwisko\", \"Data urodzenia\", \"Biogram\"])  "
   ]
  },
  {
   "cell_type": "code",
   "execution_count": null,
   "metadata": {
    "id": "bFm85dMsHwbj"
   },
   "outputs": [],
   "source": [
    "from rdflib import Graph\n",
    "from rdflib.plugins.stores.sparqlstore import SPARQLStore\n",
    "import pandas as pd\n",
    "\n",
    "graph = Graph(\"SPARQLStore\", identifier=\"http://dbpedia.org\")\n",
    "graph.open(\"http://dbpedia.org/sparql\")\n",
    "\n",
    "qres = graph.query('''\n",
    "PREFIX rdfs: <http://www.w3.org/2000/01/rdf-schema#>\n",
    "PREFIX dbo: <http://dbpedia.org/ontology/>\n",
    "PREFIX xsd: <http://www.w3.org/2001/XMLSchema#>\n",
    "PREFIX foaf: <http://xmlns.com/foaf/0.1/>\n",
    "PREFIX dbr: <http://dbpedia.org/resource/>\n",
    "SELECT ?name ?birth ?description ?person \n",
    "WHERE {?person a dbo:Philosopher .\n",
    "?person dbo:birthPlace dbr:Warsaw .\n",
    "?person dbo:birthDate ?birth .\n",
    "?person foaf:name ?name .\n",
    "?person rdfs:comment ?description .\n",
    "FILTER (LANG(?description) = 'pl') . \n",
    "} \n",
    "ORDER BY ?name\n",
    "''')\n",
    "\n",
    "for row in qres:\n",
    "    print(row.name, \"\\n\", \" \", row.birth, \"\\n\", \"  \", row.person, \"\\n\", \"   \", row.description, \"\\n\")"
   ]
  },
  {
   "cell_type": "markdown",
   "metadata": {
    "id": "-sKdP5zdHwbj"
   },
   "source": [
    "### Wprawka -  Scarlett Johansson i problem najmniejszej miejscowości\n",
    "\n",
    "https://imdbpy.readthedocs.io/en/latest/"
   ]
  },
  {
   "cell_type": "code",
   "execution_count": null,
   "metadata": {
    "id": "2FpLMWXYHwbj"
   },
   "outputs": [],
   "source": [
    "\"\"\"\n",
    "Requires download and import of Python imdb library from\n",
    "https://imdbpy.github.io/ - (warning: installation\n",
    "will trigger automatic installation of several other packages)\n",
    "\"\"\"\n",
    "\n",
    "!pip install imdbpy"
   ]
  },
  {
   "cell_type": "code",
   "execution_count": null,
   "metadata": {
    "id": "tzCXAqQsHwbj"
   },
   "outputs": [],
   "source": [
    "import datetime\n",
    "import os\n",
    "import sys\n",
    "import re\n",
    "import time\n",
    "\n",
    "try:\n",
    "    import imdb\n",
    "except ImportError:\n",
    "    imdb = None\n",
    "\n",
    "from rdflib import BNode, ConjunctiveGraph, URIRef, Literal, Namespace, RDF\n",
    "from rdflib.namespace import FOAF, DC\n",
    "\n",
    "storefn = os.path.expanduser(\"movies.n3\")\n",
    "storeuri = storefn\n",
    "\n",
    "IMDB = Namespace(\"http://imdb.com/\")\n",
    "\n",
    "class Store:\n",
    "    def __init__(self):\n",
    "        self.graph = ConjunctiveGraph()\n",
    "        if os.path.exists(storefn):\n",
    "            self.graph.load(storeuri, format=\"n3\")\n",
    "        self.graph.bind(\"dc\", DC)\n",
    "        self.graph.bind(\"foaf\", FOAF)\n",
    "        self.graph.bind(\"imdb\", IMDB)\n",
    "\n",
    "    def save(self):\n",
    "        self.graph.serialize(storeuri, format=\"n3\")\n",
    "\n",
    "    def new_movie(self, movie):\n",
    "        movieuri = URIRef(\"http://www.imdb.com/title/tt%s/\" % movie.movieID)\n",
    "        self.graph.add((movieuri, RDF.type, IMDB[\"Movie\"]))\n",
    "        self.graph.add((movieuri, DC[\"title\"], Literal(movie[\"title\"])))\n",
    "        self.graph.add((movieuri, IMDB[\"year\"], Literal(int(movie[\"year\"]))))\n",
    "        self.save()\n",
    "\n",
    "    def movie_is_in(self, uri):\n",
    "        return (URIRef(uri), RDF.type, IMDB[\"Movie\"]) in self.graph\n",
    "\n",
    "\n",
    "i = imdb.IMDb()\n",
    "movie = i.get_movie(\"0133093\")\n",
    "print(\"%s (%s)\" % (movie[\"title\"].encode(\"utf-8\"), movie[\"year\"]))\n",
    "\n",
    "for director in movie[\"director\"]:\n",
    "    print(\"directed by: %s\" % director[\"name\"].encode(\"utf-8\"))\n",
    "\n",
    "for writer in movie[\"writer\"]:\n",
    "    print(\"written by: %s\" % writer[\"name\"].encode(\"utf-8\"))\n",
    "\n",
    "s = Store()    \n",
    "s.new_movie(movie)"
   ]
  },
  {
   "cell_type": "code",
   "execution_count": null,
   "metadata": {
    "id": "Yc1-oCNoHwbj"
   },
   "outputs": [],
   "source": [
    "movie['rating']"
   ]
  },
  {
   "cell_type": "code",
   "execution_count": null,
   "metadata": {
    "id": "K8WRUcSSHwbj"
   },
   "outputs": [],
   "source": [
    "movie.keys()"
   ]
  },
  {
   "cell_type": "code",
   "execution_count": null,
   "metadata": {
    "id": "Yl-77iR1Hwbj"
   },
   "outputs": [],
   "source": [
    "person = i.get_person(\"0424060\")\n",
    "print(person['name'])\n",
    "person['filmography']"
   ]
  },
  {
   "cell_type": "code",
   "execution_count": null,
   "metadata": {
    "id": "UW4TFYxzHwbj"
   },
   "outputs": [],
   "source": [
    "from rdflib import Graph\n",
    "from rdflib.plugins.stores.sparqlstore import SPARQLStore\n",
    "import pandas as pd\n",
    "\n",
    "graph = Graph(\"SPARQLStore\", identifier=\"http://dbpedia.org\")\n",
    "graph.open(\"http://dbpedia.org/sparql\")\n",
    "\n",
    "qres = graph.query('''\n",
    "                    PREFIX rdf: <http://www.w3.org/1999/02/22-rdf-syntax-ns#>\n",
    "                    PREFIX dbo: <http://dbpedia.org/ontology/>\n",
    "                    PREFIX yago: <http://dbpedia.org/class/yago/>\n",
    "                    SELECT ?s\n",
    "                    WHERE {?s ?p 'Scarlett Johansson'@en .        \n",
    "                            }\n",
    "                    '''\n",
    "                  )\n",
    "\n",
    "for row in qres:\n",
    "    print(row)"
   ]
  },
  {
   "cell_type": "code",
   "execution_count": null,
   "metadata": {
    "id": "jg1nXHZdHwbj"
   },
   "outputs": [],
   "source": [
    "person.keys()"
   ]
  },
  {
   "cell_type": "code",
   "execution_count": null,
   "metadata": {
    "id": "4VJfRZ8hHwbj"
   },
   "outputs": [],
   "source": []
  },
  {
   "cell_type": "markdown",
   "metadata": {
    "id": "PadcVSD0Hwbj"
   },
   "source": [
    "### Wprawka - Testy higieniczne, czyli czego brakuje mojej ontologii\n",
    "\n",
    "- Załaduj ontologię https://spec.edmcouncil.org/auto/ontology/master/latest/AboutAUTODev.rdf\n",
    "- Stwórz listę wszystkich odnośników (URL) importowanych w powyższej ontologii (skorzystaj z `owl:imports`)\n",
    "- Korzystając z listy importów, załaduj wszystkie importowane ontologie do jednego grafu\n",
    "- Napisz 2 kwerendy SPARQLowe, które sprawdzą, czy zasoby tych ontologii mają `rdfs:label` i `skos:definition`; kweredy te muszą zawierać \"WARN\" podobnie do kwerendy https://github.com/edmcouncil/fibo/blob/master/etc/testing/hygiene/testHygiene1103.sparql"
   ]
  },
  {
   "cell_type": "code",
   "execution_count": null,
   "metadata": {
    "id": "nD9Y3UjJHwbj"
   },
   "outputs": [],
   "source": [
    "import rdflib\n",
    "from rdflib import Graph\n",
    "from rdflib.namespace import OWL\n",
    "\n",
    "g = Graph()\n",
    "g.load(\"https://spec.edmcouncil.org/auto/ontology/master/latest/AboutAUTODev.rdf\")\n",
    "print(len(g))"
   ]
  },
  {
   "cell_type": "code",
   "execution_count": null,
   "metadata": {
    "id": "6ZZ-oxZLHwbj"
   },
   "outputs": [],
   "source": [
    "import_list = []\n",
    "for ontology_import in g.objects(None, OWL.imports):\n",
    "    import_list.append(ontology_import)\n",
    " \n",
    "for ontology_import in import_list:\n",
    "    print(ontology_import)\n",
    "    \n",
    "graph = Graph()\n",
    "for ontology_import in import_list:\n",
    "    graph.load(ontology_import)    "
   ]
  },
  {
   "cell_type": "code",
   "execution_count": null,
   "metadata": {
    "id": "xGaBdwL5Hwbj"
   },
   "outputs": [],
   "source": [
    "label_query = graph.query('''\n",
    "    PREFIX owl:   <http://www.w3.org/2002/07/owl#>\n",
    "    SELECT DISTINCT ?error\n",
    "    WHERE {\n",
    "      ?class a owl:Class .\n",
    "      FILTER NOT EXISTS {?class rdfs:label ?label}\n",
    "      FILTER (!isBlank(?class))\n",
    "      BIND (concat (\"WARN: Class \", str(?class), \" has no label.\") AS ?error)\n",
    "    }\n",
    "    ''')\n",
    "\n",
    "print(len(label_query))\n",
    "\n",
    "for row in label_query:\n",
    "    print(row.error)"
   ]
  },
  {
   "cell_type": "code",
   "execution_count": null,
   "metadata": {
    "id": "KpwHDCvbHwbk"
   },
   "outputs": [],
   "source": [
    "definition_query = graph.query('''\n",
    "                PREFIX skos: <http://www.w3.org/2004/02/skos/core#>\n",
    "                PREFIX owl:   <http://www.w3.org/2002/07/owl#>\n",
    "\n",
    "                SELECT DISTINCT ?error\n",
    "                WHERE {\n",
    "                  ?class a owl:Class .\n",
    "                  FILTER NOT EXISTS {?class skos:definition ?definition}\n",
    "                  FILTER (!isBlank(?class))\n",
    "                  BIND (concat (\"WARN: Class \", str(?class), \" has no definition.\") AS ?error)\n",
    "                }\n",
    "                ''')\n",
    "\n",
    "print(len(definition_query))\n",
    "\n",
    "for row in definition_query:\n",
    "    print(row.error)"
   ]
  },
  {
   "cell_type": "markdown",
   "metadata": {
    "id": "4PlbDcvlHwbk"
   },
   "source": [
    "### Wprawka - Poczet Królów Polskich"
   ]
  },
  {
   "cell_type": "markdown",
   "metadata": {
    "id": "4vZWz9PCHwbk"
   },
   "source": [
    "https://pl.wikipedia.org/wiki/Kr%C3%B3l_Polski"
   ]
  },
  {
   "cell_type": "code",
   "execution_count": null,
   "metadata": {
    "id": "zoV0V3yXHwbk"
   },
   "outputs": [],
   "source": [
    "from rdflib import Graph, URIRef, Namespace\n",
    "from rdflib.plugins.stores.sparqlstore import SPARQLStore\n",
    "\n",
    "dbo = Namespace(\"http://dbpedia.org/ontology/\")\n",
    "dbp = Namespace(\"http://dbpedia.org/property/\")"
   ]
  },
  {
   "cell_type": "code",
   "execution_count": null,
   "metadata": {
    "id": "1WpXDTzlHwbk",
    "outputId": "21653b89-5ee0-4a8e-dc36-3dd7dedbe689"
   },
   "outputs": [
    {
     "name": "stdout",
     "output_type": "stream",
     "text": [
      "http://dbpedia.org/resource/Stanisław_Poniatowski_(1676–1762)\n"
     ]
    }
   ],
   "source": [
    "graph = Graph(\"SPARQLStore\", identifier=\"http://dbpedia.org\")\n",
    "graph.open(\"http://dbpedia.org/sparql\")\n",
    "\n",
    "pop = graph.value(URIRef(\"http://dbpedia.org/resource/Stanisław_August_Poniatowski\"), dbp.father)\n",
    "\n",
    "print(pop)"
   ]
  },
  {
   "cell_type": "code",
   "execution_count": null,
   "metadata": {
    "id": "edRuGWWSHwbk"
   },
   "outputs": [],
   "source": [
    "from rdflib.namespace import RDF, SKOS\n",
    "\n",
    "graph = Graph(\"SPARQLStore\", identifier=\"http://dbpedia.org\")\n",
    "graph.open(\"http://dbpedia.org/sparql\")"
   ]
  },
  {
   "cell_type": "code",
   "execution_count": null,
   "metadata": {
    "id": "XmGzZ2XdHwbk"
   },
   "outputs": [],
   "source": [
    "hasFather = set()\n",
    "hasMother = set()"
   ]
  },
  {
   "cell_type": "code",
   "execution_count": null,
   "metadata": {
    "id": "SLRA0zPgHwbk"
   },
   "outputs": [],
   "source": [
    "qres = graph.query('''\n",
    "               PREFIX owl: <http://www.w3.org/2002/07/owl#>\n",
    "               PREFIX : <http://dbpedia.org/resource/>\n",
    "               PREFIX dbo: <http://dbpedia.org/ontology/>\n",
    "               PREFIX dbp: <http://dbpedia.org/property/>\n",
    "               SELECT ?s ?f ?m\n",
    "               WHERE {                  \n",
    "                       ?s a <http://dbpedia.org/class/yago/WikicatPolishMonarchs> .\n",
    "                       OPTIONAL{?s dbp:father ?f}\n",
    "                       OPTIONAL{?s dbp:mother ?m}\n",
    "                   }\n",
    "                   ''') \n",
    "\n",
    "for row in qres:\n",
    "    monarch = str(row[0])\n",
    "    monarch_father = str(row[1])\n",
    "    monarch_mother = str(row[2])\n",
    "#     print(monarch,\"\\n\",\"\\t\",monarch_father,\"\\n\",\"\\t\",monarch_mother)\n",
    "    if monarch_father != \"None\":\n",
    "        hasFather.add((monarch, monarch_father))\n",
    "    if monarch_mother != \"None\":\n",
    "        hasMother.add((monarch, monarch_mother))  \n",
    "\n"
   ]
  },
  {
   "cell_type": "code",
   "execution_count": null,
   "metadata": {
    "id": "94pzKWFFHwbk"
   },
   "outputs": [],
   "source": [
    "hasFather2 = set()\n",
    "for child_father in hasFather:\n",
    "    father = child_father[1]\n",
    "    father_iri = \"<\"+father+\">\"\n",
    "    qres = graph.query('''\n",
    "               PREFIX owl: <http://www.w3.org/2002/07/owl#>\n",
    "               PREFIX : <http://dbpedia.org/resource/>\n",
    "               PREFIX dbo: <http://dbpedia.org/ontology/>\n",
    "               PREFIX dbp: <http://dbpedia.org/property/>\n",
    "               SELECT ?f\n",
    "               WHERE {                  \n",
    "                       %s dbo:child ?f\n",
    "                   }\n",
    "                   ''' % father_iri) \n",
    "    for row in qres:\n",
    "        hasFather2.add((str(row[0]),father))"
   ]
  },
  {
   "cell_type": "code",
   "execution_count": null,
   "metadata": {
    "id": "I0OV7LvAHwbk"
   },
   "outputs": [],
   "source": [
    "hasMother2 = set()\n",
    "for child_mother in hasMother:\n",
    "    mother = child_mother[1]\n",
    "    if \"dbpedia.org/resource\" in mother:\n",
    "        mother_iri = \"<\"+mother+\">\"\n",
    "        qres = graph.query('''\n",
    "                   PREFIX owl: <http://www.w3.org/2002/07/owl#>\n",
    "                   PREFIX : <http://dbpedia.org/resource/>\n",
    "                   PREFIX dbo: <http://dbpedia.org/ontology/>\n",
    "                   PREFIX dbp: <http://dbpedia.org/property/>\n",
    "                   SELECT ?f\n",
    "                   WHERE {                  \n",
    "                           %s dbo:child ?f\n",
    "                       }\n",
    "                       ''' % mother_iri) \n",
    "        for row in qres:\n",
    "            hasMother2.add((str(row[0]),mother))"
   ]
  },
  {
   "cell_type": "code",
   "execution_count": null,
   "metadata": {
    "id": "ofTJqynyHwbk"
   },
   "outputs": [],
   "source": [
    "hasMother = hasMother.union(hasMother2)\n",
    "hasFather = hasFather.union(hasFather2)"
   ]
  },
  {
   "cell_type": "code",
   "execution_count": null,
   "metadata": {
    "id": "ExNbri23Hwbk"
   },
   "outputs": [],
   "source": [
    "hasMother"
   ]
  },
  {
   "cell_type": "code",
   "execution_count": null,
   "metadata": {
    "id": "tv1Ab6XWHwbk"
   },
   "outputs": [],
   "source": []
  }
 ],
 "metadata": {
  "colab": {
   "name": "rdflib.ipynb",
   "provenance": [],
   "toc_visible": true
  },
  "kernelspec": {
   "display_name": "Python 3",
   "language": "python",
   "name": "python3"
  },
  "language_info": {
   "codemirror_mode": {
    "name": "ipython",
    "version": 3
   },
   "file_extension": ".py",
   "mimetype": "text/x-python",
   "name": "python",
   "nbconvert_exporter": "python",
   "pygments_lexer": "ipython3",
   "version": "3.8.8"
  }
 },
 "nbformat": 4,
 "nbformat_minor": 1
}
