{
 "cells": [
  {
   "cell_type": "markdown",
   "id": "7c69d1c3",
   "metadata": {},
   "source": [
    "# Obszary zastosowań AI"
   ]
  },
  {
   "cell_type": "markdown",
   "id": "5c2fe46b",
   "metadata": {},
   "source": [
    "## Ogólny schemat działania AI"
   ]
  },
  {
   "cell_type": "markdown",
   "id": "94311cfc",
   "metadata": {},
   "source": [
    "###  Zastosowania sztucznej inteligencji\n",
    "\n",
    "\n",
    "<img src=\"../pliki_wlasne/zastosowania_ai.png\" width=\"700\"/>\n",
    "\n",
    "Obraz\n",
    "\n",
    "Dźwięk\n",
    "\n",
    "Tekst\n",
    "\n",
    "Przetwarzanie wstępne\n",
    "\n",
    "Ekstrakcja cech\n",
    "\n",
    "Selekcja cech\n",
    "\n",
    "Wektor cech (atrybutów)"
   ]
  },
  {
   "cell_type": "markdown",
   "id": "78b9796b",
   "metadata": {},
   "source": [
    "<img src=\"../pliki_wlasne/zastosowania_ai2.png\" width=\"700\"/>\n",
    "\n",
    "Wektory cech (atrybutów)\n",
    "\n",
    "Klasyfikacja\n",
    "\n",
    "- Metody sztucznej inteligencji, np. sieci neuronowe, algorytmy genetyczne\n",
    "\n",
    "Klasteryzacja\n",
    "\n",
    "- Metody sztucznej inteligencji, np. metody inspirowane biologicznie (algorytmy mrówkowe)\n",
    "\n"
   ]
  },
  {
   "cell_type": "markdown",
   "id": "25e5ce0c",
   "metadata": {},
   "source": [
    "### Przetwarzanie wstępne\n",
    "\n",
    "<span t=\"l1\">Obraz</span>\n",
    "- <span t=\"l2\">segmentacja</span>\n",
    "- <span t=\"l2\">filtrowanie</span>\n",
    "- <span t=\"l2\">przekształcenia afiniczne, np. obrót, skalowanie, przesunięcie</span>\n",
    "\n",
    "<span t=\"l1\">Dźwięk</span>\n",
    "- <span t=\"l2\">segmentacja </span>\n",
    "- <span t=\"l2\">filtrowanie</span>"
   ]
  },
  {
   "cell_type": "markdown",
   "id": "09ac3222",
   "metadata": {},
   "source": [
    "<span t=\"l1\">Tekst</span>\n",
    "- <span t=\"l2\">tokenizacja (podział tekstów na ciągi pojedynczych słów – tokenów)</span>\n",
    "- <span t=\"l2\">usuwanie słów o małym znaczeniu dla identyfikacji tekstów (np. spójników) – wg tzw. stop-listy (listy słów o małym znaczeniu)</span>\n",
    "- <span t=\"l2\">lematyzacja (sprowadzanie słów do ich form podstawowych)</span>\n",
    "- <span t=\"l2\">stemming (usuwanie ze słów końcówek fleksyjnych)</span>"
   ]
  },
  {
   "cell_type": "markdown",
   "id": "0d97c207",
   "metadata": {},
   "source": [
    "### Ekstrakcja cech\n",
    "\n",
    "<span t=\"l1\">Obrazy, dźwięki</span>\n",
    "- <span t=\"l2\">analiza w dziedzinie czasu,</span>\n",
    "- <span t=\"l2\">analiza w dziedzinie częstotliwości (transformacja Fouriera),</span>\n",
    "- <span t=\"l2\">analiza czasowo-częstotliwościowa (transformacje falkowe).</span>"
   ]
  },
  {
   "cell_type": "markdown",
   "id": "19c6eb03",
   "metadata": {},
   "source": [
    "<span t=\"l1\">Tekst:</span>\n",
    "- <span t=\"l2\">wektory binarne (np.: 0 – term nie występuje w tekście, 1 – term występuje w tekście)</span>\n",
    "- <span t=\"l2\">wektory n-gramów -wystąpienia sekwencji n termów, np.: \n",
    "    - pojedyncze wystąpienia (1-gramy, unigramy), \n",
    "    - wystąpienia dwójek (2-gramy, bigramy), \n",
    "    - wystąpienia trójek (3-gramy, trigramy), \n",
    "    - ...</span>"
   ]
  },
  {
   "cell_type": "markdown",
   "id": "268127e6",
   "metadata": {},
   "source": [
    "<span t=\"l1\">Tekst:</span>\n",
    "- <span t=\"l2\">wektory częstości termów TF (term frequency)</span>\n",
    "\n",
    "<span t=\"l2\">$$tf_{ij}=\\frac{n_{ij}}{\\sum_{k} n_{kj} } $$</span>\n",
    "\n",
    "- <span t=\"l2\">$n_{ij}$ – liczba wystąpień termu $i$-tego w dokumencie $j$-tym</span>"
   ]
  },
  {
   "cell_type": "markdown",
   "id": "307cfcd6",
   "metadata": {},
   "source": [
    "Tekst:\n",
    "- wektory częstości termów – odwrotnej częstości w dokumentach TF-IDF (term frequency - inverse document frequency).\n",
    "\n",
    "- $tfidf_{ij}=tf_{ij}idf_{i}$\n",
    "- $idf_{i}=\\log \\frac{card(D) }{card(\\{d in D: t_i \\in d \\})} $ \n",
    "- $t_i$ – term $i$-ty\n",
    "- $D$ – zbiór wszystkich dokumentów"
   ]
  },
  {
   "cell_type": "markdown",
   "id": "d7c22517",
   "metadata": {},
   "source": [
    "## Obszary zastosowań AI"
   ]
  },
  {
   "cell_type": "markdown",
   "id": "0aa7e708",
   "metadata": {},
   "source": [
    "### Widzenie komputerowe (*computer vision*)\n",
    "- klasyfikacja obrazów (*image classification*, *object recognition*)\n",
    "- rozpoznawanie obiektów na zdjęciu (*face recognition*)\n",
    "- wykrywanie obiektów (*object detection*)\n",
    "- segmentacja obrazów (*image segmentation*)\n",
    "- śledzenie obiektów w wideo (*tracking*)"
   ]
  },
  {
   "cell_type": "markdown",
   "id": "e90a41f2",
   "metadata": {},
   "source": [
    "### Przetwarzanie języka naturalnego (*natural language processing*)\n",
    "- klasyfikacja tekstu (*text classification*)\n",
    "    - analiza sentymentu\n",
    "- wyszukiwanie informacji (*information retrival*)\n",
    "- rozpoznawanie nazw własnych (*name entity recognition*)\n",
    "- tłumaczenie maszynowe (*machine translation*)\n",
    "- przygotowanie tekstu do innych działań (*preprocessing*): parsowanie, rozpoznawanie części mowy (*parsing*, *part-of-speech tagging*)"
   ]
  },
  {
   "cell_type": "markdown",
   "id": "a067f377",
   "metadata": {},
   "source": [
    "### Przetwarzanie mowy\n",
    "- rozpoznawanie mowy (*speech recognition*); speech2text\n",
    "- rozpoznawanie słowa ... (*trigger word detection*, *wakeword detection*)\n",
    "- speaker id - kto mówi\n",
    "- text2speech (*speech synthesis*)"
   ]
  },
  {
   "cell_type": "markdown",
   "id": "b24d24e5",
   "metadata": {},
   "source": [
    "### Robotyka\n",
    "- percepcja\n",
    "- planowanie działania\n",
    "- wykonywanie i kontrola działania"
   ]
  },
  {
   "cell_type": "markdown",
   "id": "b7c2a9f5",
   "metadata": {},
   "source": [
    "### Dane strukturalne (tabele)\n",
    "- predykacja"
   ]
  },
  {
   "cell_type": "markdown",
   "id": "e908177e",
   "metadata": {},
   "source": [
    "### Dane niestrukturalne\n",
    "- klasteryzacja, analiza skupień (clustering)"
   ]
  },
  {
   "cell_type": "markdown",
   "id": "fda57be7",
   "metadata": {},
   "source": [
    "### Transfer learning (głównie używana w computer vision)"
   ]
  },
  {
   "cell_type": "markdown",
   "id": "3a4ad7d1",
   "metadata": {},
   "source": [
    "### Reinforcement learning (głównie gry)\n",
    "- wymaga dużo danych"
   ]
  },
  {
   "cell_type": "markdown",
   "id": "fa4248c9",
   "metadata": {},
   "source": [
    "### GANs (Generative Adversarial Network)\n",
    "- tworzy nowe rzeczy z istniejących (np. zdjęcia)"
   ]
  },
  {
   "cell_type": "markdown",
   "id": "2bddf165",
   "metadata": {
    "id": "2bddf165"
   },
   "source": [
    "### Grafy wiedzy"
   ]
  },
  {
   "cell_type": "markdown",
   "id": "76e04ba2",
   "metadata": {
    "id": "76e04ba2"
   },
   "source": [
    "## Bibliografia\n",
    "\n",
    "- [AI Transformation Playbook](https://landing.ai/wp-content/uploads/2020/05/LandingAI_Transformation_Playbook_11-19.pdf)\n",
    "- [DeepLearning.ai](https://www.deeplearning.ai/courses/)"
   ]
  },
  {
   "cell_type": "code",
   "execution_count": null,
   "id": "1094df52",
   "metadata": {},
   "outputs": [],
   "source": []
  }
 ],
 "metadata": {
  "kernelspec": {
   "display_name": "Python 3",
   "language": "python",
   "name": "python3"
  },
  "language_info": {
   "codemirror_mode": {
    "name": "ipython",
    "version": 3
   },
   "file_extension": ".py",
   "mimetype": "text/x-python",
   "name": "python",
   "nbconvert_exporter": "python",
   "pygments_lexer": "ipython3",
   "version": "3.8.13"
  }
 },
 "nbformat": 4,
 "nbformat_minor": 5
}
