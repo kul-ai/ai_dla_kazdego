{
 "cells": [
  {
   "cell_type": "markdown",
   "id": "1474272f",
   "metadata": {
    "id": "1474272f"
   },
   "source": [
    "# AI w firmie"
   ]
  },
  {
   "cell_type": "markdown",
   "id": "04fe8c66",
   "metadata": {},
   "source": [
    "## 5 kroków ku firmie AI"
   ]
  },
  {
   "cell_type": "markdown",
   "id": "958cc814",
   "metadata": {},
   "source": [
    "### AI Transformation Playbook\n",
    "\n",
    "<span t=\"l1\">W [AI Transformation Playbook](https://landing.ai/wp-content/uploads/2020/05/LandingAI_Transformation_Playbook_11-19.pdf), *How to lead your company into the AI era*, znajdujemy instrukcję, 5 kroków, które należy wykonać, aby zmianić firmę w firmę stosującą, a może nawet oferującą, rozwiązania AI.</span>"
   ]
  },
  {
   "cell_type": "markdown",
   "id": "41b763f6",
   "metadata": {},
   "source": [
    "### 1. Wykonaj projekt pilotażowy, aby nabrać rozpędu (ang. *Execute pilot projects to gain momentum*)\n",
    "- <span t=\"l1\">ważne, aby odnieść mały sukces na początku; można zrobić małą rzecz</span>\n",
    "- <span t=\"l1\">zrobić coś co można ukończyć w 6-12 miesięcy</span>\n",
    "- <span t=\"l1\">można zlecić na zawenątrz</span>"
   ]
  },
  {
   "cell_type": "markdown",
   "id": "067057ee",
   "metadata": {},
   "source": [
    "### 2. Zbuduj zespół AI wewnątrz firmy (ang. *Build an in-house AI team*)\n",
    "- <span t=\"l1\">połączyć zespół z innymi zespołami</span>\n",
    "- <span t=\"l1\">zespół może podlegać bezpośrednio CTO, CIO, CDO lub można powołać CAIO</span>\n",
    "- <span t=\"l1\">team AI powinien mieć swój budżet na początku, ale z czasem musi pokazać swoją wartość</span>"
   ]
  },
  {
   "cell_type": "markdown",
   "id": "4f14646f",
   "metadata": {},
   "source": [
    "### 3. Zapewnij szerokie szkolenia AI (zespołowi AI, ale również menadżerom) (ang. *Provide broad AI training*)\n",
    "- <span t=\"l1\">executives i senior business leaders - wiedza czym jest AI i jakie znaczenie może mieć w firmie, strategia AI, alokacja środków (~4h)</span>\n",
    "- <span t=\"l1\">liderzy projektów AI - ocena biznesowa i techniczna wykonalności projektów AI, alokacja środków, monitoriwanie postępów (~12h)</span>\n",
    "- <span t=\"l1\">stażyści, przyszli inżynierowie AI - jak budować i wypuszczaś produkty AI, jak pozyskiwać dane, wykonywać projekty AI</span>"
   ]
  },
  {
   "cell_type": "markdown",
   "id": "f861dc60",
   "metadata": {},
   "source": [
    "### 4. Zdefiniuj strategię AI twojej firmy (ang. *Develop an AI strategy*)\n",
    "- <span t=\"l1\">nie budujemy strategii na początku, bo nie znamy jeszcze możliwości AI, nie czujemy tego</span>\n",
    "- <span t=\"l1\">jak wykorzystać AI, aby zyskać przewagę w firmie</span>\n",
    "- <span t=\"l1\">utworzyć strategię zgodną z *Virtuous Cycle of AI*: **lepszy produkt -> więcej użytkowników -> więcej danych -> lepszy produkt**</span>\n",
    "- utworzyć strategię dot. danych</span>\n",
    "    - <span t=\"l2\">jak pozyskiwać dane</span>\n",
    "    - <span t=\"l2\">łączenie danych (unifier data warehouse)</span>\n",
    "- <span t=\"l1\">jak połączyć AI z istniejącymi rozwiązaniami</span>\n",
    "- <span t=\"l1\">zastanowić się w jaki sposób AI może ulepszyć istniejące strategie (zwiąkszyć sprzedawalność, zmniejszyć koszty, etc)</span>"
   ]
  },
  {
   "cell_type": "markdown",
   "id": "80155f0f",
   "metadata": {
    "id": "80155f0f"
   },
   "source": [
    "### 5. Wypracuj komunikację wewnętrzną i zewnętrzną (ang. *Develop internal and external communications*)\n",
    "- <span t=\"l1\">komunikacja z inwesrorami</span>\n",
    "- <span t=\"l1\">konunikacja z administracją rządową</span>\n",
    "- <span t=\"l1\">edukacja użytkowników</span>\n",
    "- <span t=\"l1\">rekrutacja</span>\n",
    "- <span t=\"l1\">konunikacja wewnątrz firmy; wyjaśnianie możliwości, rozwiewanie lęków</span>"
   ]
  },
  {
   "cell_type": "markdown",
   "id": "97ec12f0",
   "metadata": {
    "id": "97ec12f0"
   },
   "source": [
    "## Jakie projekty AI mają szansę powodzenia?"
   ]
  },
  {
   "cell_type": "markdown",
   "id": "cc25c363",
   "metadata": {},
   "source": [
    "### Reguła jednej sekundy"
   ]
  },
  {
   "cell_type": "markdown",
   "id": "689e0bd6",
   "metadata": {
    "id": "689e0bd6"
   },
   "source": [
    "1. Andrew Ng wprowadził regułę mówiącą, że jeśli jakieś **zadanie zajmuje mniej niż 1 sekundę twojego myślenia**, to jest duże prawdopodobieństwo, że zostanie ono wcześniej czy później zautomatyzowane przez AI. Na przykład, rozpoznanie, czy e-mail jest spamem, zrozumienie, co ktoś do nas mówi, sprawdzenie, czy nasz smartfon nie jest uszkodzony mechanicznie, zrozumienie intencji użytkownika na podstawie tego co napisał (w ograniczonym zakresie), itp. \n",
    "\n",
    "2. **Duża ilość danych**, gdzie mamy wyraźnie określone wejście X i wyjście y, daje szansę na sukces (choć go nie gwarantuje). To różnica w uczeniu się maszyny i człowieka. \n",
    "\n",
    "AI może mieć duże problemy, gdy będziemy starać się nauczyć AI zadania skomplikowanego dodatkowo mając niewiele danych (na przykład dla danego paragrafu tekstu rozpoznanie czy zawiera on definicję czy nie). Człowiek na podstawie kilku zdjęć potrafi zrozumieć pewne zjawisko (np. jak wygląda zapalenie płuc an zdjęciu rendgenowskim) podczas, gdy maszyna potrzebuje około 10 tysięcy zdjęć.\n",
    "\n",
    "Dodatkowo AI może mieć problemy, gdy dane treningowe będą różnić się od danych na których model ma ostatecznie pracować (np. zdjęcia będą inaczej naświetlone, będą miały zakłócenia lub będą robione pod innym kątem). Człowiek poradziłby sobie z tym problemem lepiej niż maszyna."
   ]
  },
  {
   "cell_type": "markdown",
   "id": "5c242692",
   "metadata": {
    "id": "5c242692"
   },
   "source": [
    "### W jaki sposób zrozumieć, czy projekt ma szanse powodzenia?\n",
    "\n",
    "1. Ocena technicznej wykonalności + ocena sensowności biznesowej. Ważny jest dialog pomiędzy ekspertem AI oraz ekspertem dziedzinowym. \n",
    "    - Ekspert AI powinien wyłożyć jakie są dziś możliwości AI\n",
    "    - Ekspert dziedzinowy powinien opowiedzieć o swojej dziedzinie i jakiego typu automatyzacja przyniosłaby wartość biznsową.\n",
    "2. Skupić na automatyzacji zadań/działań niż stanowisk pracy\n",
    "3. Zastanowić się jakie są głóne siły napędowe biznesu i jego bolączki; to mogą być dobre miejsca na AI\n",
    "4. Duża ilość danych może być dobrym punktem startu, ale nie zawsze trzeba czekać z rozpoczęciem projektu AI, gdy będziemy meić dużo danych. Można uzyskać wyniki na niewielkich zbiorach danych."
   ]
  },
  {
   "cell_type": "markdown",
   "id": "374494e2",
   "metadata": {
    "id": "374494e2"
   },
   "source": [
    "### Jak sprawdzić, czy projekt AI jest wart rozpoczęcia\n",
    "\n",
    "Ocena wykonalności technicznej\n",
    "- czy system AI będzie wstanie osiągnąć oczykiwane rezulaty\n",
    "- jak wiele danych potrzeba i czy jest szansa na pozyskanie tych danych\n",
    "- analiza ram czasowych\n",
    "\n",
    "Ocena biznesowa\n",
    "- czy AI obniży koszty np. poprzez automatyzację niektórych zadań\n",
    "- czy AI zwiększy przychody\n",
    "- AI urochomi nowy produkt lub serwis\n",
    "\n",
    "Ocena etyczna\n",
    "- ..."
   ]
  },
  {
   "cell_type": "markdown",
   "id": "3156a18f",
   "metadata": {
    "id": "3156a18f"
   },
   "source": [
    "### Kryteria powodzenia projektu\n",
    "\n",
    "- dokładność w procentach, np. 99%; lub bardziej złożone miary jak czas odpowiedzi w relacji do dokładności; albo porównanie z eksperarmi dziedzinowymi\n",
    "    - zbiór testowy, aby móc ocenić\n",
    "    - nigdy nie oczekuj 100% (bo za mało danych, bo szum w danych)"
   ]
  },
  {
   "cell_type": "markdown",
   "id": "bf57d722",
   "metadata": {
    "id": "bf57d722"
   },
   "source": [
    "### Pamiętaj\n",
    "\n",
    "1. AI nie rozwiąże wszystkich problemów. Techniczna i biznasowa ocena wykonalności jest bardzo ważna.\n",
    "  - nie bądź zbyt optymistyczny, ale też zbyt pesymistyczny (*Goldilocks rule*)\n",
    "2. Aby znaleźć ciekawe i wykonalne zastosowanie AI w firmi trzeba łączyć ekspertów AI ze specjalistami od biznesu\n",
    "3. Projekty AI zwykle nie dają oczekiwanych wyników za pierwszym razem; od samego początku miej świadomość procesu iteracyjnego\n",
    "4. Postaw wymagania projektowi AI za pomocą kamieni milowych, czasu oraz KPIs\n",
    "5. Zacznij projekt AI z zasobami jakie masz. Kolejne projekty będą lepsze od poprzednich!"
   ]
  },
  {
   "cell_type": "markdown",
   "id": "F8woZyK3vzcQ",
   "metadata": {
    "id": "F8woZyK3vzcQ"
   },
   "source": [
    "### Problemy i ograniczenia AI\n",
    "\n",
    "1. Problem z wydajnością; zwykle potrzeba dużo danych, aby osiągnąć dobre wyniki.\n",
    "2. Problem z wyjaśnieniem decyzji generowanych przez ML (*black box*)\n",
    "3. Stroniczość i uprzedzenia (biased AI)\n",
    "  - stereotypy\n",
    "  - kredyty\n",
    "  - rozwiązania\n",
    "    - \"zero out\" the bias in words\n",
    "    - dane niestronnicze\n",
    "    - transparentność i audyt\n",
    "    - różnorodność w zespole AI\n",
    "4. AI można oszukać\n",
    "  - Adversarial attacks\n",
    "    - np. małe zmieny w pikselach zdjęć\n",
    "  - Fizyczne ataki\n",
    "    - okulary i Milla Jovovich\n",
    "    - graffiti na znakach drogowych\n",
    "    - banan i naklejka\n",
    "  - DeepFakes\n",
    "  - Zagrożenie dla prywatności; nadzór\n",
    "  - generowanie fake news\n",
    "\n",
    "\n"
   ]
  },
  {
   "cell_type": "markdown",
   "id": "lEX747RW2arf",
   "metadata": {
    "id": "lEX747RW2arf"
   },
   "source": [
    "### Wpływ na ekonomię i miejsca pracy\n",
    "\n",
    "1. AI jako sposób na przeskoczenie pewnych etapów rozwoju (historia z telefonami komórkowymi, czy płatnością online czy BC)\n",
    "  - Skupić się na tym w czym ekonomia kraju jest dobra (nie konkurować z gigantami)\n",
    "  - Partnerstwo prywatno-publiczne, aby przyspieszyć\n",
    "  - Inwestycja w edukację\n",
    "2. AI a miejsca pracy (McKinsy Global Institute)\n",
    "  - Do 2030 \n",
    "    - 400-800 mln miejsc pracy zostanie zastąpiona przez AI\n",
    "      - ocana na podstawie zadań związanych z miejcem pracy\n",
    "    - 555-890 mln miejsc pracy zostanie utworzona dzięki AI\n",
    "      - nie potrafimy sobie wielu z nich wyobrazić (np. optymalizator ruchu dronów, projektant ubrań drukowanych przez drukarki 3D, etc.)\n",
    "  - OECD ocania, że nie da się zautomatyzować\n",
    "    - interakcje międzyludzkie\n",
    "  - Co robić, gdy nie ma pracy dla ludzi z naszym wyksztalceniem?\n",
    "    - pieniądze za samorozwój\n",
    "    - edukacja przez całe życie\n",
    "  - Jak się przygotować na zmiany?\n",
    "    - uczyć się AI, ale nie przestawać robić tego co robimy\n"
   ]
  },
  {
   "cell_type": "markdown",
   "id": "02b4d90d",
   "metadata": {
    "id": "02b4d90d"
   },
   "source": [
    "## Etapy projektu AI"
   ]
  },
  {
   "cell_type": "markdown",
   "id": "fa46a76d",
   "metadata": {},
   "source": [
    "### Etapy pojektu AI"
   ]
  },
  {
   "cell_type": "markdown",
   "id": "cf18ca93",
   "metadata": {
    "id": "cf18ca93"
   },
   "source": [
    "1. Zbieranie/pozyskiwanie danych (obrazów, plików dzwiękowych, tekstu, etc)\n",
    "2. Trenowanie modelu \n",
    "    - w procesie iteracyjnym do momentu, aż zostaną uzyskane oczekiwane wyniki\n",
    "3. Wdrożenie modelu\n",
    "4. Analiza wyników\n",
    "    - jeśli po wrożeniu nie jest utrzymamy zadawalający poziom, należy powrócić do danych, dokonać analizy, ew. zmian i/lub uzupełnień, i na nowo dokonać treniongu modelu."
   ]
  },
  {
   "cell_type": "markdown",
   "id": "cd6e06bb",
   "metadata": {},
   "source": [
    "## Członkowie zespołu AI"
   ]
  },
  {
   "cell_type": "markdown",
   "id": "9c4978f3",
   "metadata": {
    "id": "9c4978f3"
   },
   "source": [
    "### Członkowie zespołu AI\n",
    "\n",
    "- Software Engineer - do zadań typowych IT\n",
    "- Machine Learning Engineer - tworzenie algorytmów ML, uczenie\n",
    "- Machine Learning Researcher - analiza literatury i nowinek\n",
    "- Applied Machine Learning Scientist - łączy dwie powyższe funkcje\n",
    "- Data Scientist - analiza danych, wydobywanie wiedzy z danych, tworzenie prezentacji\n",
    "- Date Engineer - organizacja danych, ich bezpieczeństwo i łatwy dostęp\n",
    "- AI Product Manager - decyduje co jest wykonalne, co mamy tworzyć i co ma wartość dla firmy"
   ]
  },
  {
   "cell_type": "markdown",
   "id": "76e04ba2",
   "metadata": {
    "id": "76e04ba2"
   },
   "source": [
    "## Bibliografia\n",
    "\n",
    "- [AI Transformation Playbook](https://landing.ai/wp-content/uploads/2020/05/LandingAI_Transformation_Playbook_11-19.pdf)\n",
    "- [DeepLearning.ai](https://www.deeplearning.ai/courses/)"
   ]
  }
 ],
 "metadata": {
  "colab": {
   "name": "organizacja_projektow_ai.ipynb",
   "provenance": [],
   "toc_visible": true
  },
  "kernelspec": {
   "display_name": "Python 3",
   "language": "python",
   "name": "python3"
  },
  "language_info": {
   "codemirror_mode": {
    "name": "ipython",
    "version": 3
   },
   "file_extension": ".py",
   "mimetype": "text/x-python",
   "name": "python",
   "nbconvert_exporter": "python",
   "pygments_lexer": "ipython3",
   "version": "3.8.13"
  }
 },
 "nbformat": 4,
 "nbformat_minor": 5
}
