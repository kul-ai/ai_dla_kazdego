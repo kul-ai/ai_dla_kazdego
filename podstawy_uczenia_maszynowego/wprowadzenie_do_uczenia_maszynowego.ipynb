{
 "cells": [
  {
   "cell_type": "markdown",
   "id": "652ecdd4",
   "metadata": {},
   "source": [
    "# Wprowadzenie do uczenia maszynowego"
   ]
  },
  {
   "cell_type": "markdown",
   "id": "68db9325",
   "metadata": {},
   "source": [
    "## Uczenie nadzorowane i nienadzorowane"
   ]
  },
  {
   "cell_type": "markdown",
   "id": "b49ba23f",
   "metadata": {},
   "source": [
    "### Uczenie nadzorowane\n",
    "\n",
    "<span t=\"l1\">W uczeniu nadzorowanym (aka uczeniu z nauczycielem) mamy wejście $X$, które jest wektorem cech opisujących dany obiekt, oraz wyjście $y$.</span> Wyjście może być różnie zdefiniowane.\n",
    "\n",
    "<div t=\"t\">\n",
    "    \n",
    "|    \t|                     $X$                     \t|                     $y$                   |\n",
    "|:--:\t|:-----------------------------------------:\t|:----------------------------------------:\t|\n",
    "| 1. \t|          cechy opisujące działki          \t|                   cena                   \t|\n",
    "| 2. \t|                 plik audio                \t|            transkrypcja tekstu           \t|\n",
    "| 3. \t|                tekst polski               \t|          tłumaczenie angielskie          \t|\n",
    "| 4. \t|        dane o użytkowniku, reklama        \t|       1 - kliknie, 0 - nie kliknie       \t|\n",
    "| 5. \t|               treści emaila               \t|         1 - spam, 0 - brak spamu         \t|\n",
    "| 6. \t|          obraz z kamery telefonu          \t| 1 - odblokowanie, 0 - blokada            \t|\n",
    "| 7. \t| obraz produktu z kamery przemysłowej  \t    | 1 - brak defektu, 0 - defekt             \t|\n",
    "| 8. \t|   tekst komentarza dotyczący produktu  \t    | 1 - ocena pozytywna, 0 - ocena negatywna \t|\n",
    "\n",
    "</div>\n"
   ]
  },
  {
   "cell_type": "markdown",
   "id": "a208eb5b",
   "metadata": {},
   "source": [
    "### Uczenie nienadzorowane\n",
    "..."
   ]
  },
  {
   "cell_type": "markdown",
   "id": "ae97e7af",
   "metadata": {},
   "source": [
    "## Dane strukturalne i niestrukturalne"
   ]
  },
  {
   "cell_type": "markdown",
   "id": "f4b5dbc9",
   "metadata": {},
   "source": [
    "### Dane strukturalne\n",
    "\n",
    "Dane strukturalne to w zasadzie dane tabelaryczne, czyli bazy danych, arkusze kalkulacyjne, itp."
   ]
  },
  {
   "cell_type": "markdown",
   "id": "40b94154",
   "metadata": {},
   "source": [
    "### Dane niestrukturalne\n",
    "\n",
    "Dane niestrukturalne (nieustrukturyzowane) to obrazy, tekst oraz dzwięk."
   ]
  },
  {
   "cell_type": "markdown",
   "id": "869a885a",
   "metadata": {},
   "source": [
    "## Uczenie maszynowe płytkie i głębokie"
   ]
  },
  {
   "cell_type": "markdown",
   "id": "1bcaea27",
   "metadata": {},
   "source": [
    "### Uczenie maszynowe\n",
    "\n",
    "Sztuczna inteligencja to narzędzia i algorytmy, które automatyzują procesy myślowe wykonywane przez ludzi. \n",
    "\n",
    "Uczenie maszynowe...\n",
    "\n",
    "<img src=\"../pliki_yEd/ai_ml_dl.png\" style=\"height:300px;\">"
   ]
  },
  {
   "cell_type": "markdown",
   "id": "768d6bcf",
   "metadata": {},
   "source": [
    "### Płytkie uczenie maszynowe\n",
    "\n",
    "- modele probabilistyczne\n",
    "    - naiwny klasyfikator bayesowski\n",
    "    - regresja logistyczna\n",
    "    \n",
    "- metody jądrowe\n",
    "    - metoda vektorów nośnych (SVM)\n",
    "\n",
    "- drzewa decyzyjne\n",
    "    - drzewa losowe\n",
    "    - gradient boosting\n",
    "\n",
    "... [Introduction to Shallow Machine Learning](https://www.linkedin.com/pulse/introduction-shallow-machine-learning-ayman-mahmoud/)"
   ]
  },
  {
   "cell_type": "markdown",
   "id": "9e628d5b",
   "metadata": {},
   "source": [
    "### Głębokie uczenie maszynowe\n",
    "\n",
    "Głębokie ucznie maszynowe opiera się na sztucznych sieciach neuronowych (ang. *Artificial Neural Network*). Dziś w zasadzie zamiennie używa się terminów głęboka sieć neuronowa i sieć neuronowa. Podstawowym elementem sieci neuronowej jest sztuczny neuron, którego zadaniem jest znalezienie odpowiedniej funkcji odwzorowującej wejście $X$ na wyjście $y$.\n",
    "\n",
    "<img src=\"../pliki_yEd/neuron.png\" height=100px/>\n",
    "\n"
   ]
  },
  {
   "cell_type": "markdown",
   "id": "caf1682e",
   "metadata": {},
   "source": [
    "<continue/>\n",
    "\n",
    "Można widzieć sieć neuronową jako \"black box\", której celem jest odwzorowanie wejścia $X$ na wyjęcie $y$.\n",
    "\n",
    "<img src=\"../pliki_yEd/siec_neuronowa2.png\" width=\"700\" />"
   ]
  },
  {
   "cell_type": "markdown",
   "id": "ca749120",
   "metadata": {},
   "source": [
    "<span t=\"c\"></span>\n",
    "\n",
    "$X$ może być dowolnym wektorem cech postaci numerycznej. Podobnie $y$, również musi być postaci liczbowej, np. $1$ będzie symbolizować popyt, a $0$ brak popytu.\n",
    "\n",
    "- sieci gęste\n",
    "- sieci rekurencyjne\n",
    "- sieci konwulacyjne\n",
    "\n",
    "Zbiory treniongowy i testowy..."
   ]
  },
  {
   "cell_type": "markdown",
   "id": "6674aa80",
   "metadata": {},
   "source": [
    "## <span t=\"slide_title\">Bibliografia</span>\n",
    "- <span t=\"l1\">Francois Chollet, Deep Learning with Python (first and second editions)</span>\n",
    "- [<span t=\"l1\">DeepLearning.ai</span>](DeepLearning.ai)\n",
    "- [<span t=\"l1\">https://www.linkedin.com/pulse/introduction-shallow-machine-learning-ayman-mahmoud/</span>](https://www.linkedin.com/pulse/introduction-shallow-machine-learning-ayman-mahmoud/)"
   ]
  }
 ],
 "metadata": {
  "kernelspec": {
   "display_name": "Python 3",
   "language": "python",
   "name": "python3"
  },
  "language_info": {
   "codemirror_mode": {
    "name": "ipython",
    "version": 3
   },
   "file_extension": ".py",
   "mimetype": "text/x-python",
   "name": "python",
   "nbconvert_exporter": "python",
   "pygments_lexer": "ipython3",
   "version": "3.8.13"
  }
 },
 "nbformat": 4,
 "nbformat_minor": 5
}
